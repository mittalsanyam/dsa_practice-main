{
 "cells": [
  {
   "cell_type": "markdown",
   "metadata": {},
   "source": [
    "# 2390. Removing Stars From a String\n",
    "**Level: Medium**\n",
    "[Problem Link](https://leetcode.com/problems/removing-stars-from-a-string/description/)\n",
    "\n",
    "You are given a string s, which contains stars *.\n",
    "\n",
    "In one operation, you can:\n",
    "\n",
    "Choose a star in s.\n",
    "\n",
    "Remove the closest non-star character to its left, as well as remove the star itself.\n",
    "\n",
    "Return the string after all stars have been removed.\n",
    "\n",
    "Note:\n",
    "\n",
    "The input will be generated such that the operation is always possible.\n",
    "\n",
    "It can be shown that the resulting string will always be unique.\n",
    " \n",
    "## Examples\n",
    "\n",
    "### Example 1:\n",
    "\n",
    "Input: s = \"leet**cod*e\"\n",
    "\n",
    "Output: \"lecoe\"\n",
    "\n",
    "Explanation: Performing the removals from left to right:\n",
    "- The closest character to the 1st star is 't' in \"leet**cod*e\". s becomes \"lee*cod*e\".\n",
    "- The closest character to the 2nd star is 'e' in \"lee*cod*e\". s becomes \"lecod*e\".\n",
    "- The closest character to the 3rd star is 'd' in \"lecod*e\". s becomes \"lecoe\".\n",
    "\n",
    "There are no more stars, so we return \"lecoe\".\n",
    "\n",
    "### Example 2:\n",
    "\n",
    "Input: s = \"erase*****\"\n",
    "\n",
    "Output: \"\"\n",
    "\n",
    "Explanation: The entire string is removed, so we return an empty string.\n",
    "\n",
    "## Constraints:\n",
    "\n",
    "- $1 <= s.length <= 10^5$\n",
    "- s consists of lowercase English letters and stars *.\n",
    "- The operation above can be performed on s."
   ]
  },
  {
   "cell_type": "markdown",
   "metadata": {},
   "source": [
    "## Solution"
   ]
  },
  {
   "cell_type": "code",
   "execution_count": 7,
   "metadata": {},
   "outputs": [
    {
     "name": "stdout",
     "output_type": "stream",
     "text": [
      "lecoe\n"
     ]
    }
   ],
   "source": [
    "from collections import deque\n",
    "def removeStars(s):\n",
    "    stack = []\n",
    "    p=0\n",
    "    for i in s:\n",
    "        if i==\"*\":\n",
    "            if p>0:\n",
    "                p=p-1\n",
    "                stack.pop()\n",
    "        else:\n",
    "            p=p+1\n",
    "            stack.append(i)\n",
    "    return \"\".join(stack)\n",
    "\n",
    "print(removeStars(\"leet**cod*e\"))"
   ]
  },
  {
   "cell_type": "code",
   "execution_count": 8,
   "metadata": {},
   "outputs": [
    {
     "name": "stdout",
     "output_type": "stream",
     "text": [
      "\n"
     ]
    }
   ],
   "source": [
    "print(removeStars(\"erase*****\"))"
   ]
  }
 ],
 "metadata": {
  "kernelspec": {
   "display_name": "base",
   "language": "python",
   "name": "python3"
  },
  "language_info": {
   "codemirror_mode": {
    "name": "ipython",
    "version": 3
   },
   "file_extension": ".py",
   "mimetype": "text/x-python",
   "name": "python",
   "nbconvert_exporter": "python",
   "pygments_lexer": "ipython3",
   "version": "3.12.2"
  }
 },
 "nbformat": 4,
 "nbformat_minor": 2
}
