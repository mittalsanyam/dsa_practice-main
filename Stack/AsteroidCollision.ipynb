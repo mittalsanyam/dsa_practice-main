{
 "cells": [
  {
   "cell_type": "markdown",
   "metadata": {},
   "source": [
    "# 735. Asteroid Collision\n",
    "**Level: Medium**\n",
    "\n",
    "[Problem Link](https://leetcode.com/problems/asteroid-collision/description/)\n",
    "\n",
    "We are given an array asteroids of integers representing asteroids in a row. The indices of the asteriod in the array represent their relative position in space.\n",
    "\n",
    "For each asteroid, the absolute value represents its size, and the sign represents its direction (positive meaning right, negative meaning left). Each asteroid moves at the same speed.\n",
    "\n",
    "Find out the state of the asteroids after all collisions. If two asteroids meet, the smaller one will explode. If both are the same size, both will explode. Two asteroids moving in the same direction will never meet.\n",
    "\n",
    "## Examples\n",
    "\n",
    "### Example 1:\n",
    "\n",
    "Input: asteroids = [5,10,-5]\n",
    "\n",
    "Output: [5,10]\n",
    "\n",
    "Explanation: The 10 and -5 collide resulting in 10. The 5 and 10 never collide.\n",
    "\n",
    "### Example 2:\n",
    "\n",
    "Input: asteroids = [8,-8]\n",
    "\n",
    "Output: []\n",
    "\n",
    "Explanation: The 8 and -8 collide exploding each other.\n",
    "\n",
    "### Example 3:\n",
    "\n",
    "Input: asteroids = [10,2,-5]\n",
    "\n",
    "Output: [10]\n",
    "\n",
    "Explanation: The 2 and -5 collide resulting in -5. The 10 and -5 collide resulting in 10.\n",
    " \n",
    "## Constraints:\n",
    "\n",
    "- $ 2 <= asteroids.length <= 10^4$\n",
    "- -1000 <= asteroids[i] <= 1000\n",
    "- asteroids[i] != 0"
   ]
  },
  {
   "cell_type": "markdown",
   "metadata": {},
   "source": [
    "## Solution"
   ]
  },
  {
   "cell_type": "code",
   "execution_count": 103,
   "metadata": {},
   "outputs": [
    {
     "name": "stdout",
     "output_type": "stream",
     "text": [
      "[5, 10]\n"
     ]
    }
   ],
   "source": [
    "def asteroidCollision(asteroids):\n",
    "    stack=[]\n",
    "    for a in asteroids:\n",
    "        flag=True\n",
    "        while stack and a<0<stack[-1]:\n",
    "            if -a>stack[-1]:\n",
    "                stack.pop()\n",
    "                continue\n",
    "            elif -a==stack[-1]:\n",
    "                stack.pop()\n",
    "            break\n",
    "        else:\n",
    "            stack.append(a)\n",
    "    return stack\n",
    "print(asteroidCollision([5,10,-5])) "
   ]
  },
  {
   "cell_type": "code",
   "execution_count": 104,
   "metadata": {},
   "outputs": [
    {
     "name": "stdout",
     "output_type": "stream",
     "text": [
      "[]\n"
     ]
    }
   ],
   "source": [
    "print(asteroidCollision([8,-8]))"
   ]
  },
  {
   "cell_type": "code",
   "execution_count": 105,
   "metadata": {},
   "outputs": [
    {
     "name": "stdout",
     "output_type": "stream",
     "text": [
      "[10]\n"
     ]
    }
   ],
   "source": [
    "print(asteroidCollision([10,2,-5]))"
   ]
  },
  {
   "cell_type": "code",
   "execution_count": 106,
   "metadata": {},
   "outputs": [
    {
     "name": "stdout",
     "output_type": "stream",
     "text": [
      "[-2, -1, 1, 2]\n"
     ]
    }
   ],
   "source": [
    "print(asteroidCollision([-2,-1,1,2]))"
   ]
  },
  {
   "cell_type": "code",
   "execution_count": 107,
   "metadata": {},
   "outputs": [
    {
     "name": "stdout",
     "output_type": "stream",
     "text": [
      "[-2, -2]\n"
     ]
    }
   ],
   "source": [
    "print(asteroidCollision([-2,-2,1,-1]))"
   ]
  },
  {
   "cell_type": "code",
   "execution_count": 108,
   "metadata": {},
   "outputs": [
    {
     "name": "stdout",
     "output_type": "stream",
     "text": [
      "[-2, -2, -2]\n"
     ]
    }
   ],
   "source": [
    "print(asteroidCollision([-2,-2,1,-2]))"
   ]
  }
 ],
 "metadata": {
  "kernelspec": {
   "display_name": "base",
   "language": "python",
   "name": "python3"
  },
  "language_info": {
   "codemirror_mode": {
    "name": "ipython",
    "version": 3
   },
   "file_extension": ".py",
   "mimetype": "text/x-python",
   "name": "python",
   "nbconvert_exporter": "python",
   "pygments_lexer": "ipython3",
   "version": "3.12.2"
  }
 },
 "nbformat": 4,
 "nbformat_minor": 2
}
