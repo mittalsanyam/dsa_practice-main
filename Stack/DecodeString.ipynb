{
 "cells": [
  {
   "cell_type": "markdown",
   "metadata": {},
   "source": [
    "# 394. Decode String\n",
    "**Level: Medium**\n",
    "[Problem Link](https://leetcode.com/problems/decode-string/description/)\n",
    "\n",
    "Given an encoded string, return its decoded string.\n",
    "\n",
    "The encoding rule is: k[encoded_string], where the encoded_string inside the square brackets is being repeated exactly k times. Note that k is guaranteed to be a positive integer.\n",
    "\n",
    "You may assume that the input string is always valid; there are no extra white spaces, square brackets are well-formed, etc. Furthermore, you may assume that the original data does not contain any digits and that digits are only for those repeat numbers, k. For example, there will not be input like 3a or 2[4].\n",
    "\n",
    "## Examples\n",
    "\n",
    "### Example 1:\n",
    "\n",
    "Input: s = \"3[a]2[bc]\"\n",
    "\n",
    "Output: \"aaabcbc\"\n",
    "\n",
    "### Example 2:\n",
    "\n",
    "Input: s = \"3[a2[c]]\"\n",
    "\n",
    "Output: \"accaccacc\"\n",
    "\n",
    "### Example 3:\n",
    "\n",
    "Input: s = \"2[abc]3[cd]ef\"\n",
    "\n",
    "Output: \"abcabccdcdcdef\"\n",
    "\n",
    "## Constraints:\n",
    "\n",
    "- 1 <= s.length <= 30\n",
    "- s consists of lowercase English letters, digits, and square brackets '[]'.\n",
    "- s is guaranteed to be a valid input.\n",
    "- All the integers in s are in the range [1, 300]."
   ]
  },
  {
   "cell_type": "markdown",
   "metadata": {},
   "source": [
    "## Solution"
   ]
  },
  {
   "cell_type": "code",
   "execution_count": 47,
   "metadata": {},
   "outputs": [],
   "source": [
    "def decodeString(s):\n",
    "    stack=[]\n",
    "    n=len(s)\n",
    "    num,alpha,res=0,\"\",\"\"\n",
    "    for i in range(n):\n",
    "        if s[i].isdigit():\n",
    "            num=num*10+int(s[i])\n",
    "        elif s[i].isalpha():\n",
    "            alpha+=s[i]\n",
    "        elif s[i]==\"[\":\n",
    "            stack.append((alpha,num))\n",
    "            alpha=\"\"\n",
    "            num=0\n",
    "        elif s[i]==\"]\":\n",
    "            letter,multiplier = stack.pop()\n",
    "            alpha= letter + (alpha*multiplier)\n",
    "    return alpha"
   ]
  },
  {
   "cell_type": "code",
   "execution_count": 48,
   "metadata": {},
   "outputs": [
    {
     "name": "stdout",
     "output_type": "stream",
     "text": [
      "aaabcbc\n"
     ]
    }
   ],
   "source": [
    "print(decodeString(\"3[a]2[bc]\"))"
   ]
  },
  {
   "cell_type": "code",
   "execution_count": 49,
   "metadata": {},
   "outputs": [
    {
     "name": "stdout",
     "output_type": "stream",
     "text": [
      "accaccacc\n"
     ]
    }
   ],
   "source": [
    "print(decodeString(\"3[a2[c]]\"))"
   ]
  },
  {
   "cell_type": "code",
   "execution_count": 50,
   "metadata": {},
   "outputs": [
    {
     "name": "stdout",
     "output_type": "stream",
     "text": [
      "abcabccdcdcdef\n"
     ]
    }
   ],
   "source": [
    "print(decodeString(\"2[abc]3[cd]ef\"))"
   ]
  },
  {
   "cell_type": "code",
   "execution_count": 51,
   "metadata": {},
   "outputs": [
    {
     "name": "stdout",
     "output_type": "stream",
     "text": [
      "zzzyypqjkjkefjkjkefjkjkefjkjkefyypqjkjkefjkjkefjkjkefjkjkefef\n"
     ]
    }
   ],
   "source": [
    "print(decodeString(\"3[z]2[2[y]pq4[2[jk]e1[f]]]ef\"))"
   ]
  }
 ],
 "metadata": {
  "kernelspec": {
   "display_name": "base",
   "language": "python",
   "name": "python3"
  },
  "language_info": {
   "codemirror_mode": {
    "name": "ipython",
    "version": 3
   },
   "file_extension": ".py",
   "mimetype": "text/x-python",
   "name": "python",
   "nbconvert_exporter": "python",
   "pygments_lexer": "ipython3",
   "version": "3.12.2"
  }
 },
 "nbformat": 4,
 "nbformat_minor": 2
}
