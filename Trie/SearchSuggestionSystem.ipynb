{
 "cells": [
  {
   "cell_type": "markdown",
   "metadata": {},
   "source": [
    "# 1268. Search Suggestions System\n",
    "**Level: Medium**\n",
    "\n",
    "[Problem Statement](https://leetcode.com/problems/search-suggestions-system/description/)\n",
    "\n",
    "You are given an array of strings products and a string searchWord.\n",
    "\n",
    "Design a system that suggests at most three product names from products after each character of searchWord is typed. Suggested products should have common prefix with searchWord. If there are more than three products with a common prefix return the three lexicographically minimums products.\n",
    "\n",
    "Return a list of lists of the suggested products after each character of searchWord is typed.\n",
    "\n",
    "## Examples\n",
    "\n",
    "### Example 1:\n",
    "\n",
    "Input: products = [\"mobile\",\"mouse\",\"moneypot\",\"monitor\",\"mousepad\"], searchWord = \"mouse\"\n",
    "\n",
    "Output: [[\"mobile\",\"moneypot\",\"monitor\"],[\"mobile\",\"moneypot\",\"monitor\"],[\"mouse\",\"mousepad\"],[\"mouse\",\"mousepad\"],[\"mouse\",\"mousepad\"]]\n",
    "\n",
    "Explanation: products sorted lexicographically = [\"mobile\",\"moneypot\",\"monitor\",\"mouse\",\"mousepad\"].\n",
    "\n",
    "After typing m and mo all products match and we show user [\"mobile\",\"moneypot\",\"monitor\"].\n",
    "\n",
    "After typing mou, mous and mouse the system suggests [\"mouse\",\"mousepad\"].\n",
    "\n",
    "### Example 2:\n",
    "Input: products = [\"havana\"], searchWord = \"havana\"\n",
    "\n",
    "Output: [[\"havana\"],[\"havana\"],[\"havana\"],[\"havana\"],[\"havana\"],[\"havana\"]]\n",
    "\n",
    "Explanation: The only word \"havana\" will be always suggested while typing the search word.\n",
    "\n",
    "Constraints:\n",
    "\n",
    "- 1 <= products.length <= 1000\n",
    "- 1 <= products[i].length <= 3000\n",
    "- $1 <= sum(products[i].length) <= 2 * 10^4$\n",
    "- All the strings of products are unique.\n",
    "- products[i] consists of lowercase English letters.\n",
    "- 1 <= searchWord.length <= 1000\n",
    "- searchWord consists of lowercase English letters."
   ]
  },
  {
   "cell_type": "markdown",
   "metadata": {},
   "source": [
    "## Solution"
   ]
  },
  {
   "cell_type": "code",
   "execution_count": 5,
   "metadata": {},
   "outputs": [],
   "source": [
    "class Trie:\n",
    "    def __init__(self):\n",
    "        self.tree={}\n",
    "\n",
    "    def insert(self,wordlist):\n",
    "        for word in wordlist:\n",
    "            word=word+\"?\"\n",
    "            temp = self.tree\n",
    "            for c in word:\n",
    "                if c not in temp.keys():\n",
    "                    temp[c]={}\n",
    "                temp=temp[c]\n",
    "    \n",
    "    def returnWords(self,prefix):\n",
    "        count=3\n",
    "        temp = self.tree\n",
    "        flag=True\n",
    "        for c in prefix:\n",
    "            if c in temp.keys():\n",
    "                temp=temp[c]\n",
    "            else:\n",
    "                flag=False\n",
    "                break\n",
    "        if not flag:\n",
    "            return []\n",
    "        word = prefix\n",
    "        stack = []\n",
    "        stack.append((word,temp))\n",
    "        wordlist=[]\n",
    "        while stack:\n",
    "            word,temp = stack.pop()\n",
    "            for i in temp.keys():\n",
    "                if i==\"?\":\n",
    "                    wordlist.append(word)\n",
    "                else:\n",
    "                    stack.append((word+i,temp[i]))\n",
    "        wordlist.sort()\n",
    "        if len(wordlist)>3:\n",
    "            wordlist=wordlist[:3]\n",
    "        return wordlist\n",
    "\n",
    "\n",
    "def suggestedProducts(products,searchWord):\n",
    "    trie=Trie()\n",
    "    trie.insert(products)\n",
    "    productsList= []\n",
    "    n = len(searchWord)\n",
    "    for i in range(n):\n",
    "        productsList.append(trie.returnWords(searchWord[:i+1]))\n",
    "    return productsList"
   ]
  },
  {
   "cell_type": "code",
   "execution_count": 6,
   "metadata": {},
   "outputs": [
    {
     "name": "stdout",
     "output_type": "stream",
     "text": [
      "[['mobile', 'moneypot', 'monitor'], ['mobile', 'moneypot', 'monitor'], ['mouse', 'mousepad'], ['mouse', 'mousepad'], ['mouse', 'mousepad']]\n"
     ]
    }
   ],
   "source": [
    "print(suggestedProducts([\"mobile\",\"mouse\",\"moneypot\",\"monitor\",\"mousepad\"],\"mouse\"))"
   ]
  },
  {
   "cell_type": "code",
   "execution_count": 7,
   "metadata": {},
   "outputs": [
    {
     "name": "stdout",
     "output_type": "stream",
     "text": [
      "[['havana'], ['havana'], ['havana'], ['havana'], ['havana'], ['havana']]\n"
     ]
    }
   ],
   "source": [
    "print(suggestedProducts([\"havana\"],\"havana\"))"
   ]
  },
  {
   "cell_type": "code",
   "execution_count": null,
   "metadata": {},
   "outputs": [],
   "source": []
  }
 ],
 "metadata": {
  "kernelspec": {
   "display_name": "base",
   "language": "python",
   "name": "python3"
  },
  "language_info": {
   "codemirror_mode": {
    "name": "ipython",
    "version": 3
   },
   "file_extension": ".py",
   "mimetype": "text/x-python",
   "name": "python",
   "nbconvert_exporter": "python",
   "pygments_lexer": "ipython3",
   "version": "3.12.2"
  }
 },
 "nbformat": 4,
 "nbformat_minor": 2
}
