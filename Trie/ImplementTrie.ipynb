{
 "cells": [
  {
   "cell_type": "markdown",
   "metadata": {},
   "source": [
    "# 208. Implement Trie (Prefix Tree)\n",
    "**Level: Medium**\n",
    "\n",
    "[Problem Link](https://leetcode.com/problems/implement-trie-prefix-tree/description/)\n",
    "\n",
    "A trie (pronounced as \"try\") or prefix tree is a tree data structure used to efficiently store and retrieve keys in a dataset of strings. There are various applications of this data structure, such as autocomplete and spellchecker.\n",
    "\n",
    "Implement the Trie class:\n",
    "\n",
    "`Trie()` Initializes the `trie` object.\n",
    "\n",
    "void `insert(String word)` Inserts the string `word` into the `trie`.\n",
    "\n",
    "boolean `search(String word)` Returns `true` if the string `word` is in the trie (i.e., was inserted before), and `false` otherwise.\n",
    "\n",
    "boolean `startsWith(String prefix)` Returns `true` if there is a previously inserted string word that has the prefix `prefix`, and `false`` otherwise.\n",
    "\n",
    "## Constraints:\n",
    "\n",
    "- 1 <= word.length, prefix.length <= 2000\n",
    "- word and prefix consist only of lowercase English letters.\n",
    "- At most $3 * 10^4$ calls in total will be made to insert, search, and startsWith."
   ]
  },
  {
   "cell_type": "markdown",
   "metadata": {},
   "source": [
    "## Solution"
   ]
  },
  {
   "cell_type": "code",
   "execution_count": 37,
   "metadata": {},
   "outputs": [],
   "source": [
    "class Trie:\n",
    "    def __init__(self):\n",
    "        self.tree = {}\n",
    "\n",
    "    def insert(self,word):\n",
    "        temp=self.tree\n",
    "        word=word+\"?\"\n",
    "        for c in word:\n",
    "            if c not in temp.keys():\n",
    "                temp[c]={}\n",
    "            temp=temp[c]\n",
    "\n",
    "\n",
    "    def search(self,word):\n",
    "        temp=self.tree\n",
    "        flag=True\n",
    "        word+=\"?\"\n",
    "        for c in word:\n",
    "            if c not in temp.keys():\n",
    "                flag=False\n",
    "                break\n",
    "            else:\n",
    "                temp=temp[c]\n",
    "        return flag\n",
    "    \n",
    "    def startsWith(self,prefix):\n",
    "        temp=self.tree\n",
    "        flag=True\n",
    "        for c in prefix:\n",
    "            if c not in temp.keys():\n",
    "                flag=False\n",
    "                break\n",
    "            else:\n",
    "                temp=temp[c]\n",
    "        return flag"
   ]
  },
  {
   "cell_type": "code",
   "execution_count": 38,
   "metadata": {},
   "outputs": [],
   "source": [
    "trie = Trie()\n",
    "trie.insert(\"apple\")"
   ]
  },
  {
   "cell_type": "code",
   "execution_count": 39,
   "metadata": {},
   "outputs": [
    {
     "data": {
      "text/plain": [
       "False"
      ]
     },
     "execution_count": 39,
     "metadata": {},
     "output_type": "execute_result"
    }
   ],
   "source": [
    "trie.search(\"app\")"
   ]
  },
  {
   "cell_type": "code",
   "execution_count": 40,
   "metadata": {},
   "outputs": [
    {
     "data": {
      "text/plain": [
       "True"
      ]
     },
     "execution_count": 40,
     "metadata": {},
     "output_type": "execute_result"
    }
   ],
   "source": [
    "trie.startsWith(\"app\")"
   ]
  },
  {
   "cell_type": "code",
   "execution_count": 41,
   "metadata": {},
   "outputs": [],
   "source": [
    "trie.insert(\"app\")"
   ]
  },
  {
   "cell_type": "code",
   "execution_count": 42,
   "metadata": {},
   "outputs": [
    {
     "data": {
      "text/plain": [
       "True"
      ]
     },
     "execution_count": 42,
     "metadata": {},
     "output_type": "execute_result"
    }
   ],
   "source": [
    "trie.search(\"app\")"
   ]
  }
 ],
 "metadata": {
  "kernelspec": {
   "display_name": "base",
   "language": "python",
   "name": "python3"
  },
  "language_info": {
   "codemirror_mode": {
    "name": "ipython",
    "version": 3
   },
   "file_extension": ".py",
   "mimetype": "text/x-python",
   "name": "python",
   "nbconvert_exporter": "python",
   "pygments_lexer": "ipython3",
   "version": "3.12.2"
  }
 },
 "nbformat": 4,
 "nbformat_minor": 2
}
