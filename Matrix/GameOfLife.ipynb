{
 "cells": [
  {
   "cell_type": "markdown",
   "metadata": {},
   "source": [
    "# 289. Game of Life\n",
    "**Level: Medium**\n",
    "\n",
    "[Problem Link](https://leetcode.com/problems/game-of-life/description/)\n",
    "\n",
    "According to Wikipedia's article: \"The Game of Life, also known simply as Life, is a cellular automaton devised by the British mathematician John Horton Conway in 1970.\"\n",
    "\n",
    "The board is made up of an m x n grid of cells, where each cell has an initial state: live (represented by a 1) or dead (represented by a 0). Each cell interacts with its eight neighbors (horizontal, vertical, diagonal) using the following four rules (taken from the above Wikipedia article):\n",
    "\n",
    "1. Any live cell with fewer than two live neighbors dies as if caused by under-population.\n",
    "2. Any live cell with two or three live neighbors lives on to the next generation.\n",
    "3. Any live cell with more than three live neighbors dies, as if by over-population.\n",
    "4. Any dead cell with exactly three live neighbors becomes a live cell, as if by reproduction.\n",
    "\n",
    "The next state of the board is determined by applying the above rules simultaneously to every cell in the current state of the m x n grid board. In this process, births and deaths occur simultaneously.\n",
    "\n",
    "Given the current state of the board, update the board to reflect its next state.\n",
    "\n",
    "Note that you do not need to return anything.\n",
    "\n",
    "## Examples\n",
    "### Example 1\n",
    "Input: board = [[0,1,0],[0,0,1],[1,1,1],[0,0,0]]\n",
    "\n",
    "Output: [[0,0,0],[1,0,1],[0,1,1],[0,1,0]]\n",
    "\n",
    "### Example 2\n",
    "Input: board = [[1,1],[1,0]]\n",
    "\n",
    "Output: [[1,1],[1,1]]\n",
    "\n",
    "## Constraints\n",
    "- m == board.length\n",
    "- n == board[i].length\n",
    "- 1 <= m, n <= 25\n",
    "- board[i][j] is 0 or 1.\n"
   ]
  },
  {
   "cell_type": "markdown",
   "metadata": {},
   "source": [
    "## Solution"
   ]
  },
  {
   "cell_type": "code",
   "execution_count": 21,
   "metadata": {},
   "outputs": [],
   "source": [
    "def gameOfLife(board):\n",
    "    m,n = len(board),len(board[0])\n",
    "    nextState = []\n",
    "    dirs = [(0,1),(0,-1),(1,0),(-1,0),(-1,-1),(1,1),(-1,1),(1,-1)]\n",
    "    for i in range(m):\n",
    "        row=[]\n",
    "        for j in range(n):\n",
    "            count_alive=0\n",
    "            count_dead=0\n",
    "            for (dx,dy) in dirs:\n",
    "                x,y = i+dx,j+dy\n",
    "                if 0<=x<m and 0<=y<n:\n",
    "                    if board[x][y]==0:\n",
    "                        count_dead+=1\n",
    "                    else:\n",
    "                        count_alive+=1\n",
    "            if  count_alive<2:\n",
    "                row.append(0)\n",
    "            if 2<=count_alive<=3:\n",
    "                if board[i][j]==1:\n",
    "                    row.append(1)\n",
    "                else:\n",
    "                    if count_alive==3:\n",
    "                        row.append(1)\n",
    "                    else:\n",
    "                        row.append(0)\n",
    "            if count_alive>3:\n",
    "                row.append(0)\n",
    "        nextState.append(row)\n",
    "    for i in range(m):\n",
    "        for j in range(n):\n",
    "            board[i]=nextState[i]\n",
    "\n"
   ]
  },
  {
   "cell_type": "code",
   "execution_count": 23,
   "metadata": {},
   "outputs": [
    {
     "name": "stdout",
     "output_type": "stream",
     "text": [
      "[[0, 0, 0], [1, 0, 1], [0, 1, 1], [0, 1, 0]]\n"
     ]
    }
   ],
   "source": [
    "board=[[0,1,0],[0,0,1],[1,1,1],[0,0,0]]\n",
    "gameOfLife(board)\n",
    "print(board)"
   ]
  },
  {
   "cell_type": "code",
   "execution_count": 24,
   "metadata": {},
   "outputs": [
    {
     "name": "stdout",
     "output_type": "stream",
     "text": [
      "[[1, 1], [1, 1]]\n"
     ]
    }
   ],
   "source": [
    "board = [[1,1],[1,0]]\n",
    "gameOfLife(board)\n",
    "print(board)"
   ]
  }
 ],
 "metadata": {
  "kernelspec": {
   "display_name": "base",
   "language": "python",
   "name": "python3"
  },
  "language_info": {
   "codemirror_mode": {
    "name": "ipython",
    "version": 3
   },
   "file_extension": ".py",
   "mimetype": "text/x-python",
   "name": "python",
   "nbconvert_exporter": "python",
   "pygments_lexer": "ipython3",
   "version": "3.12.2"
  }
 },
 "nbformat": 4,
 "nbformat_minor": 2
}
