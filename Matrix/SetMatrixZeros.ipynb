{
 "cells": [
  {
   "cell_type": "markdown",
   "metadata": {},
   "source": [
    "# 73. Set Matrix Zeroes\n",
    "\n",
    "**Level: Medium**\n",
    "\n",
    "[Problem Link](https://leetcode.com/problems/set-matrix-zeroes/description/)\n",
    "\n",
    "Given an m x n integer matrix matrix, if an element is 0, set its entire row and column to 0's.\n",
    "\n",
    "You must do it in place.\n",
    "\n",
    "## Examples\n",
    "\n",
    "### Example 1\n",
    "Input: matrix = [[1,1,1],[1,0,1],[1,1,1]]\n",
    "\n",
    "Output: [[1,0,1],[0,0,0],[1,0,1]]\n",
    "\n",
    "### Example 2\n",
    "Input: matrix = [[0,1,2,0],[3,4,5,2],[1,3,1,5]]\n",
    "\n",
    "Output: [[0,0,0,0],[0,4,5,0],[0,3,1,0]]\n",
    "\n",
    "Constraints:\n",
    "- m == matrix.length\n",
    "- n == matrix[0].length\n",
    "- 1 <= m, n <= 200\n",
    "- $-2^{31} <= matrix[i][j] <= 2^{31} - 1$"
   ]
  },
  {
   "cell_type": "markdown",
   "metadata": {},
   "source": [
    "## Solution"
   ]
  },
  {
   "cell_type": "code",
   "execution_count": null,
   "metadata": {},
   "outputs": [],
   "source": [
    "def setZeros(matrix):\n",
    "    m,n = len(matrix),len(matrix[0])\n",
    "    rows=set()\n",
    "    cols=set()\n",
    "    for i in range(n):\n",
    "        for j in range(m):\n",
    "            if matrix[i][j]==0:\n",
    "                rows.add(i)\n",
    "                cols.add(j)\n",
    "    for i in range(n):\n",
    "        for j in range(m):\n",
    "            if i in rows or j in cols:\n",
    "                matrix[i][j]=0"
   ]
  }
 ],
 "metadata": {
  "kernelspec": {
   "display_name": "base",
   "language": "python",
   "name": "python3"
  },
  "language_info": {
   "name": "python",
   "version": "3.12.2"
  }
 },
 "nbformat": 4,
 "nbformat_minor": 2
}
