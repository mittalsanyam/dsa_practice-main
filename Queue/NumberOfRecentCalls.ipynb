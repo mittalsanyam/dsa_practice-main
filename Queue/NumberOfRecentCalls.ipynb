{
 "cells": [
  {
   "cell_type": "markdown",
   "metadata": {},
   "source": [
    "# 933. Number of Recent Calls\n",
    "**Level: Medium**\n",
    "\n",
    "[Problem Link](https://leetcode.com/problems/number-of-recent-calls/description/)\n",
    "\n",
    "You have a RecentCounter class which counts the number of recent requests within a certain time frame.\n",
    "\n",
    "Implement the RecentCounter class:\n",
    "\n",
    "RecentCounter() Initializes the counter with zero recent requests.\n",
    "\n",
    "int ping(int t) Adds a new request at time t, where t represents some time in milliseconds, and returns the number of requests that has happened in the past 3000 milliseconds (including the new request). Specifically, return the number of requests that have happened in the inclusive range [t - 3000, t].\n",
    "It is guaranteed that every call to ping uses a strictly larger value of t than the previous call.\n",
    "\n",
    "## Examples\n",
    "\n",
    "### Example 1:\n",
    "\n",
    "Input\n",
    "\n",
    "[\"RecentCounter\", \"ping\", \"ping\", \"ping\", \"ping\"]\n",
    "[[], [1], [100], [3001], [3002]]\n",
    "\n",
    "Output\n",
    "\n",
    "[null, 1, 2, 3, 3]\n",
    "\n",
    "Explanation\n",
    "\n",
    "RecentCounter recentCounter = new RecentCounter();\n",
    "\n",
    "recentCounter.ping(1);     // requests = [1], range is [-2999,1], return 1\n",
    "\n",
    "recentCounter.ping(100);   // requests = [1, 100], range is [-2900,100], return 2\n",
    "\n",
    "recentCounter.ping(3001);  // requests = [1, 100, 3001], range is [1,3001], return 3\n",
    "\n",
    "recentCounter.ping(3002);  // requests = [1, 100, 3001, 3002], range is [2,3002], \n",
    "return 3\n",
    " \n",
    "\n",
    "## Constraints:\n",
    "\n",
    "- $1 <= t <= 10^9$\n",
    "- Each test case will call ping with strictly increasing values of t.\n",
    "- At most $10^4$ calls will be made to ping."
   ]
  },
  {
   "cell_type": "markdown",
   "metadata": {},
   "source": [
    "## Solution"
   ]
  },
  {
   "cell_type": "code",
   "execution_count": 17,
   "metadata": {},
   "outputs": [],
   "source": [
    "from collections import deque\n",
    "\n",
    "class RecentCounter:\n",
    "    def __init__(self):\n",
    "        self.counter = 0\n",
    "        self.queue=deque()\n",
    "    \n",
    "    def ping(self,t):\n",
    "        min_t = t-3000\n",
    "        if len(self.queue)==0:\n",
    "            self.queue.append(t)\n",
    "            self.counter+=1\n",
    "            return self.counter\n",
    "        while self.queue and self.queue[0]<min_t:\n",
    "            self.queue.popleft()\n",
    "            self.counter-=1\n",
    "        self.queue.append(t)\n",
    "        self.counter+=1\n",
    "        return self.counter"
   ]
  },
  {
   "cell_type": "code",
   "execution_count": 18,
   "metadata": {},
   "outputs": [
    {
     "name": "stdout",
     "output_type": "stream",
     "text": [
      "1\n",
      "2\n",
      "1\n",
      "2\n",
      "3\n"
     ]
    }
   ],
   "source": [
    "proc = [\"RecentCounter\",\"ping\",\"ping\",\"ping\",\"ping\",\"ping\"]\n",
    "ts = [[],[642],[1849],[4921],[5936],[5957]]\n",
    "n=len(proc)\n",
    "for i in range(n):\n",
    "    if proc[i]==\"RecentCounter\":\n",
    "        obj=RecentCounter()\n",
    "    if proc[i]==\"ping\":\n",
    "        print(obj.ping(ts[i][0]))"
   ]
  },
  {
   "cell_type": "code",
   "execution_count": null,
   "metadata": {},
   "outputs": [],
   "source": []
  }
 ],
 "metadata": {
  "kernelspec": {
   "display_name": "base",
   "language": "python",
   "name": "python3"
  },
  "language_info": {
   "codemirror_mode": {
    "name": "ipython",
    "version": 3
   },
   "file_extension": ".py",
   "mimetype": "text/x-python",
   "name": "python",
   "nbconvert_exporter": "python",
   "pygments_lexer": "ipython3",
   "version": "3.12.2"
  }
 },
 "nbformat": 4,
 "nbformat_minor": 2
}
