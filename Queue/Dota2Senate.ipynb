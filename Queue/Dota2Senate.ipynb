{
 "cells": [
  {
   "cell_type": "markdown",
   "metadata": {},
   "source": [
    "# 649. Dota2 Senate\n",
    "**Level: Medium**\n",
    "\n",
    "[Problem Link](https://leetcode.com/problems/dota2-senate/description/)\n",
    "\n",
    "In the world of Dota2, there are two parties: the Radiant and the Dire.\n",
    "\n",
    "The Dota2 senate consists of senators coming from two parties. Now the Senate wants to decide on a change in the Dota2 game. The voting for this change is a round-based procedure. In each round, each senator can exercise one of the two rights:\n",
    "\n",
    "Ban one senator's right: A senator can make another senator lose all his rights in this and all the following rounds.\n",
    "\n",
    "Announce the victory: If this senator found the senators who still have rights to vote are all from the same party, he can announce the victory and decide on the change in the game.\n",
    "\n",
    "Given a string senate representing each senator's party belonging. The character 'R' and 'D' represent the Radiant party and the Dire party. Then if there are n senators, the size of the given string will be n.\n",
    "\n",
    "The round-based procedure starts from the first senator to the last senator in the given order. This procedure will last until the end of voting. All the senators who have lost their rights will be skipped during the procedure.\n",
    "\n",
    "Suppose every senator is smart enough and will play the best strategy for his own party. Predict which party will finally announce the victory and change the Dota2 game. The output should be \"Radiant\" or \"Dire\".\n",
    "\n",
    "## Examples\n",
    "\n",
    "### Example 1:\n",
    "\n",
    "Input: senate = \"RD\"\n",
    "\n",
    "Output: \"Radiant\"\n",
    "\n",
    "Explanation: \n",
    "The first senator comes from Radiant and he can just ban the next senator's right in round 1. \n",
    "\n",
    "And the second senator can't exercise any rights anymore since his right has been banned. \n",
    "\n",
    "And in round 2, the first senator can just announce the victory since he is the only guy in the senate who can vote.\n",
    "\n",
    "### Example 2:\n",
    "\n",
    "Input: senate = \"RDD\"\n",
    "\n",
    "Output: \"Dire\"\n",
    "\n",
    "Explanation: \n",
    "\n",
    "The first senator comes from Radiant and he can just ban the next senator's right in round 1. \n",
    "\n",
    "And the second senator can't exercise any rights anymore since his right has been banned. \n",
    "\n",
    "And the third senator comes from Dire and he can ban the first senator's right in round 1.\n",
    "\n",
    "And in round 2, the third senator can just announce the victory since he is the only guy in the senate who can vote.\n",
    " \n",
    "## Constraints:\n",
    "\n",
    "- n == senate.length\n",
    "- $1 <= n <= 10^4$\n",
    "- senate[i] is either 'R' or 'D'."
   ]
  },
  {
   "cell_type": "code",
   "execution_count": 6,
   "metadata": {},
   "outputs": [],
   "source": [
    "from collections import deque\n",
    "def predictPartyVictory(senate):\n",
    "    dire,rad = deque(),deque()\n",
    "    n = len(senate)\n",
    "    for i in range(n):\n",
    "        if senate[i]==\"R\":\n",
    "            rad.append(i)\n",
    "        else:\n",
    "            dire.append(i)\n",
    "    while dire and rad:\n",
    "        d,r = dire.popleft(),rad.popleft()\n",
    "        n=n+1\n",
    "        if r<d:\n",
    "            rad.append(n)\n",
    "        else:\n",
    "            dire.append(n)\n",
    "    if len(dire)>0:\n",
    "        return \"Dire\"\n",
    "    else:\n",
    "        return \"Radiant\""
   ]
  },
  {
   "cell_type": "code",
   "execution_count": 7,
   "metadata": {},
   "outputs": [
    {
     "name": "stdout",
     "output_type": "stream",
     "text": [
      "Radiant\n"
     ]
    }
   ],
   "source": [
    "print(predictPartyVictory(\"RD\"))"
   ]
  },
  {
   "cell_type": "code",
   "execution_count": 8,
   "metadata": {},
   "outputs": [
    {
     "name": "stdout",
     "output_type": "stream",
     "text": [
      "Dire\n"
     ]
    }
   ],
   "source": [
    "print(predictPartyVictory(\"RDD\"))"
   ]
  }
 ],
 "metadata": {
  "kernelspec": {
   "display_name": "base",
   "language": "python",
   "name": "python3"
  },
  "language_info": {
   "codemirror_mode": {
    "name": "ipython",
    "version": 3
   },
   "file_extension": ".py",
   "mimetype": "text/x-python",
   "name": "python",
   "nbconvert_exporter": "python",
   "pygments_lexer": "ipython3",
   "version": "3.12.2"
  }
 },
 "nbformat": 4,
 "nbformat_minor": 2
}
