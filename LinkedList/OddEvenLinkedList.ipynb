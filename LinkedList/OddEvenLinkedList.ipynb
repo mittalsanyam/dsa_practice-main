{
 "cells": [
  {
   "cell_type": "markdown",
   "metadata": {},
   "source": [
    "# 328. Odd Even Linked List\n",
    "\n",
    "Given the head of a singly linked list, group all the nodes with odd indices together followed by the nodes with even indices, and return the reordered list.\n",
    "\n",
    "The first node is considered odd, and the second node is even, and so on.\n",
    "\n",
    "Note that the relative order inside both the even and odd groups should remain as it was in the input.\n",
    "\n",
    "You must solve the problem in O(1) extra space complexity and O(n) time complexity.\n",
    "\n",
    "## Examples\n",
    "\n",
    "### Example 1\n",
    "Input: head = [1,2,3,4,5]\n",
    "\n",
    "Output: [1,3,5,2,4]\n",
    "\n",
    "### Example 2\n",
    "Input: head = [2,1,3,5,6,4,7]\n",
    "\n",
    "Output: [2,3,6,7,1,5,4]\n",
    "\n",
    "## Constraints:\n",
    "\n",
    "- The number of nodes in the linked list is in the range $[0, 10^4]$.\n",
    "- $-10^6 <= Node.val <= 10^6$"
   ]
  },
  {
   "cell_type": "markdown",
   "metadata": {},
   "source": [
    "## Solution"
   ]
  },
  {
   "cell_type": "code",
   "execution_count": 11,
   "metadata": {},
   "outputs": [],
   "source": [
    "class ListNode:\n",
    "    def __init__(self,val=0,next=None):\n",
    "        self.val = val\n",
    "        self.next = next\n",
    "\n",
    "def makeList(arr):\n",
    "    n=len(arr)\n",
    "    if n<1:\n",
    "        head = ListNode()\n",
    "    else:\n",
    "        head = ListNode(arr[0])\n",
    "        temp=head\n",
    "        for i in range(1,n):\n",
    "            temp.next = ListNode(arr[i])\n",
    "            temp=temp.next\n",
    "    return head\n",
    "\n",
    "def makeArray(head):\n",
    "    temp=head\n",
    "    arr=[]\n",
    "    while temp:\n",
    "        if temp.val:\n",
    "            arr.append(temp.val)\n",
    "        temp=temp.next\n",
    "    return arr\n",
    "\n",
    "def oddEvenList(head):\n",
    "    if head:\n",
    "        temp=head\n",
    "        odd,even=None,None\n",
    "        if temp:\n",
    "            odd = ListNode(temp.val)\n",
    "            temp=temp.next\n",
    "            oddtemp=odd\n",
    "        if temp:\n",
    "            even=ListNode(temp.val)\n",
    "            temp=temp.next\n",
    "            eventemp=even\n",
    "        i=3\n",
    "        while temp:\n",
    "            if i%2==1:\n",
    "                oddtemp.next=ListNode(temp.val)\n",
    "                oddtemp=oddtemp.next\n",
    "            else:\n",
    "                eventemp.next=ListNode(temp.val)\n",
    "                eventemp=eventemp.next\n",
    "            temp=temp.next\n",
    "            i+=1\n",
    "        if even and oddtemp:\n",
    "            oddtemp.next=even\n",
    "        if odd:\n",
    "            head=odd\n",
    "    return head"
   ]
  },
  {
   "cell_type": "code",
   "execution_count": 12,
   "metadata": {},
   "outputs": [
    {
     "data": {
      "text/plain": [
       "[2, 3, 6, 7, 1, 5, 4]"
      ]
     },
     "execution_count": 12,
     "metadata": {},
     "output_type": "execute_result"
    }
   ],
   "source": [
    "makeArray(oddEvenList(makeList([2,1,3,5,6,4,7])))"
   ]
  },
  {
   "cell_type": "code",
   "execution_count": 16,
   "metadata": {},
   "outputs": [
    {
     "data": {
      "text/plain": [
       "[1, 2]"
      ]
     },
     "execution_count": 16,
     "metadata": {},
     "output_type": "execute_result"
    }
   ],
   "source": [
    "makeArray(oddEvenList(makeList([1,2])))"
   ]
  }
 ],
 "metadata": {
  "kernelspec": {
   "display_name": "base",
   "language": "python",
   "name": "python3"
  },
  "language_info": {
   "codemirror_mode": {
    "name": "ipython",
    "version": 3
   },
   "file_extension": ".py",
   "mimetype": "text/x-python",
   "name": "python",
   "nbconvert_exporter": "python",
   "pygments_lexer": "ipython3",
   "version": "3.12.2"
  }
 },
 "nbformat": 4,
 "nbformat_minor": 2
}
