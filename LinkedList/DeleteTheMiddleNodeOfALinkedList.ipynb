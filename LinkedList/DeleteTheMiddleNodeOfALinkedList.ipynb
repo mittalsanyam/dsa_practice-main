{
 "cells": [
  {
   "cell_type": "markdown",
   "metadata": {},
   "source": [
    "# 2095. Delete the Middle Node of a Linked List\n",
    "\n",
    "**Level: Medium**\n",
    "\n",
    "[Problem Link](https://leetcode.com/problems/delete-the-middle-node-of-a-linked-list/description/)\n",
    "\n",
    "You are given the head of a linked list. Delete the middle node, and return the head of the modified linked list.\n",
    "\n",
    "The middle node of a linked list of size n is the ⌊n / 2⌋th node from the start using 0-based indexing, where ⌊x⌋ denotes the largest integer less than or equal to x.\n",
    "\n",
    "For n = 1, 2, 3, 4, and 5, the middle nodes are 0, 1, 1, 2, and 2, respectively.\n",
    "\n",
    "## Examples\n",
    "\n",
    "### Example 1\n",
    "Input: head = [1,3,4,7,1,2,6]\n",
    "\n",
    "Output: [1,3,4,1,2,6]\n",
    "\n",
    "Explanation:\n",
    "\n",
    "The above figure represents the given linked list. The indices of the nodes are written below.\n",
    "\n",
    "Since n = 7, node 3 with value 7 is the middle node, which is marked in red.\n",
    "\n",
    "We return the new list after removing this node.\n",
    "\n",
    "### Example 2\n",
    "Input: head = [1,2,3,4]\n",
    "\n",
    "Output: [1,2,4]\n",
    "\n",
    "Explanation:\n",
    "\n",
    "The above figure represents the given linked list.\n",
    "\n",
    "For n = 4, node 2 with value 3 is the middle node, which is marked in red.\n",
    "\n",
    "### Example 3\n",
    "\n",
    "Input: head = [2,1]\n",
    "\n",
    "Output: [2]\n",
    "\n",
    "Explanation:\n",
    "\n",
    "The above figure represents the given linked list.\n",
    "\n",
    "For n = 2, node 1 with value 1 is the middle node, which is marked in red.\n",
    "\n",
    "Node 0 with value 2 is the only node remaining after removing node 1.\n",
    " \n",
    "## Constraints:\n",
    "\n",
    "- The number of nodes in the list is in the range [1, 105].\n",
    "- $1 <= Node.val <= 10^5$"
   ]
  },
  {
   "cell_type": "markdown",
   "metadata": {},
   "source": [
    "## Solution"
   ]
  },
  {
   "cell_type": "code",
   "execution_count": 9,
   "metadata": {},
   "outputs": [],
   "source": [
    "class ListNode:\n",
    "    def __init__(self,val=0,next=None):\n",
    "        self.val=val\n",
    "        self.next=next\n",
    "\n",
    "def insert(arr):\n",
    "    n=len(arr)\n",
    "    head = ListNode(arr[0])\n",
    "    temp=head\n",
    "    for i in range(1,n):\n",
    "        temp.next = ListNode(arr[i])\n",
    "        temp=temp.next\n",
    "    return head \n",
    "\n",
    "def display(head):\n",
    "    temp=head\n",
    "    arr=[]\n",
    "    while temp:\n",
    "        arr.append(temp.val)\n",
    "        temp=temp.next\n",
    "    print(arr)\n",
    "\n",
    "def deleteMiddle(head):\n",
    "    temp=head\n",
    "    n=0\n",
    "    while temp:\n",
    "        n=n+1\n",
    "        temp=temp.next\n",
    "    if n==1:\n",
    "        head=None\n",
    "        return head\n",
    "    i=1\n",
    "    temp=head\n",
    "    while i<n//2:\n",
    "        temp=temp.next\n",
    "        i+=1\n",
    "    temp.next = temp.next.next\n",
    "    return head\n",
    "\n"
   ]
  },
  {
   "cell_type": "code",
   "execution_count": 11,
   "metadata": {},
   "outputs": [
    {
     "name": "stdout",
     "output_type": "stream",
     "text": [
      "[1, 2, 3, 4]\n",
      "[1, 2, 4]\n"
     ]
    }
   ],
   "source": [
    "arr = [1,2,3,4]\n",
    "head = insert(arr)\n",
    "display(head)\n",
    "head = deleteMiddle(head)\n",
    "display(head)"
   ]
  },
  {
   "cell_type": "code",
   "execution_count": 12,
   "metadata": {},
   "outputs": [
    {
     "name": "stdout",
     "output_type": "stream",
     "text": [
      "[1]\n",
      "[]\n"
     ]
    }
   ],
   "source": [
    "arr = [1]\n",
    "head = insert(arr)\n",
    "display(head)\n",
    "head = deleteMiddle(head)\n",
    "display(head)"
   ]
  },
  {
   "cell_type": "code",
   "execution_count": 13,
   "metadata": {},
   "outputs": [
    {
     "name": "stdout",
     "output_type": "stream",
     "text": [
      "[2, 1]\n",
      "[2]\n"
     ]
    }
   ],
   "source": [
    "arr = [2,1]\n",
    "head = insert(arr)\n",
    "display(head)\n",
    "head = deleteMiddle(head)\n",
    "display(head)"
   ]
  },
  {
   "cell_type": "code",
   "execution_count": 14,
   "metadata": {},
   "outputs": [
    {
     "name": "stdout",
     "output_type": "stream",
     "text": [
      "[1, 3, 4, 7, 1, 2, 6]\n",
      "[1, 3, 4, 1, 2, 6]\n"
     ]
    }
   ],
   "source": [
    "arr = [1,3,4,7,1,2,6]\n",
    "head = insert(arr)\n",
    "display(head)\n",
    "head = deleteMiddle(head)\n",
    "display(head)"
   ]
  },
  {
   "cell_type": "code",
   "execution_count": null,
   "metadata": {},
   "outputs": [],
   "source": []
  }
 ],
 "metadata": {
  "kernelspec": {
   "display_name": "base",
   "language": "python",
   "name": "python3"
  },
  "language_info": {
   "codemirror_mode": {
    "name": "ipython",
    "version": 3
   },
   "file_extension": ".py",
   "mimetype": "text/x-python",
   "name": "python",
   "nbconvert_exporter": "python",
   "pygments_lexer": "ipython3",
   "version": "3.12.2"
  }
 },
 "nbformat": 4,
 "nbformat_minor": 2
}
