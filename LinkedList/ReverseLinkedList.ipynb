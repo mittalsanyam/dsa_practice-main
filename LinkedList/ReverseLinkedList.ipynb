{
 "cells": [
  {
   "cell_type": "markdown",
   "metadata": {},
   "source": [
    "# 206. Reverse Linked List\n",
    "\n",
    "**Level: Easy**\n",
    "\n",
    "[Problem Link](https://leetcode.com/problems/reverse-linked-list/description/)\n",
    "\n",
    "Given the head of a singly linked list, reverse the list, and return the reversed list.\n",
    "\n",
    "## Examples\n",
    "\n",
    "### Example 1\n",
    "\n",
    "Input: head = [1,2,3,4,5]\n",
    "\n",
    "Output: [5,4,3,2,1]\n",
    "\n",
    "### Example 2\n",
    "\n",
    "Input: head = [1,2]\n",
    "\n",
    "Output: [2,1]\n",
    "\n",
    "### Example 3\n",
    "\n",
    "Input: head = []\n",
    "\n",
    "Output: []\n",
    "\n",
    "## Constraints:\n",
    "\n",
    "- The number of nodes in the list is the range [0, 5000].\n",
    "- -5000 <= Node.val <= 5000"
   ]
  },
  {
   "cell_type": "markdown",
   "metadata": {},
   "source": [
    "## Solution"
   ]
  },
  {
   "cell_type": "code",
   "execution_count": 2,
   "metadata": {},
   "outputs": [
    {
     "name": "stdout",
     "output_type": "stream",
     "text": [
      "[5, 4, 3, 2, 1]\n"
     ]
    }
   ],
   "source": [
    "class ListNode:\n",
    "    def __init__(self,val=0,next=None):\n",
    "        self.val=val\n",
    "        self.next=next\n",
    "\n",
    "def makeList(arr):\n",
    "    n = len(arr)\n",
    "    if n<1:\n",
    "        head = ListNode()\n",
    "    else:\n",
    "        head = ListNode(arr[0])\n",
    "        temp=head\n",
    "        for i in range(1,n):\n",
    "            temp.next=ListNode(arr[i])\n",
    "            temp=temp.next\n",
    "    return head\n",
    "\n",
    "def makeArray(head):\n",
    "    arr=[]\n",
    "    if head:\n",
    "        temp=head\n",
    "        while temp:\n",
    "            if temp.val:\n",
    "                arr.append(temp.val)\n",
    "            temp=temp.next\n",
    "    return arr\n",
    "\n",
    "def reverseList(head):\n",
    "    if head:\n",
    "        stack=[]\n",
    "        temp=head\n",
    "        while temp:\n",
    "            stack.append(temp)\n",
    "            temp=temp.next\n",
    "        head=stack.pop()\n",
    "        temp=head\n",
    "        while stack:\n",
    "            curr = stack.pop()\n",
    "            curr.next=None\n",
    "            temp.next=curr\n",
    "            temp=temp.next\n",
    "    return head   \n",
    "\n",
    "\n",
    "print(makeArray(reverseList(makeList([1,2,3,4,5]))))"
   ]
  },
  {
   "cell_type": "code",
   "execution_count": 5,
   "metadata": {},
   "outputs": [
    {
     "name": "stdout",
     "output_type": "stream",
     "text": [
      "[2, 1]\n"
     ]
    }
   ],
   "source": [
    "print(makeArray(reverseList(makeList([1,2]))))"
   ]
  }
 ],
 "metadata": {
  "kernelspec": {
   "display_name": "base",
   "language": "python",
   "name": "python3"
  },
  "language_info": {
   "codemirror_mode": {
    "name": "ipython",
    "version": 3
   },
   "file_extension": ".py",
   "mimetype": "text/x-python",
   "name": "python",
   "nbconvert_exporter": "python",
   "pygments_lexer": "ipython3",
   "version": "3.12.2"
  }
 },
 "nbformat": 4,
 "nbformat_minor": 2
}
