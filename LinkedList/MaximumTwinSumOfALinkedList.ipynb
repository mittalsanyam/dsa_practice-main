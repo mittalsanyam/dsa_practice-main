{
 "cells": [
  {
   "cell_type": "markdown",
   "metadata": {},
   "source": [
    "# 2130. Maximum Twin Sum of a Linked List\n",
    "\n",
    "**Level: Medium**\n",
    "\n",
    "[Problem Link](https://leetcode.com/problems/maximum-twin-sum-of-a-linked-list/description)\n",
    "\n",
    "In a linked list of size n, where n is even, the ith node (0-indexed) of the linked list is known as the twin of the (n-1-i)th node, if 0 <= i <= (n / 2) - 1.\n",
    "\n",
    "For example, if n = 4, then node 0 is the twin of node 3, and node 1 is the twin of node 2. These are the only nodes with twins for n = 4.\n",
    "The twin sum is defined as the sum of a node and its twin.\n",
    "\n",
    "Given the head of a linked list with even length, return the maximum twin sum of the linked list.\n",
    "\n",
    "## Examples\n",
    "\n",
    "### Example 1\n",
    "Input: head = [5,4,2,1]\n",
    "\n",
    "Output: 6\n",
    "\n",
    "Explanation:\n",
    "\n",
    "Nodes 0 and 1 are the twins of nodes 3 and 2, respectively. All have twin sum = 6.\n",
    "\n",
    "There are no other nodes with twins in the linked list.\n",
    "\n",
    "Thus, the maximum twin sum of the linked list is 6. \n",
    "\n",
    "### Example 2\n",
    "Input: head = [4,2,2,3]\n",
    "\n",
    "Output: 7\n",
    "\n",
    "Explanation:\n",
    "The nodes with twins present in this linked list are:\n",
    "\n",
    "- Node 0 is the twin of node 3 having a twin sum of 4 + 3 = 7.\n",
    "\n",
    "- Node 1 is the twin of node 2 having a twin sum of 2 + 2 = 4.\n",
    "\n",
    "Thus, the maximum twin sum of the linked list is max(7, 4) = 7.\n",
    "\n",
    "### Example 3\n",
    "Input: head = [1,100000]\n",
    "\n",
    "Output: 100001\n",
    "\n",
    "Explanation:\n",
    "\n",
    "There is only one node with a twin in the linked list having twin sum of 1 + 100000 = 100001.\n",
    "\n",
    "## Constraints:\n",
    "\n",
    "- The number of nodes in the list is an even integer in the range $[2, 10^5]$.\n",
    "- $1 <= Node.val <= 10^5$"
   ]
  },
  {
   "cell_type": "markdown",
   "metadata": {},
   "source": [
    "## Solution"
   ]
  },
  {
   "cell_type": "code",
   "execution_count": 1,
   "metadata": {},
   "outputs": [
    {
     "name": "stdout",
     "output_type": "stream",
     "text": [
      "6\n"
     ]
    }
   ],
   "source": [
    "class ListNode:\n",
    "    def __init__(self,val=0,next=None):\n",
    "        self.val=val\n",
    "        self.next=next\n",
    "\n",
    "def makeList(arr):\n",
    "    n = len(arr)\n",
    "    if n<1:\n",
    "        head = ListNode()\n",
    "    else:\n",
    "        head = ListNode(arr[0])\n",
    "        temp=head\n",
    "        for i in range(1,n):\n",
    "            temp.next=ListNode(arr[i])\n",
    "            temp=temp.next\n",
    "    return head\n",
    "\n",
    "def makeArray(head):\n",
    "    arr=[]\n",
    "    if head:\n",
    "        temp=head\n",
    "        while temp:\n",
    "            if temp.val:\n",
    "                arr.append(temp.val)\n",
    "            temp=temp.next\n",
    "    return arr\n",
    "\n",
    "def pairSum(head):\n",
    "    arr = makeArray(head)\n",
    "    n=len(arr)\n",
    "    maxSum=0\n",
    "    for i in range(n//2):\n",
    "        total = arr[i]+arr[n-i-1]\n",
    "        if total>maxSum:\n",
    "            maxSum=total\n",
    "    return maxSum\n",
    "\n",
    "print(pairSum(makeList([5,4,2,1])))"
   ]
  },
  {
   "cell_type": "code",
   "execution_count": 2,
   "metadata": {},
   "outputs": [
    {
     "name": "stdout",
     "output_type": "stream",
     "text": [
      "7\n"
     ]
    }
   ],
   "source": [
    "print(pairSum(makeList([4,2,2,3])))"
   ]
  },
  {
   "cell_type": "code",
   "execution_count": 3,
   "metadata": {},
   "outputs": [
    {
     "name": "stdout",
     "output_type": "stream",
     "text": [
      "100001\n"
     ]
    }
   ],
   "source": [
    "print(pairSum(makeList([1,100000])))"
   ]
  }
 ],
 "metadata": {
  "kernelspec": {
   "display_name": "base",
   "language": "python",
   "name": "python3"
  },
  "language_info": {
   "codemirror_mode": {
    "name": "ipython",
    "version": 3
   },
   "file_extension": ".py",
   "mimetype": "text/x-python",
   "name": "python",
   "nbconvert_exporter": "python",
   "pygments_lexer": "ipython3",
   "version": "3.12.2"
  }
 },
 "nbformat": 4,
 "nbformat_minor": 2
}
