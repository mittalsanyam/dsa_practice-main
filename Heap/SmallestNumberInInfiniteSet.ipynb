{
 "cells": [
  {
   "cell_type": "markdown",
   "metadata": {},
   "source": [
    "# 2336. Smallest Number in Infinite Set\n",
    "**Level: Medium**\n",
    "\n",
    "[Problem Link](https://leetcode.com/problems/smallest-number-in-infinite-set/description/)\n",
    "\n",
    "You have a set which contains all positive integers [1, 2, 3, 4, 5, ...].\n",
    "\n",
    "Implement the SmallestInfiniteSet class:\n",
    "\n",
    "- SmallestInfiniteSet() Initializes the SmallestInfiniteSet object to contain all positive integers.\n",
    "- int popSmallest() Removes and returns the smallest integer contained in the infinite set.\n",
    "- void addBack(int num) Adds a positive integer num back into the infinite set, if it is not already in the infinite set.\n",
    "\n",
    "## Examples\n",
    "### Example 1:\n",
    "Input\n",
    "\n",
    "[\"SmallestInfiniteSet\", \"addBack\", \"popSmallest\", \"popSmallest\", \"popSmallest\", \"addBack\", \"popSmallest\", \"popSmallest\", \"popSmallest\"]\n",
    "\n",
    "[[], [2], [], [], [], [1], [], [], []]\n",
    "\n",
    "Output\n",
    "\n",
    "[null, null, 1, 2, 3, null, 1, 4, 5]\n",
    "\n",
    "Explanation\n",
    "\n",
    "SmallestInfiniteSet smallestInfiniteSet = new SmallestInfiniteSet();\n",
    "\n",
    "smallestInfiniteSet.addBack(2);    // 2 is already in the set, so no change is made.\n",
    "\n",
    "smallestInfiniteSet.popSmallest(); // return 1, since 1 is the smallest number, and remove it from the set.\n",
    "\n",
    "smallestInfiniteSet.popSmallest(); // return 2, and remove it from the set.\n",
    "smallestInfiniteSet.popSmallest(); // return 3, and remove it from the set.\n",
    "\n",
    "smallestInfiniteSet.addBack(1);    // 1 is added back to the set.\n",
    "\n",
    "smallestInfiniteSet.popSmallest(); // return 1, since 1 was added back to the set and\n",
    "                                   // is the smallest number, and remove it from the set.\n",
    "\n",
    "smallestInfiniteSet.popSmallest(); // return 4, and remove it from the set.\n",
    "\n",
    "smallestInfiniteSet.popSmallest(); // return 5, and remove it from the set.\n",
    "\n",
    "## Constraints:\n",
    "\n",
    "- 1 <= num <= 1000\n",
    "- At most 1000 calls will be made in total to popSmallest and addBack."
   ]
  },
  {
   "cell_type": "markdown",
   "metadata": {},
   "source": [
    "## Solution"
   ]
  },
  {
   "cell_type": "code",
   "execution_count": 1,
   "metadata": {},
   "outputs": [],
   "source": [
    "import heapq\n",
    "class SmallestInfiniteSet:\n",
    "    def __init__(self):\n",
    "        self.members = {}\n",
    "        self.heap = []\n",
    "        self.popMax=1\n",
    "        for i in range(1,2):\n",
    "            self.members[i]=True\n",
    "            heapq.heappush(self.heap,i)\n",
    "    \n",
    "    def popSmallest(self):\n",
    "        self.members[self.heap[0]]=False\n",
    "        self.popMax=self.popMax+1\n",
    "        self.members[self.popMax]=True\n",
    "        heapq.heappush(self.heap,self.popMax)\n",
    "        return heapq.heappop(self.heap)\n",
    "\n",
    "    def addBack(self,num):\n",
    "        if num not in self.members:\n",
    "            self.members[num]=True\n",
    "        if self.members[num]==False:\n",
    "            heapq.heappush(self.heap,num)\n",
    "            self.members[num]=True\n"
   ]
  }
 ],
 "metadata": {
  "kernelspec": {
   "display_name": "base",
   "language": "python",
   "name": "python3"
  },
  "language_info": {
   "codemirror_mode": {
    "name": "ipython",
    "version": 3
   },
   "file_extension": ".py",
   "mimetype": "text/x-python",
   "name": "python",
   "nbconvert_exporter": "python",
   "pygments_lexer": "ipython3",
   "version": "3.12.2"
  }
 },
 "nbformat": 4,
 "nbformat_minor": 2
}
