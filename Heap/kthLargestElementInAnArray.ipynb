{
 "cells": [
  {
   "cell_type": "markdown",
   "metadata": {},
   "source": [
    "# 215. Kth Largest Element in an Array\n",
    "\n",
    "Given an integer array nums and an integer k, return the kth largest element in the array.\n",
    "\n",
    "Note that it is the kth largest element in the sorted order, not the kth distinct element.\n",
    "\n",
    "Can you solve it without sorting?\n",
    "\n",
    "## Examples\n",
    "### Example 1\n",
    "Input: nums = [3,2,1,5,6,4], k = 2\n",
    "\n",
    "Output: 5\n",
    "\n",
    "### Example 2\n",
    "Input: nums = [3,2,3,1,2,4,5,5,6], k = 4\n",
    "\n",
    "Output: 4\n",
    "\n",
    "## Constraints:\n",
    "\n",
    "- $1 <= k <= nums.length <= 10^5$\n",
    "- $10^4 <= nums[i] <= 10^4$"
   ]
  },
  {
   "cell_type": "markdown",
   "metadata": {},
   "source": [
    "## Solution"
   ]
  },
  {
   "cell_type": "code",
   "execution_count": 1,
   "metadata": {},
   "outputs": [],
   "source": [
    "class Heap:\n",
    "    def __init__(self):\n",
    "        self.heap = []\n",
    "        self.n=0\n",
    "    def insert(self,val):\n",
    "        if self.n==0:\n",
    "            self.heap.append(val)\n",
    "            self.n+=1\n",
    "            return\n",
    "        self.heap.append(val)\n",
    "        idx=self.n\n",
    "        self.n+=1\n",
    "        parent = (idx-1)//2\n",
    "        while parent>-1 and self.heap[idx]<self.heap[parent]:\n",
    "            self.heap[idx],self.heap[parent]=self.heap[parent],self.heap[idx]\n",
    "            idx=parent\n",
    "            parent=(idx-1)//2\n",
    "    def pop(self):\n",
    "        if self.n==0:\n",
    "            return None\n",
    "        if self.heap==1:\n",
    "            elem=self.heap.pop()\n",
    "            self.n-=1\n",
    "            return elem\n",
    "        else:\n",
    "            self.heap[0],self.heap[-1]=self.heap[-1],self.heap[0]\n",
    "            elem = self.heap.pop()\n",
    "            self.n-=1\n",
    "            idx=0\n",
    "            flag=True\n",
    "            while flag:\n",
    "                smallest=idx\n",
    "                left = 2*idx+1\n",
    "                right = 2*idx+2\n",
    "                if left<self.n and self.heap[smallest]>self.heap[left]:\n",
    "                    smallest=left\n",
    "                if right<self.n and self.heap[smallest]>self.heap[right]:\n",
    "                    smallest=right\n",
    "                if smallest!=idx:\n",
    "                    self.heap[idx],self.heap[smallest]=self.heap[smallest],self.heap[idx]\n",
    "                    idx=smallest\n",
    "                else:\n",
    "                    flag=False\n",
    "            return elem\n",
    "\n",
    "def findkthLargest(nums,k):\n",
    "    n=len(nums)\n",
    "    heap = Heap()\n",
    "    for i in range(k):\n",
    "        heap.insert(nums[i])\n",
    "    for i in range(k,n):\n",
    "        if nums[i]>heap.heap[0]:\n",
    "            heap.pop()\n",
    "            heap.insert(nums[i])\n",
    "    return heap.heap[0]\n"
   ]
  },
  {
   "cell_type": "code",
   "execution_count": 2,
   "metadata": {},
   "outputs": [
    {
     "name": "stdout",
     "output_type": "stream",
     "text": [
      "5\n"
     ]
    }
   ],
   "source": [
    "print(findkthLargest([3,2,1,5,6,4],2))"
   ]
  },
  {
   "cell_type": "code",
   "execution_count": 3,
   "metadata": {},
   "outputs": [
    {
     "name": "stdout",
     "output_type": "stream",
     "text": [
      "4\n"
     ]
    }
   ],
   "source": [
    "print(findkthLargest([3,2,3,1,2,4,5,5,6],4))"
   ]
  },
  {
   "cell_type": "code",
   "execution_count": null,
   "metadata": {},
   "outputs": [],
   "source": []
  }
 ],
 "metadata": {
  "kernelspec": {
   "display_name": "base",
   "language": "python",
   "name": "python3"
  },
  "language_info": {
   "codemirror_mode": {
    "name": "ipython",
    "version": 3
   },
   "file_extension": ".py",
   "mimetype": "text/x-python",
   "name": "python",
   "nbconvert_exporter": "python",
   "pygments_lexer": "ipython3",
   "version": "3.12.2"
  }
 },
 "nbformat": 4,
 "nbformat_minor": 2
}
