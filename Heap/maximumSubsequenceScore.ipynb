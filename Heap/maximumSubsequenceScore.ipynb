{
 "cells": [
  {
   "cell_type": "markdown",
   "metadata": {},
   "source": [
    "# 2542. Maximum Subsequence Score\n",
    "**Level: Medium**\n",
    "\n",
    "[Problem Link](https://leetcode.com/problems/maximum-subsequence-score/description/)\n",
    "\n",
    "You are given two 0-indexed integer arrays nums1 and nums2 of equal length n and a positive integer k. You must choose a subsequence of indices from nums1 of length k.\n",
    "\n",
    "For chosen indices i0, i1, ..., ik - 1, your score is defined as:\n",
    "\n",
    "The sum of the selected elements from nums1 multiplied with the minimum of the selected elements from nums2.\n",
    "\n",
    "It can defined simply as: (nums1[i0] + nums1[i1] +...+ nums1[ik - 1]) * min(nums2[i0] , nums2[i1], ... ,nums2[ik - 1]).\n",
    "\n",
    "Return the maximum possible score.\n",
    "\n",
    "A subsequence of indices of an array is a set that can be derived from the set {0, 1, ..., n-1} by deleting some or no elements.\n",
    "\n",
    "## Examples\n",
    "### Example 1:\n",
    "\n",
    "Input: nums1 = [1,3,3,2], nums2 = [2,1,3,4], k = 3\n",
    "\n",
    "Output: 12\n",
    "\n",
    "Explanation: \n",
    "The four possible subsequence scores are:\n",
    "- We choose the indices 0, 1, and 2 with score = (1+3+3) * min(2,1,3) = 7.\n",
    "- We choose the indices 0, 1, and 3 with score = (1+3+2) * min(2,1,4) = 6. \n",
    "- We choose the indices 0, 2, and 3 with score = (1+3+2) * min(2,3,4) = 12. \n",
    "- We choose the indices 1, 2, and 3 with score = (3+3+2) * min(1,3,4) = 8.\n",
    "\n",
    "Therefore, we return the max score, which is 12.\n",
    "\n",
    "### Example 2:\n",
    "\n",
    "Input: nums1 = [4,2,3,1,1], nums2 = [7,5,10,9,6], k = 1\n",
    "\n",
    "Output: 30\n",
    "\n",
    "Explanation: \n",
    "\n",
    "Choosing index 2 is optimal: nums1[2] * nums2[2] = 3 * 10 = 30 is the maximum possible score.\n",
    "\n",
    "## Constraints:\n",
    "- n == nums1.length == nums2.length\n",
    "- $1 <= n <= 10^5$\n",
    "- $0 <= nums1[i], nums2[j] <= 10^5$\n",
    "- 1 <= k <= n"
   ]
  },
  {
   "cell_type": "code",
   "execution_count": 1,
   "metadata": {},
   "outputs": [
    {
     "name": "stdout",
     "output_type": "stream",
     "text": [
      "12\n"
     ]
    }
   ],
   "source": [
    "from collections import deque\n",
    "import heapq\n",
    "def maxScore(nums1,nums2,k):\n",
    "    merged = []\n",
    "    n=len(nums1)\n",
    "    for i in range(n):\n",
    "        merged.append((nums2[i],nums1[i]))\n",
    "    merged = sorted(merged,reverse=True)\n",
    "    heap=[]\n",
    "    score=0\n",
    "    curr_sum=0\n",
    "    for (num2,num1) in merged:\n",
    "        if len(heap)==k:\n",
    "            curr_sum-=heapq.heappop(heap)\n",
    "        heapq.heappush(heap,num1)\n",
    "        curr_sum+=num1\n",
    "        if len(heap)==k:\n",
    "            score=max(score,curr_sum*num2)    \n",
    "    return score\n",
    "\n",
    "print(maxScore([1,3,3,2],[2,1,3,4],3))"
   ]
  },
  {
   "cell_type": "code",
   "execution_count": 2,
   "metadata": {},
   "outputs": [
    {
     "name": "stdout",
     "output_type": "stream",
     "text": [
      "30\n"
     ]
    }
   ],
   "source": [
    "print(maxScore([4,2,3,1,1],[7,5,10,9,6],1))"
   ]
  },
  {
   "cell_type": "code",
   "execution_count": 3,
   "metadata": {},
   "outputs": [
    {
     "name": "stdout",
     "output_type": "stream",
     "text": [
      "168\n"
     ]
    }
   ],
   "source": [
    "print(maxScore([2,1,14,12],[11,7,13,6],3))"
   ]
  }
 ],
 "metadata": {
  "kernelspec": {
   "display_name": "base",
   "language": "python",
   "name": "python3"
  },
  "language_info": {
   "codemirror_mode": {
    "name": "ipython",
    "version": 3
   },
   "file_extension": ".py",
   "mimetype": "text/x-python",
   "name": "python",
   "nbconvert_exporter": "python",
   "pygments_lexer": "ipython3",
   "version": "3.12.2"
  }
 },
 "nbformat": 4,
 "nbformat_minor": 2
}
