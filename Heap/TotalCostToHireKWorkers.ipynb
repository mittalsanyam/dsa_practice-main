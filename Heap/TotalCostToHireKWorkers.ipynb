{
 "cells": [
  {
   "cell_type": "markdown",
   "metadata": {},
   "source": [
    "# 2462. Total Cost to Hire K Workers\n",
    "**Level: Medium**\n",
    "\n",
    "[Problem Link](https://leetcode.com/problems/total-cost-to-hire-k-workers/description/)\n",
    "\n",
    "You are given a 0-indexed integer array costs where costs[i] is the cost of hiring the ith worker.\n",
    "\n",
    "You are also given two integers k and candidates. We want to hire exactly k workers according to the following rules:\n",
    "\n",
    "You will run k sessions and hire exactly one worker in each session.\n",
    "In each hiring session, choose the worker with the lowest cost from either the first candidates workers or the last candidates workers. Break the tie by the smallest index.\n",
    "For example, if costs = [3,2,7,7,1,2] and candidates = 2, then in the first hiring session, we will choose the 4th worker because they have the lowest cost [3,2,7,7,1,2].\n",
    "In the second hiring session, we will choose 1st worker because they have the same lowest cost as 4th worker but they have the smallest index [3,2,7,7,2]. Please note that the indexing may be changed in the process.\n",
    "If there are fewer than candidates workers remaining, choose the worker with the lowest cost among them. Break the tie by the smallest index.\n",
    "A worker can only be chosen once.\n",
    "Return the total cost to hire exactly k workers.\n",
    "\n",
    "## Examples \n",
    "\n",
    "### Example 1:\n",
    "Input: costs = [17,12,10,2,7,2,11,20,8], k = 3, candidates = 4\n",
    "\n",
    "Output: 11\n",
    "\n",
    "Explanation: We hire 3 workers in total. The total cost is initially 0.\n",
    "- In the first hiring round we choose the worker from [17,12,10,2,7,2,11,20,8]. The lowest cost is 2, and we break the tie by the smallest index, which is 3. The total cost = 0 + 2 = 2.\n",
    "- In the second hiring round we choose the worker from [17,12,10,7,2,11,20,8]. The lowest cost is 2 (index 4). The total cost = 2 + 2 = 4.\n",
    "- In the third hiring round we choose the worker from [17,12,10,7,11,20,8]. The lowest cost is 7 (index 3). The total cost = 4 + 7 = 11. Notice that the worker with index 3 was common in the first and last four workers.\n",
    "The total hiring cost is 11.\n",
    "\n",
    "### Example 2:\n",
    "Input: costs = [1,2,4,1], k = 3, candidates = 3\n",
    "\n",
    "Output: 4\n",
    "\n",
    "Explanation: We hire 3 workers in total. The total cost is initially 0.\n",
    "- In the first hiring round we choose the worker from [1,2,4,1]. The lowest cost is 1, and we break the tie by the smallest index, which is 0. The total cost = 0 + 1 = 1. Notice that workers with index 1 and 2 are common in the first and last 3 workers.\n",
    "- In the second hiring round we choose the worker from [2,4,1]. The lowest cost is 1 (index 2). The total cost = 1 + 1 = 2.\n",
    "- In the third hiring round there are less than three candidates. We choose the worker from the remaining workers [2,4]. The lowest cost is 2 (index 0). The total cost = 2 + 2 = 4.\n",
    "The total hiring cost is 4.\n",
    " \n",
    "## Constraints:\n",
    "\n",
    "- $1 <= costs.length <= 10^5$ \n",
    "- $1 <= costs[i] <= 10^5$\n",
    "- 1 <= k, candidates <= costs.length\n"
   ]
  },
  {
   "cell_type": "markdown",
   "metadata": {},
   "source": [
    "## Solution"
   ]
  },
  {
   "cell_type": "code",
   "execution_count": 11,
   "metadata": {},
   "outputs": [],
   "source": [
    "import heapq\n",
    "from collections import deque\n",
    "def totalCost(costs,k,candidates):\n",
    "    costs = deque(costs)\n",
    "    left_heap = []\n",
    "    right_heap = []\n",
    "    for _ in range(candidates):\n",
    "        elem = costs.popleft()\n",
    "        heapq.heappush(left_heap,elem)\n",
    "    for _ in range(candidates):\n",
    "        if costs:\n",
    "            elem = costs.pop()\n",
    "            heapq.heappush(right_heap,elem)\n",
    "    rep=0\n",
    "    cost=0\n",
    "\n",
    "    while rep<k:\n",
    "        rep+=1\n",
    "        if left_heap:\n",
    "            left = heapq.heappop(left_heap)\n",
    "        else:\n",
    "            left=float('inf')\n",
    "        if right_heap:\n",
    "            right = heapq.heappop(right_heap)\n",
    "        else:\n",
    "            right=float('inf')\n",
    "        if left<=right:\n",
    "            cost+=left\n",
    "            heapq.heappush(right_heap,right)\n",
    "            if costs:\n",
    "                heapq.heappush(left_heap,costs.popleft())\n",
    "        else:\n",
    "            cost+=right\n",
    "            heapq.heappush(left_heap,left)\n",
    "            if costs:\n",
    "                heapq.heappush(right_heap,costs.pop())\n",
    "    return cost"
   ]
  },
  {
   "cell_type": "code",
   "execution_count": 12,
   "metadata": {},
   "outputs": [
    {
     "name": "stdout",
     "output_type": "stream",
     "text": [
      "11\n"
     ]
    }
   ],
   "source": [
    "print(totalCost([17,12,10,2,7,2,11,20,8],3,4))"
   ]
  },
  {
   "cell_type": "code",
   "execution_count": 13,
   "metadata": {},
   "outputs": [
    {
     "name": "stdout",
     "output_type": "stream",
     "text": [
      "4\n"
     ]
    }
   ],
   "source": [
    "print(totalCost([1,2,4,1],3,3))"
   ]
  },
  {
   "cell_type": "code",
   "execution_count": 14,
   "metadata": {},
   "outputs": [
    {
     "name": "stdout",
     "output_type": "stream",
     "text": [
      "223\n"
     ]
    }
   ],
   "source": [
    "print(totalCost([18,64,12,21,21,78,36,58,88,58,99,26,92,91,53,10,24,25,20,92,73,63,51,65,87,6,17,32,14,42,46,65,43,9,75],13,23))"
   ]
  }
 ],
 "metadata": {
  "kernelspec": {
   "display_name": "base",
   "language": "python",
   "name": "python3"
  },
  "language_info": {
   "codemirror_mode": {
    "name": "ipython",
    "version": 3
   },
   "file_extension": ".py",
   "mimetype": "text/x-python",
   "name": "python",
   "nbconvert_exporter": "python",
   "pygments_lexer": "ipython3",
   "version": "3.12.2"
  }
 },
 "nbformat": 4,
 "nbformat_minor": 2
}
