{
 "cells": [
  {
   "cell_type": "markdown",
   "metadata": {},
   "source": [
    "# 216. Combination Sum III\n",
    "**Level: Medium**\n",
    "\n",
    "[Problem Link](https://leetcode.com/problems/combination-sum-iii/description/?envType=study-plan-v2&envId=leetcode-75)\n",
    "\n",
    "Find all valid combinations of k numbers that sum up to n such that the following conditions are true:\n",
    "- Only numbers 1 through 9 are used.\n",
    "- Each number is used at most once.\n",
    "\n",
    "Return a list of all possible valid combinations. The list must not contain the same combination twice, and the combinations may be returned in any order.\n",
    "\n",
    "## Examples\n",
    "\n",
    "### Example 1:\n",
    "\n",
    "Input: k = 3, n = 7\n",
    "Output: [[1,2,4]]\n",
    "Explanation:\n",
    "1 + 2 + 4 = 7\n",
    "There are no other valid combinations.\n",
    "\n",
    "### Example 2:\n",
    "\n",
    "Input: k = 3, n = 9\n",
    "\n",
    "Output: [[1,2,6],[1,3,5],[2,3,4]]\n",
    "\n",
    "Explanation:\n",
    "\n",
    "1 + 2 + 6 = 9\n",
    "\n",
    "1 + 3 + 5 = 9\n",
    "\n",
    "2 + 3 + 4 = 9\n",
    "\n",
    "There are no other valid combinations.\n",
    "\n",
    "### Example 3\n",
    "\n",
    "Input: k = 4, n = 1\n",
    "\n",
    "Output: []\n",
    "\n",
    "Explanation: There are no valid combinations.\n",
    "\n",
    "Using 4 different numbers in the range [1,9], the smallest sum we can get is 1+2+3+4 = 10 and since 10 > 1, there are no valid combination.\n",
    "\n",
    "### Constraints:\n",
    "- 2 <= k <= 9\n",
    "- 1 <= n <= 60"
   ]
  },
  {
   "cell_type": "markdown",
   "metadata": {},
   "source": [
    "## Solution"
   ]
  },
  {
   "cell_type": "code",
   "execution_count": 19,
   "metadata": {},
   "outputs": [
    {
     "data": {
      "text/plain": [
       "[[1, 2, 6], [1, 3, 5], [2, 3, 4]]"
      ]
     },
     "execution_count": 19,
     "metadata": {},
     "output_type": "execute_result"
    }
   ],
   "source": [
    "def combinationSum3(k,n):\n",
    "    total=0\n",
    "    comb=[]\n",
    "    for i in range(1,k+1):\n",
    "        total+=i\n",
    "    if total>n:\n",
    "        return comb\n",
    "    total=0\n",
    "    for i in range(9,9-k,-1):\n",
    "        total+=i\n",
    "    if total<n:\n",
    "        return comb\n",
    "    allPaths=[]\n",
    "    for i in range(1,10):\n",
    "        stack=[(i,0,0,[])]\n",
    "        while stack:\n",
    "            u,total,p,path = stack.pop()\n",
    "            total+=u\n",
    "            p+=1\n",
    "            path.append(u)\n",
    "            if total>n:\n",
    "                continue\n",
    "            if p>k:\n",
    "                continue\n",
    "            if p==k:\n",
    "                if total==n:\n",
    "                    allPaths.append(path)\n",
    "                continue\n",
    "            for v in range(9,u,-1):\n",
    "                stack.append((v,total,p,path.copy()))\n",
    "    return allPaths\n",
    "        \n",
    "combinationSum3(3,9)"
   ]
  },
  {
   "cell_type": "code",
   "execution_count": 20,
   "metadata": {},
   "outputs": [
    {
     "data": {
      "text/plain": [
       "[[1, 2, 4]]"
      ]
     },
     "execution_count": 20,
     "metadata": {},
     "output_type": "execute_result"
    }
   ],
   "source": [
    "combinationSum3(3,7)"
   ]
  }
 ],
 "metadata": {
  "kernelspec": {
   "display_name": "base",
   "language": "python",
   "name": "python3"
  },
  "language_info": {
   "codemirror_mode": {
    "name": "ipython",
    "version": 3
   },
   "file_extension": ".py",
   "mimetype": "text/x-python",
   "name": "python",
   "nbconvert_exporter": "python",
   "pygments_lexer": "ipython3",
   "version": "3.12.2"
  }
 },
 "nbformat": 4,
 "nbformat_minor": 2
}
