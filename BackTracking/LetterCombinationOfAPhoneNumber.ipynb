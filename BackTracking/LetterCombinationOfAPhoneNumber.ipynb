{
 "cells": [
  {
   "cell_type": "markdown",
   "metadata": {},
   "source": [
    "# 17. Letter Combinations of a Phone Number\n",
    "**Level: Medium**\n",
    "\n",
    "[Problem Link](https://leetcode.com/problems/letter-combinations-of-a-phone-number/description/)\n",
    "\n",
    "Given a string containing digits from 2-9 inclusive, return all possible letter combinations that the number could represent. Return the answer in any order.\n",
    "\n",
    "A mapping of digits to letters (just like on the telephone buttons) is given below. Note that 1 does not map to any letters.\n",
    "\n",
    "## Examples\n",
    "\n",
    "### Example 1\n",
    "Input: digits = \"23\"\n",
    "\n",
    "Output: [\"ad\",\"ae\",\"af\",\"bd\",\"be\",\"bf\",\"cd\",\"ce\",\"cf\"]\n",
    "\n",
    "### Example 2\n",
    "Input: digits = \"\"\n",
    "\n",
    "Output: []\n",
    "\n",
    "### Example 3\n",
    "Input: digits = \"2\"\n",
    "\n",
    "Output: [\"a\",\"b\",\"c\"]\n",
    "\n",
    "## Constraints\n",
    "- 0 <= digits.length <= 4\n",
    "- digits[i] is a digit in the range ['2', '9'].\n",
    "\n"
   ]
  },
  {
   "cell_type": "markdown",
   "metadata": {},
   "source": [
    "## Solution"
   ]
  },
  {
   "cell_type": "code",
   "execution_count": 50,
   "metadata": {},
   "outputs": [],
   "source": [
    "def letterCombinations(digits):\n",
    "    if len(digits)==0:\n",
    "            return []\n",
    "    map = {\n",
    "        \"2\":[\"a\",\"b\",\"c\"],\n",
    "        \"3\":[\"d\",\"e\",\"f\"],\n",
    "        \"4\":[\"g\",\"h\",\"i\"],\n",
    "        \"5\":[\"j\",\"k\",\"l\"],\n",
    "        \"6\":[\"m\",\"n\",\"o\"],\n",
    "        \"7\":[\"p\",\"q\",\"r\",\"s\"],\n",
    "        \"8\":[\"t\",\"u\",\"v\"],\n",
    "        \"9\":[\"w\",\"x\",\"y\",\"z\"]\n",
    "    }\n",
    "    stack=[]\n",
    "    i=len(digits)-1\n",
    "    while i>-1:\n",
    "        if i==len(digits)-1:\n",
    "            temp={}\n",
    "            for key in map[digits[i]]:\n",
    "                temp[key]={}\n",
    "            stack.append(temp)\n",
    "        else:\n",
    "            temp = stack.pop()\n",
    "            curr={}\n",
    "            for key in map[digits[i]]:\n",
    "                curr[key]=temp\n",
    "            stack.append(curr)\n",
    "        i-=1\n",
    "    comb=''\n",
    "    if stack:\n",
    "        d = stack.pop()\n",
    "    res=[]\n",
    "    stack=[]\n",
    "    stack.append((d,comb))\n",
    "    while stack:\n",
    "        temp,comb = stack.pop()\n",
    "        if not temp:\n",
    "            res.append(comb)\n",
    "        else:\n",
    "            for key in temp.keys():\n",
    "                stack.append((temp[key],comb+key))\n",
    "    return res\n",
    "                      "
   ]
  },
  {
   "cell_type": "code",
   "execution_count": 54,
   "metadata": {},
   "outputs": [
    {
     "name": "stdout",
     "output_type": "stream",
     "text": [
      "['cfsl', 'cfsk', 'cfsj', 'cfrl', 'cfrk', 'cfrj', 'cfql', 'cfqk', 'cfqj', 'cfpl', 'cfpk', 'cfpj', 'cesl', 'cesk', 'cesj', 'cerl', 'cerk', 'cerj', 'ceql', 'ceqk', 'ceqj', 'cepl', 'cepk', 'cepj', 'cdsl', 'cdsk', 'cdsj', 'cdrl', 'cdrk', 'cdrj', 'cdql', 'cdqk', 'cdqj', 'cdpl', 'cdpk', 'cdpj', 'bfsl', 'bfsk', 'bfsj', 'bfrl', 'bfrk', 'bfrj', 'bfql', 'bfqk', 'bfqj', 'bfpl', 'bfpk', 'bfpj', 'besl', 'besk', 'besj', 'berl', 'berk', 'berj', 'beql', 'beqk', 'beqj', 'bepl', 'bepk', 'bepj', 'bdsl', 'bdsk', 'bdsj', 'bdrl', 'bdrk', 'bdrj', 'bdql', 'bdqk', 'bdqj', 'bdpl', 'bdpk', 'bdpj', 'afsl', 'afsk', 'afsj', 'afrl', 'afrk', 'afrj', 'afql', 'afqk', 'afqj', 'afpl', 'afpk', 'afpj', 'aesl', 'aesk', 'aesj', 'aerl', 'aerk', 'aerj', 'aeql', 'aeqk', 'aeqj', 'aepl', 'aepk', 'aepj', 'adsl', 'adsk', 'adsj', 'adrl', 'adrk', 'adrj', 'adql', 'adqk', 'adqj', 'adpl', 'adpk', 'adpj']\n"
     ]
    }
   ],
   "source": [
    "print(letterCombinations(\"2375\"))"
   ]
  }
 ],
 "metadata": {
  "kernelspec": {
   "display_name": "base",
   "language": "python",
   "name": "python3"
  },
  "language_info": {
   "codemirror_mode": {
    "name": "ipython",
    "version": 3
   },
   "file_extension": ".py",
   "mimetype": "text/x-python",
   "name": "python",
   "nbconvert_exporter": "python",
   "pygments_lexer": "ipython3",
   "version": "3.12.2"
  }
 },
 "nbformat": 4,
 "nbformat_minor": 2
}
