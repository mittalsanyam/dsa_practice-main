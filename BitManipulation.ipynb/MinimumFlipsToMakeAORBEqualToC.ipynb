{
 "cells": [
  {
   "cell_type": "markdown",
   "metadata": {},
   "source": [
    "# 1318. Minimum Flips to Make a OR b Equal to c\n",
    "**Level: Medium**\n",
    "\n",
    "[Problem Link](https://leetcode.com/problems/minimum-flips-to-make-a-or-b-equal-to-c/description/)\n",
    "\n",
    "Given 3 positives numbers `a`, `b` and `c`. Return the minimum flips required in some bits of a and b to make ( `a` OR `b` == `c` ). (bitwise OR operation).\n",
    "Flip operation consists of change any single bit `1` to `0` or change the bit `0` to `1` in their binary representation.\n",
    "\n",
    "## Examples\n",
    "\n",
    "### Example 1\n",
    "\n",
    "Input: a = 2, b = 6, c = 5\n",
    "\n",
    "Output: 3\n",
    "\n",
    "Explanation: After flips a = 1 , b = 4 , c = 5 such that (a OR b == c)\n",
    "\n",
    "### Example 2\n",
    "Input: a = 4, b = 2, c = 7\n",
    "\n",
    "Output: 1\n",
    "\n",
    "### Example 3\n",
    "Input: a = 1, b = 2, c = 3\n",
    "\n",
    "Output: 0"
   ]
  },
  {
   "cell_type": "code",
   "execution_count": 38,
   "metadata": {},
   "outputs": [],
   "source": [
    "def minFlips(a,b,c):\n",
    "    a = bin(a)[2:]\n",
    "    b = bin(b)[2:]\n",
    "    c = bin(c)[2:]\n",
    "    n = max(len(a),len(b),len(c))\n",
    "    if len(a)<n:\n",
    "      m = len(a)\n",
    "      while m<n:\n",
    "         a=\"0\"+a\n",
    "         m=m+1\n",
    "    if len(b)<n:\n",
    "       m=len(b)\n",
    "       while m<n:\n",
    "          b=\"0\"+b\n",
    "          m=m+1\n",
    "    if len(c)<n:\n",
    "       m=len(c)\n",
    "       while m<n:\n",
    "          c=\"0\"+c\n",
    "          m=m+1\n",
    "    count=0\n",
    "    for i in range(n-1,-1,-1):\n",
    "        if c[i]==\"0\":\n",
    "            if a[i]==\"1\":\n",
    "                count+=1\n",
    "            if b[i]==\"1\":\n",
    "                count+=1\n",
    "        if c[i]==\"1\":\n",
    "            if a[i]==\"0\" and b[i]==\"0\":\n",
    "               count+=1\n",
    "    return count"
   ]
  },
  {
   "cell_type": "code",
   "execution_count": 42,
   "metadata": {},
   "outputs": [],
   "source": [
    "def minFlips(a,b,c):\n",
    "    n = max(a,b,c)\n",
    "    i = 1\n",
    "    count=0\n",
    "    while i<=n:\n",
    "        x= a & i\n",
    "        y= b & i\n",
    "        z= c & i\n",
    "        if z==0:\n",
    "            if x>=1:\n",
    "                count+=1\n",
    "            if y>=1:\n",
    "                count+=1\n",
    "        else:\n",
    "            if x==0 and y==0:\n",
    "                count+=1\n",
    "        i <<= 1\n",
    "    return count"
   ]
  },
  {
   "cell_type": "code",
   "execution_count": 46,
   "metadata": {},
   "outputs": [
    {
     "data": {
      "text/plain": [
       "3"
      ]
     },
     "execution_count": 46,
     "metadata": {},
     "output_type": "execute_result"
    }
   ],
   "source": [
    "minFlips(2,6,5)"
   ]
  },
  {
   "cell_type": "code",
   "execution_count": 47,
   "metadata": {},
   "outputs": [
    {
     "data": {
      "text/plain": [
       "1"
      ]
     },
     "execution_count": 47,
     "metadata": {},
     "output_type": "execute_result"
    }
   ],
   "source": [
    "minFlips(4,2,7)"
   ]
  },
  {
   "cell_type": "code",
   "execution_count": 48,
   "metadata": {},
   "outputs": [
    {
     "data": {
      "text/plain": [
       "0"
      ]
     },
     "execution_count": 48,
     "metadata": {},
     "output_type": "execute_result"
    }
   ],
   "source": [
    "minFlips(1,2,3)"
   ]
  }
 ],
 "metadata": {
  "kernelspec": {
   "display_name": "base",
   "language": "python",
   "name": "python3"
  },
  "language_info": {
   "codemirror_mode": {
    "name": "ipython",
    "version": 3
   },
   "file_extension": ".py",
   "mimetype": "text/x-python",
   "name": "python",
   "nbconvert_exporter": "python",
   "pygments_lexer": "ipython3",
   "version": "3.12.2"
  }
 },
 "nbformat": 4,
 "nbformat_minor": 2
}
