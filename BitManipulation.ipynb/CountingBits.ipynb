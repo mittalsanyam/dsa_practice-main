{
 "cells": [
  {
   "cell_type": "markdown",
   "metadata": {},
   "source": [
    "# 338. Counting Bits\n",
    "**Level: Easy**\n",
    "\n",
    "[Problem Link](https://leetcode.com/problems/counting-bits/description/)\n",
    "\n",
    "Given an integer n, return an array ans of length n + 1 such that for each i (0 <= i <= n), ans[i] is the number of 1's in the binary representation of i.\n",
    "\n",
    "## Examples\n",
    "\n",
    "### Example 1:\n",
    "Input: n = 2\n",
    "\n",
    "Output: [0,1,1]\n",
    "\n",
    "Explanation:\n",
    "\n",
    "0 --> 0\n",
    "\n",
    "1 --> 1\n",
    "\n",
    "2 --> 10\n",
    "\n",
    "### Example 2:\n",
    "Input: n = 5\n",
    "\n",
    "Output: [0,1,1,2,1,2]\n",
    "\n",
    "Explanation:\n",
    "\n",
    "0 --> 0\n",
    "\n",
    "1 --> 1\n",
    "\n",
    "2 --> 10\n",
    "\n",
    "3 --> 11\n",
    "\n",
    "4 --> 100\n",
    "\n",
    "5 --> 101\n",
    "\n",
    "## Constraints:\n",
    "- $0 <= n <= 10^5$"
   ]
  },
  {
   "cell_type": "markdown",
   "metadata": {},
   "source": [
    "## Solution"
   ]
  },
  {
   "cell_type": "code",
   "execution_count": 24,
   "metadata": {},
   "outputs": [
    {
     "name": "stdout",
     "output_type": "stream",
     "text": [
      "[0, 1, 1, 2, 1, 2]\n"
     ]
    }
   ],
   "source": [
    "import math\n",
    "def countBits(n):\n",
    "    numBits=[0]\n",
    "    for i in range(1,n+1):\n",
    "        numBits.append(bin(i).count('1'))\n",
    "    return numBits\n",
    "\n",
    "print(countBits(5))"
   ]
  }
 ],
 "metadata": {
  "kernelspec": {
   "display_name": "base",
   "language": "python",
   "name": "python3"
  },
  "language_info": {
   "codemirror_mode": {
    "name": "ipython",
    "version": 3
   },
   "file_extension": ".py",
   "mimetype": "text/x-python",
   "name": "python",
   "nbconvert_exporter": "python",
   "pygments_lexer": "ipython3",
   "version": "3.12.2"
  }
 },
 "nbformat": 4,
 "nbformat_minor": 2
}
