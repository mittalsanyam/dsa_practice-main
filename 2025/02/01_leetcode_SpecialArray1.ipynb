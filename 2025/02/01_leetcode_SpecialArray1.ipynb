{
 "cells": [
  {
   "cell_type": "markdown",
   "metadata": {},
   "source": [
    "# 3151. Special Array I\n",
    "**Level: Easy**\n",
    "\n",
    "[Problem Link](https://leetcode.com/problems/special-array-i/description/)\n",
    "\n",
    "An array is considered special if every pair of its adjacent elements contains two numbers with different parity.\n",
    "\n",
    "You are given an array of integers nums. Return true if nums is a special array, otherwise, return false.\n",
    "\n",
    "## Examples\n",
    "\n",
    "### Example 1:\n",
    "\n",
    "Input: nums = [1]\n",
    "\n",
    "Output: true\n",
    "\n",
    "Explanation:\n",
    "\n",
    "There is only one element. So the answer is true.\n",
    "\n",
    "### Example 2:\n",
    "\n",
    "Input: nums = [2,1,4]\n",
    "\n",
    "Output: true\n",
    "\n",
    "Explanation:\n",
    "\n",
    "There is only two pairs: (2,1) and (1,4), and both of them contain numbers with different parity. So the answer is true.\n",
    "\n",
    "Example 3:\n",
    "\n",
    "Input: nums = [4,3,1,6]\n",
    "\n",
    "Output: false\n",
    "\n",
    "Explanation:\n",
    "\n",
    "nums[1] and nums[2] are both odd. So the answer is false.\n",
    "\n",
    "## Constraints:\n",
    "- 1 <= nums.length <= 100\n",
    "- 1 <= nums[i] <= 100"
   ]
  },
  {
   "cell_type": "markdown",
   "metadata": {},
   "source": [
    "## Solution"
   ]
  },
  {
   "cell_type": "code",
   "execution_count": 1,
   "metadata": {},
   "outputs": [],
   "source": [
    "def isArraySpecial(nums):\n",
    "    n = len(nums)\n",
    "    flag=True\n",
    "    for i in range(n-1):\n",
    "        if nums[i]%2==0 and nums[i+1]%2==0:\n",
    "            flag=False\n",
    "        elif nums[i]%2==1 and nums[i+1]%2==1:\n",
    "            flag=False\n",
    "    return flag"
   ]
  },
  {
   "cell_type": "code",
   "execution_count": 2,
   "metadata": {},
   "outputs": [
    {
     "data": {
      "text/plain": [
       "True"
      ]
     },
     "execution_count": 2,
     "metadata": {},
     "output_type": "execute_result"
    }
   ],
   "source": [
    "isArraySpecial([2,1,4])"
   ]
  },
  {
   "cell_type": "code",
   "execution_count": 3,
   "metadata": {},
   "outputs": [
    {
     "data": {
      "text/plain": [
       "True"
      ]
     },
     "execution_count": 3,
     "metadata": {},
     "output_type": "execute_result"
    }
   ],
   "source": [
    "isArraySpecial([1])"
   ]
  },
  {
   "cell_type": "code",
   "execution_count": 4,
   "metadata": {},
   "outputs": [
    {
     "data": {
      "text/plain": [
       "False"
      ]
     },
     "execution_count": 4,
     "metadata": {},
     "output_type": "execute_result"
    }
   ],
   "source": [
    "isArraySpecial([4,3,1,6])"
   ]
  }
 ],
 "metadata": {
  "kernelspec": {
   "display_name": "base",
   "language": "python",
   "name": "python3"
  },
  "language_info": {
   "codemirror_mode": {
    "name": "ipython",
    "version": 3
   },
   "file_extension": ".py",
   "mimetype": "text/x-python",
   "name": "python",
   "nbconvert_exporter": "python",
   "pygments_lexer": "ipython3",
   "version": "3.12.2"
  }
 },
 "nbformat": 4,
 "nbformat_minor": 2
}
