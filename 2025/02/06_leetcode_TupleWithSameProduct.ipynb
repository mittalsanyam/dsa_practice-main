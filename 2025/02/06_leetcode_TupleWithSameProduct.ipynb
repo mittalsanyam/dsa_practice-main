{
 "cells": [
  {
   "cell_type": "markdown",
   "metadata": {},
   "source": [
    "# 1726. Tuple with Same Product\n",
    "\n",
    "**Level: Medium**\n",
    "\n",
    "[Problem Link](https://leetcode.com/problems/tuple-with-same-product/description/)\n",
    "\n",
    "Given an array nums of distinct positive integers, return the number of tuples (a, b, c, d) such that $a * b = c * d$ where a, b, c, and d are elements of nums, and $a != b != c != d$.\n",
    "\n",
    "## Examples\n",
    "### Example 1:\n",
    "\n",
    "Input: nums = [2,3,4,6]\n",
    "\n",
    "Output: 8\n",
    "\n",
    "Explanation: There are 8 valid tuples:\n",
    "\n",
    "(2,6,3,4) , (2,6,4,3) , (6,2,3,4) , (6,2,4,3)\n",
    "\n",
    "(3,4,2,6) , (4,3,2,6) , (3,4,6,2) , (4,3,6,2)\n",
    "\n",
    "### Example 2:\n",
    "\n",
    "Input: nums = [1,2,4,5,10]\n",
    "\n",
    "Output: 16\n",
    "\n",
    "Explanation: There are 16 valid tuples:\n",
    "\n",
    "(1,10,2,5) , (1,10,5,2) , (10,1,2,5) , (10,1,5,2)\n",
    "\n",
    "(2,5,1,10) , (2,5,10,1) , (5,2,1,10) , (5,2,10,1)\n",
    "\n",
    "(2,10,4,5) , (2,10,5,4) , (10,2,4,5) , (10,2,5,4)\n",
    "\n",
    "(4,5,2,10) , (4,5,10,2) , (5,4,2,10) , (5,4,10,2)\n",
    " \n",
    "\n",
    "## Constraints:\n",
    "\n",
    "- $1 <= nums.length <= 1000$\n",
    "- $1 <= nums[i] <= 10^4$\n",
    "-All elements in nums are distinct.\n"
   ]
  },
  {
   "cell_type": "markdown",
   "metadata": {},
   "source": [
    "## Solution"
   ]
  },
  {
   "cell_type": "code",
   "execution_count": 4,
   "metadata": {},
   "outputs": [
    {
     "name": "stdout",
     "output_type": "stream",
     "text": [
      "8\n"
     ]
    }
   ],
   "source": [
    "def tupleSameProduct(nums):\n",
    "    n = len(nums)\n",
    "    products={}\n",
    "    for i in range(n):\n",
    "        for j in range(i+1,n):\n",
    "            prod = nums[i]*nums[j]\n",
    "            if prod not in products.keys():\n",
    "                products[prod]=0\n",
    "            products[prod]+=1\n",
    "    numTuple=0\n",
    "    for prod in products.keys():\n",
    "        if products[prod]>=2:\n",
    "            numTuple+=((products[prod])*(products[prod]-1)*4)\n",
    "    return numTuple\n",
    "\n",
    "print(tupleSameProduct([2,3,4,6]))"
   ]
  },
  {
   "cell_type": "code",
   "execution_count": 5,
   "metadata": {},
   "outputs": [
    {
     "name": "stdout",
     "output_type": "stream",
     "text": [
      "16\n"
     ]
    }
   ],
   "source": [
    "print(tupleSameProduct([1,2,4,5,10]))"
   ]
  }
 ],
 "metadata": {
  "kernelspec": {
   "display_name": "base",
   "language": "python",
   "name": "python3"
  },
  "language_info": {
   "codemirror_mode": {
    "name": "ipython",
    "version": 3
   },
   "file_extension": ".py",
   "mimetype": "text/x-python",
   "name": "python",
   "nbconvert_exporter": "python",
   "pygments_lexer": "ipython3",
   "version": "3.12.2"
  }
 },
 "nbformat": 4,
 "nbformat_minor": 2
}
