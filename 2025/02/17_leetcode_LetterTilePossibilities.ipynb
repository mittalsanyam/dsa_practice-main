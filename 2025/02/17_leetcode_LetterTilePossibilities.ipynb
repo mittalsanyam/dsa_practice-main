{
 "cells": [
  {
   "cell_type": "markdown",
   "metadata": {},
   "source": [
    "# 1079. Letter Tile Possibilities\n",
    "\n",
    "**Level: Medium**\n",
    "\n",
    "[Problem Link](https://leetcode.com/problems/letter-tile-possibilities/description/)\n",
    "\n",
    "You have n  tiles, where each tile has one letter tiles[i] printed on it.\n",
    "\n",
    "Return the number of possible non-empty sequences of letters you can make using the letters printed on those tiles.\n",
    "\n",
    "## Examples \n",
    "\n",
    "### Example 1:\n",
    "Input: tiles = \"AAB\"\n",
    "\n",
    "Output: 8\n",
    "\n",
    "Explanation: The possible sequences are \"A\", \"B\", \"AA\", \"AB\", \"BA\", \"AAB\", \"ABA\", \"BAA\".\n",
    "\n",
    "### Example 2:\n",
    "Input: tiles = \"AAABBC\"\n",
    "\n",
    "Output: 188\n",
    "\n",
    "### Example 3:\n",
    "\n",
    "Input: tiles = \"V\"\n",
    "\n",
    "Output: 1\n",
    "\n",
    "## Constraints:\n",
    "- 1 <= tiles.length <= 7\n",
    "- tiles consists of uppercase English letters."
   ]
  },
  {
   "cell_type": "markdown",
   "metadata": {},
   "source": [
    "## Solution"
   ]
  },
  {
   "cell_type": "code",
   "execution_count": 56,
   "metadata": {},
   "outputs": [],
   "source": [
    "def numTilePossibilities(tiles):\n",
    "    sequences = set()\n",
    "    stack = []\n",
    "    freq={}\n",
    "    for ch in tiles:\n",
    "        if ch not in freq.keys():\n",
    "            freq[ch]=0\n",
    "        freq[ch]+=1\n",
    "    for ch in freq.keys():\n",
    "        temp=freq.copy()\n",
    "        temp[ch]-=1\n",
    "        stack.append((ch,temp))\n",
    "    while stack:\n",
    "        seq,curr = stack.pop()\n",
    "        sequences.add(seq)\n",
    "        for ch in tiles:\n",
    "            if curr[ch]>0:\n",
    "                temp = curr.copy()\n",
    "                temp[ch]-=1\n",
    "                stack.append((seq+ch,temp))  \n",
    "    return len(sequences)"
   ]
  },
  {
   "cell_type": "code",
   "execution_count": 57,
   "metadata": {},
   "outputs": [
    {
     "name": "stdout",
     "output_type": "stream",
     "text": [
      "8\n"
     ]
    }
   ],
   "source": [
    "print(numTilePossibilities(\"AAB\"))"
   ]
  },
  {
   "cell_type": "code",
   "execution_count": 58,
   "metadata": {},
   "outputs": [
    {
     "name": "stdout",
     "output_type": "stream",
     "text": [
      "188\n"
     ]
    }
   ],
   "source": [
    "print(numTilePossibilities(\"AAABBC\"))"
   ]
  },
  {
   "cell_type": "code",
   "execution_count": 59,
   "metadata": {},
   "outputs": [
    {
     "name": "stdout",
     "output_type": "stream",
     "text": [
      "1\n"
     ]
    }
   ],
   "source": [
    "print(numTilePossibilities(\"V\"))"
   ]
  }
 ],
 "metadata": {
  "kernelspec": {
   "display_name": "base",
   "language": "python",
   "name": "python3"
  },
  "language_info": {
   "codemirror_mode": {
    "name": "ipython",
    "version": 3
   },
   "file_extension": ".py",
   "mimetype": "text/x-python",
   "name": "python",
   "nbconvert_exporter": "python",
   "pygments_lexer": "ipython3",
   "version": "3.12.2"
  }
 },
 "nbformat": 4,
 "nbformat_minor": 2
}
