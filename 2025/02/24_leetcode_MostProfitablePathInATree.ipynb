{
 "cells": [
  {
   "cell_type": "markdown",
   "metadata": {},
   "source": [
    "# 2467. Most Profitable Path in a Tree\n",
    "\n",
    "**Level: Medium**\n",
    "\n",
    "[Problem Link](https://leetcode.com/problems/most-profitable-path-in-a-tree/description/)\n",
    "\n",
    "There is an undirected tree with n nodes labeled from 0 to n - 1, rooted at node 0. You are given a 2D integer array edges of length n - 1 where edges[i] = [ai, bi] indicates that there is an edge between nodes ai and bi in the tree.\n",
    "\n",
    "At every node i, there is a gate. You are also given an array of even integers amount, where amount[i] represents:\n",
    "\n",
    "the price needed to open the gate at node i, if amount[i] is negative, or,\n",
    "the cash reward obtained on opening the gate at node i, otherwise.\n",
    "The game goes on as follows:\n",
    "\n",
    "Initially, Alice is at node 0 and Bob is at node bob.\n",
    "\n",
    "At every second, Alice and Bob each move to an adjacent node. Alice moves towards some leaf node, while Bob moves towards node 0.\n",
    "\n",
    "For every node along their path, Alice and Bob either spend money to open the gate at that node, or accept the reward. Note that:\n",
    "\n",
    "If the gate is already open, no price will be required, nor will there be any cash reward.\n",
    "\n",
    "If Alice and Bob reach the node simultaneously, they share the price/reward for opening the gate there. In other words, if the price to open the gate is c, then both Alice and Bob pay c / 2 each. Similarly, if the reward at the gate is c, both of them receive c / 2 each.\n",
    "\n",
    "If Alice reaches a leaf node, she stops moving. Similarly, if Bob reaches node 0, he stops moving. Note that these events are independent of each other.\n",
    "Return the maximum net income Alice can have if she travels towards the optimal leaf node.\n",
    "\n",
    "## Examples\n",
    "\n",
    "### Example 1\n",
    "\n",
    "Input: edges = [[0,1],[1,2],[1,3],[3,4]], bob = 3, amount = [-2,4,2,-4,6]\n",
    "\n",
    "Output: 6\n",
    "\n",
    "Explanation: \n",
    "\n",
    "The game goes as follows:\n",
    "- Alice is initially on node 0, Bob on node 3. They open the gates of their respective nodes.\n",
    "  Alice's net income is now -2.\n",
    "- Both Alice and Bob move to node 1. \n",
    "  Since they reach here simultaneously, they open the gate together and share the reward.\n",
    "  Alice's net income becomes -2 + (4 / 2) = 0.\n",
    "- Alice moves on to node 3. Since Bob already opened its gate, Alice's income remains unchanged.\n",
    "  Bob moves on to node 0, and stops moving.\n",
    "- Alice moves on to node 4 and opens the gate there. Her net income becomes 0 + 6 = 6.\n",
    "Now, neither Alice nor Bob can make any further moves, and the game ends.\n",
    "It is not possible for Alice to get a higher net income.\n",
    "\n",
    "### Example 2\n",
    "\n",
    "Input: edges = [[0,1]], bob = 1, amount = [-7280,2350]\n",
    "\n",
    "Output: -7280\n",
    "\n",
    "Explanation: \n",
    "\n",
    "Alice follows the path 0->1 whereas Bob follows the path 1->0.\n",
    "\n",
    "Thus, Alice opens the gate at node 0 only. Hence, her net income is -7280.\n",
    "\n",
    "## Constraints:\n",
    "- $2 <= n <= 10^5$\n",
    "- edges.length == n - 1\n",
    "- edges[i].length == 2\n",
    "- $0 <= a_i, b_i < n$\n",
    "- $a_i != b_i$\n",
    "- $edges represents a valid tree.$\n",
    "- $1 <= bob < n$\n",
    "- $amount.length == n$\n",
    "- amount[i] is an even integer in the range $[-10^4, 10^4]$."
   ]
  },
  {
   "cell_type": "markdown",
   "metadata": {},
   "source": [
    "## Solution"
   ]
  },
  {
   "cell_type": "code",
   "execution_count": 37,
   "metadata": {},
   "outputs": [],
   "source": [
    "from collections import deque\n",
    "def mostProfitablePath(edges,bob,amount):\n",
    "    graph = {}\n",
    "    for [u,v] in edges:\n",
    "        if u not in graph.keys():\n",
    "            graph[u]=[]\n",
    "        if v not in graph.keys():\n",
    "            graph[v]=[]\n",
    "        graph[u].append(v)\n",
    "        graph[v].append(u)\n",
    "    queue = deque()\n",
    "    level,parent = {},{}\n",
    "    queue.append(bob)\n",
    "    level[bob]=0\n",
    "    parent[bob]=-1\n",
    "    while queue:\n",
    "        u = queue.popleft()\n",
    "        for v in graph[u]:\n",
    "            if v not in level.keys():\n",
    "                level[v]=level[u]+1\n",
    "                parent[v]=u\n",
    "                queue.append(v)\n",
    "    temp = 0\n",
    "    bobTime={}\n",
    "    while temp!=-1:\n",
    "        bobTime[temp]=level[temp]\n",
    "        temp=parent[temp]\n",
    "    stack=deque()\n",
    "    stack.append((0,0,amount[0]))\n",
    "    maxAmount=-float('inf')\n",
    "    visited = [False]*len(amount)\n",
    "    while stack:\n",
    "        u,time,a = stack.pop()\n",
    "        visited[u]=True\n",
    "        for v in graph[u]:\n",
    "            temp=0\n",
    "            if not visited[v]:\n",
    "                if v==bob:\n",
    "                    temp=0\n",
    "                elif v not in bobTime.keys():\n",
    "                   temp=amount[v]\n",
    "                else:\n",
    "                    if bobTime[v]>time+1:\n",
    "                        temp =amount[v]\n",
    "                    elif bobTime[v]<time+1:\n",
    "                        temp = 0\n",
    "                    else:\n",
    "                        temp = amount[v]//2\n",
    "                curr = a+temp\n",
    "                stack.append((v,time+1,curr))\n",
    "                if len(graph[v])==1:\n",
    "                    maxAmount = max(maxAmount,curr)\n",
    "    return maxAmount"
   ]
  },
  {
   "cell_type": "code",
   "execution_count": 38,
   "metadata": {},
   "outputs": [
    {
     "name": "stdout",
     "output_type": "stream",
     "text": [
      "6\n"
     ]
    }
   ],
   "source": [
    "print(mostProfitablePath([[0,1],[1,2],[1,3],[3,4]],3,[-2,4,2,-4,6]))"
   ]
  },
  {
   "cell_type": "code",
   "execution_count": 39,
   "metadata": {},
   "outputs": [
    {
     "name": "stdout",
     "output_type": "stream",
     "text": [
      "-7280\n"
     ]
    }
   ],
   "source": [
    "print(mostProfitablePath([[0,1]],1,[-7280,2350]))"
   ]
  },
  {
   "cell_type": "code",
   "execution_count": 40,
   "metadata": {},
   "outputs": [
    {
     "name": "stdout",
     "output_type": "stream",
     "text": [
      "-11662\n"
     ]
    }
   ],
   "source": [
    "print(mostProfitablePath([[0,1],[1,2],[2,3]],3,[-5644,-6018,1188,-8502]))"
   ]
  }
 ],
 "metadata": {
  "kernelspec": {
   "display_name": "base",
   "language": "python",
   "name": "python3"
  },
  "language_info": {
   "codemirror_mode": {
    "name": "ipython",
    "version": 3
   },
   "file_extension": ".py",
   "mimetype": "text/x-python",
   "name": "python",
   "nbconvert_exporter": "python",
   "pygments_lexer": "ipython3",
   "version": "3.12.2"
  }
 },
 "nbformat": 4,
 "nbformat_minor": 2
}
