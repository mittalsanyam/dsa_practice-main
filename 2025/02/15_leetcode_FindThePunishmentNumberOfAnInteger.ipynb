{
 "cells": [
  {
   "cell_type": "markdown",
   "metadata": {},
   "source": [
    "# 2698. Find the Punishment Number of an Integer\n",
    "\n",
    "**Level: Medium**\n",
    "\n",
    "[Problem Link](https://leetcode.com/problems/find-the-punishment-number-of-an-integer/description/)\n",
    "\n",
    "Given a positive integer n, return the punishment number of n.\n",
    "\n",
    "The punishment number of n is defined as the sum of the squares of all integers i such that:\n",
    "\n",
    "1 <= i <= n\n",
    "\n",
    "The decimal representation of i * i can be partitioned into contiguous substrings such that the sum of the integer values of these substrings equals i.\n",
    " \n",
    "## Examples\n",
    "\n",
    "### Example 1:\n",
    "\n",
    "Input: n = 10\n",
    "\n",
    "Output: 182\n",
    "\n",
    "Explanation: There are exactly 3 integers i in the range [1, 10] that satisfy the conditions in the statement:\n",
    "\n",
    "- 1 since 1 * 1 = 1\n",
    "- 9 since 9 * 9 = 81 and 81 can be partitioned into 8 and 1 with a sum equal to 8 + 1 == 9.\n",
    "- 10 since 10 * 10 = 100 and 100 can be partitioned into 10 and 0 with a sum equal to 10 + 0 == 10.\n",
    "\n",
    "Hence, the punishment number of 10 is 1 + 81 + 100 = 182\n",
    "\n",
    "### Example 2:\n",
    "\n",
    "Input: n = 37\n",
    "\n",
    "Output: 1478\n",
    "\n",
    "Explanation: There are exactly 4 integers i in the range [1, 37] that satisfy the conditions in the statement:\n",
    "- 1 since 1 * 1 = 1. \n",
    "- 9 since 9 * 9 = 81 and 81 can be partitioned into 8 + 1. \n",
    "- 10 since 10 * 10 = 100 and 100 can be partitioned into 10 + 0. \n",
    "- 36 since 36 * 36 = 1296 and 1296 can be partitioned into 1 + 29 + 6.\n",
    "\n",
    "Hence, the punishment number of 37 is 1 + 81 + 100 + 1296 = 1478\n",
    " \n",
    "\n",
    "## Constraints:\n",
    "\n",
    "1 <= n <= 1000"
   ]
  },
  {
   "cell_type": "markdown",
   "metadata": {},
   "source": [
    "## Solution"
   ]
  },
  {
   "cell_type": "code",
   "execution_count": 4,
   "metadata": {},
   "outputs": [],
   "source": [
    "def punishmentNumber(n):\n",
    "    def isNum(num,target):\n",
    "        if target<0 or num<target:\n",
    "            return False\n",
    "        if num==target:\n",
    "            return True\n",
    "        return (\n",
    "            isNum(num//10,target-num%10) or\n",
    "            isNum(num//100,target-num%100) or\n",
    "            isNum(num//1000,target-num%1000)\n",
    "        )\n",
    "    total=0\n",
    "    for i in range(1,n+1):\n",
    "        square=i*i\n",
    "        if isNum(square,i):\n",
    "            total+=square\n",
    "    return total"
   ]
  },
  {
   "cell_type": "code",
   "execution_count": 5,
   "metadata": {},
   "outputs": [
    {
     "name": "stdout",
     "output_type": "stream",
     "text": [
      "182\n"
     ]
    }
   ],
   "source": [
    "print(punishmentNumber(10))"
   ]
  },
  {
   "cell_type": "code",
   "execution_count": 6,
   "metadata": {},
   "outputs": [
    {
     "name": "stdout",
     "output_type": "stream",
     "text": [
      "1478\n"
     ]
    }
   ],
   "source": [
    "print(punishmentNumber(37))"
   ]
  }
 ],
 "metadata": {
  "kernelspec": {
   "display_name": "base",
   "language": "python",
   "name": "python3"
  },
  "language_info": {
   "codemirror_mode": {
    "name": "ipython",
    "version": 3
   },
   "file_extension": ".py",
   "mimetype": "text/x-python",
   "name": "python",
   "nbconvert_exporter": "python",
   "pygments_lexer": "ipython3",
   "version": "3.12.2"
  }
 },
 "nbformat": 4,
 "nbformat_minor": 2
}
