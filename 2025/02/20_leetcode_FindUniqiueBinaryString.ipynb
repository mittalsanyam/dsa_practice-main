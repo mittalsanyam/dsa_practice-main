{
 "cells": [
  {
   "cell_type": "markdown",
   "metadata": {},
   "source": [
    "# 1980. Find Unique Binary String\n",
    "**Level: Medium**\n",
    "\n",
    "[Problem Link](https://leetcode.com/problems/find-unique-binary-string/description/)\n",
    "\n",
    "Given an array of strings nums containing n unique binary strings each of length n, return a binary string of length n that does not appear in nums. If there are multiple answers, you may return any of them.\n",
    "\n",
    "## Examples\n",
    "\n",
    "### Example 1:\n",
    "\n",
    "Input: nums = [\"01\",\"10\"]\n",
    "\n",
    "Output: \"11\"\n",
    "\n",
    "Explanation: \"11\" does not appear in nums. \"00\" would also be correct.\n",
    "\n",
    "### Example 2:\n",
    "Input: nums = [\"00\",\"01\"]\n",
    "\n",
    "Output: \"11\"\n",
    "\n",
    "Explanation: \"11\" does not appear in nums. \"10\" would also be correct.\n",
    "\n",
    "### Example 3:\n",
    "Input: nums = [\"111\",\"011\",\"001\"]\n",
    "\n",
    "Output: \"101\"\n",
    "\n",
    "Explanation: \"101\" does not appear in nums. \"000\", \"010\", \"100\", and \"110\" would also be correct.\n",
    " \n",
    "\n",
    "## Constraints:\n",
    "- n == nums.length\n",
    "- 1 <= n <= 16\n",
    "- nums[i].length == n\n",
    "- nums[i] is either '0' or '1'.\n",
    "- All the strings of nums are unique."
   ]
  },
  {
   "cell_type": "markdown",
   "metadata": {},
   "source": [
    "## Solution"
   ]
  },
  {
   "cell_type": "code",
   "execution_count": 26,
   "metadata": {},
   "outputs": [],
   "source": [
    "def findDifferentBinaryString(nums):\n",
    "    l = len(nums[0])\n",
    "    stack=[\"0\",\"1\"]\n",
    "    allNums=set()\n",
    "    while stack:\n",
    "        curr = stack.pop()\n",
    "        if len(curr)==l:\n",
    "            allNums.add(curr)\n",
    "            continue\n",
    "        stack.append(curr+\"0\")\n",
    "        stack.append(curr+\"1\")\n",
    "    nums = set(nums)\n",
    "    req = list(allNums.difference(nums))\n",
    "    return req[-1]    \n",
    "    "
   ]
  },
  {
   "cell_type": "code",
   "execution_count": 27,
   "metadata": {},
   "outputs": [
    {
     "name": "stdout",
     "output_type": "stream",
     "text": [
      "110\n"
     ]
    }
   ],
   "source": [
    "print(findDifferentBinaryString([\"011\",\"101\"]))"
   ]
  },
  {
   "cell_type": "code",
   "execution_count": 28,
   "metadata": {},
   "outputs": [
    {
     "name": "stdout",
     "output_type": "stream",
     "text": [
      "11\n"
     ]
    }
   ],
   "source": [
    "print(findDifferentBinaryString([\"00\",\"01\"]))"
   ]
  },
  {
   "cell_type": "code",
   "execution_count": 29,
   "metadata": {},
   "outputs": [
    {
     "name": "stdout",
     "output_type": "stream",
     "text": [
      "101\n"
     ]
    }
   ],
   "source": [
    "print(findDifferentBinaryString([\"111\",\"011\",\"001\"]))"
   ]
  }
 ],
 "metadata": {
  "kernelspec": {
   "display_name": "base",
   "language": "python",
   "name": "python3"
  },
  "language_info": {
   "codemirror_mode": {
    "name": "ipython",
    "version": 3
   },
   "file_extension": ".py",
   "mimetype": "text/x-python",
   "name": "python",
   "nbconvert_exporter": "python",
   "pygments_lexer": "ipython3",
   "version": "3.12.2"
  }
 },
 "nbformat": 4,
 "nbformat_minor": 2
}
