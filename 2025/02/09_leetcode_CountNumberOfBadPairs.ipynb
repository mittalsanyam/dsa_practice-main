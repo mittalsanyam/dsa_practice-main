{
 "cells": [
  {
   "cell_type": "markdown",
   "metadata": {},
   "source": [
    "# 2364. Count Number of Bad Pairs\n",
    "\n",
    "**Level: Medium**\n",
    "\n",
    "[Problrm Link](https://leetcode.com/problems/count-number-of-bad-pairs/description/)\n",
    "\n",
    "You are given a 0-indexed integer array nums. A pair of indices (i, j) is a bad pair if i < j and j - i != nums[j] - nums[i].\n",
    "\n",
    "Return the total number of bad pairs in nums.\n",
    "\n",
    "## Examples\n",
    "\n",
    "### Example 1:\n",
    "Input: nums = [4,1,3,3]\n",
    "\n",
    "Output: 5\n",
    "\n",
    "Explanation: The pair (0, 1) is a bad pair since 1 - 0 != 1 - 4.\n",
    "\n",
    "The pair (0, 2) is a bad pair since 2 - 0 != 3 - 4, 2 != -1.\n",
    "\n",
    "The pair (0, 3) is a bad pair since 3 - 0 != 3 - 4, 3 != -1.\n",
    "\n",
    "The pair (1, 2) is a bad pair since 2 - 1 != 3 - 1, 1 != 2.\n",
    "\n",
    "The pair (2, 3) is a bad pair since 3 - 2 != 3 - 3, 1 != 0.\n",
    "\n",
    "There are a total of 5 bad pairs, so we return 5.\n",
    "\n",
    "### Example 2:\n",
    "Input: nums = [1,2,3,4,5]\n",
    "\n",
    "Output: 0\n",
    "\n",
    "Explanation: There are no bad pairs.\n",
    "\n",
    "## Constraints\n",
    "- $1 <= nums.length <= 10^5$\n",
    "- $1 <= nums[i] <= 10^9$"
   ]
  },
  {
   "cell_type": "markdown",
   "metadata": {},
   "source": [
    "## Solution"
   ]
  },
  {
   "cell_type": "code",
   "execution_count": 1,
   "metadata": {},
   "outputs": [],
   "source": [
    "def countBadPairs(nums):\n",
    "    n = len(nums)\n",
    "    totalPairs = (n*(n-1))//2\n",
    "    count={}\n",
    "    for i in range(n):\n",
    "        diff = nums[i]-i\n",
    "        if diff not in count.keys():\n",
    "            count[diff]=0\n",
    "        count[diff]+=1\n",
    "    goodPairs=0\n",
    "    for key in count.keys():\n",
    "        if count[key]>1:\n",
    "            goodPairs+=((count[key])*(count[key]-1))//2\n",
    "    return totalPairs-goodPairs"
   ]
  },
  {
   "cell_type": "code",
   "execution_count": 2,
   "metadata": {},
   "outputs": [
    {
     "name": "stdout",
     "output_type": "stream",
     "text": [
      "5\n"
     ]
    }
   ],
   "source": [
    "print(countBadPairs([4,1,3,3]))"
   ]
  },
  {
   "cell_type": "code",
   "execution_count": 3,
   "metadata": {},
   "outputs": [
    {
     "name": "stdout",
     "output_type": "stream",
     "text": [
      "0\n"
     ]
    }
   ],
   "source": [
    "print(countBadPairs([1,2,3,4,5]))"
   ]
  },
  {
   "cell_type": "code",
   "execution_count": null,
   "metadata": {},
   "outputs": [],
   "source": []
  }
 ],
 "metadata": {
  "kernelspec": {
   "display_name": "base",
   "language": "python",
   "name": "python3"
  },
  "language_info": {
   "codemirror_mode": {
    "name": "ipython",
    "version": 3
   },
   "file_extension": ".py",
   "mimetype": "text/x-python",
   "name": "python",
   "nbconvert_exporter": "python",
   "pygments_lexer": "ipython3",
   "version": "3.12.2"
  }
 },
 "nbformat": 4,
 "nbformat_minor": 2
}
