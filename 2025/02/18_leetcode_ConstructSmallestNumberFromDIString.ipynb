{
 "cells": [
  {
   "cell_type": "markdown",
   "metadata": {},
   "source": [
    "# 2375. Construct Smallest Number From DI String\n",
    "**Level: Medium**\n",
    "\n",
    "[Problem Link](https://leetcode.com/problems/construct-smallest-number-from-di-string/description/)\n",
    "\n",
    "You are given a 0-indexed string pattern of length n consisting of the characters 'I' meaning increasing and 'D' meaning decreasing.\n",
    "\n",
    "A 0-indexed string num of length n + 1 is created using the following conditions:\n",
    "\n",
    "num consists of the digits '1' to '9', where each digit is used at most once.\n",
    "\n",
    "If pattern[i] == 'I', then num[i] < num[i + 1].\n",
    "\n",
    "If pattern[i] == 'D', then num[i] > num[i + 1].\n",
    "\n",
    "Return the lexicographically smallest possible string num that meets the conditions.\n",
    "\n",
    "## Examples\n",
    "\n",
    "### Example 1:\n",
    "\n",
    "Input: pattern = \"IIIDIDDD\"\n",
    "\n",
    "Output: \"123549876\"\n",
    "\n",
    "Explanation:\n",
    "\n",
    "At indices 0, 1, 2, and 4 we must have that num[i] < num[i+1].\n",
    "\n",
    "At indices 3, 5, 6, and 7 we must have that num[i] > num[i+1].\n",
    "\n",
    "Some possible values of num are \"245639871\", \"135749862\", and \"123849765\".\n",
    "\n",
    "It can be proven that \"123549876\" is the smallest possible num that meets the conditions.\n",
    "\n",
    "Note that \"123414321\" is not possible because the digit '1' is used more than once.\n",
    "\n",
    "## Example 2:\n",
    "\n",
    "Input: pattern = \"DDD\"\n",
    "\n",
    "Output: \"4321\"\n",
    "\n",
    "Explanation:\n",
    "\n",
    "Some possible values of num are \"9876\", \"7321\", and \"8742\".\n",
    "\n",
    "It can be proven that \"4321\" is the smallest possible num that meets the conditions.\n",
    " \n",
    "## Constraints:\n",
    "\n",
    "- 1 <= pattern.length <= 8\n",
    "- pattern consists of only the letters 'I' and 'D'."
   ]
  },
  {
   "cell_type": "markdown",
   "metadata": {},
   "source": [
    "## Solution"
   ]
  },
  {
   "cell_type": "code",
   "execution_count": 62,
   "metadata": {},
   "outputs": [],
   "source": [
    "def smallestNumber(pattern):\n",
    "    n = len(pattern)\n",
    "    res = [1]\n",
    "    lastI=0\n",
    "    for i in range(n):\n",
    "        if pattern[i]==\"I\":\n",
    "            res.append(res[lastI]+1)\n",
    "            lastI = i+1\n",
    "        elif pattern[i]==\"D\":\n",
    "            j = lastI\n",
    "            curr=res[lastI]\n",
    "            while j<=i:\n",
    "                res[j]+=1\n",
    "                curr=res[j]\n",
    "                j+=1\n",
    "            res.append(curr-1)\n",
    "    res = \"\".join([str(i) for i in res])\n",
    "    return res"
   ]
  },
  {
   "cell_type": "code",
   "execution_count": 63,
   "metadata": {},
   "outputs": [
    {
     "name": "stdout",
     "output_type": "stream",
     "text": [
      "43215\n"
     ]
    }
   ],
   "source": [
    "print(smallestNumber(\"DDDI\"))"
   ]
  },
  {
   "cell_type": "code",
   "execution_count": 67,
   "metadata": {},
   "outputs": [
    {
     "name": "stdout",
     "output_type": "stream",
     "text": [
      "987654321\n"
     ]
    }
   ],
   "source": [
    "print(smallestNumber(\"DDDDDDDD\"))"
   ]
  },
  {
   "cell_type": "code",
   "execution_count": 68,
   "metadata": {},
   "outputs": [
    {
     "name": "stdout",
     "output_type": "stream",
     "text": [
      "123456789\n"
     ]
    }
   ],
   "source": [
    "print(smallestNumber(\"IIIIIIII\"))"
   ]
  },
  {
   "cell_type": "code",
   "execution_count": null,
   "metadata": {},
   "outputs": [],
   "source": []
  }
 ],
 "metadata": {
  "kernelspec": {
   "display_name": "base",
   "language": "python",
   "name": "python3"
  },
  "language_info": {
   "codemirror_mode": {
    "name": "ipython",
    "version": 3
   },
   "file_extension": ".py",
   "mimetype": "text/x-python",
   "name": "python",
   "nbconvert_exporter": "python",
   "pygments_lexer": "ipython3",
   "version": "3.12.2"
  }
 },
 "nbformat": 4,
 "nbformat_minor": 2
}
