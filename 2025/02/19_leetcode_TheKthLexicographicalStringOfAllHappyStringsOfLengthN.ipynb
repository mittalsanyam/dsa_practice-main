{
 "cells": [
  {
   "cell_type": "markdown",
   "metadata": {},
   "source": [
    "# 1415. The k-th Lexicographical String of All Happy Strings of Length n\n",
    "\n",
    "**Level:Medium**\n",
    "\n",
    "[Problem Link](https://leetcode.com/problems/the-k-th-lexicographical-string-of-all-happy-strings-of-length-n/description)\n",
    "\n",
    "A happy string is a string that:\n",
    "\n",
    "consists only of letters of the set ['a', 'b', 'c'].\n",
    "s[i] != s[i + 1] for all values of i from 1 to s.length - 1 (string is 1-indexed).\n",
    "For example, strings \"abc\", \"ac\", \"b\" and \"abcbabcbcb\" are all happy strings and strings \"aa\", \"baa\" and \"ababbc\" are not happy strings.\n",
    "\n",
    "Given two integers n and k, consider a list of all happy strings of length n sorted in lexicographical order.\n",
    "\n",
    "Return the kth string of this list or return an empty string if there are less than k happy strings of length n.\n",
    "\n",
    "## Examples\n",
    "### Example 1:\n",
    "\n",
    "Input: n = 1, k = 3\n",
    "\n",
    "Output: \"c\"\n",
    "\n",
    "Explanation: The list [\"a\", \"b\", \"c\"] contains all happy strings of length 1. The third string is \"c\".\n",
    "\n",
    "### Example 2:\n",
    "\n",
    "Input: n = 1, k = 4\n",
    "\n",
    "Output: \"\"\n",
    "\n",
    "Explanation: There are only 3 happy strings of length 1.\n",
    "\n",
    "### Example 3:\n",
    "Input: n = 3, k = 9\n",
    "\n",
    "Output: \"cab\"\n",
    "\n",
    "Explanation: There are 12 different happy string of length 3 [\"aba\", \"abc\", \"aca\", \"acb\", \"bab\", \"bac\", \"bca\", \"bcb\", \"cab\", \"cac\", \"cba\", \"cbc\"]. You will find the 9th string = \"cab\"\n",
    " \n",
    "## Constraints:\n",
    "\n",
    "- $1 <= n <= 10$\n",
    "- $1 <= k <= 100$"
   ]
  },
  {
   "cell_type": "markdown",
   "metadata": {},
   "source": [
    "## Solution"
   ]
  },
  {
   "cell_type": "code",
   "execution_count": 6,
   "metadata": {},
   "outputs": [],
   "source": [
    "\n",
    "def getHappyString(n,k):\n",
    "    stack=[]\n",
    "    chs = [\"a\",\"b\",\"c\"]\n",
    "    for i in range(len(chs)-1,-1,-1):\n",
    "        stack.append(chs[i])\n",
    "    strings= []\n",
    "    while stack:\n",
    "        curr = stack.pop()\n",
    "        if len(curr)==n:\n",
    "            strings.append(curr)\n",
    "            continue\n",
    "        if curr[-1]==\"a\":\n",
    "            stack.append(curr+\"c\")\n",
    "            stack.append(curr+\"b\")\n",
    "        if curr[-1]==\"b\":\n",
    "            stack.append(curr+\"c\")\n",
    "            stack.append(curr+\"a\")\n",
    "        if curr[-1]==\"c\":\n",
    "            stack.append(curr+\"b\")\n",
    "            stack.append(curr+\"a\")\n",
    "    if len(strings)<k:\n",
    "        return \"\"\n",
    "    else:\n",
    "        return strings[k-1]"
   ]
  },
  {
   "cell_type": "code",
   "execution_count": 8,
   "metadata": {},
   "outputs": [
    {
     "name": "stdout",
     "output_type": "stream",
     "text": [
      "cab\n"
     ]
    }
   ],
   "source": [
    "print(getHappyString(3,9))"
   ]
  }
 ],
 "metadata": {
  "kernelspec": {
   "display_name": "base",
   "language": "python",
   "name": "python3"
  },
  "language_info": {
   "codemirror_mode": {
    "name": "ipython",
    "version": 3
   },
   "file_extension": ".py",
   "mimetype": "text/x-python",
   "name": "python",
   "nbconvert_exporter": "python",
   "pygments_lexer": "ipython3",
   "version": "3.12.2"
  }
 },
 "nbformat": 4,
 "nbformat_minor": 2
}
