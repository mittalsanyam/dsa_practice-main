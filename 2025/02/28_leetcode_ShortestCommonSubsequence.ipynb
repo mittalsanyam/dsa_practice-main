{
 "cells": [
  {
   "cell_type": "markdown",
   "metadata": {},
   "source": [
    "# 1092. Shortest Common Supersequence\n",
    "**Level:Hard**\n",
    "\n",
    "[Problem Link](https://leetcode.com/problems/shortest-common-supersequence/description/)\n",
    "\n",
    "Given two strings str1 and str2, return the shortest string that has both str1 and str2 as subsequences. If there are multiple valid strings, return any of them.\n",
    "\n",
    "A string s is a subsequence of string t if deleting some number of characters from t (possibly 0) results in the string s.\n",
    "\n",
    "## Examples\n",
    "\n",
    "### Example 1:\n",
    "\n",
    "Input: str1 = \"abac\", str2 = \"cab\"\n",
    "\n",
    "Output: \"cabac\"\n",
    "\n",
    "Explanation:\n",
    "\n",
    "str1 = \"abac\" is a subsequence of \"cabac\" because we can delete the first \"c\".\n",
    "\n",
    "str2 = \"cab\" is a subsequence of \"cabac\" because we can delete the last \"ac\".\n",
    "The answer provided is the shortest such string that satisfies these properties.\n",
    "\n",
    "### Example 2:\n",
    "\n",
    "Input: str1 = \"aaaaaaaa\", str2 = \"aaaaaaaa\"\n",
    "\n",
    "Output: \"aaaaaaaa\"\n",
    "\n",
    "\n",
    "## Constraints:\n",
    "- 1 <= str1.length, str2.length <= 1000\n",
    "- str1 and str2 consist of lowercase English letters."
   ]
  },
  {
   "cell_type": "code",
   "execution_count": 17,
   "metadata": {},
   "outputs": [],
   "source": [
    "def shortestCommonSuperSequence(str1,str2):\n",
    "    m,n = len(str1),len(str2)\n",
    "    dp = [[0 for _ in range(n+1)] for _ in range(m+1)]\n",
    "    for row in range(m+1):\n",
    "        dp[row][0]=row\n",
    "    for col in range(n+1):\n",
    "        dp[0][col]=col\n",
    "    for i in range(1,m+1):\n",
    "        for j in range(1,n+1):\n",
    "            if str1[i-1]==str2[j-1]:\n",
    "                dp[i][j] = dp[i-1][j-1]+1\n",
    "            else:\n",
    "                dp[i][j] = min(dp[i-1][j],dp[i][j-1])+1\n",
    "    super_seq = []\n",
    "    row,col = m,n\n",
    "    while row>0 and col>0:\n",
    "        if str1[row-1]==str2[col-1]:\n",
    "            super_seq.append(str1[row-1])\n",
    "            row-=1\n",
    "            col-=1\n",
    "        elif dp[row-1][col]<dp[row][col-1]:\n",
    "            super_seq.append(str1[row-1])\n",
    "            row-=1\n",
    "        else:\n",
    "            super_seq.append(str2[col-1])\n",
    "            col-=1\n",
    "    while row>0:\n",
    "        super_seq.append(str1[row-1])\n",
    "        row-=1\n",
    "    while col>0:\n",
    "        super_seq.append(str2[col-1])\n",
    "        col-=1\n",
    "    return \"\".join(super_seq[::-1])"
   ]
  },
  {
   "cell_type": "code",
   "execution_count": 18,
   "metadata": {},
   "outputs": [
    {
     "name": "stdout",
     "output_type": "stream",
     "text": [
      "cabac\n"
     ]
    }
   ],
   "source": [
    "print(shortestCommonSuperSequence(\"abac\",\"cab\"))"
   ]
  },
  {
   "cell_type": "code",
   "execution_count": 20,
   "metadata": {},
   "outputs": [
    {
     "name": "stdout",
     "output_type": "stream",
     "text": [
      "patloc\n"
     ]
    }
   ],
   "source": [
    "print(shortestCommonSuperSequence(\"pat\",\"loc\"))"
   ]
  }
 ],
 "metadata": {
  "kernelspec": {
   "display_name": "base",
   "language": "python",
   "name": "python3"
  },
  "language_info": {
   "codemirror_mode": {
    "name": "ipython",
    "version": 3
   },
   "file_extension": ".py",
   "mimetype": "text/x-python",
   "name": "python",
   "nbconvert_exporter": "python",
   "pygments_lexer": "ipython3",
   "version": "3.12.2"
  }
 },
 "nbformat": 4,
 "nbformat_minor": 2
}
