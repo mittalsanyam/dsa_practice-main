{
 "cells": [
  {
   "cell_type": "markdown",
   "metadata": {},
   "source": [
    "# 1800. Maximum Ascending Subarray Sum\n",
    "**Level: Easy**\n",
    "\n",
    "[Problem Link](https://leetcode.com/problems/maximum-ascending-subarray-sum/description/)\n",
    "\n",
    "Given an array of positive integers nums, return the maximum possible sum of an ascending subarray in nums.\n",
    "\n",
    "A subarray is defined as a contiguous sequence of numbers in an array.\n",
    "\n",
    "A subarray [numsl, numsl+1, ..., numsr-1, numsr] is ascending if for all i where l <= i < r, numsi  < numsi+1. Note that a subarray of size 1 is ascending.\n",
    "\n",
    "## Examples\n",
    "\n",
    "### Example 1:\n",
    "\n",
    "Input: nums = [10,20,30,5,10,50]\n",
    "\n",
    "Output: 65\n",
    "\n",
    "Explanation: [5,10,50] is the ascending subarray with the maximum sum of 65.\n",
    "\n",
    "### Example 2:\n",
    "\n",
    "Input: nums = [10,20,30,40,50]\n",
    "\n",
    "Output: 150\n",
    "\n",
    "Explanation: [10,20,30,40,50] is the ascending subarray with the maximum sum of 150.\n",
    "\n",
    "### Example 3:\n",
    "\n",
    "Input: nums = [12,17,15,13,10,11,12]\n",
    "\n",
    "Output: 33\n",
    "\n",
    "Explanation: [10,11,12] is the ascending subarray with the maximum sum of 33.\n",
    "\n",
    "## Constraints:\n",
    "- 1 <= nums.length <= 100\n",
    "- 1 <= nums[i] <= 100"
   ]
  },
  {
   "cell_type": "markdown",
   "metadata": {},
   "source": [
    "## Solution"
   ]
  },
  {
   "cell_type": "code",
   "execution_count": 12,
   "metadata": {},
   "outputs": [],
   "source": [
    "def maxAscendingSum(nums):\n",
    "    n=len(nums)\n",
    "    total=nums[0]\n",
    "    maxtotal=total\n",
    "    for i in range(1,n):\n",
    "        if nums[i]>nums[i-1]:\n",
    "            total+=nums[i]\n",
    "        else:\n",
    "            total=nums[i]\n",
    "        if maxtotal<total:\n",
    "            maxtotal=total\n",
    "    return maxtotal"
   ]
  },
  {
   "cell_type": "code",
   "execution_count": 13,
   "metadata": {},
   "outputs": [
    {
     "name": "stdout",
     "output_type": "stream",
     "text": [
      "65\n"
     ]
    }
   ],
   "source": [
    "print(maxAscendingSum([10,20,30,5,10,50]))"
   ]
  },
  {
   "cell_type": "code",
   "execution_count": 14,
   "metadata": {},
   "outputs": [
    {
     "name": "stdout",
     "output_type": "stream",
     "text": [
      "150\n"
     ]
    }
   ],
   "source": [
    "print(maxAscendingSum([10,20,30,40,50]))"
   ]
  },
  {
   "cell_type": "code",
   "execution_count": 15,
   "metadata": {},
   "outputs": [
    {
     "name": "stdout",
     "output_type": "stream",
     "text": [
      "33\n"
     ]
    }
   ],
   "source": [
    "print(maxAscendingSum([12,17,15,13,10,11,12]))"
   ]
  }
 ],
 "metadata": {
  "kernelspec": {
   "display_name": "base",
   "language": "python",
   "name": "python3"
  },
  "language_info": {
   "codemirror_mode": {
    "name": "ipython",
    "version": 3
   },
   "file_extension": ".py",
   "mimetype": "text/x-python",
   "name": "python",
   "nbconvert_exporter": "python",
   "pygments_lexer": "ipython3",
   "version": "3.12.2"
  }
 },
 "nbformat": 4,
 "nbformat_minor": 2
}
