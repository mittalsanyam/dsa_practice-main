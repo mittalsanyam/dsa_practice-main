{
 "cells": [
  {
   "cell_type": "markdown",
   "metadata": {},
   "source": [
    "# 2349. Design a Number Container System\n",
    "**Level: Medium**\n",
    "\n",
    "[Problem Link](https://leetcode.com/problems/design-a-number-container-system/description/)\n",
    "\n",
    "Design a number container system that can do the following:\n",
    "\n",
    "Insert or Replace a number at the given index in the system.\n",
    "\n",
    "Return the smallest index for the given number in the system.\n",
    "\n",
    "Implement the `NumberContainers` class:\n",
    "- `NumberContainers()` Initializes the number container system.\n",
    "- `void change(int index, int number)` Fills the container at index with the number. If there is already a number at that index, replace it.\n",
    "- `int find(int number)` Returns the smallest index for the given number, or -1 if there is no index that is filled by number in the system.\n",
    " \n",
    "## Examples\n",
    "\n",
    "### Example 1:\n",
    "\n",
    "Input\n",
    "\n",
    "[\"NumberContainers\", \"find\", \"change\", \"change\", \"change\", \"change\", \"find\", \"change\", \"find\"]\n",
    "\n",
    "[[], [10], [2, 10], [1, 10], [3, 10], [5, 10], [10], [1, 20], [10]]\n",
    "\n",
    "Output\n",
    "\n",
    "[null, -1, null, null, null, null, 1, null, 2]\n",
    "\n",
    "Explanation\n",
    "\n",
    "NumberContainers nc = new NumberContainers();\n",
    "\n",
    "nc.find(10); // There is no index that is filled with number 10. Therefore, we return -1.\n",
    "\n",
    "nc.change(2, 10); // Your container at index 2 will be filled with number 10.\n",
    "\n",
    "nc.change(1, 10); // Your container at index 1 will be filled with number 10.\n",
    "\n",
    "nc.change(3, 10); // Your container at index 3 will be filled with number 10.\n",
    "\n",
    "nc.change(5, 10); // Your container at index 5 will be filled with number 10.\n",
    "\n",
    "nc.find(10); // Number 10 is at the indices 1, 2, 3, and 5. Since the smallest index that is filled with 10 is 1, we return 1.\n",
    "\n",
    "nc.change(1, 20); // Your container at index 1 will be filled with number 20. Note that index 1 was filled with 10 and then replaced with 20. \n",
    "\n",
    "nc.find(10); // Number 10 is at the indices 2, 3, and 5. The smallest index that is filled with 10 is 2. Therefore, we return 2.\n",
    "\n",
    "## Constraints:\n",
    "\n",
    "- $1 <= index, number <= 10^9$\n",
    "- At most $10^5$ calls will be made in total to change and find."
   ]
  },
  {
   "cell_type": "markdown",
   "metadata": {},
   "source": [
    "## Solution"
   ]
  },
  {
   "cell_type": "code",
   "execution_count": 18,
   "metadata": {},
   "outputs": [],
   "source": [
    "from collections import defaultdict\n",
    "from sortedcontainers import SortedSet\n",
    "\n",
    "class NumberContainers:\n",
    "\n",
    "    def __init__(self):\n",
    "        self.index = defaultdict(SortedSet)\n",
    "        self.number = {}\n",
    "\n",
    "\n",
    "    def change(self,index,number):\n",
    "        if index in self.number.keys():\n",
    "            prev_num = self.number[index]\n",
    "            self.index[prev_num].remove(index)\n",
    "            if not self.index[prev_num]:\n",
    "                del self.index[prev_num]\n",
    "        self.number[index]=number\n",
    "        self.index[number].add(index)\n",
    "\n",
    "    def find(self,number):\n",
    "        if number in self.index and self.index[number]:\n",
    "            if len(self.index[number])>0:\n",
    "                return self.index[number][0]\n",
    "        return -1"
   ]
  },
  {
   "cell_type": "code",
   "execution_count": 19,
   "metadata": {},
   "outputs": [
    {
     "name": "stdout",
     "output_type": "stream",
     "text": [
      "[None, -1, None, None, None, None, 1, None, 2]\n"
     ]
    }
   ],
   "source": [
    "operations = [\"NumberContainers\", \"find\", \"change\", \"change\", \"change\", \"change\", \"find\", \"change\", \"find\"]\n",
    "input = [[], [10], [2, 10], [1, 10], [3, 10], [5, 10], [10], [1, 20], [10]]\n",
    "\n",
    "container = NumberContainers()\n",
    "n = len(operations)\n",
    "output = [None]\n",
    "for i in range(1,n):\n",
    "    if operations[i]==\"find\":\n",
    "        output.append(container.find(input[i][0]))\n",
    "    if operations[i]==\"change\":\n",
    "        output.append(container.change(input[i][0],input[i][1]))\n",
    "print(output)"
   ]
  },
  {
   "cell_type": "code",
   "execution_count": 20,
   "metadata": {},
   "outputs": [],
   "source": [
    "import heapq\n",
    "class NumberContainers:\n",
    "    def __init__(self):\n",
    "        self.index = {}\n",
    "        self.number = {}\n",
    "    def change(self,index,number):\n",
    "        self.number[index]=number\n",
    "        if number not in self.index.keys():\n",
    "            self.index[number]=[]\n",
    "        heapq.heappush(self.index[number],index)\n",
    "    def find(self,number):\n",
    "        if number in self.index:\n",
    "            while self.index[number] and number != self.number[self.index[number][0]]:\n",
    "                heapq.heappop(self.index[number])\n",
    "            if not self.index[number]:\n",
    "                return -1\n",
    "            return self.index[number][0]\n",
    "        return -1"
   ]
  },
  {
   "cell_type": "code",
   "execution_count": 21,
   "metadata": {},
   "outputs": [
    {
     "name": "stdout",
     "output_type": "stream",
     "text": [
      "[None, -1, None, None, None, None, 1, None, 2]\n"
     ]
    }
   ],
   "source": [
    "operations = [\"NumberContainers\", \"find\", \"change\", \"change\", \"change\", \"change\", \"find\", \"change\", \"find\"]\n",
    "input = [[], [10], [2, 10], [1, 10], [3, 10], [5, 10], [10], [1, 20], [10]]\n",
    "\n",
    "container = NumberContainers()\n",
    "n = len(operations)\n",
    "output = [None]\n",
    "for i in range(1,n):\n",
    "    if operations[i]==\"find\":\n",
    "        output.append(container.find(input[i][0]))\n",
    "    if operations[i]==\"change\":\n",
    "        output.append(container.change(input[i][0],input[i][1]))\n",
    "print(output)"
   ]
  }
 ],
 "metadata": {
  "kernelspec": {
   "display_name": "base",
   "language": "python",
   "name": "python3"
  },
  "language_info": {
   "codemirror_mode": {
    "name": "ipython",
    "version": 3
   },
   "file_extension": ".py",
   "mimetype": "text/x-python",
   "name": "python",
   "nbconvert_exporter": "python",
   "pygments_lexer": "ipython3",
   "version": "3.12.2"
  }
 },
 "nbformat": 4,
 "nbformat_minor": 2
}
