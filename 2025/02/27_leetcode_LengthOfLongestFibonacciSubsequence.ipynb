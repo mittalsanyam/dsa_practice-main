{
 "cells": [
  {
   "cell_type": "markdown",
   "metadata": {},
   "source": [
    "# 873. Length of Longest Fibonacci Subsequence\n",
    "**Level: Medium**\n",
    "\n",
    "[Problem Link](https://leetcode.com/problems/length-of-longest-fibonacci-subsequence/description/)\n",
    "\n",
    "A sequence x1, x2, ..., xn is Fibonacci-like if:\n",
    "- $n >= 3$\n",
    "- $x_i + x_{i+1} == x_{i+2}$ for all $i + 2 <= n$\n",
    "\n",
    "Given a strictly increasing array arr of positive integers forming a sequence, return the length of the longest Fibonacci-like subsequence of arr. If one does not exist, return 0.\n",
    "\n",
    "A subsequence is derived from another sequence arr by deleting any number of elements (including none) from arr, without changing the order of the remaining elements. For example, [3, 5, 8] is a subsequence of [3, 4, 5, 6, 7, 8].\n",
    "\n",
    "## Example \n",
    "\n",
    "### Example 1:\n",
    "\n",
    "Input: arr = [1,2,3,4,5,6,7,8]\n",
    "\n",
    "Output: 5\n",
    "\n",
    "Explanation: The longest subsequence that is fibonacci-like: [1,2,3,5,8].\n",
    "\n",
    "### Example 2:\n",
    "Input: arr = [1,3,7,11,12,14,18]\n",
    "\n",
    "Output: 3\n",
    "\n",
    "Explanation: The longest subsequence that is fibonacci-like: [1,11,12], [3,11,14] or [7,11,18].\n",
    " \n",
    "\n",
    "## Constraints:\n",
    "- $3 <= arr.length <= 1000$\n",
    "- $1 <= arr[i] < arr[i + 1] <= 10^9$"
   ]
  },
  {
   "cell_type": "markdown",
   "metadata": {},
   "source": [
    "## Solution"
   ]
  },
  {
   "cell_type": "code",
   "execution_count": 18,
   "metadata": {},
   "outputs": [],
   "source": [
    "def lenLongestFibSubseq(arr):\n",
    "    n = len(arr)\n",
    "    idx = {}\n",
    "    for i in range(n):\n",
    "        idx[arr[i]]=i\n",
    "    dp = [[2 for _ in range(n)] for _ in range(n)]\n",
    "    maxlen=0\n",
    "    for i in range(n):\n",
    "        for j in range(i+1,n):\n",
    "            diff = arr[j]-arr[i]\n",
    "            if diff!=arr[i]:\n",
    "                if diff in idx.keys():\n",
    "                    k = idx[diff]\n",
    "                    if k<i:\n",
    "                        dp[i][j]=dp[k][i]+1\n",
    "                        if dp[i][j]>maxlen:\n",
    "                            maxlen=dp[i][j]\n",
    "    if maxlen>2:\n",
    "        return maxlen\n",
    "    return 0\n"
   ]
  },
  {
   "cell_type": "code",
   "execution_count": 19,
   "metadata": {},
   "outputs": [
    {
     "name": "stdout",
     "output_type": "stream",
     "text": [
      "5\n"
     ]
    }
   ],
   "source": [
    "print(lenLongestFibSubseq([1,2,3,4,5,6,7,8]))"
   ]
  },
  {
   "cell_type": "code",
   "execution_count": 20,
   "metadata": {},
   "outputs": [
    {
     "name": "stdout",
     "output_type": "stream",
     "text": [
      "3\n"
     ]
    }
   ],
   "source": [
    "print(lenLongestFibSubseq([1,3,7,11,12,14,18]))"
   ]
  },
  {
   "cell_type": "code",
   "execution_count": 21,
   "metadata": {},
   "outputs": [
    {
     "name": "stdout",
     "output_type": "stream",
     "text": [
      "5\n"
     ]
    }
   ],
   "source": [
    "print(lenLongestFibSubseq([2,4,7,8,9,10,14,15,18,23,32,50]))"
   ]
  }
 ],
 "metadata": {
  "kernelspec": {
   "display_name": "base",
   "language": "python",
   "name": "python3"
  },
  "language_info": {
   "codemirror_mode": {
    "name": "ipython",
    "version": 3
   },
   "file_extension": ".py",
   "mimetype": "text/x-python",
   "name": "python",
   "nbconvert_exporter": "python",
   "pygments_lexer": "ipython3",
   "version": "3.12.2"
  }
 },
 "nbformat": 4,
 "nbformat_minor": 2
}
