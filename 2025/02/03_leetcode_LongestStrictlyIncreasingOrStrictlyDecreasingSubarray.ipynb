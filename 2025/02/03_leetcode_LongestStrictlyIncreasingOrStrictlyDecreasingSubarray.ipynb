{
 "cells": [
  {
   "cell_type": "markdown",
   "metadata": {},
   "source": [
    "# 3105. Longest Strictly Increasing or Strictly Decreasing Subarray\n",
    "**Level: Easy**\n",
    "\n",
    "[Problem Link](https://leetcode.com/problems/longest-strictly-increasing-or-strictly-decreasing-subarray/description)\n",
    "\n",
    "You are given an array of integers nums. Return the length of the longest  subarray of nums which is either strictly increasing or strictly decreasing.\n",
    "\n",
    "## Examples\n",
    "\n",
    "### Example 1:\n",
    "\n",
    "Input: nums = [1,4,3,3,2]\n",
    "\n",
    "Output: 2\n",
    "\n",
    "Explanation:\n",
    "\n",
    "The strictly increasing subarrays of nums are [1], [2], [3], [3], [4], and [1,4].\n",
    "\n",
    "The strictly decreasing subarrays of nums are [1], [2], [3], [3], [4], [3,2], and [4,3].\n",
    "\n",
    "Hence, we return 2.\n",
    "\n",
    "### Example 2:\n",
    "Input: nums = [3,3,3,3]\n",
    "\n",
    "Output: 1\n",
    "\n",
    "Explanation:\n",
    "\n",
    "The strictly increasing subarrays of nums are [3], [3], [3], and [3].\n",
    "\n",
    "The strictly decreasing subarrays of nums are [3], [3], [3], and [3].\n",
    "\n",
    "Hence, we return 1.\n",
    "\n",
    "### Example 3\n",
    "Input: nums = [3,2,1]\n",
    "\n",
    "Output: 3\n",
    "\n",
    "Explanation:\n",
    "\n",
    "The strictly increasing subarrays of nums are [3], [2], and [1].\n",
    "\n",
    "The strictly decreasing subarrays of nums are [3], [2], [1], [3,2], [2,1], and [3,2,1].\n",
    "\n",
    "Hence, we return 3.\n",
    "\n",
    "## Constraints:\n",
    "- 1 <= nums.length <= 50\n",
    "- 1 <= nums[i] <= 50"
   ]
  },
  {
   "cell_type": "markdown",
   "metadata": {},
   "source": [
    "## Solution"
   ]
  },
  {
   "cell_type": "code",
   "execution_count": 1,
   "metadata": {},
   "outputs": [],
   "source": [
    "def longestMonotonicSubarray(nums):\n",
    "    n = len(nums)\n",
    "    longestIncreasing=1\n",
    "    longestDecreasing=1\n",
    "    increasing,decreasing=1,1\n",
    "    for i in range(n-1):\n",
    "        if nums[i]>nums[i+1]:\n",
    "            increasing=1\n",
    "            decreasing+=1\n",
    "            if decreasing>longestDecreasing:\n",
    "                longestDecreasing=decreasing\n",
    "        if nums[i]<nums[i+1]:\n",
    "            decreasing=1\n",
    "            increasing+=1\n",
    "            if increasing>longestIncreasing:\n",
    "                longestIncreasing+=1\n",
    "        if nums[i]==nums[i+1]:\n",
    "            increasing=1\n",
    "            decreasing=1\n",
    "    return max(longestDecreasing,longestIncreasing)\n",
    "    "
   ]
  },
  {
   "cell_type": "code",
   "execution_count": 2,
   "metadata": {},
   "outputs": [
    {
     "name": "stdout",
     "output_type": "stream",
     "text": [
      "2\n"
     ]
    }
   ],
   "source": [
    "print(longestMonotonicSubarray([1,4,3,3,2]))"
   ]
  },
  {
   "cell_type": "code",
   "execution_count": 3,
   "metadata": {},
   "outputs": [
    {
     "name": "stdout",
     "output_type": "stream",
     "text": [
      "1\n"
     ]
    }
   ],
   "source": [
    "print(longestMonotonicSubarray([3,3,3,3]))"
   ]
  },
  {
   "cell_type": "code",
   "execution_count": 4,
   "metadata": {},
   "outputs": [
    {
     "name": "stdout",
     "output_type": "stream",
     "text": [
      "3\n"
     ]
    }
   ],
   "source": [
    "print(longestMonotonicSubarray([3,2,1]))"
   ]
  }
 ],
 "metadata": {
  "kernelspec": {
   "display_name": "base",
   "language": "python",
   "name": "python3"
  },
  "language_info": {
   "codemirror_mode": {
    "name": "ipython",
    "version": 3
   },
   "file_extension": ".py",
   "mimetype": "text/x-python",
   "name": "python",
   "nbconvert_exporter": "python",
   "pygments_lexer": "ipython3",
   "version": "3.12.2"
  }
 },
 "nbformat": 4,
 "nbformat_minor": 2
}
