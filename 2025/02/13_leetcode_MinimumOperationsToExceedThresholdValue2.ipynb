{
 "cells": [
  {
   "cell_type": "markdown",
   "metadata": {},
   "source": [
    "# 3066. Minimum Operations to Exceed Threshold Value II\n",
    "\n",
    "**Level: Medium**\n",
    "\n",
    "[Problem Link](https://leetcode.com/problems/minimum-operations-to-exceed-threshold-value-ii/description/)\n",
    "\n",
    "You are given a 0-indexed integer array nums, and an integer k.\n",
    "\n",
    "In one operation, you will:\n",
    "\n",
    "Take the two smallest integers x and y in nums.\n",
    "\n",
    "Remove x and y from nums.\n",
    "\n",
    "Add min(x, y) * 2 + max(x, y) anywhere in the array.\n",
    "\n",
    "Note that you can only apply the described operation if nums contains at least two elements.\n",
    "\n",
    "Return the minimum number of operations needed so that all elements of the array are greater than or equal to k.\n",
    "\n",
    "## Examples\n",
    "### Example 1:\n",
    "\n",
    "Input: nums = [2,11,10,1,3], k = 10\n",
    "\n",
    "Output: 2\n",
    "\n",
    "Explanation: In the first operation, we remove elements 1 and 2, then add 1 * 2 + 2 to nums. nums becomes equal to [4, 11, 10, 3].\n",
    "\n",
    "In the second operation, we remove elements 3 and 4, then add 3 * 2 + 4 to nums. nums becomes equal to [10, 11, 10].\n",
    "\n",
    "At this stage, all the elements of nums are greater than or equal to 10 so we can stop.\n",
    "\n",
    "It can be shown that 2 is the minimum number of operations needed so that all elements of the array are greater than or equal to 10.\n",
    "\n",
    "### Example 2:\n",
    "\n",
    "Input: nums = [1,1,2,4,9], k = 20\n",
    "\n",
    "Output: 4\n",
    "\n",
    "Explanation: After one operation, nums becomes equal to [2, 4, 9, 3].\n",
    "\n",
    "After two operations, nums becomes equal to [7, 4, 9].\n",
    "\n",
    "After three operations, nums becomes equal to [15, 9].\n",
    "\n",
    "After four operations, nums becomes equal to [33].\n",
    "\n",
    "At this stage, all the elements of nums are greater than 20 so we can stop.\n",
    "\n",
    "It can be shown that 4 is the minimum number of operations needed so that all elements of the array are greater than or equal to 20.\n",
    " \n",
    "## Constraints:\n",
    "- $2 <= nums.length <= 2 * 10^5$\n",
    "- $1 <= nums[i] <= 10^9$\n",
    "- $1 <= k <= 10^9$\n",
    "\n",
    "The input is generated such that an answer always exists. That is, there exists some sequence of operations after which all elements of the array are greater than or equal to k."
   ]
  },
  {
   "cell_type": "markdown",
   "metadata": {},
   "source": [
    "## Solution"
   ]
  },
  {
   "cell_type": "code",
   "execution_count": null,
   "metadata": {},
   "outputs": [],
   "source": [
    "import heapq\n",
    "def minOperations(nums,k):\n",
    "    n=len(nums)\n",
    "    count=0\n",
    "    flag=False\n",
    "    while not flag:\n",
    "        if len(nums)>=2:\n",
    "            x =heapq.heappop(nums)\n",
    "            y = heapq.heappop(nums)\n",
    "            if x<k or y<k:\n",
    "                z = min(x,y)*2+max(x,y)\n",
    "                heapq.heappush(nums,z)\n",
    "                count+=1\n",
    "            else:\n",
    "                flag=True\n",
    "        else:\n",
    "            flag=True\n",
    "    return count"
   ]
  },
  {
   "cell_type": "code",
   "execution_count": 20,
   "metadata": {},
   "outputs": [
    {
     "name": "stdout",
     "output_type": "stream",
     "text": [
      "2\n"
     ]
    }
   ],
   "source": [
    "print(minOperations([2,11,10,1,3],10))"
   ]
  },
  {
   "cell_type": "code",
   "execution_count": 21,
   "metadata": {},
   "outputs": [
    {
     "name": "stdout",
     "output_type": "stream",
     "text": [
      "4\n"
     ]
    }
   ],
   "source": [
    "print(minOperations([1,1,2,4,9],20))"
   ]
  }
 ],
 "metadata": {
  "kernelspec": {
   "display_name": "base",
   "language": "python",
   "name": "python3"
  },
  "language_info": {
   "codemirror_mode": {
    "name": "ipython",
    "version": 3
   },
   "file_extension": ".py",
   "mimetype": "text/x-python",
   "name": "python",
   "nbconvert_exporter": "python",
   "pygments_lexer": "ipython3",
   "version": "3.12.2"
  }
 },
 "nbformat": 4,
 "nbformat_minor": 2
}
