{
 "cells": [
  {
   "cell_type": "markdown",
   "metadata": {},
   "source": [
    "# 3160. Find the Number of Distinct Colors Among the Balls\n",
    "**Level: Medium**\n",
    "\n",
    "[Problem Link](https://leetcode.com/problems/find-the-number-of-distinct-colors-among-the-balls/description/)\n",
    "\n",
    "You are given an integer limit and a 2D array queries of size n x 2.\n",
    "\n",
    "There are limit + 1 balls with distinct labels in the range [0, limit]. Initially, all balls are uncolored. For every query in queries that is of the form [x, y], you mark ball x with the color y. After each query, you need to find the number of distinct colors among the balls.\n",
    "\n",
    "Return an array result of length n, where result[i] denotes the number of distinct colors after ith query.\n",
    "\n",
    "Note that when answering a query, lack of a color will not be considered as a color.\n",
    "\n",
    "## Examples\n",
    "\n",
    "### Example 1:\n",
    "\n",
    "Input: limit = 4, queries = [[1,4],[2,5],[1,3],[3,4]]\n",
    "\n",
    "Output: [1,2,2,3]\n",
    "\n",
    "Explanation:\n",
    "- After query 0, ball 1 has color 4.\n",
    "- After query 1, ball 1 has color 4, and ball 2 has color 5.\n",
    "- After query 2, ball 1 has color 3, and ball 2 has color 5.\n",
    "- After query 3, ball 1 has color 3, ball 2 has color 5, and ball 3 has color 4.\n",
    "\n",
    "## Example 2:\n",
    "Input: limit = 4, queries = [[0,1],[1,2],[2,2],[3,4],[4,5]]\n",
    "\n",
    "Output: [1,2,2,3,4]\n",
    "\n",
    "Explanation:\n",
    "- After query 0, ball 0 has color 1.\n",
    "- After query 1, ball 0 has color 1, and ball 1 has color 2.\n",
    "- After query 2, ball 0 has color 1, and balls 1 and 2 have color 2.\n",
    "- After query 3, ball 0 has color 1, balls 1 and 2 have color 2, and ball 3 has color 4.\n",
    "- After query 4, ball 0 has color 1, balls 1 and 2 have color 2, ball 3 has color 4, and ball 4 has color 5.\n",
    "\n",
    "## Constraints:\n",
    "- $1 <= limit <= 10^9$\n",
    "- $1 <= n == queries.length <= 10^5$\n",
    "- queries[i].length == 2\n",
    "- 0 <= queries[i][0] <= limit\n",
    "- $1 <= queries[i][1] <= 10^9$"
   ]
  },
  {
   "cell_type": "markdown",
   "metadata": {},
   "source": [
    "# Solution"
   ]
  },
  {
   "cell_type": "code",
   "execution_count": null,
   "metadata": {},
   "outputs": [],
   "source": [
    "def queryResults(limit,queries):\n",
    "    color = {}\n",
    "    frequency = {}\n",
    "    present = {}\n",
    "    numColors=0\n",
    "    res=[]\n",
    "    for [ball,col] in queries:\n",
    "        if ball not in color.keys():\n",
    "            color[ball]=0\n",
    "        if col not in frequency.keys():\n",
    "            frequency[col]=0\n",
    "        if col not in present.keys():\n",
    "            present[col]=False\n",
    "        if color[ball]==0:\n",
    "            color[ball]=col\n",
    "            frequency[col]+=1\n",
    "        else:\n",
    "            frequency[color[ball]]-=1\n",
    "            if frequency[color[ball]]==0:\n",
    "                present[color[ball]]=False\n",
    "                numColors-=1\n",
    "            color[ball]=col\n",
    "            frequency[col]+=1\n",
    "        if not present[col]:\n",
    "            present[col]=True\n",
    "            numColors+=1\n",
    "        res.append(numColors)\n",
    "    return res"
   ]
  },
  {
   "cell_type": "code",
   "execution_count": 21,
   "metadata": {},
   "outputs": [
    {
     "name": "stdout",
     "output_type": "stream",
     "text": [
      "[1, 2, 2, 3]\n"
     ]
    }
   ],
   "source": [
    "print(queryResults(4,[[1,4],[2,5],[1,3],[3,4]]))"
   ]
  },
  {
   "cell_type": "code",
   "execution_count": 22,
   "metadata": {},
   "outputs": [
    {
     "name": "stdout",
     "output_type": "stream",
     "text": [
      "[1, 2, 2, 3, 4]\n"
     ]
    }
   ],
   "source": [
    "print(queryResults(4,[[0,1],[1,2],[2,2],[3,4],[4,5]]))"
   ]
  },
  {
   "cell_type": "code",
   "execution_count": null,
   "metadata": {},
   "outputs": [],
   "source": []
  }
 ],
 "metadata": {
  "kernelspec": {
   "display_name": "base",
   "language": "python",
   "name": "python3"
  },
  "language_info": {
   "codemirror_mode": {
    "name": "ipython",
    "version": 3
   },
   "file_extension": ".py",
   "mimetype": "text/x-python",
   "name": "python",
   "nbconvert_exporter": "python",
   "pygments_lexer": "ipython3",
   "version": "3.12.2"
  }
 },
 "nbformat": 4,
 "nbformat_minor": 2
}
