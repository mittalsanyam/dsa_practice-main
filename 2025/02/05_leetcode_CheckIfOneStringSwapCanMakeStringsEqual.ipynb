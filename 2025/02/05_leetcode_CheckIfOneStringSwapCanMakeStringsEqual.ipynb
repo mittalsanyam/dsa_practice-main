{
 "cells": [
  {
   "cell_type": "markdown",
   "metadata": {},
   "source": [
    "# 1790. Check if One String Swap Can Make Strings Equal\n",
    "\n",
    "You are given two strings s1 and s2 of equal length. A string swap is an operation where you choose two indices in a string (not necessarily different) and swap the characters at these indices.\n",
    "\n",
    "Return true if it is possible to make both strings equal by performing at most one string swap on exactly one of the strings. Otherwise, return false.\n",
    "\n",
    "## Examples\n",
    "\n",
    "### Example 1:\n",
    "\n",
    "Input: s1 = \"bank\", s2 = \"kanb\"\n",
    "\n",
    "Output: true\n",
    "\n",
    "Explanation: For example, swap the first character with the last character of s2 to make \"bank\".\n",
    "\n",
    "### Example 2:\n",
    "Input: s1 = \"attack\", s2 = \"defend\"\n",
    "\n",
    "Output: false\n",
    "\n",
    "Explanation: It is impossible to make them equal with one string swap.\n",
    "\n",
    "### Example 3:\n",
    "\n",
    "Input: s1 = \"kelb\", s2 = \"kelb\"\n",
    "\n",
    "Output: true\n",
    "\n",
    "Explanation: The two strings are already equal, so no string swap operation is required.\n",
    "\n",
    "## Constraints:\n",
    "\n",
    "- 1 <= s1.length, s2.length <= 100\n",
    "- s1.length == s2.length\n",
    "- s1 and s2 consist of only lowercase English letters."
   ]
  },
  {
   "cell_type": "markdown",
   "metadata": {},
   "source": [
    "## Solution"
   ]
  },
  {
   "cell_type": "code",
   "execution_count": 34,
   "metadata": {},
   "outputs": [],
   "source": [
    "def areAlmostEqual(s1,s2):\n",
    "    n=len(s1)\n",
    "    count=0\n",
    "    set1,set2 = set(),set()\n",
    "    for i in range(n):\n",
    "        if s1[i]!=s2[i]:\n",
    "            count+=1\n",
    "            set1.add(s1[i])\n",
    "            set2.add(s2[i])\n",
    "    if count==0 or count==2:\n",
    "        if set1==set2:\n",
    "            return True\n",
    "    return False\n",
    "    "
   ]
  },
  {
   "cell_type": "code",
   "execution_count": 35,
   "metadata": {},
   "outputs": [
    {
     "name": "stdout",
     "output_type": "stream",
     "text": [
      "True\n"
     ]
    }
   ],
   "source": [
    "print(areAlmostEqual(\"bank\",\"kanb\"))"
   ]
  },
  {
   "cell_type": "code",
   "execution_count": 36,
   "metadata": {},
   "outputs": [
    {
     "name": "stdout",
     "output_type": "stream",
     "text": [
      "False\n"
     ]
    }
   ],
   "source": [
    "print(areAlmostEqual(\"attack\",\"defend\"))"
   ]
  },
  {
   "cell_type": "code",
   "execution_count": 37,
   "metadata": {},
   "outputs": [
    {
     "name": "stdout",
     "output_type": "stream",
     "text": [
      "True\n"
     ]
    }
   ],
   "source": [
    "print(areAlmostEqual(\"kelb\",\"kelb\"))"
   ]
  },
  {
   "cell_type": "code",
   "execution_count": 38,
   "metadata": {},
   "outputs": [
    {
     "name": "stdout",
     "output_type": "stream",
     "text": [
      "False\n"
     ]
    }
   ],
   "source": [
    "print(areAlmostEqual(\"aaz\",\"aaa\"))"
   ]
  },
  {
   "cell_type": "code",
   "execution_count": 39,
   "metadata": {},
   "outputs": [
    {
     "name": "stdout",
     "output_type": "stream",
     "text": [
      "False\n"
     ]
    }
   ],
   "source": [
    "print(areAlmostEqual(\"bankb\",\"kannb\"))"
   ]
  },
  {
   "cell_type": "code",
   "execution_count": null,
   "metadata": {},
   "outputs": [],
   "source": []
  }
 ],
 "metadata": {
  "kernelspec": {
   "display_name": "base",
   "language": "python",
   "name": "python3"
  },
  "language_info": {
   "codemirror_mode": {
    "name": "ipython",
    "version": 3
   },
   "file_extension": ".py",
   "mimetype": "text/x-python",
   "name": "python",
   "nbconvert_exporter": "python",
   "pygments_lexer": "ipython3",
   "version": "3.12.2"
  }
 },
 "nbformat": 4,
 "nbformat_minor": 2
}
