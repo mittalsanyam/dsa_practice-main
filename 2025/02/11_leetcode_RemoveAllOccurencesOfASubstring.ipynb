{
 "cells": [
  {
   "cell_type": "markdown",
   "metadata": {},
   "source": [
    "# 1910. Remove All Occurrences of a Substring\n",
    "**Level: Medium**\n",
    "\n",
    "[Problem Link](https://leetcode.com/problems/remove-all-occurrences-of-a-substring/description/)\n",
    "\n",
    "\n",
    "Given two strings s and part, perform the following operation on s until all occurrences of the substring part are removed:\n",
    "\n",
    "Find the leftmost occurrence of the substring part and remove it from s.\n",
    "Return s after removing all occurrences of part.\n",
    "\n",
    "A substring is a contiguous sequence of characters in a string.\n",
    "\n",
    "## Examples\n",
    "\n",
    "### Example 1:\n",
    "\n",
    "Input: s = \"daabcbaabcbc\", part = \"abc\"\n",
    "\n",
    "Output: \"dab\"\n",
    "\n",
    "Explanation: The following operations are done:\n",
    "- s = \"daabcbaabcbc\", remove \"abc\" starting at index 2, so s = \"dabaabcbc\".\n",
    "- s = \"dabaabcbc\", remove \"abc\" starting at index 4, so s = \"dababc\".\n",
    "- s = \"dababc\", remove \"abc\" starting at index 3, so s = \"dab\".\n",
    "\n",
    "Now s has no occurrences of \"abc\".\n",
    "\n",
    "## Example 2:\n",
    "\n",
    "Input: s = \"axxxxyyyyb\", part = \"xy\"\n",
    "\n",
    "Output: \"ab\"\n",
    "\n",
    "Explanation: The following operations are done:\n",
    "- s = \"axxxxyyyyb\", remove \"xy\" starting at index 4 so s = \"axxxyyyb\".\n",
    "- s = \"axxxyyyb\", remove \"xy\" starting at index 3 so s = \"axxyyb\".\n",
    "- s = \"axxyyb\", remove \"xy\" starting at index 2 so s = \"axyb\".\n",
    "- s = \"axyb\", remove \"xy\" starting at index 1 so s = \"ab\".\n",
    "Now s has no occurrences of \"xy\".\n",
    " \n",
    "\n",
    "## Constraints:\n",
    "\n",
    "- 1 <= s.length <= 1000\n",
    "- 1 <= part.length <= 1000\n",
    "- s​​​​​​ and part consists of lowercase English letters."
   ]
  },
  {
   "cell_type": "markdown",
   "metadata": {},
   "source": [
    "## Solution"
   ]
  },
  {
   "cell_type": "code",
   "execution_count": 23,
   "metadata": {},
   "outputs": [],
   "source": [
    "def removeOccurences(s,part):\n",
    "    n=len(s)\n",
    "    m = len(part)\n",
    "    if n<m:\n",
    "        return s\n",
    "    stack=[]\n",
    "    for i in range(n):\n",
    "        stack.append(s[i])\n",
    "        if len(stack)>=m:\n",
    "            temp = \"\".join(stack[-m:])\n",
    "            if temp==part:\n",
    "                for _ in range(m):\n",
    "                    stack.pop()\n",
    "    return \"\".join(stack)\n",
    "    "
   ]
  },
  {
   "cell_type": "code",
   "execution_count": 24,
   "metadata": {},
   "outputs": [
    {
     "name": "stdout",
     "output_type": "stream",
     "text": [
      "dab\n"
     ]
    }
   ],
   "source": [
    "print(removeOccurences(\"daabcbaabcbc\",\"abc\"))"
   ]
  },
  {
   "cell_type": "code",
   "execution_count": 25,
   "metadata": {},
   "outputs": [
    {
     "name": "stdout",
     "output_type": "stream",
     "text": [
      "ab\n"
     ]
    }
   ],
   "source": [
    "print(removeOccurences(\"axxxxyyyyb\",\"xy\"))"
   ]
  },
  {
   "cell_type": "code",
   "execution_count": null,
   "metadata": {},
   "outputs": [],
   "source": []
  }
 ],
 "metadata": {
  "kernelspec": {
   "display_name": "base",
   "language": "python",
   "name": "python3"
  },
  "language_info": {
   "codemirror_mode": {
    "name": "ipython",
    "version": 3
   },
   "file_extension": ".py",
   "mimetype": "text/x-python",
   "name": "python",
   "nbconvert_exporter": "python",
   "pygments_lexer": "ipython3",
   "version": "3.12.2"
  }
 },
 "nbformat": 4,
 "nbformat_minor": 2
}
