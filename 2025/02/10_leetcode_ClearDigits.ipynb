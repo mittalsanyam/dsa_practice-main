{
 "cells": [
  {
   "cell_type": "markdown",
   "metadata": {},
   "source": [
    "# 3174. Clear Digits\n",
    "**Level: Easy**\n",
    "\n",
    "[Problem Link](https://leetcode.com/problems/clear-digits/description/)\n",
    "\n",
    "You are given a string s.\n",
    "\n",
    "- Your task is to remove all digits by doing this operation repeatedly:\n",
    "\n",
    "Delete the first digit and the closest non-digit character to its left.\n",
    "\n",
    "Return the resulting string after removing all digits.\n",
    "\n",
    "## Example\n",
    "\n",
    "### Example 1:\n",
    "\n",
    "Input: s = \"abc\"\n",
    "\n",
    "Output: \"abc\"\n",
    "\n",
    "Explanation:\n",
    "\n",
    "There is no digit in the string.\n",
    "\n",
    "### Example 2:\n",
    "\n",
    "Input: s = \"cb34\"\n",
    "\n",
    "Output: \"\"\n",
    "\n",
    "Explanation:\n",
    "\n",
    "First, we apply the operation on s[2], and s becomes \"c4\".\n",
    "\n",
    "Then we apply the operation on s[1], and s becomes \"\".\n",
    "\n",
    "## Constraints:\n",
    "\n",
    "- 1 <= s.length <= 100\n",
    "\n",
    "- s consists only of lowercase English letters and digits.\n",
    "\n",
    "- The input is generated such that it is possible to delete all digits."
   ]
  },
  {
   "cell_type": "markdown",
   "metadata": {},
   "source": [
    "## Solution"
   ]
  },
  {
   "cell_type": "code",
   "execution_count": 5,
   "metadata": {},
   "outputs": [],
   "source": [
    "def clearDigits(s):\n",
    "    stack = []\n",
    "    for ch in s:\n",
    "        if not ch.isdigit():\n",
    "            stack.append(ch)\n",
    "        else:\n",
    "            stack.pop()\n",
    "    res = \"\"\n",
    "    for ch in stack:\n",
    "        res+=ch\n",
    "    return res"
   ]
  },
  {
   "cell_type": "code",
   "execution_count": 6,
   "metadata": {},
   "outputs": [
    {
     "name": "stdout",
     "output_type": "stream",
     "text": [
      "abc\n"
     ]
    }
   ],
   "source": [
    "print(clearDigits(\"abc\"))"
   ]
  },
  {
   "cell_type": "code",
   "execution_count": 7,
   "metadata": {},
   "outputs": [
    {
     "name": "stdout",
     "output_type": "stream",
     "text": [
      "\n"
     ]
    }
   ],
   "source": [
    "print(clearDigits(\"cb34\"))"
   ]
  }
 ],
 "metadata": {
  "kernelspec": {
   "display_name": "base",
   "language": "python",
   "name": "python3"
  },
  "language_info": {
   "codemirror_mode": {
    "name": "ipython",
    "version": 3
   },
   "file_extension": ".py",
   "mimetype": "text/x-python",
   "name": "python",
   "nbconvert_exporter": "python",
   "pygments_lexer": "ipython3",
   "version": "3.12.2"
  }
 },
 "nbformat": 4,
 "nbformat_minor": 2
}
