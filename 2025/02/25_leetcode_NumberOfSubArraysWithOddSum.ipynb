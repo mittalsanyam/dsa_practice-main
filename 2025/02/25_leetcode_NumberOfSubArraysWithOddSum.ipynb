{
 "cells": [
  {
   "cell_type": "markdown",
   "metadata": {},
   "source": [
    "# 1524. Number of Sub-arrays With Odd Sum\n",
    "**Level: Medium**\n",
    "\n",
    "[Problem Link](https://leetcode.com/problems/number-of-sub-arrays-with-odd-sum/description/)\n",
    "\n",
    "Given an array of integers arr, return the number of subarrays with an odd sum.\n",
    "\n",
    "Since the answer can be very large, return it modulo $10^9 + 7$.\n",
    " \n",
    "## Examples\n",
    "### Example 1:\n",
    "Input: arr = [1,3,5]\n",
    "\n",
    "Output: 4\n",
    "\n",
    "Explanation: All subarrays are [[1],[1,3],[1,3,5],[3],[3,5],[5]]\n",
    "\n",
    "All sub-arrays sum are [1,4,9,3,8,5].\n",
    "\n",
    "Odd sums are [1,9,3,5] so the answer is 4.\n",
    "\n",
    "### Example 2:\n",
    "\n",
    "Input: arr = [2,4,6]\n",
    "\n",
    "Output: 0\n",
    "\n",
    "Explanation: All subarrays are [[2],[2,4],[2,4,6],[4],[4,6],[6]]\n",
    "\n",
    "All sub-arrays sum are [2,6,12,4,10,6].\n",
    "\n",
    "All sub-arrays have even sum and the answer is 0.\n",
    "\n",
    "## Example 3:\n",
    "\n",
    "Input: arr = [1,2,3,4,5,6,7]\n",
    "\n",
    "Output: 16\n",
    " \n",
    "## Constraints:\n",
    "- $1 <= arr.length <= 10^5$\n",
    "- $1 <= arr[i] <= 100$"
   ]
  },
  {
   "cell_type": "markdown",
   "metadata": {},
   "source": [
    "## Solution"
   ]
  },
  {
   "cell_type": "code",
   "execution_count": 7,
   "metadata": {},
   "outputs": [],
   "source": [
    "def numOfSubarrays(arr):\n",
    "    n=len(arr)\n",
    "    mod = 1e9+7\n",
    "    prefixSum,oddCount,evenCount,count=0,0,1,0\n",
    "    for i in range(n):\n",
    "        prefixSum+=arr[i]\n",
    "        if prefixSum%2==1:\n",
    "            count+=evenCount\n",
    "            oddCount+=1\n",
    "        else:\n",
    "            count+=oddCount\n",
    "            evenCount+=1\n",
    "        count=count%mod\n",
    "    return int(count)"
   ]
  },
  {
   "cell_type": "code",
   "execution_count": 10,
   "metadata": {},
   "outputs": [
    {
     "name": "stdout",
     "output_type": "stream",
     "text": [
      "0\n"
     ]
    }
   ],
   "source": [
    "print(numOfSubarrays([2,4,6]))"
   ]
  }
 ],
 "metadata": {
  "kernelspec": {
   "display_name": "base",
   "language": "python",
   "name": "python3"
  },
  "language_info": {
   "codemirror_mode": {
    "name": "ipython",
    "version": 3
   },
   "file_extension": ".py",
   "mimetype": "text/x-python",
   "name": "python",
   "nbconvert_exporter": "python",
   "pygments_lexer": "ipython3",
   "version": "3.12.2"
  }
 },
 "nbformat": 4,
 "nbformat_minor": 2
}
