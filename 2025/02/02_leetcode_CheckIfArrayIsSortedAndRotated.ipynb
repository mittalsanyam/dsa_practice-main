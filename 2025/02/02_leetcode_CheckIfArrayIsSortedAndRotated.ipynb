{
 "cells": [
  {
   "cell_type": "markdown",
   "metadata": {},
   "source": [
    "# 1752. Check if Array Is Sorted and Rotated\n",
    "**Level: Easy**\n",
    "\n",
    "[Problem Link](https://leetcode.com/problems/check-if-array-is-sorted-and-rotated/description/)\n",
    "\n",
    "Given an array nums, return true if the array was originally sorted in non-decreasing order, then rotated some number of positions (including zero). Otherwise, return false.\n",
    "\n",
    "There may be duplicates in the original array.\n",
    "\n",
    "Note: An array A rotated by x positions results in an array B of the same length such that A[i] == B[(i+x) % A.length], where % is the modulo operation.\n",
    "\n",
    "## Examples \n",
    "\n",
    "### Example 1:\n",
    "\n",
    "Input: nums = [3,4,5,1,2]\n",
    "\n",
    "Output: true\n",
    "\n",
    "Explanation: [1,2,3,4,5] is the original sorted array.\n",
    "\n",
    "You can rotate the array by x = 3 positions to begin on the the element of value 3: [3,4,5,1,2].\n",
    "\n",
    "### Example 2:\n",
    "\n",
    "Input: nums = [2,1,3,4]\n",
    "\n",
    "Output: false\n",
    "\n",
    "Explanation: There is no sorted array once rotated that can make nums.\n",
    "\n",
    "### Example 3:\n",
    "\n",
    "Input: nums = [1,2,3]\n",
    "\n",
    "Output: true\n",
    "\n",
    "Explanation: [1,2,3] is the original sorted array.\n",
    "\n",
    "You can rotate the array by x = 0 positions (i.e. no rotation) to make nums.\n",
    " \n",
    "## Constraints:\n",
    "\n",
    "1 <= nums.length <= 100\n",
    "1 <= nums[i] <= 100"
   ]
  },
  {
   "cell_type": "markdown",
   "metadata": {},
   "source": [
    "## Solution"
   ]
  },
  {
   "cell_type": "code",
   "execution_count": 1,
   "metadata": {},
   "outputs": [],
   "source": [
    "def check(nums):\n",
    "    n=len(nums)\n",
    "    sorted_nums = sorted(nums)\n",
    "    for i in range(n):\n",
    "        is_match=True\n",
    "        for idx in range(n):\n",
    "            if nums[(i+idx)%n]!=sorted_nums[idx]:\n",
    "                is_match=False\n",
    "                break\n",
    "        if is_match:\n",
    "            return True\n",
    "    return False"
   ]
  }
 ],
 "metadata": {
  "kernelspec": {
   "display_name": "base",
   "language": "python",
   "name": "python3"
  },
  "language_info": {
   "codemirror_mode": {
    "name": "ipython",
    "version": 3
   },
   "file_extension": ".py",
   "mimetype": "text/x-python",
   "name": "python",
   "nbconvert_exporter": "python",
   "pygments_lexer": "ipython3",
   "version": "3.12.2"
  }
 },
 "nbformat": 4,
 "nbformat_minor": 2
}
