{
 "cells": [
  {
   "cell_type": "markdown",
   "metadata": {},
   "source": [
    "# 1749. Maximum Absolute Sum of Any Subarray\n",
    "\n",
    "**Level: Medium**\n",
    "\n",
    "[Problem Link](https://leetcode.com/problems/maximum-absolute-sum-of-any-subarray/description/)\n",
    "\n",
    "You are given an integer array nums. The absolute sum of a subarray [numsl, numsl+1, ..., numsr-1, numsr] is abs(numsl + numsl+1 + ... + numsr-1 + numsr).\n",
    "\n",
    "Return the maximum absolute sum of any (possibly empty) subarray of nums.\n",
    "\n",
    "Note that abs(x) is defined as follows:\n",
    "\n",
    "If x is a negative integer, then abs(x) = -x.\n",
    "\n",
    "If x is a non-negative integer, then abs(x) = x.\n",
    "\n",
    "## Examples\n",
    "\n",
    "### Example 1:\n",
    "\n",
    "Input: nums = [1,-3,2,3,-4]\n",
    "\n",
    "Output: 5\n",
    "\n",
    "Explanation: The subarray [2,3] has absolute sum = abs(2+3) = abs(5) = 5.\n",
    "\n",
    "### Example 2:\n",
    "\n",
    "Input: nums = [2,-5,1,-4,3,-2]\n",
    "\n",
    "Output: 8\n",
    "\n",
    "Explanation: The subarray [-5,1,-4] has absolute sum = abs(-5+1-4) = abs(-8) = 8.\n",
    "\n",
    "# Constraints:\n",
    "\n",
    "- $1 <= nums.length <= 10^5$\n",
    "- $-10^4 <= nums[i] <= 10^4$"
   ]
  },
  {
   "cell_type": "markdown",
   "metadata": {},
   "source": [
    "## Solution"
   ]
  },
  {
   "cell_type": "code",
   "execution_count": 4,
   "metadata": {},
   "outputs": [],
   "source": [
    "def maxAbsoluteSum(nums):\n",
    "    maxEnding = nums[0]\n",
    "    maxSum = nums[0]\n",
    "    minEnding = nums[0]\n",
    "    minSum = nums[0]\n",
    "    n=len(nums)\n",
    "    for i in range(1,n):\n",
    "        maxEnding = max(nums[i]+maxEnding,nums[i])\n",
    "        maxSum= max(maxSum,maxEnding)\n",
    "        minEnding = min(nums[i]+minEnding,nums[i])\n",
    "        minSum = min(minSum,minEnding)\n",
    "    return max(abs(minSum),abs(maxSum))"
   ]
  },
  {
   "cell_type": "code",
   "execution_count": 5,
   "metadata": {},
   "outputs": [
    {
     "name": "stdout",
     "output_type": "stream",
     "text": [
      "5\n"
     ]
    }
   ],
   "source": [
    "print(maxAbsoluteSum([1,-3,2,3,-4]))"
   ]
  },
  {
   "cell_type": "code",
   "execution_count": 6,
   "metadata": {},
   "outputs": [
    {
     "name": "stdout",
     "output_type": "stream",
     "text": [
      "8\n"
     ]
    }
   ],
   "source": [
    "print(maxAbsoluteSum([2,-5,1,-4,3,-2]))"
   ]
  }
 ],
 "metadata": {
  "kernelspec": {
   "display_name": "base",
   "language": "python",
   "name": "python3"
  },
  "language_info": {
   "codemirror_mode": {
    "name": "ipython",
    "version": 3
   },
   "file_extension": ".py",
   "mimetype": "text/x-python",
   "name": "python",
   "nbconvert_exporter": "python",
   "pygments_lexer": "ipython3",
   "version": "3.12.2"
  }
 },
 "nbformat": 4,
 "nbformat_minor": 2
}
