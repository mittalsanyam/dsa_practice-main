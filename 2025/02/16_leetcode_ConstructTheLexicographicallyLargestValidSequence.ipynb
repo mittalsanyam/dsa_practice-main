{
 "cells": [
  {
   "cell_type": "markdown",
   "metadata": {},
   "source": [
    "# 1718. Construct the Lexicographically Largest Valid Sequence\n",
    "**Level: Medium**\n",
    "\n",
    "[Problem Link](https://leetcode.com/problems/construct-the-lexicographically-largest-valid-sequence/description/)\n",
    "\n",
    "Given an integer n, find a sequence that satisfies all of the following:\n",
    "\n",
    "The integer 1 occurs once in the sequence.\n",
    "\n",
    "Each integer between 2 and n occurs twice in the sequence.\n",
    "\n",
    "For every integer i between 2 and n, the distance between the two occurrences of i is exactly i.\n",
    "\n",
    "The distance between two numbers on the sequence, a[i] and a[j], is the absolute difference of their indices, |j - i|.\n",
    "\n",
    "Return the lexicographically largest sequence. It is guaranteed that under the given constraints, there is always a solution.\n",
    "\n",
    "A sequence a is lexicographically larger than a sequence b (of the same length) if in the first position where a and b differ, sequence a has a number greater than the corresponding number in b. For example, [0,1,9,0] is lexicographically larger than [0,1,5,6] because the first position they differ is at the third number, and 9 is greater than 5.\n",
    "\n",
    "## Examples\n",
    "\n",
    "### Example 1:\n",
    "\n",
    "Input: n = 3\n",
    "\n",
    "Output: [3,1,2,3,2]\n",
    "\n",
    "Explanation: [2,3,2,1,3] is also a valid sequence, but [3,1,2,3,2] is the lexicographically largest valid sequence.\n",
    "\n",
    "### Example 2:\n",
    "\n",
    "Input: n = 5\n",
    "\n",
    "Output: [5,3,1,4,3,5,2,4,2]\n",
    " \n",
    "## Constraints:\n",
    "\n",
    "1 <= n <= 20"
   ]
  },
  {
   "cell_type": "markdown",
   "metadata": {},
   "source": [
    "## Solution"
   ]
  },
  {
   "cell_type": "code",
   "execution_count": null,
   "metadata": {},
   "outputs": [],
   "source": [
    "def constructDistancedSequence(n:int) -> list[int]:\n",
    "    length = (2*n-1)\n",
    "    res = [0]*length\n",
    "    isplaced = [False]*(n+1)\n",
    "    def findLargestSequence(current_idx,res,isplaced,n):\n",
    "        if current_idx==len(res):\n",
    "            return True\n",
    "        if res[current_idx]!=0:\n",
    "            return findLargestSequence(current_idx+1,\n",
    "                                       res,isplaced,n)\n",
    "        for number in range(n,0,-1):\n",
    "            if isplaced[number]:\n",
    "                continue\n",
    "            isplaced[number]=True\n",
    "            res[current_idx]=number\n",
    "            if number==1:\n",
    "                if findLargestSequence(current_idx+1,\n",
    "                                       res,isplaced,n):\n",
    "                    return True\n",
    "            elif (current_idx+number<len(res) and\n",
    "                res[current_idx+number]==0):\n",
    "                res[current_idx+number]=number\n",
    "                if findLargestSequence(current_idx+1,\n",
    "                                       res,\n",
    "                                       isplaced,n):\n",
    "                    return True\n",
    "                res[current_idx+number]=0\n",
    "            res[current_idx]=0\n",
    "            isplaced[number]=False\n",
    "        return False\n",
    "    findLargestSequence(0,res,isplaced,n)\n",
    "    return res"
   ]
  },
  {
   "cell_type": "code",
   "execution_count": 79,
   "metadata": {},
   "outputs": [
    {
     "name": "stdout",
     "output_type": "stream",
     "text": [
      "[20, 18, 19, 15, 13, 17, 10, 16, 7, 5, 3, 14, 12, 3, 5, 7, 10, 13, 15, 18, 20, 19, 17, 16, 12, 14, 11, 9, 4, 6, 8, 2, 4, 2, 1, 6, 9, 11, 8]\n"
     ]
    }
   ],
   "source": [
    "print(constructDistancedSequence(20))"
   ]
  }
 ],
 "metadata": {
  "kernelspec": {
   "display_name": "base",
   "language": "python",
   "name": "python3"
  },
  "language_info": {
   "codemirror_mode": {
    "name": "ipython",
    "version": 3
   },
   "file_extension": ".py",
   "mimetype": "text/x-python",
   "name": "python",
   "nbconvert_exporter": "python",
   "pygments_lexer": "ipython3",
   "version": "3.12.2"
  }
 },
 "nbformat": 4,
 "nbformat_minor": 2
}
