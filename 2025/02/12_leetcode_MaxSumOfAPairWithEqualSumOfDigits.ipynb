{
 "cells": [
  {
   "cell_type": "markdown",
   "metadata": {},
   "source": [
    "# 2342. Max Sum of a Pair With Equal Sum of Digits\n",
    "\n",
    "**Level: Medium**\n",
    "\n",
    "[Problem Link](https://leetcode.com/problems/max-sum-of-a-pair-with-equal-sum-of-digits/description/)\n",
    "\n",
    "You are given a 0-indexed array nums consisting of positive integers. You can choose two indices i and j, such that i != j, and the sum of digits of the number nums[i] is equal to that of nums[j].\n",
    "\n",
    "Return the maximum value of nums[i] + nums[j] that you can obtain over all possible indices i and j that satisfy the conditions.\n",
    "\n",
    "## Examples\n",
    "### Example 1:\n",
    "Input: nums = [18,43,36,13,7]\n",
    "\n",
    "Output: 54\n",
    "\n",
    "Explanation: The pairs (i, j) that satisfy the conditions are:\n",
    "- (0, 2), both numbers have a sum of digits equal to 9, and their sum is 18 + 36 = 54.\n",
    "\n",
    "- (1, 4), both numbers have a sum of digits equal to 7, and their sum is 43 + 7 = 50.\n",
    "\n",
    "So the maximum sum that we can obtain is 54.\n",
    "\n",
    "### Example 2:\n",
    "\n",
    "Input: nums = [10,12,19,14]\n",
    "\n",
    "Output: -1\n",
    "\n",
    "Explanation: There are no two numbers that satisfy the conditions, so we return -1.\n",
    "\n",
    "Constraints:\n",
    "- $1 <= nums.length <= 10^5$\n",
    "- $1 <= nums[i] <= 10^9$"
   ]
  },
  {
   "cell_type": "markdown",
   "metadata": {},
   "source": [
    "## Solution"
   ]
  },
  {
   "cell_type": "code",
   "execution_count": 12,
   "metadata": {},
   "outputs": [],
   "source": [
    "import heapq\n",
    "def sumOfDigits(num):\n",
    "    sum=0\n",
    "    while num>0:\n",
    "        digit = num%10\n",
    "        sum+=digit\n",
    "        num=num//10\n",
    "    return sum\n",
    "def maximumSum(nums):\n",
    "    numWithSum = {}\n",
    "    for num in nums:\n",
    "        digitSum = sumOfDigits(num)\n",
    "        if digitSum not in numWithSum:\n",
    "            numWithSum[digitSum]=[]\n",
    "        heapq.heappush(numWithSum[digitSum],-num)\n",
    "    maxTotal = -1\n",
    "    for sum in numWithSum.keys():\n",
    "        if len(numWithSum[sum])>=2:\n",
    "            elem1 = heapq.heappop(numWithSum[sum])\n",
    "            elem2 = heapq.heappop(numWithSum[sum])\n",
    "            total = -elem1-elem2\n",
    "            if maxTotal<total:\n",
    "                maxTotal=total\n",
    "    return maxTotal\n",
    "    "
   ]
  },
  {
   "cell_type": "code",
   "execution_count": 13,
   "metadata": {},
   "outputs": [
    {
     "name": "stdout",
     "output_type": "stream",
     "text": [
      "54\n"
     ]
    }
   ],
   "source": [
    "print(maximumSum([18,43,36,13,7]))"
   ]
  },
  {
   "cell_type": "code",
   "execution_count": 14,
   "metadata": {},
   "outputs": [
    {
     "name": "stdout",
     "output_type": "stream",
     "text": [
      "-1\n"
     ]
    }
   ],
   "source": [
    "print(maximumSum([10,12,19,14]))"
   ]
  }
 ],
 "metadata": {
  "kernelspec": {
   "display_name": "base",
   "language": "python",
   "name": "python3"
  },
  "language_info": {
   "codemirror_mode": {
    "name": "ipython",
    "version": 3
   },
   "file_extension": ".py",
   "mimetype": "text/x-python",
   "name": "python",
   "nbconvert_exporter": "python",
   "pygments_lexer": "ipython3",
   "version": "3.12.2"
  }
 },
 "nbformat": 4,
 "nbformat_minor": 2
}
