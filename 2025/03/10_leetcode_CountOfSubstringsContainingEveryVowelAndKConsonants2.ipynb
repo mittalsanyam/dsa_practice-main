{
 "cells": [
  {
   "cell_type": "markdown",
   "metadata": {},
   "source": [
    "# 3306. Count of Substrings Containing Every Vowel and K Consonants II\n",
    "\n",
    "**Level:Medium**\n",
    "\n",
    "[Problem Link](https://leetcode.com/problems/count-of-substrings-containing-every-vowel-and-k-consonants-ii/description/)\n",
    "\n",
    "You are given a string word and a non-negative integer k.\n",
    "\n",
    "Return the total number of substrings of word that contain every vowel ('a', 'e', 'i', 'o', and 'u') at least once and exactly k consonants.\n",
    "\n",
    "## Examples\n",
    "\n",
    "### Example 1:\n",
    "\n",
    "Input: word = \"aeioqq\", k = 1\n",
    "\n",
    "Output: 0\n",
    "\n",
    "Explanation:\n",
    "\n",
    "There is no substring with every vowel.\n",
    "\n",
    "### Example 2:\n",
    "\n",
    "Input: word = \"aeiou\", k = 0\n",
    "\n",
    "Output: 1\n",
    "\n",
    "Explanation:\n",
    "\n",
    "The only substring with every vowel and zero consonants is word[0..4], which is \"aeiou\".\n",
    "\n",
    "### Example 3:\n",
    "\n",
    "Input: word = \"ieaouqqieaouqq\", k = 1\n",
    "\n",
    "Output: 3\n",
    "\n",
    "Explanation:\n",
    "\n",
    "The substrings with every vowel and one consonant are:\n",
    "\n",
    "word[0..5], which is \"ieaouq\".\n",
    "word[6..11], which is \"qieaou\".\n",
    "word[7..12], which is \"ieaouq\".\n",
    " \n",
    "## Constraints:\n",
    "\n",
    "- $5 <= word.length <= 2 * 10^5$\n",
    "- word consists only of lowercase English letters.\n",
    "- 0 <= k <= word.length - 5"
   ]
  },
  {
   "cell_type": "markdown",
   "metadata": {},
   "source": [
    "## Solution"
   ]
  },
  {
   "cell_type": "code",
   "execution_count": 1,
   "metadata": {},
   "outputs": [],
   "source": [
    "def countOfSubstrings(word:str,k:int)->int:\n",
    "    numSubstring=0\n",
    "    n = len(word)\n",
    "    count = {}\n",
    "    vowels = \"aeiou\"\n",
    "    for vowel in vowels:\n",
    "        count[vowel]=0   \n",
    "    consonants = \"bcdfghjklmnpqrstvwxyz\"\n",
    "    consonantcount = 0\n",
    "    nextConsonant = [0]*n\n",
    "    nextConsonantIndex = n\n",
    "    for i in range(n-1,-1,-1):\n",
    "        nextConsonant[i]=nextConsonantIndex\n",
    "        if word[i] in consonants:\n",
    "            nextConsonantIndex=i\n",
    "    vowelSet=set()\n",
    "    l,r=0,0\n",
    "    while r<n:\n",
    "        if word[r] in vowels:\n",
    "            count[word[r]]+=1\n",
    "            vowelSet.add(word[r])\n",
    "        else:\n",
    "            consonantcount+=1\n",
    "        while consonantcount>k:\n",
    "            if word[l] in vowels:\n",
    "                count[word[l]]-=1\n",
    "                if count[word[l]]==0:\n",
    "                    vowelSet.remove(word[l])\n",
    "            else:\n",
    "                consonantcount-=1\n",
    "            l+=1\n",
    "        while l<n and len(vowelSet)==5 and consonantcount==k:\n",
    "            numSubstring+=nextConsonant[r]-r\n",
    "            if word[l] in vowels:\n",
    "                count[word[l]]-=1\n",
    "                if count[word[l]]==0:\n",
    "                    vowelSet.remove(word[l])\n",
    "            else:\n",
    "                consonantcount-=1\n",
    "            l+=1\n",
    "        r+=1\n",
    "    return numSubstring"
   ]
  },
  {
   "cell_type": "code",
   "execution_count": 2,
   "metadata": {},
   "outputs": [
    {
     "name": "stdout",
     "output_type": "stream",
     "text": [
      "0\n"
     ]
    }
   ],
   "source": [
    "print(countOfSubstrings(\"aeioqq\",1))"
   ]
  },
  {
   "cell_type": "code",
   "execution_count": 3,
   "metadata": {},
   "outputs": [
    {
     "name": "stdout",
     "output_type": "stream",
     "text": [
      "1\n"
     ]
    }
   ],
   "source": [
    "print(countOfSubstrings(\"aeiou\",0))"
   ]
  },
  {
   "cell_type": "code",
   "execution_count": 4,
   "metadata": {},
   "outputs": [
    {
     "name": "stdout",
     "output_type": "stream",
     "text": [
      "3\n"
     ]
    }
   ],
   "source": [
    "print(countOfSubstrings(\"ieaouqqieaouqq\",1))"
   ]
  }
 ],
 "metadata": {
  "kernelspec": {
   "display_name": "base",
   "language": "python",
   "name": "python3"
  },
  "language_info": {
   "codemirror_mode": {
    "name": "ipython",
    "version": 3
   },
   "file_extension": ".py",
   "mimetype": "text/x-python",
   "name": "python",
   "nbconvert_exporter": "python",
   "pygments_lexer": "ipython3",
   "version": "3.12.2"
  }
 },
 "nbformat": 4,
 "nbformat_minor": 2
}
