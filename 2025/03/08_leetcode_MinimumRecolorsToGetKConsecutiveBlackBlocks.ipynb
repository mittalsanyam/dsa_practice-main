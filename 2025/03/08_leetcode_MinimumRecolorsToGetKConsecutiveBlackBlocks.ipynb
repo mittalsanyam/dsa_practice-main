{
 "cells": [
  {
   "cell_type": "markdown",
   "metadata": {},
   "source": [
    "# 2379. Minimum Recolors to Get K Consecutive Black \n",
    "\n",
    "You are given a 0-indexed string blocks of length n, where blocks[i] is either 'W' or 'B', representing the color of the ith block. The characters 'W' and 'B' denote the colors white and black, respectively.\n",
    "\n",
    "You are also given an integer k, which is the desired number of consecutive black blocks.\n",
    "\n",
    "In one operation, you can recolor a white block such that it becomes a black block.\n",
    "\n",
    "Return the minimum number of operations needed such that there is at least one occurrence of k consecutive black blocks.\n",
    "\n",
    "## Examples\n",
    "\n",
    "### Example 1\n",
    "Input: blocks = \"WBBWWBBWBW\", k = 7\n",
    "\n",
    "Output: 3\n",
    "\n",
    "Explanation:\n",
    "\n",
    "One way to achieve 7 consecutive black blocks is to recolor the 0th, 3rd, and 4th blocks\n",
    "\n",
    "so that blocks = \"BBBBBBBWBW\". \n",
    "\n",
    "It can be shown that there is no way to achieve 7 consecutive black blocks in less than 3 operations.\n",
    "\n",
    "Therefore, we return 3.\n",
    "\n",
    "### Example 2\n",
    "Input: blocks = \"WBWBBBW\", k = 2\n",
    "\n",
    "Output: 0\n",
    "\n",
    "Explanation:\n",
    "\n",
    "No changes need to be made, since 2 consecutive black blocks already exist.\n",
    "Therefore, we return 0.\n",
    " \n",
    "\n",
    "## Constraints:\n",
    "- n == blocks.length\n",
    "- 1 <= n <= 100\n",
    "- blocks[i] is either 'W' or 'B'.\n",
    "- 1 <= k <= n"
   ]
  },
  {
   "cell_type": "markdown",
   "metadata": {},
   "source": [
    "## Solution"
   ]
  },
  {
   "cell_type": "code",
   "execution_count": 5,
   "metadata": {},
   "outputs": [],
   "source": [
    "def minimumReorders(blocks:str,k:int)->int:\n",
    "    n = len(blocks)\n",
    "    numWhite = 0\n",
    "    numBlack = 0\n",
    "    minWhite=float('inf')\n",
    "    for i in range(n):\n",
    "        if i>=k:\n",
    "            if minWhite>numWhite:\n",
    "                minWhite=numWhite\n",
    "            if blocks[i-k]==\"W\":\n",
    "                numWhite-=1\n",
    "            else:\n",
    "                numBlack-=1\n",
    "        if blocks[i]==\"W\":\n",
    "            numWhite+=1\n",
    "        else:\n",
    "            numBlack+=1\n",
    "    if minWhite>numWhite:\n",
    "        minWhite=numWhite\n",
    "    return minWhite    "
   ]
  },
  {
   "cell_type": "code",
   "execution_count": 6,
   "metadata": {},
   "outputs": [
    {
     "name": "stdout",
     "output_type": "stream",
     "text": [
      "3\n"
     ]
    }
   ],
   "source": [
    "print(minimumReorders(\"WBBWWBBWBW\",7))"
   ]
  },
  {
   "cell_type": "code",
   "execution_count": 7,
   "metadata": {},
   "outputs": [
    {
     "name": "stdout",
     "output_type": "stream",
     "text": [
      "0\n"
     ]
    }
   ],
   "source": [
    "print(minimumReorders(\"WBWBBBW\",2))"
   ]
  },
  {
   "cell_type": "code",
   "execution_count": null,
   "metadata": {},
   "outputs": [],
   "source": []
  }
 ],
 "metadata": {
  "kernelspec": {
   "display_name": "base",
   "language": "python",
   "name": "python3"
  },
  "language_info": {
   "codemirror_mode": {
    "name": "ipython",
    "version": 3
   },
   "file_extension": ".py",
   "mimetype": "text/x-python",
   "name": "python",
   "nbconvert_exporter": "python",
   "pygments_lexer": "ipython3",
   "version": "3.12.2"
  }
 },
 "nbformat": 4,
 "nbformat_minor": 2
}
