{
 "cells": [
  {
   "cell_type": "markdown",
   "metadata": {},
   "source": [
    "# 1358. Number of Substrings Containing All Three Characters\n",
    "\n",
    "**Level: Medium**\n",
    "\n",
    "[Problem Link](https://leetcode.com/problems/number-of-substrings-containing-all-three-characters/description/)\n",
    "\n",
    "Given a string s consisting only of characters a, b and c.\n",
    "\n",
    "Return the number of substrings containing at least one occurrence of all these characters a, b and c.\n",
    "\n",
    "## Examples \n",
    "\n",
    "### Example 1:\n",
    "Input: s = \"abcabc\"\n",
    "\n",
    "Output: 10\n",
    "\n",
    "Explanation: The substrings containing at least one occurrence of the characters a, b and c are \"abc\", \"abca\", \"abcab\", \"abcabc\", \"bca\", \"bcab\", \"bcabc\", \"cab\", \"cabc\" and \"abc\" (again). \n",
    "\n",
    "\n",
    "### Example 2:\n",
    "\n",
    "Input: s = \"aaacb\"\n",
    "\n",
    "Output: 3\n",
    "\n",
    "Explanation: The substrings containing at least one occurrence of the characters a, b and c are \"aaacb\", \"aacb\" and \"acb\". \n",
    "\n",
    "### Example 3:\n",
    "\n",
    "Input: s = \"abc\"\n",
    "Output: 1\n",
    " \n",
    "\n",
    "### Constraints:\n",
    "- $ 3 <= s.length <= 5 * 10^4$\n",
    "- s only consists of a, b or c characters."
   ]
  },
  {
   "cell_type": "markdown",
   "metadata": {},
   "source": [
    "## Solution"
   ]
  },
  {
   "cell_type": "code",
   "execution_count": 13,
   "metadata": {},
   "outputs": [],
   "source": [
    "def numberOfSubstring(s:str)->int:\n",
    "    n = len(s)\n",
    "    charSet = set()\n",
    "    l,r=0,0\n",
    "    numSubtring=0\n",
    "    freq = {\"a\":0,\"b\":0,\"c\":0}\n",
    "    while r<n:\n",
    "        charSet.add(s[r])\n",
    "        freq[s[r]]+=1\n",
    "        while len(charSet)==3:\n",
    "            numSubtring += n-r\n",
    "            freq[s[l]]-=1\n",
    "            if freq[s[l]]==0:\n",
    "                charSet.remove(s[l])\n",
    "            l+=1\n",
    "        r+=1\n",
    "    return numSubtring\n"
   ]
  },
  {
   "cell_type": "code",
   "execution_count": 14,
   "metadata": {},
   "outputs": [
    {
     "name": "stdout",
     "output_type": "stream",
     "text": [
      "10\n"
     ]
    }
   ],
   "source": [
    "print(numberOfSubstring(\"abcabc\"))"
   ]
  },
  {
   "cell_type": "code",
   "execution_count": 15,
   "metadata": {},
   "outputs": [
    {
     "name": "stdout",
     "output_type": "stream",
     "text": [
      "3\n"
     ]
    }
   ],
   "source": [
    "print(numberOfSubstring(\"aaacb\"))"
   ]
  },
  {
   "cell_type": "code",
   "execution_count": null,
   "metadata": {},
   "outputs": [],
   "source": []
  }
 ],
 "metadata": {
  "kernelspec": {
   "display_name": "base",
   "language": "python",
   "name": "python3"
  },
  "language_info": {
   "codemirror_mode": {
    "name": "ipython",
    "version": 3
   },
   "file_extension": ".py",
   "mimetype": "text/x-python",
   "name": "python",
   "nbconvert_exporter": "python",
   "pygments_lexer": "ipython3",
   "version": "3.12.2"
  }
 },
 "nbformat": 4,
 "nbformat_minor": 2
}
