{
 "cells": [
  {
   "cell_type": "markdown",
   "metadata": {},
   "source": [
    "# 2570. Merge Two 2D Arrays by Summing Values\n",
    "**Level: Easy**\n",
    "\n",
    "[Problem Link](https://leetcode.com/problems/merge-two-2d-arrays-by-summing-values/description)\n",
    "\n",
    "You are given two 2D integer arrays nums1 and nums2.\n",
    "\n",
    "nums1[i] = [$id_i$, $val_i$] indicate that the number with the id $id_i$ has a value equal to $val_i$.\n",
    "\n",
    "nums2[i] = [$id_i$, $val_i$] indicate that the number with the id $id_i$ has a value equal to $val_i$.\n",
    "\n",
    "Each array contains unique ids and is sorted in ascending order by id.\n",
    "\n",
    "Merge the two arrays into one array that is sorted in ascending order by id, respecting the following conditions:\n",
    "\n",
    "Only ids that appear in at least one of the two arrays should be included in the resulting array.\n",
    "\n",
    "Each id should be included only once and its value should be the sum of the values of this id in the two arrays. If the id does not exist in one of the two arrays, then assume its value in that array to be 0.\n",
    "\n",
    "Return the resulting array. The returned array must be sorted in ascending order by id.\n",
    "\n",
    "\n",
    "## Example 1:\n",
    "\n",
    "Input: nums1 = [[1,2],[2,3],[4,5]], nums2 = [[1,4],[3,2],[4,1]]\n",
    "\n",
    "Output: [[1,6],[2,3],[3,2],[4,6]]\n",
    "\n",
    "Explanation: The resulting array contains the following:\n",
    "\n",
    "- id = 1, the value of this id is 2 + 4 = 6.\n",
    "\n",
    "- id = 2, the value of this id is 3.\n",
    "\n",
    "- id = 3, the value of this id is 2.\n",
    "\n",
    "- id = 4, the value of this id is 5 + 1 = 6.\n",
    "\n",
    "## Example 2:\n",
    "\n",
    "Input: nums1 = [[2,4],[3,6],[5,5]], nums2 = [[1,3],[4,3]]\n",
    "\n",
    "Output: [[1,3],[2,4],[3,6],[4,3],[5,5]]\n",
    "\n",
    "Explanation: There are no common ids, so we just include each id with its value in the resulting list.\n",
    " \n",
    "\n",
    "## Constraints:\n",
    "\n",
    "- 1 <= nums1.length, nums2.length <= 200\n",
    "- nums1[i].length == nums2[j].length == 2\n",
    "- 1 <= $id_i$, $val_i$ <= 1000\n",
    "- Both arrays contain unique ids.\n",
    "- Both arrays are in strictly ascending order by id."
   ]
  },
  {
   "cell_type": "markdown",
   "metadata": {},
   "source": [
    "## Solution"
   ]
  },
  {
   "cell_type": "code",
   "execution_count": 1,
   "metadata": {},
   "outputs": [],
   "source": [
    "def mergeArrays(nums1: list[list[int]], nums2: list[list[int]])->list[list[int]]:\n",
    "    table = {}\n",
    "    res = []\n",
    "    for [id,val] in nums1:\n",
    "        table[id]=val\n",
    "    for [id,val] in nums2:\n",
    "        if id not in table.keys():\n",
    "            table[id]=val\n",
    "        else:\n",
    "            table[id]+=val\n",
    "    for key in table.keys():\n",
    "        res.append([key,table[key]])\n",
    "    res.sort()\n",
    "    return res    "
   ]
  },
  {
   "cell_type": "code",
   "execution_count": 2,
   "metadata": {},
   "outputs": [
    {
     "name": "stdout",
     "output_type": "stream",
     "text": [
      "[[1, 6], [2, 3], [3, 2], [4, 6]]\n"
     ]
    }
   ],
   "source": [
    "print(mergeArrays([[1,2],[2,3],[4,5]],[[1,4],[3,2],[4,1]]))"
   ]
  },
  {
   "cell_type": "code",
   "execution_count": 3,
   "metadata": {},
   "outputs": [
    {
     "name": "stdout",
     "output_type": "stream",
     "text": [
      "[[1, 3], [2, 4], [3, 6], [4, 3], [5, 5]]\n"
     ]
    }
   ],
   "source": [
    "print(mergeArrays([[2,4],[3,6],[5,5]],[[1,3],[4,3]]))"
   ]
  }
 ],
 "metadata": {
  "kernelspec": {
   "display_name": "base",
   "language": "python",
   "name": "python3"
  },
  "language_info": {
   "codemirror_mode": {
    "name": "ipython",
    "version": 3
   },
   "file_extension": ".py",
   "mimetype": "text/x-python",
   "name": "python",
   "nbconvert_exporter": "python",
   "pygments_lexer": "ipython3",
   "version": "3.12.2"
  }
 },
 "nbformat": 4,
 "nbformat_minor": 2
}
