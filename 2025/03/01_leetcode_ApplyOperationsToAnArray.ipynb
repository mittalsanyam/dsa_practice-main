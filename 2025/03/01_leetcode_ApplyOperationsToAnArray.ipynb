{
 "cells": [
  {
   "cell_type": "markdown",
   "metadata": {},
   "source": [
    "# 2460. Apply Operations to an Array\n",
    "\n",
    "**Level: Easy**\n",
    "\n",
    "[Problem Link](https://leetcode.com/problems/apply-operations-to-an-array/description/)\n",
    "\n",
    "You are given a 0-indexed array nums of size n consisting of non-negative integers.\n",
    "\n",
    "You need to apply n - 1 operations to this array where, in the ith operation (0-indexed), you will apply the following on the ith element of nums:\n",
    "\n",
    "If nums[i] == nums[i + 1], then multiply nums[i] by 2 and set nums[i + 1] to 0. Otherwise, you skip this operation.\n",
    "\n",
    "After performing all the operations, shift all the 0's to the end of the array.\n",
    "\n",
    "For example, the array [1,0,2,0,0,1] after shifting all its 0's to the end, is [1,2,1,0,0,0].\n",
    "\n",
    "Return the resulting array.\n",
    "\n",
    "Note that the operations are applied sequentially, not all at once.\n",
    "\n",
    "## Examples\n",
    "\n",
    "### Example 1:\n",
    "\n",
    "Input: nums = [1,2,2,1,1,0]\n",
    "\n",
    "Output: [1,4,2,0,0,0]\n",
    "\n",
    "Explanation: We do the following operations:\n",
    "\n",
    "- i = 0: nums[0] and nums[1] are not equal, so we skip this operation.\n",
    "\n",
    "- i = 1: nums[1] and nums[2] are equal, we multiply nums[1] by 2 and change nums[2] to 0. The array becomes [1,4,0,1,1,0].\n",
    "\n",
    "- i = 2: nums[2] and nums[3] are not equal, so we skip this operation.\n",
    "\n",
    "- i = 3: nums[3] and nums[4] are equal, we multiply nums[3] by 2 and change nums[4] to 0. The array becomes [1,4,0,2,0,0].\n",
    "\n",
    "- i = 4: nums[4] and nums[5] are equal, we multiply nums[4] by 2 and change nums[5] to 0. The array becomes [1,4,0,2,0,0].\n",
    "\n",
    "After that, we shift the 0's to the end, which gives the array [1,4,2,0,0,0].\n",
    "\n",
    "### Example 2:\n",
    "\n",
    "Input: nums = [0,1]\n",
    "\n",
    "Output: [1,0]\n",
    "\n",
    "Explanation: No operation can be applied, we just shift the 0 to the end.\n",
    " \n",
    "## Constraints:\n",
    "\n",
    "- 2 <= nums.length <= 2000\n",
    "- 0 <= nums[i] <= 1000"
   ]
  },
  {
   "cell_type": "markdown",
   "metadata": {},
   "source": [
    "## Solution"
   ]
  },
  {
   "cell_type": "code",
   "execution_count": 4,
   "metadata": {},
   "outputs": [],
   "source": [
    "def applyOperations(nums):\n",
    "    res = []\n",
    "    n = len(nums)\n",
    "    for i in range(n-1):\n",
    "        if nums[i]==nums[i+1]:\n",
    "            nums[i]=nums[i]*2\n",
    "            nums[i+1]=0\n",
    "        if nums[i]!=0:\n",
    "            res.append(nums[i])\n",
    "    if nums[-1]!=0:\n",
    "        res.append(nums[-1])\n",
    "    for i in range(n):\n",
    "        if nums[i]==0:\n",
    "            res.append(nums[i])\n",
    "    return res"
   ]
  },
  {
   "cell_type": "code",
   "execution_count": 5,
   "metadata": {},
   "outputs": [
    {
     "name": "stdout",
     "output_type": "stream",
     "text": [
      "[1, 4, 2, 0, 0, 0]\n"
     ]
    }
   ],
   "source": [
    "print(applyOperations([1,2,2,1,1,0]))"
   ]
  },
  {
   "cell_type": "code",
   "execution_count": 6,
   "metadata": {},
   "outputs": [
    {
     "name": "stdout",
     "output_type": "stream",
     "text": [
      "[1, 0]\n"
     ]
    }
   ],
   "source": [
    "print(applyOperations([0,1]))"
   ]
  }
 ],
 "metadata": {
  "kernelspec": {
   "display_name": "base",
   "language": "python",
   "name": "python3"
  },
  "language_info": {
   "codemirror_mode": {
    "name": "ipython",
    "version": 3
   },
   "file_extension": ".py",
   "mimetype": "text/x-python",
   "name": "python",
   "nbconvert_exporter": "python",
   "pygments_lexer": "ipython3",
   "version": "3.12.2"
  }
 },
 "nbformat": 4,
 "nbformat_minor": 2
}
