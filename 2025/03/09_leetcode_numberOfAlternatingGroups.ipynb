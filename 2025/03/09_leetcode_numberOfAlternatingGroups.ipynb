{
 "cells": [
  {
   "cell_type": "markdown",
   "metadata": {},
   "source": [
    "# 3208. Alternating Groups II\n",
    "**Level: Easy**\n",
    "\n",
    "[Problem Link](https://leetcode.com/problems/alternating-groups-ii/description/)\n",
    "\n",
    "There is a circle of red and blue tiles. You are given an array of integers colors and an integer k. The color of tile i is represented by colors[i]:\n",
    "\n",
    "- colors[i] == 0 means that tile i is red.\n",
    "\n",
    "- colors[i] == 1 means that tile i is blue.\n",
    "\n",
    "An alternating group is every k contiguous tiles in the circle with alternating colors (each tile in the group except the first and last one has a different color from its left and right tiles).\n",
    "\n",
    "Return the number of alternating groups.\n",
    "\n",
    "Note that since colors represents a circle, the first and the last tiles are considered to be next to each other.\n",
    "\n",
    "## Examples\n",
    "\n",
    "### Example 1:\n",
    "\n",
    "Input: colors = [0,1,0,1,0], k = 3\n",
    "\n",
    "Output: 3\n",
    "\n",
    "### Example 2:\n",
    "\n",
    "Example 2:\n",
    "\n",
    "Input: colors = [0,1,0,0,1,0,1], k = 6\n",
    "\n",
    "Output: 2\n",
    "\n",
    "### Example 3:\n",
    "\n",
    "Example 3:\n",
    "\n",
    "Input: colors = [1,1,0,1], k = 4\n",
    "\n",
    "Output: 0\n",
    "\n",
    "Constraints:\n",
    "- $3 <= colors.length <= 10^5$\n",
    "- $0 <= colors[i] <= 1$\n",
    "- $3 <= k <= colors.length$"
   ]
  },
  {
   "cell_type": "markdown",
   "metadata": {},
   "source": [
    "## Solution"
   ]
  },
  {
   "cell_type": "code",
   "execution_count": null,
   "metadata": {},
   "outputs": [],
   "source": [
    "def numberOfAlternatingGroups(colors:list[int], k:int)->int:\n",
    "    n = len(colors)\n",
    "    numElem=1\n",
    "    numGroup=0\n",
    "    for i in range(1,n+k-1):\n",
    "        if i>n-1:\n",
    "            i=i%n\n",
    "        if colors[i]!=colors[i-1]:\n",
    "            numElem+=1\n",
    "            if numElem==k:\n",
    "                numGroup+=1\n",
    "                numElem-=1\n",
    "        else:\n",
    "            numElem=1\n",
    "    return numGroup\n",
    "\n"
   ]
  },
  {
   "cell_type": "code",
   "execution_count": 4,
   "metadata": {},
   "outputs": [
    {
     "name": "stdout",
     "output_type": "stream",
     "text": [
      "3\n"
     ]
    }
   ],
   "source": [
    "print(numberOfAlternatingGroups([0,1,0,1,0],3))"
   ]
  },
  {
   "cell_type": "code",
   "execution_count": 5,
   "metadata": {},
   "outputs": [
    {
     "name": "stdout",
     "output_type": "stream",
     "text": [
      "2\n"
     ]
    }
   ],
   "source": [
    "print(numberOfAlternatingGroups([0,1,0,0,1,0,1],6))"
   ]
  },
  {
   "cell_type": "code",
   "execution_count": 6,
   "metadata": {},
   "outputs": [
    {
     "name": "stdout",
     "output_type": "stream",
     "text": [
      "0\n"
     ]
    }
   ],
   "source": [
    "print(numberOfAlternatingGroups([1,1,0,1],4))"
   ]
  }
 ],
 "metadata": {
  "kernelspec": {
   "display_name": "base",
   "language": "python",
   "name": "python3"
  },
  "language_info": {
   "codemirror_mode": {
    "name": "ipython",
    "version": 3
   },
   "file_extension": ".py",
   "mimetype": "text/x-python",
   "name": "python",
   "nbconvert_exporter": "python",
   "pygments_lexer": "ipython3",
   "version": "3.12.2"
  }
 },
 "nbformat": 4,
 "nbformat_minor": 2
}
