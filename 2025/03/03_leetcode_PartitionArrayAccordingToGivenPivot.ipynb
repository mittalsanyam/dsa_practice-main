{
 "cells": [
  {
   "cell_type": "markdown",
   "metadata": {},
   "source": [
    "# 2161. Partition Array According to Given Pivot\n",
    "**Level: Medium**\n",
    "\n",
    "[Problem Link](https://leetcode.com/problems/partition-array-according-to-given-pivot/description/)\n",
    "\n",
    "You are given a 0-indexed integer array nums and an integer pivot. Rearrange nums such that the following conditions are satisfied:\n",
    "\n",
    "Every element less than pivot appears before every element greater than pivot.\n",
    "\n",
    "Every element equal to pivot appears in between the elements less than and greater than pivot.\n",
    "\n",
    "The relative order of the elements less than pivot and the elements greater than pivot is maintained.\n",
    "\n",
    "More formally, consider every pi, pj where pi is the new position of the ith element and pj is the new position of the jth element. If i < j and both elements are smaller (or larger) than pivot, then pi < pj.\n",
    "\n",
    "Return nums after the rearrangement.\n",
    "\n",
    "## Examples\n",
    "### Example 1:\n",
    "Input: nums = [9,12,5,10,14,3,10], pivot = 10\n",
    "\n",
    "Output: [9,5,3,10,10,12,14]\n",
    "\n",
    "Explanation: \n",
    "\n",
    "The elements 9, 5, and 3 are less than the pivot so they are on the left side of the array.\n",
    "\n",
    "The elements 12 and 14 are greater than the pivot so they are on the right side of the array.\n",
    "\n",
    "The relative ordering of the elements less than and greater than pivot is also maintained. [9, 5, 3] and [12, 14] are the respective orderings.\n",
    "\n",
    "### Example 2:\n",
    "Input: nums = [-3,4,3,2], pivot = 2\n",
    "\n",
    "Output: [-3,2,4,3]\n",
    "\n",
    "Explanation: \n",
    "\n",
    "The element -3 is less than the pivot so it is on the left side of the array.\n",
    "\n",
    "The elements 4 and 3 are greater than the pivot so they are on the right side of the array.\n",
    "\n",
    "The relative ordering of the elements less than and greater than pivot is also maintained. [-3] and [4, 3] are the respective orderings.\n",
    " \n",
    "## Constraints:\n",
    "- $1 <= nums.length <= 10^5$\n",
    "- $-10^6 <= nums[i] <= 10^6$\n",
    "- pivot equals to an element of nums."
   ]
  },
  {
   "cell_type": "markdown",
   "metadata": {},
   "source": [
    "## Solution"
   ]
  },
  {
   "cell_type": "code",
   "execution_count": 1,
   "metadata": {},
   "outputs": [],
   "source": [
    "def pivotArray(nums:list[int],pivot:int)->list[int]:\n",
    "    small,large,equal=list(),list(),list()\n",
    "    for num in nums:\n",
    "        if num<pivot:\n",
    "            small.append(num)\n",
    "        elif num==pivot:\n",
    "            equal.append(num)\n",
    "        else:\n",
    "            large.append(num)\n",
    "    nums = list()\n",
    "    for num in small:\n",
    "        nums.append(num)\n",
    "    for num in equal:\n",
    "        nums.append(num)\n",
    "    for num in large:\n",
    "        nums.append(num)\n",
    "    return nums"
   ]
  },
  {
   "cell_type": "code",
   "execution_count": 2,
   "metadata": {},
   "outputs": [
    {
     "name": "stdout",
     "output_type": "stream",
     "text": [
      "[9, 5, 3, 10, 10, 12, 14]\n"
     ]
    }
   ],
   "source": [
    "print(pivotArray([9,12,5,10,14,3,10],10))"
   ]
  },
  {
   "cell_type": "code",
   "execution_count": 3,
   "metadata": {},
   "outputs": [
    {
     "name": "stdout",
     "output_type": "stream",
     "text": [
      "[-3, 2, 4, 3]\n"
     ]
    }
   ],
   "source": [
    "print(pivotArray([-3,4,3,2],2))"
   ]
  }
 ],
 "metadata": {
  "kernelspec": {
   "display_name": "base",
   "language": "python",
   "name": "python3"
  },
  "language_info": {
   "codemirror_mode": {
    "name": "ipython",
    "version": 3
   },
   "file_extension": ".py",
   "mimetype": "text/x-python",
   "name": "python",
   "nbconvert_exporter": "python",
   "pygments_lexer": "ipython3",
   "version": "3.12.2"
  }
 },
 "nbformat": 4,
 "nbformat_minor": 2
}
