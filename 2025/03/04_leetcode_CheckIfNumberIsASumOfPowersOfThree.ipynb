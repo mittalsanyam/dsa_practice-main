{
 "cells": [
  {
   "cell_type": "markdown",
   "metadata": {},
   "source": [
    "# 1780. Check if Number is a Sum of Powers of Three\n",
    "\n",
    "**Level: Medium**\n",
    "\n",
    "[Problem Link](https://leetcode.com/problems/check-if-number-is-a-sum-of-powers-of-three/description/)\n",
    "\n",
    "Given an integer n, return true if it is possible to represent n as the sum of distinct powers of three. Otherwise, return false.\n",
    "\n",
    "An integer y is a power of three if there exists an integer x such that y == 3x.\n",
    "\n",
    "## Examples \n",
    "\n",
    "### Example 1:\n",
    "Input: n = 12\n",
    "\n",
    "Output: true\n",
    "\n",
    "Explanation: 12 = 31 + 32\n",
    "\n",
    "### Example 2:\n",
    "Input: n = 91\n",
    "\n",
    "Output: true\n",
    "\n",
    "Explanation: 91 = 30 + 32 + 34\n",
    "\n",
    "### Example 3:\n",
    "Input: n = 21\n",
    "\n",
    "Output: false\n",
    "\n",
    "## Constraints:\n",
    "- $1 <= n <= 10^7$"
   ]
  },
  {
   "cell_type": "markdown",
   "metadata": {},
   "source": [
    "## Solution"
   ]
  },
  {
   "cell_type": "code",
   "execution_count": 8,
   "metadata": {},
   "outputs": [],
   "source": [
    "def checkPowerOfThree(n:int)->bool:\n",
    "    ternary = \"\"\n",
    "    stack=[]\n",
    "    while n>2:\n",
    "        rem = n%3\n",
    "        stack.append(str(rem))\n",
    "        n=n//3\n",
    "    stack.append(str(n))\n",
    "    while stack:\n",
    "        ternary+=stack.pop()\n",
    "    for ch in ternary:\n",
    "        if ch==\"2\":\n",
    "            return False\n",
    "    return True"
   ]
  },
  {
   "cell_type": "code",
   "execution_count": 9,
   "metadata": {},
   "outputs": [
    {
     "name": "stdout",
     "output_type": "stream",
     "text": [
      "True\n"
     ]
    }
   ],
   "source": [
    "print(checkPowerOfThree(12))"
   ]
  },
  {
   "cell_type": "code",
   "execution_count": 10,
   "metadata": {},
   "outputs": [
    {
     "name": "stdout",
     "output_type": "stream",
     "text": [
      "True\n"
     ]
    }
   ],
   "source": [
    "print(checkPowerOfThree(91))"
   ]
  },
  {
   "cell_type": "code",
   "execution_count": 11,
   "metadata": {},
   "outputs": [
    {
     "name": "stdout",
     "output_type": "stream",
     "text": [
      "False\n"
     ]
    }
   ],
   "source": [
    "print(checkPowerOfThree(21))"
   ]
  }
 ],
 "metadata": {
  "kernelspec": {
   "display_name": "base",
   "language": "python",
   "name": "python3"
  },
  "language_info": {
   "codemirror_mode": {
    "name": "ipython",
    "version": 3
   },
   "file_extension": ".py",
   "mimetype": "text/x-python",
   "name": "python",
   "nbconvert_exporter": "python",
   "pygments_lexer": "ipython3",
   "version": "3.12.2"
  }
 },
 "nbformat": 4,
 "nbformat_minor": 2
}
