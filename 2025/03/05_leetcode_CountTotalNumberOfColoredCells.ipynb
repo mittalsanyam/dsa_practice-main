{
 "cells": [
  {
   "cell_type": "markdown",
   "metadata": {},
   "source": [
    "# 2579. Count Total Number of Colored Cells\n",
    "\n",
    "**Level: Medium**\n",
    "\n",
    "[Problem Link](https://leetcode.com/problems/count-total-number-of-colored-cells/description/)\n",
    "\n",
    "There exists an infinitely large two-dimensional grid of uncolored unit cells. You are given a positive integer n, indicating that you must do the following routine for n minutes:\n",
    "- At the first minute, color any arbitrary unit cell blue.\n",
    "- Every minute thereafter, color blue every uncolored cell that touches a blue cell.\n",
    "\n",
    "## Examples\n",
    "### Example 1:\n",
    "Input: n = 1\n",
    "\n",
    "Output: 1\n",
    "\n",
    "Explanation: After 1 minute, there is only 1 blue cell, so we return 1.\n",
    "\n",
    "### Example 2:\n",
    "Input: n = 2\n",
    "\n",
    "Output: 5\n",
    "\n",
    "Explanation: After 2 minutes, there are 4 colored cells on the boundary and 1 in the center, so we return 5. \n",
    " \n",
    "## Constraints:\n",
    "\n",
    "- $1 <= n <= 10^5$"
   ]
  },
  {
   "cell_type": "markdown",
   "metadata": {},
   "source": [
    "## Solution"
   ]
  },
  {
   "cell_type": "code",
   "execution_count": 1,
   "metadata": {},
   "outputs": [],
   "source": [
    "def coloredCells(n:int)->int:\n",
    "    colored=1\n",
    "    for i in range(n):\n",
    "        colored+=4*i\n",
    "    return colored"
   ]
  },
  {
   "cell_type": "code",
   "execution_count": 2,
   "metadata": {},
   "outputs": [
    {
     "name": "stdout",
     "output_type": "stream",
     "text": [
      "1\n"
     ]
    }
   ],
   "source": [
    "print(coloredCells(1))"
   ]
  },
  {
   "cell_type": "code",
   "execution_count": 3,
   "metadata": {},
   "outputs": [
    {
     "name": "stdout",
     "output_type": "stream",
     "text": [
      "5\n"
     ]
    }
   ],
   "source": [
    "print(coloredCells(2))"
   ]
  },
  {
   "cell_type": "code",
   "execution_count": 4,
   "metadata": {},
   "outputs": [
    {
     "name": "stdout",
     "output_type": "stream",
     "text": [
      "13\n"
     ]
    }
   ],
   "source": [
    "print(coloredCells(3))"
   ]
  },
  {
   "cell_type": "code",
   "execution_count": null,
   "metadata": {},
   "outputs": [],
   "source": []
  }
 ],
 "metadata": {
  "kernelspec": {
   "display_name": "base",
   "language": "python",
   "name": "python3"
  },
  "language_info": {
   "codemirror_mode": {
    "name": "ipython",
    "version": 3
   },
   "file_extension": ".py",
   "mimetype": "text/x-python",
   "name": "python",
   "nbconvert_exporter": "python",
   "pygments_lexer": "ipython3",
   "version": "3.12.2"
  }
 },
 "nbformat": 4,
 "nbformat_minor": 2
}
