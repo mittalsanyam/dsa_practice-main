{
 "cells": [
  {
   "cell_type": "markdown",
   "metadata": {},
   "source": [
    "# 3356. Zero Array Transformation II\n",
    "**Level: Medium**\n",
    "\n",
    "[Problem Link](https://leetcode.com/problems/zero-array-transformation-ii/description/)\n",
    "\n",
    "You are given an integer array nums of length n and a 2D array queries where queries[i] = [li, ri, vali].\n",
    "\n",
    "Each queries[i] represents the following action on nums:\n",
    "\n",
    "Decrement the value at each index in the range [li, ri] in nums by at most vali.\n",
    "\n",
    "The amount by which each value is decremented can be chosen independently for each index.\n",
    "\n",
    "A Zero Array is an array with all its elements equal to 0.\n",
    "\n",
    "Return the minimum possible non-negative value of k, such that after processing the first k queries in sequence, nums becomes a Zero Array. If no such k exists, return -1.\n",
    "\n",
    "## Example 1 \n",
    "\n",
    "### Example 1:\n",
    "\n",
    "Input: nums = [2,0,2], queries = [[0,2,1],[0,2,1],[1,1,3]]\n",
    "\n",
    "Output: 2\n",
    "\n",
    "Explanation:\n",
    "\n",
    "For i = 0 (l = 0, r = 2, val = 1):\n",
    "- Decrement values at indices [0, 1, 2] by [1, 0, 1] respectively.\n",
    "- The array will become [1, 0, 1].\n",
    "- For i = 1 (l = 0, r = 2, val = 1):\n",
    "- Decrement values at indices [0, 1, 2] by [1, 0, 1] respectively.\n",
    "- The array will become [0, 0, 0], which is a Zero Array. Therefore, the minimum value of k is 2.\n",
    "\n",
    "### Example 2:\n",
    "\n",
    "Input: nums = [4,3,2,1], queries = [[1,3,2],[0,2,1]]\n",
    "\n",
    "Output: -1\n",
    "\n",
    "Explanation:\n",
    "\n",
    "For i = 0 (l = 1, r = 3, val = 2):\n",
    "\n",
    "Decrement values at indices [1, 2, 3] by [2, 2, 1] respectively.\n",
    "\n",
    "The array will become [4, 1, 0, 0].\n",
    "\n",
    "For i = 1 (l = 0, r = 2, val = 1):\n",
    "\n",
    "Decrement values at indices [0, 1, 2] by [1, 1, 0] respectively.\n",
    "\n",
    "The array will become [3, 0, 0, 0], which is not a Zero Array.\n",
    " \n",
    "\n",
    "## Constraints:\n",
    "\n",
    "- $1 <= nums.length <= 10^5$\n",
    "- $0 <= nums[i] <= 5 * 10^5$\n",
    "- $1 <= queries.length <= 10^5$\n",
    "- queries[i].length == 3\n",
    "- $0 <= l_i <= r_i < nums.length$\n",
    "- $1 <= val_i <= 5$\n"
   ]
  },
  {
   "cell_type": "markdown",
   "metadata": {},
   "source": [
    "## Solution"
   ]
  },
  {
   "cell_type": "code",
   "execution_count": 15,
   "metadata": {},
   "outputs": [],
   "source": [
    "def minZeroArray(nums,queries):\n",
    "    left,right = 0,len(queries)\n",
    "    def canFormZeroArray(nums,queries,k):\n",
    "        n = len(nums)\n",
    "        total_sum=0\n",
    "        difference_array = [0]*(n+1)\n",
    "        for idx in range(k):\n",
    "            s,e,val = queries[idx]\n",
    "            difference_array[s]+=val\n",
    "            difference_array[e+1]-=val\n",
    "        for idx in range(n):\n",
    "            total_sum+=difference_array[idx]\n",
    "            if total_sum<nums[idx]:\n",
    "                return False\n",
    "        return True\n",
    "    if not canFormZeroArray(nums,queries,right):\n",
    "        return -1\n",
    "    while left<=right:\n",
    "        mid = left+(right-left)//2\n",
    "        if canFormZeroArray(nums,queries,mid):\n",
    "            right=mid-1\n",
    "        else:\n",
    "            left=mid+1\n",
    "    return left"
   ]
  },
  {
   "cell_type": "code",
   "execution_count": 16,
   "metadata": {},
   "outputs": [
    {
     "name": "stdout",
     "output_type": "stream",
     "text": [
      "2\n"
     ]
    }
   ],
   "source": [
    "print(minZeroArray([2,0,2],[[0,2,1],[0,2,1],[1,1,3]]))"
   ]
  },
  {
   "cell_type": "code",
   "execution_count": 17,
   "metadata": {},
   "outputs": [
    {
     "name": "stdout",
     "output_type": "stream",
     "text": [
      "-1\n"
     ]
    }
   ],
   "source": [
    "print(minZeroArray([4,3,2,1],[[1,3,2],[0,2,1]]))"
   ]
  },
  {
   "cell_type": "code",
   "execution_count": null,
   "metadata": {},
   "outputs": [],
   "source": []
  }
 ],
 "metadata": {
  "kernelspec": {
   "display_name": "base",
   "language": "python",
   "name": "python3"
  },
  "language_info": {
   "codemirror_mode": {
    "name": "ipython",
    "version": 3
   },
   "file_extension": ".py",
   "mimetype": "text/x-python",
   "name": "python",
   "nbconvert_exporter": "python",
   "pygments_lexer": "ipython3",
   "version": "3.12.2"
  }
 },
 "nbformat": 4,
 "nbformat_minor": 2
}
