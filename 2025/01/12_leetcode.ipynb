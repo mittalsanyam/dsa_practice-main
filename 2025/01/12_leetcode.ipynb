{
 "cells": [
  {
   "cell_type": "markdown",
   "metadata": {},
   "source": [
    "# 2116. Check if a Parentheses String Can Be Valid\n",
    "\n",
    "**Level: Medium**\n",
    "\n",
    "[Problem Link](https://leetcode.com/problems/check-if-a-parentheses-string-can-be-valid/description/)\n",
    "\n",
    "A parentheses string is a non-empty string consisting only of `'('` and `')'`. It is valid if any of the following conditions is true:\n",
    "\n",
    "It is `()`.\n",
    "\n",
    "It can be written as `AB` (`A` concatenated with `B`), where `A` and `B` are valid parentheses strings.\n",
    "\n",
    "It can be written as `(A)`, where `A` is a valid parentheses string.\n",
    "\n",
    "You are given a parentheses string s and a string locked, both of length n. locked is a binary string consisting only of '0's and '1's. For each index i of locked,\n",
    "\n",
    "If locked[i] is '1', you cannot change s[i].\n",
    "\n",
    "But if locked[i] is '0', you can change s[i] to either '(' or ')'.\n",
    "\n",
    "Return true if you can make s a valid parentheses string. Otherwise, return false.\n",
    "\n",
    "## Examples\n",
    "\n",
    "### Example 1\n",
    "\n",
    "Input: s = \"))()))\", locked = \"010100\"\n",
    "\n",
    "Output: true\n",
    "\n",
    "Explanation: locked[1] == '1' and locked[3] == '1', so we cannot change s[1] or s[3].\n",
    "\n",
    "We change s[0] and s[4] to '(' while leaving s[2] and s[5] unchanged to make s valid.\n",
    "\n",
    "### Example 2\n",
    "\n",
    "Input: s = \"()()\", locked = \"0000\"\n",
    "\n",
    "Output: true\n",
    "\n",
    "Explanation: We do not need to make any changes because s is already valid.\n",
    "\n",
    "### Example 3:\n",
    "\n",
    "Input: s = \")\", locked = \"0\"\n",
    "\n",
    "Output: false\n",
    "\n",
    "Explanation: locked permits us to change s[0].\n",
    "\n",
    "Changing s[0] to either '(' or ')' will not make s valid.\n",
    "\n",
    "## Constraints\n",
    "Constraints:\n",
    "- n == s.length == locked.length\n",
    "- $1 <= n <= 10^5$\n",
    "- s[i] is either '(' or ')'.\n",
    "- locked[i] is either '0' or '1'."
   ]
  },
  {
   "cell_type": "markdown",
   "metadata": {},
   "source": [
    "## Solution"
   ]
  },
  {
   "cell_type": "code",
   "execution_count": 70,
   "metadata": {},
   "outputs": [
    {
     "name": "stdout",
     "output_type": "stream",
     "text": [
      "True\n"
     ]
    }
   ],
   "source": [
    "def canBeValid(s,locked):\n",
    "    n = len(s)\n",
    "    if n%2==1:\n",
    "        return False\n",
    "    if (s[0]==')' and locked[0]=='1') or (s[-1]=='(' and locked[-1]=='1'):\n",
    "        return False\n",
    "    openBrackets=[]\n",
    "    unlocked = []\n",
    "    for i in range(n):\n",
    "        if locked[i]=='0':\n",
    "            unlocked.append(i)\n",
    "        elif s[i]=='(':\n",
    "            openBrackets.append(i)\n",
    "        elif s[i]==')':\n",
    "            if len(openBrackets)>0:\n",
    "                openBrackets.pop()\n",
    "            elif len(unlocked)>0:\n",
    "                unlocked.pop()\n",
    "            else:\n",
    "                return False\n",
    "    while openBrackets and unlocked and openBrackets[-1]<unlocked[-1]:\n",
    "        openBrackets.pop()\n",
    "        unlocked.pop()\n",
    "    if openBrackets:\n",
    "        return False\n",
    "    return True\n",
    " \n",
    "print(canBeValid(\"))()))\",\"010100\"))"
   ]
  },
  {
   "cell_type": "code",
   "execution_count": 71,
   "metadata": {},
   "outputs": [
    {
     "name": "stdout",
     "output_type": "stream",
     "text": [
      "True\n"
     ]
    }
   ],
   "source": [
    "print(canBeValid(\"()()\",\"0000\"))"
   ]
  },
  {
   "cell_type": "code",
   "execution_count": 72,
   "metadata": {},
   "outputs": [
    {
     "name": "stdout",
     "output_type": "stream",
     "text": [
      "False\n"
     ]
    }
   ],
   "source": [
    "print(canBeValid(\")\",\"0\"))"
   ]
  },
  {
   "cell_type": "code",
   "execution_count": 73,
   "metadata": {},
   "outputs": [
    {
     "name": "stdout",
     "output_type": "stream",
     "text": [
      "True\n"
     ]
    }
   ],
   "source": [
    "print(canBeValid(\")(\",\"00\"))"
   ]
  },
  {
   "cell_type": "code",
   "execution_count": 74,
   "metadata": {},
   "outputs": [
    {
     "name": "stdout",
     "output_type": "stream",
     "text": [
      "True\n"
     ]
    }
   ],
   "source": [
    "print(canBeValid(\"))))\",\"0000\"))"
   ]
  },
  {
   "cell_type": "code",
   "execution_count": 75,
   "metadata": {},
   "outputs": [
    {
     "name": "stdout",
     "output_type": "stream",
     "text": [
      "True\n"
     ]
    }
   ],
   "source": [
    "print(canBeValid(\"())()))()(()(((())(()()))))((((()()(()))\",\n",
    "                 \"1011101100010001001011000000110010100101\"))"
   ]
  }
 ],
 "metadata": {
  "kernelspec": {
   "display_name": "base",
   "language": "python",
   "name": "python3"
  },
  "language_info": {
   "codemirror_mode": {
    "name": "ipython",
    "version": 3
   },
   "file_extension": ".py",
   "mimetype": "text/x-python",
   "name": "python",
   "nbconvert_exporter": "python",
   "pygments_lexer": "ipython3",
   "version": "3.12.2"
  }
 },
 "nbformat": 4,
 "nbformat_minor": 2
}
