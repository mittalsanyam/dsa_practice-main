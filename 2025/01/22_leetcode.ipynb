{
 "cells": [
  {
   "cell_type": "markdown",
   "metadata": {},
   "source": [
    "# 1765. Map of Highest Peak\n",
    "\n",
    "**Level: Medium**\n",
    "\n",
    "[Problem Link](https://leetcode.com/problems/map-of-highest-peak/description/)\n",
    "\n",
    "You are given an integer matrix isWater of size m x n that represents a map of land and water cells.\n",
    "\n",
    "- If isWater[i][j] == 0, cell (i, j) is a land cell.\n",
    "- If isWater[i][j] == 1, cell (i, j) is a water cell.\n",
    "\n",
    "You must assign each cell a height in a way that follows these rules:\n",
    "- The height of each cell must be non-negative.\n",
    "- If the cell is a water cell, its height must be 0.\n",
    "- Any two adjacent cells must have an absolute height difference of at most 1. A cell is adjacent to another cell if the former is directly north, east, south, or west of the latter (i.e., their sides are touching).\n",
    "\n",
    "Find an assignment of heights such that the maximum height in the matrix is maximized.\n",
    "\n",
    "Return an integer matrix height of size `m x n` where `height[i][j]` is cell `(i, j)'s` height. If there are multiple solutions, return any of them.\n",
    "\n",
    "## Examples\n",
    "\n",
    "### Example 1\n",
    "Input: isWater = [[0,1],[0,0]]\n",
    "\n",
    "Output: [[1,0],[2,1]]\n",
    "\n",
    "Explanation: The image shows the assigned heights of each cell.\n",
    "The blue cell is the water cell, and the green cells are the land cells.\n",
    "\n",
    "### Example 2\n",
    "Input: isWater = [[0,0,1],[1,0,0],[0,0,0]]\n",
    "\n",
    "Output: [[1,1,0],[0,1,1],[1,2,2]]\n",
    "\n",
    "Explanation: A height of 2 is the maximum possible height of any assignment.\n",
    "Any height assignment that has a maximum height of 2 while still meeting the rules will also be accepted.\n",
    "\n",
    "## Constraints:\n",
    "- m == isWater.length\n",
    "- n == isWater[i].length\n",
    "- 1 <= m, n <= 1000\n",
    "- isWater[i][j] is 0 or 1.\n",
    "- There is at least one water cell."
   ]
  },
  {
   "cell_type": "markdown",
   "metadata": {},
   "source": [
    "## Solution"
   ]
  },
  {
   "cell_type": "code",
   "execution_count": 18,
   "metadata": {},
   "outputs": [],
   "source": [
    "from collections import deque\n",
    "\n",
    "def highestpeak(isWater):\n",
    "    m,n = len(isWater),len(isWater[0])\n",
    "    level=[]\n",
    "    waterList=[]\n",
    "    for i in range(m):\n",
    "        row=[]\n",
    "        for j in range(n):\n",
    "            row.append(-1)\n",
    "            if isWater[i][j]==1:\n",
    "                waterList.append((i,j))\n",
    "        level.append(row)\n",
    "    queue = deque()\n",
    "    dirs=[(-1,0),(0,-1),(1,0),(0,1)]\n",
    "    for (i,j) in waterList:\n",
    "        level[i][j]=0\n",
    "        queue.append((i,j))\n",
    "    layer_size=1\n",
    "    while queue:\n",
    "        layer = len(queue)\n",
    "        for _ in range(layer):\n",
    "            (i,j) = queue.popleft()\n",
    "            for (dx,dy) in dirs:\n",
    "                u,v = i+dx,j+dy\n",
    "                if 0<=u<m and 0<=v<n and level[u][v]==-1:\n",
    "                    level[u][v]=layer_size\n",
    "                    queue.append((u,v))\n",
    "        layer_size+=1\n",
    "    return level\n"
   ]
  },
  {
   "cell_type": "code",
   "execution_count": 19,
   "metadata": {},
   "outputs": [
    {
     "name": "stdout",
     "output_type": "stream",
     "text": [
      "[[1, 1, 0], [0, 1, 1], [1, 2, 2]]\n"
     ]
    }
   ],
   "source": [
    "print(highestpeak([[0,0,1],[1,0,0],[0,0,0]]))"
   ]
  },
  {
   "cell_type": "code",
   "execution_count": 20,
   "metadata": {},
   "outputs": [
    {
     "name": "stdout",
     "output_type": "stream",
     "text": [
      "[[1, 0], [2, 1]]\n"
     ]
    }
   ],
   "source": [
    "print(highestpeak([[0,1],[0,0]]))"
   ]
  },
  {
   "cell_type": "code",
   "execution_count": 21,
   "metadata": {},
   "outputs": [
    {
     "name": "stdout",
     "output_type": "stream",
     "text": [
      "[[0, 1, 0, 0, 1, 0, 0, 1, 2, 3], [1, 2, 1, 1, 2, 1, 1, 2, 3, 4], [0, 1, 2, 2, 3, 2, 1, 1, 2, 3], [1, 0, 1, 2, 2, 1, 0, 0, 1, 2], [1, 1, 2, 2, 1, 0, 1, 1, 2, 3], [0, 1, 1, 2, 1, 1, 1, 0, 1, 2], [1, 1, 0, 1, 0, 1, 2, 1, 0, 1], [0, 1, 1, 0, 1, 2, 3, 2, 1, 0], [1, 0, 1, 1, 1, 1, 2, 1, 1, 1], [1, 0, 0, 1, 0, 0, 1, 0, 0, 1], [1, 1, 1, 0, 0, 1, 0, 1, 0, 1], [0, 1, 0, 1, 0, 1, 1, 0, 1, 2], [1, 1, 1, 0, 1, 1, 2, 1, 2, 2], [1, 0, 0, 0, 1, 0, 1, 2, 2, 1], [2, 1, 0, 1, 0, 0, 1, 2, 1, 0], [2, 1, 0, 0, 0, 0, 0, 1, 2, 1], [1, 0, 1, 1, 1, 1, 1, 2, 3, 2], [0, 0, 0, 1, 2, 2, 2, 3, 4, 3]]\n"
     ]
    }
   ],
   "source": [
    "print(highestpeak([[1,0,1,1,0,1,1,0,0,0],[0,0,0,0,0,0,0,0,0,0],[1,0,0,0,0,0,0,0,0,0],[0,1,0,0,0,0,1,1,0,0],[0,0,0,0,0,1,0,0,0,0],[1,0,0,0,0,0,0,1,0,0],[0,0,1,0,1,0,0,0,1,0],[1,0,0,1,0,0,0,0,0,1],[0,1,0,0,0,0,0,0,0,0],[0,1,1,0,1,1,0,1,1,0],[0,0,0,1,1,0,1,0,1,0],[1,0,1,0,1,0,0,1,0,0],[0,0,0,1,0,0,0,0,0,0],[0,1,1,1,0,1,0,0,0,0],[0,0,1,0,1,1,0,0,0,1],[0,0,1,1,1,1,1,0,0,0],[0,1,0,0,0,0,0,0,0,0],[1,1,1,0,0,0,0,0,0,0]]))"
   ]
  }
 ],
 "metadata": {
  "kernelspec": {
   "display_name": "base",
   "language": "python",
   "name": "python3"
  },
  "language_info": {
   "codemirror_mode": {
    "name": "ipython",
    "version": 3
   },
   "file_extension": ".py",
   "mimetype": "text/x-python",
   "name": "python",
   "nbconvert_exporter": "python",
   "pygments_lexer": "ipython3",
   "version": "3.12.2"
  }
 },
 "nbformat": 4,
 "nbformat_minor": 2
}
