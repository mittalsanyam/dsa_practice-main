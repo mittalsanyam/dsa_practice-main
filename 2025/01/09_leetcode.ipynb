{
 "cells": [
  {
   "cell_type": "markdown",
   "metadata": {},
   "source": [
    "# 2185. Counting Words With a Given Prefix\n",
    "\n",
    "**Level: Easy**\n",
    "\n",
    "[Problem Link](https://leetcode.com/problems/counting-words-with-a-given-prefix/description/)\n",
    "\n",
    "You are given an array of strings words and a string pref.\n",
    "\n",
    "\n",
    "Return the number of strings in words that contain pref as a prefix.\n",
    "\n",
    "\n",
    "A prefix of a string s is any leading contiguous substring of s.\n",
    "\n",
    "## Examples\n",
    "\n",
    "### Example 1:\n",
    "\n",
    "Input: words = [\"pay\",\"attention\",\"practice\",\"attend\"], pref = \"at\"\n",
    "\n",
    "Output: 2\n",
    "\n",
    "Explanation: The 2 strings that contain \"at\" as a prefix are: \"attention\" and \"attend\".\n",
    "\n",
    "### Example 2:\n",
    "\n",
    "Input: words = [\"leetcode\",\"win\",\"loops\",\"success\"], pref = \"code\"\n",
    "\n",
    "Output: 0\n",
    "\n",
    "Explanation: There are no strings that contain \"code\" as a prefix.\n",
    " \n",
    "\n",
    "## Constraints:\n",
    "\n",
    "- $1 <= words.length <= 100$\n",
    "- $1 <= words[i].length, pref.length <= 100$\n",
    "- words[i] and pref consist of lowercase English letters."
   ]
  },
  {
   "cell_type": "markdown",
   "metadata": {},
   "source": [
    "## Solution"
   ]
  },
  {
   "cell_type": "code",
   "execution_count": 1,
   "metadata": {},
   "outputs": [
    {
     "name": "stdout",
     "output_type": "stream",
     "text": [
      "2\n"
     ]
    }
   ],
   "source": [
    "def prefixCount(words,pref):\n",
    "    count=0\n",
    "    for word in words:\n",
    "        if word.startswith(pref):\n",
    "            count+=1\n",
    "    return count\n",
    "\n",
    "print(prefixCount([\"pay\",\"attention\",\"practice\",\"attend\"],\"at\"))"
   ]
  },
  {
   "cell_type": "code",
   "execution_count": 3,
   "metadata": {},
   "outputs": [
    {
     "name": "stdout",
     "output_type": "stream",
     "text": [
      "0\n"
     ]
    }
   ],
   "source": [
    "print(prefixCount([\"leetcode\",\"win\",\"loops\",\"success\"],\"code\"))"
   ]
  }
 ],
 "metadata": {
  "kernelspec": {
   "display_name": "base",
   "language": "python",
   "name": "python3"
  },
  "language_info": {
   "codemirror_mode": {
    "name": "ipython",
    "version": 3
   },
   "file_extension": ".py",
   "mimetype": "text/x-python",
   "name": "python",
   "nbconvert_exporter": "python",
   "pygments_lexer": "ipython3",
   "version": "3.12.2"
  }
 },
 "nbformat": 4,
 "nbformat_minor": 2
}
