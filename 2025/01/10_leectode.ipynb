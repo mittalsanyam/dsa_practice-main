{
 "cells": [
  {
   "cell_type": "markdown",
   "metadata": {},
   "source": [
    "# 916. Word Subsets\n",
    "\n",
    "**Level: Medium**\n",
    "\n",
    "[Problem Link](https://leetcode.com/problems/word-subsets/description/)\n",
    "\n",
    "You are given two string arrays words1 and words2.\n",
    "\n",
    "A string b is a subset of string a if every letter in b occurs in a including multiplicity.\n",
    "\n",
    "For example, \"wrr\" is a subset of \"warrior\" but is not a subset of \"world\".\n",
    "A string a from words1 is universal if for every string b in words2, b is a subset of a.\n",
    "\n",
    "Return an array of all the universal strings in words1. You may return the answer in any order.\n",
    "\n",
    "## Examples\n",
    "### Example 1:\n",
    "\n",
    "Input: words1 = [\"amazon\",\"apple\",\"facebook\",\"google\",\"leetcode\"], words2 = [\"e\",\"o\"]\n",
    "\n",
    "Output: [\"facebook\",\"google\",\"leetcode\"]\n",
    "\n",
    "### Example 2:\n",
    "\n",
    "Input: words1 = [\"amazon\",\"apple\",\"facebook\",\"google\",\"leetcode\"], words2 = [\"l\",\"e\"]\n",
    "\n",
    "Output: [\"apple\",\"google\",\"leetcode\"]\n",
    " \n",
    "\n",
    "## Constraints:\n",
    "\n",
    "- $1 <= words1.length, words2.length <= 10^4$\n",
    "- $1 <= words1[i].length, words2[i].length <= 10$\n",
    "- words1[i] and words2[i] consist only of lowercase English letters.\n",
    "- All the strings of words1 are unique."
   ]
  },
  {
   "cell_type": "markdown",
   "metadata": {},
   "source": [
    "## Solution"
   ]
  },
  {
   "cell_type": "code",
   "execution_count": 27,
   "metadata": {},
   "outputs": [
    {
     "name": "stdout",
     "output_type": "stream",
     "text": [
      "['facebook', 'google', 'leetcode']\n"
     ]
    }
   ],
   "source": [
    "def wordSubsets(words1,words2):\n",
    "    max_freq = {}\n",
    "    all = \" \".join(words2)\n",
    "    all = all.replace(\" \",\"\")\n",
    "    all =set(all)\n",
    "    for c in all:\n",
    "        max_freq[c]=0\n",
    "    for word in words2:\n",
    "        freq={}\n",
    "        for c in word:\n",
    "            if c not in freq.keys():\n",
    "                freq[c]=0\n",
    "            freq[c]+=1\n",
    "        for c in freq.keys():\n",
    "            if max_freq[c]<freq[c]:\n",
    "                max_freq[c]=freq[c]\n",
    "    output=[]\n",
    "    for word in words1:\n",
    "        freq=dict()\n",
    "        for c in word:\n",
    "            if c not in freq.keys():\n",
    "                freq[c]=0\n",
    "            freq[c]+=1\n",
    "        flag=True\n",
    "        for c in max_freq.keys():\n",
    "            if max_freq[c]>0:\n",
    "                if c not in freq.keys():\n",
    "                    flag=False\n",
    "                elif freq[c]<max_freq[c]:\n",
    "                    flag=False\n",
    "        if flag:\n",
    "            output.append(word)\n",
    "    return output\n",
    "\n",
    "print(wordSubsets([\"amazon\",\"apple\",\"facebook\",\"google\",\"leetcode\"],\n",
    "[\"e\",\"o\"]))"
   ]
  },
  {
   "cell_type": "code",
   "execution_count": 28,
   "metadata": {},
   "outputs": [
    {
     "name": "stdout",
     "output_type": "stream",
     "text": [
      "['apple', 'google', 'leetcode']\n"
     ]
    }
   ],
   "source": [
    "print(wordSubsets([\"amazon\",\"apple\",\"facebook\",\"google\",\"leetcode\"],\n",
    "[\"l\",\"e\"]))"
   ]
  },
  {
   "cell_type": "code",
   "execution_count": null,
   "metadata": {},
   "outputs": [],
   "source": []
  }
 ],
 "metadata": {
  "kernelspec": {
   "display_name": "base",
   "language": "python",
   "name": "python3"
  },
  "language_info": {
   "codemirror_mode": {
    "name": "ipython",
    "version": 3
   },
   "file_extension": ".py",
   "mimetype": "text/x-python",
   "name": "python",
   "nbconvert_exporter": "python",
   "pygments_lexer": "ipython3",
   "version": "3.12.2"
  }
 },
 "nbformat": 4,
 "nbformat_minor": 2
}
