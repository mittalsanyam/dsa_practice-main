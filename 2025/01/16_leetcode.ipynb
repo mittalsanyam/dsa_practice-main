{
 "cells": [
  {
   "cell_type": "markdown",
   "metadata": {},
   "source": [
    "# 2425. Bitwise XOR of All Pairings\n",
    "\n",
    "**Level: Medium**\n",
    "\n",
    "[Problem Link](https://leetcode.com/problems/bitwise-xor-of-all-pairings/description/)\n",
    "\n",
    "You are given two 0-indexed arrays, nums1 and nums2, consisting of non-negative integers. There exists another array, nums3, which contains the bitwise XOR of all pairings of integers between nums1 and nums2 (every integer in nums1 is paired with every integer in nums2 exactly once).\n",
    "\n",
    "Return the bitwise XOR of all integers in nums3.\n",
    "\n",
    "## Examples\n",
    "\n",
    "### Example 1\n",
    "Input: nums1 = [2,1,3], nums2 = [10,2,5,0]\n",
    "\n",
    "Output: 13\n",
    "\n",
    "Explanation:\n",
    "\n",
    "A possible nums3 array is [8,0,7,2,11,3,4,1,9,1,6,3].\n",
    "\n",
    "The bitwise XOR of all these numbers is 13, so we return 13.\n",
    "\n",
    "### Example 2\n",
    "\n",
    "Input: nums1 = [1,2], nums2 = [3,4]\n",
    "\n",
    "Output: 0\n",
    "\n",
    "Explanation:\n",
    "\n",
    "All possible pairs of bitwise XORs are `nums1[0] ^ nums2[0]`, `nums1[0] ^ nums2[1]`, `nums1[1] ^ nums2[0]`, and `nums1[1] ^ nums2[1]`.\n",
    "\n",
    "Thus, one possible nums3 array is [2,5,1,6].\n",
    "\n",
    "`2 ^ 5 ^ 1 ^ 6 = 0`, so we return `0`.\n",
    "\n",
    "## Constraints:\n",
    "\n",
    "- $1 <= nums1.length, nums2.length <= 10^5$\n",
    "- $0 <= nums1[i], nums2[j] <= 10^9$"
   ]
  },
  {
   "cell_type": "markdown",
   "metadata": {},
   "source": [
    "## Solution"
   ]
  },
  {
   "cell_type": "code",
   "execution_count": 6,
   "metadata": {},
   "outputs": [
    {
     "name": "stdout",
     "output_type": "stream",
     "text": [
      "13\n"
     ]
    }
   ],
   "source": [
    "def xorAllNums(nums1,nums2):\n",
    "    m,n=len(nums1),len(nums2)\n",
    "    freq={}\n",
    "    for i in range(m):\n",
    "        if nums1[i] not in freq.keys():\n",
    "            freq[nums1[i]]=0\n",
    "        freq[nums1[i]]+=n\n",
    "    for i in range(n):\n",
    "        if nums2[i] not in freq.keys():\n",
    "            freq[nums2[i]]=0\n",
    "        freq[nums2[i]]+=m\n",
    "    res=0\n",
    "    for i in freq.keys():\n",
    "        if freq[i]%2==1:\n",
    "            res=res^i\n",
    "    return res\n",
    "\n",
    "print(xorAllNums([2,1,3],[10,2,5,0]))"
   ]
  },
  {
   "cell_type": "code",
   "execution_count": 7,
   "metadata": {},
   "outputs": [
    {
     "name": "stdout",
     "output_type": "stream",
     "text": [
      "0\n"
     ]
    }
   ],
   "source": [
    "print(xorAllNums([1,2],[3,4]))"
   ]
  }
 ],
 "metadata": {
  "kernelspec": {
   "display_name": "base",
   "language": "python",
   "name": "python3"
  },
  "language_info": {
   "codemirror_mode": {
    "name": "ipython",
    "version": 3
   },
   "file_extension": ".py",
   "mimetype": "text/x-python",
   "name": "python",
   "nbconvert_exporter": "python",
   "pygments_lexer": "ipython3",
   "version": "3.12.2"
  }
 },
 "nbformat": 4,
 "nbformat_minor": 2
}
