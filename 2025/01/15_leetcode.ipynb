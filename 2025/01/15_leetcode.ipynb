{
 "cells": [
  {
   "cell_type": "markdown",
   "metadata": {},
   "source": [
    "# 2429. Minimize XOR\n",
    "**Level: Medium**\n",
    "\n",
    "[Problem Link](https://leetcode.com/problems/minimize-xor/description/)\n",
    "\n",
    "Given two positive integers num1 and num2, find the positive integer x such that:\n",
    "- x has the same number of set bits as num2, and\n",
    "- The value x XOR num1 is minimal.\n",
    "\n",
    "Note that XOR is the bitwise XOR operation.\n",
    "\n",
    "Return the integer x. The test cases are generated such that x is uniquely determined.\n",
    "\n",
    "The number of set bits of an integer is the number of 1's in its binary representation.\n",
    "\n",
    "## Examples \n",
    "\n",
    "### Example 1:\n",
    "\n",
    "Input: num1 = 3, num2 = 5\n",
    "\n",
    "Output: 3\n",
    "\n",
    "Explanation:\n",
    "The binary representations of num1 and num2 are 0011 and 0101, respectively.\n",
    "The integer 3 has the same number of set bits as num2, and the value 3 XOR 3 = 0 is minimal.\n",
    "\n",
    "### Example 2:\n",
    "\n",
    "Input: num1 = 1, num2 = 12\n",
    "\n",
    "Output: 3\n",
    "\n",
    "Explanation:\n",
    "The binary representations of num1 and num2 are 0001 and 1100, respectively.\n",
    "The integer 3 has the same number of set bits as num2, and the value 3 XOR 1 = 2 is minimal.\n",
    " \n",
    "\n",
    "## Constraints:\n",
    "\n",
    "- $1 <= num1, num2 <= 10^9$"
   ]
  },
  {
   "cell_type": "markdown",
   "metadata": {},
   "source": [
    "## Solution"
   ]
  },
  {
   "cell_type": "code",
   "execution_count": 64,
   "metadata": {},
   "outputs": [
    {
     "name": "stdout",
     "output_type": "stream",
     "text": [
      "5\n"
     ]
    }
   ],
   "source": [
    "def minimizeXor(num1,num2):\n",
    "    bin1 = format(num1,'b')\n",
    "    bin2 = format(num2,'b')\n",
    "    m,n=len(bin1),len(bin2)\n",
    "    if m>n:\n",
    "        for i in range(n,m):\n",
    "            bin2='0'+bin2\n",
    "    if m<n:\n",
    "        for i in range(m,n):\n",
    "            bin1='0'+bin1\n",
    "    c1 = bin1.count('1')\n",
    "    c2 = bin2.count('1')\n",
    "    if c1==c2:\n",
    "        return num1\n",
    "    elif c1<c2:\n",
    "        i,j=c1,len(bin1)-1\n",
    "        outstr=''\n",
    "        stack=[]\n",
    "        while i<c2:\n",
    "            stack.append('1')\n",
    "            if j>-1 and bin1[j]=='0':\n",
    "                i+=1\n",
    "            j=j-1\n",
    "        while j>-1:\n",
    "            stack.append(bin1[j])\n",
    "            j=j-1\n",
    "        while len(stack)>0:\n",
    "            outstr+=stack.pop()\n",
    "        return int(outstr,2)\n",
    "    else:\n",
    "        i,j=c1,len(bin1)-1\n",
    "        outstr=''\n",
    "        stack=[]\n",
    "        while i>c2:\n",
    "            stack.append('0')\n",
    "            if bin1[j]=='1':\n",
    "                i=i-1\n",
    "            j=j-1\n",
    "        while j>-1:\n",
    "            stack.append(bin1[j])\n",
    "            j=j-1\n",
    "        while len(stack)>0:\n",
    "            outstr+=stack.pop()\n",
    "        return int(outstr,2)\n",
    "\n",
    "print(minimizeXor(5,3))"
   ]
  },
  {
   "cell_type": "code",
   "execution_count": 65,
   "metadata": {},
   "outputs": [
    {
     "name": "stdout",
     "output_type": "stream",
     "text": [
      "80\n"
     ]
    }
   ],
   "source": [
    "print(minimizeXor(91,18))"
   ]
  },
  {
   "cell_type": "code",
   "execution_count": null,
   "metadata": {},
   "outputs": [],
   "source": []
  }
 ],
 "metadata": {
  "kernelspec": {
   "display_name": "base",
   "language": "python",
   "name": "python3"
  },
  "language_info": {
   "codemirror_mode": {
    "name": "ipython",
    "version": 3
   },
   "file_extension": ".py",
   "mimetype": "text/x-python",
   "name": "python",
   "nbconvert_exporter": "python",
   "pygments_lexer": "ipython3",
   "version": "3.12.2"
  }
 },
 "nbformat": 4,
 "nbformat_minor": 2
}
