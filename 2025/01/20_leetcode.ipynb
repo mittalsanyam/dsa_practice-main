{
 "cells": [
  {
   "cell_type": "markdown",
   "metadata": {},
   "source": [
    "# 2661. First Completely Painted Row or Column\n",
    "\n",
    "**Level: Medium**\n",
    "\n",
    "[Problem Link](https://leetcode.com/problems/first-completely-painted-row-or-column/description/)\n",
    "\n",
    "You are given a 0-indexed integer array arr, and an m x n integer matrix mat. arr and mat both contain all the integers in the range [1, m * n].\n",
    "\n",
    "Go through each index i in arr starting from index 0 and paint the cell in mat containing the integer arr[i].\n",
    "\n",
    "Return the smallest index i at which either a row or a column will be completely painted in mat.\n",
    "\n",
    "## Examples\n",
    "\n",
    "### Example 1\n",
    "Input: arr = [1,3,4,2], mat = [[1,4],[2,3]]\n",
    "\n",
    "Output: 2\n",
    "\n",
    "Explanation: The moves are shown in order, and both the first row and second column of the matrix become fully painted at arr[2].\n",
    "\n",
    "### Example 2\n",
    "\n",
    "Input: arr = [2,8,7,4,1,3,5,6,9], mat = [[3,2,5],[1,4,6],[8,7,9]]\n",
    "\n",
    "Output: 3\n",
    "\n",
    "Explanation: The second column becomes fully painted at arr[3].\n",
    "\n",
    "## Constraints\n",
    "\n",
    "- m == mat.length\n",
    "- n = mat[i].length\n",
    "- arr.length == m * n\n",
    "- $1 <= m, n <= 10^5$\n",
    "- $1 <= m * n <= 10^5$\n",
    "- 1 <= arr[i], mat[r][c] <= m * n\n",
    "- All the integers of arr are unique.\n",
    "- All the integers of mat are unique."
   ]
  },
  {
   "cell_type": "markdown",
   "metadata": {},
   "source": [
    "## Solution"
   ]
  },
  {
   "cell_type": "code",
   "execution_count": 14,
   "metadata": {},
   "outputs": [
    {
     "name": "stdout",
     "output_type": "stream",
     "text": [
      "2\n"
     ]
    }
   ],
   "source": [
    "def firstCompleteIndex(arr,mat):\n",
    "    m,n = len(mat),len(mat[0])\n",
    "    rows,cols = [],[]\n",
    "    pos = {}\n",
    "    for i in range(m):\n",
    "        rows.append(0)\n",
    "        for j in range(n):\n",
    "            if len(cols)<n:\n",
    "                cols.append(0)\n",
    "            pos[mat[i][j]]=(i,j)\n",
    "    for (idx,num) in enumerate(arr):\n",
    "        i,j = pos[num]\n",
    "        rows[i]+=1\n",
    "        cols[j]+=1\n",
    "        if rows[i]==n:\n",
    "            return idx\n",
    "        if cols[j]==m:\n",
    "            return idx\n",
    "\n",
    "print(firstCompleteIndex([1,3,4,2],[[1,4],[2,3]]))"
   ]
  },
  {
   "cell_type": "code",
   "execution_count": 15,
   "metadata": {},
   "outputs": [
    {
     "name": "stdout",
     "output_type": "stream",
     "text": [
      "3\n"
     ]
    }
   ],
   "source": [
    "print(firstCompleteIndex([2,8,7,4,1,3,5,6,9],[[3,2,5],[1,4,6],[8,7,9]]))"
   ]
  },
  {
   "cell_type": "code",
   "execution_count": 16,
   "metadata": {},
   "outputs": [
    {
     "name": "stdout",
     "output_type": "stream",
     "text": [
      "1\n"
     ]
    }
   ],
   "source": [
    "print(firstCompleteIndex([1,4,5,2,6,3],[[4,3,5],[1,2,6]]))"
   ]
  }
 ],
 "metadata": {
  "kernelspec": {
   "display_name": "base",
   "language": "python",
   "name": "python3"
  },
  "language_info": {
   "codemirror_mode": {
    "name": "ipython",
    "version": 3
   },
   "file_extension": ".py",
   "mimetype": "text/x-python",
   "name": "python",
   "nbconvert_exporter": "python",
   "pygments_lexer": "ipython3",
   "version": "3.12.2"
  }
 },
 "nbformat": 4,
 "nbformat_minor": 2
}
