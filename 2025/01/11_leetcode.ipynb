{
 "cells": [
  {
   "cell_type": "markdown",
   "metadata": {},
   "source": [
    "# 1400. Construct K Palindrome Strings\n",
    "\n",
    "**Level: Medium**\n",
    "\n",
    "[Problem Link](https://leetcode.com/problems/construct-k-palindrome-strings/description)\n",
    "\n",
    "Given a string s and an integer k, return true if you can use all the characters in s to construct k palindrome strings or false otherwise.\n",
    "\n",
    "## Example\n",
    "\n",
    "### Example 1:\n",
    "\n",
    "Input: s = \"annabelle\", k = 2\n",
    "\n",
    "Output: true\n",
    "\n",
    "Explanation: You can construct two palindromes using all characters in s.\n",
    "Some possible constructions \"anna\" + \"elble\", \"anbna\" + \"elle\", \"anellena\" + \"b\"\n",
    "\n",
    "### Example 2:\n",
    "\n",
    "Input: s = \"leetcode\", k = 3\n",
    "\n",
    "Output: false\n",
    "\n",
    "Explanation: It is impossible to construct 3 palindromes using all the characters of s.\n",
    "\n",
    "### Example 3:\n",
    "\n",
    "Input: s = \"true\", k = 4\n",
    "\n",
    "Output: true\n",
    "\n",
    "Explanation: The only possible solution is to put each character in a separate string.\n",
    " \n",
    "## Constraints:\n",
    "- $1 <= s.length <= 10^5$\n",
    "- s consists of lowercase English letters.\n",
    "- $1 <= k <= 10^5$"
   ]
  },
  {
   "cell_type": "markdown",
   "metadata": {},
   "source": [
    "## Solution"
   ]
  },
  {
   "cell_type": "code",
   "execution_count": 1,
   "metadata": {},
   "outputs": [],
   "source": [
    "def canConstruct(s, k):\n",
    "    if len(s)<k:\n",
    "        return False\n",
    "    freq={}\n",
    "    for i in s:\n",
    "        if i not in freq.keys():\n",
    "            freq[i]=0\n",
    "        freq[i]+=1\n",
    "    count_odd = 0\n",
    "    for i in freq.keys():\n",
    "        if freq[i]%2!=0:\n",
    "            count_odd+=1\n",
    "    if count_odd>k:\n",
    "        return False\n",
    "    else:\n",
    "        return True"
   ]
  },
  {
   "cell_type": "code",
   "execution_count": 2,
   "metadata": {},
   "outputs": [
    {
     "name": "stdout",
     "output_type": "stream",
     "text": [
      "True\n"
     ]
    }
   ],
   "source": [
    "print(canConstruct(\"annabelle\",2))"
   ]
  },
  {
   "cell_type": "code",
   "execution_count": 3,
   "metadata": {},
   "outputs": [
    {
     "name": "stdout",
     "output_type": "stream",
     "text": [
      "False\n"
     ]
    }
   ],
   "source": [
    "print(canConstruct(\"leetcode\",3))"
   ]
  },
  {
   "cell_type": "code",
   "execution_count": 4,
   "metadata": {},
   "outputs": [
    {
     "name": "stdout",
     "output_type": "stream",
     "text": [
      "True\n"
     ]
    }
   ],
   "source": [
    "print(canConstruct(\"true\",4))"
   ]
  }
 ],
 "metadata": {
  "kernelspec": {
   "display_name": "base",
   "language": "python",
   "name": "python3"
  },
  "language_info": {
   "codemirror_mode": {
    "name": "ipython",
    "version": 3
   },
   "file_extension": ".py",
   "mimetype": "text/x-python",
   "name": "python",
   "nbconvert_exporter": "python",
   "pygments_lexer": "ipython3",
   "version": "3.12.2"
  }
 },
 "nbformat": 4,
 "nbformat_minor": 2
}
