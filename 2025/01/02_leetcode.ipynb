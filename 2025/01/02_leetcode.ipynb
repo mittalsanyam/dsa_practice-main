{
 "cells": [
  {
   "cell_type": "markdown",
   "metadata": {},
   "source": [
    "# 2559. Count Vowel Strings in Ranges\n",
    "\n",
    "**Level: Medium**\n",
    "\n",
    "[Problem Link](https://leetcode.com/problems/count-vowel-strings-in-ranges/description/)\n",
    "\n",
    "You are given a 0-indexed array of strings `words` and a 2D array of integers `queries`.\n",
    "\n",
    "Each query `queries[i] = [li, ri]` asks us to find the number of strings present in the range li to ri (both inclusive) of `words` that start and end with a vowel.\n",
    "\n",
    "Return an array `ans` of size queries.length, where `ans[i]` is the answer to the $i^{th}$ query.\n",
    "\n",
    "Note that the vowel letters are 'a', 'e', 'i', 'o', and 'u'.\n",
    "\n",
    "## Examples\n",
    "\n",
    "###  Example 1:\n",
    "\n",
    "Input: words = [\"aba\",\"bcb\",\"ece\",\"aa\",\"e\"], queries = [[0,2],[1,4],[1,1]]\n",
    "\n",
    "Output: [2,3,0]\n",
    "\n",
    "Explanation: The strings starting and ending with a vowel are \"aba\", \"ece\", \"aa\" and \"e\".\n",
    "\n",
    "The answer to the query [0,2] is 2 (strings \"aba\" and \"ece\").\n",
    "\n",
    "The answer to query [1,4] is 3 (strings \"ece\", \"aa\", \"e\").\n",
    "\n",
    "The answer to query [1,1] is 0.\n",
    "\n",
    "We return [2,3,0].\n",
    "\n",
    "### Example 2\n",
    "\n",
    "Input: words = [\"a\",\"e\",\"i\"], queries = [[0,2],[0,1],[2,2]]\n",
    "\n",
    "Output: [3,2,1]\n",
    "\n",
    "Explanation: Every string satisfies the conditions, so we return [3,2,1].\n",
    "\n",
    "## Constraints:\n",
    "\n",
    "- $1 <= words.length <= 10^5$\n",
    "- $1 <= words[i].length <= 40$\n",
    "- words[i] consists only of lowercase English letters.\n",
    "- $sum(words[i].length) <= 3 * 10^5$\n",
    "- $1 <= queries.length <= 10^5$\n",
    "- $0 <= li <= ri < words.length$ "
   ]
  },
  {
   "cell_type": "markdown",
   "metadata": {},
   "source": [
    "## Solution"
   ]
  },
  {
   "cell_type": "code",
   "execution_count": 2,
   "metadata": {},
   "outputs": [
    {
     "name": "stdout",
     "output_type": "stream",
     "text": [
      "[2, 3, 0]\n"
     ]
    }
   ],
   "source": [
    "def vowelStrings(words,queries):\n",
    "    prefix_sum={}\n",
    "    n,m=len(words),len(queries)\n",
    "    vowels={'a','e','i','o','u'}\n",
    "    for i in range(n):\n",
    "        if i not in prefix_sum.keys():\n",
    "            prefix_sum[i]=0\n",
    "        if words[i][0] in vowels and words[i][-1] in vowels:\n",
    "            if i==0:\n",
    "                prefix_sum[i]=1\n",
    "            else:\n",
    "                prefix_sum[i]=prefix_sum[i-1]+1\n",
    "        else:\n",
    "            if i!=0:\n",
    "                prefix_sum[i]=prefix_sum[i-1]\n",
    "    ans = [0]*m\n",
    "    for i in range(m):\n",
    "        l=queries[i][0]\n",
    "        r=queries[i][1]\n",
    "        if l!=0:\n",
    "            ans[i]=prefix_sum[r]-prefix_sum[l-1]\n",
    "        else:\n",
    "            ans[i]=prefix_sum[r]\n",
    "    return ans\n",
    "\n",
    "words1=[\"aba\",\"bcb\",\"ece\",\"aa\",\"e\"]\n",
    "queries1=[[0,2],[1,4],[1,1]]\n",
    "print(vowelStrings(words1,queries1))"
   ]
  },
  {
   "cell_type": "code",
   "execution_count": 3,
   "metadata": {},
   "outputs": [
    {
     "name": "stdout",
     "output_type": "stream",
     "text": [
      "[3, 2, 1]\n"
     ]
    }
   ],
   "source": [
    "words2=[\"a\",\"e\",\"i\"]\n",
    "queries2=[[0,2],[0,1],[2,2]]\n",
    "print(vowelStrings(words2,queries2))"
   ]
  }
 ],
 "metadata": {
  "kernelspec": {
   "display_name": "base",
   "language": "python",
   "name": "python3"
  },
  "language_info": {
   "codemirror_mode": {
    "name": "ipython",
    "version": 3
   },
   "file_extension": ".py",
   "mimetype": "text/x-python",
   "name": "python",
   "nbconvert_exporter": "python",
   "pygments_lexer": "ipython3",
   "version": "3.12.2"
  }
 },
 "nbformat": 4,
 "nbformat_minor": 2
}
