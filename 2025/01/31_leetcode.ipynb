{
 "cells": [
  {
   "cell_type": "markdown",
   "metadata": {},
   "source": [
    "# 827. Making A Large Island\n",
    "**Level: Hard**\n",
    "\n",
    "[Problem Statement](https://leetcode.com/problems/making-a-large-island/description/)\n",
    "\n",
    "You are given an n x n binary matrix grid. You are allowed to change at most one 0 to be 1.\n",
    "\n",
    "Return the size of the largest island in grid after applying this operation.\n",
    "\n",
    "An island is a 4-directionally connected group of 1s.\n",
    "\n",
    "## Examples\n",
    "### Example 1:\n",
    "Input: grid = [[1,0],[0,1]]\n",
    "\n",
    "Output: 3\n",
    "\n",
    "Explanation: Change one 0 to 1 and connect two 1s, then we get an island with area = 3\n",
    "\n",
    "### Example 2:\n",
    "Input: grid = [[1,1],[1,0]]\n",
    "\n",
    "Output: 4\n",
    "\n",
    "Explanation: Change the 0 to 1 and make the island bigger, only one island with area = 4.\n",
    "\n",
    "### Example 3:\n",
    "\n",
    "Input: grid = [[1,1],[1,1]]\n",
    "\n",
    "Output: 4\n",
    "\n",
    "Explanation: Can't change any 0 to 1, only one island with area = 4.\n",
    "\n",
    "### Constraints:\n",
    "- n == grid.length\n",
    "- n == grid[i].length\n",
    "- 1 <= n <= 500\n",
    "- grid[i][j] is either 0 or 1."
   ]
  },
  {
   "cell_type": "markdown",
   "metadata": {},
   "source": [
    "## Solution"
   ]
  },
  {
   "cell_type": "code",
   "execution_count": 141,
   "metadata": {},
   "outputs": [],
   "source": [
    "def largestIsland(grid):\n",
    "    n = len(grid)\n",
    "    component={}\n",
    "    members={}\n",
    "    curr_component=-1\n",
    "    stack=[]\n",
    "    dirs = [(1,0),(-1,0),(0,1),(0,-1)]\n",
    "    for i in range(n):\n",
    "        for j in range(n):\n",
    "            if grid[i][j]==1:\n",
    "                if (i,j) not in component.keys():\n",
    "                    curr_component+=1\n",
    "                    members[curr_component]=[]\n",
    "                    stack.append((i,j))\n",
    "                while stack:\n",
    "                    x,y = stack.pop()\n",
    "                    if (x,y) not in component.keys():\n",
    "                        members[curr_component].append((x,y))\n",
    "                    component[(x,y)]=curr_component\n",
    "                    for (dx,dy) in dirs:\n",
    "                        u,v=x+dx,y+dy\n",
    "                        if 0<=u<n  and 0<=v<n and (u,v) not in component.keys() and grid[u][v]==1:\n",
    "                            stack.append((u,v))\n",
    "    islandSizes={}\n",
    "    maxlength=1\n",
    "    for key in members.keys():\n",
    "        islandSizes[key]=len(members[key])\n",
    "        if islandSizes[key]>maxlength:\n",
    "            maxlength=islandSizes[key]\n",
    "    for i in range(len(grid)):\n",
    "        for j in range(len(grid[0])):\n",
    "            if grid[i][j]==0:\n",
    "                neighbouring_islands=set()\n",
    "                if i+1<n and grid[i+1][j]==1:\n",
    "                    neighbouring_islands.add(component[(i+1,j)])\n",
    "                if i-1>=0 and grid[i-1][j]==1:\n",
    "                    neighbouring_islands.add(component[(i-1,j)])\n",
    "                if j-1>=0 and grid[i][j-1]==1:\n",
    "                    neighbouring_islands.add(component[(i,j-1)])\n",
    "                if j+1<n and grid[i][j+1]==1:\n",
    "                    neighbouring_islands.add(component[(i,j+1)])\n",
    "                length=1\n",
    "                for k in neighbouring_islands:\n",
    "                    length+=islandSizes[k]\n",
    "                if maxlength<length:\n",
    "                    maxlength=length\n",
    "    return maxlength"
   ]
  },
  {
   "cell_type": "code",
   "execution_count": 142,
   "metadata": {},
   "outputs": [
    {
     "name": "stdout",
     "output_type": "stream",
     "text": [
      "3\n"
     ]
    }
   ],
   "source": [
    "print(largestIsland([[1,0],[0,1]]))"
   ]
  },
  {
   "cell_type": "code",
   "execution_count": 143,
   "metadata": {},
   "outputs": [
    {
     "name": "stdout",
     "output_type": "stream",
     "text": [
      "4\n"
     ]
    }
   ],
   "source": [
    "print(largestIsland([[1,1],[0,1]]))"
   ]
  },
  {
   "cell_type": "code",
   "execution_count": 144,
   "metadata": {},
   "outputs": [
    {
     "name": "stdout",
     "output_type": "stream",
     "text": [
      "4\n"
     ]
    }
   ],
   "source": [
    "print(largestIsland([[1,1],[1,1]]))"
   ]
  },
  {
   "cell_type": "code",
   "execution_count": 145,
   "metadata": {},
   "outputs": [],
   "source": [
    "grid = [[0,0,0,0,0,0,0],\n",
    "        [0,1,1,1,1,0,0],\n",
    "        [0,1,0,0,1,0,0],\n",
    "        [1,0,1,0,1,0,0],\n",
    "        [0,1,0,0,1,0,0],\n",
    "        [0,1,0,0,1,0,0],\n",
    "        [0,1,1,1,1,0,0]]"
   ]
  },
  {
   "cell_type": "code",
   "execution_count": 146,
   "metadata": {},
   "outputs": [
    {
     "name": "stdout",
     "output_type": "stream",
     "text": [
      "18\n"
     ]
    }
   ],
   "source": [
    "print(largestIsland(grid))"
   ]
  },
  {
   "cell_type": "code",
   "execution_count": 147,
   "metadata": {},
   "outputs": [
    {
     "name": "stdout",
     "output_type": "stream",
     "text": [
      "13\n"
     ]
    }
   ],
   "source": [
    "grid = [[0,1,1,1,1,0],\n",
    "        [0,1,1,1,1,1],\n",
    "        [0,0,0,0,0,1],\n",
    "        [1,0,0,1,0,0],\n",
    "        [1,0,0,1,0,1],\n",
    "        [0,1,1,0,1,0]]\n",
    "\n",
    "print(largestIsland(grid))"
   ]
  }
 ],
 "metadata": {
  "kernelspec": {
   "display_name": "base",
   "language": "python",
   "name": "python3"
  },
  "language_info": {
   "codemirror_mode": {
    "name": "ipython",
    "version": 3
   },
   "file_extension": ".py",
   "mimetype": "text/x-python",
   "name": "python",
   "nbconvert_exporter": "python",
   "pygments_lexer": "ipython3",
   "version": "3.12.2"
  }
 },
 "nbformat": 4,
 "nbformat_minor": 2
}
