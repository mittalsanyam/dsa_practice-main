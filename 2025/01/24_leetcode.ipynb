{
 "cells": [
  {
   "cell_type": "markdown",
   "metadata": {},
   "source": [
    "# 802. Find Eventual Safe States\n",
    "**Level: Medium**\n",
    "\n",
    "[Problem Statement](https://leetcode.com/problems/find-eventual-safe-states/description/)\n",
    "\n",
    "There is a directed graph of n nodes with each node labeled from 0 to n - 1. The graph is represented by a 0-indexed 2D integer array graph where graph[i] is an integer array of nodes adjacent to node i, meaning there is an edge from node i to each node in graph[i].\n",
    "\n",
    "A node is a terminal node if there are no outgoing edges. A node is a safe node if every possible path starting from that node leads to a terminal node (or another safe node).\n",
    "\n",
    "Return an array containing all the safe nodes of the graph. The answer should be sorted in ascending order.\n",
    "\n",
    "## Examples\n",
    "### Example 1\n",
    "Input: graph = [[1,2],[2,3],[5],[0],[5],[],[]]\n",
    "\n",
    "Output: [2,4,5,6]\n",
    "\n",
    "Explanation: The given graph is shown above.\n",
    "\n",
    "Nodes 5 and 6 are terminal nodes as there are no outgoing edges from either of them.\n",
    "\n",
    "Every path starting at nodes 2, 4, 5, and 6 all lead to either node 5 or 6.\n",
    "\n",
    "### Example 2\n",
    "Input: graph = [[1,2,3,4],[1,2],[3,4],[0,4],[]]\n",
    "\n",
    "Output: [4]\n",
    "\n",
    "Explanation:\n",
    "\n",
    "Only node 4 is a terminal node, and every path starting at node 4 leads to node 4.\n",
    "\n",
    "## Constraints\n",
    "\n",
    "- n == graph.length\n",
    "- $1 <= n <= 10^4$\n",
    "- $0 <= graph[i].length <= n$\n",
    "- $0 <= graph[i][j] <= n - 1$\n",
    "- graph[i] is sorted in a strictly increasing order.\n",
    "- The graph may contain self-loops.\n",
    "- The number of edges in the graph will be in the range $[1, 4 * 10^4]$."
   ]
  },
  {
   "cell_type": "markdown",
   "metadata": {},
   "source": [
    "## Solution"
   ]
  },
  {
   "cell_type": "code",
   "execution_count": 17,
   "metadata": {},
   "outputs": [],
   "source": [
    "from collections import deque\n",
    "def eventualSafeNode(graph):\n",
    "    n = len(graph)\n",
    "    outdegree=[len(graph[i]) for i in range(n)]\n",
    "    invGraph = [[] for i in range(n)]\n",
    "    for i in range(n):\n",
    "        for j in graph[i]:\n",
    "            invGraph[j].append(i)\n",
    "    zeroq = deque()\n",
    "    for i in range(n):\n",
    "        if outdegree[i]==0:\n",
    "            zeroq.append(i)\n",
    "    while zeroq:\n",
    "        node = zeroq.popleft()\n",
    "        for i in invGraph[node]:\n",
    "            outdegree[i]-=1\n",
    "            if outdegree[i]==0:\n",
    "                zeroq.append(i)\n",
    "    safenodes = [i for i in range(n) if outdegree[i]==0]\n",
    "    return safenodes"
   ]
  },
  {
   "cell_type": "code",
   "execution_count": 18,
   "metadata": {},
   "outputs": [
    {
     "name": "stdout",
     "output_type": "stream",
     "text": [
      "[2, 4, 5, 6]\n"
     ]
    }
   ],
   "source": [
    "print(eventualSafeNode([[1,2],[2,3],[5],[0],[5],[],[]]))"
   ]
  },
  {
   "cell_type": "code",
   "execution_count": 19,
   "metadata": {},
   "outputs": [
    {
     "name": "stdout",
     "output_type": "stream",
     "text": [
      "[4]\n"
     ]
    }
   ],
   "source": [
    "print(eventualSafeNode([[1,2,3,4],[1,2],[3,4],[0,4],[]]))"
   ]
  }
 ],
 "metadata": {
  "kernelspec": {
   "display_name": "base",
   "language": "python",
   "name": "python3"
  },
  "language_info": {
   "codemirror_mode": {
    "name": "ipython",
    "version": 3
   },
   "file_extension": ".py",
   "mimetype": "text/x-python",
   "name": "python",
   "nbconvert_exporter": "python",
   "pygments_lexer": "ipython3",
   "version": "3.12.2"
  }
 },
 "nbformat": 4,
 "nbformat_minor": 2
}
