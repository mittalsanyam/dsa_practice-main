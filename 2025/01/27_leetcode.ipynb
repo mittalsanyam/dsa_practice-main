{
 "cells": [
  {
   "cell_type": "markdown",
   "metadata": {},
   "source": [
    "# 1462. Course Schedule IV\n",
    "**Level: Medium**\n",
    "\n",
    "[Problem Link](https://leetcode.com/problems/course-schedule-iv/description/)\n",
    "\n",
    "There are a total of numCourses courses you have to take, labeled from 0 to numCourses - 1. You are given an array prerequisites where prerequisites[i] = $[a_i, b_i]$ indicates that you must take course ai first if you want to take course bi.\n",
    "\n",
    "For example, the pair [0, 1] indicates that you have to take course 0 before you can take course 1.\n",
    "Prerequisites can also be indirect. If course a is a prerequisite of course b, and course b is a prerequisite of course c, then course a is a prerequisite of course c.\n",
    "\n",
    "You are also given an array queries where queries[j] = $[u_j, v_j]$. For the $j^{th}$ query, you should answer whether course $u_j$ is a prerequisite of course $v_j$ or not.\n",
    "\n",
    "Return a boolean array answer, where answer[j] is the answer to the $j^{th}$ query.\n",
    "\n",
    "## Examples\n",
    "\n",
    "### Example 1\n",
    "Input: numCourses = 2, prerequisites = [[1,0]], queries = [[0,1],[1,0]]\n",
    "\n",
    "Output: [false,true]\n",
    "\n",
    "Explanation: The pair [1, 0] indicates that you have to take course 1 before you can take course 0.\n",
    "\n",
    "Course 0 is not a prerequisite of course 1, but the opposite is true.\n",
    "\n",
    "### Example 2\n",
    "Input: numCourses = 2, prerequisites = [], queries = [[1,0],[0,1]]\n",
    "\n",
    "Output: [false,false]\n",
    "\n",
    "Explanation: There are no prerequisites, and each course is independent.\n",
    "\n",
    "### Example 3\n",
    "Input: numCourses = 3, prerequisites = [[1,2],[1,0],[2,0]], queries = [[1,0],[1,2]]\n",
    "\n",
    "Output: [true,true]\n",
    "\n",
    "## Constraints:\n",
    "- 2 <= numCourses <= 100\n",
    "- 0 <= prerequisites.length <= (numCourses * (numCourses - 1) / 2)\n",
    "- prerequisites[i].length == 2\n",
    "- $0 <= a_i, b_i <= numCourses - 1$\n",
    "- $a_i != b_i$\n",
    "- All the pairs [ai, bi] are unique.\n",
    "- The prerequisites graph has no cycles.\n",
    "- $1 <= queries.length <= 10^4$\n",
    "- $0 <= u_i, v_i <= numCourses - 1$\n",
    "- $ u_i != v_i$"
   ]
  },
  {
   "cell_type": "markdown",
   "metadata": {},
   "source": [
    "## Solution"
   ]
  },
  {
   "cell_type": "code",
   "execution_count": 6,
   "metadata": {},
   "outputs": [
    {
     "name": "stdout",
     "output_type": "stream",
     "text": [
      "[True, True]\n"
     ]
    }
   ],
   "source": [
    "from collections import deque\n",
    "def checkIFPrerequisite(numCourses,prerequisites,queries):\n",
    "    graph,indegree,ancestors={},{},{}\n",
    "    for i in range(numCourses):\n",
    "        graph[i],indegree[i],ancestors[i]=[],0,set()\n",
    "    for (a,b) in prerequisites:\n",
    "        graph[a].append(b)\n",
    "        indegree[b]+=1\n",
    "    zerodegreequeue = deque()\n",
    "    for key in indegree.keys():\n",
    "        if indegree[key]==0:\n",
    "            zerodegreequeue.append(key)\n",
    "    while zerodegreequeue:\n",
    "        u= zerodegreequeue.pop()\n",
    "        for v in graph[u]:\n",
    "            indegree[v]-=1\n",
    "            ancestors[v].add(u)\n",
    "            for p in ancestors[u]:\n",
    "                ancestors[v].add(p)\n",
    "            if indegree[v]==0:\n",
    "                zerodegreequeue.append(v)\n",
    "    res=[]\n",
    "    for (u,v) in queries:\n",
    "        if u in ancestors[v]:\n",
    "            res.append(True)\n",
    "        else:\n",
    "            res.append(False)\n",
    "    return res\n",
    "\n",
    "print(checkIFPrerequisite(3,[[1,2],[1,0],[2,0]],\n",
    "[[1,0],[1,2]]))"
   ]
  },
  {
   "cell_type": "code",
   "execution_count": 7,
   "metadata": {},
   "outputs": [
    {
     "name": "stdout",
     "output_type": "stream",
     "text": [
      "[False, True]\n"
     ]
    }
   ],
   "source": [
    "print(checkIFPrerequisite(2,[[1,0]],\n",
    "                          [[0,1],[1,0]]))"
   ]
  }
 ],
 "metadata": {
  "kernelspec": {
   "display_name": "base",
   "language": "python",
   "name": "python3"
  },
  "language_info": {
   "codemirror_mode": {
    "name": "ipython",
    "version": 3
   },
   "file_extension": ".py",
   "mimetype": "text/x-python",
   "name": "python",
   "nbconvert_exporter": "python",
   "pygments_lexer": "ipython3",
   "version": "3.12.2"
  }
 },
 "nbformat": 4,
 "nbformat_minor": 2
}
