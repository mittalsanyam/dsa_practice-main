{
 "cells": [
  {
   "cell_type": "markdown",
   "metadata": {},
   "source": [
    "# 2657. Find the Prefix Common Array of Two Arrays\n",
    "\n",
    "**Level:Medium**\n",
    "\n",
    "[Problem Link](https://leetcode.com/problems/find-the-prefix-common-array-of-two-arrays/description/)\n",
    "\n",
    "You are given two 0-indexed integer permutations A and B of length n.\n",
    "\n",
    "A prefix common array of A and B is an array C such that C[i] is equal to the count of numbers that are present at or before the index i in both A and B.\n",
    "\n",
    "Return the prefix common array of A and B.\n",
    "\n",
    "A sequence of n integers is called a permutation if it contains all integers from 1 to n exactly once.\n",
    "\n",
    "## Examples\n",
    "\n",
    "### Example 1:\n",
    "\n",
    "Input: A = [1,3,2,4], B = [3,1,2,4]\n",
    "\n",
    "Output: [0,2,3,4]\n",
    "\n",
    "Explanation: At i = 0: no number is common, so C[0] = 0.\n",
    "\n",
    "At i = 1: 1 and 3 are common in A and B, so C[1] = 2.\n",
    "\n",
    "At i = 2: 1, 2, and 3 are common in A and B, so C[2] = 3.\n",
    "\n",
    "At i = 3: 1, 2, 3, and 4 are common in A and B, so C[3] = 4.\n",
    "\n",
    "Example 2:\n",
    "\n",
    "Input: A = [2,3,1], B = [3,1,2]\n",
    "\n",
    "Output: [0,1,3]\n",
    "\n",
    "Explanation: At i = 0: no number is common, so C[0] = 0.\n",
    "\n",
    "At i = 1: only 3 is common in A and B, so C[1] = 1.\n",
    "\n",
    "At i = 2: 1, 2, and 3 are common in A and B, so C[2] = 3.\n",
    " \n",
    "\n",
    "## Constraints:\n",
    "\n",
    "- 1 <= A.length == B.length == n <= 50\n",
    "\n",
    "- 1 <= A[i], B[i] <= n\n",
    "\n",
    "- It is guaranteed that A and B are both a permutation of n integers."
   ]
  },
  {
   "cell_type": "markdown",
   "metadata": {},
   "source": [
    "## Solution"
   ]
  },
  {
   "cell_type": "code",
   "execution_count": 1,
   "metadata": {},
   "outputs": [
    {
     "name": "stdout",
     "output_type": "stream",
     "text": [
      "[0, 2, 3, 4]\n"
     ]
    }
   ],
   "source": [
    "def findThePrefixCommonArray(A,B):\n",
    "    seen = {}\n",
    "    n=len(A)\n",
    "    for i in range(1,n+1):\n",
    "        seen[i]=False\n",
    "    count=0\n",
    "    output=[]\n",
    "    for i in range(n):\n",
    "        if seen[A[i]]==True:\n",
    "            count+=1\n",
    "        else:\n",
    "            seen[A[i]]=True\n",
    "        if seen[B[i]]==True:\n",
    "            count+=1\n",
    "        else:\n",
    "            seen[B[i]]=True\n",
    "        output.append(count)\n",
    "    return output\n",
    "\n",
    "print(findThePrefixCommonArray([1,3,2,4],[3,1,2,4]))"
   ]
  },
  {
   "cell_type": "code",
   "execution_count": 2,
   "metadata": {},
   "outputs": [
    {
     "name": "stdout",
     "output_type": "stream",
     "text": [
      "[0, 1, 3]\n"
     ]
    }
   ],
   "source": [
    "print(findThePrefixCommonArray([2,3,1],[3,1,2]))"
   ]
  }
 ],
 "metadata": {
  "kernelspec": {
   "display_name": "base",
   "language": "python",
   "name": "python3"
  },
  "language_info": {
   "codemirror_mode": {
    "name": "ipython",
    "version": 3
   },
   "file_extension": ".py",
   "mimetype": "text/x-python",
   "name": "python",
   "nbconvert_exporter": "python",
   "pygments_lexer": "ipython3",
   "version": "3.12.2"
  }
 },
 "nbformat": 4,
 "nbformat_minor": 2
}
