{
 "cells": [
  {
   "cell_type": "markdown",
   "metadata": {},
   "source": [
    "# Make Lexicographically Smallest Array by Swapping Elements\n",
    "**Level: Medium**\n",
    "\n",
    "[Problem Link](https://leetcode.com/problems/make-lexicographically-smallest-array-by-swapping-elements/description/)\n",
    "\n",
    "You are given a 0-indexed array of positive integers nums and a positive integer limit.\n",
    "\n",
    "In one operation, you can choose any two indices i and j and swap nums[i] and nums[j] if $|nums[i] - nums[j]| <= limit$.\n",
    "\n",
    "Return the lexicographically smallest array that can be obtained by performing the operation any number of times.\n",
    "\n",
    "An array a is lexicographically smaller than an array b if in the first position where a and b differ, array a has an element that is less than the corresponding element in b. For example, the array [2,10,3] is lexicographically smaller than the array [10,2,3] because they differ at index 0 and 2 < 10.\n",
    "\n",
    "## Examples\n",
    "### Example 1:\n",
    "Input: nums = [1,5,3,9,8], limit = 2\n",
    "\n",
    "Output: [1,3,5,8,9]\n",
    "\n",
    "Explanation: Apply the operation 2 times:\n",
    "- Swap nums[1] with nums[2]. The array becomes [1,3,5,9,8]\n",
    "- Swap nums[3] with nums[4]. The array becomes [1,3,5,8,9]\n",
    "\n",
    "We cannot obtain a lexicographically smaller array by applying any more operations.\n",
    "\n",
    "Note that it may be possible to get the same result by doing different operations.\n",
    "\n",
    "### Example 2:\n",
    "\n",
    "Input: nums = [1,7,6,18,2,1], limit = 3\n",
    "\n",
    "Output: [1,6,7,18,1,2]\n",
    "\n",
    "Explanation: Apply the operation 3 times:\n",
    "- Swap nums[1] with nums[2]. The array becomes [1,6,7,18,2,1]\n",
    "- Swap nums[0] with nums[4]. The array becomes [2,6,7,18,1,1]\n",
    "- Swap nums[0] with nums[5]. The array becomes [1,6,7,18,1,2]\n",
    "\n",
    "We cannot obtain a lexicographically smaller array by applying any more operations.\n",
    "\n",
    "### Example 3:\n",
    "Input: nums = [1,7,28,19,10], limit = 3\n",
    "\n",
    "Output: [1,7,28,19,10]\n",
    "\n",
    "Explanation: [1,7,28,19,10] is the lexicographically smallest array we can obtain because we cannot apply the operation on any two indices.\n",
    "\n",
    "## Constraints\n",
    "- $1 <= nums.length <= 10^5$\n",
    "- $1 <= nums[i] <= 10^9$\n",
    "- $1 <= limit <= 10^9$\n"
   ]
  },
  {
   "cell_type": "markdown",
   "metadata": {},
   "source": [
    "## Solution"
   ]
  },
  {
   "cell_type": "code",
   "execution_count": 1,
   "metadata": {},
   "outputs": [
    {
     "name": "stdout",
     "output_type": "stream",
     "text": [
      "[1, 3, 5, 8, 9]\n"
     ]
    }
   ],
   "source": [
    "from collections import deque\n",
    "def lexicographicallySmallestArray(nums,limit):\n",
    "    nums_sorted = sorted(nums)\n",
    "    n=len(nums)\n",
    "    curr_group=0\n",
    "    num_group={}\n",
    "    num_group[nums_sorted[0]]=curr_group\n",
    "    group_to_list={}\n",
    "    group_to_list[curr_group]=deque()\n",
    "    group_to_list[curr_group].append(nums_sorted[0])\n",
    "    for i in range(1,n):\n",
    "        if nums_sorted[i]-nums_sorted[i-1]<=limit:\n",
    "            group_to_list[curr_group].append(nums_sorted[i])\n",
    "        else:\n",
    "            curr_group+=1\n",
    "            group_to_list[curr_group]=deque()\n",
    "            group_to_list[curr_group].append(nums_sorted[i])\n",
    "        num_group[nums_sorted[i]]=curr_group\n",
    "    for i in range(n):\n",
    "        nums[i] = group_to_list[num_group[nums[i]]].popleft()\n",
    "    return nums\n",
    "\n",
    "        \n",
    "print(lexicographicallySmallestArray([1,5,3,9,8],2))"
   ]
  },
  {
   "cell_type": "code",
   "execution_count": 2,
   "metadata": {},
   "outputs": [
    {
     "name": "stdout",
     "output_type": "stream",
     "text": [
      "[1, 6, 7, 18, 1, 2]\n"
     ]
    }
   ],
   "source": [
    "print(lexicographicallySmallestArray([1,7,6,18,2,1],3))"
   ]
  },
  {
   "cell_type": "code",
   "execution_count": 3,
   "metadata": {},
   "outputs": [
    {
     "name": "stdout",
     "output_type": "stream",
     "text": [
      "[1, 7, 28, 19, 10]\n"
     ]
    }
   ],
   "source": [
    "print(lexicographicallySmallestArray([1,7,28,19,10],3))"
   ]
  }
 ],
 "metadata": {
  "kernelspec": {
   "display_name": "base",
   "language": "python",
   "name": "python3"
  },
  "language_info": {
   "codemirror_mode": {
    "name": "ipython",
    "version": 3
   },
   "file_extension": ".py",
   "mimetype": "text/x-python",
   "name": "python",
   "nbconvert_exporter": "python",
   "pygments_lexer": "ipython3",
   "version": "3.12.2"
  }
 },
 "nbformat": 4,
 "nbformat_minor": 2
}
