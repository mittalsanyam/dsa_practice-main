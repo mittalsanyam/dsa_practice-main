{
 "cells": [
  {
   "cell_type": "markdown",
   "metadata": {},
   "source": [
    "# 2381. Shifting Letters II\n",
    "**Level: Medium**\n",
    "\n",
    "[Problem Link](https://leetcode.com/problems/shifting-letters-ii/description/)\n",
    "\n",
    "You are given a string s of lowercase English letters and a 2D integer array shifts where shifts[i] = [starti, endi, directioni]. For every i, shift the characters in s from the index starti to the index endi (inclusive) forward if directioni = 1, or shift the characters backward if directioni = 0.\n",
    "\n",
    "Shifting a character forward means replacing it with the next letter in the alphabet (wrapping around so that 'z' becomes 'a'). Similarly, shifting a character backward means replacing it with the previous letter in the alphabet (wrapping around so that 'a' becomes 'z').\n",
    "\n",
    "Return the final string after all such shifts to s are applied.\n",
    "\n",
    "## Examples:\n",
    "\n",
    "### Example 1:\n",
    "\n",
    "Input: s = \"abc\", shifts = [[0,1,0],[1,2,1],[0,2,1]]\n",
    "\n",
    "Output: \"ace\"\n",
    "\n",
    "Explanation: Firstly, shift the characters from index 0 to index 1 backward. Now s = \"zac\".\n",
    "Secondly, shift the characters from index 1 to index 2 forward. Now s = \"zbd\".\n",
    "\n",
    "Finally, shift the characters from index 0 to index 2 forward. Now s = \"ace\".\n",
    "\n",
    "### Example 2:\n",
    "\n",
    "Input: s = \"dztz\", shifts = [[0,0,0],[1,1,1]]\n",
    "\n",
    "Output: \"catz\"\n",
    "\n",
    "Explanation: Firstly, shift the characters from index 0 to index 0 backward. Now s = \"cztz\".\n",
    "\n",
    "Finally, shift the characters from index 1 to index 1 forward. Now s = \"catz\".\n",
    "\n",
    "## Constraints:\n",
    "\n",
    "- $1 <= s.length, shifts.length <= 5 * 10^4$\n",
    "- $shifts[i].length == 3$\n",
    "- $0 <= start_i <= end_i < s.length$\n",
    "- $0 <= direction_i <= 1$\n",
    "- s consists of lowercase English letters."
   ]
  },
  {
   "cell_type": "markdown",
   "metadata": {},
   "source": [
    "## Solution"
   ]
  },
  {
   "cell_type": "code",
   "execution_count": 74,
   "metadata": {},
   "outputs": [
    {
     "name": "stdout",
     "output_type": "stream",
     "text": [
      "ace\n"
     ]
    }
   ],
   "source": [
    "def shiftingLetters(s,shifts):\n",
    "    n=len(s)\n",
    "    diff=[0]*n\n",
    "    for shift in shifts:\n",
    "        if shift[2]==1:\n",
    "            diff[shift[0]]+=1\n",
    "            if shift[1]+1<n:\n",
    "                diff[shift[1]+1]-=1\n",
    "        else:\n",
    "            diff[shift[0]]-=1\n",
    "            if shift[1]+1<n:\n",
    "                diff[shift[1]+1]+=1\n",
    "    \n",
    "    res=\"\"\n",
    "    numShift=0\n",
    "    for i in range(n):\n",
    "        numShift+=diff[i]\n",
    "        newchar = ord('a')+(ord(s[i])-ord('a')+numShift)%26\n",
    "        res+=chr(newchar) \n",
    "    return res\n",
    "\n",
    "print(shiftingLetters(\"abc\",[[0,1,0],[1,2,1],[0,2,1]]))"
   ]
  },
  {
   "cell_type": "code",
   "execution_count": 75,
   "metadata": {},
   "outputs": [
    {
     "name": "stdout",
     "output_type": "stream",
     "text": [
      "catz\n"
     ]
    }
   ],
   "source": [
    "print(shiftingLetters(\"dztz\",[[0,0,0],[1,1,1]]))"
   ]
  },
  {
   "cell_type": "code",
   "execution_count": 76,
   "metadata": {},
   "outputs": [
    {
     "name": "stdout",
     "output_type": "stream",
     "text": [
      "ywxcxcqii\n"
     ]
    }
   ],
   "source": [
    "print(shiftingLetters(\"xuwdbdqik\",[[4,8,0],[4,4,0],[2,4,0],[2,4,0],[6,7,1],[2,2,1],[0,2,1],[8,8,0],[1,3,1]]))"
   ]
  }
 ],
 "metadata": {
  "kernelspec": {
   "display_name": "base",
   "language": "python",
   "name": "python3"
  },
  "language_info": {
   "codemirror_mode": {
    "name": "ipython",
    "version": 3
   },
   "file_extension": ".py",
   "mimetype": "text/x-python",
   "name": "python",
   "nbconvert_exporter": "python",
   "pygments_lexer": "ipython3",
   "version": "3.12.2"
  }
 },
 "nbformat": 4,
 "nbformat_minor": 2
}
