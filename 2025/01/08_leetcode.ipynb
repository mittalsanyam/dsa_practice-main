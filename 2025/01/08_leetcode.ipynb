{
 "cells": [
  {
   "cell_type": "markdown",
   "metadata": {},
   "source": [
    "# 3042. Count Prefix and Suffix Pairs I\n",
    "\n",
    "**Level:Easy**\n",
    "\n",
    "[Problem Link](https://leetcode.com/problems/count-prefix-and-suffix-pairs-i/description/)\n",
    "\n",
    "You are given a 0-indexed string array `words`.\n",
    "\n",
    "Let's define a boolean function `isPrefixAndSuffix` that takes two strings, `str1` and `str2`:\n",
    "\n",
    "`isPrefixAndSuffix(str1, str2)` returns `true` if `str1` is both a \n",
    "`prefix` and a `suffix` of `str2`, and `false` otherwise.\n",
    "\n",
    "For example, `isPrefixAndSuffix(\"aba\", \"ababa\")` is true because `\"aba\"` is a `prefix` of `\"ababa\"` and also a `suffix`, but `isPrefixAndSuffix(\"abc\", \"abcd\")` is `false`.\n",
    "\n",
    "Return an integer denoting the number of index pairs `(i, j)` such that `i < j`, and `isPrefixAndSuffix(words[i], words[j])` is true.\n",
    "\n",
    "## Examples\n",
    "\n",
    "### Example 1:\n",
    "Input: words = [\"a\",\"aba\",\"ababa\",\"aa\"]\n",
    "\n",
    "Output: 4\n",
    "\n",
    "Explanation: In this example, the counted index pairs are:\n",
    "\n",
    "- i = 0 and j = 1 because `isPrefixAndSuffix(\"a\", \"aba\")` is true.\n",
    "- i = 0 and j = 2 because `isPrefixAndSuffix(\"a\", \"ababa\")` is true.\n",
    "- i = 0 and j = 3 because `isPrefixAndSuffix(\"a\", \"aa\")` is true.\n",
    "- i = 1 and j = 2 because `isPrefixAndSuffix(\"aba\", \"ababa\")` is true.\n",
    "\n",
    "Therefore, the answer is 4.\n",
    "\n",
    "### Example 2:\n",
    "\n",
    "Input: words = [\"pa\",\"papa\",\"ma\",\"mama\"]\n",
    "\n",
    "Output: 2\n",
    "\n",
    "Explanation: In this example, the counted index pairs are:\n",
    "- i = 0 and j = 1 because `isPrefixAndSuffix(\"pa\", \"papa\")` is true.\n",
    "- i = 2 and j = 3 because `isPrefixAndSuffix(\"ma\", \"mama\")` is true.\n",
    "\n",
    "Therefore, the answer is 2.  \n",
    "\n",
    "### Example 3:\n",
    "\n",
    "Input: words = [\"abab\",\"ab\"]\n",
    "\n",
    "Output: 0\n",
    "\n",
    "Explanation: In this example, the only valid index pair is i = 0 and j = 1, and `isPrefixAndSuffix(\"abab\", \"ab\")` is false.\n",
    "\n",
    "Therefore, the answer is 0.\n",
    " \n",
    "## Constraints:\n",
    "\n",
    "- $1 <= words.length <= 50$\n",
    "- $1 <= words[i].length <= 10$\n",
    "- words[i] consists only of lowercase English letters."
   ]
  },
  {
   "cell_type": "markdown",
   "metadata": {},
   "source": [
    "## Solution"
   ]
  },
  {
   "cell_type": "code",
   "execution_count": 2,
   "metadata": {},
   "outputs": [
    {
     "name": "stdout",
     "output_type": "stream",
     "text": [
      "4\n"
     ]
    }
   ],
   "source": [
    "def countPrefixSuffixPairs(words):\n",
    "    n=len(words)\n",
    "    def isPrefixAndSuffix(str1,str2):\n",
    "        if len(str1)>len(str2):\n",
    "            return False\n",
    "        else:\n",
    "            m=len(str1)\n",
    "            return (str1==str2[:m]) and (str1==str2[-m:])\n",
    "    count=0\n",
    "    for i in range(n):\n",
    "        for j in range(i+1,n):\n",
    "            if isPrefixAndSuffix(words[i],words[j]):\n",
    "                count+=1\n",
    "    return count\n",
    "    \n",
    "print(countPrefixSuffixPairs([\"a\",\"aba\",\"ababa\",\"aa\"]))"
   ]
  },
  {
   "cell_type": "code",
   "execution_count": 3,
   "metadata": {},
   "outputs": [
    {
     "name": "stdout",
     "output_type": "stream",
     "text": [
      "2\n"
     ]
    }
   ],
   "source": [
    "print(countPrefixSuffixPairs([\"pa\",\"papa\",\"ma\",\"mama\"]))"
   ]
  },
  {
   "cell_type": "code",
   "execution_count": 4,
   "metadata": {},
   "outputs": [
    {
     "name": "stdout",
     "output_type": "stream",
     "text": [
      "0\n"
     ]
    }
   ],
   "source": [
    "print(countPrefixSuffixPairs([\"abab\",\"ab\"]))"
   ]
  }
 ],
 "metadata": {
  "kernelspec": {
   "display_name": "base",
   "language": "python",
   "name": "python3"
  },
  "language_info": {
   "codemirror_mode": {
    "name": "ipython",
    "version": 3
   },
   "file_extension": ".py",
   "mimetype": "text/x-python",
   "name": "python",
   "nbconvert_exporter": "python",
   "pygments_lexer": "ipython3",
   "version": "3.12.2"
  }
 },
 "nbformat": 4,
 "nbformat_minor": 2
}
