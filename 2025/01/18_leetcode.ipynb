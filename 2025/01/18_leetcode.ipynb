{
 "cells": [
  {
   "cell_type": "markdown",
   "metadata": {},
   "source": [
    "# 1368. Minimum Cost to Make at Least One Valid Path in a Grid\n",
    "\n",
    "**Level: Hard**\n",
    "\n",
    "[Problem Link](https://leetcode.com/problems/minimum-cost-to-make-at-least-one-valid-path-in-a-grid/description/)\n",
    "\n",
    "Given an m x n grid. Each cell of the grid has a sign pointing to the next cell you should visit if you are currently in this cell. The sign of grid[i][j] can be:\n",
    "\n",
    "- 1 which means go to the cell to the right. (i.e go from grid[i][j] to grid[i][j + 1])\n",
    "\n",
    "- 2 which means go to the cell to the left. (i.e go from grid[i][j] to grid[i][j - 1])\n",
    "\n",
    "- 3 which means go to the lower cell. (i.e go from grid[i][j] to grid[i + 1][j])\n",
    "\n",
    "- 4 which means go to the upper cell. (i.e go from grid[i][j] to grid[i - 1][j])\n",
    "\n",
    "Notice that there could be some signs on the cells of the grid that point outside the grid.\n",
    "\n",
    "You will initially start at the upper left cell (0, 0). A valid path in the grid is a path that starts from the upper left cell (0, 0) and ends at the bottom-right cell (m - 1, n - 1) following the signs on the grid. The valid path does not have to be the shortest.\n",
    "\n",
    "You can modify the sign on a cell with cost = 1. You can modify the sign on a cell one time only.\n",
    "\n",
    "Return the minimum cost to make the grid have at least one valid path.\n",
    "\n",
    "## Examples \n",
    "\n",
    "### Example 1\n",
    "\n",
    "Input: grid = [[1,1,1,1],[2,2,2,2],[1,1,1,1],[2,2,2,2]]\n",
    "\n",
    "Output: 3\n",
    "\n",
    "Explanation: You will start at point (0, 0).\n",
    "\n",
    "The path to (3, 3) is as follows. (0, 0) --> (0, 1) --> (0, 2) --> (0, 3) change \n",
    "\n",
    "the arrow to down with cost = 1 --> (1, 3) --> (1, 2) --> (1, 1) --> (1, 0) change \n",
    "\n",
    "the arrow to down with cost = 1 --> (2, 0) --> (2, 1) --> (2, 2) --> (2, 3) change \n",
    "\n",
    "the arrow to down with cost = 1 --> (3, 3)\n",
    "\n",
    "The total cost = 3.\n",
    "\n",
    "### Example 2\n",
    "\n",
    "Input: grid = [[1,1,3],[3,2,2],[1,1,4]]\n",
    "\n",
    "Output: 0\n",
    "\n",
    "Explanation: You can follow the path from (0, 0) to (2, 2).\n",
    "\n",
    "### Example 3\n",
    "Input: grid = [[1,2],[4,3]]\n",
    "\n",
    "Output: 1\n",
    "\n",
    "## Constraints:\n",
    "\n",
    "- m == grid.length\n",
    "- n == grid[i].length\n",
    "- 1 <= m, n <= 100\n",
    "- 1 <= grid[i][j] <= 4"
   ]
  },
  {
   "cell_type": "markdown",
   "metadata": {},
   "source": [
    "## Solution"
   ]
  },
  {
   "cell_type": "code",
   "execution_count": 146,
   "metadata": {},
   "outputs": [],
   "source": [
    "from collections import deque\n",
    "def minCost(grid):\n",
    "    m,n=len(grid),len(grid[0])\n",
    "    if m==1 and n==1:\n",
    "        return 0\n",
    "    visited,mincost = {},{}\n",
    "    for i in range(m):\n",
    "        for j in range(n):\n",
    "            mincost[(i,j)]=float('inf')\n",
    "    def isValid(i,j,m,n):\n",
    "        return 0<=i<m and 0<=j<n\n",
    "    dirs = [(0,1),(0,-1),(1,0),(-1,0)]\n",
    "    queue=deque()\n",
    "    queue.append((0,0))\n",
    "    mincost[(0,0)]=0\n",
    "    while len(queue)>0:\n",
    "        (x,y) = queue.popleft()\n",
    "        for dir_idx,(dx,dy) in enumerate(dirs):\n",
    "            i,j = x+dx,y+dy\n",
    "            if dir_idx+1==grid[x][y]:\n",
    "                cost=0\n",
    "            else:\n",
    "                cost=1\n",
    "            if isValid(i,j,m,n) and mincost[(i,j)]>mincost[(x,y)]+cost:\n",
    "                mincost[(i,j)]=mincost[(x,y)]+cost\n",
    "                if cost==0:\n",
    "                    queue.appendleft((i,j))\n",
    "                else:\n",
    "                    queue.append((i,j))\n",
    "    return mincost[(m-1,n-1)]"
   ]
  },
  {
   "cell_type": "code",
   "execution_count": 147,
   "metadata": {},
   "outputs": [
    {
     "name": "stdout",
     "output_type": "stream",
     "text": [
      "3\n"
     ]
    }
   ],
   "source": [
    "print(minCost([[1,1,1,1],[2,2,2,2],[1,1,1,1],[2,2,2,2]]))"
   ]
  },
  {
   "cell_type": "code",
   "execution_count": 148,
   "metadata": {},
   "outputs": [
    {
     "name": "stdout",
     "output_type": "stream",
     "text": [
      "0\n"
     ]
    }
   ],
   "source": [
    "print(minCost([[1,1,3],[3,2,2],[1,1,4]]))"
   ]
  },
  {
   "cell_type": "code",
   "execution_count": 149,
   "metadata": {},
   "outputs": [
    {
     "name": "stdout",
     "output_type": "stream",
     "text": [
      "1\n"
     ]
    }
   ],
   "source": [
    "print(minCost([[1,2],[4,3]]))"
   ]
  },
  {
   "cell_type": "code",
   "execution_count": 150,
   "metadata": {},
   "outputs": [
    {
     "name": "stdout",
     "output_type": "stream",
     "text": [
      "2\n"
     ]
    }
   ],
   "source": [
    "print(minCost([[2,2],[3,4]]))"
   ]
  },
  {
   "cell_type": "code",
   "execution_count": 151,
   "metadata": {},
   "outputs": [
    {
     "name": "stdout",
     "output_type": "stream",
     "text": [
      "18\n"
     ]
    }
   ],
   "source": [
    "print(minCost([[3,4,3],[2,2,2],[2,1,1],[4,3,2],[2,1,4],[2,4,1],[3,3,3],[1,4,2],[2,2,1],[2,1,1],[3,3,1],[4,1,4],[2,1,4],[3,2,2],[3,3,1],[4,4,1],[1,2,2],[1,1,1],[1,3,4],[1,2,1],[2,2,4],[2,1,3],[1,2,1],[4,3,2],[3,3,4],[2,2,1],[3,4,3],[4,2,3],[4,4,4]]))"
   ]
  }
 ],
 "metadata": {
  "kernelspec": {
   "display_name": "base",
   "language": "python",
   "name": "python3"
  },
  "language_info": {
   "codemirror_mode": {
    "name": "ipython",
    "version": 3
   },
   "file_extension": ".py",
   "mimetype": "text/x-python",
   "name": "python",
   "nbconvert_exporter": "python",
   "pygments_lexer": "ipython3",
   "version": "3.12.2"
  }
 },
 "nbformat": 4,
 "nbformat_minor": 2
}
