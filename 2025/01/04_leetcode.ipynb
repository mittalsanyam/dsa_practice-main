{
 "cells": [
  {
   "cell_type": "markdown",
   "metadata": {},
   "source": [
    "# 1930. Unique Length-3 Palindromic Subsequences\n",
    "**Level: Medium**\n",
    "\n",
    "[Problem Link](https://leetcode.com/problems/unique-length-3-palindromic-subsequences/description/)\n",
    "\n",
    "Given a string `s`, return the number of unique palindromes of length three that are a subsequence of `s`.\n",
    "\n",
    "Note that even if there are multiple ways to obtain the same subsequence, it is still only counted once.\n",
    "\n",
    "A palindrome is a string that reads the same forwards and backwards.\n",
    "\n",
    "A subsequence of a string is a new string generated from the original string with some characters (can be none) deleted without changing the relative order of the remaining characters.\n",
    "\n",
    "For example, \"ace\" is a subsequence of \"**a**b**c**d**e**\".\n",
    "\n",
    "## Example\n",
    "\n",
    "### Example 1:\n",
    "\n",
    "Input: s = \"aabca\"\n",
    "\n",
    "Output: 3\n",
    "\n",
    "Explanation: The 3 palindromic subsequences of length 3 are:\n",
    "- \"aba\" (subsequence of \"aabca\")\n",
    "- \"aaa\" (subsequence of \"aabca\")\n",
    "- \"aca\" (subsequence of \"aabca\")\n",
    "\n",
    "### Example 2:\n",
    "Input: s = \"adc\"\n",
    "\n",
    "Output: 0\n",
    "\n",
    "Explanation: There are no palindromic subsequences of length 3 in \"adc\".\n",
    "\n",
    "### Example 3:\n",
    "Input: s = \"bbcbaba\"\n",
    "\n",
    "Output: 4\n",
    "\n",
    "Explanation: The 4 palindromic subsequences of length 3 are:\n",
    "- \"bbb\" (subsequence of \"bbcbaba\")\n",
    "- \"bcb\" (subsequence of \"bbcbaba\")\n",
    "- \"bab\" (subsequence of \"bbcbaba\")\n",
    "- \"aba\" (subsequence of \"bbcbaba\")\n",
    "\n",
    "## Constraints:\n",
    "\n",
    "- $3 <= s.length <= 10^5$\n",
    "- s consists of only lowercase English letters."
   ]
  },
  {
   "cell_type": "markdown",
   "metadata": {},
   "source": [
    "## Solution"
   ]
  },
  {
   "cell_type": "code",
   "execution_count": 9,
   "metadata": {},
   "outputs": [
    {
     "name": "stdout",
     "output_type": "stream",
     "text": [
      "4\n"
     ]
    }
   ],
   "source": [
    "def countPalindromicSubsequence(s):\n",
    "    letter=set(s)\n",
    "    count=0\n",
    "    for l in letter:\n",
    "        i=s.find(l)\n",
    "        j=s.rfind(l)\n",
    "        unique=set(s[i+1:j])\n",
    "        count+=len(unique)\n",
    "    return count\n",
    "\n",
    "print(countPalindromicSubsequence(\"bbcbaba\"))"
   ]
  },
  {
   "cell_type": "code",
   "execution_count": 10,
   "metadata": {},
   "outputs": [
    {
     "name": "stdout",
     "output_type": "stream",
     "text": [
      "0\n"
     ]
    }
   ],
   "source": [
    "print(countPalindromicSubsequence(\"adc\"))"
   ]
  },
  {
   "cell_type": "code",
   "execution_count": 11,
   "metadata": {},
   "outputs": [
    {
     "name": "stdout",
     "output_type": "stream",
     "text": [
      "3\n"
     ]
    }
   ],
   "source": [
    "print(countPalindromicSubsequence(\"aabca\"))"
   ]
  }
 ],
 "metadata": {
  "kernelspec": {
   "display_name": "base",
   "language": "python",
   "name": "python3"
  },
  "language_info": {
   "codemirror_mode": {
    "name": "ipython",
    "version": 3
   },
   "file_extension": ".py",
   "mimetype": "text/x-python",
   "name": "python",
   "nbconvert_exporter": "python",
   "pygments_lexer": "ipython3",
   "version": "3.12.2"
  }
 },
 "nbformat": 4,
 "nbformat_minor": 2
}
