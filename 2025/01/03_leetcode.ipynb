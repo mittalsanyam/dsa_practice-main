{
 "cells": [
  {
   "cell_type": "markdown",
   "metadata": {},
   "source": [
    "# 2270. Number of Ways to Split Array\n",
    "\n",
    "You are given a 0-indexed integer array nums of length n.\n",
    "\n",
    "nums contains a valid split at index i if the following are true:\n",
    "\n",
    "- The sum of the first i + 1 elements is greater than or equal to the sum of the last n - i - 1 elements.\n",
    "- There is at least one element to the right of i. That is, 0 <= i < n - 1.\n",
    "\n",
    "Return the number of valid splits in nums.\n",
    "\n",
    "## Examples\n",
    "### Example 1:\n",
    "\n",
    "Input: nums = [10,4,-8,7]\n",
    "\n",
    "Output: 2\n",
    "\n",
    "Explanation: \n",
    "There are three ways of splitting nums into two non-empty parts:\n",
    "- Split nums at index 0. Then, the first part is [10], and its sum is 10. The second part is [4,-8,7], and its sum is 3. Since 10 >= 3, i = 0 is a valid split.\n",
    "- Split nums at index 1. Then, the first part is [10,4], and its sum is 14. The second part is [-8,7], and its sum is -1. Since 14 >= -1, i = 1 is a valid split.\n",
    "- Split nums at index 2. Then, the first part is [10,4,-8], and its sum is 6. The second part is [7], and its sum is 7. Since 6 < 7, i = 2 is not a valid split.\n",
    "Thus, the number of valid splits in nums is 2.\n",
    "\n",
    "### Example 2:\n",
    "\n",
    "Input: nums = [2,3,1,0]\n",
    "\n",
    "Output: 2\n",
    "\n",
    "Explanation: \n",
    "There are two valid splits in nums:\n",
    "- Split nums at index 1. Then, the first part is [2,3], and its sum is 5. The second part is [1,0], and its sum is 1. Since 5 >= 1, i = 1 is a valid split. \n",
    "- Split nums at index 2. Then, the first part is [2,3,1], and its sum is 6. The second part is [0], and its sum is 0. Since 6 >= 0, i = 2 is a valid split.\n",
    "\n",
    "## Constraints:\n",
    "\n",
    "- $2 <= nums.length <= 10^5$\n",
    "- $-10^5 <= nums[i] <= 10^5$"
   ]
  },
  {
   "cell_type": "markdown",
   "metadata": {},
   "source": [
    "## Solution"
   ]
  },
  {
   "cell_type": "code",
   "execution_count": 4,
   "metadata": {},
   "outputs": [
    {
     "name": "stdout",
     "output_type": "stream",
     "text": [
      "2\n"
     ]
    }
   ],
   "source": [
    "def waysToSplitArray(nums):\n",
    "    n = len(nums)\n",
    "    prefix_sum = [0]*n\n",
    "    suffix_sum = [0]*n\n",
    "    suffix_sum[-1]=nums[-1]\n",
    "    prefix_sum[0]=nums[0]\n",
    "    for i in range(1,n):\n",
    "        prefix_sum[i]=nums[i]+prefix_sum[i-1]\n",
    "    for i in range(n-2,-1,-1):\n",
    "        suffix_sum[i]=nums[i]+suffix_sum[i+1]\n",
    "    splits=0\n",
    "    for i in range(n-1):\n",
    "        if prefix_sum[i]>=suffix_sum[i+1]:\n",
    "            splits+=1\n",
    "    return splits\n",
    "print(waysToSplitArray([10,4,-8,7]))"
   ]
  },
  {
   "cell_type": "code",
   "execution_count": 5,
   "metadata": {},
   "outputs": [
    {
     "name": "stdout",
     "output_type": "stream",
     "text": [
      "2\n"
     ]
    }
   ],
   "source": [
    "print(waysToSplitArray([2,3,1,0]))"
   ]
  }
 ],
 "metadata": {
  "kernelspec": {
   "display_name": "base",
   "language": "python",
   "name": "python3"
  },
  "language_info": {
   "codemirror_mode": {
    "name": "ipython",
    "version": 3
   },
   "file_extension": ".py",
   "mimetype": "text/x-python",
   "name": "python",
   "nbconvert_exporter": "python",
   "pygments_lexer": "ipython3",
   "version": "3.12.2"
  }
 },
 "nbformat": 4,
 "nbformat_minor": 2
}
