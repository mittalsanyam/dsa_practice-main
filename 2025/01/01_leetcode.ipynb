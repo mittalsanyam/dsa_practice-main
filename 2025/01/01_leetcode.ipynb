{
 "cells": [
  {
   "cell_type": "markdown",
   "metadata": {},
   "source": [
    "# 1422. Maximum Score After Splitting a String\n",
    "\n",
    "**Level: Easy**\n",
    "\n",
    "[Problem Link](https://leetcode.com/problems/maximum-score-after-splitting-a-string/description/)\n",
    "\n",
    "Given a string s of zeros and ones, return the maximum score after splitting the string into two non-empty substrings (i.e. left substring and right substring).\n",
    "\n",
    "The score after splitting a string is the number of zeros in the left substring plus the number of ones in the right substring.\n",
    "\n",
    "## Examples\n",
    "\n",
    "### Example 1:\n",
    "\n",
    "Input: s = \"011101\"\n",
    "\n",
    "Output: 5 \n",
    "\n",
    "Explanation:\n",
    "\n",
    "All possible ways of splitting s into two non-empty substrings are:\n",
    "\n",
    "left = \"0\" and right = \"11101\", score = 1 + 4 = 5 \n",
    "\n",
    "left = \"01\" and right = \"1101\", score = 1 + 3 = 4\n",
    "\n",
    "left = \"011\" and right = \"101\", score = 1 + 2 = 3\n",
    "\n",
    "left = \"0111\" and right = \"01\", score = 1 + 1 = 2\n",
    "\n",
    "left = \"01110\" and right = \"1\", score = 2 + 1 = 3\n",
    "\n",
    "### Example 2:\n",
    "\n",
    "Input: s = \"00111\"\n",
    "\n",
    "Output: 5\n",
    "\n",
    "Explanation: When left = \"00\" and right = \"111\", we get the maximum score = 2 + 3 = 5\n",
    "\n",
    "### Example 3:\n",
    "\n",
    "Input: s = \"1111\"\n",
    "\n",
    "Output: 3\n",
    "\n",
    "###  Constraints:\n",
    "\n",
    "- $2 <= s.length <= 500$\n",
    "- $The string s consists of characters '0' and '1' only.$"
   ]
  },
  {
   "cell_type": "markdown",
   "metadata": {},
   "source": [
    "## Solution"
   ]
  },
  {
   "cell_type": "code",
   "execution_count": 33,
   "metadata": {},
   "outputs": [
    {
     "name": "stdout",
     "output_type": "stream",
     "text": [
      "5\n",
      "5\n",
      "3\n",
      "3\n",
      "2\n"
     ]
    }
   ],
   "source": [
    "def maxScore(s):\n",
    "    n=len(s)\n",
    "    count_1,count_0=[0]*n,[0]*n\n",
    "    for i in range(n-1):\n",
    "        if s[i]=='0':\n",
    "            count_0[i]=count_0[i-1]+1\n",
    "        else:\n",
    "            count_0[i]=count_0[i-1]\n",
    "    for i in range(n-1,0,-1):\n",
    "        if s[i]=='1':\n",
    "            if i==n-1:\n",
    "                count_1[i]=1\n",
    "            else:\n",
    "                count_1[i]=count_1[i+1]+1\n",
    "        else:\n",
    "            if i<n-1:\n",
    "                count_1[i]=count_1[i+1]\n",
    "    count_0[n-1]=count_0[n-2]\n",
    "    count_1[0]=count_1[1]\n",
    "    maxscore=0\n",
    "    for i in range(n):\n",
    "        score=count_0[i]+count_1[i]\n",
    "        if score>maxscore:\n",
    "            maxscore=score\n",
    "    return maxscore\n",
    "print(maxScore('011101')) \n",
    "print(maxScore('00111'))\n",
    "print(maxScore('0000'))\n",
    "print(maxScore('1111'))\n",
    "print(maxScore('01'))      "
   ]
  }
 ],
 "metadata": {
  "kernelspec": {
   "display_name": "base",
   "language": "python",
   "name": "python3"
  },
  "language_info": {
   "codemirror_mode": {
    "name": "ipython",
    "version": 3
   },
   "file_extension": ".py",
   "mimetype": "text/x-python",
   "name": "python",
   "nbconvert_exporter": "python",
   "pygments_lexer": "ipython3",
   "version": "3.12.2"
  }
 },
 "nbformat": 4,
 "nbformat_minor": 2
}
