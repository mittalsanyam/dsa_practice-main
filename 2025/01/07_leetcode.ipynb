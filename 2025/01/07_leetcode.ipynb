{
 "cells": [
  {
   "cell_type": "markdown",
   "metadata": {},
   "source": [
    "# 1408. String Matching in an Array\n",
    "**Level: Easy**\n",
    "\n",
    "[Problem Link](https://leetcode.com/problems/string-matching-in-an-array/description/)\n",
    "\n",
    "Given an array of string `words`, return all strings in `words` that is a substring of another word. You can return the answer in any order.\n",
    "\n",
    "A substring is a contiguous sequence of characters within a string\n",
    "\n",
    "## Examples \n",
    "\n",
    "### Example 1:\n",
    "Input: words = [\"mass\",\"as\",\"hero\",\"superhero\"]\n",
    "\n",
    "Output: [\"as\",\"hero\"]\n",
    "\n",
    "Explanation: \"as\" is substring of \"mass\" and \"hero\" is substring of \"superhero\".\n",
    "[\"hero\",\"as\"] is also a valid answer.\n",
    "\n",
    "### Example 2:\n",
    "Input: words = [\"leetcode\",\"et\",\"code\"]\n",
    "\n",
    "Output: [\"et\",\"code\"]\n",
    "\n",
    "Explanation: \"et\", \"code\" are substring of \"leetcode\".\n",
    "\n",
    "### Example 3:\n",
    "\n",
    "Input: words = [\"blue\",\"green\",\"bu\"]\n",
    "\n",
    "Output: []\n",
    "\n",
    "Explanation: No string of words is substring of another string.\n",
    " \n",
    "\n",
    "## Constraints:\n",
    "\n",
    "- $1 <= words.length <= 100$\n",
    "- $1 <= words[i].length <= 30$\n",
    "- `words[i]` contains only lowercase English letters.\n",
    "- All the strings of `words` are unique."
   ]
  },
  {
   "cell_type": "markdown",
   "metadata": {},
   "source": [
    "## Solution"
   ]
  },
  {
   "cell_type": "code",
   "execution_count": 8,
   "metadata": {},
   "outputs": [
    {
     "name": "stdout",
     "output_type": "stream",
     "text": [
      "['as', 'hero']\n"
     ]
    }
   ],
   "source": [
    "def stringMatching(words):\n",
    "    n=len(words)\n",
    "    answer=set()\n",
    "    for i in range(n):\n",
    "        for j in range(n):\n",
    "            if i!=j and len(words[i])<=len(words[j]) and words[i] in words[j]:\n",
    "                answer.add(words[i])\n",
    "    return list(answer)\n",
    "\n",
    "print(stringMatching([\"mass\",\"as\",\"hero\",\"superhero\"]))"
   ]
  },
  {
   "cell_type": "code",
   "execution_count": 9,
   "metadata": {},
   "outputs": [
    {
     "name": "stdout",
     "output_type": "stream",
     "text": [
      "['code', 'et']\n"
     ]
    }
   ],
   "source": [
    "print(stringMatching([\"leetcode\",\"et\",\"code\"]))"
   ]
  },
  {
   "cell_type": "code",
   "execution_count": 10,
   "metadata": {},
   "outputs": [
    {
     "name": "stdout",
     "output_type": "stream",
     "text": [
      "[]\n"
     ]
    }
   ],
   "source": [
    "print(stringMatching([\"blue\",\"green\",\"bu\"]))"
   ]
  },
  {
   "cell_type": "code",
   "execution_count": 19,
   "metadata": {},
   "outputs": [],
   "source": [
    "def stringMatching(words):\n",
    "    r = \" \".join(words)\n",
    "    s = [words[i] for i in range(len(words)) if r.count(words[i])>1]\n",
    "    return s"
   ]
  },
  {
   "cell_type": "code",
   "execution_count": 20,
   "metadata": {},
   "outputs": [
    {
     "name": "stdout",
     "output_type": "stream",
     "text": [
      "['as', 'hero']\n"
     ]
    }
   ],
   "source": [
    "print(stringMatching([\"mass\",\"as\",\"hero\",\"superhero\"]))"
   ]
  },
  {
   "cell_type": "code",
   "execution_count": 21,
   "metadata": {},
   "outputs": [
    {
     "name": "stdout",
     "output_type": "stream",
     "text": [
      "['et', 'code']\n"
     ]
    }
   ],
   "source": [
    "print(stringMatching([\"leetcode\",\"et\",\"code\"]))"
   ]
  },
  {
   "cell_type": "code",
   "execution_count": 22,
   "metadata": {},
   "outputs": [
    {
     "name": "stdout",
     "output_type": "stream",
     "text": [
      "[]\n"
     ]
    }
   ],
   "source": [
    "print(stringMatching([\"blue\",\"green\",\"bu\"]))"
   ]
  }
 ],
 "metadata": {
  "kernelspec": {
   "display_name": "base",
   "language": "python",
   "name": "python3"
  },
  "language_info": {
   "codemirror_mode": {
    "name": "ipython",
    "version": 3
   },
   "file_extension": ".py",
   "mimetype": "text/x-python",
   "name": "python",
   "nbconvert_exporter": "python",
   "pygments_lexer": "ipython3",
   "version": "3.12.2"
  }
 },
 "nbformat": 4,
 "nbformat_minor": 2
}
