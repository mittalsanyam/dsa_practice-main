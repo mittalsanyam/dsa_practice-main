{
 "cells": [
  {
   "cell_type": "markdown",
   "metadata": {},
   "source": [
    "# 407. Trapping Rain Water II\n",
    "\n",
    "**Level: Hard**\n",
    "\n",
    "[Problem Link](https://leetcode.com/problems/trapping-rain-water-ii/description/)\n",
    "\n",
    "Given an m x n integer matrix heightMap representing the height of each unit cell in a 2D elevation map, return the volume of water it can trap after raining.\n",
    "\n",
    "## Examples\n",
    "\n",
    "### Example 1\n",
    "\n",
    "Input: heightMap = [[1,4,3,1,3,2],[3,2,1,3,2,4],[2,3,3,2,3,1]]\n",
    "\n",
    "Output: 4\n",
    "\n",
    "Explanation: After the rain, water is trapped between the blocks.\n",
    "\n",
    "We have two small ponds 1 and 3 units trapped.\n",
    "\n",
    "The total volume of water trapped is 4.\n",
    "\n",
    "### Example 2\n",
    "\n",
    "Input: heightMap = [[3,3,3,3,3],[3,2,2,2,3],[3,2,1,2,3],[3,2,2,2,3],[3,3,3,3,3]]\n",
    "\n",
    "Output: 10\n",
    "\n",
    "## Constraints:\n",
    "- m == heightMap.length\n",
    "- n == heightMap[i].length\n",
    "- 1 <= m, n <= 200\n",
    "- $0 <= heightMap[i][j] <= 2 * 10^4$"
   ]
  },
  {
   "cell_type": "markdown",
   "metadata": {},
   "source": [
    "## Solution"
   ]
  },
  {
   "cell_type": "code",
   "execution_count": 2,
   "metadata": {},
   "outputs": [
    {
     "name": "stdout",
     "output_type": "stream",
     "text": [
      "10\n"
     ]
    }
   ],
   "source": [
    "import heapq\n",
    "\n",
    "class cell:\n",
    "    def __init__(self,height,i,j):\n",
    "        self.i=i\n",
    "        self.j=j\n",
    "        self.height=height\n",
    "    def __lt__(self,other):\n",
    "        return self.height<other.height\n",
    "\n",
    "def trapRainWater(heightMap):\n",
    "    m,n =len(heightMap),len(heightMap[0])\n",
    "    boundary,visited=[],{}\n",
    "    dirs = [(-1,0),(1,0),(0,-1),(0,1)]\n",
    "    for i in range(m):\n",
    "        for j in range(n):\n",
    "            visited[(i,j)]=False\n",
    "    boundary_cols = [0,n-1]\n",
    "    for j in boundary_cols:\n",
    "        for i in range(m):\n",
    "            heapq.heappush(boundary,cell(heightMap[i][j],i,j))\n",
    "            visited[(i,j)]=True\n",
    "    boundary_rows = [0,m-1]\n",
    "    for i in boundary_rows:\n",
    "        for j in range(n):\n",
    "            heapq.heappush(boundary,cell(heightMap[i][j],i,j))\n",
    "            visited[(i,j)]=True\n",
    "    water_vol = 0\n",
    "    while boundary:\n",
    "        curr_cell = heapq.heappop(boundary)\n",
    "        x = curr_cell.i\n",
    "        y = curr_cell.j\n",
    "        min_height = curr_cell.height\n",
    "        for (dx,dy) in dirs:\n",
    "            u,v = x+dx,y+dy\n",
    "            if 0<=u<m and 0<=v<n:\n",
    "                if not visited[(u,v)]:\n",
    "                    n_height = heightMap[u][v]\n",
    "                    if n_height<min_height:\n",
    "                        water_vol+=(min_height-n_height)\n",
    "                    heapq.heappush(boundary,cell(max(n_height,min_height),u,v))\n",
    "                    visited[(u,v)]=True\n",
    "    return water_vol\n",
    "            \n",
    "\n",
    "print(trapRainWater([[3,3,3,3,3],[3,2,2,2,3],[3,2,1,2,3],[3,2,2,2,3],[3,3,3,3,3]]))"
   ]
  },
  {
   "cell_type": "code",
   "execution_count": 3,
   "metadata": {},
   "outputs": [
    {
     "name": "stdout",
     "output_type": "stream",
     "text": [
      "4\n"
     ]
    }
   ],
   "source": [
    "print(trapRainWater([[1,4,3,1,3,2],[3,2,1,3,2,4],[2,3,3,2,3,1]]))"
   ]
  },
  {
   "cell_type": "code",
   "execution_count": 5,
   "metadata": {},
   "outputs": [
    {
     "name": "stdout",
     "output_type": "stream",
     "text": [
      "0\n"
     ]
    }
   ],
   "source": [
    "print(trapRainWater([[3,3,1,3,3],[3,2,2,2,3],[3,2,1,2,3],[3,2,2,2,3],[3,3,3,3,3]]))"
   ]
  }
 ],
 "metadata": {
  "kernelspec": {
   "display_name": "base",
   "language": "python",
   "name": "python3"
  },
  "language_info": {
   "codemirror_mode": {
    "name": "ipython",
    "version": 3
   },
   "file_extension": ".py",
   "mimetype": "text/x-python",
   "name": "python",
   "nbconvert_exporter": "python",
   "pygments_lexer": "ipython3",
   "version": "3.12.2"
  }
 },
 "nbformat": 4,
 "nbformat_minor": 2
}
