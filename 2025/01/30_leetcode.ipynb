{
 "cells": [
  {
   "cell_type": "markdown",
   "metadata": {},
   "source": [
    "# 2493. Divide Nodes Into the Maximum Number of Groups\n",
    "\n",
    "**Level: Hard**\n",
    "\n",
    "[Problem Link](https://leetcode.com/problems/divide-nodes-into-the-maximum-number-of-groups/description/)\n",
    "\n",
    "You are given a positive integer n representing the number of nodes in an undirected graph. The nodes are labeled from 1 to n.\n",
    "\n",
    "You are also given a 2D integer array edges, where edges[i] = [ai, bi] indicates that there is a bidirectional edge between nodes ai and bi. Notice that the given graph may be disconnected.\n",
    "\n",
    "Divide the nodes of the graph into m groups (1-indexed) such that:\n",
    "\n",
    "Each node in the graph belongs to exactly one group.\n",
    "For every pair of nodes in the graph that are connected by an edge [ai, bi], if ai belongs to the group with index x, and bi belongs to the group with index y, then |y - x| = 1.\n",
    "Return the maximum number of groups (i.e., maximum m) into which you can divide the nodes. Return -1 if it is impossible to group the nodes with the given conditions.\n",
    "\n",
    "## Examples\n",
    "### Example 1:\n",
    "Input: n = 6, edges = [[1,2],[1,4],[1,5],[2,6],[2,3],[4,6]]\n",
    "\n",
    "Output: 4\n",
    "\n",
    "Explanation: As shown in the image we:\n",
    "- Add node 5 to the first group.\n",
    "- Add node 1 to the second group.\n",
    "- Add nodes 2 and 4 to the third group.\n",
    "- Add nodes 3 and 6 to the fourth group.\n",
    "\n",
    "We can see that every edge is satisfied.\n",
    "\n",
    "It can be shown that that if we create a fifth group and move any node from the third or fourth group to it, at least on of the edges will not be satisfied.\n",
    "\n",
    "### Example 2:\n",
    "Input: n = 3, edges = [[1,2],[2,3],[3,1]]\n",
    "\n",
    "Output: -1\n",
    "\n",
    "Explanation: If we add node 1 to the first group, node 2 to the second group, and node 3 to the third group to satisfy the first two edges, we can see that the third edge will not be satisfied.\n",
    "\n",
    "It can be shown that no grouping is possible.\n",
    "\n",
    "## Constraints:\n",
    "- 1 <= n <= 500\n",
    "- $1 <= edges.length <= 10^4$\n",
    "- edges[i].length == 2\n",
    "- $1 <= a_i, b_i <= n$\n",
    "- $a_i != b_i$\n",
    "- There is at most one edge between any pair of vertices."
   ]
  },
  {
   "cell_type": "markdown",
   "metadata": {},
   "source": [
    "## Solution"
   ]
  },
  {
   "cell_type": "code",
   "execution_count": 107,
   "metadata": {},
   "outputs": [
    {
     "name": "stdout",
     "output_type": "stream",
     "text": [
      "4\n"
     ]
    }
   ],
   "source": [
    "from collections import deque\n",
    "def magnificientSets(n,edges):\n",
    "    graph,color,component,members = {},{},{},{}\n",
    "    for i in range(1,n+1):\n",
    "        graph[i]=[]\n",
    "        color[i]=-1\n",
    "        component[i]=-1\n",
    "    for (i,j) in edges:\n",
    "        graph[i].append(j)\n",
    "        graph[j].append(i)\n",
    "    curr_component=-1\n",
    "    for i in color.keys():\n",
    "        if component[i]==-1:\n",
    "            curr_component+=1\n",
    "            members[curr_component]=[]\n",
    "        if color[i]==-1:\n",
    "            queue = deque([i])\n",
    "            while queue:\n",
    "                u = queue.popleft()\n",
    "                component[u]=curr_component\n",
    "                if u not in members[curr_component]:\n",
    "                    members[curr_component].append(u)\n",
    "                for v in graph[u]:\n",
    "                    if color[v]==-1:\n",
    "                        color[v]=1-color[u]\n",
    "                        queue.append(v)\n",
    "                    elif color[v]==color[u]:\n",
    "                        return -1\n",
    "    numMaxGroups={}\n",
    "    for key in members.keys():\n",
    "        numMaxGroups[key]=0\n",
    "        for i in members[key]:\n",
    "            queue = deque([i])\n",
    "            level = {}\n",
    "            for v in members[key]:\n",
    "                level[v]=-1\n",
    "            level[i]=1\n",
    "            maxlevel=0\n",
    "            while queue:\n",
    "                u = queue.popleft()\n",
    "                if level[u]>maxlevel:\n",
    "                    maxlevel=level[u]\n",
    "                for v in graph[u]:\n",
    "                    if v in level.keys() and level[v]==-1:\n",
    "                        level[v]=level[u]+1\n",
    "                        queue.append(v)\n",
    "            numMaxGroups[key]=max(maxlevel,numMaxGroups[key])\n",
    "    totalGroups=0\n",
    "    for key in numMaxGroups.keys():\n",
    "        totalGroups+=numMaxGroups[key]\n",
    "    return totalGroups\n",
    "                 \n",
    "print(magnificientSets(6,[[1,2],[1,4],[1,5],[2,6],[2,3],[4,6]]))"
   ]
  },
  {
   "cell_type": "code",
   "execution_count": 108,
   "metadata": {},
   "outputs": [
    {
     "name": "stdout",
     "output_type": "stream",
     "text": [
      "-1\n"
     ]
    }
   ],
   "source": [
    "print(magnificientSets(3,[[1,2],[2,3],[3,1]]))"
   ]
  },
  {
   "cell_type": "code",
   "execution_count": 109,
   "metadata": {},
   "outputs": [],
   "source": [
    "n=8\n",
    "edges =[[3,5],[4,2],[4,7],[6,8],[2,6],[6,3],[6,1],[1,5],[6,7]]"
   ]
  },
  {
   "cell_type": "code",
   "execution_count": 110,
   "metadata": {},
   "outputs": [
    {
     "name": "stdout",
     "output_type": "stream",
     "text": [
      "5\n"
     ]
    }
   ],
   "source": [
    "print(magnificientSets(n,edges))"
   ]
  }
 ],
 "metadata": {
  "kernelspec": {
   "display_name": "base",
   "language": "python",
   "name": "python3"
  },
  "language_info": {
   "codemirror_mode": {
    "name": "ipython",
    "version": 3
   },
   "file_extension": ".py",
   "mimetype": "text/x-python",
   "name": "python",
   "nbconvert_exporter": "python",
   "pygments_lexer": "ipython3",
   "version": "3.12.2"
  }
 },
 "nbformat": 4,
 "nbformat_minor": 2
}
