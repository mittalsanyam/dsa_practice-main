{
 "cells": [
  {
   "cell_type": "markdown",
   "metadata": {},
   "source": [
    "# 684. Redundant Connection\n",
    "**Level: Medium**\n",
    "\n",
    "[Problem Link](https://leetcode.com/problems/redundant-connection/description/)\n",
    "\n",
    "In this problem, a tree is an undirected graph that is connected and has no cycles.\n",
    "\n",
    "You are given a graph that started as a tree with n nodes labeled from 1 to n, with one additional edge added. The added edge has two different vertices chosen from 1 to n, and was not an edge that already existed. The graph is represented as an array edges of length n where edges[i] = $[a_i, b_i]$ indicates that there is an edge between nodes $a_i$ and $b_i$ in the graph.\n",
    "\n",
    "Return an edge that can be removed so that the resulting graph is a tree of n nodes. If there are multiple answers, return the answer that occurs last in the input.\n",
    "\n",
    "## Examples\n",
    "\n",
    "### Example 1\n",
    "Input: edges = [[1,2],[1,3],[2,3]]\n",
    "\n",
    "Output: [2,3]\n",
    "\n",
    "### Example 2\n",
    "Input: edges = [[1,2],[2,3],[3,4],[1,4],[1,5]]\n",
    "\n",
    "Output: [1,4]\n",
    "\n",
    "## Constraints:\n",
    "\n",
    "- n == edges.length\n",
    "- 3 <= n <= 1000\n",
    "- edges[i].length == 2\n",
    "- $1 <= a_i < b_i <= edges.length$\n",
    "- $a_i != b_i$\n",
    "- There are no repeated edges.\n",
    "- The given graph is connected."
   ]
  },
  {
   "cell_type": "markdown",
   "metadata": {},
   "source": [
    "## Solution"
   ]
  },
  {
   "cell_type": "code",
   "execution_count": 49,
   "metadata": {},
   "outputs": [
    {
     "name": "stdout",
     "output_type": "stream",
     "text": [
      "[2, 3]\n"
     ]
    }
   ],
   "source": [
    "class UnionFind:\n",
    "    def __init__(self,vertices):\n",
    "        self.component={}\n",
    "        self.members={}\n",
    "        self.size={}\n",
    "        self.tree=[]\n",
    "        for i in vertices:\n",
    "            self.component[i]=i\n",
    "            self.members[i]=[i]\n",
    "            self.size[i]=1\n",
    "    def find(self,v):\n",
    "        return self.component[v]\n",
    "    def union(self,u,v):\n",
    "        if self.find(u)!=self.find(v):\n",
    "            self.tree.append([u,v])\n",
    "            if self.size[self.component[u]]>=self.size[self.component[v]]:\n",
    "                more,less=self.component[u],self.component[v]\n",
    "            else:\n",
    "                more,less=self.component[v],self.component[u]\n",
    "            while self.size[less]>0:\n",
    "                i = self.members[less].pop()\n",
    "                self.members[more].append(i)\n",
    "                self.component[i]=more\n",
    "                self.size[more]+=1\n",
    "                self.size[less]-=1\n",
    "    def giveTree(self):\n",
    "        return self.tree\n",
    "\n",
    "def findRedundantConnection(edges):\n",
    "    vertices=set()\n",
    "    for [i,j] in edges:\n",
    "        vertices.add(i)\n",
    "        vertices.add(j)\n",
    "    uf = UnionFind(vertices)\n",
    "    for [i,j] in edges:\n",
    "        uf.union(i,j)\n",
    "    tree = uf.giveTree()\n",
    "    n=len(edges)\n",
    "    for i in range(n-1,-1,-1):\n",
    "        if edges[i] not in tree:\n",
    "            return edges[i]\n",
    "    \n",
    "print(findRedundantConnection([[1,2],[1,3],[2,3]]))"
   ]
  },
  {
   "cell_type": "code",
   "execution_count": 50,
   "metadata": {},
   "outputs": [
    {
     "name": "stdout",
     "output_type": "stream",
     "text": [
      "[1, 4]\n"
     ]
    }
   ],
   "source": [
    "print(findRedundantConnection([[1,2],[2,3],[3,4],[1,4],[1,5]]))"
   ]
  }
 ],
 "metadata": {
  "kernelspec": {
   "display_name": "base",
   "language": "python",
   "name": "python3"
  },
  "language_info": {
   "codemirror_mode": {
    "name": "ipython",
    "version": 3
   },
   "file_extension": ".py",
   "mimetype": "text/x-python",
   "name": "python",
   "nbconvert_exporter": "python",
   "pygments_lexer": "ipython3",
   "version": "3.12.2"
  }
 },
 "nbformat": 4,
 "nbformat_minor": 2
}
