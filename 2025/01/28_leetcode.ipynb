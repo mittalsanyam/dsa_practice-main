{
 "cells": [
  {
   "cell_type": "markdown",
   "metadata": {},
   "source": [
    "# 2658. Maximum Number of Fish in a Grid\n",
    "**Level: Medium**\n",
    "\n",
    "[Problem Link](https://leetcode.com/problems/maximum-number-of-fish-in-a-grid/description/)\n",
    "\n",
    "You are given a 0-indexed 2D matrix grid of size m x n, where (r, c) represents:\n",
    "\n",
    "A land cell if grid[r][c] = 0, or\n",
    "A water cell containing grid[r][c] fish, if grid[r][c] > 0.\n",
    "A fisher can start at any water cell (r, c) and can do the following operations any number of times:\n",
    "\n",
    "Catch all the fish at cell (r, c), or\n",
    "Move to any adjacent water cell.\n",
    "Return the maximum number of fish the fisher can catch if he chooses his starting cell optimally, or 0 if no water cell exists.\n",
    "\n",
    "An adjacent cell of the cell (r, c), is one of the cells (r, c + 1), (r, c - 1), (r + 1, c) or (r - 1, c) if it exists.\n",
    "\n",
    "## Examples\n",
    "\n",
    "### Example 1\n",
    "Input: grid = [[0,2,1,0],[4,0,0,3],[1,0,0,4],[0,3,2,0]]\n",
    "\n",
    "Output: 7\n",
    "\n",
    "Explanation: The fisher can start at cell (1,3) and collect 3 fish, then move to cell (2,3) and collect 4 fish.\n",
    "\n",
    "### Example 2\n",
    "Input: grid = [[1,0,0,0],[0,0,0,0],[0,0,0,0],[0,0,0,1]]\n",
    "\n",
    "Output: 1\n",
    "\n",
    "Explanation: The fisher can start at cells (0,0) or (3,3) and collect a single fish.\n",
    "\n",
    "## Constraints\n",
    "\n",
    "- m == grid.length\n",
    "- n == grid[i].length\n",
    "- 1 <= m, n <= 10\n",
    "- 0 <= grid[i][j] <= 10"
   ]
  },
  {
   "cell_type": "markdown",
   "metadata": {},
   "source": [
    "## Solution"
   ]
  },
  {
   "cell_type": "code",
   "execution_count": 38,
   "metadata": {},
   "outputs": [
    {
     "name": "stdout",
     "output_type": "stream",
     "text": [
      "7\n"
     ]
    }
   ],
   "source": [
    "def findMaxFish(grid):\n",
    "    stack = []\n",
    "    m,n=len(grid),len(grid[0])\n",
    "    maxFish=0\n",
    "    visited={}\n",
    "    component={}\n",
    "    component_fish={}\n",
    "    for i in range(m):\n",
    "        for j in range(n):\n",
    "            if grid[i][j]>0:\n",
    "                stack.append((i,j))\n",
    "                visited[(i,j)]=False\n",
    "                component[(i,j)]=-1\n",
    "    dirs = [(1,0),(-1,0),(0,1),(0,-1)]\n",
    "    curr_component=-1\n",
    "    while stack:\n",
    "        x,y = stack.pop()\n",
    "        if visited[(x,y)]:\n",
    "            continue\n",
    "        if component[(x,y)]==-1:\n",
    "            curr_component+=1\n",
    "            component[(x,y)]=curr_component\n",
    "            component_fish[curr_component]=0\n",
    "        component_fish[curr_component]+=grid[x][y]\n",
    "        visited[(x,y)]=True\n",
    "        if maxFish<component_fish[curr_component]:\n",
    "            maxFish=component_fish[curr_component]\n",
    "        for (dx,dy) in dirs:\n",
    "            u,v = x+dx,y+dy\n",
    "            if 0<=u<m and 0<=v<n and grid[u][v]>0 and not visited[(u,v)]:\n",
    "                component[(u,v)]=curr_component\n",
    "                stack.append((u,v))\n",
    "    return maxFish\n",
    "\n",
    "print(findMaxFish([[0,2,1,0],[4,0,0,3],[1,0,0,4],[0,3,2,0]]))"
   ]
  },
  {
   "cell_type": "code",
   "execution_count": 39,
   "metadata": {},
   "outputs": [
    {
     "name": "stdout",
     "output_type": "stream",
     "text": [
      "1\n"
     ]
    }
   ],
   "source": [
    "print(findMaxFish([[1,0,0,0],[0,0,0,0],[0,0,0,0],[0,0,0,1]]))"
   ]
  },
  {
   "cell_type": "code",
   "execution_count": 40,
   "metadata": {},
   "outputs": [
    {
     "name": "stdout",
     "output_type": "stream",
     "text": [
      "17\n"
     ]
    }
   ],
   "source": [
    "print(findMaxFish([[0,5],[8,4]]))"
   ]
  },
  {
   "cell_type": "code",
   "execution_count": 41,
   "metadata": {},
   "outputs": [
    {
     "name": "stdout",
     "output_type": "stream",
     "text": [
      "24\n"
     ]
    }
   ],
   "source": [
    "print(findMaxFish([[4,5,5],[0,10,0]]))"
   ]
  },
  {
   "cell_type": "code",
   "execution_count": null,
   "metadata": {},
   "outputs": [],
   "source": []
  }
 ],
 "metadata": {
  "kernelspec": {
   "display_name": "base",
   "language": "python",
   "name": "python3"
  },
  "language_info": {
   "codemirror_mode": {
    "name": "ipython",
    "version": 3
   },
   "file_extension": ".py",
   "mimetype": "text/x-python",
   "name": "python",
   "nbconvert_exporter": "python",
   "pygments_lexer": "ipython3",
   "version": "3.12.2"
  }
 },
 "nbformat": 4,
 "nbformat_minor": 2
}
