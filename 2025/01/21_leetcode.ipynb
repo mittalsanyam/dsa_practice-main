{
 "cells": [
  {
   "cell_type": "markdown",
   "metadata": {},
   "source": [
    "# 2017. Grid Game\n",
    "\n",
    "**Level: Medium**\n",
    "\n",
    "[Problem Link](https://leetcode.com/problems/grid-game/description/)\n",
    "\n",
    "You are given a 0-indexed 2D array grid of size 2 x n, where grid[r][c] represents the number of points at position (r, c) on the matrix. Two robots are playing a game on this matrix.\n",
    "\n",
    "Both robots initially start at (0, 0) and want to reach (1, n-1). Each robot may only move to the right ((r, c) to (r, c + 1)) or down ((r, c) to (r + 1, c)).\n",
    "\n",
    "At the start of the game, the first robot moves from (0, 0) to (1, n-1), collecting all the points from the cells on its path. For all cells (r, c) traversed on the path, grid[r][c] is set to 0. Then, the second robot moves from (0, 0) to (1, n-1), collecting the points on its path. Note that their paths may intersect with one another.\n",
    "\n",
    "The first robot wants to minimize the number of points collected by the second robot. In contrast, the second robot wants to maximize the number of points it collects. If both robots play optimally, return the number of points collected by the second robot.\n",
    "\n",
    "## Examples \n",
    "\n",
    "### Example 1\n",
    "\n",
    "Input: grid = [[2,5,4],[1,5,1]]\n",
    "\n",
    "Output: 4\n",
    "\n",
    "Explanation: The optimal path taken by the first robot is shown in red, and the optimal path taken by the second robot is shown in blue.\n",
    "\n",
    "The cells visited by the first robot are set to 0.\n",
    "\n",
    "The second robot will collect 0 + 0 + 4 + 0 = 4 points.\n",
    "\n",
    "### Example 2:\n",
    "\n",
    "Input: grid = [[3,3,1],[8,5,2]]\n",
    "\n",
    "Output: 4\n",
    "\n",
    "Explanation: The optimal path taken by the first robot is shown in red, and the optimal path taken by the second robot is shown in blue.\n",
    "\n",
    "The cells visited by the first robot are set to 0.\n",
    "\n",
    "The second robot will collect 0 + 3 + 1 + 0 = 4 points.\n",
    "\n",
    "### Example 3\n",
    "\n",
    "Input: grid = [[1,3,1,15],[1,3,3,1]]\n",
    "\n",
    "Output: 7\n",
    "\n",
    "Explanation: The optimal path taken by the first robot is shown in red, and the optimal path taken by the second robot is shown in blue.\n",
    "\n",
    "The cells visited by the first robot are set to 0.\n",
    "\n",
    "The second robot will collect 0 + 1 + 3 + 3 + 0 = 7 points.\n",
    "\n",
    "## Constraints:\n",
    "\n",
    "- grid.length == 2\n",
    "- n == grid[r].length\n",
    "- $1 <= n <= 5 * 10^4$\n",
    "- $1 <= grid[r][c] <= 10^5$"
   ]
  },
  {
   "cell_type": "markdown",
   "metadata": {},
   "source": [
    "## Solution"
   ]
  },
  {
   "cell_type": "code",
   "execution_count": 46,
   "metadata": {},
   "outputs": [
    {
     "name": "stdout",
     "output_type": "stream",
     "text": [
      "63\n"
     ]
    }
   ],
   "source": [
    "from collections import deque\n",
    "def gridGame(grid):\n",
    "    n=len(grid[0])\n",
    "    firstRowSum,secondRowSum=0,0\n",
    "    for i in range(n):\n",
    "        firstRowSum+=grid[0][i]\n",
    "    minimumSum=float('inf')\n",
    "    for j in range(n):\n",
    "        firstRowSum-=grid[0][j]\n",
    "        minimumSum = min(minimumSum,max(firstRowSum,secondRowSum))\n",
    "        secondRowSum+=grid[1][j]\n",
    "    return minimumSum\n",
    "    \n",
    "\n",
    "print(gridGame([[20,3,20,17,2,12,15,17,4,15],[20,10,13,14,15,5,2,3,14,3]]))"
   ]
  },
  {
   "cell_type": "code",
   "execution_count": 47,
   "metadata": {},
   "outputs": [
    {
     "name": "stdout",
     "output_type": "stream",
     "text": [
      "4\n"
     ]
    }
   ],
   "source": [
    "print(gridGame([[2,5,4],[1,5,1]]))"
   ]
  },
  {
   "cell_type": "code",
   "execution_count": 48,
   "metadata": {},
   "outputs": [
    {
     "name": "stdout",
     "output_type": "stream",
     "text": [
      "4\n"
     ]
    }
   ],
   "source": [
    "print(gridGame([[3,3,1],[8,5,2]]))"
   ]
  }
 ],
 "metadata": {
  "kernelspec": {
   "display_name": "base",
   "language": "python",
   "name": "python3"
  },
  "language_info": {
   "codemirror_mode": {
    "name": "ipython",
    "version": 3
   },
   "file_extension": ".py",
   "mimetype": "text/x-python",
   "name": "python",
   "nbconvert_exporter": "python",
   "pygments_lexer": "ipython3",
   "version": "3.12.2"
  }
 },
 "nbformat": 4,
 "nbformat_minor": 2
}
