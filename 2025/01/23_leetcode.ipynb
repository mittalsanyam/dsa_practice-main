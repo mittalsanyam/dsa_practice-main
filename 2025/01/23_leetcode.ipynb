{
 "cells": [
  {
   "cell_type": "markdown",
   "metadata": {},
   "source": [
    "# 1267. Count Servers that Communicate\n",
    "**Level: Medium**\n",
    "\n",
    "[Problem Link](https://leetcode.com/problems/count-servers-that-communicate/description/)\n",
    "\n",
    "You are given a map of a server center, represented as a `m * n` integer matrix `grid`, where 1 means that on that cell there is a server and 0 means that it is no server. Two servers are said to communicate if they are on the same row or on the same column.\n",
    "\n",
    "Return the number of servers that communicate with any other server.\n",
    "\n",
    "## Examples\n",
    "### Example 1\n",
    "Input: grid = [[1,0],[0,1]]\n",
    "\n",
    "Output: 0\n",
    "\n",
    "Explanation: No servers can communicate with others.\n",
    "\n",
    "### Example 2\n",
    "Input: grid = [[1,0],[1,1]]\n",
    "\n",
    "Output: 3\n",
    "\n",
    "Explanation: All three servers can communicate with at least one other server.\n",
    "\n",
    "### Example 3\n",
    "\n",
    "Input: grid = [[1,1,0,0],[0,0,1,0],[0,0,1,0],[0,0,0,1]]\n",
    "\n",
    "Output: 4\n",
    "\n",
    "Explanation: The two servers in the first row can communicate with each other. The two servers in the third column can communicate with each other. The server at right bottom corner can't communicate with any other server\n",
    "\n",
    "## Constraints:\n",
    "\n",
    "- m == grid.length\n",
    "- n == grid[i].length\n",
    "- 1 <= m <= 250\n",
    "- 1 <= n <= 250\n",
    "- grid[i][j] == 0 or 1"
   ]
  },
  {
   "cell_type": "markdown",
   "metadata": {},
   "source": [
    "## Solution"
   ]
  },
  {
   "cell_type": "code",
   "execution_count": 71,
   "metadata": {},
   "outputs": [
    {
     "name": "stdout",
     "output_type": "stream",
     "text": [
      "0\n"
     ]
    }
   ],
   "source": [
    "from collections import deque\n",
    "def countServers(grid):\n",
    "    m,n=len(grid),len(grid[0])\n",
    "    rowSum = [sum(grid[i]) for i in range(m)]\n",
    "    colSum = [0]*n\n",
    "    serverlist=[]\n",
    "    for i in range(m):\n",
    "        for j in range(n):\n",
    "            if grid[i][j]==1:\n",
    "                serverlist.append((i,j))\n",
    "            colSum[j]+=grid[i][j]\n",
    "    count=0\n",
    "    for (i,j) in serverlist:\n",
    "        if (rowSum[i]>1 or colSum[j]>1):\n",
    "            count+=1\n",
    "    return count\n",
    "\n",
    "print(countServers([[1,0],[0,1]]))"
   ]
  },
  {
   "cell_type": "code",
   "execution_count": 72,
   "metadata": {},
   "outputs": [
    {
     "name": "stdout",
     "output_type": "stream",
     "text": [
      "3\n"
     ]
    }
   ],
   "source": [
    "print(countServers([[1,0],[1,1]]))"
   ]
  },
  {
   "cell_type": "code",
   "execution_count": 73,
   "metadata": {},
   "outputs": [
    {
     "name": "stdout",
     "output_type": "stream",
     "text": [
      "4\n"
     ]
    }
   ],
   "source": [
    "print(countServers([[1,1,0,0],[0,0,1,0],[0,0,1,0],[0,0,0,1]]))"
   ]
  },
  {
   "cell_type": "code",
   "execution_count": 74,
   "metadata": {},
   "outputs": [
    {
     "name": "stdout",
     "output_type": "stream",
     "text": [
      "5\n"
     ]
    }
   ],
   "source": [
    "print(countServers([[1,0,0,1,0],[0,1,0,1,0],[0,0,0,1,0]]))"
   ]
  }
 ],
 "metadata": {
  "kernelspec": {
   "display_name": "base",
   "language": "python",
   "name": "python3"
  },
  "language_info": {
   "codemirror_mode": {
    "name": "ipython",
    "version": 3
   },
   "file_extension": ".py",
   "mimetype": "text/x-python",
   "name": "python",
   "nbconvert_exporter": "python",
   "pygments_lexer": "ipython3",
   "version": "3.12.2"
  }
 },
 "nbformat": 4,
 "nbformat_minor": 2
}
