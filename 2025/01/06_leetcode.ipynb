{
 "cells": [
  {
   "cell_type": "markdown",
   "metadata": {},
   "source": [
    "# 1769. Minimum Number of Operations to Move All Balls to Each Box\n",
    "\n",
    "**Level: Medium**\n",
    "\n",
    "[Problem Link](https://leetcode.com/problems/minimum-number-of-operations-to-move-all-balls-to-each-box/description/)\n",
    "\n",
    "You have `n` boxes. You are given a binary string `boxes` of length `n`, where `boxes[i]` is `'0'` if the $i^th$ box is empty, and `'1'` if it contains one ball.\n",
    "\n",
    "In one operation, you can move one ball from a box to an adjacent box. Box `i` is adjacent to box `j` if $abs(i - j) == 1$. Note that after doing so, there may be more than one ball in some boxes.\n",
    "\n",
    "Return an array `answer` of size `n`, where `answer[i]` is the minimum number of operations needed to move all the balls to the ith box.\n",
    "\n",
    "Each `answer[i]` is calculated considering the initial state of the boxes.\n",
    "\n",
    "## Examples\n",
    "\n",
    "### Example 1:\n",
    "\n",
    "Input: boxes = \"110\"\n",
    "\n",
    "Output: [1,1,3]\n",
    "\n",
    "Explanation: The answer for each box is as follows:\n",
    "\n",
    "1) First box: you will have to move one ball from the second box to the first box in one operation.\n",
    "\n",
    "2) Second box: you will have to move one ball from the first box to the second box in one operation.\n",
    "\n",
    "3) Third box: you will have to move one ball from the first box to the third box in two operations, and move one ball from the second box to the third box in one operation.\n",
    "\n",
    "### Example 2:\n",
    "\n",
    "Input: boxes = \"001011\"\n",
    "\n",
    "Output: [11,8,5,4,3,4]\n",
    "\n",
    "## Constraints:\n",
    "\n",
    "- $n == boxes.length$\n",
    "- $1 <= n <= 2000$\n",
    "- `boxes[i]` is either `'0'` or `'1'`"
   ]
  },
  {
   "cell_type": "markdown",
   "metadata": {},
   "source": [
    "## Solution"
   ]
  },
  {
   "cell_type": "code",
   "execution_count": 7,
   "metadata": {},
   "outputs": [
    {
     "name": "stdout",
     "output_type": "stream",
     "text": [
      "[11, 8, 5, 4, 3, 4]\n"
     ]
    }
   ],
   "source": [
    "def minOperations(boxes):\n",
    "    n=len(boxes)\n",
    "    prefix = [0]*n\n",
    "    numBalls=0\n",
    "    if boxes[0]=='1':\n",
    "        numBalls+=1\n",
    "    for i in range(1,n):\n",
    "        prefix[i]=prefix[i-1]+numBalls\n",
    "        if boxes[i]=='1':\n",
    "            numBalls+=1\n",
    "    numBalls=0\n",
    "    suffix=[0]*n\n",
    "    if boxes[-1]=='1':\n",
    "        numBalls+=1\n",
    "    for i in range(n-2,-1,-1):\n",
    "        suffix[i]=suffix[i+1]+numBalls\n",
    "        if boxes[i]=='1':\n",
    "            numBalls+=1\n",
    "    answer=[]\n",
    "    for i in range(n):\n",
    "        answer.append(prefix[i]+suffix[i])\n",
    "    return answer\n",
    "\n",
    "print(minOperations('001011'))"
   ]
  },
  {
   "cell_type": "code",
   "execution_count": 8,
   "metadata": {},
   "outputs": [
    {
     "name": "stdout",
     "output_type": "stream",
     "text": [
      "[1, 1, 3]\n"
     ]
    }
   ],
   "source": [
    "print(minOperations('110'))"
   ]
  }
 ],
 "metadata": {
  "kernelspec": {
   "display_name": "base",
   "language": "python",
   "name": "python3"
  },
  "language_info": {
   "codemirror_mode": {
    "name": "ipython",
    "version": 3
   },
   "file_extension": ".py",
   "mimetype": "text/x-python",
   "name": "python",
   "nbconvert_exporter": "python",
   "pygments_lexer": "ipython3",
   "version": "3.12.2"
  }
 },
 "nbformat": 4,
 "nbformat_minor": 2
}
