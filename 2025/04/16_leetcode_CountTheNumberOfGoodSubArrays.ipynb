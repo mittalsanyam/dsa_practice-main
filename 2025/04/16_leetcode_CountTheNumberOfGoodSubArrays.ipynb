{
 "cells": [
  {
   "cell_type": "markdown",
   "id": "d2369553",
   "metadata": {},
   "source": [
    "# 2537. Count the Number of Good Subarrays\n",
    "\n",
    "**Level: Medium**\n",
    "\n",
    "[Problem Link](https://leetcode.com/problems/count-the-number-of-good-subarrays/description/)\n",
    "\n",
    "Given an integer array nums and an integer k, return the number of good subarrays of nums.\n",
    "\n",
    "A subarray arr is good if there are at least k pairs of indices (i, j) such that i < j and arr[i] == arr[j].\n",
    "\n",
    "A subarray is a contiguous non-empty sequence of elements within an array.\n",
    "\n",
    "## Examples\n",
    "\n",
    "### Example 1:\n",
    "\n",
    "Input: nums = [1,1,1,1,1], k = 10\n",
    "\n",
    "Output: 1\n",
    "\n",
    "Explanation: The only good subarray is the array nums itself.\n",
    "\n",
    "### Example 2:\n",
    "\n",
    "Input: nums = [3,1,4,3,2,2,4], k = 2\n",
    "\n",
    "Output: 4\n",
    "\n",
    "Explanation: There are 4 different good subarrays:\n",
    "- [3,1,4,3,2,2] that has 2 pairs.\n",
    "- [3,1,4,3,2,2,4] that has 3 pairs.\n",
    "- [1,4,3,2,2,4] that has 2 pairs.\n",
    "- [4,3,2,2,4] that has 2 pairs.\n",
    " \n",
    "\n",
    "## Constraints:\n",
    "- $1 <= nums.length <= 10^5$\n",
    "- $1 <= nums[i], k <= 10^9$"
   ]
  },
  {
   "cell_type": "markdown",
   "id": "0e18166b",
   "metadata": {},
   "source": [
    "## Solution"
   ]
  },
  {
   "cell_type": "code",
   "execution_count": 27,
   "id": "bc82ccc3",
   "metadata": {},
   "outputs": [],
   "source": [
    "from collections import Counter\n",
    "def countGood(nums,k):\n",
    "    n = len(nums)\n",
    "    same,r = 0,-1\n",
    "    counter = Counter()\n",
    "    ans=0\n",
    "    for l in range(n):\n",
    "        while same<k and r+1<n:\n",
    "            r+=1\n",
    "            same+=counter[nums[r]]\n",
    "            counter[nums[r]]+=1\n",
    "        if same>=k:\n",
    "            ans+=n-r\n",
    "        counter[nums[l]]-=1\n",
    "        same-=counter[nums[l]]\n",
    "    return ans"
   ]
  },
  {
   "cell_type": "code",
   "execution_count": 28,
   "id": "652eb195",
   "metadata": {},
   "outputs": [
    {
     "name": "stdout",
     "output_type": "stream",
     "text": [
      "1\n"
     ]
    }
   ],
   "source": [
    "print(countGood([1,1,1,1,1],10))"
   ]
  }
 ],
 "metadata": {
  "kernelspec": {
   "display_name": "base",
   "language": "python",
   "name": "python3"
  },
  "language_info": {
   "codemirror_mode": {
    "name": "ipython",
    "version": 3
   },
   "file_extension": ".py",
   "mimetype": "text/x-python",
   "name": "python",
   "nbconvert_exporter": "python",
   "pygments_lexer": "ipython3",
   "version": "3.12.2"
  }
 },
 "nbformat": 4,
 "nbformat_minor": 5
}
