{
 "cells": [
  {
   "cell_type": "markdown",
   "id": "f7cbb425",
   "metadata": {},
   "source": [
    "# 2563. Count the Number of Fair Pairs\n",
    "**Level: Medium**\n",
    "\n",
    "[Problem Link](https://leetcode.com/problems/count-the-number-of-fair-pairs/description)\n",
    "\n",
    "Given a 0-indexed integer array nums of size n and two integers lower and upper, return the number of fair pairs.\n",
    "\n",
    "A pair (i, j) is fair if:\n",
    "\n",
    "- 0 <= i < j < n, and\n",
    "\n",
    "- lower <= nums[i] + nums[j] <= upper\n",
    "\n",
    "## Examples\n",
    "### Example 1:\n",
    "\n",
    "Input: nums = [0,1,7,4,4,5], lower = 3, upper = 6\n",
    "\n",
    "Output: 6\n",
    "\n",
    "Explanation: There are 6 fair pairs: (0,3), (0,4), (0,5), (1,3), (1,4), and (1,5).\n",
    "\n",
    "### Example 2:\n",
    "\n",
    "Input: nums = [1,7,9,2,5], lower = 11, upper = 11\n",
    "\n",
    "Output: 1\n",
    "\n",
    "Explanation: There is a single fair pair: (2,3).\n",
    "\n",
    "## Constraints\n",
    "- $1 <= nums.length <= 10^5$\n",
    "- $nums.length == n$\n",
    "- $-10^9 <= nums[i] <= 10^9$\n",
    "- $-10^9 <= lower <= upper <= 10^9$"
   ]
  },
  {
   "cell_type": "markdown",
   "id": "0e75a448",
   "metadata": {},
   "source": [
    "## Solution"
   ]
  },
  {
   "cell_type": "code",
   "execution_count": 16,
   "id": "43ead9f2",
   "metadata": {},
   "outputs": [],
   "source": [
    "def findBound(nums,l,r,elem):\n",
    "    while l<=r:\n",
    "        mid = l+((r-l)//2)\n",
    "        if nums[mid]>=elem:\n",
    "            r=mid-1\n",
    "        else:\n",
    "            l=mid+1\n",
    "    return l\n",
    "\n",
    "def countFairPairs(nums,lower,upper):\n",
    "    nums = sorted(nums)\n",
    "    n = len(nums)\n",
    "    count=0\n",
    "    for i in range(n):\n",
    "        lower_bound = findBound(nums,i+1,n-1,lower-nums[i])\n",
    "        upper_bound = findBound(nums,i+1,n-1,upper-nums[i]+1)\n",
    "        count += upper_bound-lower_bound\n",
    "    return count"
   ]
  },
  {
   "cell_type": "code",
   "execution_count": 17,
   "id": "d7334d72",
   "metadata": {},
   "outputs": [
    {
     "name": "stdout",
     "output_type": "stream",
     "text": [
      "6\n"
     ]
    }
   ],
   "source": [
    "print(countFairPairs([0,1,7,4,4,5],3,6))"
   ]
  },
  {
   "cell_type": "code",
   "execution_count": 18,
   "id": "8c3dcca5",
   "metadata": {},
   "outputs": [
    {
     "name": "stdout",
     "output_type": "stream",
     "text": [
      "1\n"
     ]
    }
   ],
   "source": [
    "print(countFairPairs([1,7,9,2,5],11,11))"
   ]
  }
 ],
 "metadata": {
  "kernelspec": {
   "display_name": "base",
   "language": "python",
   "name": "python3"
  },
  "language_info": {
   "codemirror_mode": {
    "name": "ipython",
    "version": 3
   },
   "file_extension": ".py",
   "mimetype": "text/x-python",
   "name": "python",
   "nbconvert_exporter": "python",
   "pygments_lexer": "ipython3",
   "version": "3.12.2"
  }
 },
 "nbformat": 4,
 "nbformat_minor": 5
}
