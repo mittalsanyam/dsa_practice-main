{
 "cells": [
  {
   "cell_type": "markdown",
   "id": "b9a66565",
   "metadata": {},
   "source": [
    "# 2145. Count the Hidden Sequences\n",
    "**Level: Medium**\n",
    "\n",
    "[Problem Statement](https://leetcode.com/problems/count-the-hidden-sequences/description/)\n",
    "\n",
    "You are given a 0-indexed array of n integers differences, which describes the differences between each pair of consecutive integers of a hidden sequence of length (n + 1). More formally, call the hidden sequence hidden, then we have that differences[i] = hidden[i + 1] - hidden[i].\n",
    "\n",
    "You are further given two integers lower and upper that describe the inclusive range of values [lower, upper] that the hidden sequence can contain.\n",
    "\n",
    "For example, given differences = [1, -3, 4], lower = 1, upper = 6, the hidden sequence is a sequence of length 4 whose elements are in between 1 and 6 (inclusive).\n",
    "\n",
    "[3, 4, 1, 5] and [4, 5, 2, 6] are possible hidden sequences.\n",
    "\n",
    "[5, 6, 3, 7] is not possible since it contains an element greater than 6.\n",
    "\n",
    "[1, 2, 3, 4] is not possible since the differences are not correct.\n",
    "\n",
    "Return the number of possible hidden sequences there are. If there are no possible sequences, return 0.\n",
    "\n",
    "## Examples\n",
    "\n",
    "### Example 1:\n",
    "\n",
    "Input: differences = [1,-3,4], lower = 1, upper = 6\n",
    "\n",
    "Output: 2\n",
    "\n",
    "Explanation: The possible hidden sequences are:\n",
    "\n",
    "- [3, 4, 1, 5]\n",
    "\n",
    "- [4, 5, 2, 6]\n",
    "\n",
    "Thus, we return 2.\n",
    "\n",
    "### Example 2:\n",
    "\n",
    "Input: differences = [3,-4,5,1,-2], lower = -4, upper = 5\n",
    "\n",
    "Output: 4\n",
    "\n",
    "Explanation: The possible hidden sequences are:\n",
    "- [-3, 0, -4, 1, 2, 0]\n",
    "- [-2, 1, -3, 2, 3, 1]\n",
    "- [-1, 2, -2, 3, 4, 2]\n",
    "- [0, 3, -1, 4, 5, 3]\n",
    "\n",
    "Thus, we return 4.\n",
    "\n",
    "### Example 3:\n",
    "\n",
    "Input: differences = [4,-7,2], lower = 3, upper = 6\n",
    "\n",
    "Output: 0\n",
    "\n",
    "Explanation: There are no possible hidden sequences. Thus, we return 0.\n",
    " \n",
    "## Constraints:\n",
    "- n == differences.length\n",
    "- $1 <= n <= 10^5$\n",
    "- $-10^5 <= differences[i] <= 10^5$\n",
    "- $-10^5 <= lower <= upper <= 10^5$"
   ]
  },
  {
   "cell_type": "markdown",
   "id": "24d9e684",
   "metadata": {},
   "source": [
    "## Solution"
   ]
  },
  {
   "cell_type": "code",
   "execution_count": 9,
   "id": "19b473c4",
   "metadata": {},
   "outputs": [],
   "source": [
    "def numberOfArrays(differences,lower,upper):\n",
    "    n = len(differences)\n",
    "    min_elem,max_elem=0,0\n",
    "    curr=0\n",
    "    for i in range(n):\n",
    "        curr += differences[i]\n",
    "        min_elem = min(min_elem,curr)\n",
    "        max_elem = max(max_elem,curr)\n",
    "    return max((upper-lower+1)-(max_elem-min_elem),0)"
   ]
  },
  {
   "cell_type": "code",
   "execution_count": 10,
   "id": "8a37bb73",
   "metadata": {},
   "outputs": [
    {
     "name": "stdout",
     "output_type": "stream",
     "text": [
      "2\n"
     ]
    }
   ],
   "source": [
    "print(numberOfArrays([1,-3,4],1,6))"
   ]
  },
  {
   "cell_type": "code",
   "execution_count": 11,
   "id": "25994dcc",
   "metadata": {},
   "outputs": [
    {
     "name": "stdout",
     "output_type": "stream",
     "text": [
      "4\n"
     ]
    }
   ],
   "source": [
    "print(numberOfArrays([3,-4,5,1,-2],-4,5))"
   ]
  },
  {
   "cell_type": "code",
   "execution_count": 12,
   "id": "ea16095f",
   "metadata": {},
   "outputs": [
    {
     "name": "stdout",
     "output_type": "stream",
     "text": [
      "0\n"
     ]
    }
   ],
   "source": [
    "print(numberOfArrays([4,-7,2],3,6))"
   ]
  }
 ],
 "metadata": {
  "kernelspec": {
   "display_name": "base",
   "language": "python",
   "name": "python3"
  },
  "language_info": {
   "codemirror_mode": {
    "name": "ipython",
    "version": 3
   },
   "file_extension": ".py",
   "mimetype": "text/x-python",
   "name": "python",
   "nbconvert_exporter": "python",
   "pygments_lexer": "ipython3",
   "version": "3.12.2"
  }
 },
 "nbformat": 4,
 "nbformat_minor": 5
}
