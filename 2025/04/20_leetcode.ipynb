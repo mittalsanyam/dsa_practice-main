{
 "cells": [
  {
   "cell_type": "markdown",
   "id": "3430e346",
   "metadata": {},
   "source": [
    "# 781. Rabbits in Forest\n",
    "\n",
    "[Problem Link](https://leetcode.com/problems/rabbits-in-forest/description/)\n",
    "\n",
    "There is a forest with an unknown number of rabbits. We asked n rabbits \"How many rabbits have the same color as you?\" and collected the answers in an integer array answers where answers[i] is the answer of the ith rabbit.\n",
    "\n",
    "Given the array answers, return the minimum number of rabbits that could be in the forest.\n",
    "\n",
    "## Examples\n",
    "\n",
    "### Example 1:\n",
    "Input: answers = [1,1,2]\n",
    "\n",
    "Output: 5\n",
    "\n",
    "Explanation:\n",
    "The two rabbits that answered \"1\" could both be the same color, say red.\n",
    "\n",
    "The rabbit that answered \"2\" can't be red or the answers would be inconsistent.\n",
    "\n",
    "Say the rabbit that answered \"2\" was blue.\n",
    "\n",
    "Then there should be 2 other blue rabbits in the forest that didn't answer into the array.\n",
    "\n",
    "The smallest possible number of rabbits in the forest is therefore 5: 3 that answered plus 2 that didn't.\n",
    "\n",
    "### Example 2:\n",
    "Input: answers = [10,10,10]\n",
    "\n",
    "Output: 11\n",
    "\n",
    "## Constraints:\n",
    "- 1 <= answers.length <= 1000\n",
    "- 0 <= answers[i] < 1000"
   ]
  },
  {
   "cell_type": "markdown",
   "id": "6f19d26b",
   "metadata": {},
   "source": [
    "## Solution"
   ]
  },
  {
   "cell_type": "code",
   "execution_count": 1,
   "id": "e746aa23",
   "metadata": {},
   "outputs": [],
   "source": [
    "def numRabbits(answers):\n",
    "    n = len(answers)\n",
    "    freq = dict()\n",
    "    count=0\n",
    "    for i in range(n):\n",
    "        freq[answers[i]] = freq.get(answers[i],0)+1\n",
    "    for key in freq.keys():\n",
    "        gf = key+1\n",
    "        num_groups = (freq[key]//gf)\n",
    "        if freq[key]%gf!=0:\n",
    "            num_groups+=1\n",
    "        count+=gf*num_groups\n",
    "    return count"
   ]
  },
  {
   "cell_type": "code",
   "execution_count": 2,
   "id": "25d90f59",
   "metadata": {},
   "outputs": [
    {
     "name": "stdout",
     "output_type": "stream",
     "text": [
      "5\n"
     ]
    }
   ],
   "source": [
    "print(numRabbits([1,1,2]))"
   ]
  },
  {
   "cell_type": "code",
   "execution_count": 3,
   "id": "156349a6",
   "metadata": {},
   "outputs": [
    {
     "name": "stdout",
     "output_type": "stream",
     "text": [
      "11\n"
     ]
    }
   ],
   "source": [
    "print(numRabbits([10,10,10]))"
   ]
  },
  {
   "cell_type": "code",
   "execution_count": 4,
   "id": "39b91896",
   "metadata": {},
   "outputs": [
    {
     "name": "stdout",
     "output_type": "stream",
     "text": [
      "10\n"
     ]
    }
   ],
   "source": [
    "print(numRabbits([2,1,0,0,0,0,0]))"
   ]
  },
  {
   "cell_type": "code",
   "execution_count": null,
   "id": "aa228d58",
   "metadata": {},
   "outputs": [],
   "source": []
  }
 ],
 "metadata": {
  "kernelspec": {
   "display_name": "base",
   "language": "python",
   "name": "python3"
  },
  "language_info": {
   "codemirror_mode": {
    "name": "ipython",
    "version": 3
   },
   "file_extension": ".py",
   "mimetype": "text/x-python",
   "name": "python",
   "nbconvert_exporter": "python",
   "pygments_lexer": "ipython3",
   "version": "3.12.2"
  }
 },
 "nbformat": 4,
 "nbformat_minor": 5
}
