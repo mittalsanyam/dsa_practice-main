{
 "cells": [
  {
   "cell_type": "markdown",
   "id": "2601bb39",
   "metadata": {},
   "source": [
    "# 3375. Minimum Operations to Make Array Values Equal to K\n",
    "**Level: Easy**\n",
    "\n",
    "[Problem Link](https://leetcode.com/problems/minimum-operations-to-make-array-values-equal-to-k/description/)\n",
    "\n",
    "You are given an integer array nums and an integer k.\n",
    "\n",
    "An integer h is called valid if all values in the array that are strictly greater than h are identical.\n",
    "\n",
    "For example, if nums = [10, 8, 10, 8], a valid integer is h = 9 because all nums[i] > 9 are equal to 10, but 5 is not a valid integer.\n",
    "\n",
    "You are allowed to perform the following operation on nums:\n",
    "\n",
    "Select an integer h that is valid for the current values in nums.\n",
    "For each index i where nums[i] > h, set nums[i] to h.\n",
    "Return the minimum number of operations required to make every element in nums equal to k. If it is impossible to make all elements equal to k, return -1.\n",
    "\n",
    "## Examples\n",
    "\n",
    "### Example 1:\n",
    "\n",
    "Input: nums = [5,2,5,4,5], k = 2\n",
    "\n",
    "Output: 2\n",
    "\n",
    "Explanation:\n",
    "\n",
    "The operations can be performed in order using valid integers 4 and then 2.\n",
    "\n",
    "### Example 2:\n",
    "\n",
    "Input: nums = [2,1,2], k = 2\n",
    "\n",
    "Output: -1\n",
    "\n",
    "Explanation:\n",
    "\n",
    "It is impossible to make all the values equal to 2.\n",
    "\n",
    "### Example 3:\n",
    "\n",
    "Input: nums = [9,7,5,3], k = 1\n",
    "\n",
    "Output: 4\n",
    "\n",
    "Explanation:\n",
    "\n",
    "The operations can be performed using valid integers in the order 7, 5, 3, and 1.\n",
    "\n",
    "## Constraints:\n",
    "- 1 <= nums.length <= 100 \n",
    "- 1 <= nums[i] <= 100\n",
    "- 1 <= k <= 100"
   ]
  },
  {
   "cell_type": "markdown",
   "id": "4655d63b",
   "metadata": {},
   "source": [
    "## Solution"
   ]
  },
  {
   "cell_type": "code",
   "execution_count": 1,
   "id": "f4a7249d",
   "metadata": {},
   "outputs": [],
   "source": [
    "def minOperations(nums,k):\n",
    "    greater_than_k = set()\n",
    "    for n in nums:\n",
    "        if n<k:\n",
    "            return -1\n",
    "        elif n>k:\n",
    "            greater_than_k.add(n)\n",
    "    return len(greater_than_k)"
   ]
  },
  {
   "cell_type": "code",
   "execution_count": 4,
   "id": "42b44e0d",
   "metadata": {},
   "outputs": [
    {
     "name": "stdout",
     "output_type": "stream",
     "text": [
      "2\n"
     ]
    }
   ],
   "source": [
    "print(minOperations([5,2,5,4,5], 2))  # Output: 2"
   ]
  },
  {
   "cell_type": "code",
   "execution_count": 3,
   "id": "b0ad1897",
   "metadata": {},
   "outputs": [
    {
     "name": "stdout",
     "output_type": "stream",
     "text": [
      "-1\n"
     ]
    }
   ],
   "source": [
    "print(minOperations([2,1,2],2))"
   ]
  },
  {
   "cell_type": "code",
   "execution_count": 5,
   "id": "d609873f",
   "metadata": {},
   "outputs": [
    {
     "name": "stdout",
     "output_type": "stream",
     "text": [
      "4\n"
     ]
    }
   ],
   "source": [
    "print(minOperations([9,7,5,3],1))"
   ]
  }
 ],
 "metadata": {
  "kernelspec": {
   "display_name": "base",
   "language": "python",
   "name": "python3"
  },
  "language_info": {
   "codemirror_mode": {
    "name": "ipython",
    "version": 3
   },
   "file_extension": ".py",
   "mimetype": "text/x-python",
   "name": "python",
   "nbconvert_exporter": "python",
   "pygments_lexer": "ipython3",
   "version": "3.12.2"
  }
 },
 "nbformat": 4,
 "nbformat_minor": 5
}
