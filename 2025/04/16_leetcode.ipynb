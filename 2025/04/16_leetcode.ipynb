{
 "cells": [
  {
   "cell_type": "markdown",
   "id": "4298d516",
   "metadata": {},
   "source": [
    "# 2176. Count Equal and Divisible Pairs in an Array\n",
    "**Level: Easy**\n",
    "\n",
    "[Problem Link](https://leetcode.com/problems/count-equal-and-divisible-pairs-in-an-array/description/)\n",
    "\n",
    "Given a 0-indexed integer array nums of length n and an integer k, return the number of pairs (i, j) where 0 <= i < j < n, such that nums[i] == nums[j] and (i * j) is divisible by k.\n",
    "\n",
    "## Examples\n",
    "\n",
    "### Example 1:\n",
    "Input: nums = [3,1,2,2,2,1,3], k = 2\n",
    "\n",
    "Output: 4\n",
    "\n",
    "Explanation:\n",
    "\n",
    "There are 4 pairs that meet all the requirements:\n",
    "- nums[0] == nums[6], and 0 * 6 == 0, which is divisible by 2.\n",
    "- nums[2] == nums[3], and 2 * 3 == 6, which is divisible by 2.\n",
    "- nums[2] == nums[4], and 2 * 4 == 8, which is divisible by 2.\n",
    "- nums[3] == nums[4], and 3 * 4 == 12, which is divisible by 2.\n",
    "\n",
    "### Example 2:\n",
    "\n",
    "Input: nums = [1,2,3,4], k = 1\n",
    "\n",
    "Output: 0\n",
    "\n",
    "Explanation: Since no value in nums is repeated, there are no pairs (i,j) that meet all the requirements.\n",
    " \n",
    "\n",
    "## Constraints:\n",
    "- 1 <= nums.length <= 100\n",
    "- 1 <= nums[i], k <= 100"
   ]
  },
  {
   "cell_type": "markdown",
   "id": "55465fbd",
   "metadata": {},
   "source": [
    "## Solution"
   ]
  },
  {
   "cell_type": "code",
   "execution_count": 1,
   "id": "16f35c7f",
   "metadata": {},
   "outputs": [],
   "source": [
    "def countPairs(nums:list[int],k:int)->int:\n",
    "    n = len(nums)\n",
    "    count_of_pairs = 0\n",
    "    for i in range(n):\n",
    "        for j in range(i+1,n):\n",
    "            if nums[i]==nums[j] and (i*j)%k==0:\n",
    "                count_of_pairs+=1\n",
    "    return count_of_pairs"
   ]
  },
  {
   "cell_type": "code",
   "execution_count": 2,
   "id": "885ecfbe",
   "metadata": {},
   "outputs": [
    {
     "name": "stdout",
     "output_type": "stream",
     "text": [
      "4\n"
     ]
    }
   ],
   "source": [
    "print(countPairs([3,1,2,2,2,1,3],2))"
   ]
  },
  {
   "cell_type": "code",
   "execution_count": 3,
   "id": "b87de2e0",
   "metadata": {},
   "outputs": [
    {
     "name": "stdout",
     "output_type": "stream",
     "text": [
      "0\n"
     ]
    }
   ],
   "source": [
    "print(countPairs([1,2,3,4],1))"
   ]
  }
 ],
 "metadata": {
  "kernelspec": {
   "display_name": "base",
   "language": "python",
   "name": "python3"
  },
  "language_info": {
   "codemirror_mode": {
    "name": "ipython",
    "version": 3
   },
   "file_extension": ".py",
   "mimetype": "text/x-python",
   "name": "python",
   "nbconvert_exporter": "python",
   "pygments_lexer": "ipython3",
   "version": "3.12.2"
  }
 },
 "nbformat": 4,
 "nbformat_minor": 5
}
