{
 "cells": [
  {
   "cell_type": "markdown",
   "metadata": {},
   "source": [
    "# 2140. Solving Questions With Brainpower\n",
    "\n",
    "**Level: Medium**\n",
    "\n",
    "[Problem Link](https://leetcode.com/problems/solving-questions-with-brainpower/description/)\n",
    "\n",
    "You are given a 0-indexed 2D integer array questions where $questions[i] = [points_i, brainpower_i]$.\n",
    "\n",
    "The array describes the questions of an exam, where you have to process the questions in order (i.e., starting from question 0) and make a decision whether to solve or skip each question. Solving question i will earn you pointsi points but you will be unable to solve each of the next brainpoweri questions. If you skip question i, you get to make the decision on the next question.\n",
    "\n",
    "For example, given questions = [[3, 2], [4, 3], [4, 4], [2, 5]]:\n",
    "\n",
    "If question 0 is solved, you will earn 3 points but you will be unable to solve questions 1 and 2.\n",
    "\n",
    "If instead, question 0 is skipped and question 1 is solved, you will earn 4 points but you will be unable to solve questions 2 and 3.\n",
    "\n",
    "Return the maximum points you can earn for the exam.\n",
    "\n",
    "## Examples\n",
    "\n",
    "### Example 1:\n",
    "\n",
    "Input: questions = [[3,2],[4,3],[4,4],[2,5]]\n",
    "\n",
    "Output: 5\n",
    "\n",
    "Explanation: The maximum points can be earned by solving questions 0 and 3.\n",
    "- Solve question 0: Earn 3 points, will be unable to solve the next 2 questions\n",
    "- Unable to solve questions 1 and 2\n",
    "- Solve question 3: Earn 2 points\n",
    "\n",
    "Total points earned: 3 + 2 = 5. There is no other way to earn 5 or more points.\n",
    "\n",
    "### Example 2:\n",
    "\n",
    "Input: questions = [[1,1],[2,2],[3,3],[4,4],[5,5]]\n",
    "\n",
    "Output: 7\n",
    "\n",
    "Explanation: The maximum points can be earned by solving questions 1 and 4.\n",
    "- Skip question 0\n",
    "- Solve question 1: Earn 2 points, will be unable to solve the next 2 questions\n",
    "- Unable to solve questions 2 and 3\n",
    "- Solve question 4: Earn 5 points\n",
    "Total points earned: 2 + 5 = 7. There is no other way to earn 7 or more points.\n",
    " \n",
    "## Constraints:\n",
    "- $1 <= questions.length <= 10^5$\n",
    "- questions[i].length == 2\n",
    "- $1 <= points_i, brainpower_i <= 10^5$"
   ]
  },
  {
   "cell_type": "markdown",
   "metadata": {},
   "source": [
    "## Solution"
   ]
  },
  {
   "cell_type": "code",
   "execution_count": 6,
   "metadata": {},
   "outputs": [],
   "source": [
    "def mostPoints(questions):\n",
    "    n = len(questions)\n",
    "    dp = [0]*n\n",
    "    dp[n-1] = questions[n-1][0]\n",
    "    for i in range(n-2,-1,-1):\n",
    "        points,brainpower = questions[i]\n",
    "        next = min(i+brainpower+1,n)\n",
    "        solve = points+(dp[next] if next<n else 0)\n",
    "        skip= dp[i+1]\n",
    "        dp[i] = max(solve,skip)\n",
    "    return dp[0]\n",
    "    \n"
   ]
  },
  {
   "cell_type": "code",
   "execution_count": 7,
   "metadata": {},
   "outputs": [
    {
     "name": "stdout",
     "output_type": "stream",
     "text": [
      "5\n"
     ]
    }
   ],
   "source": [
    "print(mostPoints([[3,2],[4,3],[4,4],[2,5]]))"
   ]
  },
  {
   "cell_type": "code",
   "execution_count": 10,
   "metadata": {},
   "outputs": [
    {
     "name": "stdout",
     "output_type": "stream",
     "text": [
      "7\n"
     ]
    }
   ],
   "source": [
    "print(mostPoints([[1,1],[2,2],[3,3],[4,4],[5,5]]))"
   ]
  },
  {
   "cell_type": "code",
   "execution_count": null,
   "metadata": {},
   "outputs": [],
   "source": []
  }
 ],
 "metadata": {
  "kernelspec": {
   "display_name": "base",
   "language": "python",
   "name": "python3"
  },
  "language_info": {
   "codemirror_mode": {
    "name": "ipython",
    "version": 3
   },
   "file_extension": ".py",
   "mimetype": "text/x-python",
   "name": "python",
   "nbconvert_exporter": "python",
   "pygments_lexer": "ipython3",
   "version": "3.12.2"
  }
 },
 "nbformat": 4,
 "nbformat_minor": 2
}
