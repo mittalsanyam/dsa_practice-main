{
 "cells": [
  {
   "cell_type": "markdown",
   "id": "ed34f4da",
   "metadata": {},
   "source": [
    "# 2071. Maximum Number of Tasks You Can Assign\n",
    "**Level: Hard**\n",
    "\n",
    "[Problem Link](https://leetcode.com/problems/maximum-number-of-tasks-you-can-assign/description/)\n",
    "\n",
    "You have n tasks and m workers. Each task has a strength requirement stored in a 0-indexed integer array tasks, with the ith task requiring tasks[i] strength to complete. The strength of each worker is stored in a 0-indexed integer array workers, with the jth worker having workers[j] strength. Each worker can only be assigned to a single task and must have a strength greater than or equal to the task's strength requirement (i.e., workers[j] >= tasks[i]).\n",
    "\n",
    "Additionally, you have pills magical pills that will increase a worker's strength by strength. You can decide which workers receive the magical pills, however, you may only give each worker at most one magical pill.\n",
    "\n",
    "Given the 0-indexed integer arrays tasks and workers and the integers pills and strength, return the maximum number of tasks that can be completed.\n",
    "\n",
    "## Examples\n",
    "\n",
    "### Example 1:\n",
    "Input: tasks = [3,2,1], workers = [0,3,3], pills = 1, strength = 1\n",
    "\n",
    "Output: 3\n",
    "\n",
    "Explanation:\n",
    "\n",
    "We can assign the magical pill and tasks as follows:\n",
    "- Give the magical pill to worker 0.\n",
    "- Assign worker 0 to task 2 (0 + 1 >= 1)\n",
    "- Assign worker 1 to task 1 (3 >= 2)\n",
    "- Assign worker 2 to task 0 (3 >= 3)\n",
    "\n",
    "### Example 2:\n",
    "Input: tasks = [5,4], workers = [0,0,0], pills = 1, strength = 5\n",
    "\n",
    "Output: 1\n",
    "\n",
    "Explanation:\n",
    "\n",
    "We can assign the magical pill and tasks as follows:\n",
    "- Give the magical pill to worker 0.\n",
    "- Assign worker 0 to task 0 (0 + 5 >= 5)\n",
    "\n",
    "### Example 3:\n",
    "Input: tasks = [10,15,30], workers = [0,10,10,10,10], pills = 3, strength = 10\n",
    "\n",
    "Output: 2\n",
    "\n",
    "Explanation:\n",
    "We can assign the magical pills and tasks as follows:\n",
    "- Give the magical pill to worker 0 and worker 1.\n",
    "- Assign worker 0 to task 0 (0 + 10 >= 10)\n",
    "- Assign worker 1 to task 1 (10 + 10 >= 15)\n",
    "The last pill is not given because it will not make any worker strong enough for the last task.\n",
    " \n",
    "\n",
    "## Constraints:\n",
    "- n == tasks.length\n",
    "- m == workers.length\n",
    "- $1 <= n, m <= 5 * 10^4$\n",
    "- 0 <= pills <= m\n",
    "- $0 <= tasks[i], workers[j], strength <= 10^9$"
   ]
  },
  {
   "cell_type": "markdown",
   "id": "23c30e46",
   "metadata": {},
   "source": [
    "## Solution"
   ]
  },
  {
   "cell_type": "code",
   "execution_count": 5,
   "id": "4c9bc59a",
   "metadata": {},
   "outputs": [],
   "source": [
    "from sortedcontainers import SortedList\n",
    "def maxTaskAssign(tasks,workers,pills,strength):\n",
    "    n,m=len(tasks),len(workers)\n",
    "    tasks.sort()\n",
    "    workers.sort()\n",
    "    def check(mid):\n",
    "        p=pills\n",
    "        ws= SortedList(workers[m-mid:])\n",
    "        for i in range(mid-1,-1,-1):\n",
    "            if ws[-1]>=tasks[i]:\n",
    "                ws.pop()\n",
    "            else:\n",
    "                if p==0:\n",
    "                    return False\n",
    "                rep = ws.bisect_left(tasks[i]-strength)\n",
    "                if rep==len(ws):\n",
    "                    return False\n",
    "                p-=1\n",
    "                ws.pop(rep)\n",
    "        return True\n",
    "    left,right,ans = 1,min(m,n),0\n",
    "    while left<=right:\n",
    "        mid = (left+right)//2\n",
    "        if check(mid):\n",
    "            ans=mid\n",
    "            left=mid+1\n",
    "        else:\n",
    "            right=mid-1\n",
    "    return ans"
   ]
  },
  {
   "cell_type": "code",
   "execution_count": 6,
   "id": "ea859a57",
   "metadata": {},
   "outputs": [
    {
     "name": "stdout",
     "output_type": "stream",
     "text": [
      "3\n"
     ]
    }
   ],
   "source": [
    "print(maxTaskAssign([3,2,1],[0,3,3],1,1))"
   ]
  },
  {
   "cell_type": "code",
   "execution_count": null,
   "id": "1b1b5adf",
   "metadata": {},
   "outputs": [],
   "source": []
  }
 ],
 "metadata": {
  "kernelspec": {
   "display_name": "base",
   "language": "python",
   "name": "python3"
  },
  "language_info": {
   "codemirror_mode": {
    "name": "ipython",
    "version": 3
   },
   "file_extension": ".py",
   "mimetype": "text/x-python",
   "name": "python",
   "nbconvert_exporter": "python",
   "pygments_lexer": "ipython3",
   "version": "3.12.2"
  }
 },
 "nbformat": 4,
 "nbformat_minor": 5
}
