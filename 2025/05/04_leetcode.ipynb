{
 "cells": [
  {
   "cell_type": "markdown",
   "id": "04f6a1f2",
   "metadata": {},
   "source": [
    "# 1128. Number of Equivalent Domino Pairs\n",
    "**Level: Easy**\n",
    "\n",
    "[Problem Link](https://leetcode.com/problems/number-of-equivalent-domino-pairs/description/)\n",
    "\n",
    "Given a list of dominoes, dominoes[i] = [a, b] is equivalent to dominoes[j] = [c, d] if and only if either (a == c and b == d), or (a == d and b == c) - that is, one domino can be rotated to be equal to another domino.\n",
    "\n",
    "Return the number of pairs (i, j) for which 0 <= i < j < dominoes.length, and dominoes[i] is equivalent to dominoes[j].\n",
    "\n",
    "## Examples\n",
    "\n",
    "### Example 1\n",
    "\n",
    "Input: dominoes = [[1,2],[2,1],[3,4],[5,6]]\n",
    "Output: 1\n",
    "\n",
    "### Example 2\n",
    "\n",
    "Input: dominoes = [[1,2],[1,2],[1,1],[1,2],[2,2]]\n",
    "Output: 3\n",
    "\n",
    "## Constraints:\n",
    "- $1 <= dominoes.length <= 4 * 10^4$\n",
    "- $dominoes[i].length == 2$\n",
    "- $1 <= dominoes[i][j] <= 9$"
   ]
  },
  {
   "cell_type": "markdown",
   "id": "d7df5116",
   "metadata": {},
   "source": [
    "## Solution"
   ]
  },
  {
   "cell_type": "code",
   "execution_count": null,
   "id": "3bf7b7cf",
   "metadata": {},
   "outputs": [],
   "source": [
    "def numEquivDominoPairs(dominoes):\n",
    "    isPresent = {}\n",
    "    count=0\n",
    "    for [p,q] in dominoes:\n",
    "        if (p,q) in isPresent.keys():\n",
    "            isPresent[(p,q)]+=1\n",
    "        elif (q,p) in isPresent.keys():\n",
    "            isPresent[(q,p)]+=1\n",
    "        else:\n",
    "            isPresent[(p,q)]=1\n",
    "    for key in isPresent.keys():\n",
    "        count+=((isPresent[key]-1)*(isPresent[key]))//2\n",
    "    return count"
   ]
  },
  {
   "cell_type": "code",
   "execution_count": 10,
   "id": "a6a5e773",
   "metadata": {},
   "outputs": [
    {
     "name": "stdout",
     "output_type": "stream",
     "text": [
      "1\n"
     ]
    }
   ],
   "source": [
    "print(numEquivDominoPairs([[1,2],[2,1],[3,4],[5,6]]))"
   ]
  },
  {
   "cell_type": "code",
   "execution_count": 11,
   "id": "0ff14825",
   "metadata": {},
   "outputs": [
    {
     "name": "stdout",
     "output_type": "stream",
     "text": [
      "3\n"
     ]
    }
   ],
   "source": [
    "print(numEquivDominoPairs([[1,2],[1,2],[1,1],[1,2],[2,2]]))"
   ]
  },
  {
   "cell_type": "code",
   "execution_count": null,
   "id": "f712f2cf",
   "metadata": {},
   "outputs": [],
   "source": []
  }
 ],
 "metadata": {
  "kernelspec": {
   "display_name": "base",
   "language": "python",
   "name": "python3"
  },
  "language_info": {
   "codemirror_mode": {
    "name": "ipython",
    "version": 3
   },
   "file_extension": ".py",
   "mimetype": "text/x-python",
   "name": "python",
   "nbconvert_exporter": "python",
   "pygments_lexer": "ipython3",
   "version": "3.12.2"
  }
 },
 "nbformat": 4,
 "nbformat_minor": 5
}
