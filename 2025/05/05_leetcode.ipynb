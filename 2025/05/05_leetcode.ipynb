{
 "cells": [
  {
   "cell_type": "markdown",
   "id": "d9d72e7b",
   "metadata": {},
   "source": [
    "# 790. Domino and Tromino Tiling\n",
    "**Level: Medium**\n",
    "\n",
    "[Problem Statement](https://leetcode.com/problems/domino-and-tromino-tiling/description/)\n",
    "\n",
    "You have two types of tiles: a 2 x 1 domino shape and a tromino shape. You may rotate these shapes.\n",
    "\n",
    "Given an integer n, return the number of ways to tile an 2 x n board. Since the answer may be very large, return it modulo $10^9 + 7$.\n",
    "\n",
    "In a tiling, every square must be covered by a tile. Two tilings are different if and only if there are two 4-directionally adjacent cells on the board such that exactly one of the tilings has both squares occupied by a tile.\n",
    "\n",
    "## Examples\n",
    "\n",
    "### Example 1\n",
    "\n",
    "Input: n = 3\n",
    "\n",
    "Output: 5\n",
    "\n",
    "Explanation: The five different ways are show above\n",
    "\n",
    "### Example 2\n",
    "\n",
    "Input: n = 1\n",
    "\n",
    "Output: 1\n",
    "\n",
    "## Constraints\n",
    "- 1 <= n <= 1000"
   ]
  },
  {
   "cell_type": "markdown",
   "id": "8cd8f26e",
   "metadata": {},
   "source": [
    "## Solution"
   ]
  },
  {
   "cell_type": "code",
   "execution_count": 9,
   "id": "25634474",
   "metadata": {},
   "outputs": [],
   "source": [
    "def numTilings(n):\n",
    "    total = {}\n",
    "    bottom_missing={}\n",
    "    top_missing = {}\n",
    "    total[0]=1\n",
    "    for i in range(1,n+1):\n",
    "        if i==1:\n",
    "            total[i]=1\n",
    "            top_missing[i]=0\n",
    "            bottom_missing[i]=0\n",
    "        else:\n",
    "            total[i]=total[i-1]+total[i-2]+top_missing[i-1]+bottom_missing[i-1]\n",
    "            top_missing[i]=bottom_missing[i-1]+total[i-2]\n",
    "            bottom_missing[i]=top_missing[i-1]+total[i-2]\n",
    "    return total[n]%(10**9+7)\n"
   ]
  },
  {
   "cell_type": "code",
   "execution_count": 10,
   "id": "74c64808",
   "metadata": {},
   "outputs": [
    {
     "name": "stdout",
     "output_type": "stream",
     "text": [
      "5\n"
     ]
    }
   ],
   "source": [
    "print(numTilings(3))"
   ]
  },
  {
   "cell_type": "code",
   "execution_count": 11,
   "id": "327fa61a",
   "metadata": {},
   "outputs": [
    {
     "name": "stdout",
     "output_type": "stream",
     "text": [
      "11\n"
     ]
    }
   ],
   "source": [
    "print(numTilings(4))"
   ]
  },
  {
   "cell_type": "code",
   "execution_count": 12,
   "id": "066e29cb",
   "metadata": {},
   "outputs": [
    {
     "name": "stdout",
     "output_type": "stream",
     "text": [
      "53\n"
     ]
    }
   ],
   "source": [
    "print(numTilings(6))"
   ]
  }
 ],
 "metadata": {
  "kernelspec": {
   "display_name": "base",
   "language": "python",
   "name": "python3"
  },
  "language_info": {
   "codemirror_mode": {
    "name": "ipython",
    "version": 3
   },
   "file_extension": ".py",
   "mimetype": "text/x-python",
   "name": "python",
   "nbconvert_exporter": "python",
   "pygments_lexer": "ipython3",
   "version": "3.12.2"
  }
 },
 "nbformat": 4,
 "nbformat_minor": 5
}
