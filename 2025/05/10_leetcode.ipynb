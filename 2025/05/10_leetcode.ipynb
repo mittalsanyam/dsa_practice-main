{
 "cells": [
  {
   "cell_type": "markdown",
   "id": "489ecbc5",
   "metadata": {},
   "source": [
    "# 2918. Minimum Equal Sum of Two Arrays After Replacing Zeros\n",
    "**Level: Medium**\n",
    "\n",
    "[Problem Statement](https://leetcode.com/problems/minimum-equal-sum-of-two-arrays-after-replacing-zeros/description/)\n",
    "\n",
    "You are given two arrays nums1 and nums2 consisting of positive integers.\n",
    "\n",
    "You have to replace all the 0's in both arrays with strictly positive integers such that the sum of elements of both arrays becomes equal.\n",
    "\n",
    "Return the minimum equal sum you can obtain, or -1 if it is impossible.\n",
    "\n",
    "## Examples \n",
    "\n",
    "### Example 1:\n",
    "Input: nums1 = [3,2,0,1,0], nums2 = [6,5,0]\n",
    "\n",
    "Output: 12\n",
    "\n",
    "Explanation: We can replace 0's in the following way:\n",
    "- Replace the two 0's in nums1 with the values 2 and 4. The resulting array is nums1 = [3,2,2,1,4].\n",
    "- Replace the 0 in nums2 with the value 1. The resulting array is nums2 = [6,5,1].\n",
    "Both arrays have an equal sum of 12. It can be shown that it is the minimum sum we can obtain.\n",
    "\n",
    "### Example 2:\n",
    "Input: nums1 = [2,0,2,0], nums2 = [1,4]\n",
    "\n",
    "Output: -1\n",
    "\n",
    "Explanation: It is impossible to make the sum of both arrays equal.\n",
    " \n",
    "## Constraints:\n",
    "- $1 <= nums1.length, nums2.length <= 10^5$\n",
    "- $0 <= nums1[i], nums2[i] <= 10^6$"
   ]
  },
  {
   "cell_type": "markdown",
   "id": "f070a7bd",
   "metadata": {},
   "source": [
    "## Solution"
   ]
  },
  {
   "cell_type": "code",
   "execution_count": 3,
   "id": "79b7855e",
   "metadata": {},
   "outputs": [],
   "source": [
    "def minSum(nums1,nums2):\n",
    "    m,n = len(nums1),len(nums2)\n",
    "    count01,count02 = 0,0\n",
    "    sum01,sum02=0,0\n",
    "    for i in range(m):\n",
    "        if nums1[i]==0:\n",
    "            count01+=1\n",
    "            sum01+=1\n",
    "        sum01+=nums1[i]\n",
    "    for i in range(n):\n",
    "        if nums2[i]==0:\n",
    "            count02+=1\n",
    "            sum02+=1\n",
    "        sum02+=nums2[i]\n",
    "    if (sum01>sum02 and count02==0) or (sum01<sum02 and count01==0):\n",
    "        return -1\n",
    "    return max(sum01,sum02)"
   ]
  },
  {
   "cell_type": "code",
   "execution_count": 4,
   "id": "cddbb84e",
   "metadata": {},
   "outputs": [
    {
     "name": "stdout",
     "output_type": "stream",
     "text": [
      "12\n"
     ]
    }
   ],
   "source": [
    "print(minSum([3,2,0,1,0],[6,5,0]))"
   ]
  },
  {
   "cell_type": "code",
   "execution_count": 7,
   "id": "5af86b46",
   "metadata": {},
   "outputs": [
    {
     "name": "stdout",
     "output_type": "stream",
     "text": [
      "-1\n"
     ]
    }
   ],
   "source": [
    "print(minSum([2,0,2,0],[1,4]))"
   ]
  },
  {
   "cell_type": "code",
   "execution_count": null,
   "id": "53fe1356",
   "metadata": {},
   "outputs": [],
   "source": []
  }
 ],
 "metadata": {
  "kernelspec": {
   "display_name": "base",
   "language": "python",
   "name": "python3"
  },
  "language_info": {
   "codemirror_mode": {
    "name": "ipython",
    "version": 3
   },
   "file_extension": ".py",
   "mimetype": "text/x-python",
   "name": "python",
   "nbconvert_exporter": "python",
   "pygments_lexer": "ipython3",
   "version": "3.12.2"
  }
 },
 "nbformat": 4,
 "nbformat_minor": 5
}
