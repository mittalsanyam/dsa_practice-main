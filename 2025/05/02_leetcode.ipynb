{
 "cells": [
  {
   "cell_type": "markdown",
   "id": "d53dcc55",
   "metadata": {},
   "source": [
    "# 838. Push Dominoes\n",
    "**Level: Hard**\n",
    "\n",
    "[Problem Link](https://leetcode.com/problems/push-dominoes/description/)\n",
    "\n",
    "There are n dominoes in a line, and we place each domino vertically upright. In the beginning, we simultaneously push some of the dominoes either to the left or to the right.\n",
    "\n",
    "After each second, each domino that is falling to the left pushes the adjacent domino on the left. Similarly, the dominoes falling to the right push their adjacent dominoes standing on the right.\n",
    "\n",
    "When a vertical domino has dominoes falling on it from both sides, it stays still due to the balance of the forces.\n",
    "\n",
    "For the purposes of this question, we will consider that a falling domino expends no additional force to a falling or already fallen domino.\n",
    "\n",
    "You are given a string dominoes representing the initial state where:\n",
    "\n",
    "- dominoes[i] = 'L', if the ith domino has been pushed to the left,\n",
    "\n",
    "- dominoes[i] = 'R', if the ith domino has been pushed to the right, and\n",
    "\n",
    "- dominoes[i] = '.', if the ith domino has not been pushed.\n",
    "\n",
    "Return a string representing the final state.\n",
    "\n",
    "## Examples \n",
    "\n",
    "### Example 1:\n",
    "\n",
    "Input: dominoes = \"RR.L\"\n",
    "\n",
    "Output: \"RR.L\"\n",
    "\n",
    "Explanation: The first domino expends no additional force on the second domino.\n",
    "\n",
    "### Example 2:\n",
    "\n",
    "Input: dominoes = \".L.R...LR..L..\"\n",
    "\n",
    "Output: \"LL.RR.LLRRLL..\"\n",
    "\n",
    "## Constraints:\n",
    "- n == dominoes.length\n",
    "- $1 <= n <= 10**5$\n",
    "- dominoes[i] is either 'L', 'R', or '.'."
   ]
  },
  {
   "cell_type": "markdown",
   "id": "7b62e117",
   "metadata": {},
   "source": [
    "## Solution"
   ]
  },
  {
   "cell_type": "code",
   "execution_count": 13,
   "id": "11d1be82",
   "metadata": {},
   "outputs": [],
   "source": [
    "def pushDominoes(dominoes):\n",
    "    n =len(dominoes)\n",
    "    right = {}\n",
    "    left = {}\n",
    "    stack=[]\n",
    "    for i in range(n):\n",
    "        right[i],left[i]=0,0\n",
    "    for i in range(n):\n",
    "        if dominoes[i]==\"R\" or dominoes[i]==\"L\":\n",
    "            stack.append((dominoes[i],i))\n",
    "        elif dominoes[i]==\".\":\n",
    "            if stack and stack[-1][0]==\"R\":\n",
    "                right[i] = stack[-1][1]-i\n",
    "    stack=[]\n",
    "    for i in range(n-1,-1,-1):\n",
    "        if dominoes[i]==\"R\" or dominoes[i]==\"L\":\n",
    "            stack.append((dominoes[i],i))\n",
    "        elif dominoes[i]==\".\":\n",
    "            if stack and stack[-1][0]==\"L\":\n",
    "                left[i] = i-stack[-1][1]\n",
    "    res=\"\"\n",
    "    for i in range(n):\n",
    "        if right[i]==0 and left[i]!=0:\n",
    "            res+=\"L\"\n",
    "        elif right[i]!=0 and left[i]==0:\n",
    "            res+=\"R\"\n",
    "        elif right[i]!=0 and left[i]!=0:\n",
    "            if right[i]>left[i]:\n",
    "                res+=\"R\"\n",
    "            elif right[i]==left[i]:\n",
    "                res+=\".\"\n",
    "            else:\n",
    "                res+=\"L\"\n",
    "        else:\n",
    "            if dominoes[i]==\"L\":\n",
    "                res+=\"L\"\n",
    "            elif dominoes[i]==\"R\":\n",
    "                res+=\"R\"\n",
    "            else:\n",
    "                res+=\".\"\n",
    "    return res"
   ]
  },
  {
   "cell_type": "code",
   "execution_count": 14,
   "id": "2c73c7f9",
   "metadata": {},
   "outputs": [
    {
     "name": "stdout",
     "output_type": "stream",
     "text": [
      "LL.RR.LLRRLL..\n"
     ]
    }
   ],
   "source": [
    "print(pushDominoes(\".L.R...LR..L..\"))"
   ]
  },
  {
   "cell_type": "code",
   "execution_count": null,
   "id": "e3fd5ab2",
   "metadata": {},
   "outputs": [],
   "source": []
  }
 ],
 "metadata": {
  "kernelspec": {
   "display_name": "base",
   "language": "python",
   "name": "python3"
  },
  "language_info": {
   "codemirror_mode": {
    "name": "ipython",
    "version": 3
   },
   "file_extension": ".py",
   "mimetype": "text/x-python",
   "name": "python",
   "nbconvert_exporter": "python",
   "pygments_lexer": "ipython3",
   "version": "3.12.2"
  }
 },
 "nbformat": 4,
 "nbformat_minor": 5
}
