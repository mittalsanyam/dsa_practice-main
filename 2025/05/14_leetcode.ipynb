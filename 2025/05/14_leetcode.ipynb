{
 "cells": [
  {
   "cell_type": "markdown",
   "id": "ce080cbe",
   "metadata": {},
   "source": [
    "# 3337. Total Characters in String After Transformations II\n",
    "**Level: Hard**\n",
    "\n",
    "[Problem Statement](https://leetcode.com/problems/total-characters-in-string-after-transformations-ii/description/)\n",
    "\n",
    "You are given a string s consisting of lowercase English letters, an integer t representing the number of transformations to perform, and an array nums of size 26. In one transformation, every character in s is replaced according to the following rules:\n",
    "\n",
    "Replace s[i] with the next nums[s[i] - 'a'] consecutive characters in the alphabet. For example, if s[i] = 'a' and nums[0] = 3, the character 'a' transforms into the next 3 consecutive characters ahead of it, which results in \"bcd\".\n",
    "\n",
    "The transformation wraps around the alphabet if it exceeds 'z'. For example, if s[i] = 'y' and nums[24] = 3, the character 'y' transforms into the next 3 consecutive characters ahead of it, which results in \"zab\".\n",
    "Return the length of the resulting string after exactly t transformations.\n",
    "\n",
    "Since the answer may be very large, return it modulo 109 + 7.\n",
    "\n",
    "## Examples\n",
    "\n",
    "### Example 1:\n",
    "Input: s = \"abcyy\", t = 2, nums = [1,1,1,1,1,1,1,1,1,1,1,1,1,1,1,1,1,1,1,1,1,1,1,1,1,2]\n",
    "\n",
    "Output: 7\n",
    "\n",
    "Explanation:\n",
    "\n",
    "First Transformation (t = 1):\n",
    "\n",
    "'a' becomes 'b' as nums[0] == 1\n",
    "\n",
    "'b' becomes 'c' as nums[1] == 1\n",
    "\n",
    "'c' becomes 'd' as nums[2] == 1\n",
    "\n",
    "'y' becomes 'z' as nums[24] == 1\n",
    "\n",
    "'y' becomes 'z' as nums[24] == 1\n",
    "\n",
    "String after the first transformation: \"bcdzz\"\n",
    "\n",
    "Second Transformation (t = 2):\n",
    "\n",
    "'b' becomes 'c' as nums[1] == 1\n",
    "\n",
    "'c' becomes 'd' as nums[2] == 1\n",
    "\n",
    "'d' becomes 'e' as nums[3] == 1\n",
    "\n",
    "'z' becomes 'ab' as nums[25] == 2\n",
    "\n",
    "'z' becomes 'ab' as nums[25] == 2\n",
    "\n",
    "String after the second transformation: \"cdeabab\"\n",
    "Final Length of the string: The string is \"cdeabab\", which has 7 characters.\n",
    "\n",
    "### Example 2:\n",
    "\n",
    "Input: s = \"azbk\", t = 1, nums = [2,2,2,2,2,2,2,2,2,2,2,2,2,2,2,2,2,2,2,2,2,2,2,2,2,2]\n",
    "\n",
    "Output: 8\n",
    "\n",
    "Explanation:\n",
    "\n",
    "First Transformation (t = 1):\n",
    "\n",
    "'a' becomes 'bc' as nums[0] == 2\n",
    "\n",
    "'z' becomes 'ab' as nums[25] == 2\n",
    "\n",
    "'b' becomes 'cd' as nums[1] == 2\n",
    "\n",
    "'k' becomes 'lm' as nums[10] == 2\n",
    "\n",
    "String after the first transformation: \"bcabcdlm\"\n",
    "\n",
    "Final Length of the string: The string is \"bcabcdlm\", which has 8 characters.\n",
    "\n",
    "## Constraints:\n",
    "- $1 <= s.length <= 10^5$\n",
    "- s consists only of lowercase English letters.\n",
    "- $1 <= t <= 10^9$\n",
    "- nums.length == 26\n",
    "- 1 <= nums[i] <= 25"
   ]
  },
  {
   "cell_type": "markdown",
   "id": "a5395620",
   "metadata": {},
   "source": [
    "## Solution"
   ]
  },
  {
   "cell_type": "code",
   "execution_count": 13,
   "id": "9d38f882",
   "metadata": {},
   "outputs": [],
   "source": [
    "MOD = 10**9+7\n",
    "L=26\n",
    "\n",
    "class Mat:\n",
    "    def __init__(self,copy_from:\"Mat\"=None):\n",
    "        self.a = [[0]*L for _ in range(L)]\n",
    "        if copy_from:\n",
    "            for i in range(L):\n",
    "                for j in range(L):\n",
    "                    self.a[i][j] = copy_from.a[i][j]\n",
    "    def __mul__(self,other):\n",
    "        result=Mat()\n",
    "        for i in range(L):\n",
    "            for j in range(L):\n",
    "                for k in range(L):\n",
    "                    result.a[i][j] = (\n",
    "                            result.a[i][j]+self.a[i][k]*other.a[k][j]\n",
    "                        )%MOD\n",
    "        return result\n",
    "\n",
    "def I():\n",
    "    m = Mat()\n",
    "    for i in range(L):\n",
    "        m.a[i][i]=1\n",
    "    return m\n",
    "\n",
    "def quickexpo(x,y):\n",
    "    ans=I()\n",
    "    cur=x\n",
    "    while y:\n",
    "        if y & 1:\n",
    "            ans=ans*cur\n",
    "        cur=cur*cur\n",
    "        y>>=1\n",
    "    return ans\n",
    "\n",
    "def lengthAfterTransformations(s,t,nums):\n",
    "    T=Mat()\n",
    "    for i in range(26):\n",
    "        for j in range(1,nums[i]+1):\n",
    "            T.a[(i+j)%26][i]=1\n",
    "    res = quickexpo(T,t)\n",
    "    f = [0]*26\n",
    "    for ch in s:\n",
    "        f[ord(ch)-ord(\"a\")]+=1\n",
    "    ans = 0\n",
    "    for i in range(26):\n",
    "        for j in range(26):\n",
    "            ans = (ans+res.a[i][j]*f[j])%MOD\n",
    "    return ans"
   ]
  },
  {
   "cell_type": "code",
   "execution_count": 14,
   "id": "e23e096c",
   "metadata": {},
   "outputs": [
    {
     "name": "stdout",
     "output_type": "stream",
     "text": [
      "7\n"
     ]
    }
   ],
   "source": [
    "print(lengthAfterTransformations(\"abcyy\",2,[1,1,1,1,1,1,1,1,1,1,1,1,1,1,1,1,1,1,1,1,1,1,1,1,1,2]))"
   ]
  },
  {
   "cell_type": "code",
   "execution_count": 15,
   "id": "4561156e",
   "metadata": {},
   "outputs": [
    {
     "name": "stdout",
     "output_type": "stream",
     "text": [
      "8\n"
     ]
    }
   ],
   "source": [
    "print(lengthAfterTransformations(\"azbk\",1,[2,2,2,2,2,2,2,2,2,2,2,2,2,2,2,2,2,2,2,2,2,2,2,2,2,2]))"
   ]
  }
 ],
 "metadata": {
  "kernelspec": {
   "display_name": "base",
   "language": "python",
   "name": "python3"
  },
  "language_info": {
   "codemirror_mode": {
    "name": "ipython",
    "version": 3
   },
   "file_extension": ".py",
   "mimetype": "text/x-python",
   "name": "python",
   "nbconvert_exporter": "python",
   "pygments_lexer": "ipython3",
   "version": "3.12.2"
  }
 },
 "nbformat": 4,
 "nbformat_minor": 5
}
