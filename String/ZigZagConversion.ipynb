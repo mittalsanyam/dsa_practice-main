{
 "cells": [
  {
   "cell_type": "markdown",
   "metadata": {},
   "source": [
    "# 6. Zigzag Conversion\n",
    "\n",
    "**Level: Medium**\n",
    "\n",
    "[Problem Link](https://leetcode.com/problems/zigzag-conversion/description/)\n",
    "\n",
    "The string \"PAYPALISHIRING\" is written in a zigzag pattern on a given number of \n",
    "rows\n",
    "\n",
    "And then read line by line: \"PAHNAPLSIIGYIR\"\n",
    "\n",
    "Write the code that will take a string and make this conversion given a number of rows:\n",
    "\n",
    "`string convert(string s, int numRows);`\n",
    "\n",
    "## Examples\n",
    "### Example 1:\n",
    "\n",
    "Input: s = \"PAYPALISHIRING\", numRows = 3\n",
    "\n",
    "Output: \"PAHNAPLSIIGYIR\"\n",
    "\n",
    "### Example 2:\n",
    "\n",
    "Input: s = \"PAYPALISHIRING\", numRows = 4\n",
    "\n",
    "Output: \"PINALSIGYAHRPI\"\n",
    "\n",
    "### Example 3:\n",
    "\n",
    "Input: s = \"A\", numRows = 1\n",
    "\n",
    "Output: \"A\"\n",
    " \n",
    "## Constraints:\n",
    "- 1 <= s.length <= 1000\n",
    "- s consists of English letters (lower-case and upper-case), ',' and '.'.\n",
    "- 1 <= numRows <= 1000"
   ]
  },
  {
   "cell_type": "markdown",
   "metadata": {},
   "source": [
    "## Solution"
   ]
  },
  {
   "cell_type": "code",
   "execution_count": null,
   "metadata": {},
   "outputs": [],
   "source": [
    "def convert(s,numRows):\n",
    "    mat = []\n",
    "    if numRows==1:\n",
    "        return s\n",
    "    for i in range(numRows):\n",
    "        mat.append([])\n",
    "    n = len(s)\n",
    "    k,idx=0,0\n",
    "    while idx<n:\n",
    "        while idx<n and k<numRows-1:\n",
    "            mat[k].append(s[idx])\n",
    "            idx+=1\n",
    "            k+=1\n",
    "        while idx<n and k>0:\n",
    "            mat[k].append(s[idx])\n",
    "            idx+=1\n",
    "            k-=1\n",
    "    res=\"\"\n",
    "    for i in range(len(mat)):\n",
    "        for j in range(len(mat[i])):\n",
    "            res+=mat[i][j]\n",
    "    return res\n"
   ]
  },
  {
   "cell_type": "code",
   "execution_count": 26,
   "metadata": {},
   "outputs": [
    {
     "name": "stdout",
     "output_type": "stream",
     "text": [
      "PAHNAPLSIIGYIR\n"
     ]
    }
   ],
   "source": [
    "print(convert(\"PAYPALISHIRING\",3))"
   ]
  },
  {
   "cell_type": "code",
   "execution_count": 27,
   "metadata": {},
   "outputs": [
    {
     "name": "stdout",
     "output_type": "stream",
     "text": [
      "PINALSIGYAHRPI\n"
     ]
    }
   ],
   "source": [
    "print(convert(\"PAYPALISHIRING\",4))"
   ]
  },
  {
   "cell_type": "code",
   "execution_count": 29,
   "metadata": {},
   "outputs": [
    {
     "name": "stdout",
     "output_type": "stream",
     "text": [
      "AB\n"
     ]
    }
   ],
   "source": [
    "print(convert(\"AB\",2))"
   ]
  },
  {
   "cell_type": "code",
   "execution_count": null,
   "metadata": {},
   "outputs": [],
   "source": []
  }
 ],
 "metadata": {
  "kernelspec": {
   "display_name": "base",
   "language": "python",
   "name": "python3"
  },
  "language_info": {
   "codemirror_mode": {
    "name": "ipython",
    "version": 3
   },
   "file_extension": ".py",
   "mimetype": "text/x-python",
   "name": "python",
   "nbconvert_exporter": "python",
   "pygments_lexer": "ipython3",
   "version": "3.12.2"
  }
 },
 "nbformat": 4,
 "nbformat_minor": 2
}
