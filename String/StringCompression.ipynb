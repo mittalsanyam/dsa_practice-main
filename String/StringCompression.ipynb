{
 "cells": [
  {
   "cell_type": "markdown",
   "metadata": {},
   "source": [
    "# 443. String Compression\n",
    "\n",
    "Given an array of characters chars, compress it using the following algorithm:\n",
    "\n",
    "Begin with an empty string s. For each group of consecutive repeating characters in chars:\n",
    "\n",
    "- If the group's length is 1, append the character to s.\n",
    "- Otherwise, append the character followed by the group's length.\n",
    "\n",
    "The compressed string s should not be returned separately, but instead, be stored in the input character array chars. Note that group lengths that are 10 or longer will be split into multiple characters in chars.\n",
    "\n",
    "After you are done modifying the input array, return the new length of the array.\n",
    "\n",
    "You must write an algorithm that uses only constant extra space.\n",
    "\n",
    "## Examples\n",
    "\n",
    "### Example 1:\n",
    "\n",
    "Input: chars = [\"a\",\"a\",\"b\",\"b\",\"c\",\"c\",\"c\"]\n",
    "\n",
    "Output: Return 6, and the first 6 characters of the input array should be: [\"a\",\"2\",\"b\",\"2\",\"c\",\"3\"]\n",
    "\n",
    "Explanation: The groups are \"aa\", \"bb\", and \"ccc\". This compresses to \"a2b2c3\".\n",
    "\n",
    "### Example 2:\n",
    "\n",
    "Input: chars = [\"a\"]\n",
    "\n",
    "Output: Return 1, and the first character of the input array should be: [\"a\"]\n",
    "\n",
    "Explanation: The only group is \"a\", which remains uncompressed since it's a single character.\n",
    "\n",
    "### Example 3:\n",
    "\n",
    "Input: chars = [\"a\",\"b\",\"b\",\"b\",\"b\",\"b\",\"b\",\"b\",\"b\",\"b\",\"b\",\"b\",\"b\"]\n",
    "\n",
    "Output: Return 4, and the first 4 characters of the input array should be: [\"a\",\"b\",\"1\",\"2\"].\n",
    "\n",
    "Explanation: The groups are \"a\" and \"bbbbbbbbbbbb\". This compresses to \"ab12\".\n",
    "\n",
    "## Constraints:\n",
    "\n",
    "- $1 <= chars.length <= 2000$\n",
    "- chars[i] is a lowercase English letter, uppercase English letter, digit, or symbol."
   ]
  },
  {
   "cell_type": "markdown",
   "metadata": {},
   "source": [
    "## Solution"
   ]
  },
  {
   "cell_type": "code",
   "execution_count": 4,
   "metadata": {},
   "outputs": [
    {
     "name": "stdout",
     "output_type": "stream",
     "text": [
      "['a', '2', 'b', '2', 'c', '3']\n",
      "6\n"
     ]
    }
   ],
   "source": [
    "def compress(chars):\n",
    "    n=len(chars)\n",
    "    count=1\n",
    "    i=1\n",
    "    prev=chars.pop(0)\n",
    "    while i<n: \n",
    "        temp = chars.pop(0)\n",
    "        if temp==prev:\n",
    "            count+=1\n",
    "        if temp!=prev:\n",
    "            chars.append(prev)\n",
    "            if count>1:\n",
    "                for digit in str(count):\n",
    "                    chars.append(digit)\n",
    "            count=1\n",
    "        prev=temp\n",
    "        i+=1\n",
    "    chars.append(prev)\n",
    "    if count>1:\n",
    "        for digit in str(count):\n",
    "                    chars.append(digit)\n",
    "    print(chars)\n",
    "    return len(chars)\n",
    "\n",
    "\n",
    "print(compress([\"a\",\"a\",\"b\",\"b\",\"c\",\"c\",\"c\"]))"
   ]
  },
  {
   "cell_type": "code",
   "execution_count": 5,
   "metadata": {},
   "outputs": [
    {
     "name": "stdout",
     "output_type": "stream",
     "text": [
      "['a']\n",
      "1\n"
     ]
    }
   ],
   "source": [
    "print(compress([\"a\"]))"
   ]
  },
  {
   "cell_type": "code",
   "execution_count": 6,
   "metadata": {},
   "outputs": [
    {
     "name": "stdout",
     "output_type": "stream",
     "text": [
      "['a', 'b', '1', '2']\n",
      "4\n"
     ]
    }
   ],
   "source": [
    "print(compress([\"a\",\"b\",\"b\",\"b\",\"b\",\"b\",\"b\",\"b\",\"b\",\"b\",\"b\",\"b\",\"b\"]))"
   ]
  }
 ],
 "metadata": {
  "kernelspec": {
   "display_name": "base",
   "language": "python",
   "name": "python3"
  },
  "language_info": {
   "codemirror_mode": {
    "name": "ipython",
    "version": 3
   },
   "file_extension": ".py",
   "mimetype": "text/x-python",
   "name": "python",
   "nbconvert_exporter": "python",
   "pygments_lexer": "ipython3",
   "version": "3.12.2"
  }
 },
 "nbformat": 4,
 "nbformat_minor": 2
}
