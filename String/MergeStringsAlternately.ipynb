{
 "cells": [
  {
   "cell_type": "markdown",
   "metadata": {},
   "source": [
    "# 1768. Merge Strings Alternately\n",
    "\n",
    "**Level: Easy**\n",
    "\n",
    "[Problem Link](https://leetcode.com/problems/merge-strings-alternately/description/)\n",
    "\n",
    "You are given two strings word1 and word2. Merge the strings by adding letters in alternating order, starting with word1. If a string is longer than the other, append the additional letters onto the end of the merged string.\n",
    "\n",
    "Return the merged string.\n",
    "\n",
    "## Examples\n",
    "\n",
    "### Example 1:\n",
    "\n",
    "Input: word1 = \"abc\", word2 = \"pqr\"\n",
    "\n",
    "Output: \"apbqcr\"\n",
    "\n",
    "Explanation: The merged string will be merged as so:\n",
    "\n",
    "word1:  a   b   c\n",
    "\n",
    "word2:    p   q   r\n",
    "\n",
    "merged: a p b q c r\n",
    "\n",
    "### Example 2:\n",
    "\n",
    "Input: word1 = \"ab\", word2 = \"pqrs\"\n",
    "\n",
    "Output: \"apbqrs\"\n",
    "\n",
    "Explanation: Notice that as word2 is longer, \"rs\" is appended to the end.\n",
    "\n",
    "word1:  a   b \n",
    "\n",
    "word2:    p   q   r   s\n",
    "\n",
    "merged: a p b q   r   s\n",
    "\n",
    "### Example 3:\n",
    "\n",
    "Input: word1 = \"abcd\", word2 = \"pq\"\n",
    "\n",
    "Output: \"apbqcd\"\n",
    "\n",
    "Explanation: Notice that as word1 is longer, \"cd\" is appended to the end.\n",
    "\n",
    "word1:  a   b   c   d\n",
    "\n",
    "word2:    p   q \n",
    "\n",
    "merged: a p b q c   d\n",
    "\n",
    "## Constraints:\n",
    "\n",
    "- 1 <= word1.length, word2.length <= 100\n",
    "- word1 and word2 consist of lowercase English letters."
   ]
  },
  {
   "cell_type": "markdown",
   "metadata": {},
   "source": [
    "## Solution"
   ]
  },
  {
   "cell_type": "code",
   "execution_count": 4,
   "metadata": {},
   "outputs": [
    {
     "name": "stdout",
     "output_type": "stream",
     "text": [
      "apbqcr\n",
      "apbqrs\n",
      "apbqcd\n"
     ]
    }
   ],
   "source": [
    "def mergeAlternatively(word1,word2):\n",
    "    m,n=len(word1),len(word2)\n",
    "    merged=\"\"\n",
    "    i,j=0,0\n",
    "    while i<m or j<n:\n",
    "        if i==m:\n",
    "            merged+=word2[j]\n",
    "            j+=1\n",
    "        elif j==n:\n",
    "            merged+=word1[i]\n",
    "            i+=1\n",
    "        else:\n",
    "            merged+=word1[i]+word2[j]\n",
    "            i,j=i+1,j+1\n",
    "    return merged\n",
    "\n",
    "print(mergeAlternatively('abc','pqr'))\n",
    "print(mergeAlternatively('ab','pqrs'))\n",
    "print(mergeAlternatively('abcd','pq'))"
   ]
  }
 ],
 "metadata": {
  "kernelspec": {
   "display_name": "base",
   "language": "python",
   "name": "python3"
  },
  "language_info": {
   "codemirror_mode": {
    "name": "ipython",
    "version": 3
   },
   "file_extension": ".py",
   "mimetype": "text/x-python",
   "name": "python",
   "nbconvert_exporter": "python",
   "pygments_lexer": "ipython3",
   "version": "3.12.2"
  }
 },
 "nbformat": 4,
 "nbformat_minor": 2
}
