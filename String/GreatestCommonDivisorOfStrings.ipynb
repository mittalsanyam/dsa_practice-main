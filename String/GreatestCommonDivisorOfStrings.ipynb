{
 "cells": [
  {
   "cell_type": "markdown",
   "metadata": {},
   "source": [
    "# 1071. Greatest Common Divisor of Strings\n",
    "\n",
    "**Level: Easy**\n",
    "\n",
    "[Problem Link](https://leetcode.com/problems/greatest-common-divisor-of-strings/description/)\n",
    "\n",
    "For two strings s and t, we say \"t divides s\" if and only if s = t + t + t + ... + t + t (i.e., t is concatenated with itself one or more times).\n",
    "\n",
    "Given two strings str1 and str2, return the largest string x such that x divides both str1 and str2.\n",
    "\n",
    "## Examples\n",
    "\n",
    "### Example 1:\n",
    "\n",
    "Input: str1 = \"ABCABC\", str2 = \"ABC\"\n",
    "\n",
    "Output: \"ABC\"\n",
    "\n",
    "### Example 2:\n",
    "\n",
    "Input: str1 = \"ABABAB\", str2 = \"ABAB\"\n",
    "\n",
    "Output: \"AB\"\n",
    "\n",
    "### Example 3:\n",
    "\n",
    "Input: str1 = \"LEET\", str2 = \"CODE\"\n",
    "\n",
    "Output: \"\"\n",
    "\n",
    "## Constraints:\n",
    "\n",
    "- $1 <= str1.length, str2.length <= 1000$\n",
    "- `str1` and `str2` consist of English uppercase letters."
   ]
  },
  {
   "cell_type": "markdown",
   "metadata": {},
   "source": [
    "## Solution"
   ]
  },
  {
   "cell_type": "code",
   "execution_count": 46,
   "metadata": {},
   "outputs": [
    {
     "name": "stdout",
     "output_type": "stream",
     "text": [
      "ABC\n",
      "AB\n",
      "\n"
     ]
    }
   ],
   "source": [
    "def gcdOfStrings(str1,str2):\n",
    "    m,n=len(str1),len(str2)\n",
    "    if m==0 or n==0:\n",
    "        return \"\"\n",
    "    if m>n:\n",
    "        shortstring=str2\n",
    "        longstring=str1\n",
    "    elif m<n:\n",
    "        shortstring=str1\n",
    "        longstring=str2\n",
    "    else:\n",
    "        if str1==str2:\n",
    "            return str1\n",
    "        else:\n",
    "            return \"\"\n",
    "    minlength = min(m,n)\n",
    "    maxlength = max(m,n)\n",
    "    prev,i=0,0\n",
    "    flag=True\n",
    "    while i<maxlength and flag:\n",
    "        i=minlength+i\n",
    "        if longstring[prev:i]!=shortstring:\n",
    "            flag=False\n",
    "        else:\n",
    "            prev=i\n",
    "    if flag:\n",
    "        return shortstring\n",
    "    else:\n",
    "        return gcdOfStrings(longstring[prev:i],shortstring)\n",
    "\n",
    "print(gcdOfStrings('ABCABC','ABC'))\n",
    "print(gcdOfStrings('ABAB','ABABAB'))\n",
    "print(gcdOfStrings('LEET','CODE'))"
   ]
  }
 ],
 "metadata": {
  "kernelspec": {
   "display_name": "base",
   "language": "python",
   "name": "python3"
  },
  "language_info": {
   "codemirror_mode": {
    "name": "ipython",
    "version": 3
   },
   "file_extension": ".py",
   "mimetype": "text/x-python",
   "name": "python",
   "nbconvert_exporter": "python",
   "pygments_lexer": "ipython3",
   "version": "3.12.2"
  }
 },
 "nbformat": 4,
 "nbformat_minor": 2
}
