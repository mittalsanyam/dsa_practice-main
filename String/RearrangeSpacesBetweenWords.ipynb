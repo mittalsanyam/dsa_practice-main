{
 "cells": [
  {
   "cell_type": "markdown",
   "metadata": {},
   "source": [
    "# 1592. Rearrange Spaces Between Words\n",
    "**Level: Easy**\n",
    "\n",
    "[Problem Link](https://leetcode.com/problems/rearrange-spaces-between-words/description/)\n",
    "\n",
    "You are given a string text of words that are placed among some number of spaces. Each word consists of one or more lowercase English letters and are separated by at least one space. It's guaranteed that text contains at least one word.\n",
    "\n",
    "Rearrange the spaces so that there is an equal number of spaces between every pair of adjacent words and that number is maximized. If you cannot redistribute all the spaces equally, place the extra spaces at the end, meaning the returned string should be the same length as text.\n",
    "\n",
    "Return the string after rearranging the spaces.\n",
    "\n",
    "## Examples\n",
    "\n",
    "### Example 1:\n",
    "Input: text = \"  this   is  a sentence \"\n",
    "\n",
    "Output: \"this   is   a   sentence\"\n",
    "\n",
    "Explanation: There are a total of 9 spaces and 4 words. We can evenly divide the 9 spaces between the words: 9 / (4-1) = 3 spaces.\n",
    "\n",
    "### Example 2:\n",
    "Input: text = \" practice   makes   perfect\"\n",
    "\n",
    "Output: \"practice   makes   perfect \"\n",
    "\n",
    "Explanation: There are a total of 7 spaces and 3 words. 7 / (3-1) = 3 spaces plus 1 extra space. We place this extra space at the end of the string.\n",
    " \n",
    "## Constraints:\n",
    "- 1 <= text.length <= 100\n",
    "- text consists of lowercase English letters and ' '.\n",
    "- text contains at least one word."
   ]
  },
  {
   "cell_type": "markdown",
   "metadata": {},
   "source": [
    "## Solution"
   ]
  },
  {
   "cell_type": "code",
   "execution_count": 4,
   "metadata": {},
   "outputs": [],
   "source": [
    "def reorderSpace(text):\n",
    "    words = text.split()\n",
    "    numSpaces=0\n",
    "    n=len(text)\n",
    "    for i in range(n):\n",
    "        if text[i]==\" \":\n",
    "            numSpaces+=1\n",
    "    res=\"\"\n",
    "    if len(words)<=1:\n",
    "        if len(words)==1:\n",
    "            res+=words[0]\n",
    "        for _ in range(numSpaces):\n",
    "            res+=\" \"\n",
    "        return res\n",
    "    spacePerWord = numSpaces//(len(words)-1)\n",
    "    remSpaces = numSpaces%(len(words)-1)\n",
    "    for i in range(len(words)-1):\n",
    "        res+=words[i]\n",
    "        for j in range(spacePerWord):\n",
    "            res+=\" \"\n",
    "    res+=words[-1]\n",
    "    for j in range(remSpaces):\n",
    "        res+=\" \"\n",
    "    return res"
   ]
  },
  {
   "cell_type": "code",
   "execution_count": 5,
   "metadata": {},
   "outputs": [
    {
     "name": "stdout",
     "output_type": "stream",
     "text": [
      "this   is   a   sentence\n"
     ]
    }
   ],
   "source": [
    "print(reorderSpace(\"  this   is  a sentence \"))"
   ]
  },
  {
   "cell_type": "code",
   "execution_count": 6,
   "metadata": {},
   "outputs": [
    {
     "name": "stdout",
     "output_type": "stream",
     "text": [
      "practice   makes   perfect \n"
     ]
    }
   ],
   "source": [
    "print(reorderSpace(\" practice   makes   perfect\"))"
   ]
  }
 ],
 "metadata": {
  "kernelspec": {
   "display_name": "base",
   "language": "python",
   "name": "python3"
  },
  "language_info": {
   "codemirror_mode": {
    "name": "ipython",
    "version": 3
   },
   "file_extension": ".py",
   "mimetype": "text/x-python",
   "name": "python",
   "nbconvert_exporter": "python",
   "pygments_lexer": "ipython3",
   "version": "3.12.2"
  }
 },
 "nbformat": 4,
 "nbformat_minor": 2
}
