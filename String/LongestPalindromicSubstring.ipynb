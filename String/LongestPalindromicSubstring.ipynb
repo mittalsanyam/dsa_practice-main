{
 "cells": [
  {
   "cell_type": "markdown",
   "metadata": {},
   "source": [
    "# 5. Longest Palindromic Substring\n",
    "**Level: Medium**\n",
    "[Problem Link]('https://leetcode.com/problems/longest-palindromic-substring/description/?envType=problem-list-v2&envId=string')\n",
    "\n",
    "Given a string s, return the longest palindromic substring in s.\n",
    "\n",
    "## Examples\n",
    "### Example 1:\n",
    "Input: s = \"babad\"\n",
    "\n",
    "Output: \"bab\"\n",
    "\n",
    "Explanation: \"aba\" is also a valid answer.\n",
    "\n",
    "### Example 2:\n",
    "Input: s = \"cbbd\"\n",
    "\n",
    "Output: \"bb\""
   ]
  },
  {
   "cell_type": "markdown",
   "metadata": {},
   "source": [
    "## Solution"
   ]
  },
  {
   "cell_type": "code",
   "execution_count": 6,
   "metadata": {},
   "outputs": [
    {
     "name": "stdout",
     "output_type": "stream",
     "text": [
      "bab\n",
      "bb\n",
      "geeksskeeg\n",
      "abcbabcbabcba\n"
     ]
    }
   ],
   "source": [
    "def longestPalindrome(s):\n",
    "    maxString=\"\"\n",
    "    for i in range(len(s)):\n",
    "        oddString,evenString=s[i],\"\"\n",
    "        left,right=i-1,i+1\n",
    "        while left>-1 and right<len(s) and s[left]==s[right]:\n",
    "            oddString=s[left]+oddString+s[right]\n",
    "            left-=1\n",
    "            right+=1\n",
    "        left,right=i-1,i\n",
    "        while left>-1 and right<len(s) and s[left]==s[right]:\n",
    "            evenString=s[left]+evenString+s[right]\n",
    "            left-=1\n",
    "            right+=1\n",
    "        if len(evenString)>len(oddString):\n",
    "            if len(maxString)<len(evenString):\n",
    "                maxString=evenString\n",
    "        if len(evenString)<len(oddString):\n",
    "            if len(maxString)<len(oddString):\n",
    "                maxString=oddString\n",
    "    return maxString\n",
    "\n",
    "print(longestPalindrome('babad'))\n",
    "print(longestPalindrome('cbbd'))\n",
    "print(longestPalindrome('forgeeksskeegfor'))\n",
    "print(longestPalindrome('abcbabcbabcba'))"
   ]
  },
  {
   "cell_type": "code",
   "execution_count": null,
   "metadata": {},
   "outputs": [],
   "source": []
  }
 ],
 "metadata": {
  "kernelspec": {
   "display_name": "base",
   "language": "python",
   "name": "python3"
  },
  "language_info": {
   "codemirror_mode": {
    "name": "ipython",
    "version": 3
   },
   "file_extension": ".py",
   "mimetype": "text/x-python",
   "name": "python",
   "nbconvert_exporter": "python",
   "pygments_lexer": "ipython3",
   "version": "3.12.2"
  }
 },
 "nbformat": 4,
 "nbformat_minor": 2
}
