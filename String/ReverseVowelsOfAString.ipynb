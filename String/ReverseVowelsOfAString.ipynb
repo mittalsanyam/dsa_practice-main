{
 "cells": [
  {
   "cell_type": "markdown",
   "metadata": {},
   "source": [
    "# 345. Reverse Vowels of a String\n",
    "\n",
    "**Level:Easy**\n",
    "\n",
    "[Problem Link](https://leetcode.com/problems/reverse-vowels-of-a-string/description/)\n",
    "\n",
    "Given a string s, reverse only all the vowels in the string and return it.\n",
    "\n",
    "The vowels are 'a', 'e', 'i', 'o', and 'u', and they can appear in both lower and upper cases, more than once.\n",
    "\n",
    "## Examples\n",
    "### Example 1:\n",
    "\n",
    "Input: s = \"IceCreAm\"\n",
    "\n",
    "Output: \"AceCreIm\"\n",
    "\n",
    "Explanation:\n",
    "\n",
    "The vowels in s are ['I', 'e', 'e', 'A']. On reversing the vowels, s becomes \"AceCreIm\".\n",
    "\n",
    "### Example 2:\n",
    "\n",
    "Input: s = \"leetcode\"\n",
    "\n",
    "Output: \"leotcede\"\n",
    "\n",
    "## Constraints:\n",
    "\n",
    "- $1 <= s.length <= 3 * 10^5$\n",
    "- s consist of printable ASCII characters."
   ]
  },
  {
   "cell_type": "markdown",
   "metadata": {},
   "source": [
    "## Solution"
   ]
  },
  {
   "cell_type": "code",
   "execution_count": 3,
   "metadata": {},
   "outputs": [
    {
     "name": "stdout",
     "output_type": "stream",
     "text": [
      "AceCreIm\n"
     ]
    }
   ],
   "source": [
    "def reverseVowels(s):\n",
    "    vowels = [\"A\",\"E\",\"I\",\"O\",\"U\",\"a\",\"e\",\"i\",\"o\",\"u\"]\n",
    "    vowelsInS = []\n",
    "    for ch in s:\n",
    "        if ch in vowels:\n",
    "            vowelsInS.append(ch)\n",
    "    output=\"\"\n",
    "    p=len(vowelsInS)-1\n",
    "    for ch in s:\n",
    "        if ch in vowels:\n",
    "            output+=vowelsInS[p]\n",
    "            p=p-1\n",
    "        else:\n",
    "            output+=ch\n",
    "    return output\n",
    "\n",
    "print(reverseVowels(\"IceCreAm\"))"
   ]
  },
  {
   "cell_type": "code",
   "execution_count": 4,
   "metadata": {},
   "outputs": [
    {
     "name": "stdout",
     "output_type": "stream",
     "text": [
      "leotcede\n"
     ]
    }
   ],
   "source": [
    "print(reverseVowels(\"leetcode\"))"
   ]
  }
 ],
 "metadata": {
  "kernelspec": {
   "display_name": "base",
   "language": "python",
   "name": "python3"
  },
  "language_info": {
   "codemirror_mode": {
    "name": "ipython",
    "version": 3
   },
   "file_extension": ".py",
   "mimetype": "text/x-python",
   "name": "python",
   "nbconvert_exporter": "python",
   "pygments_lexer": "ipython3",
   "version": "3.12.2"
  }
 },
 "nbformat": 4,
 "nbformat_minor": 2
}
