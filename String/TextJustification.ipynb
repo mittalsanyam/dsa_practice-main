{
 "cells": [
  {
   "cell_type": "markdown",
   "metadata": {},
   "source": [
    "# 68. Text Justification\n",
    "**Level: Hard**\n",
    "\n",
    "[Problem Link](https://leetcode.com/problems/text-justification/description/)\n",
    "\n",
    "Given an array of strings words and a width maxWidth, format the text such that each line has exactly maxWidth characters and is fully (left and right) justified.\n",
    "\n",
    "You should pack your words in a greedy approach; that is, pack as many words as you can in each line. Pad extra spaces ' ' when necessary so that each line has exactly maxWidth characters.\n",
    "\n",
    "Extra spaces between words should be distributed as evenly as possible. If the number of spaces on a line does not divide evenly between words, the empty slots on the left will be assigned more spaces than the slots on the right.\n",
    "\n",
    "For the last line of text, it should be left-justified, and no extra space is inserted between words.\n",
    "\n",
    "Note:\n",
    "\n",
    "A word is defined as a character sequence consisting of non-space characters only.\n",
    "Each word's length is guaranteed to be greater than 0 and not exceed maxWidth.\n",
    "The input array words contains at least one word.\n",
    " \n",
    "## Examples\n",
    "### Example 1:\n",
    "\n",
    "Input: words = [\"This\", \"is\", \"an\", \"example\", \"of\", \"text\", \"justification.\"], maxWidth = 16\n",
    "\n",
    "Output:\n",
    "\n",
    "[\n",
    "   \"This    is    an\",\n",
    "   \"example  of text\",\n",
    "   \"justification.  \"\n",
    "]\n",
    "\n",
    "### Example 2:\n",
    "\n",
    "Input: words = [\"What\",\"must\",\"be\",\"acknowledgment\",\"shall\",\"be\"], maxWidth = 16\n",
    "\n",
    "Output:\n",
    "\n",
    "[\n",
    "  \"What   must   be\",\n",
    "  \"acknowledgment  \",\n",
    "  \"shall be        \"\n",
    "]\n",
    "\n",
    "Explanation: Note that the last line is \"shall be    \" instead of \"shall     be\", because the last line must be left-justified instead of fully-justified.\n",
    "\n",
    "Note that the second line is also left-justified because it contains only one word.\n",
    "\n",
    "### Example 3:\n",
    "\n",
    "Input: words = [\"Science\",\"is\",\"what\",\"we\",\"understand\",\"well\",\"enough\",\"to\",\"explain\",\"to\",\"a\",\"computer.\",\"Art\",\"is\",\"everything\",\"else\",\"we\",\"do\"], \n",
    "maxWidth = 20\n",
    "\n",
    "Output:\n",
    "\n",
    "[\n",
    "  \"Science  is  what we\",\n",
    "  \"understand      well\",\n",
    "  \"enough to explain to\",\n",
    "  \"a  computer.  Art is\",\n",
    "  \"everything  else  we\",\n",
    "  \"do                  \"\n",
    "]\n",
    "\n",
    "\n",
    "## Constraints:\n",
    "- 1 <= words.length <= 300\n",
    "- 1 <= words[i].length <= 20\n",
    "- words[i] consists of only English letters and symbols.\n",
    "- 1 <= maxWidth <= 100\n",
    "- words[i].length <= maxWidth"
   ]
  },
  {
   "cell_type": "markdown",
   "metadata": {},
   "source": [
    "## Solution"
   ]
  },
  {
   "cell_type": "code",
   "execution_count": 79,
   "metadata": {},
   "outputs": [],
   "source": [
    "import math\n",
    "def fulljustify(words,maxWidth):\n",
    "    n = len(words)\n",
    "    wordlist=[]\n",
    "    width=0\n",
    "    res=[]\n",
    "    for i in range(n):\n",
    "        wordlist.append(words[i])\n",
    "        width += len(words[i])\n",
    "        if width>maxWidth:\n",
    "            lastword = wordlist.pop()\n",
    "            width-=len(words[i])\n",
    "            sentance=\"\"\n",
    "            if len(wordlist)>1:\n",
    "                charspace  = 0\n",
    "                m=len(wordlist)\n",
    "                for j in range(m):\n",
    "                    charspace+=len(wordlist[j])\n",
    "                space = maxWidth-charspace\n",
    "                numSpaces = m-1\n",
    "                currSpace = int(math.ceil(space/numSpaces))\n",
    "                for j in range(m-1):\n",
    "                    numSpaces-=1\n",
    "                    sentance+=wordlist[j]\n",
    "                    for _ in range(currSpace):\n",
    "                        sentance+=\" \"\n",
    "                    space-=currSpace\n",
    "                    if numSpaces>0:\n",
    "                        currSpace = int(math.ceil(space/numSpaces))\n",
    "                    else:\n",
    "                        currSpace=1\n",
    "                sentance+=wordlist[-1]\n",
    "            elif len(wordlist)==1:\n",
    "                space=0\n",
    "                sentance+=wordlist[0]\n",
    "                space+=len(wordlist[0])\n",
    "                for _ in range(space,maxWidth):\n",
    "                    sentance+=\" \"\n",
    "            wordlist=[]\n",
    "            wordlist.append(lastword)\n",
    "            width=len(lastword)\n",
    "            res.append(sentance)\n",
    "        width+=1\n",
    "    if len(wordlist)>0:\n",
    "        sentance=\"\"\n",
    "        m = len(wordlist)\n",
    "        space=0\n",
    "        for i in range(m):\n",
    "            sentance+=wordlist[i]\n",
    "            space+=len(wordlist[i])\n",
    "            sentance+=\" \"\n",
    "            space+=1\n",
    "        for _ in range(space,maxWidth):\n",
    "            sentance+=\" \"\n",
    "        res.append(sentance)\n",
    "    return res"
   ]
  },
  {
   "cell_type": "code",
   "execution_count": 80,
   "metadata": {},
   "outputs": [
    {
     "name": "stdout",
     "output_type": "stream",
     "text": [
      "['This    is    an', 'example  of text', 'justification.  ']\n"
     ]
    }
   ],
   "source": [
    "print(fulljustify([\"This\", \"is\", \"an\",\n",
    "                    \"example\", \"of\", \"text\", \n",
    "                    \"justification.\"],16))"
   ]
  },
  {
   "cell_type": "code",
   "execution_count": 81,
   "metadata": {},
   "outputs": [
    {
     "name": "stdout",
     "output_type": "stream",
     "text": [
      "['What   must   be', 'acknowledgment  ', 'shall be        ']\n"
     ]
    }
   ],
   "source": [
    "print(fulljustify([\"What\",\"must\",\"be\",\n",
    "                   \"acknowledgment\",\n",
    "                   \"shall\",\"be\"],16))"
   ]
  },
  {
   "cell_type": "code",
   "execution_count": 82,
   "metadata": {},
   "outputs": [
    {
     "name": "stdout",
     "output_type": "stream",
     "text": [
      "['Science  is  what we', 'understand      well', 'enough to explain to', 'a  computer.  Art is', 'everything  else  we', 'do                  ']\n"
     ]
    }
   ],
   "source": [
    "print(fulljustify([\"Science\",\"is\",\"what\",\n",
    "                   \"we\",\"understand\",\"well\",\n",
    "                   \"enough\",\"to\",\"explain\",\n",
    "                   \"to\",\"a\",\"computer.\",\n",
    "                   \"Art\",\"is\",\"everything\",\n",
    "                   \"else\",\"we\",\"do\"],20))"
   ]
  }
 ],
 "metadata": {
  "kernelspec": {
   "display_name": "base",
   "language": "python",
   "name": "python3"
  },
  "language_info": {
   "codemirror_mode": {
    "name": "ipython",
    "version": 3
   },
   "file_extension": ".py",
   "mimetype": "text/x-python",
   "name": "python",
   "nbconvert_exporter": "python",
   "pygments_lexer": "ipython3",
   "version": "3.12.2"
  }
 },
 "nbformat": 4,
 "nbformat_minor": 2
}
