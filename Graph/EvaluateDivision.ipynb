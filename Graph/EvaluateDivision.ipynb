{
 "cells": [
  {
   "cell_type": "markdown",
   "metadata": {},
   "source": [
    "# 399. Evaluate Division\n",
    "**Level: Medium**\n",
    "\n",
    "[Problem Link](https://leetcode.com/problems/evaluate-division/description/)\n",
    "\n",
    "You are given an array of variable pairs equations and an array of real numbers values, where equations[i] = [Ai, Bi] and values[i] represent the equation Ai / Bi = values[i]. Each Ai or Bi is a string that represents a single variable.\n",
    "\n",
    "You are also given some queries, where queries[j] = [Cj, Dj] represents the jth query where you must find the answer for Cj / Dj = ?.\n",
    "\n",
    "Return the answers to all queries. If a single answer cannot be determined, return -1.0.\n",
    "\n",
    "Note: The input is always valid. You may assume that evaluating the queries will not result in division by zero and that there is no contradiction.\n",
    "\n",
    "Note: The variables that do not occur in the list of equations are undefined, so the answer cannot be determined for them.\n",
    "\n",
    "## Examples\n",
    "### Example 1:\n",
    "\n",
    "Input: equations = [[\"a\",\"b\"],[\"b\",\"c\"]], values = [2.0,3.0], queries = [[\"a\",\"c\"],[\"b\",\"a\"],[\"a\",\"e\"],[\"a\",\"a\"],[\"x\",\"x\"]]\n",
    "\n",
    "Output: [6.00000,0.50000,-1.00000,1.00000,-1.00000]\n",
    "\n",
    "Explanation: \n",
    "\n",
    "Given: a / b = 2.0, b / c = 3.0\n",
    "\n",
    "queries are: a / c = ?, b / a = ?, a / e = ?, a / a = ?, x / x = ? \n",
    "\n",
    "return: [6.0, 0.5, -1.0, 1.0, -1.0 ]\n",
    "\n",
    "note: x is undefined => -1.0\n",
    "\n",
    "### Example 2:\n",
    "\n",
    "Input: equations = [[\"a\",\"b\"],[\"b\",\"c\"],[\"bc\",\"cd\"]], values = [1.5,2.5,5.0], queries = [[\"a\",\"c\"],[\"c\",\"b\"],[\"bc\",\"cd\"],[\"cd\",\"bc\"]]\n",
    "\n",
    "Output: [3.75000,0.40000,5.00000,0.20000]\n",
    "\n",
    "Example 3:\n",
    "\n",
    "Input: equations = [[\"a\",\"b\"]], values = [0.5], queries = [[\"a\",\"b\"],[\"b\",\"a\"],\n",
    "[\"a\",\"c\"],[\"x\",\"y\"]]\n",
    "\n",
    "Output: [0.50000,2.00000,-1.00000,-1.00000]\n",
    "\n",
    "### Example 3:\n",
    "Input: equations = [[\"a\",\"b\"]], values = [0.5], queries = [[\"a\",\"b\"],[\"b\",\"a\"],[\"a\",\"c\"],[\"x\",\"y\"]]\n",
    "\n",
    "Output: [0.50000,2.00000,-1.00000,-1.00000]\n",
    "\n",
    "## Constraints:\n",
    "\n",
    "- 1 <= equations.length <= 20\n",
    "- equations[i].length == 2\n",
    "- 1 <= Ai.length, Bi.length <= 5\n",
    "- values.length == equations.length\n",
    "- 0.0 < values[i] <= 20.0\n",
    "- 1 <= queries.length <= 20\n",
    "- queries[i].length == 2\n",
    "- 1 <= Cj.length, Dj.length <= 5\n",
    "- Ai, Bi, Cj, Dj consist of lower case English letters and digits.\n"
   ]
  },
  {
   "cell_type": "markdown",
   "metadata": {},
   "source": [
    "## Solution"
   ]
  },
  {
   "cell_type": "code",
   "execution_count": 12,
   "metadata": {},
   "outputs": [],
   "source": [
    "def calcEquation(equations,values,queries):\n",
    "    n=len(equations)\n",
    "    graph={}\n",
    "    for i in range(n):\n",
    "        a1,b1 = equations[i][0],equations[i][1]\n",
    "        if a1 not in graph.keys():\n",
    "            graph[a1]=[]\n",
    "        if b1 not in graph.keys():\n",
    "            graph[b1]=[]\n",
    "        graph[a1].append((b1,values[i]))\n",
    "        graph[b1].append((a1,1/values[i]))\n",
    "    res=[]\n",
    "    for (q1,q2) in queries:\n",
    "        if q1 not in graph.keys() or q2 not in graph.keys():\n",
    "            res.append(-1)\n",
    "            continue\n",
    "        ans,visited={},{}\n",
    "        for i in graph.keys():\n",
    "            ans[i]=1\n",
    "            visited[i]=False\n",
    "        stack=[]\n",
    "        stack.append(q1)\n",
    "        while stack:\n",
    "            q = stack.pop()\n",
    "            visited[q]=True\n",
    "            for (k,w) in graph[q]:\n",
    "                if not visited[k]:\n",
    "                    ans[k]=ans[q]*w\n",
    "                    stack.append(k)\n",
    "        if visited[q2]:\n",
    "            res.append(ans[q2])\n",
    "        else:\n",
    "            res.append(-1)\n",
    "    return res"
   ]
  },
  {
   "cell_type": "code",
   "execution_count": 13,
   "metadata": {},
   "outputs": [
    {
     "name": "stdout",
     "output_type": "stream",
     "text": [
      "[6.0, 0.5, -1, 1, -1]\n"
     ]
    }
   ],
   "source": [
    "print(calcEquation([[\"a\",\"b\"],[\"b\",\"c\"]],\n",
    "                   [2.0,3.0],\n",
    "                   [[\"a\",\"c\"],[\"b\",\"a\"],[\"a\",\"e\"],[\"a\",\"a\"],[\"x\",\"x\"]]))"
   ]
  },
  {
   "cell_type": "code",
   "execution_count": 14,
   "metadata": {},
   "outputs": [
    {
     "name": "stdout",
     "output_type": "stream",
     "text": [
      "[3.75, 0.4, 5.0, 0.2]\n"
     ]
    }
   ],
   "source": [
    "print(calcEquation([[\"a\",\"b\"],[\"b\",\"c\"],[\"bc\",\"cd\"]],\n",
    "                   [1.5,2.5,5.0],\n",
    "                   [[\"a\",\"c\"],[\"c\",\"b\"],[\"bc\",\"cd\"],[\"cd\",\"bc\"]]))"
   ]
  },
  {
   "cell_type": "code",
   "execution_count": 15,
   "metadata": {},
   "outputs": [
    {
     "name": "stdout",
     "output_type": "stream",
     "text": [
      "[0.5, 2.0, -1, -1]\n"
     ]
    }
   ],
   "source": [
    "print(calcEquation([[\"a\",\"b\"]],\n",
    "                   [0.5],\n",
    "                   [[\"a\",\"b\"],[\"b\",\"a\"],[\"a\",\"c\"],[\"x\",\"y\"]]))"
   ]
  }
 ],
 "metadata": {
  "kernelspec": {
   "display_name": "base",
   "language": "python",
   "name": "python3"
  },
  "language_info": {
   "codemirror_mode": {
    "name": "ipython",
    "version": 3
   },
   "file_extension": ".py",
   "mimetype": "text/x-python",
   "name": "python",
   "nbconvert_exporter": "python",
   "pygments_lexer": "ipython3",
   "version": "3.12.2"
  }
 },
 "nbformat": 4,
 "nbformat_minor": 2
}
