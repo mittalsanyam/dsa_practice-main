{
 "cells": [
  {
   "cell_type": "markdown",
   "metadata": {},
   "source": [
    "# 1466. Reorder Routes to Make All Paths Lead to the City Zero\n",
    "\n",
    "**Level:Medium**\n",
    "\n",
    "[Problem Link](https://leetcode.com/problems/reorder-routes-to-make-all-paths-lead-to-the-city-zero/description/)\n",
    "\n",
    "**Level: Medium**\n",
    "\n",
    "There are n cities numbered from 0 to n - 1 and n - 1 roads such that there is only one way to travel between two different cities (this network form a tree). Last year, The ministry of transport decided to orient the roads in one direction because they are too narrow.\n",
    "\n",
    "Roads are represented by connections where connections[i] = [ai, bi] represents a road from city ai to city bi.\n",
    "\n",
    "This year, there will be a big event in the capital (city 0), and many people want to travel to this city.\n",
    "\n",
    "Your task consists of reorienting some roads such that each city can visit the city 0. Return the minimum number of edges changed.\n",
    "\n",
    "It's guaranteed that each city can reach city 0 after reorder.\n",
    "\n",
    "## Examples\n",
    "### Example 1\n",
    "Input: n = 6, connections = [[0,1],[1,3],[2,3],[4,0],[4,5]]\n",
    "\n",
    "Output: 3\n",
    "\n",
    "### Example 2\n",
    "Input: n = 5, connections = [[1,0],[1,2],[3,2],[3,4]]\n",
    "\n",
    "Output: 2\n",
    "### Example 3:\n",
    "Input: n = 3, connections = [[1,0],[2,0]]\n",
    "\n",
    "Output: 0\n",
    "\n",
    "## Constraints:\n",
    "- $2 <= n <= 5 * 10^4$\n",
    "- connections.length == n - 1\n",
    "- connections[i].length == 2\n",
    "- 0 <= ai, bi <= n - 1\n",
    "- ai != bi"
   ]
  },
  {
   "cell_type": "markdown",
   "metadata": {},
   "source": [
    "## Solution"
   ]
  },
  {
   "cell_type": "code",
   "execution_count": 36,
   "metadata": {},
   "outputs": [],
   "source": [
    "def minReorder(n,connections):\n",
    "    undirected={}\n",
    "    parent={}\n",
    "    visited={}\n",
    "    edges=[]\n",
    "    for i in range(n):\n",
    "        undirected[i]=[]\n",
    "        parent[i]=-1\n",
    "        visited[i]=False\n",
    "    for (i,j) in connections:\n",
    "        undirected[i].append(j)\n",
    "        undirected[j].append(i)\n",
    "        edges.append((i,j))\n",
    "    edges=set(edges)\n",
    "    stack=[]\n",
    "    stack.append(0)\n",
    "    while stack:\n",
    "        u = stack.pop()\n",
    "        visited[u]=True\n",
    "        for v in undirected[u]:\n",
    "            if not visited[v]:\n",
    "                parent[v]=u\n",
    "                stack.append(v)\n",
    "    tree_set = set([(parent[key],key) for key in parent.keys()])\n",
    "    numedges = len(tree_set.intersection(edges))\n",
    "    return numedges\n",
    "        "
   ]
  },
  {
   "cell_type": "code",
   "execution_count": 37,
   "metadata": {},
   "outputs": [
    {
     "name": "stdout",
     "output_type": "stream",
     "text": [
      "3\n"
     ]
    }
   ],
   "source": [
    "print(minReorder(6,[[0,1],[1,3],[2,3],[4,0],[4,5]]))"
   ]
  },
  {
   "cell_type": "code",
   "execution_count": 38,
   "metadata": {},
   "outputs": [
    {
     "name": "stdout",
     "output_type": "stream",
     "text": [
      "0\n"
     ]
    }
   ],
   "source": [
    "print(minReorder(3,[[1,0],[2,0]]))"
   ]
  },
  {
   "cell_type": "code",
   "execution_count": null,
   "metadata": {},
   "outputs": [],
   "source": []
  }
 ],
 "metadata": {
  "kernelspec": {
   "display_name": "base",
   "language": "python",
   "name": "python3"
  },
  "language_info": {
   "codemirror_mode": {
    "name": "ipython",
    "version": 3
   },
   "file_extension": ".py",
   "mimetype": "text/x-python",
   "name": "python",
   "nbconvert_exporter": "python",
   "pygments_lexer": "ipython3",
   "version": "3.12.2"
  }
 },
 "nbformat": 4,
 "nbformat_minor": 2
}
