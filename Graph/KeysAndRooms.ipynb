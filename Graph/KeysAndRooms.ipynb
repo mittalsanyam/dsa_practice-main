{
 "cells": [
  {
   "cell_type": "markdown",
   "metadata": {},
   "source": [
    "# 841. Keys and Rooms\n",
    "**Level: Medium**\n",
    "\n",
    "[Problem Link](https://leetcode.com/problems/keys-and-rooms/description/)\n",
    "\n",
    "There are n rooms labeled from 0 to n - 1 and all the rooms are locked except for room 0. Your goal is to visit all the rooms. However, you cannot enter a locked room without having its key.\n",
    "\n",
    "When you visit a room, you may find a set of distinct keys in it. Each key has a number on it, denoting which room it unlocks, and you can take all of them with you to unlock the other rooms.\n",
    "\n",
    "Given an array rooms where rooms[i] is the set of keys that you can obtain if you visited room i, return true if you can visit all the rooms, or false otherwise.\n",
    "\n",
    "## Examples\n",
    "\n",
    "### Example 1\n",
    "Input: rooms = [[1],[2],[3],[]]\n",
    "\n",
    "Output: true\n",
    "\n",
    "Explanation: \n",
    "\n",
    "We visit room 0 and pick up key 1.\n",
    "\n",
    "We then visit room 1 and pick up key 2.\n",
    "\n",
    "We then visit room 2 and pick up key 3.\n",
    "\n",
    "We then visit room 3.\n",
    "\n",
    "Since we were able to visit every room, we return true.\n",
    "\n",
    "### Example 2:\n",
    "\n",
    "Input: rooms = [[1,3],[3,0,1],[2],[0]]\n",
    "\n",
    "Output: false\n",
    "\n",
    "Explanation: We can not enter room number 2 since the only key that unlocks it is in that room.\n",
    "\n",
    "## Constraints:\n",
    "- n == rooms.length\n",
    "- 2 <= n <= 1000\n",
    "- 0 <= rooms[i].length <= 1000\n",
    "- 1 <= sum(rooms[i].length) <= 3000\n",
    "- 0 <= rooms[i][j] < n\n",
    "- All the values of rooms[i] are unique."
   ]
  },
  {
   "cell_type": "markdown",
   "metadata": {},
   "source": [
    "## Solution"
   ]
  },
  {
   "cell_type": "code",
   "execution_count": 12,
   "metadata": {},
   "outputs": [],
   "source": [
    "def canVisitAllRooms(rooms):\n",
    "    n=len(rooms)\n",
    "    visited=[False]*n\n",
    "    stack = []\n",
    "    stack.append(0)\n",
    "    while stack:\n",
    "        room = stack.pop()\n",
    "        visited[room]=True\n",
    "        for key in rooms[room]:\n",
    "            if not visited[key]:\n",
    "                stack.append(key)\n",
    "    flag=True\n",
    "    for room in visited:\n",
    "        if not room:\n",
    "            flag=False\n",
    "    return flag"
   ]
  },
  {
   "cell_type": "code",
   "execution_count": 13,
   "metadata": {},
   "outputs": [
    {
     "name": "stdout",
     "output_type": "stream",
     "text": [
      "True\n"
     ]
    }
   ],
   "source": [
    "print(canVisitAllRooms([[1],[2],[3],[]]))"
   ]
  },
  {
   "cell_type": "code",
   "execution_count": 14,
   "metadata": {},
   "outputs": [
    {
     "name": "stdout",
     "output_type": "stream",
     "text": [
      "False\n"
     ]
    }
   ],
   "source": [
    "print(canVisitAllRooms([[1,3],[3,0,1],[2],[0]]))"
   ]
  }
 ],
 "metadata": {
  "kernelspec": {
   "display_name": "base",
   "language": "python",
   "name": "python3"
  },
  "language_info": {
   "codemirror_mode": {
    "name": "ipython",
    "version": 3
   },
   "file_extension": ".py",
   "mimetype": "text/x-python",
   "name": "python",
   "nbconvert_exporter": "python",
   "pygments_lexer": "ipython3",
   "version": "3.12.2"
  }
 },
 "nbformat": 4,
 "nbformat_minor": 2
}
