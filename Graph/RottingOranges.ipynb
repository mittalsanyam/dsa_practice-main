{
 "cells": [
  {
   "cell_type": "markdown",
   "metadata": {},
   "source": [
    "# 994. Rotting Oranges\n",
    "**Level: Medium**\n",
    "\n",
    "[Problem Link](https://leetcode.com/problems/rotting-oranges/description/)\n",
    "\n",
    "You are given an m x n grid where each cell can have one of three values:\n",
    "\n",
    "- 0 representing an empty cell,\n",
    "- 1 representing a fresh orange, or\n",
    "- 2 representing a rotten orange.\n",
    "\n",
    "Every minute, any fresh orange that is 4-directionally adjacent to a rotten orange becomes rotten.\n",
    "\n",
    "Return the minimum number of minutes that must elapse until no cell has a fresh orange. If this is impossible, return -1.\n",
    "\n",
    "## Examples\n",
    "### Example 1:\n",
    "Input: grid = [[2,1,1],[1,1,0],[0,1,1]]\n",
    "\n",
    "Output: 4\n",
    "\n",
    "### Example 2:\n",
    "Input: grid = [[2,1,1],[0,1,1],[1,0,1]]\n",
    "\n",
    "Output: -1\n",
    "\n",
    "Explanation: The orange in the bottom left corner (row 2, column 0) is never rotten, because rotting only happens 4-directionally.\n",
    "\n",
    "### Example 3:\n",
    "Input: grid = [[0,2]]\n",
    "\n",
    "Output: 0\n",
    "\n",
    "Explanation: Since there are already no fresh oranges at minute 0, the answer is just 0.\n",
    "\n",
    "\n",
    "## Constraints:\n",
    "- m == grid.length\n",
    "- n == grid[i].length\n",
    "- 1 <= m, n <= 10\n",
    "- grid[i][j] is 0, 1, or 2."
   ]
  },
  {
   "cell_type": "markdown",
   "metadata": {},
   "source": [
    "## Solution"
   ]
  },
  {
   "cell_type": "code",
   "execution_count": 10,
   "metadata": {},
   "outputs": [],
   "source": [
    "from collections import deque\n",
    "def orangeRotting(grid):\n",
    "    m,n = len(grid),len(grid[0])\n",
    "    rottenoranges = deque()\n",
    "    level = [[-1 for j in range(n)] for i in range(m)]\n",
    "    freshOrange=0\n",
    "    for i in range(m):\n",
    "        for j in range(n):\n",
    "            if grid[i][j]==2:\n",
    "                rottenoranges.append([i,j])\n",
    "                level[i][j]=0\n",
    "            if grid[i][j]==1:\n",
    "                freshOrange+=1\n",
    "    dirs = [(1,0),(-1,0),(0,1),(0,-1)]\n",
    "    maxlevel = -1\n",
    "    while rottenoranges:\n",
    "        [x,y] = rottenoranges.popleft()\n",
    "        if level[x][y]>maxlevel:\n",
    "            maxlevel=level[x][y]\n",
    "        for (dx,dy) in dirs:\n",
    "            u,v = x+dx,y+dy\n",
    "            if 0<=u<m and 0<=v<n and grid[u][v]==1 and level[u][v]==-1:\n",
    "                level[u][v]=level[x][y]+1\n",
    "                freshOrange-=1\n",
    "                rottenoranges.append([u,v])\n",
    "                grid[u][v]=2\n",
    "    if freshOrange>0:\n",
    "        return -1\n",
    "    return maxlevel"
   ]
  },
  {
   "cell_type": "code",
   "execution_count": 11,
   "metadata": {},
   "outputs": [
    {
     "name": "stdout",
     "output_type": "stream",
     "text": [
      "4\n"
     ]
    }
   ],
   "source": [
    "print(orangeRotting([[2,1,1],[1,1,0],[0,1,1]]))"
   ]
  },
  {
   "cell_type": "code",
   "execution_count": 12,
   "metadata": {},
   "outputs": [
    {
     "name": "stdout",
     "output_type": "stream",
     "text": [
      "-1\n"
     ]
    }
   ],
   "source": [
    "print(orangeRotting([[2,1,1],[0,1,1],[1,0,1]]))"
   ]
  },
  {
   "cell_type": "code",
   "execution_count": 13,
   "metadata": {},
   "outputs": [
    {
     "name": "stdout",
     "output_type": "stream",
     "text": [
      "0\n"
     ]
    }
   ],
   "source": [
    "print(orangeRotting([[0,2]]))"
   ]
  }
 ],
 "metadata": {
  "kernelspec": {
   "display_name": "base",
   "language": "python",
   "name": "python3"
  },
  "language_info": {
   "codemirror_mode": {
    "name": "ipython",
    "version": 3
   },
   "file_extension": ".py",
   "mimetype": "text/x-python",
   "name": "python",
   "nbconvert_exporter": "python",
   "pygments_lexer": "ipython3",
   "version": "3.12.2"
  }
 },
 "nbformat": 4,
 "nbformat_minor": 2
}
