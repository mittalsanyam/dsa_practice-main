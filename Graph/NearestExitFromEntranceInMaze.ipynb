{
 "cells": [
  {
   "cell_type": "markdown",
   "metadata": {},
   "source": [
    "# 1926. Nearest Exit from Entrance in Maze\n",
    "**Level: Medium**\n",
    "\n",
    "[Problem Link](https://leetcode.com/problems/nearest-exit-from-entrance-in-maze/description/)\n",
    "\n",
    "You are given an m x n matrix maze (0-indexed) with empty cells (represented as '.') and walls (represented as '+'). You are also given the entrance of the maze, where entrance = [entrancerow, entrancecol] denotes the row and column of the cell you are initially standing at.\n",
    "\n",
    "In one step, you can move one cell up, down, left, or right. You cannot step into a cell with a wall, and you cannot step outside the maze. Your goal is to find the nearest exit from the entrance. An exit is defined as an empty cell that is at the border of the maze. The entrance does not count as an exit.\n",
    "\n",
    "Return the number of steps in the shortest path from the entrance to the nearest exit, or -1 if no such path exists.\n",
    "\n",
    "## Examples\n",
    "\n",
    "### Example 1\n",
    "\n",
    "Input: maze = [[\"+\",\"+\",\".\",\"+\"],[\".\",\".\",\".\",\"+\"],[\"+\",\"+\",\"+\",\".\"]], entrance = [1,2]\n",
    "\n",
    "Output: 1\n",
    "\n",
    "Explanation: There are 3 exits in this maze at [1,0], [0,2], and [2,3].\n",
    "\n",
    "Initially, you are at the entrance cell [1,2].\n",
    "- You can reach [1,0] by moving 2 steps left.\n",
    "- You can reach [0,2] by moving 1 step up.\n",
    "\n",
    "It is impossible to reach [2,3] from the entrance.\n",
    "\n",
    "Thus, the nearest exit is [0,2], which is 1 step away.\n",
    "\n",
    "### Example 2\n",
    "Input: maze = [[\"+\",\"+\",\"+\"],[\".\",\".\",\".\"],[\"+\",\"+\",\"+\"]], entrance = [1,0]\n",
    "\n",
    "Output: 2\n",
    "\n",
    "Explanation: There is 1 exit in this maze at [1,2].\n",
    "\n",
    "[1,0] does not count as an exit since it is the entrance cell.\n",
    "\n",
    "Initially, you are at the entrance cell [1,0].\n",
    "\n",
    "- You can reach [1,2] by moving 2 steps right.\n",
    "\n",
    "Thus, the nearest exit is [1,2], which is 2 steps away.\n",
    "\n",
    "### Example 3\n",
    "\n",
    "Input: maze = [[\".\",\"+\"]], entrance = [0,0]\n",
    "\n",
    "Output: -1\n",
    "\n",
    "Explanation: There are no exits in this maze.\n",
    "\n",
    "## Constraints:\n",
    "- maze.length == m\n",
    "- maze[i].length == n\n",
    "- 1 <= m, n <= 100\n",
    "- maze[i][j] is either '.' or '+'.\n",
    "- entrance.length == 2\n",
    "- 0 <= entrancerow < m\n",
    "- 0 <= entrancecol < n\n",
    "- entrance will always be an empty cell."
   ]
  },
  {
   "cell_type": "markdown",
   "metadata": {},
   "source": [
    "## Solution"
   ]
  },
  {
   "cell_type": "code",
   "execution_count": 19,
   "metadata": {},
   "outputs": [],
   "source": [
    "from collections import deque\n",
    "def nearestExit(maze,entrance):\n",
    "    m,n=len(maze),len(maze[0])\n",
    "    exit = []\n",
    "    for i in [0,m-1]:\n",
    "        for j in range(n):\n",
    "            if maze[i][j]!=\"+\" and [i,j]!=entrance:\n",
    "                exit.append([i,j])\n",
    "    for j in [0,n-1]:\n",
    "        for i in range(m):\n",
    "            if maze[i][j]!=\"+\"  and [i,j]!=entrance:\n",
    "                exit.append([i,j])\n",
    "    if len(exit)<1:\n",
    "        return -1\n",
    "    dirs = [(1,0),(0,1),(-1,0),(0,-1)]\n",
    "    level = [[-1 for j in range(n)] for i in range(m)]\n",
    "    level[entrance[0]][entrance[1]]=0\n",
    "    queue=deque()\n",
    "    queue.append(entrance)\n",
    "    while queue:\n",
    "        [x,y] = queue.popleft()\n",
    "        for (dx,dy) in dirs:\n",
    "            u,v = x+dx,y+dy\n",
    "            if 0<=u<m and 0<=v<n and maze[u][v]!=\"+\" and level[u][v]==-1:\n",
    "                level[u][v]=level[x][y]+1\n",
    "                queue.append([u,v])\n",
    "    mindist=float('inf')\n",
    "    for [i,j] in exit:\n",
    "        if level[i][j]!=-1:\n",
    "            if mindist>level[i][j]:\n",
    "                mindist=level[i][j]\n",
    "    if mindist!=float('inf'):\n",
    "            return mindist\n",
    "    else:\n",
    "        return -1"
   ]
  },
  {
   "cell_type": "code",
   "execution_count": 20,
   "metadata": {},
   "outputs": [
    {
     "name": "stdout",
     "output_type": "stream",
     "text": [
      "1\n"
     ]
    }
   ],
   "source": [
    "print(nearestExit([[\"+\",\"+\",\".\",\"+\"],\n",
    "                   [\".\",\".\",\".\",\"+\"],\n",
    "                   [\"+\",\"+\",\"+\",\".\"]],[1,2]))"
   ]
  },
  {
   "cell_type": "code",
   "execution_count": 21,
   "metadata": {},
   "outputs": [
    {
     "name": "stdout",
     "output_type": "stream",
     "text": [
      "2\n"
     ]
    }
   ],
   "source": [
    "print(nearestExit([[\"+\",\"+\",\"+\"],\n",
    "                   [\".\",\".\",\".\"],\n",
    "                   [\"+\",\"+\",\"+\"]],[1,0]))"
   ]
  },
  {
   "cell_type": "code",
   "execution_count": 22,
   "metadata": {},
   "outputs": [
    {
     "name": "stdout",
     "output_type": "stream",
     "text": [
      "-1\n"
     ]
    }
   ],
   "source": [
    "print(nearestExit([[\".\",\"+\"]],[0,0]))"
   ]
  },
  {
   "cell_type": "code",
   "execution_count": null,
   "metadata": {},
   "outputs": [],
   "source": []
  }
 ],
 "metadata": {
  "kernelspec": {
   "display_name": "base",
   "language": "python",
   "name": "python3"
  },
  "language_info": {
   "codemirror_mode": {
    "name": "ipython",
    "version": 3
   },
   "file_extension": ".py",
   "mimetype": "text/x-python",
   "name": "python",
   "nbconvert_exporter": "python",
   "pygments_lexer": "ipython3",
   "version": "3.12.2"
  }
 },
 "nbformat": 4,
 "nbformat_minor": 2
}
