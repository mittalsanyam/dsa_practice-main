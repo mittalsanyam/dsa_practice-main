{
 "cells": [
  {
   "cell_type": "markdown",
   "metadata": {},
   "source": [
    "# 547. Number of Provinces\n",
    "\n",
    "There are n cities. Some of them are connected, while some are not. If city a is connected directly with city b, and city b is connected directly with city c, then city a is connected indirectly with city c.\n",
    "\n",
    "A province is a group of directly or indirectly connected cities and no other cities outside of the group.\n",
    "\n",
    "You are given an n x n matrix isConnected where isConnected[i][j] = 1 if the ith city and the jth city are directly connected, and isConnected[i][j] = 0 otherwise.\n",
    "\n",
    "Return the total number of provinces.\n",
    "\n",
    "## Examples\n",
    "### Example 1\n",
    "Input: isConnected = [[1,1,0],[1,1,0],[0,0,1]]\n",
    "\n",
    "Output: 2\n",
    "\n",
    "### Example 2\n",
    "Input: isConnected = [[1,0,0],[0,1,0],[0,0,1]]\n",
    "\n",
    "Output: 3\n",
    " \n",
    "## Constraints\n",
    "\n",
    "- 1 <= n <= 200\n",
    "- n == isConnected.length\n",
    "- n == isConnected[i].length\n",
    "- isConnected[i][j] is 1 or 0.\n",
    "- isConnected[i][i] == 1\n",
    "- isConnected[i][j] == isConnected[j][i]"
   ]
  },
  {
   "cell_type": "markdown",
   "metadata": {},
   "source": [
    "## Solution"
   ]
  },
  {
   "cell_type": "code",
   "execution_count": 10,
   "metadata": {},
   "outputs": [],
   "source": [
    "def findCircleNum(isConnected):\n",
    "    n=len(isConnected)\n",
    "    visited=[False]*n\n",
    "    stack=[]\n",
    "    count=0\n",
    "    for i in range(n):\n",
    "        if not visited[i]:\n",
    "            stack.append(i)\n",
    "            count+=1\n",
    "        while stack:\n",
    "            j = stack.pop()\n",
    "            visited[j]=True\n",
    "            for k in range(n):\n",
    "                if isConnected[j][k] and not visited[k]:\n",
    "                    stack.append(k)\n",
    "    return count\n",
    "        "
   ]
  },
  {
   "cell_type": "code",
   "execution_count": 11,
   "metadata": {},
   "outputs": [
    {
     "name": "stdout",
     "output_type": "stream",
     "text": [
      "2\n"
     ]
    }
   ],
   "source": [
    "print(findCircleNum([[1,1,0],[1,1,0],[0,0,1]]))"
   ]
  },
  {
   "cell_type": "code",
   "execution_count": 12,
   "metadata": {},
   "outputs": [
    {
     "name": "stdout",
     "output_type": "stream",
     "text": [
      "3\n"
     ]
    }
   ],
   "source": [
    "print(findCircleNum([[1,0,0],[0,1,0],[0,0,1]]))"
   ]
  },
  {
   "cell_type": "code",
   "execution_count": null,
   "metadata": {},
   "outputs": [],
   "source": []
  }
 ],
 "metadata": {
  "kernelspec": {
   "display_name": "base",
   "language": "python",
   "name": "python3"
  },
  "language_info": {
   "codemirror_mode": {
    "name": "ipython",
    "version": 3
   },
   "file_extension": ".py",
   "mimetype": "text/x-python",
   "name": "python",
   "nbconvert_exporter": "python",
   "pygments_lexer": "ipython3",
   "version": "3.12.2"
  }
 },
 "nbformat": 4,
 "nbformat_minor": 2
}
