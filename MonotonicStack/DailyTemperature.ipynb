{
 "cells": [
  {
   "cell_type": "markdown",
   "metadata": {},
   "source": [
    "# 739. Daily Temperatures\n",
    "\n",
    "**Level: Medium**\n",
    "\n",
    "[Problem Link](https://leetcode.com/problems/daily-temperatures/description/)\n",
    "\n",
    "Given an array of integers temperatures represents the daily temperatures,\n",
    "return an array answer such that answer[i] is the number of days you have to wait after the ith day to get a warmer temperature. If there is no future day for which this is possible, keep answer[i] == 0 instead.\n",
    "\n",
    "## Examples\n",
    "### Example 1:\n",
    "\n",
    "Input: temperatures = [73,74,75,71,69,72,76,73]\n",
    "\n",
    "Output: [1,1,4,2,1,1,0,0]\n",
    "\n",
    "### Example 2:\n",
    "Input: temperatures = [30,40,50,60]\n",
    "\n",
    "Output: [1,1,1,0]\n",
    "\n",
    "### Example 3:\n",
    "Input: temperatures = [30,60,90]\n",
    "\n",
    "Output: [1,1,0]\n",
    "\n",
    "## Constraints:\n",
    "- $1 <= temperatures.length <= 10^5$\n",
    "- $30 <= temperatures[i] <= 100$"
   ]
  },
  {
   "cell_type": "markdown",
   "metadata": {},
   "source": [
    "## Solution"
   ]
  },
  {
   "cell_type": "code",
   "execution_count": 9,
   "metadata": {},
   "outputs": [],
   "source": [
    "def dailyTemperatures(temperatures):\n",
    "    stack=[]\n",
    "    stack.append(0)\n",
    "    n=len(temperatures)\n",
    "    res=[0]*n\n",
    "    for i in range(1,n):\n",
    "        while len(stack)>0 and temperatures[i]>temperatures[stack[-1]]:\n",
    "            idx = stack.pop()\n",
    "            res[idx]=(i-idx)\n",
    "        stack.append(i)\n",
    "    return res"
   ]
  },
  {
   "cell_type": "code",
   "execution_count": 10,
   "metadata": {},
   "outputs": [
    {
     "name": "stdout",
     "output_type": "stream",
     "text": [
      "[1, 1, 4, 2, 1, 1, 0, 0]\n"
     ]
    }
   ],
   "source": [
    "print(dailyTemperatures([73,74,75,71,69,72,76,73]))"
   ]
  },
  {
   "cell_type": "code",
   "execution_count": 11,
   "metadata": {},
   "outputs": [
    {
     "name": "stdout",
     "output_type": "stream",
     "text": [
      "[1, 1, 1, 0]\n"
     ]
    }
   ],
   "source": [
    "print(dailyTemperatures([30,40,50,60]))"
   ]
  },
  {
   "cell_type": "code",
   "execution_count": 12,
   "metadata": {},
   "outputs": [
    {
     "name": "stdout",
     "output_type": "stream",
     "text": [
      "[1, 1, 0]\n"
     ]
    }
   ],
   "source": [
    "print(dailyTemperatures([30,60,90]))"
   ]
  }
 ],
 "metadata": {
  "kernelspec": {
   "display_name": "base",
   "language": "python",
   "name": "python3"
  },
  "language_info": {
   "codemirror_mode": {
    "name": "ipython",
    "version": 3
   },
   "file_extension": ".py",
   "mimetype": "text/x-python",
   "name": "python",
   "nbconvert_exporter": "python",
   "pygments_lexer": "ipython3",
   "version": "3.12.2"
  }
 },
 "nbformat": 4,
 "nbformat_minor": 2
}
