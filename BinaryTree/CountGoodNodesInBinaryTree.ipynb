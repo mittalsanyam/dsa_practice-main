{
 "cells": [
  {
   "cell_type": "markdown",
   "metadata": {},
   "source": [
    "# 1448. Count Good Nodes in Binary Tree\n",
    "\n",
    "**Level: Medium**\n",
    "\n",
    "[Problem Link](https://leetcode.com/problems/count-good-nodes-in-binary-tree/description/)\n",
    "\n",
    "Given a binary tree `root`, a node X in the tree is named good if in the path from root to X there are no nodes with a value greater than X.\n",
    "\n",
    "Return the number of good nodes in the binary tree.\n",
    "\n",
    "## Examples\n",
    "\n",
    "### Example 1\n",
    "Input: root = [3,1,4,3,null,1,5]\n",
    "\n",
    "Output: 4\n",
    "\n",
    "Explanation: Nodes in blue are good.\n",
    "\n",
    "Root Node (3) is always a good node.\n",
    "\n",
    "Node 4 -> (3,4) is the maximum value in the path starting from the root.\n",
    "\n",
    "Node 5 -> (3,4,5) is the maximum value in the path\n",
    "\n",
    "Node 3 -> (3,1,3) is the maximum value in the path.\n",
    "\n",
    "### Example 2\n",
    "Input: root = [3,3,null,4,2]\n",
    "\n",
    "Output: 3\n",
    "\n",
    "Explanation: Node 2 -> (3, 3, 2) is not good, because \"3\" is higher than it.\n",
    "\n",
    "### Example 3\n",
    "Input: root = [1]\n",
    "\n",
    "Output: 1\n",
    "\n",
    "Explanation: Root is considered as good.\n",
    "\n",
    "## Constraints\n",
    "- The number of nodes in the binary tree is in the range $[1, 10^5]$.\n",
    "- Each node's value is between $[-10^4, 10^4]$."
   ]
  },
  {
   "cell_type": "markdown",
   "metadata": {},
   "source": [
    "## Solution"
   ]
  },
  {
   "cell_type": "code",
   "execution_count": 18,
   "metadata": {},
   "outputs": [
    {
     "name": "stdout",
     "output_type": "stream",
     "text": [
      "4\n"
     ]
    }
   ],
   "source": [
    "from collections import deque\n",
    "\n",
    "class TreeNode:\n",
    "    def __init__(self,val=0,left=None,right=None):\n",
    "        self.val = val\n",
    "        self.left = left\n",
    "        self.right = right\n",
    "\n",
    "def makeTree(arr):\n",
    "    root = None\n",
    "    if arr:\n",
    "        n=len(arr)\n",
    "        root = TreeNode(arr[0])\n",
    "        i=1\n",
    "        queue=deque()\n",
    "        queue.append(root)\n",
    "        while i<n:\n",
    "            temp = queue.popleft()\n",
    "            if arr[i]:\n",
    "                temp.left = TreeNode(arr[i])\n",
    "                queue.append(temp.left)\n",
    "            i+=1\n",
    "            if i<n and arr[i]:\n",
    "                temp.right = TreeNode(arr[i])\n",
    "                queue.append(temp.right)\n",
    "            i+=1\n",
    "    return root\n",
    "\n",
    "def goodNodes(root):\n",
    "    stack = deque()\n",
    "    stack.append(root)\n",
    "    pathMax={}\n",
    "    pathMax[root]=root.val\n",
    "    good_nodes=0\n",
    "    while stack:\n",
    "        elem=stack.pop()\n",
    "        if pathMax[elem]<=elem.val:\n",
    "            good_nodes+=1\n",
    "        if elem.left:\n",
    "            pathMax[elem.left]=max(pathMax[elem],elem.left.val)\n",
    "            stack.append(elem.left)\n",
    "        if elem.right:\n",
    "            pathMax[elem.right]=max(pathMax[elem],elem.right.val)\n",
    "            stack.append(elem.right)\n",
    "    return good_nodes\n",
    "\n",
    "null=None\n",
    "print(goodNodes(makeTree([3,1,4,3,null,1,5])))"
   ]
  },
  {
   "cell_type": "code",
   "execution_count": 19,
   "metadata": {},
   "outputs": [
    {
     "name": "stdout",
     "output_type": "stream",
     "text": [
      "3\n"
     ]
    }
   ],
   "source": [
    "print(goodNodes(makeTree([3,3,null,4,2])))"
   ]
  },
  {
   "cell_type": "code",
   "execution_count": 20,
   "metadata": {},
   "outputs": [
    {
     "name": "stdout",
     "output_type": "stream",
     "text": [
      "1\n"
     ]
    }
   ],
   "source": [
    "print(goodNodes(makeTree([1])))"
   ]
  },
  {
   "cell_type": "code",
   "execution_count": 21,
   "metadata": {},
   "outputs": [
    {
     "name": "stdout",
     "output_type": "stream",
     "text": [
      "1\n"
     ]
    }
   ],
   "source": [
    "print(goodNodes(makeTree([9,null,3,6])))"
   ]
  }
 ],
 "metadata": {
  "kernelspec": {
   "display_name": "base",
   "language": "python",
   "name": "python3"
  },
  "language_info": {
   "codemirror_mode": {
    "name": "ipython",
    "version": 3
   },
   "file_extension": ".py",
   "mimetype": "text/x-python",
   "name": "python",
   "nbconvert_exporter": "python",
   "pygments_lexer": "ipython3",
   "version": "3.12.2"
  }
 },
 "nbformat": 4,
 "nbformat_minor": 2
}
