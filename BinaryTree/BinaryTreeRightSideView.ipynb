{
 "cells": [
  {
   "cell_type": "markdown",
   "metadata": {},
   "source": [
    "# 199. Binary Tree Right Side View\n",
    "**Level: Medium**\n",
    "\n",
    "[Problem Link](https://leetcode.com/problems/binary-tree-right-side-view/description/)\n",
    "\n",
    "Given the `root` of a binary tree, imagine yourself standing on the right side of it, return the values of the nodes you can see ordered from top to bottom.\n",
    "\n",
    "## Examples\n",
    "### Example 1\n",
    "Input: root = [1,2,3,null,5,null,4]\n",
    "\n",
    "Output: [1,3,4]\n",
    "\n",
    "### Example 2:\n",
    "\n",
    "Input: root = [1,2,3,4,null,null,null,5]\n",
    "\n",
    "Output: [1,3,4,5]\n",
    "\n",
    "### Example 3\n",
    "Input: root = [1,null,3]\n",
    "\n",
    "Output: [1,3]\n",
    "\n",
    "### Example 4\n",
    "Input: root = []\n",
    "\n",
    "Output: []\n",
    "\n",
    "## Constraints:\n",
    "- The number of nodes in the tree is in the range [0, 100].\n",
    "- $-100 <= Node.val <= 100$"
   ]
  },
  {
   "cell_type": "markdown",
   "metadata": {},
   "source": [
    "## Solution"
   ]
  },
  {
   "cell_type": "code",
   "execution_count": 11,
   "metadata": {},
   "outputs": [],
   "source": [
    "from collections import deque\n",
    "null=None\n",
    "class TreeNode:\n",
    "    def __init__(self,val=0,left=None,right=None):\n",
    "        self.val = val\n",
    "        self.left = left\n",
    "        self.right = right\n",
    "def makeTree(arr):\n",
    "    if not arr:\n",
    "        return None\n",
    "    if not arr[0]:\n",
    "        return None\n",
    "    root = TreeNode(arr[0])\n",
    "    n=len(arr)\n",
    "    queue = deque()\n",
    "    queue.append(root)\n",
    "    idx=1\n",
    "    while idx<n:\n",
    "        curr = queue.popleft()\n",
    "        if arr[idx]:\n",
    "            curr.left = TreeNode(arr[idx])\n",
    "            queue.append(curr.left)\n",
    "        idx+=1\n",
    "        if idx<n and arr[idx]:\n",
    "            curr.right=TreeNode(arr[idx])\n",
    "            queue.append(curr.right)\n",
    "        idx+=1\n",
    "    return root\n",
    "\n",
    "def rightSideView(root):\n",
    "    queue = deque()\n",
    "    level={}\n",
    "    seen = []\n",
    "    if not root:\n",
    "        return seen\n",
    "    queue.append(root)\n",
    "    level[root]=1\n",
    "    right=None\n",
    "    while queue:\n",
    "        curr=queue.popleft()\n",
    "        if right==None:\n",
    "            seen.append(curr.val)\n",
    "            right=curr\n",
    "        elif level[curr]>level[right]:\n",
    "            right = curr\n",
    "            seen.append(right.val)\n",
    "        if curr.right:\n",
    "            level[curr.right]=level[curr]+1\n",
    "            queue.append(curr.right)\n",
    "        if curr.left:\n",
    "            level[curr.left]=level[curr]+1\n",
    "            queue.append(curr.left)\n",
    "    return seen"
   ]
  },
  {
   "cell_type": "code",
   "execution_count": 12,
   "metadata": {},
   "outputs": [
    {
     "name": "stdout",
     "output_type": "stream",
     "text": [
      "[1, 3, 4]\n"
     ]
    }
   ],
   "source": [
    "print(rightSideView(makeTree([1,2,3,null,5,null,4])))"
   ]
  },
  {
   "cell_type": "code",
   "execution_count": 13,
   "metadata": {},
   "outputs": [
    {
     "name": "stdout",
     "output_type": "stream",
     "text": [
      "[1, 3, 4, 5]\n"
     ]
    }
   ],
   "source": [
    "print(rightSideView(makeTree([1,2,3,4,null,null,null,5])))"
   ]
  },
  {
   "cell_type": "code",
   "execution_count": 14,
   "metadata": {},
   "outputs": [
    {
     "name": "stdout",
     "output_type": "stream",
     "text": [
      "[1, 3]\n"
     ]
    }
   ],
   "source": [
    "print(rightSideView(makeTree([1,null,3])))"
   ]
  },
  {
   "cell_type": "code",
   "execution_count": 15,
   "metadata": {},
   "outputs": [
    {
     "name": "stdout",
     "output_type": "stream",
     "text": [
      "[]\n"
     ]
    }
   ],
   "source": [
    "print(rightSideView(makeTree([])))"
   ]
  }
 ],
 "metadata": {
  "kernelspec": {
   "display_name": "base",
   "language": "python",
   "name": "python3"
  },
  "language_info": {
   "codemirror_mode": {
    "name": "ipython",
    "version": 3
   },
   "file_extension": ".py",
   "mimetype": "text/x-python",
   "name": "python",
   "nbconvert_exporter": "python",
   "pygments_lexer": "ipython3",
   "version": "3.12.2"
  }
 },
 "nbformat": 4,
 "nbformat_minor": 2
}
