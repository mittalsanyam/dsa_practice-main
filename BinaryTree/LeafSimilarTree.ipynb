{
 "cells": [
  {
   "cell_type": "markdown",
   "metadata": {},
   "source": [
    "# 872. Leaf-Similar Trees\n",
    "\n",
    "Consider all the leaves of a binary tree, from left to right order, the values of those leaves form a leaf value sequence.\n",
    "\n",
    "Two binary trees are considered leaf-similar if their leaf value sequence is the same.\n",
    "\n",
    "Return true if and only if the two given trees with head nodes root1 and root2 are leaf-similar.\n",
    "\n",
    "## Examples\n",
    "\n",
    "### Example 1\n",
    "\n",
    "Input: root1 = [3,5,1,6,2,9,8,null,null,7,4], \n",
    "\n",
    "root2 = [3,5,1,6,7,4,2,null,null,null,null,null,null,9,8]\n",
    "\n",
    "Output: true\n",
    "\n",
    "### Example 2\n",
    "\n",
    "Input: root1 = [1,2,3], root2 = [1,3,2]\n",
    "\n",
    "Output: false\n",
    "\n",
    "## Constraints\n",
    "\n",
    "- The number of nodes in each tree will be in the range [1, 200].\n",
    "- Both of the given trees will have values in the range [0, 200]."
   ]
  },
  {
   "cell_type": "markdown",
   "metadata": {},
   "source": [
    "## Solution"
   ]
  },
  {
   "cell_type": "code",
   "execution_count": 6,
   "metadata": {},
   "outputs": [],
   "source": [
    "from collections import deque\n",
    "\n",
    "class TreeNode:\n",
    "    def __init__(self,val=0,left=None,right=None):\n",
    "        self.val = val\n",
    "        self.left = left\n",
    "        self.right = right\n",
    "\n",
    "def makeTree(arr):\n",
    "    root=None\n",
    "    if arr:\n",
    "        n=len(arr)\n",
    "        root = TreeNode(arr[0])\n",
    "        queue=deque()\n",
    "        queue.append(root)\n",
    "        i=1\n",
    "        while i<n:\n",
    "            temp = queue.popleft()\n",
    "            if arr[i]:\n",
    "                temp.left = TreeNode(arr[i])\n",
    "                queue.append(temp.left)\n",
    "            i+=1\n",
    "            if i<n and arr[i]:\n",
    "                temp.right = TreeNode(arr[i])\n",
    "                queue.append(temp.right)\n",
    "            i+=1\n",
    "        return root\n",
    "\n",
    "def makeLeafSequence(root):\n",
    "    stack = deque()\n",
    "    stack.append(root)\n",
    "    leafsequence=[]\n",
    "    while stack:\n",
    "        temp = stack.pop()\n",
    "        if not temp.left and not temp.right:\n",
    "            leafsequence.append(temp.val)\n",
    "        if temp.right:\n",
    "            stack.append(temp.right)\n",
    "        if temp.left:\n",
    "            stack.append(temp.left)\n",
    "    return leafsequence\n",
    "\n",
    "def leafSimilar(root1,root2):\n",
    "    leaves1 = makeLeafSequence(root1)\n",
    "    leaves2 = makeLeafSequence(root2)\n",
    "    m,n=len(leaves1),len(leaves2)\n",
    "    if m!=n:\n",
    "        return False\n",
    "    i=0\n",
    "    for i in range(n):\n",
    "        if leaves1[i]!=leaves2[i]:\n",
    "            return False\n",
    "    return True"
   ]
  },
  {
   "cell_type": "code",
   "execution_count": 7,
   "metadata": {},
   "outputs": [
    {
     "name": "stdout",
     "output_type": "stream",
     "text": [
      "True\n"
     ]
    }
   ],
   "source": [
    "null=None\n",
    "print(leafSimilar(makeTree([3,5,1,6,2,9,8,null,null,7,4]),\n",
    "                  makeTree([3,5,1,6,7,4,2,null,null,null,null,null,null,9,8])))"
   ]
  },
  {
   "cell_type": "code",
   "execution_count": 8,
   "metadata": {},
   "outputs": [
    {
     "name": "stdout",
     "output_type": "stream",
     "text": [
      "False\n"
     ]
    }
   ],
   "source": [
    "print(leafSimilar(makeTree([1,2,3]),\n",
    "                  makeTree([1,3,2])))"
   ]
  }
 ],
 "metadata": {
  "kernelspec": {
   "display_name": "base",
   "language": "python",
   "name": "python3"
  },
  "language_info": {
   "codemirror_mode": {
    "name": "ipython",
    "version": 3
   },
   "file_extension": ".py",
   "mimetype": "text/x-python",
   "name": "python",
   "nbconvert_exporter": "python",
   "pygments_lexer": "ipython3",
   "version": "3.12.2"
  }
 },
 "nbformat": 4,
 "nbformat_minor": 2
}
