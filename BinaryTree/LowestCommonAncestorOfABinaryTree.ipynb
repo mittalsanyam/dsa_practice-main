{
 "cells": [
  {
   "cell_type": "markdown",
   "metadata": {},
   "source": [
    "# 236. Lowest Common Ancestor of a Binary Tree\n",
    "**Level: Medium**\n",
    "\n",
    "[Problem Link](https://leetcode.com/problems/lowest-common-ancestor-of-a-binary-tree/description/)\n",
    "\n",
    "Given a binary tree, find the lowest common ancestor (LCA) of two given nodes in the tree.\n",
    "\n",
    "The lowest common ancestor is defined between two nodes p and q as the lowest node in T that has both p and q as descendants (where we allow a node to be a descendant of itself).\n",
    "\n",
    "## Examples\n",
    "### Example 1\n",
    "Input: root = [3,5,1,6,2,0,8,null,null,7,4], p = 5, q = 1\n",
    "\n",
    "Output: 3\n",
    "\n",
    "Explanation: The LCA of nodes 5 and 1 is 3.\n",
    "\n",
    "### Example 2\n",
    "Input: root = [3,5,1,6,2,0,8,null,null,7,4], p = 5, q = 4\n",
    "\n",
    "\n",
    "Output: 5\n",
    "\n",
    "Explanation: The LCA of nodes 5 and 4 is 5, since a node can be a descendant of itself according to the LCA definition.\n",
    "\n",
    "### Example 3\n",
    "\n",
    "Input: root = [1,2], p = 1, q = 2\n",
    "\n",
    "Output: 1\n",
    "\n",
    "## Constraints\n",
    "- The number of nodes in the tree is in the range [2, 105].\n",
    "- $-10^9 <= Node.val <= 10^9$\n",
    "- All Node.val are unique.\n",
    "- p != q\n",
    "- p and q will exist in the tree."
   ]
  },
  {
   "cell_type": "markdown",
   "metadata": {},
   "source": [
    "## Solution"
   ]
  },
  {
   "cell_type": "code",
   "execution_count": 18,
   "metadata": {},
   "outputs": [
    {
     "name": "stdout",
     "output_type": "stream",
     "text": [
      "<__main__.TreeNode object at 0x000001DE74556390>\n"
     ]
    }
   ],
   "source": [
    "from collections import deque\n",
    "null=None\n",
    "class TreeNode:\n",
    "    def __init__(self,val=0,left=None,right=None):\n",
    "        self.val=val\n",
    "        self.left=left\n",
    "        self.right=right\n",
    "\n",
    "def makeTree(arr):\n",
    "    n=len(arr)\n",
    "    root = TreeNode(arr[0])\n",
    "    queue=deque()\n",
    "    queue.append(root)\n",
    "    idx=1\n",
    "    while idx<n:\n",
    "        curr = queue.popleft()\n",
    "        if arr[idx]:\n",
    "            curr.left=TreeNode(arr[idx])\n",
    "            queue.append(curr.left)\n",
    "        idx+=1\n",
    "        if idx<n and arr[idx]:\n",
    "            curr.right=TreeNode(arr[idx])\n",
    "            queue.append(curr.right)\n",
    "        idx+=1\n",
    "    return root\n",
    "\n",
    "def lowestCommonAncestor(root,p,q):\n",
    "    stack=deque()\n",
    "    parent={}\n",
    "    parent[root]=None\n",
    "    stack.append(root)\n",
    "    while stack:\n",
    "        curr = stack.pop()\n",
    "        if p.val==curr.val:\n",
    "            p=curr\n",
    "        if q.val==curr.val:\n",
    "            q=curr\n",
    "        if curr.left:\n",
    "            parent[curr.left]=curr\n",
    "            stack.append(curr.left)\n",
    "        if curr.right:\n",
    "            parent[curr.right]=curr\n",
    "            stack.append(curr.right)\n",
    "    p_anc = [p]\n",
    "    q_anc = [q]\n",
    "    temp = parent[p]\n",
    "    while temp:\n",
    "        p_anc.append(temp)\n",
    "        temp=parent[temp]\n",
    "    temp=parent[q]\n",
    "    while temp:\n",
    "        q_anc.append(temp)\n",
    "        temp=parent[temp]\n",
    "    i,j=len(p_anc)-1,len(q_anc)-1\n",
    "    while i>-1 and j>-1 and p_anc[i].val==q_anc[j].val:\n",
    "        i-=1\n",
    "        j-=1\n",
    "    return p_anc[i+1]\n",
    "\n",
    "\n",
    "\n",
    "print(lowestCommonAncestor(makeTree([3,5,1,6,2,0,8,null,null,7,4]),TreeNode(5),TreeNode(1)))    "
   ]
  },
  {
   "cell_type": "code",
   "execution_count": 19,
   "metadata": {},
   "outputs": [
    {
     "name": "stdout",
     "output_type": "stream",
     "text": [
      "<__main__.TreeNode object at 0x000001DE74557650>\n"
     ]
    }
   ],
   "source": [
    "print(lowestCommonAncestor(makeTree([3,5,1,6,2,0,8,null,null,7,4]),TreeNode(5),TreeNode(4)))"
   ]
  },
  {
   "cell_type": "code",
   "execution_count": 20,
   "metadata": {},
   "outputs": [
    {
     "name": "stdout",
     "output_type": "stream",
     "text": [
      "<__main__.TreeNode object at 0x000001DE7416D250>\n"
     ]
    }
   ],
   "source": [
    "print(lowestCommonAncestor(makeTree([1,2]),TreeNode(1),TreeNode(2)))"
   ]
  }
 ],
 "metadata": {
  "kernelspec": {
   "display_name": "base",
   "language": "python",
   "name": "python3"
  },
  "language_info": {
   "codemirror_mode": {
    "name": "ipython",
    "version": 3
   },
   "file_extension": ".py",
   "mimetype": "text/x-python",
   "name": "python",
   "nbconvert_exporter": "python",
   "pygments_lexer": "ipython3",
   "version": "3.12.2"
  }
 },
 "nbformat": 4,
 "nbformat_minor": 2
}
