{
 "cells": [
  {
   "cell_type": "markdown",
   "metadata": {},
   "source": [
    "# 437. Path Sum III\n",
    "\n",
    "**Level: Medium**\n",
    "\n",
    "[Problem Link](https://leetcode.com/problems/path-sum-iii/description/)\n",
    "\n",
    "Given the root of a binary tree and an integer targetSum, return the number of paths where the sum of the values along the path equals targetSum.\n",
    "\n",
    "The path does not need to start or end at the root or a leaf, but it must go downwards (i.e., traveling only from parent nodes to child nodes).\n",
    "\n",
    "## Examples\n",
    "\n",
    "### Example 1\n",
    "Input: root = [10,5,-3,3,2,null,11,3,-2,null,1], targetSum = 8\n",
    "\n",
    "Output: 3\n",
    "\n",
    "Explanation: The paths that sum to 8 are shown.\n",
    "\n",
    "### Example 2\n",
    "Input: root = [5,4,8,11,null,13,4,7,2,null,null,5,1], targetSum = 22\n",
    "\n",
    "Output: 3\n",
    "\n",
    "## Constraints:\n",
    "The number of nodes in the tree is in the range [0, 1000].\n",
    "- $-10^9 <= Node.val <= 10^9$\n",
    "- $-1000 <= targetSum <= 1000$"
   ]
  },
  {
   "cell_type": "markdown",
   "metadata": {},
   "source": [
    "## Solution"
   ]
  },
  {
   "cell_type": "code",
   "execution_count": 32,
   "metadata": {},
   "outputs": [
    {
     "name": "stdout",
     "output_type": "stream",
     "text": [
      "3\n"
     ]
    }
   ],
   "source": [
    "from collections import deque\n",
    "class TreeNode:\n",
    "    def __init__(self,val=0,left=None,right=None):\n",
    "        self.val=val\n",
    "        self.left = left\n",
    "        self.right = right\n",
    "\n",
    "def makeTree(arr):\n",
    "    if not arr:\n",
    "        return None\n",
    "    root = TreeNode(arr[0])\n",
    "    i,n=1,len(arr)\n",
    "    queue=deque()\n",
    "    queue.append(root)\n",
    "    while i<n:\n",
    "        curr = queue.popleft()\n",
    "        if arr[i]!=None:\n",
    "            curr.left = TreeNode(arr[i])\n",
    "            queue.append(curr.left)\n",
    "        i+=1\n",
    "        if i<n and arr[i]!=None:\n",
    "            curr.right = TreeNode(arr[i])\n",
    "            queue.append(curr.right)\n",
    "        i+=1\n",
    "    return root\n",
    "\n",
    "def pathSum(root,targetSum):\n",
    "    if not root:\n",
    "        return 0\n",
    "    if root.val==None:\n",
    "        return 0\n",
    "    count=0\n",
    "    stack=deque()\n",
    "    stack.append(root)\n",
    "    pathsum,parent={},{}\n",
    "    pathsum[root]=root.val\n",
    "    parent[root]=None\n",
    "    while stack:\n",
    "        elem = stack.pop()\n",
    "        temp = elem\n",
    "        total = 0\n",
    "        while temp!=None:\n",
    "            total+=temp.val\n",
    "            temp=parent[temp]\n",
    "            if total==targetSum:\n",
    "                count+=1\n",
    "        if elem.left:\n",
    "            parent[elem.left]=elem\n",
    "            stack.append(elem.left)\n",
    "        if elem.right:\n",
    "            parent[elem.right]=elem\n",
    "            stack.append(elem.right)\n",
    "    return count\n",
    "\n",
    "null=None\n",
    "\n",
    "print(pathSum(makeTree([10,5,-3,3,2,null,11,3,-2,null,1]),8))"
   ]
  },
  {
   "cell_type": "code",
   "execution_count": 33,
   "metadata": {},
   "outputs": [
    {
     "name": "stdout",
     "output_type": "stream",
     "text": [
      "3\n"
     ]
    }
   ],
   "source": [
    "print(pathSum(makeTree([5,4,8,11,null,13,4,7,2,null,null,5,1]),22))"
   ]
  }
 ],
 "metadata": {
  "kernelspec": {
   "display_name": "base",
   "language": "python",
   "name": "python3"
  },
  "language_info": {
   "codemirror_mode": {
    "name": "ipython",
    "version": 3
   },
   "file_extension": ".py",
   "mimetype": "text/x-python",
   "name": "python",
   "nbconvert_exporter": "python",
   "pygments_lexer": "ipython3",
   "version": "3.12.2"
  }
 },
 "nbformat": 4,
 "nbformat_minor": 2
}
