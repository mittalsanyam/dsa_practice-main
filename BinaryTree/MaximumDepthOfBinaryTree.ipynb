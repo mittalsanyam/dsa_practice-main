{
 "cells": [
  {
   "cell_type": "markdown",
   "metadata": {},
   "source": [
    "# 104. Maximum Depth of Binary Tree\n",
    "\n",
    "**Level: Easy**\n",
    "\n",
    "[Problem Link](https://leetcode.com/problems/maximum-depth-of-binary-tree/description/)\n",
    "\n",
    "Given the root of a binary tree, return its maximum depth.\n",
    "\n",
    "A binary tree's maximum depth is the number of nodes along the longest path from the root node down to the farthest leaf node.\n",
    "\n",
    "## Examples\n",
    "\n",
    "### Example 1\n",
    "Input: root = [3,9,20,null,null,15,7]\n",
    "\n",
    "Output: 3\n",
    "\n",
    "### Example 2:\n",
    "Input: root = [1,null,2]\n",
    "\n",
    "Output: 2\n",
    "\n",
    "## Constraints\n",
    "\n",
    "- The number of nodes in the tree is in the range $[0, 10^4]$.\n",
    "- -100 <= Node.val <= 100"
   ]
  },
  {
   "cell_type": "markdown",
   "metadata": {},
   "source": [
    "## Solution"
   ]
  },
  {
   "cell_type": "code",
   "execution_count": 27,
   "metadata": {},
   "outputs": [],
   "source": [
    "from collections import deque\n",
    "\n",
    "class TreeNode:\n",
    "    def __init__(self,val=0,left=None,right=None):\n",
    "        self.val = val\n",
    "        self.left = left\n",
    "        self.right = right\n",
    "\n",
    "def makeTree(arr):\n",
    "    n = len(arr)\n",
    "    queue = deque()\n",
    "    root = TreeNode(None)\n",
    "    if arr:\n",
    "        if arr[0]:\n",
    "            root.val = arr[0]\n",
    "        queue.append(root)\n",
    "        i=1\n",
    "        while i<n:\n",
    "            elem = queue.popleft()\n",
    "            elem.left=TreeNode(arr[i])\n",
    "            queue.append(elem.left)\n",
    "            i+=1\n",
    "            if i<n:\n",
    "                elem.right=TreeNode(arr[i])\n",
    "                queue.append(elem.right)\n",
    "            i+=1\n",
    "    return root\n",
    "\n",
    "def makeArray(root):\n",
    "    arr=[]\n",
    "    queue = deque()\n",
    "    if root:\n",
    "        queue.append(root)\n",
    "        while queue:\n",
    "            elem = queue.popleft()\n",
    "            arr.append(elem.val)\n",
    "            if elem.left:\n",
    "                queue.append(elem.left)\n",
    "            if elem.right:\n",
    "                queue.append(elem.right)\n",
    "    return arr\n",
    "\n",
    "def maxDepth(root):\n",
    "    if not root:\n",
    "        return 0\n",
    "    level = {}\n",
    "    stack = deque()\n",
    "    level[root]=1\n",
    "    stack.append(root)\n",
    "    maxdepth=level[root]\n",
    "    while stack:\n",
    "        elem=stack.pop()\n",
    "        if elem.left!=None and elem.left.val!=None:\n",
    "            level[elem.left]=level[elem]+1\n",
    "            stack.append(elem.left)\n",
    "            maxdepth=max(maxdepth,level[elem.left])\n",
    "        if elem.right!=None and elem.right.val!=None:\n",
    "            level[elem.right]=level[elem]+1\n",
    "            stack.append(elem.right)\n",
    "            maxdepth=max(maxdepth,level[elem.right])\n",
    "    return maxdepth"
   ]
  },
  {
   "cell_type": "code",
   "execution_count": 28,
   "metadata": {},
   "outputs": [
    {
     "name": "stdout",
     "output_type": "stream",
     "text": [
      "3\n"
     ]
    }
   ],
   "source": [
    "null=None\n",
    "print(maxDepth(makeTree([3,9,20,null,null,15,7])))"
   ]
  },
  {
   "cell_type": "code",
   "execution_count": 29,
   "metadata": {},
   "outputs": [
    {
     "name": "stdout",
     "output_type": "stream",
     "text": [
      "2\n"
     ]
    }
   ],
   "source": [
    "print(maxDepth(makeTree([1,null,2])))"
   ]
  },
  {
   "cell_type": "code",
   "execution_count": 31,
   "metadata": {},
   "outputs": [
    {
     "name": "stdout",
     "output_type": "stream",
     "text": [
      "1\n"
     ]
    }
   ],
   "source": [
    "print(maxDepth(makeTree([])))"
   ]
  }
 ],
 "metadata": {
  "kernelspec": {
   "display_name": "base",
   "language": "python",
   "name": "python3"
  },
  "language_info": {
   "codemirror_mode": {
    "name": "ipython",
    "version": 3
   },
   "file_extension": ".py",
   "mimetype": "text/x-python",
   "name": "python",
   "nbconvert_exporter": "python",
   "pygments_lexer": "ipython3",
   "version": "3.12.2"
  }
 },
 "nbformat": 4,
 "nbformat_minor": 2
}
