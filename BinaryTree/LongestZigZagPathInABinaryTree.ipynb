{
 "cells": [
  {
   "cell_type": "markdown",
   "metadata": {},
   "source": [
    "# 1372. Longest ZigZag Path in a Binary Tree\n",
    "**Level: Medium**\n",
    "\n",
    "[Problem Link](https://leetcode.com/problems/longest-zigzag-path-in-a-binary-tree/description/)\n",
    "\n",
    "You are given the root of a binary tree.\n",
    "\n",
    "A ZigZag path for a binary tree is defined as follow:\n",
    "- Choose any node in the binary tree and a direction (right or left).\n",
    "- If the current direction is right, move to the right child of the current node; otherwise, move to the left child.\n",
    "- Change the direction from right to left or from left to right.\n",
    "- Repeat the second and third steps until you can't move in the tree.\n",
    "- Zigzag length is defined as the number of nodes visited - 1. (A single node has a length of 0).\n",
    "\n",
    "Return the longest ZigZag path contained in that tree.\n",
    "## Examples\n",
    "\n",
    "### Example 1\n",
    "Input: root = [1,null,1,1,1,null,null,1,1,null,1,null,null,null,1]\n",
    "\n",
    "Output: 3\n",
    "\n",
    "Explanation: Longest ZigZag path in blue nodes (right -> left -> right).\n",
    "\n",
    "### Example 2\n",
    "Input: root = [1,null,1,1,1,null,null,1,1,null,1,null,null,null,1]\n",
    "\n",
    "Output: 3\n",
    "\n",
    "Explanation: Longest ZigZag path in blue nodes (right -> left -> right).\n",
    "\n",
    "## Constraints:\n",
    "- The number of nodes in the tree is in the range $[1, 5 * 10^4]$.\n",
    "- 1 <= Node.val <= 100\n"
   ]
  },
  {
   "cell_type": "markdown",
   "metadata": {},
   "source": [
    "## Solution"
   ]
  },
  {
   "cell_type": "code",
   "execution_count": 11,
   "metadata": {},
   "outputs": [
    {
     "name": "stdout",
     "output_type": "stream",
     "text": [
      "3\n"
     ]
    }
   ],
   "source": [
    "from collections import deque\n",
    "class TreeNode:\n",
    "    def __init__(self,val=0,left=None,right=None):\n",
    "        self.val=val\n",
    "        self.left = left\n",
    "        self.right = right\n",
    "\n",
    "def makeTree(arr):\n",
    "    if not arr:\n",
    "        return None\n",
    "    root = TreeNode(arr[0])\n",
    "    i,n=1,len(arr)\n",
    "    queue=deque()\n",
    "    queue.append(root)\n",
    "    while i<n:\n",
    "        curr = queue.popleft()\n",
    "        if arr[i]!=None:\n",
    "            curr.left = TreeNode(arr[i])\n",
    "            queue.append(curr.left)\n",
    "        i+=1\n",
    "        if i<n and arr[i]!=None:\n",
    "            curr.right = TreeNode(arr[i])\n",
    "            queue.append(curr.right)\n",
    "        i+=1\n",
    "    return root\n",
    "\n",
    "def longestZigZag(root):\n",
    "    zigzag= {}\n",
    "    stack=deque()\n",
    "    childList = []\n",
    "    zigzag[root]=0\n",
    "    if root.left:\n",
    "        childList.append(root.left)\n",
    "        zigzag[root.left]=1\n",
    "    else:\n",
    "        childList.append(None)\n",
    "    if root.right:\n",
    "        childList.append(root.right)\n",
    "        zigzag[root.right]=1\n",
    "    else:\n",
    "        childList.append(None)\n",
    "    stack.append(childList)\n",
    "    maxLength=0\n",
    "    while stack:\n",
    "        left,right = stack.pop()\n",
    "        if left:\n",
    "            maxLength=max(maxLength,zigzag[left])\n",
    "            childList=[]\n",
    "            if left.left:\n",
    "                childList.append(left.left)\n",
    "                zigzag[left.left]=1\n",
    "            else:\n",
    "                childList.append(None)\n",
    "            if left.right:\n",
    "                zigzag[left.right]=zigzag[left]+1\n",
    "                childList.append(left.right)\n",
    "            else:\n",
    "                childList.append(None)\n",
    "            stack.append(childList)\n",
    "        if right:\n",
    "            maxLength=max(maxLength,zigzag[right])\n",
    "            childList=[]\n",
    "            if right.left:\n",
    "                childList.append(right.left)\n",
    "                zigzag[right.left]=zigzag[right]+1\n",
    "            else:\n",
    "                childList.append(None)\n",
    "            if right.right:\n",
    "                childList.append(right.right)\n",
    "                zigzag[right.right]=1\n",
    "            else:\n",
    "                childList.append(None)\n",
    "            stack.append(childList)\n",
    "    return maxLength\n",
    "\n",
    "null=None    \n",
    "print(longestZigZag(makeTree([1,null,1,1,1,null,null,1,1,null,1,null,null,null,1])))"
   ]
  },
  {
   "cell_type": "code",
   "execution_count": 12,
   "metadata": {},
   "outputs": [
    {
     "name": "stdout",
     "output_type": "stream",
     "text": [
      "4\n"
     ]
    }
   ],
   "source": [
    "print(longestZigZag(makeTree([1,1,1,null,1,null,null,1,1,null,1])))"
   ]
  },
  {
   "cell_type": "code",
   "execution_count": 13,
   "metadata": {},
   "outputs": [
    {
     "name": "stdout",
     "output_type": "stream",
     "text": [
      "0\n"
     ]
    }
   ],
   "source": [
    "print(longestZigZag(makeTree([1])))"
   ]
  },
  {
   "cell_type": "code",
   "execution_count": 14,
   "metadata": {},
   "outputs": [
    {
     "name": "stdout",
     "output_type": "stream",
     "text": [
      "1\n"
     ]
    }
   ],
   "source": [
    "print(longestZigZag(makeTree([1,1,1,1,null,null,1])))"
   ]
  },
  {
   "cell_type": "code",
   "execution_count": null,
   "metadata": {},
   "outputs": [],
   "source": []
  }
 ],
 "metadata": {
  "kernelspec": {
   "display_name": "base",
   "language": "python",
   "name": "python3"
  },
  "language_info": {
   "codemirror_mode": {
    "name": "ipython",
    "version": 3
   },
   "file_extension": ".py",
   "mimetype": "text/x-python",
   "name": "python",
   "nbconvert_exporter": "python",
   "pygments_lexer": "ipython3",
   "version": "3.12.2"
  }
 },
 "nbformat": 4,
 "nbformat_minor": 2
}
