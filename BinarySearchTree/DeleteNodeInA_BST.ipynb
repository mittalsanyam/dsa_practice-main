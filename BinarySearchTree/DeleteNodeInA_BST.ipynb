{
 "cells": [
  {
   "cell_type": "markdown",
   "metadata": {},
   "source": [
    "# 450. Delete Node in a BST\n",
    "**Level: Medium**\n",
    "[Problem Link](https://leetcode.com/problems/delete-node-in-a-bst/description/)\n",
    "\n",
    "Given a root node reference of a BST and a key, delete the node with the given key in the BST. Return the root node reference (possibly updated) of the BST.\n",
    "\n",
    "Basically, the deletion can be divided into two stages:\n",
    "\n",
    "- Search for a node to remove.\n",
    "- If the node is found, delete the node.\n",
    "\n",
    "## Examples\n",
    "### Example 1\n",
    "Input: root = [5,3,6,2,4,null,7], key = 3\n",
    "\n",
    "Output: [5,4,6,2,null,null,7]\n",
    "\n",
    "Explanation: Given key to delete is 3. So we find the node with value 3 and delete it.\n",
    "\n",
    "One valid answer is [5,4,6,2,null,null,7], shown in the above BST.\n",
    "\n",
    "Another valid answer is [5,2,6,null,4,null,7].\n",
    "\n",
    "### Example 2\n",
    "Input: root = [5,3,6,2,4,null,7], key = 0\n",
    "\n",
    "Output: [5,3,6,2,4,null,7]\n",
    "\n",
    "Explanation: The tree does not contain a node with value = 0.\n",
    "\n",
    "### Example 3\n",
    "Input: root = [], key = 0\n",
    "\n",
    "Output: []\n",
    "\n",
    "## Constraints:\n",
    "- The number of nodes in the tree is in the range [0, 104].\n",
    "- $-10^5 <= Node.val <= 10^5$\n",
    "- Each node has a unique value.\n",
    "- root is a valid binary search tree.\n",
    "- $-10^5 <= key <= 10^5$"
   ]
  },
  {
   "cell_type": "markdown",
   "metadata": {},
   "source": [
    "## Solution"
   ]
  },
  {
   "cell_type": "code",
   "execution_count": 20,
   "metadata": {},
   "outputs": [],
   "source": [
    "from collections import deque\n",
    "null=None\n",
    "\n",
    "class TreeNode:\n",
    "    def __init__(self,val=0,left=None,right=None):\n",
    "        self.val=val\n",
    "        self.left=left\n",
    "        self.right=right\n",
    "\n",
    "def makeTree(arr):\n",
    "    if not arr:\n",
    "        return None\n",
    "    if not arr[0]:\n",
    "        return None\n",
    "    root = TreeNode(arr[0])\n",
    "    i,n=1,len(arr)\n",
    "    queue = deque()\n",
    "    queue.append(root)\n",
    "    while i<n:\n",
    "        curr = queue.popleft()\n",
    "        if arr[i]!=None:\n",
    "            curr.left=TreeNode(arr[i])\n",
    "            queue.append(curr.left)\n",
    "        i+=1\n",
    "        if i<n and arr[i]!=None:\n",
    "            curr.right = TreeNode(arr[i])\n",
    "            queue.append(curr.right)\n",
    "        i+=1\n",
    "    return root\n",
    "\n",
    "def makeArr(root):\n",
    "    arr=[]\n",
    "    if not root:\n",
    "        return arr\n",
    "    queue=deque()\n",
    "    queue.append(root)\n",
    "    while queue:\n",
    "        curr = queue.popleft()\n",
    "        arr.append(curr.val)\n",
    "        if curr.left:\n",
    "            queue.append(curr.left)\n",
    "        if curr.right:\n",
    "            queue.append(curr.right)\n",
    "    return arr\n",
    "\n",
    "def deleteNode(root,key):\n",
    "    if not root:\n",
    "        return root\n",
    "    if root.val==key:\n",
    "        if not root.left and not root.right:\n",
    "            return None\n",
    "        elif root.left and not root.right:\n",
    "            root= root.left\n",
    "            root.left=None\n",
    "        elif root.right and not root.left:\n",
    "            root=root.right\n",
    "        else:\n",
    "            temp = root.right\n",
    "            while temp.left:\n",
    "                temp=temp.left\n",
    "            root.val=temp.val\n",
    "            root.right=deleteNode(root.right,temp.val)\n",
    "    if root.val>key:\n",
    "        root.left = deleteNode(root.left,key)\n",
    "    if root.val<key:\n",
    "        root.right = deleteNode(root.right,key)\n",
    "    return root\n",
    "        \n",
    "            "
   ]
  },
  {
   "cell_type": "code",
   "execution_count": 19,
   "metadata": {},
   "outputs": [
    {
     "name": "stdout",
     "output_type": "stream",
     "text": [
      "[5, 4, 6, 2, 7]\n"
     ]
    }
   ],
   "source": [
    "root = deleteNode(makeTree([5,3,6,2,4,null,7]),3)\n",
    "print(makeArr(root))"
   ]
  }
 ],
 "metadata": {
  "kernelspec": {
   "display_name": "base",
   "language": "python",
   "name": "python3"
  },
  "language_info": {
   "codemirror_mode": {
    "name": "ipython",
    "version": 3
   },
   "file_extension": ".py",
   "mimetype": "text/x-python",
   "name": "python",
   "nbconvert_exporter": "python",
   "pygments_lexer": "ipython3",
   "version": "3.12.2"
  }
 },
 "nbformat": 4,
 "nbformat_minor": 2
}
