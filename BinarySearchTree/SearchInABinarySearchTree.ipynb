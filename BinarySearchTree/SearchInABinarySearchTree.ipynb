{
 "cells": [
  {
   "cell_type": "markdown",
   "metadata": {},
   "source": [
    "# 700. Search in a Binary Search Tree\n",
    "**Level: Easy**\n",
    "\n",
    "[Problem Link](https://leetcode.com/problems/search-in-a-binary-search-tree/description/)\n",
    "\n",
    "You are given the root of a binary search tree (BST) and an integer val.\n",
    "\n",
    "Find the node in the BST that the node's value equals val and return the subtree rooted with that node. If such a node does not exist, return null.\n",
    "\n",
    "## Example\n",
    "\n",
    "### Example 1\n",
    "Input: root = [4,2,7,1,3], val = 2\n",
    "\n",
    "Output: [2,1,3]\n",
    "\n",
    "### Example 2\n",
    "Input: root = [4,2,7,1,3], val = 5\n",
    "\n",
    "Output: []\n",
    "\n",
    "## Constraints:\n",
    "\n",
    "- The number of nodes in the tree is in the range [1, 5000].\n",
    "- $1 <= Node.val <= 10^7$\n",
    "- root is a binary search tree.\n",
    "- $1 <= val <= 10^7$"
   ]
  },
  {
   "cell_type": "markdown",
   "metadata": {},
   "source": [
    "## Solution"
   ]
  },
  {
   "cell_type": "code",
   "execution_count": null,
   "metadata": {},
   "outputs": [],
   "source": [
    "from collections import deque\n",
    "null=None\n",
    "class TreeNode:\n",
    "    def __init__(self,val=0,left=None,right=None):\n",
    "        self.val=val\n",
    "        self.left= left\n",
    "        self.right = right\n",
    "\n",
    "def makeTree(arr):\n",
    "    if not arr:\n",
    "        return None\n",
    "    if not arr[0]:\n",
    "        return None\n",
    "    root = TreeNode(arr[0])\n",
    "    queue=deque()\n",
    "    queue.append(root)\n",
    "    n,idx=len(arr),1\n",
    "    while idx<n:\n",
    "        curr = queue.popleft()\n",
    "        if arr[idx]!=None:\n",
    "            curr.left=TreeNode(arr[idx])\n",
    "            queue.append(curr.left)\n",
    "        idx+=1\n",
    "        if idx<n and arr[idx]!=None:\n",
    "            curr.right = TreeNode(arr[idx])\n",
    "            queue.append(curr.right)\n",
    "        idx+=1\n",
    "    return root\n",
    "\n",
    "def searchBST(root,val):\n",
    "    if not root:\n",
    "        return None\n",
    "    stack = deque()\n",
    "    flag=False\n",
    "    stack.append(root)\n",
    "    curr=None\n",
    "    while stack and not flag:\n",
    "        curr = stack.pop()\n",
    "        if curr.val==val:\n",
    "            flag=True\n",
    "        elif curr.val>val:\n",
    "            if curr.left:\n",
    "                stack.append(curr.left)\n",
    "        else:\n",
    "            if curr.right:\n",
    "                stack.append(curr.right)\n",
    "    if flag:\n",
    "        return curr\n",
    "    else:\n",
    "        return None"
   ]
  }
 ],
 "metadata": {
  "kernelspec": {
   "display_name": "base",
   "language": "python",
   "name": "python3"
  },
  "language_info": {
   "name": "python",
   "version": "3.12.2"
  }
 },
 "nbformat": 4,
 "nbformat_minor": 2
}
