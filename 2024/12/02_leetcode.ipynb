{
 "cells": [
  {
   "cell_type": "markdown",
   "metadata": {},
   "source": [
    "# 1455. Check If a Word Occurs As a Prefix of Any Word in a Sentence"
   ]
  },
  {
   "cell_type": "markdown",
   "metadata": {},
   "source": [
    "**Level: Easy**"
   ]
  },
  {
   "cell_type": "markdown",
   "metadata": {},
   "source": [
    "[Click Here](https://leetcode.com/problems/check-if-a-word-occurs-as-a-prefix-of-any-word-in-a-sentence/description/)"
   ]
  },
  {
   "cell_type": "markdown",
   "metadata": {},
   "source": [
    "Given a sentence that consists of some words separated by a single space, and a searchWord, check if searchWord is a prefix of any word in sentence.\n",
    "\n",
    "Return the index of the word in sentence (1-indexed) where searchWord is a prefix of this word. If searchWord is a prefix of more than one word, return the index of the first word (minimum index). If there is no such word return -1.\n",
    "\n",
    "A prefix of a string s is any leading contiguous substring of s."
   ]
  },
  {
   "cell_type": "markdown",
   "metadata": {},
   "source": [
    "## Examples\n",
    "### Example 1:\n",
    "Input: sentence = \"i love eating burger\", searchWord = \"burg\"\n",
    "\n",
    "Output: 4\n",
    "\n",
    "Explanation: \"burg\" is prefix of \"burger\" which is the 4th word in the sentence\n",
    "\n",
    "### Example 2:\n",
    "Input: sentence = \"this problem is an easy problem\", searchWord = \"pro\"\n",
    "\n",
    "Output: 2\n",
    "\n",
    "Explanation: \"pro\" is prefix of \"problem\" which is the 2nd and the 6th word in the sentence, but we return 2 as it's the minimal index.\n",
    "\n",
    "### Example 3:\n",
    "Input: sentence = \"i am tired\", searchWord = \"you\"\n",
    "\n",
    "Output: -1\n",
    "\n",
    "Explanation: \"you\" is not a prefix of any word in the sentence."
   ]
  },
  {
   "cell_type": "markdown",
   "metadata": {},
   "source": [
    "### Solution"
   ]
  },
  {
   "cell_type": "code",
   "execution_count": 5,
   "metadata": {},
   "outputs": [
    {
     "name": "stdout",
     "output_type": "stream",
     "text": [
      "4\n",
      "2\n",
      "-1\n"
     ]
    }
   ],
   "source": [
    "import re\n",
    "def isPrefixOfWord(sentence,searchWord):\n",
    "    words = sentence.split(\" \")\n",
    "    n=len(words)\n",
    "    pattern = '^'+searchWord\n",
    "    for i in range(n):\n",
    "        if re.search(pattern,words[i]):\n",
    "            return i+1\n",
    "    return -1\n",
    "        \n",
    "\n",
    "print(isPrefixOfWord(\"i love eating burger\",'burg'))\n",
    "print(isPrefixOfWord(\"this problem is an easy problem\",\"pro\"))\n",
    "print(isPrefixOfWord(\"i am tired\",\"you\"))"
   ]
  },
  {
   "cell_type": "code",
   "execution_count": null,
   "metadata": {},
   "outputs": [],
   "source": []
  }
 ],
 "metadata": {
  "kernelspec": {
   "display_name": "base",
   "language": "python",
   "name": "python3"
  },
  "language_info": {
   "codemirror_mode": {
    "name": "ipython",
    "version": 3
   },
   "file_extension": ".py",
   "mimetype": "text/x-python",
   "name": "python",
   "nbconvert_exporter": "python",
   "pygments_lexer": "ipython3",
   "version": "3.12.2"
  }
 },
 "nbformat": 4,
 "nbformat_minor": 2
}
