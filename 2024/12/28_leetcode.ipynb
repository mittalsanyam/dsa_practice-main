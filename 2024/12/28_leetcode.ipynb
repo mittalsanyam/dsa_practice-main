{
 "cells": [
  {
   "cell_type": "markdown",
   "metadata": {},
   "source": [
    "# 689. Maximum Sum of 3 Non-Overlapping Subarrays\n",
    "\n",
    "**Level: Hard**\n",
    "\n",
    "[Problem Link](https://leetcode.com/problems/maximum-sum-of-3-non-overlapping-subarrays/description/)\n",
    "\n",
    "Given an integer array nums and an integer k, find three non-overlapping subarrays of length k with maximum sum and return them.\n",
    "\n",
    "Return the result as a list of indices representing the starting position of each interval (0-indexed). If there are multiple answers, return the lexicographically smallest one.\n",
    "\n",
    "## Examples\n",
    "\n",
    "### Example 1:\n",
    "\n",
    "Input: nums = [1,2,1,2,6,7,5,1], k = 2\n",
    "\n",
    "Output: [0,3,5]\n",
    "\n",
    "Explanation: Subarrays [1, 2], [2, 6], [7, 5] correspond to the starting indices [0, 3, 5].\n",
    "\n",
    "We could have also taken [2, 1], but an answer of [1, 3, 5] would be lexicographically larger.\n",
    "\n",
    "### Example 2\n",
    "\n",
    "Input: nums = [1,2,1,2,1,2,1,2,1], k = 2\n",
    "\n",
    "Output: [0,2,4]\n",
    "\n",
    "## Constraints:\n",
    "\n",
    "- $1 <= nums.length <= 2 * 10^4$\n",
    "- $1 <= nums[i] < 216$\n",
    "- $1 <= k <= floor(nums.length / 3)$"
   ]
  },
  {
   "cell_type": "markdown",
   "metadata": {},
   "source": [
    "## Solutions"
   ]
  },
  {
   "cell_type": "code",
   "execution_count": 16,
   "metadata": {},
   "outputs": [
    {
     "name": "stdout",
     "output_type": "stream",
     "text": [
      "[0, 3, 5]\n",
      "[0, 2, 4]\n"
     ]
    }
   ],
   "source": [
    "def maxSumOfThreeSubarrays(nums,k):\n",
    "    n=len(nums)-k+1\n",
    "    sums=[sum(nums[:k])]\n",
    "    for i in range(k,len(nums)):\n",
    "        temp_sum = sums[-1]-nums[i-k]+nums[i]\n",
    "        sums.append(temp_sum)\n",
    "    memo = [[-1]*4 for i in range(n)]\n",
    "    indices = []\n",
    "    def dp(sums,k,idx,rem,memo):\n",
    "        if rem==0:\n",
    "            return 0\n",
    "        if idx>=len(sums):\n",
    "            return -1*float('inf') if rem>0 else 0\n",
    "        if memo[idx][rem]!=-1:\n",
    "            return memo[idx][rem]\n",
    "        withsum = sums[idx]+dp(sums,k,idx+k,rem-1,memo)\n",
    "        skipsum = dp(sums,k,idx+1,rem,memo)\n",
    "        memo[idx][rem]=max(withsum,skipsum)\n",
    "        return memo[idx][rem]\n",
    "    dp(sums,k,0,3,memo)\n",
    "    def dfs(sums,k,idx,rem,memo,indices):\n",
    "        if rem==0 or idx>=len(sums):\n",
    "            return\n",
    "        with_sum = sums[idx]+dp(sums,k,idx+k,rem-1,memo)\n",
    "        skip_sum = dp(sums,k,idx+1,rem,memo)\n",
    "        if with_sum>=skip_sum:\n",
    "            indices.append(idx)\n",
    "            dfs(sums,k,idx+k,rem-1,memo,indices)\n",
    "        else:\n",
    "            dfs(sums,k,idx+1,rem,memo,indices)\n",
    "    dfs(sums,k,0,3,memo,indices)\n",
    "    return indices\n",
    "\n",
    "print(maxSumOfThreeSubarrays([1,2,1,2,6,7,5,1],2))\n",
    "print(maxSumOfThreeSubarrays([1,2,1,2,1,2,1,2,1],2))"
   ]
  }
 ],
 "metadata": {
  "kernelspec": {
   "display_name": "base",
   "language": "python",
   "name": "python3"
  },
  "language_info": {
   "codemirror_mode": {
    "name": "ipython",
    "version": 3
   },
   "file_extension": ".py",
   "mimetype": "text/x-python",
   "name": "python",
   "nbconvert_exporter": "python",
   "pygments_lexer": "ipython3",
   "version": "3.12.2"
  }
 },
 "nbformat": 4,
 "nbformat_minor": 2
}
