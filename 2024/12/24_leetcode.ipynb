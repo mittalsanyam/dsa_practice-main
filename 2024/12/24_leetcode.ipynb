{
 "cells": [
  {
   "cell_type": "markdown",
   "metadata": {},
   "source": [
    "# 3203. Find Minimum Diameter After Merging Two Trees\n",
    "\n",
    "**Level: Hard**\n",
    "\n",
    "[Problem Link](https://leetcode.com/problems/find-minimum-diameter-after-merging-two-trees/description/)\n",
    "\n",
    "There exist two undirected trees with n and m nodes, numbered from 0 to n - 1 and from 0 to m - 1, respectively. You are given two 2D integer arrays edges1 and edges2 of lengths n - 1 and m - 1, respectively, where edges1[i] = [ai, bi] indicates that there is an edge between nodes ai and bi in the first tree and edges2[i] = [ui, vi] indicates that there is an edge between nodes ui and vi in the second tree.\n",
    "\n",
    "You must connect one node from the first tree with another node from the second tree with an edge.\n",
    "\n",
    "Return the minimum possible diameter of the resulting tree.\n",
    "\n",
    "The diameter of a tree is the length of the longest path between any two nodes in the tree.\n",
    "\n",
    "## Examples\n",
    "\n",
    "### Example 1\n",
    "\n",
    "Input: edges1 = [[0,1],[0,2],[0,3]], edges2 = [[0,1]]\n",
    "\n",
    "Output: 3\n",
    "\n",
    "Explanation:\n",
    "\n",
    "We can obtain a tree of diameter 3 by connecting node 0 from the first tree with any node from the second tree.\n",
    "\n",
    "### Example 2\n",
    "\n",
    "Input: edges1 = [[0,1],[0,2],[0,3],[2,4],[2,5],[3,6],[2,7]], edges2 = [[0,1],[0,2],[0,3],[2,4],[2,5],[3,6],[2,7]]\n",
    "\n",
    "Output: 5\n",
    "\n",
    "Explanation:\n",
    "\n",
    "We can obtain a tree of diameter 5 by connecting node 0 from the first tree with node 0 from the second tree.\n",
    "\n",
    "## Constraints\n",
    "\n",
    "Constraints:\n",
    "\n",
    "- $1 <= n, m <= 10^5$\n",
    "- $edges1.length == n - 1$\n",
    "- $edges2.length == m - 1$\n",
    "- $edges1[i].length == edges2[i].length == 2$\n",
    "- $edges1[i] = [ai, bi]$\n",
    "- $0 <= ai, bi < n$\n",
    "- $edges2[i] = [ui, vi]$\n",
    "- $0 <= ui, vi < m$\n",
    "- The input is generated such that edges1 and edges2 represent valid trees."
   ]
  },
  {
   "cell_type": "markdown",
   "metadata": {},
   "source": [
    "## Solution"
   ]
  },
  {
   "cell_type": "code",
   "execution_count": 1,
   "metadata": {},
   "outputs": [
    {
     "name": "stdout",
     "output_type": "stream",
     "text": [
      "3\n"
     ]
    }
   ],
   "source": [
    "from collections import deque\n",
    "import math\n",
    "def makeTree(edges):\n",
    "    adjGraph = {}\n",
    "    for (u,v) in edges:\n",
    "        if u not in adjGraph.keys():\n",
    "            adjGraph[u]=[]\n",
    "        if v not in adjGraph.keys():\n",
    "            adjGraph[v]=[]\n",
    "        adjGraph[u].append(v)\n",
    "        adjGraph[v].append(u)\n",
    "    return adjGraph\n",
    "\n",
    "def bfs(graph,start):\n",
    "    visited,distance={},{}\n",
    "    queue=deque()\n",
    "    for i in graph.keys():\n",
    "        visited[i],distance[i]=False,0\n",
    "    queue.append(start)\n",
    "    while queue:\n",
    "        u = queue.popleft()\n",
    "        visited[u]=True\n",
    "        for v in graph[u]:\n",
    "            if not visited[v]:\n",
    "                queue.append(v)\n",
    "                distance[v]=distance[u]+1\n",
    "    return distance\n",
    "\n",
    "def diameter(graph):\n",
    "    distance=bfs(graph,0)\n",
    "    maxDistantVertice,maxDistance=-1,0\n",
    "    for i in distance.keys():\n",
    "        if maxDistance<distance[i]:\n",
    "            maxDistance=distance[i]\n",
    "            maxDistantVertice=i\n",
    "    distancedia=bfs(graph,maxDistantVertice)\n",
    "    diameter=0\n",
    "    for i in distance.keys():\n",
    "        if diameter<distancedia[i]:\n",
    "            diameter=distancedia[i]\n",
    "    return diameter\n",
    "\n",
    "def minimumDiameterAfterMerge(edges1,edges2):\n",
    "    graph1 = makeTree(edges1)\n",
    "    graph2 = makeTree(edges2)\n",
    "    dia1,dia2 = diameter(graph1),diameter(graph2)\n",
    "    return max(dia1,dia2,math.ceil(dia1/2)+math.ceil(dia2/2)+1)\n",
    "\n",
    "edges1,edges2 = [[0,1],[0,2],[0,3]],[[0,1]]\n",
    "print(minimumDiameterAfterMerge(edges1,edges2))"
   ]
  },
  {
   "cell_type": "code",
   "execution_count": 2,
   "metadata": {},
   "outputs": [
    {
     "name": "stdout",
     "output_type": "stream",
     "text": [
      "5\n"
     ]
    }
   ],
   "source": [
    "edges1 = [[0,1],[0,2],[0,3],[2,4],[2,5],[3,6],[2,7]]\n",
    "edges2 = [[0,1],[0,2],[0,3],[2,4],[2,5],[3,6],[2,7]]\n",
    "print(minimumDiameterAfterMerge(edges1,edges2))"
   ]
  },
  {
   "cell_type": "code",
   "execution_count": null,
   "metadata": {},
   "outputs": [],
   "source": []
  }
 ],
 "metadata": {
  "kernelspec": {
   "display_name": "base",
   "language": "python",
   "name": "python3"
  },
  "language_info": {
   "codemirror_mode": {
    "name": "ipython",
    "version": 3
   },
   "file_extension": ".py",
   "mimetype": "text/x-python",
   "name": "python",
   "nbconvert_exporter": "python",
   "pygments_lexer": "ipython3",
   "version": "3.12.2"
  }
 },
 "nbformat": 4,
 "nbformat_minor": 2
}
