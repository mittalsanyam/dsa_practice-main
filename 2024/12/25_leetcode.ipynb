{
 "cells": [
  {
   "cell_type": "markdown",
   "metadata": {},
   "source": [
    "# 515. Find Largest Value in Each Tree Row\n",
    "\n",
    "**Level: Medium**\n",
    "\n",
    "[Problem Link](https://leetcode.com/problems/find-largest-value-in-each-tree-row/description/)\n",
    "\n",
    "Given the root of a binary tree, return an array of the largest value in each row of the tree (0-indexed).\n",
    "\n",
    "## Examples\n",
    "\n",
    "### Example 1\n",
    "\n",
    "Input: root = [1,3,2,5,3,null,9]\n",
    "\n",
    "Output: [1,3,9]\n",
    "\n",
    "### Example 2\n",
    "\n",
    "Input: root = [1,2,3]\n",
    "\n",
    "Output: [1,3]\n",
    "\n",
    "## Constraints\n",
    "\n",
    "- $The number of nodes in the tree will be in the range [0, 10^4].$\n",
    "- $-231 <= Node.val <= 231 - 1$\n",
    "\n"
   ]
  },
  {
   "cell_type": "markdown",
   "metadata": {},
   "source": [
    "## Solution"
   ]
  },
  {
   "cell_type": "code",
   "execution_count": 32,
   "metadata": {},
   "outputs": [],
   "source": [
    "from collections import deque\n",
    "\n",
    "class TreeNode:\n",
    "    def __init__(self,val=None,left=None,right=None):\n",
    "        self.val=val\n",
    "        self.right=right\n",
    "        self.left=left\n",
    "\n",
    "def makeTree(arr):\n",
    "    n=len(arr)\n",
    "    if n>0:\n",
    "        tr = TreeNode(arr[0])\n",
    "        queue=deque()\n",
    "        queue.append(tr)\n",
    "        i=1\n",
    "        while i<n:\n",
    "            temp = queue.popleft()\n",
    "            temp.left = TreeNode(arr[i])\n",
    "            if arr[i]!=None:\n",
    "                queue.append(temp.left)\n",
    "            i+=1\n",
    "            if i<n:\n",
    "                temp.right = TreeNode(arr[i])\n",
    "                if arr[i]!=None:\n",
    "                    queue.append(temp.right)\n",
    "            i+=1\n",
    "    else:\n",
    "        tr=TreeNode()\n",
    "    return tr\n",
    "\n",
    "def traverse(root):\n",
    "    levels,depth={},{}\n",
    "    queue=deque()\n",
    "    queue.append(root)\n",
    "    levels[root]=0\n",
    "    while len(queue)>0:\n",
    "        temp = queue.popleft()\n",
    "        if levels[temp] not in depth.keys():\n",
    "            depth[levels[temp]]=-float('inf')\n",
    "        if temp.val!=None:\n",
    "            depth[levels[temp]]=max(depth[levels[temp]],temp.val)\n",
    "        if temp!=None:\n",
    "            if temp.left!=None:\n",
    "                levels[temp.left]=levels[temp]+1\n",
    "                queue.append(temp.left)\n",
    "            if temp.right!=None:\n",
    "                levels[temp.right]=levels[temp]+1\n",
    "                queue.append(temp.right)\n",
    "    return depth\n",
    "\n",
    "def largestValues(root):\n",
    "    res = []\n",
    "    if root==None:\n",
    "        return res\n",
    "    maxValues=traverse(root)\n",
    "    for i in maxValues.keys():\n",
    "        res.append(maxValues[i])\n",
    "    return res"
   ]
  },
  {
   "cell_type": "code",
   "execution_count": 33,
   "metadata": {},
   "outputs": [],
   "source": [
    "null=None"
   ]
  },
  {
   "cell_type": "code",
   "execution_count": 34,
   "metadata": {},
   "outputs": [
    {
     "name": "stdout",
     "output_type": "stream",
     "text": [
      "[1, 3, 9]\n"
     ]
    }
   ],
   "source": [
    "arr1 = [1,3,2,5,3,null,9]\n",
    "root1 = makeTree(arr1)\n",
    "print(largestValues(root1))"
   ]
  },
  {
   "cell_type": "code",
   "execution_count": 35,
   "metadata": {},
   "outputs": [
    {
     "name": "stdout",
     "output_type": "stream",
     "text": [
      "[1, 3]\n"
     ]
    }
   ],
   "source": [
    "arr2 = [1,2,3]\n",
    "root2 = makeTree(arr2)\n",
    "print(largestValues(root2))"
   ]
  }
 ],
 "metadata": {
  "kernelspec": {
   "display_name": "base",
   "language": "python",
   "name": "python3"
  },
  "language_info": {
   "codemirror_mode": {
    "name": "ipython",
    "version": 3
   },
   "file_extension": ".py",
   "mimetype": "text/x-python",
   "name": "python",
   "nbconvert_exporter": "python",
   "pygments_lexer": "ipython3",
   "version": "3.12.2"
  }
 },
 "nbformat": 4,
 "nbformat_minor": 2
}
