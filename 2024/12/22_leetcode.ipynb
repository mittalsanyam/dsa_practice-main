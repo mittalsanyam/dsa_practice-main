{
 "cells": [
  {
   "cell_type": "markdown",
   "metadata": {},
   "source": [
    "# 2940. Find Building Where Alice and Bob Can Meet\n",
    "\n",
    "**Level: Hard**\n",
    "\n",
    "[Problem Link](https://leetcode.com/problems/find-building-where-alice-and-bob-can-meet/description/)\n",
    "\n",
    "You are given a 0-indexed array heights of positive integers, where heights[i] represents the height of the ith building.\n",
    "\n",
    "If a person is in building i, they can move to any other building j if and only if i < j and heights[i] < heights[j].\n",
    "\n",
    "You are also given another array queries where queries[i] = [ai, bi]. On the ith query, Alice is in building ai while Bob is in building bi.\n",
    "\n",
    "Return an array ans where ans[i] is the index of the leftmost building where Alice and Bob can meet on the ith query. If Alice and Bob cannot move to a common building on query i, set ans[i] to -1."
   ]
  },
  {
   "cell_type": "markdown",
   "metadata": {},
   "source": [
    "## Examples\n",
    "### Example 1:\n",
    "\n",
    "Input: heights = [6,4,8,5,2,7], queries = [[0,1],[0,3],[2,4],[3,4],[2,2]]\n",
    "\n",
    "Output: [2,5,-1,5,2]\n",
    "\n",
    "Explanation: In the first query, Alice and Bob can move to building 2 since heights[0] < heights[2] and heights[1] < heights[2].\n",
    "\n",
    "In the second query, Alice and Bob can move to building 5 since heights[0] < heights[5] and heights[3] < heights[5]. \n",
    "\n",
    "In the third query, Alice cannot meet Bob since Alice cannot move to any other building.\n",
    "\n",
    "In the fourth query, Alice and Bob can move to building 5 since heights[3] < heights[5] and heights[4] < heights[5].\n",
    "\n",
    "In the fifth query, Alice and Bob are already in the same building.  \n",
    "For ans[i] != -1, It can be shown that ans[i] is the leftmost building where Alice and Bob can meet.\n",
    "\n",
    "For ans[i] == -1, It can be shown that there is no building where Alice and Bob can meet.\n",
    "\n",
    "### Example 2:\n",
    "\n",
    "Input: heights = [5,3,8,2,6,1,4,6], queries = [[0,7],[3,5],[5,2],[3,0],[1,6]]\n",
    "\n",
    "Output: [7,6,-1,4,6]\n",
    "\n",
    "Explanation: In the first query, Alice can directly move to Bob's building since heights[0] < heights[7].\n",
    "\n",
    "In the second query, Alice and Bob can move to building 6 since heights[3] < heights[6] and heights[5] < heights[6].\n",
    "\n",
    "In the third query, Alice cannot meet Bob since Bob cannot move to any other building.\n",
    "\n",
    "In the fourth query, Alice and Bob can move to building 4 since heights[3] < heights[4] and heights[0] < heights[4].\n",
    "\n",
    "In the fifth query, Alice can directly move to Bob's building since heights[1] < heights[6].\n",
    "\n",
    "For ans[i] != -1, It can be shown that ans[i] is the leftmost building where Alice and Bob can meet.\n",
    "\n",
    "For ans[i] == -1, It can be shown that there is no building where Alice and Bob can meet."
   ]
  },
  {
   "cell_type": "markdown",
   "metadata": {},
   "source": [
    "## Constraints:\n",
    "\n",
    "- $1 <= heights.length <= 5 * 10^4$\n",
    "- $1 <= heights[i] <= 10^9$\n",
    "- $1 <= queries.length <= 5 * 10^4$\n",
    "- $queries[i] = [ai, bi]$\n",
    "- $0 <= ai, bi <= heights.length - 1$"
   ]
  },
  {
   "cell_type": "markdown",
   "metadata": {},
   "source": [
    "## Solution"
   ]
  },
  {
   "cell_type": "code",
   "execution_count": 64,
   "metadata": {},
   "outputs": [],
   "source": [
    "def search(height,mono_stack):\n",
    "    left=0\n",
    "    right=len(mono_stack)-1\n",
    "    ans=-1\n",
    "    while left<=right:\n",
    "        mid=(left+right)//2\n",
    "        if mono_stack[mid][0]>height:\n",
    "            ans=max(ans,mid)\n",
    "            left=mid+1\n",
    "        else:\n",
    "            right=mid-1\n",
    "    return ans\n",
    "\n",
    "def leftmostBuildingQueries(heights,queries):\n",
    "    monostack=[]\n",
    "    n,m = len(heights),len(queries)\n",
    "    meet = [-1 for _ in range(m)]\n",
    "    newqueries=[[] for _ in range(n)]\n",
    "    for i in range(m):\n",
    "        a,b = queries[i][0],queries[i][1]\n",
    "        if a>b:\n",
    "            a,b=b,a\n",
    "        if heights[a]<heights[b] or a==b:\n",
    "            meet[i]=b\n",
    "        else:\n",
    "            newqueries[b].append((heights[a],i))\n",
    "    for i in range(len(heights)-1,-1,-1):\n",
    "        p = len(monostack)\n",
    "        for height,index in newqueries[i]:\n",
    "            position = search(height,monostack)\n",
    "            if position<p and position>=0:\n",
    "                meet[index]=monostack[position][1]\n",
    "        while monostack and monostack[-1][0]<=heights[i]:\n",
    "            monostack.pop()\n",
    "        monostack.append((heights[i],i))\n",
    "    return meet\n",
    "        "
   ]
  },
  {
   "cell_type": "code",
   "execution_count": 65,
   "metadata": {},
   "outputs": [
    {
     "name": "stdout",
     "output_type": "stream",
     "text": [
      "[2, 5, -1, 5, 2]\n"
     ]
    }
   ],
   "source": [
    "heights1 = [6,4,8,5,2,7]\n",
    "queries1 = [[0,1],[0,3],[2,4],[3,4],[2,2]]\n",
    "print(leftmostBuildingQueries(heights1,queries1))"
   ]
  },
  {
   "cell_type": "code",
   "execution_count": 66,
   "metadata": {},
   "outputs": [
    {
     "name": "stdout",
     "output_type": "stream",
     "text": [
      "[7, 6, -1, 4, 6]\n"
     ]
    }
   ],
   "source": [
    "heights2 = [5,3,8,2,6,1,4,6]\n",
    "queries2 = [[0,7],[3,5],[5,2],[3,0],[1,6]]\n",
    "print(leftmostBuildingQueries(heights2,queries2))"
   ]
  },
  {
   "cell_type": "code",
   "execution_count": null,
   "metadata": {},
   "outputs": [],
   "source": []
  }
 ],
 "metadata": {
  "kernelspec": {
   "display_name": "base",
   "language": "python",
   "name": "python3"
  },
  "language_info": {
   "codemirror_mode": {
    "name": "ipython",
    "version": 3
   },
   "file_extension": ".py",
   "mimetype": "text/x-python",
   "name": "python",
   "nbconvert_exporter": "python",
   "pygments_lexer": "ipython3",
   "version": "3.12.2"
  }
 },
 "nbformat": 4,
 "nbformat_minor": 2
}
