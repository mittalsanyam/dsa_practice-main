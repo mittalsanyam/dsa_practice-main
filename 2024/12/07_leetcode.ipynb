{
 "cells": [
  {
   "cell_type": "markdown",
   "metadata": {},
   "source": [
    "# 1760. Minimum Limit of Balls in a Bag\n",
    "**Level: Medium**\n",
    "\n",
    "[Problem Link](https://leetcode.com/problems/minimum-limit-of-balls-in-a-bag/description/?envType=daily-question&envId=2024-12-07)\n",
    "\n",
    "You are given an integer array nums where the ith bag contains nums[i] balls. You are also given an integer maxOperations.\n",
    "\n",
    "You can perform the following operation at most maxOperations times:\n",
    "\n",
    "- Take any bag of balls and divide it into two new bags with a positive number of balls.\n",
    "    - For example, a bag of 5 balls can become two new bags of 1 and 4 balls, or two new bags of 2 and 3 balls.\n",
    "\n",
    "Your penalty is the maximum number of balls in a bag. You want to minimize your penalty after the operations.\n",
    "\n",
    "Return the minimum possible penalty after performing the operations.\n",
    "\n",
    "## Examples\n",
    "### Example 1:\n",
    "Input: nums = [9], maxOperations = 2\n",
    "\n",
    "Output: 3\n",
    "\n",
    "Explanation: \n",
    "- Divide the bag with 9 balls into two bags of sizes 6 and 3. [9] -> [6,3].\n",
    "- Divide the bag with 6 balls into two bags of sizes 3 and 3. [6,3] -> [3,3,3].\n",
    "\n",
    "The bag with the most number of balls has 3 balls, so your penalty is 3 and you should return 3.\n",
    "\n",
    "### Example 2:\n",
    "\n",
    "Input: nums = [2,4,8,2], maxOperations = 4\n",
    "\n",
    "Output: 2\n",
    "\n",
    "Explanation:\n",
    "- Divide the bag with 8 balls into two bags of sizes 4 and 4. [2,4,8,2] -> [2,4,4,4,2].\n",
    "- Divide the bag with 4 balls into two bags of sizes 2 and 2. [2,4,4,4,2] -> [2,2,2,4,4,2].\n",
    "- Divide the bag with 4 balls into two bags of sizes 2 and 2. [2,2,2,4,4,2] -> [2,2,2,2,2,4,2].\n",
    "- Divide the bag with 4 balls into two bags of sizes 2 and 2. [2,2,2,2,2,4,2] -> [2,2,2,2,2,2,2,2].\n",
    "\n",
    "The bag with the most number of balls has 2 balls, so your penalty is 2, and you should return 2.\n",
    "\n",
    "## Constraints:\n",
    "- 1 <= nums.length <= 105\n",
    "- 1 <= maxOperations, nums[i] <= 109\n"
   ]
  },
  {
   "cell_type": "markdown",
   "metadata": {},
   "source": [
    "## Solution"
   ]
  },
  {
   "cell_type": "code",
   "execution_count": 3,
   "metadata": {},
   "outputs": [
    {
     "name": "stdout",
     "output_type": "stream",
     "text": [
      "3\n",
      "2\n"
     ]
    }
   ],
   "source": [
    "def minimumSize(nums,maxOperations):\n",
    "    l,r=1,max(nums)\n",
    "    while l<r:\n",
    "        m=(l+r)//2\n",
    "        count=sum([(x-1)//m for x in nums])\n",
    "        if count<=maxOperations:\n",
    "            r=m\n",
    "        else:\n",
    "            l=m+1\n",
    "    return r\n",
    "\n",
    "print(minimumSize([9],2))\n",
    "print(minimumSize([2,4,8,2],4))"
   ]
  }
 ],
 "metadata": {
  "kernelspec": {
   "display_name": "base",
   "language": "python",
   "name": "python3"
  },
  "language_info": {
   "codemirror_mode": {
    "name": "ipython",
    "version": 3
   },
   "file_extension": ".py",
   "mimetype": "text/x-python",
   "name": "python",
   "nbconvert_exporter": "python",
   "pygments_lexer": "ipython3",
   "version": "3.12.2"
  }
 },
 "nbformat": 4,
 "nbformat_minor": 2
}
