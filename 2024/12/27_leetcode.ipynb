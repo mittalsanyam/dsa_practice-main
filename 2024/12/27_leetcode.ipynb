{
 "cells": [
  {
   "cell_type": "markdown",
   "metadata": {},
   "source": [
    "# 1014. Best Sightseeing Pair\n",
    "\n",
    "**Level: Medium**\n",
    "\n",
    "[Problem Link](https://leetcode.com/problems/best-sightseeing-pair/description/)\n",
    "\n",
    "You are given an integer array values where values[i] represents the value of the ith sightseeing spot. Two sightseeing spots i and j have a distance j - i between them.\n",
    "\n",
    "The score of a pair (i < j) of sightseeing spots is values[i] + values[j] + i - j: the sum of the values of the sightseeing spots, minus the distance between them.\n",
    "\n",
    "Return the maximum score of a pair of sightseeing spots.\n",
    "\n",
    "## Examples\n",
    "\n",
    "### Example 1:\n",
    "\n",
    "- Input: values = [8,1,5,2,6]\n",
    "- Output: 11\n",
    "- Explanation: i = 0, j = 2, values[i] + values[j] + i - j = 8 + 5 + 0 - 2 = 11\n",
    "\n",
    "### Example 2:\n",
    "\n",
    "- Input: values = [1,2]\n",
    "- Output: 2\n",
    "\n",
    "## Constraints\n",
    "\n",
    "- $2 <= values.length <= 5 * 10^4$\n",
    "- 1 <= values[i] <= 1000"
   ]
  },
  {
   "cell_type": "markdown",
   "metadata": {},
   "source": [
    "## Solution"
   ]
  },
  {
   "cell_type": "code",
   "execution_count": 5,
   "metadata": {},
   "outputs": [
    {
     "name": "stdout",
     "output_type": "stream",
     "text": [
      "11\n",
      "2\n"
     ]
    }
   ],
   "source": [
    "def maxScoreSightseeingPair(values):\n",
    "    maxScore=0\n",
    "    n=len(values)\n",
    "    leftMaxScore={0:values[0]}\n",
    "    for i in range(1,n):\n",
    "        score = values[i]-i+leftMaxScore[i-1]\n",
    "        leftMaxScore[i]=max(leftMaxScore[i-1],values[i]+i)\n",
    "        if score>maxScore:\n",
    "            maxScore=score\n",
    "    return maxScore\n",
    "        \n",
    "\n",
    "values1=[8,1,5,2,6]\n",
    "print(maxScoreSightseeingPair(values1))\n",
    "values2 = [1,2]\n",
    "print(maxScoreSightseeingPair(values2))"
   ]
  }
 ],
 "metadata": {
  "kernelspec": {
   "display_name": "base",
   "language": "python",
   "name": "python3"
  },
  "language_info": {
   "codemirror_mode": {
    "name": "ipython",
    "version": 3
   },
   "file_extension": ".py",
   "mimetype": "text/x-python",
   "name": "python",
   "nbconvert_exporter": "python",
   "pygments_lexer": "ipython3",
   "version": "3.12.2"
  }
 },
 "nbformat": 4,
 "nbformat_minor": 2
}
