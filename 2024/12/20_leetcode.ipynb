{
 "cells": [
  {
   "cell_type": "markdown",
   "metadata": {},
   "source": [
    "# 2415. Reverse Odd Levels of Binary Tree\n",
    "\n",
    "**Level: Medium**\n",
    "\n",
    "[Problem Link](https://leetcode.com/problems/reverse-odd-levels-of-binary-tree/description/)\n",
    "\n",
    "Given the root of a perfect binary tree, reverse the node values at each odd level of the tree.\n",
    "\n",
    "For example, suppose the node values at level 3 are [2,1,3,4,7,11,29,18], then it should become [18,29,11,7,4,3,1,2].\n",
    "Return the root of the reversed tree.\n",
    "\n",
    "A binary tree is perfect if all parent nodes have two children and all leaves are on the same level.\n",
    "\n",
    "The level of a node is the number of edges along the path between it and the root node."
   ]
  },
  {
   "cell_type": "markdown",
   "metadata": {},
   "source": [
    "## Examples\n",
    "\n",
    "### Example 1\n",
    "Input: root = [2,3,5,8,13,21,34]\n",
    "\n",
    "Output: [2,5,3,8,13,21,34]\n",
    "\n",
    "Explanation:\n",
    "\n",
    "The tree has only one odd level.\n",
    "\n",
    "The nodes at level 1 are 3, 5 respectively, which are reversed and become 5, 3.\n",
    "\n",
    "### Example 2\n",
    "Input: root = [7,13,11]\n",
    "\n",
    "Output: [7,11,13]\n",
    "\n",
    "Explanation: \n",
    "\n",
    "The nodes at level 1 are 13, 11, which are reversed and become 11, 13.\n",
    "\n",
    "### Example 3\n",
    "\n",
    "Input: root = [0,1,2,0,0,0,0,1,1,1,1,2,2,2,2]\n",
    "\n",
    "Output: [0,2,1,0,0,0,0,2,2,2,2,1,1,1,1]\n",
    "\n",
    "Explanation:\n",
    "\n",
    "The odd levels have non-zero values.\n",
    "\n",
    "The nodes at level 1 were 1, 2, and are 2, 1 after the reversal.\n",
    "\n",
    "The nodes at level 3 were 1, 1, 1, 1, 2, 2, 2, 2, and are 2, 2, 2, 2, 1, 1, 1, 1 after the reversal.\n"
   ]
  },
  {
   "cell_type": "markdown",
   "metadata": {},
   "source": [
    "## Solution"
   ]
  },
  {
   "cell_type": "code",
   "execution_count": 2,
   "metadata": {},
   "outputs": [
    {
     "name": "stdout",
     "output_type": "stream",
     "text": [
      "[0, 1, 2, 0, 0, 0, 0, 1, 1, 1, 1, 2, 2, 2, 2]\n",
      "[2, 3, 5, 8, 13, 21, 34]\n",
      "[7, 13, 11]\n",
      "[1, 2, 3, 4, 5, 6, 7, 8, 9, 10, 11, 12, 13, 14, 15, 16, 17, 18, 19, 20, 21, 22, 23, 24, 25, 26, 27, 28, 29, 30, 31]\n"
     ]
    }
   ],
   "source": [
    "class TreeNode:\n",
    "    def __init__(self,val,left=None,right=None):\n",
    "        self.val=val\n",
    "        self.left=left\n",
    "        self.right=right\n",
    "\n",
    "\n",
    "def makeTree(L):\n",
    "    queue = []\n",
    "    n=len(L)\n",
    "    if n>0:\n",
    "        root=TreeNode(L[0])\n",
    "        queue.insert(0,root)\n",
    "    i=1\n",
    "    while len(queue)>0 and i<n:\n",
    "        temp=queue.pop()\n",
    "        if temp.left==None:\n",
    "            temp.left=TreeNode(L[i])\n",
    "            queue.insert(0,temp.left)\n",
    "            i+=1\n",
    "        if i<n and temp.right==None:\n",
    "            temp.right=TreeNode(L[i])\n",
    "            queue.insert(0,temp.right)\n",
    "            i+=1\n",
    "    return root\n",
    "\n",
    "def traverse(Tr):\n",
    "    queue = [Tr]\n",
    "    res=[]\n",
    "    while len(queue)>0:\n",
    "        temp=queue.pop()\n",
    "        res.append(temp.val)\n",
    "        if temp.left!=None:\n",
    "            queue.insert(0,temp.left)\n",
    "        if temp.right!=None:\n",
    "            queue.insert(0,temp.right)\n",
    "    return res\n",
    "\n",
    "L1 = [0,1,2,0,0,0,0,1,1,1,1,2,2,2,2]\n",
    "root1=makeTree(L1)\n",
    "print(traverse(root1))\n",
    "\n",
    "L2 = [2,3,5,8,13,21,34]\n",
    "root2=makeTree(L2)\n",
    "print(traverse(root2))\n",
    "\n",
    "L3 = [7,13,11]\n",
    "root3=makeTree(L3)\n",
    "print(traverse(root3))\n",
    "\n",
    "L4=[i for i in range(1,32)]\n",
    "root4=makeTree(L4)\n",
    "print(traverse(root4))"
   ]
  },
  {
   "cell_type": "code",
   "execution_count": 3,
   "metadata": {},
   "outputs": [
    {
     "name": "stdout",
     "output_type": "stream",
     "text": [
      "[1, 3, 2, 4, 5, 6, 7, 15, 14, 13, 12, 11, 10, 9, 8, 16, 17, 18, 19, 20, 21, 22, 23, 24, 25, 26, 27, 28, 29, 30, 31]\n",
      "[7, 11, 13]\n"
     ]
    }
   ],
   "source": [
    "import math\n",
    "def reverseOddLevels(root):\n",
    "\n",
    "    queue=[]\n",
    "    if root.left!=None and root.right!=None:\n",
    "        queue.insert(0,(root.left,root.right))\n",
    "    count=0\n",
    "    oddlevellist={}\n",
    "    while len(queue)>0:\n",
    "        temp1,temp2=queue.pop()\n",
    "        count+=1\n",
    "        level=math.floor(math.log2(count))+1\n",
    "        if level%2==1:\n",
    "            if level not in oddlevellist.keys():\n",
    "                oddlevellist[level]=[[],[]]\n",
    "            oddlevellist[level][0].append(temp1)\n",
    "            oddlevellist[level][0].append(temp2)\n",
    "            oddlevellist[level][1].append(temp1.val)\n",
    "            oddlevellist[level][1].append(temp2.val)  \n",
    "        if temp1.left!=None and temp1.right!=None:\n",
    "            queue.insert(0,(temp1.left,temp1.right))\n",
    "        if temp2.right!=None and temp2.right!=None:\n",
    "            queue.insert(0,(temp2.left,temp2.right))\n",
    "    for level in oddlevellist.keys():\n",
    "        while len(oddlevellist[level][0])>0:\n",
    "            oddroot = oddlevellist[level][0].pop(0)\n",
    "            oddval = oddlevellist[level][1].pop()\n",
    "            oddroot.val=oddval\n",
    "\n",
    "reverseOddLevels(root4) \n",
    "print(traverse(root4))  \n",
    "reverseOddLevels(root3)\n",
    "print(traverse(root3))"
   ]
  },
  {
   "cell_type": "code",
   "execution_count": 5,
   "metadata": {},
   "outputs": [
    {
     "name": "stdout",
     "output_type": "stream",
     "text": [
      "[1, 3, 2, 4, 5, 6, 7, 15, 14, 13, 12, 11, 10, 9, 8, 16, 17, 18, 19, 20, 21, 22, 23, 24, 25, 26, 27, 28, 29, 30, 31]\n",
      "[7, 11, 13]\n"
     ]
    }
   ],
   "source": [
    "def reverseOddLevels(root):\n",
    "    def traverse_dfs(left_child,right_child,level):\n",
    "        if left_child is None or right_child is None:\n",
    "            return\n",
    "        if level%2==0:\n",
    "            temp=left_child.val\n",
    "            left_child.val=right_child.val\n",
    "            right_child.val=temp\n",
    "        traverse_dfs(left_child.left,right_child.right,level+1)\n",
    "        traverse_dfs(left_child.right,right_child.left,level+1)\n",
    "    traverse_dfs(root.left,root.right,0)\n",
    "    return root\n",
    "\n",
    "reverseOddLevels(root4) \n",
    "print(traverse(root4))  \n",
    "reverseOddLevels(root3)\n",
    "print(traverse(root3))"
   ]
  }
 ],
 "metadata": {
  "kernelspec": {
   "display_name": "base",
   "language": "python",
   "name": "python3"
  },
  "language_info": {
   "codemirror_mode": {
    "name": "ipython",
    "version": 3
   },
   "file_extension": ".py",
   "mimetype": "text/x-python",
   "name": "python",
   "nbconvert_exporter": "python",
   "pygments_lexer": "ipython3",
   "version": "3.12.2"
  }
 },
 "nbformat": 4,
 "nbformat_minor": 2
}
