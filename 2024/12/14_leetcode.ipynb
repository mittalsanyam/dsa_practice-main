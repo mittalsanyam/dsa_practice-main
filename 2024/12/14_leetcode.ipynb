{
 "cells": [
  {
   "cell_type": "markdown",
   "metadata": {},
   "source": [
    "# 2762. Continuous Subarrays\n",
    "**Level: Medium**\n",
    "\n",
    "[Problem Link](https://leetcode.com/problems/continuous-subarrays/description)\n",
    "\n",
    "You are given a 0-indexed integer array nums. A subarray of nums is called continuous if:\n",
    "\n",
    "- Let i, i + 1, ..., j be the indices in the subarray. Then, for each pair of indices i <= i1, i2 <= j, 0 <= |nums[i1] - nums[i2]| <= 2.\n",
    "\n",
    "Return the total number of continuous subarrays.\n",
    "\n",
    "A subarray is a contiguous non-empty sequence of elements within an array.\n",
    "\n",
    "## Examples\n",
    "### Example 1:\n",
    "Input: nums = [5,4,2,4]\n",
    "\n",
    "Output: 8\n",
    "\n",
    "Explanation: \n",
    "\n",
    "Continuous subarray of size 1: [5], [4], [2], [4].\n",
    "\n",
    "Continuous subarray of size 2: [5,4], [4,2], [2,4].\n",
    "\n",
    "Continuous subarray of size 3: [4,2,4].\n",
    "\n",
    "Thereare no subarrys of size 4.\n",
    "\n",
    "Total continuous subarrays = 4 + 3 + 1 = 8.\n",
    "\n",
    "It can be shown that there are no more continuous subarrays.\n",
    "\n",
    "### Example 2\n",
    "Input: nums = [1,2,3]\n",
    "\n",
    "Output: 6\n",
    "\n",
    "Explanation: \n",
    "\n",
    "Continuous subarray of size 1: [1], [2], [3].\n",
    "\n",
    "Continuous subarray of size 2: [1,2], [2,3].\n",
    "\n",
    "Continuous subarray of size 3: [1,2,3].\n",
    "\n",
    "Total continuous subarrays = 3 + 2 + 1 = 6.\n",
    "\n",
    "## Constraints\n",
    "- 1 <= nums.length <= 105\n",
    "- 1 <= nums[i] <= 109"
   ]
  },
  {
   "cell_type": "markdown",
   "metadata": {},
   "source": [
    "## Solution"
   ]
  },
  {
   "cell_type": "code",
   "execution_count": 54,
   "metadata": {},
   "outputs": [
    {
     "name": "stdout",
     "output_type": "stream",
     "text": [
      "8\n",
      "6\n",
      "43\n"
     ]
    }
   ],
   "source": [
    "from sortedcontainers import SortedList\n",
    "def continousSubarrays(nums):\n",
    "    start=0\n",
    "    n=len(nums)\n",
    "    window=SortedList()\n",
    "    totalsubarray=0\n",
    "    for end in range(n):\n",
    "        window.add(nums[end])\n",
    "        while window[-1]-window[0]>2:\n",
    "            window.remove(nums[start])\n",
    "            start+=1\n",
    "        totalsubarray+=end-start+1\n",
    "    return totalsubarray\n",
    "print(continousSubarrays([5,4,2,4]))\n",
    "print(continousSubarrays([1,2,3]))\n",
    "print(continousSubarrays([65,66,67,66,66,65,64,65,65,64]))"
   ]
  }
 ],
 "metadata": {
  "kernelspec": {
   "display_name": "base",
   "language": "python",
   "name": "python3"
  },
  "language_info": {
   "codemirror_mode": {
    "name": "ipython",
    "version": 3
   },
   "file_extension": ".py",
   "mimetype": "text/x-python",
   "name": "python",
   "nbconvert_exporter": "python",
   "pygments_lexer": "ipython3",
   "version": "3.12.2"
  }
 },
 "nbformat": 4,
 "nbformat_minor": 2
}
