{
 "cells": [
  {
   "cell_type": "markdown",
   "metadata": {},
   "source": [
    "# 2471. Minimum Number of Operations to Sort a Binary Tree by Level\n",
    "\n",
    "**Level: Medium**\n",
    "\n",
    "[Problem Link](https://leetcode.com/problems/minimum-number-of-operations-to-sort-a-binary-tree-by-level/description/)\\\n",
    "\n",
    "You are given the root of a binary tree with unique values.\n",
    "\n",
    "In one operation, you can choose any two nodes at the same level and swap their values.\n",
    "\n",
    "Return the minimum number of operations needed to make the values at each level sorted in a strictly increasing order.\n",
    "\n",
    "The level of a node is the number of edges along the path between it and the root node.\n",
    "\n",
    "## Examples\n",
    "\n",
    "### Example 1:\n",
    "\n",
    "Input: root = [1,4,3,7,6,8,5,null,null,null,null,9,null,10]\n",
    "\n",
    "Output: 3\n",
    "\n",
    "Explanation:\n",
    "\n",
    "- Swap 4 and 3. The 2nd level becomes [3,4].\n",
    "\n",
    "- Swap 7 and 5. The 3rd level becomes [5,6,8,7].\n",
    "\n",
    "- Swap 8 and 7. The 3rd level becomes [5,6,7,8].\n",
    "\n",
    "We used 3 operations so return 3.\n",
    "\n",
    "It can be proven that 3 is the minimum number of operations needed.\n",
    "\n",
    "\n",
    "### Example 2\n",
    "\n",
    "Input: root = [1,3,2,7,6,5,4]\n",
    "\n",
    "Output: 3\n",
    "\n",
    "Explanation:\n",
    "\n",
    "- Swap 3 and 2. The 2nd level becomes [2,3].\n",
    "\n",
    "- Swap 7 and 4. The 3rd level becomes [4,6,5,7].\n",
    "\n",
    "- Swap 6 and 5. The 3rd level becomes [4,5,6,7].\n",
    "\n",
    "We used 3 operations so return 3.\n",
    "\n",
    "It can be proven that 3 is the minimum number of operations needed.\n",
    "\n",
    "### Example 3\n",
    "\n",
    "Input: root = [1,2,3,4,5,6]\n",
    "\n",
    "Output: 0\n",
    "\n",
    "Explanation: Each level is already sorted in increasing order so return 0.\n",
    "\n",
    "## Constraints\n",
    "- $The number of nodes in the tree is in the range [1, 10^5].$\n",
    "- $1 <= Node.val <= 10^5$\n",
    "- $All the values of the tree are unique.$"
   ]
  },
  {
   "cell_type": "markdown",
   "metadata": {},
   "source": [
    "## Solution"
   ]
  },
  {
   "cell_type": "code",
   "execution_count": 66,
   "metadata": {},
   "outputs": [],
   "source": [
    "class TreeNode:\n",
    "    def __init__(self,val=0,left=None,right=None):\n",
    "        self.val = val\n",
    "        self.right=None\n",
    "        self.left=None\n",
    "\n",
    "def makeTree(array):\n",
    "    n=len(array)\n",
    "    if n>0:\n",
    "        root = TreeNode(array[0])\n",
    "    queue = []\n",
    "    queue.append(root)\n",
    "    curr=1\n",
    "    while len(queue)>0 and curr<n:\n",
    "        temp = queue.pop()\n",
    "        temp.left=TreeNode(array[curr])\n",
    "        if array[curr]!=None:\n",
    "            queue.insert(0,temp.left)\n",
    "        curr+=1\n",
    "        if curr<n:\n",
    "            temp.right=TreeNode(array[curr])\n",
    "            if array[curr]!=None:\n",
    "                queue.insert(0,temp.right)\n",
    "        curr+=1\n",
    "    return root \n",
    "\n",
    "def bfs(root):\n",
    "    queue=[]\n",
    "    level,visited={},{}\n",
    "    queue.insert(0,root)\n",
    "    level[root]=0\n",
    "    while len(queue)>0:\n",
    "        temp = queue.pop()\n",
    "        visited[temp]=True\n",
    "        visited[temp.left]=False\n",
    "        visited[temp.right]=False\n",
    "        level[temp.left]=level[temp]+1\n",
    "        level[temp.right]=level[temp]+1\n",
    "        if not visited[temp.left] and temp.left!=None:\n",
    "            queue.insert(0,temp.left)\n",
    "        if not visited[temp.right] and temp.right!=None:\n",
    "            queue.insert(0,temp.right)\n",
    "    levels = {}\n",
    "    for node in level.keys():\n",
    "        if node!=None:\n",
    "            if level[node] not in levels.keys():\n",
    "                levels[level[node]]=[]\n",
    "            if node.val!=None:\n",
    "                levels[level[node]].append(node.val)\n",
    "    return levels\n",
    "\n",
    "def minimumOperations(root):\n",
    "    moves=0\n",
    "    levels = bfs(root)\n",
    "    sorted_levels={}\n",
    "    for level in levels.keys():\n",
    "        sorted_levels[level]=sorted(levels[level])\n",
    "        n = len(levels[level])\n",
    "        for i in range(n):\n",
    "            if sorted_levels[level][i]!=levels[level][i]:\n",
    "                idx = levels[level].index(sorted_levels[level][i])\n",
    "                levels[level][idx],levels[level][i]=levels[level][i],levels[level][idx]\n",
    "                moves+=1\n",
    "    return moves\n"
   ]
  },
  {
   "cell_type": "code",
   "execution_count": 67,
   "metadata": {},
   "outputs": [
    {
     "name": "stdout",
     "output_type": "stream",
     "text": [
      "3\n"
     ]
    }
   ],
   "source": [
    "input1 = [1,4,3,7,6,8,5,None,None,None,None,9,None,10]\n",
    "tree1=makeTree(input1)\n",
    "print(minimumOperations(tree1))"
   ]
  },
  {
   "cell_type": "code",
   "execution_count": 68,
   "metadata": {},
   "outputs": [
    {
     "name": "stdout",
     "output_type": "stream",
     "text": [
      "3\n"
     ]
    }
   ],
   "source": [
    "input2 = [1,3,2,7,6,5,4]\n",
    "tree2=makeTree(input2)\n",
    "print(minimumOperations(tree2))"
   ]
  },
  {
   "cell_type": "code",
   "execution_count": 69,
   "metadata": {},
   "outputs": [
    {
     "name": "stdout",
     "output_type": "stream",
     "text": [
      "0\n"
     ]
    }
   ],
   "source": [
    "input3 = [1,2,3,4,5,6]\n",
    "tree3=makeTree(input3)\n",
    "print(minimumOperations(tree3))"
   ]
  },
  {
   "cell_type": "code",
   "execution_count": 70,
   "metadata": {},
   "outputs": [
    {
     "name": "stdout",
     "output_type": "stream",
     "text": [
      "24\n"
     ]
    }
   ],
   "source": [
    "null=None\n",
    "input4 =[332,463,103,417,150,409,41,135,129,117,474,263,None,328,456,\n",
    "         347,167,383,None,None,422,493,489,275,72,None,None,425,89,\n",
    "         None,None,162,18,None,None,None,null,363,290,106,260,468,null,\n",
    "         null,null,432,null,323,null,null,null,null,null,null,36,null,null,\n",
    "         302,190,null,280,null,null,null,null,488,null,null,null,null,446,null,\n",
    "         null,null,null,null,75]\n",
    "tree4 = makeTree(input4)\n",
    "print(minimumOperations(tree4))\n"
   ]
  }
 ],
 "metadata": {
  "kernelspec": {
   "display_name": "base",
   "language": "python",
   "name": "python3"
  },
  "language_info": {
   "codemirror_mode": {
    "name": "ipython",
    "version": 3
   },
   "file_extension": ".py",
   "mimetype": "text/x-python",
   "name": "python",
   "nbconvert_exporter": "python",
   "pygments_lexer": "ipython3",
   "version": "3.12.2"
  }
 },
 "nbformat": 4,
 "nbformat_minor": 2
}
