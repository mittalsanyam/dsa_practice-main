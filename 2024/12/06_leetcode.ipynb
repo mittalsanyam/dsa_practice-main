{
 "cells": [
  {
   "cell_type": "markdown",
   "metadata": {},
   "source": [
    "# 2554. Maximum Number of Integers to Choose From a Range I\n",
    "**Level: Medium**\n",
    "\n",
    "[Problem Link](https://leetcode.com/problems/maximum-number-of-integers-to-choose-from-a-range-i/description/?envType=daily-question&envId=2024-12-06)\n",
    "\n",
    "You are given an integer array banned and two integers n and maxSum. You are choosing some number of integers following the below rules:\n",
    "\n",
    "- The chosen integers have to be in the range [1, n].\n",
    "- Each integer can be chosen at most once.\n",
    "- The chosen integers should not be in the array banned.\n",
    "- The sum of the chosen integers should not exceed maxSum.\n",
    "\n",
    "Return the maximum number of integers you can choose following the mentioned rules.\n",
    "\n",
    "## Examples\n",
    "### Example 1\n",
    "Input: banned = [1,6,5], n = 5, maxSum = 6\n",
    "\n",
    "Output: 2\n",
    "\n",
    "Explanation: You can choose the integers 2 and 4.\n",
    "2 and 4 are from the range [1, 5], both did not appear in banned, and their sum is 6, which did not exceed maxSum.\n",
    "\n",
    "### Example 2\n",
    "Input: banned = [1,2,3,4,5,6,7], n = 8, maxSum = 1\n",
    "\n",
    "Output: 0\n",
    "\n",
    "Explanation: You cannot choose any integer while following the mentioned conditions.\n",
    "\n",
    "### Example 3\n",
    "Input: banned = [11], n = 7, maxSum = 50\n",
    "\n",
    "Output: 7\n",
    "\n",
    "Explanation: You can choose the integers 1, 2, 3, 4, 5, 6, and 7.\n",
    "They are from the range [1, 7], all did not appear in banned, and their sum is 28, which did not exceed maxSum."
   ]
  },
  {
   "cell_type": "code",
   "execution_count": 25,
   "metadata": {},
   "outputs": [
    {
     "name": "stdout",
     "output_type": "stream",
     "text": [
      "2\n",
      "0\n",
      "7\n",
      "9\n"
     ]
    }
   ],
   "source": [
    "def maxCount(banned,n,maxSum):\n",
    "    total,count=0,0\n",
    "    banned_set=set(banned)\n",
    "    j=1\n",
    "    while j<=n and total+j<=maxSum:\n",
    "        if j not in banned_set:\n",
    "            total=total+j\n",
    "            count+=1\n",
    "        j=j+1\n",
    "\n",
    "    return count\n",
    "\n",
    "print(maxCount([1,6,5],5,6))\n",
    "print(maxCount([1,2,3,4,5,6,7],8,1))\n",
    "print(maxCount([11],7,50))\n",
    "print(maxCount([87,193,85,55,14,69,26,133,171,180,4,8,29,121,182,78,157,\n",
    "                53,26,7,117,138,57,167,8,103,32,110,15,190,139,16,49,138,\n",
    "                68,69,92,89,140,149,107,104,2,135,193,87,21,194,192,9,161,\n",
    "                188,73,84,83,31,86,33,138,63,127,73,114,32,66,64,19,175,108,\n",
    "                80,176,52,124,94,33,55,130,147,39,76,22,112,113,136,100,134,\n",
    "                155,40,170,144,37,43,151,137,82,127,73],1079,87))"
   ]
  },
  {
   "cell_type": "code",
   "execution_count": null,
   "metadata": {},
   "outputs": [],
   "source": []
  }
 ],
 "metadata": {
  "kernelspec": {
   "display_name": "base",
   "language": "python",
   "name": "python3"
  },
  "language_info": {
   "codemirror_mode": {
    "name": "ipython",
    "version": 3
   },
   "file_extension": ".py",
   "mimetype": "text/x-python",
   "name": "python",
   "nbconvert_exporter": "python",
   "pygments_lexer": "ipython3",
   "version": "3.12.2"
  }
 },
 "nbformat": 4,
 "nbformat_minor": 2
}
