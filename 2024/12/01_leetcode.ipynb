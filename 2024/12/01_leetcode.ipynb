{
 "cells": [
  {
   "cell_type": "markdown",
   "metadata": {},
   "source": [
    "# 1346. Check If N and Its Double Exist"
   ]
  },
  {
   "cell_type": "markdown",
   "metadata": {},
   "source": [
    "Given an array arr of integers, check if there exist two indices i and j such that :\n",
    "\n",
    "- $ i != j $\n",
    "- $ 0 <= i, j < arr.length $\n",
    "- $ arr[i] == 2 * arr[j] $"
   ]
  },
  {
   "cell_type": "markdown",
   "metadata": {},
   "source": [
    "## Examples\n",
    "### Example 1\n",
    "Input: arr = [10,2,5,3]\n",
    "\n",
    "Output: true\n",
    "\n",
    "Explanation: For i = 0 and j = 2, arr[i] == 10 == 2 * 5 == 2 * arr[j]\n",
    "\n",
    "### Example 2\n",
    "Input: arr = [3,1,7,11]\n",
    "\n",
    "Output: false\n",
    "\n",
    "Explanation: There is no i and j that satisfy the conditions."
   ]
  },
  {
   "cell_type": "markdown",
   "metadata": {},
   "source": [
    "## Solution"
   ]
  },
  {
   "cell_type": "code",
   "execution_count": 6,
   "metadata": {},
   "outputs": [
    {
     "name": "stdout",
     "output_type": "stream",
     "text": [
      "True\n",
      "False\n"
     ]
    }
   ],
   "source": [
    "def binarySearch(arr,elem,l,r):\n",
    "    if l>=r:\n",
    "        return False\n",
    "    mid=(l+r)//2\n",
    "    if arr[mid]==elem:\n",
    "        return True\n",
    "    if arr[mid]>elem:\n",
    "        return binarySearch(arr,elem,l,mid)\n",
    "    if arr[mid]<elem:\n",
    "        return binarySearch(arr,elem,mid+1,r)\n",
    "\n",
    "def checkIfExist(arr):\n",
    "    sorted_arr = sorted(arr)\n",
    "    n = len(sorted_arr)\n",
    "    i,flag=0,True\n",
    "    while flag and i<n-1:\n",
    "        if sorted_arr[i]!=0:\n",
    "            if binarySearch(sorted_arr,sorted_arr[i]*2,i+1,n):\n",
    "                flag=False\n",
    "            if sorted_arr[i]%2==0 and binarySearch(sorted_arr,sorted_arr[i]//2,i+1,n):\n",
    "                flag=False\n",
    "        i=i+1\n",
    "    if not flag:\n",
    "        return True\n",
    "    else:\n",
    "        return False\n",
    "\n",
    "print(checkIfExist([10,2,5,3]))\n",
    "print(checkIfExist([3,1,7,11]))"
   ]
  },
  {
   "cell_type": "code",
   "execution_count": 7,
   "metadata": {},
   "outputs": [
    {
     "name": "stdout",
     "output_type": "stream",
     "text": [
      "True\n",
      "False\n"
     ]
    }
   ],
   "source": [
    "def checkIfExist(arr):\n",
    "    seen={}\n",
    "    for num in arr:\n",
    "        if (2*num) in seen or ((num%2==0) and num//2 in seen):\n",
    "            return True\n",
    "        seen[num]=1\n",
    "    return False\n",
    "\n",
    "print(checkIfExist([10,2,5,3]))\n",
    "print(checkIfExist([3,1,7,11]))"
   ]
  },
  {
   "cell_type": "code",
   "execution_count": null,
   "metadata": {},
   "outputs": [],
   "source": []
  }
 ],
 "metadata": {
  "kernelspec": {
   "display_name": "base",
   "language": "python",
   "name": "python3"
  },
  "language_info": {
   "codemirror_mode": {
    "name": "ipython",
    "version": 3
   },
   "file_extension": ".py",
   "mimetype": "text/x-python",
   "name": "python",
   "nbconvert_exporter": "python",
   "pygments_lexer": "ipython3",
   "version": "3.12.2"
  }
 },
 "nbformat": 4,
 "nbformat_minor": 2
}
