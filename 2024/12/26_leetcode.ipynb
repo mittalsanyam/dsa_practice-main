{
 "cells": [
  {
   "cell_type": "markdown",
   "metadata": {},
   "source": [
    "## 494. Target Sum\n",
    "**Level: Medium**\n",
    "\n",
    "(Problem Link)[https://leetcode.com/problems/target-sum/description/]\n",
    "\n",
    "You are given an integer array nums and an integer target.\n",
    "\n",
    "You want to build an expression out of nums by adding one of the symbols '+' and '-' before each integer in nums and then concatenate all the integers.\n",
    "\n",
    "For example, if nums = [2, 1], you can add a '+' before 2 and a '-' before 1 and concatenate them to build the expression \"+2-1\".\n",
    "Return the number of different expressions that you can build, which evaluates to target.\n",
    "\n",
    "## Examples\n",
    "### Example 1:\n",
    "\n",
    "Input: nums = [1,1,1,1,1], target = 3\n",
    "\n",
    "Output: 5\n",
    "\n",
    "Explanation: There are 5 ways to assign symbols to make the sum of nums be target 3.\n",
    "- -1 + 1 + 1 + 1 + 1 = 3\n",
    "- +1 - 1 + 1 + 1 + 1 = 3\n",
    "- +1 + 1 - 1 + 1 + 1 = 3\n",
    "- +1 + 1 + 1 - 1 + 1 = 3\n",
    "- +1 + 1 + 1 + 1 - 1 = 3\n",
    "\n",
    "### Example 2:\n",
    "Input: nums = [1], target = 1\n",
    "\n",
    "Output: 1\n",
    "\n",
    "## Constraints\n",
    "\n",
    "- 1 <= nums.length <= 20\n",
    "- 0 <= nums[i] <= 1000\n",
    "- 0 <= sum(nums[i]) <= 1000\n",
    "- -1000 <= target <= 1000"
   ]
  },
  {
   "cell_type": "markdown",
   "metadata": {},
   "source": [
    "## Solution"
   ]
  },
  {
   "cell_type": "code",
   "execution_count": 13,
   "metadata": {},
   "outputs": [
    {
     "name": "stdout",
     "output_type": "stream",
     "text": [
      "5\n"
     ]
    }
   ],
   "source": [
    "def findTargetSumWays(nums, target):\n",
    "    memo={}\n",
    "    for i in range(len(nums)):\n",
    "        memo[i]={}\n",
    "    def calWays(nums,curr_index,curr_sum,target,memo):\n",
    "        if curr_index==len(nums):\n",
    "            if curr_sum==target:\n",
    "                return 1\n",
    "            else:\n",
    "                return 0\n",
    "        else:\n",
    "            if curr_sum not in memo[curr_index].keys():\n",
    "                temp=curr_sum+nums[curr_index]\n",
    "                add=calWays(nums,curr_index+1,temp,target,memo)\n",
    "                temp=curr_sum-nums[curr_index]\n",
    "                subtract=calWays(nums,curr_index+1,temp,target,memo)\n",
    "                memo[curr_index][curr_sum]=add+subtract\n",
    "            return memo[curr_index][curr_sum]\n",
    "    totalWays=calWays(nums,0,0,target,memo)\n",
    "    return totalWays\n",
    "\n",
    "nums = [1,1,1,1,1]\n",
    "target =3\n",
    "print(findTargetSumWays(nums,target))"
   ]
  },
  {
   "cell_type": "code",
   "execution_count": 14,
   "metadata": {},
   "outputs": [
    {
     "name": "stdout",
     "output_type": "stream",
     "text": [
      "1\n"
     ]
    }
   ],
   "source": [
    "nums = [1]\n",
    "target = 1\n",
    "print(findTargetSumWays(nums,target))"
   ]
  }
 ],
 "metadata": {
  "kernelspec": {
   "display_name": "base",
   "language": "python",
   "name": "python3"
  },
  "language_info": {
   "codemirror_mode": {
    "name": "ipython",
    "version": 3
   },
   "file_extension": ".py",
   "mimetype": "text/x-python",
   "name": "python",
   "nbconvert_exporter": "python",
   "pygments_lexer": "ipython3",
   "version": "3.12.2"
  }
 },
 "nbformat": 4,
 "nbformat_minor": 2
}
