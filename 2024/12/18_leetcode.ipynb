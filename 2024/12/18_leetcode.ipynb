{
 "cells": [
  {
   "cell_type": "markdown",
   "metadata": {},
   "source": [
    "# 1475. Final Prices With a Special Discount in a Shop\n",
    "**Level: Easy**\n",
    "\n",
    "[Problem Link](https://leetcode.com/problems/final-prices-with-a-special-discount-in-a-shop/description/)\n",
    "\n",
    "You are given an integer array prices where prices[i] is the price of the ith item in a shop.\n",
    "\n",
    "There is a special discount for items in the shop. If you buy the ith item, then you will receive a discount equivalent to prices[j] where j is the minimum index such that j > i and prices[j] <= prices[i]. Otherwise, you will not receive any discount at all.\n",
    "\n",
    "Return an integer array answer where answer[i] is the final price you will pay for the ith item of the shop, considering the special discount.\n",
    "\n",
    "## Examples\n",
    "\n",
    "### Example 1:\n",
    "\n",
    "Input: prices = [8,4,6,2,3]\n",
    "\n",
    "Output: [4,2,4,2,3]\n",
    "\n",
    "Explanation: \n",
    "\n",
    "For item 0 with price[0]=8 you will receive a discount equivalent to prices[1]=4, therefore, the final price you will pay is 8 - 4 = 4.\n",
    "\n",
    "For item 1 with price[1]=4 you will receive a discount equivalent to prices[3]=2, therefore, the final price you will pay is 4 - 2 = 2.\n",
    "\n",
    "For item 2 with price[2]=6 you will receive a discount equivalent to prices[3]=2, therefore, the final price you will pay is 6 - 2 = 4.\n",
    "\n",
    "For items 3 and 4 you will not receive any discount at all.\n",
    "\n",
    "### Example 2:\n",
    "\n",
    "Input: prices = [1,2,3,4,5]\n",
    "\n",
    "Output: [1,2,3,4,5]\n",
    "\n",
    "Explanation: In this case, for all items, you will not receive any discount at all.\n",
    "\n",
    "### Example 3:\n",
    "\n",
    "Input: prices = [10,1,1,6]\n",
    "\n",
    "Output: [9,0,1,6]\n",
    "\n",
    "## Constraints\n",
    "- 1 <= prices.length <= 500\n",
    "- 1 <= prices[i] <= 1000"
   ]
  },
  {
   "cell_type": "markdown",
   "metadata": {},
   "source": [
    "## Solution"
   ]
  },
  {
   "cell_type": "code",
   "execution_count": 4,
   "metadata": {},
   "outputs": [
    {
     "name": "stdout",
     "output_type": "stream",
     "text": [
      "[4, 2, 4, 2, 3]\n",
      "[1, 2, 3, 4, 5]\n",
      "[9, 0, 1, 6]\n"
     ]
    }
   ],
   "source": [
    "def finalPrices(prices):\n",
    "    n = len(prices)\n",
    "    for i in range(n):\n",
    "        j=i+1\n",
    "        while j<n and prices[j]>prices[i]:\n",
    "            j=j+1\n",
    "        if j!=n:\n",
    "            prices[i]=prices[i]-prices[j]\n",
    "    return prices\n",
    "\n",
    "print(finalPrices([8,4,6,2,3]))\n",
    "print(finalPrices([1,2,3,4,5]))\n",
    "print(finalPrices([10,1,1,6]))"
   ]
  }
 ],
 "metadata": {
  "kernelspec": {
   "display_name": "base",
   "language": "python",
   "name": "python3"
  },
  "language_info": {
   "codemirror_mode": {
    "name": "ipython",
    "version": 3
   },
   "file_extension": ".py",
   "mimetype": "text/x-python",
   "name": "python",
   "nbconvert_exporter": "python",
   "pygments_lexer": "ipython3",
   "version": "3.12.2"
  }
 },
 "nbformat": 4,
 "nbformat_minor": 2
}
