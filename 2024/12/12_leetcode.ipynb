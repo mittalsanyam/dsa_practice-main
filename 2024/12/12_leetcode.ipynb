{
 "cells": [
  {
   "cell_type": "markdown",
   "metadata": {},
   "source": [
    "# 2558. Take Gifts From the Richest Pile\n",
    "**Level: Easy**\n",
    "\n",
    "[Problem Link](https://leetcode.com/problems/take-gifts-from-the-richest-pile/description/)\n",
    "\n",
    "You are given an integer array gifts denoting the number of gifts in various piles. Every second, you do the following:\n",
    "\n",
    "- Choose the pile with the maximum number of gifts.\n",
    "- If there is more than one pile with the maximum number of gifts, choose any.\n",
    "- Leave behind the floor of the square root of the number of gifts in the pile. Take the rest of the gifts.\n",
    "\n",
    "Return the number of gifts remaining after k seconds.\n",
    "\n",
    "## Examples\n",
    "\n",
    "### Example 1:\n",
    "Input: gifts = [25,64,9,4,100], k = 4\n",
    "\n",
    "Output: 29\n",
    "\n",
    "Explanation: \n",
    "The gifts are taken in the following way:\n",
    "- In the first second, the last pile is chosen and 10 gifts are left behind.\n",
    "- Then the second pile is chosen and 8 gifts are left behind.\n",
    "- After that the first pile is chosen and 5 gifts are left behind.\n",
    "- Finally, the last pile is chosen again and 3 gifts are left behind.\n",
    "The final remaining gifts are [5,8,9,4,3], so the total number of gifts remaining is 29.\n",
    "\n",
    "### Example 2:\n",
    "\n",
    "Input: gifts = [1,1,1,1], k = 4\n",
    "\n",
    "Output: 4\n",
    "\n",
    "Explanation: \n",
    "In this case, regardless which pile you choose, you have to leave behind 1 gift in each pile. \n",
    "That is, you can't take any pile with you. \n",
    "So, the total gifts remaining are 4.\n",
    "\n",
    "## Constrains\n",
    "- $1 <= gifts.length <= 103$\n",
    "- $1 <= gifts[i] <= 109$\n",
    "- $1 <= k <= 103$"
   ]
  },
  {
   "cell_type": "markdown",
   "metadata": {},
   "source": [
    "## Solution"
   ]
  },
  {
   "cell_type": "code",
   "execution_count": 18,
   "metadata": {},
   "outputs": [],
   "source": [
    "import math\n",
    "class Heap:\n",
    "    def __init__(self,L):\n",
    "        self.L=L.copy()\n",
    "        n=len(L)\n",
    "        start = n//2-1\n",
    "        for i in range(start,-1,-1):\n",
    "            self.heapify(n,i)\n",
    "    def heapify(self,n,i):\n",
    "            largest=i\n",
    "            l=2*i+1\n",
    "            r=2*i+2\n",
    "            if l<n and self.L[l]>self.L[largest]:\n",
    "                largest=l\n",
    "            if r<n and self.L[r]>self.L[largest]:\n",
    "                largest=r\n",
    "            if largest!=i:\n",
    "                self.L[i],self.L[largest]=self.L[largest],self.L[i]\n",
    "                self.heapify(n,largest)\n",
    "    def pop(self):\n",
    "        self.L[0],self.L[-1]=self.L[-1],self.L[0]\n",
    "        elem = self.L.pop()\n",
    "        n=len(self.L)\n",
    "        self.heapify(n,0)\n",
    "        return elem\n",
    "    def insert(self,elem):\n",
    "        i=len(self.L)\n",
    "        self.L.append(elem)\n",
    "        parent=(i-1)//2\n",
    "        while parent>-1 and self.L[parent]<self.L[i]:\n",
    "            self.L[parent],self.L[i]=self.L[i],self.L[parent]\n",
    "            i=parent\n",
    "            parent=(i-1)//2\n",
    "    def total(self):\n",
    "        return sum(self.L)\n",
    "def pickGifts(gifts,k):\n",
    "    H = Heap(gifts)\n",
    "    for i in range(k):\n",
    "        elem = H.pop()\n",
    "        if elem>1:\n",
    "            elem=math.floor(math.sqrt(elem))\n",
    "        H.insert(elem)\n",
    "    return H.total()"
   ]
  },
  {
   "cell_type": "code",
   "execution_count": 20,
   "metadata": {},
   "outputs": [
    {
     "name": "stdout",
     "output_type": "stream",
     "text": [
      "29\n",
      "4\n"
     ]
    }
   ],
   "source": [
    "L=[25,64,9,4,100]\n",
    "print(pickGifts(L,k=4))\n",
    "L=[1,1,1,1]\n",
    "print(pickGifts(L,k=4))"
   ]
  }
 ],
 "metadata": {
  "kernelspec": {
   "display_name": "base",
   "language": "python",
   "name": "python3"
  },
  "language_info": {
   "codemirror_mode": {
    "name": "ipython",
    "version": 3
   },
   "file_extension": ".py",
   "mimetype": "text/x-python",
   "name": "python",
   "nbconvert_exporter": "python",
   "pygments_lexer": "ipython3",
   "version": "3.12.2"
  }
 },
 "nbformat": 4,
 "nbformat_minor": 2
}
