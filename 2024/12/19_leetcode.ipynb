{
 "cells": [
  {
   "cell_type": "markdown",
   "metadata": {},
   "source": [
    "# 769. Max Chunks To Make Sorted\n",
    "\n",
    "**Level: Medium**\n",
    "\n",
    "[Problem Link](https://leetcode.com/problems/max-chunks-to-make-sorted/description/)\n",
    "\n",
    "You are given an integer array arr of length n that represents a permutation of the integers in the range [0, n - 1].\n",
    "\n",
    "We split arr into some number of chunks (i.e., partitions), and individually sort each chunk. After concatenating them, the result should equal the sorted array.\n",
    "\n",
    "Return the largest number of chunks we can make to sort the array."
   ]
  },
  {
   "cell_type": "markdown",
   "metadata": {},
   "source": [
    "## Examples\n",
    "\n",
    "### Example 1:\n",
    "\n",
    "Input: arr = [4,3,2,1,0]\n",
    "\n",
    "Output: 1\n",
    "\n",
    "Explanation:\n",
    "Splitting into two or more chunks will not return the required result.\n",
    "For example, splitting into [4, 3], [2, 1, 0] will result in [3, 4, 0, 1, 2], which isn't sorted.\n",
    "\n",
    "### Example 2:\n",
    "\n",
    "Input: arr = [1,0,2,3,4]\n",
    "\n",
    "Output: 4\n",
    "\n",
    "Explanation:\n",
    "We can split into two chunks, such as [1, 0], [2, 3, 4].\n",
    "However, splitting into [1, 0], [2], [3], [4] is the highest number of chunks possible."
   ]
  },
  {
   "cell_type": "markdown",
   "metadata": {},
   "source": [
    "## Constraints\n",
    "\n",
    "- n == arr.length\n",
    "- 1 <= n <= 10\n",
    "- 0 <= arr[i] < n\n",
    "- All the elements of arr are unique."
   ]
  },
  {
   "cell_type": "markdown",
   "metadata": {},
   "source": [
    "## Solution"
   ]
  },
  {
   "cell_type": "markdown",
   "metadata": {},
   "source": [
    "### Brute Force"
   ]
  },
  {
   "cell_type": "code",
   "execution_count": 15,
   "metadata": {},
   "outputs": [
    {
     "name": "stdout",
     "output_type": "stream",
     "text": [
      "1\n",
      "4\n"
     ]
    }
   ],
   "source": [
    "def maxChunksToSorted(arr):\n",
    "    n=len(arr)\n",
    "    k=0\n",
    "    for i in range(n):\n",
    "        max_i = max(arr[:i+1])\n",
    "        if max_i==i:\n",
    "            k+=1\n",
    "    return k\n",
    "\n",
    "print(maxChunksToSorted([4,3,2,1,0]))\n",
    "print(maxChunksToSorted([1,0,2,3,4]))"
   ]
  },
  {
   "cell_type": "markdown",
   "metadata": {},
   "source": [
    "### $O(n)$ Solution"
   ]
  },
  {
   "cell_type": "code",
   "execution_count": 11,
   "metadata": {},
   "outputs": [
    {
     "name": "stdout",
     "output_type": "stream",
     "text": [
      "1\n",
      "4\n"
     ]
    }
   ],
   "source": [
    "def maxChunksToSorted(arr):\n",
    "    n=len(arr)\n",
    "    prefix_max=arr[:]\n",
    "    suffix_min=arr[:]\n",
    "    for i in range(1,n):\n",
    "        prefix_max[i]=max(prefix_max[i],prefix_max[i-1])\n",
    "    for i in range(n-2,-1,-1):\n",
    "        suffix_min[i]=min(suffix_min[i+1],suffix_min[i])\n",
    "    chunks=0\n",
    "    for i in range(n):\n",
    "        if i==0 or suffix_min[i]>prefix_max[i-1]:\n",
    "            chunks+=1\n",
    "    return chunks\n",
    "\n",
    "print(maxChunksToSorted([4,3,2,1,0]))\n",
    "print(maxChunksToSorted([1,0,2,3,4]))"
   ]
  },
  {
   "cell_type": "code",
   "execution_count": 13,
   "metadata": {},
   "outputs": [
    {
     "name": "stdout",
     "output_type": "stream",
     "text": [
      "1\n",
      "4\n"
     ]
    }
   ],
   "source": [
    "def maxChunksToSorted(arr):\n",
    "    n=len(arr)\n",
    "    k=0\n",
    "    total=0\n",
    "    sorted_total=0\n",
    "    for i in range(n):\n",
    "        total+=arr[i]\n",
    "        sorted_total+=i\n",
    "        if total==sorted_total:\n",
    "            k+=1\n",
    "    return k\n",
    "\n",
    "print(maxChunksToSorted([4,3,2,1,0]))\n",
    "print(maxChunksToSorted([1,0,2,3,4]))"
   ]
  }
 ],
 "metadata": {
  "kernelspec": {
   "display_name": "base",
   "language": "python",
   "name": "python3"
  },
  "language_info": {
   "codemirror_mode": {
    "name": "ipython",
    "version": 3
   },
   "file_extension": ".py",
   "mimetype": "text/x-python",
   "name": "python",
   "nbconvert_exporter": "python",
   "pygments_lexer": "ipython3",
   "version": "3.12.2"
  }
 },
 "nbformat": 4,
 "nbformat_minor": 2
}
