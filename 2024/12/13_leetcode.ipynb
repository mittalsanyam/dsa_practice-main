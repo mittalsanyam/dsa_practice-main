{
 "cells": [
  {
   "cell_type": "markdown",
   "metadata": {},
   "source": [
    "# 2593. Find Score of an Array After Marking All Elements\n",
    "**Level: Medium**\n",
    "\n",
    "[Problem Link](https://leetcode.com/problems/find-score-of-an-array-after-marking-all-elements/description/)\n",
    "\n",
    "You are given an array nums consisting of positive integers.\n",
    "\n",
    "Starting with score = 0, apply the following algorithm:\n",
    "\n",
    "- Choose the smallest integer of the array that is not marked. If there is a tie, choose the one with the smallest index.\n",
    "- Add the value of the chosen integer to score.\n",
    "- Mark the chosen element and its two adjacent elements if they exist.\n",
    "- Repeat until all the array elements are marked.\n",
    "- Return the score you get after applying the above algorithm."
   ]
  },
  {
   "cell_type": "markdown",
   "metadata": {},
   "source": [
    "## Examples\n",
    "\n",
    "### Example 1\n",
    "Input: nums = [2,1,3,4,5,2]\n",
    "\n",
    "Output: 7\n",
    "\n",
    "Explanation: We mark the elements as follows:\n",
    "- 1 is the smallest unmarked element, so we mark it and its two adjacent elements: [2,1,3,4,5,2].\n",
    "- 2 is the smallest unmarked element, so we mark it and its left adjacent element: [2,1,3,4,5,2].\n",
    "- 4 is the only remaining unmarked element, so we mark it: [2,1,3,4,5,2].\n",
    "\n",
    "Our score is 1 + 2 + 4 = 7.\n",
    "\n",
    "### Example 2\n",
    "\n",
    "Input: nums = [2,3,5,1,3,2]\n",
    "\n",
    "Output: 5\n",
    "\n",
    "Explanation: We mark the elements as follows:\n",
    "- 1 is the smallest unmarked element, so we mark it and its two adjacent elements: [2,3,5,1,3,2].\n",
    "- 2 is the smallest unmarked element, since there are two of them, we choose the left-most one, so we mark the one at index 0 and its right adjacent element: [2,3,5,1,3,2].\n",
    "- 2 is the only remaining unmarked element, so we mark it: [2,3,5,1,3,2].\n",
    "\n",
    "Our score is 1 + 2 + 2 = 5."
   ]
  },
  {
   "cell_type": "markdown",
   "metadata": {},
   "source": [
    "## Constraints:\n",
    "\n",
    "- $1 <= nums.length <= 105$\n",
    "- $1 <= nums[i] <= 106$"
   ]
  },
  {
   "cell_type": "markdown",
   "metadata": {},
   "source": [
    "## Solution"
   ]
  },
  {
   "cell_type": "markdown",
   "metadata": {},
   "source": [
    "### Solution 1"
   ]
  },
  {
   "cell_type": "code",
   "execution_count": 8,
   "metadata": {},
   "outputs": [
    {
     "name": "stdout",
     "output_type": "stream",
     "text": [
      "7\n",
      "5\n"
     ]
    }
   ],
   "source": [
    "class Heap:\n",
    "    def __init__(self,array):\n",
    "        self.heap=[]\n",
    "        n=len(array)\n",
    "        for i in range(n):\n",
    "            self.heap.append((array[i],i))\n",
    "        start=(n-1)//2\n",
    "        for i in range(start,-1,-1):\n",
    "            self.heapify(i,n)\n",
    "    def heapify(self,i,n):\n",
    "        smallest=i\n",
    "        left=2*i+1\n",
    "        right=2*i+2\n",
    "        if left<n and self.heap[smallest][0]>self.heap[left][0]:\n",
    "            smallest=left\n",
    "        if left<n and self.heap[smallest][0]==self.heap[left][0] and self.heap[smallest][1]>self.heap[left][1]:\n",
    "            smallest=left\n",
    "        if right<n and self.heap[smallest][0]>self.heap[right][0]:\n",
    "            smallest=right\n",
    "        if right<n and self.heap[smallest][0]==self.heap[right][0] and self.heap[smallest][1]>self.heap[right][1]:\n",
    "            smallest=right\n",
    "        if smallest!=i:\n",
    "            self.heap[smallest],self.heap[i]=self.heap[i],self.heap[smallest]\n",
    "            self.heapify(smallest,n)\n",
    "    def pop(self):\n",
    "        self.heap[0],self.heap[-1]=self.heap[-1],self.heap[0]\n",
    "        elem=self.heap.pop()\n",
    "        n=len(self.heap)\n",
    "        self.heapify(0,n)\n",
    "        return elem\n",
    "    def isEmpty(self):\n",
    "        return not len(self.heap)>0\n",
    "\n",
    "def findScore(nums):\n",
    "    heap = Heap(nums)\n",
    "    n=len(nums)\n",
    "    isMarked=[False]*n\n",
    "    score=0\n",
    "    while not heap.isEmpty():\n",
    "        elem = heap.pop()\n",
    "        if not isMarked[elem[1]]:\n",
    "            score+=elem[0]\n",
    "            isMarked[elem[1]]=True\n",
    "            if elem[1]-1>-1:\n",
    "                isMarked[elem[1]-1]=True\n",
    "            if elem[1]+1<n:\n",
    "                isMarked[elem[1]+1]=True\n",
    "    return score\n",
    "nums1 = [2,1,3,4,5,2]\n",
    "print(findScore(nums1))\n",
    "nums2 = [2,3,5,1,3,2]\n",
    "print(findScore(nums2))  "
   ]
  },
  {
   "cell_type": "markdown",
   "metadata": {},
   "source": [
    "### Solution 2"
   ]
  },
  {
   "cell_type": "code",
   "execution_count": 11,
   "metadata": {},
   "outputs": [
    {
     "name": "stdout",
     "output_type": "stream",
     "text": [
      "7\n",
      "5\n"
     ]
    }
   ],
   "source": [
    "def findScore(nums):\n",
    "    nums_index=[]\n",
    "    isMarked=[]\n",
    "    n=len(nums)\n",
    "    score=0\n",
    "    for i in range(n):\n",
    "        nums_index.append((nums[i],i))\n",
    "        isMarked.append(False)\n",
    "    sorted_num_index = sorted(nums_index,key=lambda x: (x[0],x[1]))\n",
    "    for i in range(n):\n",
    "        elem=sorted_num_index[i]\n",
    "        if not isMarked[elem[1]]:\n",
    "            score+=elem[0]\n",
    "            isMarked[elem[1]]=True\n",
    "            if elem[1]-1>-1:\n",
    "                isMarked[elem[1]-1]=True\n",
    "            if elem[1]+1<n:\n",
    "                isMarked[elem[1]+1]=True\n",
    "    return score\n",
    "nums1 = [2,1,3,4,5,2]\n",
    "print(findScore(nums1))\n",
    "nums2 = [2,3,5,1,3,2]\n",
    "print(findScore(nums2)) "
   ]
  }
 ],
 "metadata": {
  "kernelspec": {
   "display_name": "base",
   "language": "python",
   "name": "python3"
  },
  "language_info": {
   "codemirror_mode": {
    "name": "ipython",
    "version": 3
   },
   "file_extension": ".py",
   "mimetype": "text/x-python",
   "name": "python",
   "nbconvert_exporter": "python",
   "pygments_lexer": "ipython3",
   "version": "3.12.2"
  }
 },
 "nbformat": 4,
 "nbformat_minor": 2
}
