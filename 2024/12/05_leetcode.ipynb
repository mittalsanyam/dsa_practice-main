{
 "cells": [
  {
   "cell_type": "markdown",
   "metadata": {},
   "source": [
    "# 2337. Move Pieces to Obtain a String\n",
    "**Level: Medium**\n",
    "\n",
    "[Problem Link](https://leetcode.com/problems/move-pieces-to-obtain-a-string/description/)\n",
    "\n",
    "You are given two strings start and target, both of length n. Each string consists only of the characters 'L', 'R', and '_' where:\n",
    "\n",
    "- The characters 'L' and 'R' represent pieces, where a piece 'L' can move to the left only if there is a blank space directly to its left, and a piece 'R' can move to the right only if there is a blank space directly to its right.\n",
    "- The character '_' represents a blank space that can be occupied by any of the 'L' or 'R' pieces.\n",
    "\n",
    "Return true if it is possible to obtain the string target by moving the pieces of the string start any number of times. Otherwise, return false.\n",
    "\n",
    "## Examples\n",
    "### Example 1\n",
    "Input: start = \"\\_L\\_\\_R\\_\\_R\\_\", target = \"L\\_\\_\\_\\_\\_\\_RR\"\n",
    "\n",
    "Output: true\n",
    "\n",
    "Explanation: We can obtain the string target from start by doing the following moves:\n",
    "- Move the first piece one step to the left, start becomes equal to \"L___R__R_\".\n",
    "- Move the last piece one step to the right, start becomes equal to \"L___R___R\".\n",
    "- Move the second piece three steps to the right, start becomes equal to \"L______RR\".\n",
    "Since it is possible to get the string target from start, we return true.\n",
    "\n",
    "### Example 2:\n",
    "Input: start = \"R\\_L\\_\", target = \"\\_\\_LR\"\n",
    "\n",
    "Output: false\n",
    "\n",
    "Explanation: The 'R' piece in the string start can move one step to the right to obtain \"_RL_\".\n",
    "\n",
    "After that, no pieces can move anymore, so it is impossible to obtain the string target from start.\n",
    "\n",
    "### Example 3\n",
    "Input: start = \"\\_R\", target = \"R\\_\"\n",
    "\n",
    "Output: false\n",
    "\n",
    "Explanation: The piece in the string start can move only to the right, so it is impossible to obtain the string target from start."
   ]
  },
  {
   "cell_type": "markdown",
   "metadata": {},
   "source": [
    "## Solution"
   ]
  },
  {
   "cell_type": "code",
   "execution_count": 9,
   "metadata": {},
   "outputs": [
    {
     "name": "stdout",
     "output_type": "stream",
     "text": [
      "True\n",
      "False\n",
      "False\n"
     ]
    }
   ],
   "source": [
    "def canChange(start,target):\n",
    "    n=len(start)\n",
    "    i,j=0,0\n",
    "    start+='@'\n",
    "    target+='@'\n",
    "    while i<n or j<n:\n",
    "        while i<n and start[i]=='_':\n",
    "            i=i+1\n",
    "        while j<n and target[j]=='_':\n",
    "            j=j+1\n",
    "        if start[i]!=target[j]:\n",
    "            return False\n",
    "        if start[i]=='L' and i<j:\n",
    "            return False\n",
    "        if start[i]=='R' and i>j:\n",
    "            return False\n",
    "        i,j=i+1,j+1\n",
    "    return True\n",
    "\n",
    "print(canChange(\"_L__R__R_\",\"L______RR\"))\n",
    "print(canChange(\"R_L_\",\"__LR\"))\n",
    "print(canChange(\"_R\",\"R_\"))"
   ]
  }
 ],
 "metadata": {
  "kernelspec": {
   "display_name": "base",
   "language": "python",
   "name": "python3"
  },
  "language_info": {
   "codemirror_mode": {
    "name": "ipython",
    "version": 3
   },
   "file_extension": ".py",
   "mimetype": "text/x-python",
   "name": "python",
   "nbconvert_exporter": "python",
   "pygments_lexer": "ipython3",
   "version": "3.12.2"
  }
 },
 "nbformat": 4,
 "nbformat_minor": 2
}
