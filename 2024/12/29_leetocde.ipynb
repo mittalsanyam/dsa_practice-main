{
 "cells": [
  {
   "cell_type": "markdown",
   "metadata": {},
   "source": [
    "# 1639. Number of Ways to Form a Target String Given a Dictionary\n",
    "\n",
    "**Level: Hard**\n",
    "\n",
    "[Problem Link](https://leetcode.com/problems/number-of-ways-to-form-a-target-string-given-a-dictionary/description/)\n",
    "\n",
    "You are given a list of strings of the same length `words` and a string `target`.\n",
    "\n",
    "Your task is to form `target` using the given `words` under the following rules:\n",
    "\n",
    "- `target` should be formed from left to right.\n",
    "- To form the ith character (0-indexed) of target, you can choose the $k^{th}$ character of the $j^{th}$ string in words if target[i] = words[j][k].\n",
    "- Once you use the kth character of the $j^{th}$ string of `words`, you can no longer use the $x^{th}$ character of any string in `words` where x <= k. In other words, all characters to the left of or at index k become unusuable for every string.\n",
    "- Repeat the process until you form the string `target`.\n",
    "\n",
    "Notice that you can use multiple characters from the same string in `words` provided the conditions above are met.\n",
    "\n",
    "Return the number of ways to form `target` from `words`. Since the answer may be too large, return it modulo $10^9 + 7$.\n",
    "\n",
    "## Examples\n",
    "\n",
    "### Example 1:\n",
    "\n",
    "Input: words = [\"acca\",\"bbbb\",\"caca\"], target = \"aba\"\n",
    "\n",
    "Output: 6\n",
    "\n",
    "Explanation: There are 6 ways to form target.\n",
    "\n",
    "\"aba\" -> index 0 (\"**a**cca\"), index 1 (\"b**b**bb\"), index 3 (\"cac**a**\")\n",
    "\n",
    "\"aba\" -> index 0 (\"**a**cca\"), index 2 (\"bb**b**b\"), index 3 (\"cac**a**\")\n",
    "\n",
    "\"aba\" -> index 0 (\"**a**cca\"), index 1 (\"b**b**bb\"), index 3 (\"acc**a**\")\n",
    "\n",
    "\"aba\" -> index 0 (\"**a**cca\"), index 2 (\"bb**b**b\"), index 3 (\"acc**a**\")\n",
    "\n",
    "\"aba\" -> index 1 (\"c**a**ca\"), index 2 (\"bb**b**b\"), index 3 (\"acc**a**\")\n",
    "\n",
    "\"aba\" -> index 1 (\"c**a**ca\"), index 2 (\"bb**b**b\"), index 3 (\"cac**a**\")\n",
    "\n",
    "## Example 2:\n",
    "\n",
    "Input: words = [\"abba\",\"baab\"], target = \"bab\"\n",
    "\n",
    "Output: 4\n",
    "\n",
    "Explanation: There are 4 ways to form target.\n",
    "\n",
    "\"bab\" -> index 0 (\"**b**aab\"), index 1 (\"b**a**ab\"), index 2 (\"ab**b**a\")\n",
    "\n",
    "\"bab\" -> index 0 (\"**b**aab\"), index 1 (\"b**a**ab\"), index 3 (\"baa**b**\")\n",
    "\n",
    "\"bab\" -> index 0 (\"**b**aab\"), index 2 (\"ba**a**b\"), index 3 (\"baa**b**\")\n",
    "\n",
    "\"bab\" -> index 1 (\"a**b**ba\"), index 2 (\"ba**a**b\"), index 3 (\"baa**b**\")\n",
    "\n",
    "## Constraints:\n",
    "\n",
    "- $1 <= words.length <= 1000$\n",
    "- $1 <= words[i].length <= 1000$\n",
    "- All strings in words have the same length.\n",
    "- $1 <= target.length <= 1000$\n",
    "- words[i] and target contain only lowercase English letters."
   ]
  },
  {
   "cell_type": "markdown",
   "metadata": {},
   "source": [
    "## Solution"
   ]
  },
  {
   "cell_type": "code",
   "execution_count": 20,
   "metadata": {},
   "outputs": [
    {
     "name": "stdout",
     "output_type": "stream",
     "text": [
      "6\n"
     ]
    }
   ],
   "source": [
    "def numWays(words,target):\n",
    "    n,m = len(words),len(words[0])\n",
    "    frequency={}\n",
    "    for i in range(n):\n",
    "        for j in range(m):\n",
    "            if words[i][j] not in frequency.keys():\n",
    "                frequency[words[i][j]] = [0]*m\n",
    "            frequency[words[i][j]][j]+=1\n",
    "    dp = [[-1]*len(target) for _ in range(m)]\n",
    "    def getWords(words,target,wordsIndex,targetIndex,dp,frequency):\n",
    "        if targetIndex==len(target):\n",
    "            return 1\n",
    "        if (wordsIndex==len(words[0]) or \n",
    "            len(words[0]) - wordsIndex < len(target) - targetIndex):\n",
    "            return 0\n",
    "        if dp[wordsIndex][targetIndex]!=-1:\n",
    "            return dp[wordsIndex][targetIndex]\n",
    "        count_ways = 0\n",
    "        count_ways+=getWords(words,target,wordsIndex+1,targetIndex,dp,frequency)\n",
    "        count_ways+=frequency[target[targetIndex]][wordsIndex]*getWords(words,\n",
    "                                                                        target,\n",
    "                                                                        wordsIndex+1,\n",
    "                                                                        targetIndex+1,\n",
    "                                                                        dp,frequency)\n",
    "        dp[wordsIndex][targetIndex]=count_ways % 1000000007\n",
    "        return dp[wordsIndex][targetIndex]\n",
    "    return getWords(words,target,0,0,dp,frequency)\n",
    "print(numWays([\"acca\",\"bbbb\",\"caca\"],'aba'))"
   ]
  }
 ],
 "metadata": {
  "kernelspec": {
   "display_name": "base",
   "language": "python",
   "name": "python3"
  },
  "language_info": {
   "codemirror_mode": {
    "name": "ipython",
    "version": 3
   },
   "file_extension": ".py",
   "mimetype": "text/x-python",
   "name": "python",
   "nbconvert_exporter": "python",
   "pygments_lexer": "ipython3",
   "version": "3.12.2"
  }
 },
 "nbformat": 4,
 "nbformat_minor": 2
}
