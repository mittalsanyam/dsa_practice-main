{
 "cells": [
  {
   "cell_type": "markdown",
   "metadata": {},
   "source": [
    "# 2109. Adding Spaces to a String\n",
    "**Level: Medium**\n",
    "\n",
    "[Problem Link]('https://leetcode.com/problems/adding-spaces-to-a-string/description/')\n",
    "\n",
    "You are given a 0-indexed string s and a 0-indexed integer array spaces that describes the indices in the original string where spaces will be added. Each space should be inserted before the character at the given index.\n",
    "\n",
    "- For example, given s = \"EnjoyYourCoffee\" and spaces = [5, 9], we place spaces before 'Y' and 'C', which are at indices 5 and 9 respectively. Thus, we obtain \"Enjoy Your Coffee\".\n",
    "\n",
    "Return the modified string after the spaces have been added.\n",
    "\n",
    "## Examples\n",
    "### Example 1:\n",
    "Input: s = \"LeetcodeHelpsMeLearn\", spaces = [8,13,15]\n",
    "\n",
    "Output: \"Leetcode Helps Me Learn\"\n",
    "\n",
    "Explanation: \n",
    "The indices 8, 13, and 15 correspond to the underlined characters in \"LeetcodeHelpsMeLearn\".\n",
    "We then place spaces before those characters.\n",
    "\n",
    "### Example 2:\n",
    "Input: s = \"icodeinpython\", spaces = [1,5,7,9]\n",
    "\n",
    "Output: \"i code in py thon\"\n",
    "\n",
    "Explanation:\n",
    "The indices 1, 5, 7, and 9 correspond to the underlined characters in \"icodeinpython\".\n",
    "We then place spaces before those characters.\n",
    "\n",
    "### Example 3:\n",
    "Input: s = \"spacing\", spaces = [0,1,2,3,4,5,6]\n",
    "\n",
    "Output: \" s p a c i n g\"\n",
    "\n",
    "Explanation:\n",
    "We are also able to place spaces before the first character of the string."
   ]
  },
  {
   "cell_type": "markdown",
   "metadata": {},
   "source": [
    "## Solution"
   ]
  },
  {
   "cell_type": "code",
   "execution_count": 3,
   "metadata": {},
   "outputs": [
    {
     "name": "stdout",
     "output_type": "stream",
     "text": [
      "Leetcode Helps Me Learn\n",
      "i code in py thon\n",
      " s p a c i n g\n"
     ]
    }
   ],
   "source": [
    "def addSpaces(s,spaces):\n",
    "    n,m,j=len(s),len(spaces),0\n",
    "    spaced_str=\"\"\n",
    "    for i in range(n):\n",
    "        if j<m and i==spaces[j]:\n",
    "            spaced_str+=\" \"\n",
    "            j=j+1\n",
    "        spaced_str+=s[i]\n",
    "    return spaced_str\n",
    "\n",
    "print(addSpaces('LeetcodeHelpsMeLearn',[8,13,15]))\n",
    "print(addSpaces('icodeinpython',[1,5,7,9]))\n",
    "print(addSpaces('spacing',[0,1,2,3,4,5,6]))"
   ]
  }
 ],
 "metadata": {
  "kernelspec": {
   "display_name": "base",
   "language": "python",
   "name": "python3"
  },
  "language_info": {
   "codemirror_mode": {
    "name": "ipython",
    "version": 3
   },
   "file_extension": ".py",
   "mimetype": "text/x-python",
   "name": "python",
   "nbconvert_exporter": "python",
   "pygments_lexer": "ipython3",
   "version": "3.12.2"
  }
 },
 "nbformat": 4,
 "nbformat_minor": 2
}
