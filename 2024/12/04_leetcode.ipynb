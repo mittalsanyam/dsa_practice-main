{
 "cells": [
  {
   "cell_type": "markdown",
   "metadata": {},
   "source": [
    "# 2825. Make String a Subsequence Using Cyclic Increments\n",
    "**Level: Medium**\n",
    "\n",
    "[Problem Link](https://leetcode.com/problems/make-string-a-subsequence-using-cyclic-increments/description/)\n",
    "\n",
    "In an operation, you select a set of indices in str1, and for each index i in the set, increment str1[i] to the next character cyclically. That is 'a' becomes 'b', 'b' becomes 'c', and so on, and 'z' becomes 'a'.\n",
    "\n",
    "Return true if it is possible to make str2 a subsequence of str1 by performing the operation at most once, and false otherwise.\n",
    "\n",
    "Note: A subsequence of a string is a new string that is formed from the original string by deleting some (possibly none) of the characters without disturbing the relative positions of the remaining characters.\n",
    "\n",
    "## Examples\n",
    "### Example 1\n",
    "Input: str1 = \"abc\", str2 = \"ad\"\n",
    "\n",
    "Output: true\n",
    "\n",
    "Explanation: Select index 2 in str1.\n",
    "Increment str1[2] to become 'd'. \n",
    "Hence, str1 becomes \"abd\" and str2 is now a subsequence. Therefore, true is returned.\n",
    "\n",
    "### Example 2\n",
    "Input: str1 = \"zc\", str2 = \"ad\"\n",
    "\n",
    "Output: true\n",
    "\n",
    "Explanation: Select indices 0 and 1 in str1. \n",
    "Increment str1[0] to become 'a'. \n",
    "Increment str1[1] to become 'd'. \n",
    "Hence, str1 becomes \"ad\" and str2 is now a subsequence. Therefore, true is returned.\n",
    "\n",
    "### Example 3\n",
    "Input: str1 = \"ab\", str2 = \"d\"\n",
    "\n",
    "Output: false\n",
    "\n",
    "Explanation: In this example, it can be shown that it is impossible to make str2 a subsequence of str1 using the operation at most once. \n",
    "Therefore, false is returned."
   ]
  },
  {
   "cell_type": "markdown",
   "metadata": {},
   "source": [
    "## Solution"
   ]
  },
  {
   "cell_type": "code",
   "execution_count": 8,
   "metadata": {},
   "outputs": [
    {
     "name": "stdout",
     "output_type": "stream",
     "text": [
      "True\n",
      "True\n",
      "False\n"
     ]
    }
   ],
   "source": [
    "def canMakeSubsequence(str1,str2):\n",
    "    flag=False\n",
    "    i,j=0,0\n",
    "    m,n=len(str1),len(str2)\n",
    "    alpha = 'abcdefghijklmnopqrstuvwxyz'\n",
    "    check={}\n",
    "    p=len(alpha)\n",
    "    for o in range(p):\n",
    "        check[alpha[o]]=alpha[(o+1)%p]\n",
    "    while i<m and j<n:\n",
    "        if str1[i]==str2[j] or check[str1[i]]==str2[j]:\n",
    "            i=i+1\n",
    "            j=j+1\n",
    "        else:\n",
    "            i=i+1\n",
    "        if j==n:\n",
    "            flag=True\n",
    "    return flag\n",
    "\n",
    "\n",
    "print(canMakeSubsequence('abc','ad'))\n",
    "print(canMakeSubsequence('zc','ad'))\n",
    "print(canMakeSubsequence('ab','d'))"
   ]
  }
 ],
 "metadata": {
  "kernelspec": {
   "display_name": "base",
   "language": "python",
   "name": "python3"
  },
  "language_info": {
   "codemirror_mode": {
    "name": "ipython",
    "version": 3
   },
   "file_extension": ".py",
   "mimetype": "text/x-python",
   "name": "python",
   "nbconvert_exporter": "python",
   "pygments_lexer": "ipython3",
   "version": "3.12.2"
  }
 },
 "nbformat": 4,
 "nbformat_minor": 2
}
