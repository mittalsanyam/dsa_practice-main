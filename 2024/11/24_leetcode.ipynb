{
 "cells": [
  {
   "cell_type": "markdown",
   "metadata": {},
   "source": [
    "# 1975. Maximum Matrix Sum"
   ]
  },
  {
   "cell_type": "markdown",
   "metadata": {},
   "source": [
    "You are given an n x n integer matrix. You can do the following operation any number of times:\n",
    "\n",
    "- Choose any two adjacent elements of matrix and multiply each of them by -1.\n",
    "\n",
    "Two elements are considered adjacent if and only if they share a border.\n",
    "\n",
    "Your goal is to maximize the summation of the matrix's elements. Return the maximum sum of the matrix's elements using the operation mentioned above."
   ]
  },
  {
   "cell_type": "markdown",
   "metadata": {},
   "source": [
    "## Examples\n",
    "### Example 1\n",
    "Input: matrix = [[1,-1],[-1,1]]\n",
    "\n",
    "Output: 4\n",
    "\n",
    "Explanation: We can follow the following steps to reach sum equals 4:\n",
    "- Multiply the 2 elements in the first row by -1.\n",
    "- Multiply the 2 elements in the first column by -1.\n",
    "\n",
    "### Example 2\n",
    "Input: matrix = [[1,2,3],[-1,-2,-3],[1,2,3]]\n",
    "\n",
    "Output: 16\n",
    "\n",
    "Explanation: We can follow the following step to reach sum equals 16:\n",
    "- Multiply the 2 last elements in the second row by -1."
   ]
  },
  {
   "cell_type": "code",
   "execution_count": 3,
   "metadata": {},
   "outputs": [
    {
     "name": "stdout",
     "output_type": "stream",
     "text": [
      "4\n",
      "16\n"
     ]
    }
   ],
   "source": [
    "def maxMatrixSum(matrix):\n",
    "    n=len(matrix)\n",
    "    maxSum=0\n",
    "    numneg=0\n",
    "    minimum=float('inf')\n",
    "    for i in range(n):\n",
    "        for j in range(n):\n",
    "            maxSum+=abs(matrix[i][j])\n",
    "            if minimum>abs(matrix[i][j]):\n",
    "                minimum=abs(matrix[i][j])\n",
    "            if matrix[i][j]<0:\n",
    "                numneg+=1\n",
    "    if numneg%2!=0:\n",
    "        maxSum-=2*minimum\n",
    "    return maxSum\n",
    "\n",
    "matrix1 = [[1,-1],[-1,1]]\n",
    "print(maxMatrixSum(matrix1))\n",
    "\n",
    "matrix2=[[1,2,3],[-1,-2,-3],[1,2,3]]\n",
    "print(maxMatrixSum(matrix2))"
   ]
  },
  {
   "cell_type": "code",
   "execution_count": null,
   "metadata": {},
   "outputs": [],
   "source": []
  }
 ],
 "metadata": {
  "kernelspec": {
   "display_name": "base",
   "language": "python",
   "name": "python3"
  },
  "language_info": {
   "codemirror_mode": {
    "name": "ipython",
    "version": 3
   },
   "file_extension": ".py",
   "mimetype": "text/x-python",
   "name": "python",
   "nbconvert_exporter": "python",
   "pygments_lexer": "ipython3",
   "version": "3.12.2"
  }
 },
 "nbformat": 4,
 "nbformat_minor": 2
}
