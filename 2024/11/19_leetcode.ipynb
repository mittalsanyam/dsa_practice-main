{
 "cells": [
  {
   "cell_type": "markdown",
   "metadata": {},
   "source": [
    "# 2461. Maximum Sum of Distinct Subarrays With Length K"
   ]
  },
  {
   "cell_type": "markdown",
   "metadata": {},
   "source": [
    "You are given an integer array nums and an integer k. Find the maximum subarray sum of all the subarrays of nums that meet the following conditions:\n",
    "\n",
    "* The length of the subarray is k, and\n",
    "* All the elements of the subarray are distinct.\n",
    "\n",
    "Return the maximum subarray sum of all the subarrays that meet the conditions. If no subarray meets the conditions, return 0.\n",
    "\n",
    "A subarray is a contiguous non-empty sequence of elements within an array."
   ]
  },
  {
   "cell_type": "markdown",
   "metadata": {},
   "source": [
    "Example 1:\n",
    "\n",
    "Input: nums = [1,5,4,2,9,9,9], k = 3\n",
    "Output: 15\n",
    "Explanation: The subarrays of nums with length 3 are:\n",
    "- [1,5,4] which meets the requirements and has a sum of 10.\n",
    "- [5,4,2] which meets the requirements and has a sum of 11.\n",
    "- [4,2,9] which meets the requirements and has a sum of 15.\n",
    "- [2,9,9] which does not meet the requirements because the element 9 is repeated.\n",
    "- [9,9,9] which does not meet the requirements because the element 9 is repeated.\n",
    "We return 15 because it is the maximum subarray sum of all the subarrays that meet the conditions"
   ]
  },
  {
   "cell_type": "markdown",
   "metadata": {},
   "source": [
    "Example 2:\n",
    "\n",
    "Input: nums = [4,4,4], k = 3\n",
    "Output: 0\n",
    "Explanation: The subarrays of nums with length 3 are:\n",
    "- [4,4,4] which does not meet the requirements because the element 4 is repeated.\n",
    "We return 0 because no subarrays meet the conditions."
   ]
  },
  {
   "cell_type": "code",
   "execution_count": 4,
   "metadata": {},
   "outputs": [
    {
     "name": "stdout",
     "output_type": "stream",
     "text": [
      "15\n",
      "0\n",
      "12\n",
      "0\n"
     ]
    }
   ],
   "source": [
    "def maximumSubarraySum(nums, k):\n",
    "    n = len(nums)\n",
    "    elements = set()\n",
    "    current_sum = 0\n",
    "    max_sum = 0\n",
    "    begin = 0\n",
    "\n",
    "    for end in range(n): \n",
    "        if nums[end] not in elements:\n",
    "            current_sum += nums[end]\n",
    "            elements.add(nums[end])\n",
    "\n",
    "            if end - begin + 1 == k:\n",
    "                if current_sum > max_sum:\n",
    "                    max_sum = current_sum\n",
    "                \n",
    "                current_sum -= nums[begin]\n",
    "                elements.remove(nums[begin])\n",
    "                begin += 1\n",
    "        else:\n",
    "            while nums[begin] != nums[end]:\n",
    "                current_sum -= nums[begin]\n",
    "                elements.remove(nums[begin])\n",
    "                begin += 1\n",
    "            \n",
    "            begin += 1\n",
    "\n",
    "    return max_sum\n",
    "\n",
    "print(maximumSubarraySum([1,5,4,2,9,9,9],3))\n",
    "print(maximumSubarraySum([4,4,4],3))\n",
    "print(maximumSubarraySum([9,9,9,1,2,3],3))\n",
    "print(maximumSubarraySum([5,3,3,1,1],3))"
   ]
  },
  {
   "cell_type": "code",
   "execution_count": null,
   "metadata": {},
   "outputs": [],
   "source": []
  }
 ],
 "metadata": {
  "kernelspec": {
   "display_name": "base",
   "language": "python",
   "name": "python3"
  },
  "language_info": {
   "codemirror_mode": {
    "name": "ipython",
    "version": 3
   },
   "file_extension": ".py",
   "mimetype": "text/x-python",
   "name": "python",
   "nbconvert_exporter": "python",
   "pygments_lexer": "ipython3",
   "version": "3.12.2"
  }
 },
 "nbformat": 4,
 "nbformat_minor": 2
}
