{
 "cells": [
  {
   "cell_type": "markdown",
   "metadata": {},
   "source": [
    "# 2516. Take K of Each Character From Left and Right"
   ]
  },
  {
   "cell_type": "markdown",
   "metadata": {},
   "source": [
    "You are given a string s consisting of the characters 'a', 'b', and 'c' and a non-negative integer k. Each minute, you may take either the leftmost character of s, or the rightmost character of s.\n",
    "\n",
    "Return the minimum number of minutes needed for you to take at least k of each character, or return -1 if it is not possible to take k of each character.\n",
    "\n",
    "## Example 1:\n",
    "\n",
    "* Input: s = \"aabaaaacaabc\", k = 2\n",
    "* Output: 8\n",
    "* Explanation: \n",
    "Take three characters from the left of s. You now have two 'a' characters, and one 'b' character.\n",
    "Take five characters from the right of s. You now have four 'a' characters, two 'b' characters, and two 'c' characters.\n",
    "A total of 3 + 5 = 8 minutes is needed.\n",
    "It can be proven that 8 is the minimum number of minutes needed."
   ]
  },
  {
   "cell_type": "code",
   "execution_count": null,
   "metadata": {},
   "outputs": [],
   "source": [
    "def takeCharacters(s,k):\n",
    "    d={c:s.count(c)-k for c in'abc'}\n",
    "    if min(d.values())<0:return-1\n",
    "    h,m,l={c:0 for c in'abc'},0,0\n",
    "    for r,c in enumerate(s):\n",
    "        h[c]+=1\n",
    "        while h[c]>d[c]:h[s[l]]-=1;l+=1\n",
    "        m=max(m,r-l+1)\n",
    "    return len(s)-m\n"
   ]
  },
  {
   "cell_type": "code",
   "execution_count": 25,
   "metadata": {},
   "outputs": [
    {
     "name": "stdout",
     "output_type": "stream",
     "text": [
      "{'a': 6, 'b': 0, 'c': 0}\n",
      "8\n"
     ]
    }
   ],
   "source": [
    "print(takeCharacters('aabaaaacaabc',2))"
   ]
  },
  {
   "cell_type": "code",
   "execution_count": null,
   "metadata": {},
   "outputs": [],
   "source": []
  }
 ],
 "metadata": {
  "kernelspec": {
   "display_name": "base",
   "language": "python",
   "name": "python3"
  },
  "language_info": {
   "codemirror_mode": {
    "name": "ipython",
    "version": 3
   },
   "file_extension": ".py",
   "mimetype": "text/x-python",
   "name": "python",
   "nbconvert_exporter": "python",
   "pygments_lexer": "ipython3",
   "version": "3.12.2"
  }
 },
 "nbformat": 4,
 "nbformat_minor": 2
}
