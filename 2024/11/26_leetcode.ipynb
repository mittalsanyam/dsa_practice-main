{
 "cells": [
  {
   "cell_type": "markdown",
   "metadata": {},
   "source": [
    "# 2924. Find Champion II"
   ]
  },
  {
   "cell_type": "markdown",
   "metadata": {},
   "source": [
    "here are n teams numbered from 0 to n - 1 in a tournament; each team is also a node in a DAG.\n",
    "\n",
    "You are given the integer n and a 0-indexed 2D integer array edges of length m representing the DAG, where edges[i] = [ui, vi] indicates that there is a directed edge from team ui to team vi in the graph.\n",
    "\n",
    "A directed edge from a to b in the graph means that team a is stronger than team b and team b is weaker than team a.\n",
    "\n",
    "Team a will be the champion of the tournament if there is no team b that is stronger than team a.\n",
    "\n",
    "Return the team that will be the champion of the tournament if there is a unique champion, otherwise, return -1.\n",
    "\n",
    "## Examples\n",
    "\n",
    "### Example 1\n",
    "Input: n = 3, edges = [[0,1],[1,2]]\n",
    "\n",
    "Output: 0\n",
    "\n",
    "Explanation: Team 1 is weaker than team 0. Team 2 is weaker than team 1. So the champion is team 0.\n",
    "\n",
    "###Example 2\n",
    "Input: n = 4, edges = [[0,2],[1,3],[1,2]]\n",
    "\n",
    "Output: -1\n",
    "\n",
    "Explanation: Team 2 is weaker than team 0 and team 1. Team 3 is weaker than team 1. But team 1 and team 0 are not weaker than any other teams. So the answer is -1."
   ]
  },
  {
   "cell_type": "code",
   "execution_count": 9,
   "metadata": {},
   "outputs": [
    {
     "name": "stdout",
     "output_type": "stream",
     "text": [
      "0\n",
      "-1\n"
     ]
    }
   ],
   "source": [
    "def findChampion(n,edges):\n",
    "    strongedges=[True for i in range(n)]\n",
    "    for edge in edges:\n",
    "        strongedges[edge[1]]=False\n",
    "    champion=-1\n",
    "    count=0\n",
    "    for i in range(n):\n",
    "        if strongedges[i]:\n",
    "            champion=i\n",
    "            count+=1\n",
    "    if count==1:\n",
    "        return champion\n",
    "    else:\n",
    "        return -1\n",
    "\n",
    "n1,t1=3,[[0,1],[1,2]] \n",
    "n2,t2=4,[[0,2],[1,3],[1,2]]\n",
    "print(findChampion(n1,t1))\n",
    "print(findChampion(n2,t2))"
   ]
  },
  {
   "cell_type": "code",
   "execution_count": null,
   "metadata": {},
   "outputs": [],
   "source": []
  }
 ],
 "metadata": {
  "kernelspec": {
   "display_name": "base",
   "language": "python",
   "name": "python3"
  },
  "language_info": {
   "codemirror_mode": {
    "name": "ipython",
    "version": 3
   },
   "file_extension": ".py",
   "mimetype": "text/x-python",
   "name": "python",
   "nbconvert_exporter": "python",
   "pygments_lexer": "ipython3",
   "version": "3.12.2"
  }
 },
 "nbformat": 4,
 "nbformat_minor": 2
}
