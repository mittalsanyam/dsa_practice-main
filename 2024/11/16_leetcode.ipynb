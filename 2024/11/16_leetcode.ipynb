{
 "cells": [
  {
   "cell_type": "markdown",
   "metadata": {},
   "source": [
    "# 3254. Find the Power of K-Size Subarrays I"
   ]
  },
  {
   "cell_type": "markdown",
   "metadata": {},
   "source": [
    "You are given an array of integers nums of length n and a positive integer k.\n",
    "\n",
    "The power of an array is defined as:\n",
    "\n",
    "Its maximum element if all of its elements are consecutive and sorted in ascending order.\n",
    "-1 otherwise.\n",
    "You need to find the power of all \n",
    "subarrays\n",
    " of nums of size k.\n",
    "\n",
    "Return an integer array results of size n - k + 1, where results[i] is the power of nums[i..(i + k - 1)]."
   ]
  },
  {
   "cell_type": "markdown",
   "metadata": {},
   "source": [
    "## Example 1\n",
    "* Input: nums = [1,2,3,4,3,2,5], k = 3\n",
    "\n",
    "* Output: [3,4,-1,-1,-1]\n",
    "\n",
    "* Explanation: There are 5 subarrays of nums of size 3:\n",
    "\n",
    "    * [1, 2, 3] with the maximum element 3.\n",
    "    * [2, 3, 4] with the maximum element 4.\n",
    "    * [3, 4, 3] whose elements are not consecutive.\n",
    "    * [4, 3, 2] whose elements are not sorted.\n",
    "    * [3, 2, 5] whose elements are not consecutive."
   ]
  },
  {
   "cell_type": "markdown",
   "metadata": {},
   "source": [
    "## Solution"
   ]
  },
  {
   "cell_type": "code",
   "execution_count": 15,
   "metadata": {},
   "outputs": [
    {
     "name": "stdout",
     "output_type": "stream",
     "text": [
      "[3, 4, -1, -1, -1]\n",
      "[-1, -1]\n",
      "[-1, 3, -1, 3, -1]\n"
     ]
    }
   ],
   "source": [
    "def resultsArray(nums,k):\n",
    "    result=[]\n",
    "    n=len(nums)\n",
    "    for i in range(n-k+1):\n",
    "        flag=True\n",
    "        j=i\n",
    "        while (flag) and j-i<k-1:\n",
    "            if nums[j+1]-nums[j]!=1:\n",
    "                flag=False\n",
    "            j=j+1\n",
    "        if not flag:\n",
    "            result.append(-1)\n",
    "        else:\n",
    "            result.append(nums[j])\n",
    "    return result\n",
    "\n",
    "print(resultsArray([1,2,3,4,3,2,5],3))\n",
    "print(resultsArray([2,2,2,2,2],4))\n",
    "print(resultsArray([3,2,3,2,3,2],2))"
   ]
  },
  {
   "cell_type": "code",
   "execution_count": null,
   "metadata": {},
   "outputs": [],
   "source": []
  }
 ],
 "metadata": {
  "kernelspec": {
   "display_name": "base",
   "language": "python",
   "name": "python3"
  },
  "language_info": {
   "codemirror_mode": {
    "name": "ipython",
    "version": 3
   },
   "file_extension": ".py",
   "mimetype": "text/x-python",
   "name": "python",
   "nbconvert_exporter": "python",
   "pygments_lexer": "ipython3",
   "version": "3.12.2"
  }
 },
 "nbformat": 4,
 "nbformat_minor": 2
}
