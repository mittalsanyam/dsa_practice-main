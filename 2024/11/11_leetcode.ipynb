{
 "cells": [
  {
   "cell_type": "markdown",
   "metadata": {},
   "source": [
    "# 2601. Prime Subtraction Operation"
   ]
  },
  {
   "cell_type": "markdown",
   "metadata": {},
   "source": [
    "You are given a 0-indexed integer array nums of length n.\n",
    "\n",
    "You can perform the following operation as many times as you want:\n",
    "\n",
    "* Pick an index i that you haven’t picked before, and pick a prime p strictly less than nums[i], then subtract p from nums[i].\n",
    "Return true if you can make nums a strictly increasing array using the above operation and false otherwise.\n",
    "\n",
    "A strictly increasing array is an array whose each element is strictly greater than its preceding element."
   ]
  },
  {
   "cell_type": "markdown",
   "metadata": {},
   "source": [
    "## Example 1:\n",
    "\n",
    "* Input: nums = [4,9,6,10]\n",
    "* Output: true\n",
    "* Explanation: In the first operation: Pick i = 0 and p = 3, and then subtract 3 from nums[0], so that nums becomes [1,9,6,10].\n",
    "In the second operation: i = 1, p = 7, subtract 7 from nums[1], so nums becomes equal to [1,2,6,10].\n",
    "After the second operation, nums is sorted in strictly increasing order, so the answer is true."
   ]
  },
  {
   "cell_type": "markdown",
   "metadata": {},
   "source": [
    "## Solution"
   ]
  },
  {
   "cell_type": "code",
   "execution_count": 25,
   "metadata": {},
   "outputs": [
    {
     "name": "stdout",
     "output_type": "stream",
     "text": [
      "[1, 2, 3, 4, 6]\n",
      "True\n"
     ]
    }
   ],
   "source": [
    "def primeSubOperation(nums):\n",
    "    n = len(nums)\n",
    "    flag=True\n",
    "    i=n-1\n",
    "    while flag and i>0:\n",
    "        if nums[i]>nums[i-1]:\n",
    "            i=i-1\n",
    "        else:\n",
    "            flag2=True\n",
    "            j=1\n",
    "            while j<nums[i-1]-1 and flag2:\n",
    "                j=j+1\n",
    "                isprime=True\n",
    "                for k in range(2,j):\n",
    "                    if j%k==0:\n",
    "                        isprime=False\n",
    "                if isprime:\n",
    "                    if nums[i-1]-j<nums[i]:\n",
    "                        flag2=False\n",
    "            if not flag2:\n",
    "                nums[i-1]=nums[i-1]-j\n",
    "            else:\n",
    "                flag=False\n",
    "            i=i-1\n",
    "    print(nums)\n",
    "    return flag\n",
    "\n",
    "print(primeSubOperation([3,4,10,15,6]))"
   ]
  },
  {
   "cell_type": "code",
   "execution_count": null,
   "metadata": {},
   "outputs": [],
   "source": []
  }
 ],
 "metadata": {
  "kernelspec": {
   "display_name": "base",
   "language": "python",
   "name": "python3"
  },
  "language_info": {
   "codemirror_mode": {
    "name": "ipython",
    "version": 3
   },
   "file_extension": ".py",
   "mimetype": "text/x-python",
   "name": "python",
   "nbconvert_exporter": "python",
   "pygments_lexer": "ipython3",
   "version": "3.12.2"
  }
 },
 "nbformat": 4,
 "nbformat_minor": 2
}
