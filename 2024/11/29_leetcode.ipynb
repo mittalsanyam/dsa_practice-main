{
 "cells": [
  {
   "cell_type": "markdown",
   "metadata": {},
   "source": [
    "# 2577. Minimum Time to Visit a Cell In a Grid"
   ]
  },
  {
   "cell_type": "markdown",
   "metadata": {},
   "source": [
    "You are given a m x n matrix grid consisting of non-negative integers where grid[row][col] represents the minimum time required to be able to visit the cell (row, col), which means you can visit the cell (row, col) only when the time you visit it is greater than or equal to grid[row][col].\n",
    "\n",
    "You are standing in the top-left cell of the matrix in the 0th second, and you must move to any adjacent cell in the four directions: up, down, left, and right. Each move you make takes 1 second.\n",
    "\n",
    "Return the minimum time required in which you can visit the bottom-right cell of the matrix. If you cannot visit the bottom-right cell, then return -1.\n",
    "\n",
    "## Examples\n",
    "### Example 1\n",
    "**Input**: grid = [[0,1,3,2],[5,1,2,5],[4,3,8,6]]\n",
    "\n",
    "**Output**: 7\n",
    "\n",
    "**Explanation**: One of the paths that we can take is the following:\n",
    "- at t = 0, we are on the cell (0,0).\n",
    "- at t = 1, we move to the cell (0,1). It is possible because grid[0][1] <= 1.\n",
    "- at t = 2, we move to the cell (1,1). It is possible because grid[1][1] <= 2.\n",
    "- at t = 3, we move to the cell (1,2). It is possible because grid[1][2] <= 3.\n",
    "- at t = 4, we move to the cell (1,1). It is possible because grid[1][1] <= 4.\n",
    "- at t = 5, we move to the cell (1,2). It is possible because grid[1][2] <= 5.\n",
    "- at t = 6, we move to the cell (1,3). It is possible because grid[1][3] <= 6.\n",
    "- at t = 7, we move to the cell (2,3). It is possible because grid[2][3] <= 7.\n",
    "The final time is 7. It can be shown that it is the minimum time possible.\n",
    "\n",
    "### Example 2\n",
    "**Input**: grid = [[0,2,4],[3,2,1],[1,0,4]]\n",
    "\n",
    "**Output**: -1\n",
    "\n",
    "**Explanation**: There is no path from the top left to the bottom-right cell."
   ]
  },
  {
   "cell_type": "code",
   "execution_count": 29,
   "metadata": {},
   "outputs": [
    {
     "name": "stdout",
     "output_type": "stream",
     "text": [
      "7\n",
      "-1\n"
     ]
    }
   ],
   "source": [
    "import heapq\n",
    "from typing import List\n",
    "def minimumTime(grid):\n",
    "    adjlist={}\n",
    "    m,n = len(grid),len(grid[0])\n",
    "    for i in range(m):\n",
    "        for j in range(n):\n",
    "            if (i,j) not in adjlist.keys():\n",
    "                adjlist[i,j]=[]\n",
    "            if i-1>=0:\n",
    "                adjlist[i,j].append((i-1,j,grid[i-1][j]))\n",
    "            if i+1<m:\n",
    "                adjlist[i,j].append((i+1,j,grid[i+1][j]))\n",
    "            if j-1>=0:\n",
    "                adjlist[i,j].append((i,j-1,grid[i][j-1]))\n",
    "            if j+1<n:\n",
    "                adjlist[i,j].append((i,j+1,grid[i][j+1]))\n",
    "    destination=(m-1,n-1)\n",
    "    visited={}\n",
    "    for (i,j) in adjlist.keys():\n",
    "        visited[(i,j)]=False\n",
    "    time=0\n",
    "    pq=[]\n",
    "    if grid[0][1] > 1 and grid[1][0] > 1:\n",
    "        return -1\n",
    "    pq=[(0,0,0)]\n",
    "    while len(pq)>0:\n",
    "        time,u,v = heapq.heappop(pq)\n",
    "        if u==m-1 and v==n-1:\n",
    "            return time\n",
    "        if visited[(u,v)]:\n",
    "            continue\n",
    "        visited[(u,v)]=True\n",
    "        for (i,j,w) in adjlist[(u,v)]:\n",
    "            if not visited[(i,j)]:\n",
    "                if w<=time+1:\n",
    "                    heapq.heappush(pq,(time+1,i,j))\n",
    "                else:\n",
    "                    diff = w-time\n",
    "                    if diff%2==1:\n",
    "                        heapq.heappush(pq,(w,i,j))\n",
    "                    else:\n",
    "                        heapq.heappush(pq,(w+1,i,j))\n",
    "    return -1\n",
    "    \n",
    "            \n",
    "\n",
    "\n",
    "        \n",
    "grid1 = [[0,1,3,2],[5,1,2,5],[4,3,8,6]]\n",
    "print(minimumTime(grid1))\n",
    "grid2=[[0,2,4],[3,2,1],[1,0,4]]\n",
    "print(minimumTime(grid2))"
   ]
  },
  {
   "cell_type": "code",
   "execution_count": null,
   "metadata": {},
   "outputs": [],
   "source": []
  }
 ],
 "metadata": {
  "kernelspec": {
   "display_name": "base",
   "language": "python",
   "name": "python3"
  },
  "language_info": {
   "codemirror_mode": {
    "name": "ipython",
    "version": 3
   },
   "file_extension": ".py",
   "mimetype": "text/x-python",
   "name": "python",
   "nbconvert_exporter": "python",
   "pygments_lexer": "ipython3",
   "version": "3.12.2"
  }
 },
 "nbformat": 4,
 "nbformat_minor": 2
}
