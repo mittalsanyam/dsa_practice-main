{
 "cells": [
  {
   "cell_type": "markdown",
   "metadata": {},
   "source": [
    "# Split array in three equal sum subarrays"
   ]
  },
  {
   "cell_type": "markdown",
   "metadata": {},
   "source": [
    "Given an array, arr[], determine if arr can be split into three consecutive parts such that the sum of each part is equal. If possible, return any index pair(i, j) in an array such that sum(arr[0..i]) = sum(arr[i+1..j]) = sum(arr[j+1..n-1]), otherwise return an array {-1,-1}.\n",
    "\n",
    "Note: Since multiple answers are possible, return any of them. The driver code will print true if it is correct otherwise, it will print false."
   ]
  },
  {
   "cell_type": "markdown",
   "metadata": {},
   "source": [
    "## Example\n",
    "* Input:  arr[] = [1, 3, 4, 0, 4]\n",
    "* Output: true\n",
    "* Explanation: [1, 2] is valid pair as sum of subarray arr[0..1] is equal to sum of subarray arr[2..3] and also to sum of subarray arr[4..4]. The sum is 4. \n"
   ]
  },
  {
   "cell_type": "markdown",
   "metadata": {},
   "source": [
    "## Solution\n",
    "* First we will initialize i and j pointers to 0 and len(arr)-1.\n",
    "* We will also initialize sum of elements including the ith element to be startsum and sum of elements from jth element to the last element as backsum. \n",
    "* Then we will iterate such that i is always less than j.\n",
    "* if sum till ith element is less than the sum from jth element we will increase i by 1 and add the element to the first partition sum.\n",
    "* if sum till ith element is more than the sum from jth element we will decrease j by 1 and the element to the last partition sum.\n",
    "* if sum are equal we will check the sum with the sum of elements in partition from i+1 to j and if it is equal we will return (i,j) or else we will increase i by 1 and add the new element to the sum of first partition."
   ]
  },
  {
   "cell_type": "code",
   "execution_count": 43,
   "metadata": {},
   "outputs": [],
   "source": [
    "arr = [1,1,0]\n",
    "def findSplit(arr):\n",
    "    i,j=0,len(arr)-1\n",
    "    startsum,backsum=arr[i],arr[j]\n",
    "    while i<j:\n",
    "        if startsum<backsum:\n",
    "            i=i+1\n",
    "            startsum+=arr[i]\n",
    "        elif startsum>backsum:\n",
    "            j=j-1\n",
    "            backsum+=arr[j]\n",
    "        else:\n",
    "            middlesum=sum(arr[i+1:j])\n",
    "            if middlesum==startsum:\n",
    "                return (i,j)\n",
    "            else:\n",
    "                i+=1\n",
    "                startsum+=arr[i]\n",
    "    return (-1,-1)"
   ]
  },
  {
   "cell_type": "code",
   "execution_count": 44,
   "metadata": {},
   "outputs": [
    {
     "name": "stdout",
     "output_type": "stream",
     "text": [
      "(-1, -1)\n"
     ]
    }
   ],
   "source": [
    "print(findSplit(arr))"
   ]
  }
 ],
 "metadata": {
  "kernelspec": {
   "display_name": "base",
   "language": "python",
   "name": "python3"
  },
  "language_info": {
   "codemirror_mode": {
    "name": "ipython",
    "version": 3
   },
   "file_extension": ".py",
   "mimetype": "text/x-python",
   "name": "python",
   "nbconvert_exporter": "python",
   "pygments_lexer": "ipython3",
   "version": "3.12.2"
  }
 },
 "nbformat": 4,
 "nbformat_minor": 2
}
