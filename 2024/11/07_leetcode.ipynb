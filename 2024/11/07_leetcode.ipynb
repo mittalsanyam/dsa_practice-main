{
 "cells": [
  {
   "cell_type": "markdown",
   "metadata": {},
   "source": [
    "# 2275. Largest Combination With Bitwise AND Greater Than Zero"
   ]
  },
  {
   "cell_type": "markdown",
   "metadata": {},
   "source": [
    "## Problem Statement"
   ]
  },
  {
   "cell_type": "markdown",
   "metadata": {},
   "source": [
    "The bitwise AND of an array nums is the bitwise AND of all integers in nums.\n",
    "\n",
    "* For example, for nums = [1, 5, 3], the bitwise AND is equal to 1 & 5 & 3 = 1.\n",
    "* Also, for nums = [7], the bitwise AND is 7.\n",
    "\n",
    "You are given an array of positive integers candidates. Evaluate the bitwise AND of every combination of numbers of candidates. Each number in candidates may only be used once in each combination.\n",
    "\n",
    "Return the size of the largest combination of candidates with a bitwise AND greater than 0."
   ]
  },
  {
   "cell_type": "markdown",
   "metadata": {},
   "source": [
    "### Example 1:\n",
    "\n",
    "* Input: candidates = [16,17,71,62,12,24,14]\n",
    "Output: 4\n",
    "* Explanation: The combination [16,17,62,24] has a bitwise AND of 16 & 17 & 62 & 24 = 16 > 0.\n",
    "* The size of the combination is 4.\n",
    "* It can be shown that no combination with a size greater than 4 has a bitwise AND greater than 0.\n",
    "* Note that more than one combination may have the largest size.\n",
    "* For example, the combination [62,12,24,14] has a bitwise AND of 62 & 12 & 24 & 14 = 8 > 0."
   ]
  },
  {
   "cell_type": "markdown",
   "metadata": {},
   "source": [
    "## Solution\n",
    "* Step 1: Since integers are of length 32 bit we will initialize a 32 bit binary number.\n",
    "* Step 2: We will shift one bit in each iteration and check how many numbers in the given list have that bit in common.\n",
    "* Step 3: We will compare the count of numbers which have common bit in current iteration to that of the previous iterations and update it if we have more numbers in this iteration with common bit."
   ]
  },
  {
   "cell_type": "code",
   "execution_count": 55,
   "metadata": {},
   "outputs": [],
   "source": [
    "def largestCombination(candidates):\n",
    "    max_count=0\n",
    "    for i in range(32):\n",
    "        numbitscommon = sum(1 for num in candidates if (num & (1<<i)))\n",
    "        max_count=max(max_count,numbitscommon)\n",
    "    return max_count"
   ]
  },
  {
   "cell_type": "code",
   "execution_count": 56,
   "metadata": {},
   "outputs": [
    {
     "name": "stdout",
     "output_type": "stream",
     "text": [
      "3\n"
     ]
    }
   ],
   "source": [
    "print(largestCombination([1,5,3]))"
   ]
  },
  {
   "cell_type": "code",
   "execution_count": null,
   "metadata": {},
   "outputs": [
    {
     "name": "stdout",
     "output_type": "stream",
     "text": [
      "1\n"
     ]
    }
   ],
   "source": [
    "print(largestCombination([7]))"
   ]
  },
  {
   "cell_type": "code",
   "execution_count": 58,
   "metadata": {},
   "outputs": [
    {
     "name": "stdout",
     "output_type": "stream",
     "text": [
      "4\n"
     ]
    }
   ],
   "source": [
    "print(largestCombination([16,17,71,62,12,24,14]))"
   ]
  }
 ],
 "metadata": {
  "kernelspec": {
   "display_name": "base",
   "language": "python",
   "name": "python3"
  },
  "language_info": {
   "codemirror_mode": {
    "name": "ipython",
    "version": 3
   },
   "file_extension": ".py",
   "mimetype": "text/x-python",
   "name": "python",
   "nbconvert_exporter": "python",
   "pygments_lexer": "ipython3",
   "version": "3.12.2"
  }
 },
 "nbformat": 4,
 "nbformat_minor": 2
}
