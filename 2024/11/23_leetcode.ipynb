{
 "cells": [
  {
   "cell_type": "markdown",
   "metadata": {},
   "source": [
    "# 1861. Rotating the Box"
   ]
  },
  {
   "cell_type": "markdown",
   "metadata": {},
   "source": [
    "You are given an m x n matrix of characters box representing a side-view of a box. Each cell of the box is one of the following:\n",
    "\n",
    "- A stone '#'\n",
    "- A stationary obstacle '*'\n",
    "- Empty '.'\n",
    "The box is rotated 90 degrees clockwise, causing some of the stones to fall due to gravity. Each stone falls down until it lands on an obstacle, another stone, or the bottom of the box. Gravity does not affect the obstacles' positions, and the inertia from the box's rotation does not affect the stones' horizontal positions.\n",
    "\n",
    "It is guaranteed that each stone in box rests on an obstacle, another stone, or the bottom of the box.\n",
    "\n",
    "Return an n x m matrix representing the box after the rotation described above."
   ]
  },
  {
   "cell_type": "code",
   "execution_count": 9,
   "metadata": {},
   "outputs": [
    {
     "name": "stdout",
     "output_type": "stream",
     "text": [
      "[['.'], ['#'], ['#']]\n",
      "[['#', '.'], ['#', '#'], ['*', '*'], ['.', '.']]\n",
      "[['.', '#', '#'], ['.', '#', '#'], ['#', '#', '*'], ['#', '*', '.'], ['#', '.', '*'], ['#', '.', '.']]\n"
     ]
    }
   ],
   "source": [
    "box1 = [[\"#\",\".\",\"#\"]]\n",
    "box2 = [[\"#\",\".\",\"*\",\".\"],\n",
    "        [\"#\",\"#\",\"*\",\".\"]]\n",
    "box3 = [[\"#\",\"#\",\"*\",\".\",\"*\",\".\"],\n",
    "        [\"#\",\"#\",\"#\",\"*\",\".\",\".\"],\n",
    "        [\"#\",\"#\",\"#\",\".\",\"#\",\".\"]]\n",
    "\n",
    "def rotateTheBox(box):\n",
    "    m,n=len(box),len(box[0])\n",
    "    rotatedBox = []\n",
    "    for i in range(m):\n",
    "        p=0\n",
    "        for j in range(n-1,-1,-1):\n",
    "            if box[i][j]=='.':\n",
    "                p=p+1\n",
    "            if box[i][j]=='*':\n",
    "                p=0\n",
    "            if box[i][j]=='#':\n",
    "                box[i][j],box[i][j+p]=box[i][j+p],box[i][j]\n",
    "    for i in range(n):\n",
    "        col=[]\n",
    "        for j in range(m):\n",
    "            col.append(box[m-1-j][i])\n",
    "        rotatedBox.append(col)\n",
    "    return rotatedBox\n",
    "\n",
    "print(rotateTheBox(box1))\n",
    "print(rotateTheBox(box2))\n",
    "print(rotateTheBox(box3))"
   ]
  },
  {
   "cell_type": "code",
   "execution_count": null,
   "metadata": {},
   "outputs": [],
   "source": []
  }
 ],
 "metadata": {
  "kernelspec": {
   "display_name": "base",
   "language": "python",
   "name": "python3"
  },
  "language_info": {
   "codemirror_mode": {
    "name": "ipython",
    "version": 3
   },
   "file_extension": ".py",
   "mimetype": "text/x-python",
   "name": "python",
   "nbconvert_exporter": "python",
   "pygments_lexer": "ipython3",
   "version": "3.12.2"
  }
 },
 "nbformat": 4,
 "nbformat_minor": 2
}
