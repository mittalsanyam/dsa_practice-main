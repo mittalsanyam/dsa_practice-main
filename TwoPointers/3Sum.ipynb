{
 "cells": [
  {
   "cell_type": "markdown",
   "metadata": {},
   "source": [
    "# 15. 3Sum\n",
    "**Level: Medium**\n",
    "\n",
    "[Problem Link](https://leetcode.com/problems/3sum/description/)\n",
    "\n",
    "Given an integer array nums, return all the triplets [nums[i], nums[j], nums[k]] such that i != j, i != k, and j != k, and nums[i] + nums[j] + nums[k] == 0.\n",
    "\n",
    "Notice that the solution set must not contain duplicate triplets.\n",
    "\n",
    "## Examples\n",
    "### Example 1:\n",
    "Input: nums = [-1,0,1,2,-1,-4]\n",
    "\n",
    "Output: [[-1,-1,2],[-1,0,1]]\n",
    "\n",
    "Explanation: \n",
    "\n",
    "- nums[0] + nums[1] + nums[2] = (-1) + 0 + 1 = 0.\n",
    "- nums[1] + nums[2] + nums[4] = 0 + 1 + (-1) = 0.\n",
    "- nums[0] + nums[3] + nums[4] = (-1) + 2 + (-1) = 0.\n",
    "\n",
    "The distinct triplets are [-1,0,1] and [-1,-1,2].\n",
    "\n",
    "Notice that the order of the output and the order of the triplets does not matter.\n",
    "\n",
    "### Example 2:\n",
    "\n",
    "Input: nums = [0,1,1]\n",
    "\n",
    "Output: []\n",
    "\n",
    "Explanation: The only possible triplet does not sum up to 0.\n",
    "\n",
    "### Example 3:\n",
    "\n",
    "Input: nums = [0,0,0]\n",
    "\n",
    "Output: [[0,0,0]]\n",
    "\n",
    "Explanation: The only possible triplet sums up to 0.\n",
    " \n",
    "## Constraints:\n",
    "\n",
    "- 3 <= nums.length <= 3000\n",
    "- $-10^5 <= nums[i] <= 10^5$"
   ]
  },
  {
   "cell_type": "markdown",
   "metadata": {},
   "source": [
    "## Solution"
   ]
  },
  {
   "cell_type": "code",
   "execution_count": 69,
   "metadata": {},
   "outputs": [],
   "source": [
    "def threeSum(nums):\n",
    "    nums = sorted(nums)\n",
    "    n = len(nums)\n",
    "    res=[]\n",
    "    for idx in range(n):\n",
    "        if idx>0 and nums[idx]==nums[idx-1]:\n",
    "            continue\n",
    "        target = -nums[idx]\n",
    "        left,right = idx+1,n-1\n",
    "        while left<right:\n",
    "            if nums[left]+nums[right]>target:\n",
    "                right-=1\n",
    "                if right==idx:\n",
    "                    right-=1\n",
    "            elif nums[left]+nums[right]<target:\n",
    "                left+=1\n",
    "                if left==idx:\n",
    "                    left+=1\n",
    "            else:\n",
    "                res.append([nums[idx],nums[left],nums[right]])\n",
    "                left+=1\n",
    "                while left <right and nums[left]==nums[left-1]:\n",
    "                    left+=1\n",
    "    return res"
   ]
  },
  {
   "cell_type": "code",
   "execution_count": 70,
   "metadata": {},
   "outputs": [
    {
     "name": "stdout",
     "output_type": "stream",
     "text": [
      "[[-1, -1, 2], [-1, 0, 1]]\n"
     ]
    }
   ],
   "source": [
    "print(threeSum([-1,0,1,2,-1,-4]))"
   ]
  },
  {
   "cell_type": "code",
   "execution_count": 71,
   "metadata": {},
   "outputs": [
    {
     "name": "stdout",
     "output_type": "stream",
     "text": [
      "[]\n"
     ]
    }
   ],
   "source": [
    "print(threeSum([0,1,1]))"
   ]
  },
  {
   "cell_type": "code",
   "execution_count": 72,
   "metadata": {},
   "outputs": [
    {
     "name": "stdout",
     "output_type": "stream",
     "text": [
      "[[0, 0, 0]]\n"
     ]
    }
   ],
   "source": [
    "print(threeSum([0,0,0]))"
   ]
  },
  {
   "cell_type": "code",
   "execution_count": 73,
   "metadata": {},
   "outputs": [
    {
     "name": "stdout",
     "output_type": "stream",
     "text": [
      "[[-4, 0, 4], [-4, 1, 3], [-3, -1, 4], [-3, 0, 3], [-3, 1, 2], [-2, -1, 3], [-2, 0, 2], [-1, -1, 2], [-1, 0, 1]]\n"
     ]
    }
   ],
   "source": [
    "print(threeSum([-1,0,1,2,-1,-4,-2,-3,3,0,4]))"
   ]
  }
 ],
 "metadata": {
  "kernelspec": {
   "display_name": "base",
   "language": "python",
   "name": "python3"
  },
  "language_info": {
   "codemirror_mode": {
    "name": "ipython",
    "version": 3
   },
   "file_extension": ".py",
   "mimetype": "text/x-python",
   "name": "python",
   "nbconvert_exporter": "python",
   "pygments_lexer": "ipython3",
   "version": "3.12.2"
  }
 },
 "nbformat": 4,
 "nbformat_minor": 2
}
