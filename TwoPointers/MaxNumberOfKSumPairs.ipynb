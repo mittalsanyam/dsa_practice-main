{
 "cells": [
  {
   "cell_type": "markdown",
   "metadata": {},
   "source": [
    "# 1679. Max Number of K-Sum Pairs\n",
    "\n",
    "**Level: Medium**\n",
    "\n",
    "You are given an integer array nums and an integer k.\n",
    "\n",
    "In one operation, you can pick two numbers from the array whose sum equals k and remove them from the array.\n",
    "\n",
    "Return the maximum number of operations you can perform on the array.\n",
    "\n",
    "## Examples\n",
    "\n",
    "### Example 1:\n",
    "\n",
    "Input: nums = [1,2,3,4], k = 5\n",
    "\n",
    "Output: 2\n",
    "\n",
    "Explanation: Starting with nums = [1,2,3,4]:\n",
    "- Remove numbers 1 and 4, then nums = [2,3]\n",
    "- Remove numbers 2 and 3, then nums = []\n",
    "\n",
    "There are no more pairs that sum up to 5, hence a total of 2 operations.\n",
    "\n",
    "### Example 2:\n",
    "\n",
    "Input: nums = [3,1,3,4,3], k = 6\n",
    "\n",
    "Output: 1\n",
    "\n",
    "Explanation: Starting with nums = [3,1,3,4,3]:\n",
    "\n",
    "- Remove the first two 3's, then nums = [1,4,3]\n",
    "\n",
    "There are no more pairs that sum up to 6, hence a total of 1 operation.\n",
    " \n",
    "\n",
    "## Constraints:\n",
    "\n",
    "- $1 <= nums.length <= 10^5$\n",
    "- $1 <= nums[i] <= 10^9$\n",
    "- $1 <= k <= 10^9$"
   ]
  },
  {
   "cell_type": "markdown",
   "metadata": {},
   "source": [
    "## Solution"
   ]
  },
  {
   "cell_type": "code",
   "execution_count": 12,
   "metadata": {},
   "outputs": [
    {
     "name": "stdout",
     "output_type": "stream",
     "text": [
      "2\n",
      "1\n"
     ]
    }
   ],
   "source": [
    "import math\n",
    "def maxOperation(nums,k):\n",
    "    count = {}\n",
    "    for num in nums:\n",
    "        if num not in count.keys():\n",
    "            count[num]=0\n",
    "        count[num]+=1\n",
    "    numOperations=0\n",
    "    for i in count.keys():\n",
    "        if k/2==i:\n",
    "            operation=math.floor(count[i]/2)\n",
    "            count[i]-=operation\n",
    "        else:\n",
    "            if k-i in count.keys():\n",
    "                operation=min(count[i],count[k-i])\n",
    "                count[i]-=operation\n",
    "                count[k-i]-=operation\n",
    "        numOperations+=operation\n",
    "    return numOperations\n",
    "\n",
    "print(maxOperation([1,2,3,4],5))\n",
    "print(maxOperation([3,1,3,4,3],6))"
   ]
  },
  {
   "cell_type": "code",
   "execution_count": 13,
   "metadata": {},
   "outputs": [
    {
     "name": "stdout",
     "output_type": "stream",
     "text": [
      "2\n",
      "1\n"
     ]
    }
   ],
   "source": [
    "def maxOperation(nums,k):\n",
    "    nums.sort()\n",
    "    l,r,res=0,len(nums)-1,0\n",
    "    while l<r:\n",
    "        total=nums[l]+nums[r]\n",
    "        if total<k:\n",
    "            l+=1\n",
    "        if total>k:\n",
    "            r-=1\n",
    "        if total==k:\n",
    "            res+=1\n",
    "            l+=1\n",
    "            r-=1\n",
    "    return res\n",
    "print(maxOperation([1,2,3,4],5))\n",
    "print(maxOperation([3,1,3,4,3],6))"
   ]
  }
 ],
 "metadata": {
  "kernelspec": {
   "display_name": "base",
   "language": "python",
   "name": "python3"
  },
  "language_info": {
   "codemirror_mode": {
    "name": "ipython",
    "version": 3
   },
   "file_extension": ".py",
   "mimetype": "text/x-python",
   "name": "python",
   "nbconvert_exporter": "python",
   "pygments_lexer": "ipython3",
   "version": "3.12.2"
  }
 },
 "nbformat": 4,
 "nbformat_minor": 2
}
