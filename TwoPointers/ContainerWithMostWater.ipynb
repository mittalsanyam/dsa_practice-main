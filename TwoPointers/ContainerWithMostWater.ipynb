{
 "cells": [
  {
   "cell_type": "markdown",
   "metadata": {},
   "source": [
    "# 11. Container With Most Water\n",
    "\n",
    "**Level :Medium**\n",
    "\n",
    "[Problem Link](https://leetcode.com/problems/container-with-most-water/description/)\n",
    "\n",
    "You are given an integer array height of length n. There are n vertical lines drawn such that the two endpoints of the ith line are (i, 0) and (i, height[i]).\n",
    "\n",
    "Find two lines that together with the x-axis form a container, such that the container contains the most water.\n",
    "\n",
    "Return the maximum amount of water a container can store.\n",
    "\n",
    "Notice that you may not slant the container.\n",
    "\n",
    "## Examples\n",
    "\n",
    "### Example 1\n",
    "\n",
    "Input: height = [1,8,6,2,5,4,8,3,7]\n",
    "\n",
    "Output: 49\n",
    "\n",
    "Explanation: The above vertical lines are represented by array [1,8,6,2,5,4,8,3,7]. In this case, the max area of water (blue section) the container can contain is 49.\n",
    "\n",
    "### Example 2\n",
    "\n",
    "Input: height = [1,1]\n",
    "\n",
    "Output: 1\n",
    "\n",
    "## Constraints:\n",
    "\n",
    "- $n == height.length$\n",
    "- $ 2 <= n <= 10^5$\n",
    "- $0 <= height[i] <= 10^4$"
   ]
  },
  {
   "cell_type": "markdown",
   "metadata": {},
   "source": [
    "## Solution"
   ]
  },
  {
   "cell_type": "code",
   "execution_count": 1,
   "metadata": {},
   "outputs": [
    {
     "name": "stdout",
     "output_type": "stream",
     "text": [
      "49\n"
     ]
    }
   ],
   "source": [
    "def maxArea(height):\n",
    "    left,right=0,len(height)-1\n",
    "    maxarea=0\n",
    "    while left<right:\n",
    "        minheight = min(height[left],height[right])\n",
    "        area = minheight*(right-left)\n",
    "        if area>maxarea:\n",
    "            maxarea=area\n",
    "        if height[left]<height[right]:\n",
    "            left+=1\n",
    "        else:\n",
    "            right-=1\n",
    "    return maxarea\n",
    "\n",
    "print(maxArea([1,8,6,2,5,4,8,3,7]))"
   ]
  },
  {
   "cell_type": "code",
   "execution_count": 2,
   "metadata": {},
   "outputs": [
    {
     "name": "stdout",
     "output_type": "stream",
     "text": [
      "1\n"
     ]
    }
   ],
   "source": [
    "print(maxArea([1,1]))"
   ]
  }
 ],
 "metadata": {
  "kernelspec": {
   "display_name": "base",
   "language": "python",
   "name": "python3"
  },
  "language_info": {
   "codemirror_mode": {
    "name": "ipython",
    "version": 3
   },
   "file_extension": ".py",
   "mimetype": "text/x-python",
   "name": "python",
   "nbconvert_exporter": "python",
   "pygments_lexer": "ipython3",
   "version": "3.12.2"
  }
 },
 "nbformat": 4,
 "nbformat_minor": 2
}
