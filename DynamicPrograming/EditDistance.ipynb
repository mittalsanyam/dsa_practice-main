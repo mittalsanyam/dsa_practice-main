{
 "cells": [
  {
   "cell_type": "markdown",
   "metadata": {},
   "source": [
    "# 72. Edit Distance\n",
    "**Level: Medium**\n",
    "\n",
    "[Problem link](https://leetcode.com/problems/edit-distance/description/)\n",
    "\n",
    "You have the following three operations permitted on a word:\n",
    "- Insert a character\n",
    "- Delete a character\n",
    "- Replace a character\n",
    "\n",
    "## Examples\n",
    "\n",
    "### Example 1:\n",
    "Input: word1 = \"horse\", word2 = \"ros\"\n",
    "\n",
    "Output: 3\n",
    "\n",
    "Explanation: \n",
    "\n",
    "horse -> rorse (replace 'h' with 'r')\n",
    "\n",
    "rorse -> rose (remove 'r')\n",
    "\n",
    "rose -> ros (remove 'e')\n",
    "\n",
    "### Example 2:\n",
    "\n",
    "Input: word1 = \"intention\", word2 = \"execution\"\n",
    "\n",
    "Output: 5\n",
    "\n",
    "Explanation: \n",
    "\n",
    "intention -> inention (remove 't')\n",
    "\n",
    "inention -> enention (replace 'i' with 'e')\n",
    "\n",
    "enention -> exention (replace 'n' with 'x')\n",
    "\n",
    "exention -> exection (replace 'n' with 'c')\n",
    "\n",
    "exection -> execution (insert 'u')\n",
    "\n",
    "## Constraints:\n",
    "- 0 <= word1.length, word2.length <= 500\n",
    "- word1 and word2 consist of lowercase English letters."
   ]
  },
  {
   "cell_type": "markdown",
   "metadata": {},
   "source": [
    "## Solution"
   ]
  },
  {
   "cell_type": "code",
   "execution_count": 66,
   "metadata": {},
   "outputs": [],
   "source": [
    "def minDistance(word1,word2):\n",
    "    m,n = len(word1),len(word2)\n",
    "    dp = []\n",
    "    for i in range(m+1):\n",
    "        row=[]\n",
    "        for j in range(n+1):\n",
    "            row.append(0)\n",
    "        dp.append(row)\n",
    "    for i in range(m+1):\n",
    "        dp[i][0]=i\n",
    "    for j in range(n+1):\n",
    "        dp[0][j]=j\n",
    "    for i in range(1,m+1):\n",
    "        for j in range(1,n+1):\n",
    "            if word1[i-1]!=word2[j-1]:\n",
    "                dp[i][j]=1+min(dp[i-1][j],dp[i][j-1],dp[i-1][j-1])\n",
    "            else:\n",
    "                dp[i][j]=dp[i-1][j-1]\n",
    "    return dp[-1][-1]\n",
    "    "
   ]
  },
  {
   "cell_type": "code",
   "execution_count": 67,
   "metadata": {},
   "outputs": [
    {
     "name": "stdout",
     "output_type": "stream",
     "text": [
      "3\n"
     ]
    }
   ],
   "source": [
    "print(minDistance(\"horse\",\"ros\"))"
   ]
  },
  {
   "cell_type": "code",
   "execution_count": 68,
   "metadata": {},
   "outputs": [
    {
     "name": "stdout",
     "output_type": "stream",
     "text": [
      "5\n"
     ]
    }
   ],
   "source": [
    "print(minDistance(\"intention\",\"execution\"))"
   ]
  },
  {
   "cell_type": "code",
   "execution_count": 69,
   "metadata": {},
   "outputs": [
    {
     "name": "stdout",
     "output_type": "stream",
     "text": [
      "1\n"
     ]
    }
   ],
   "source": [
    "print(minDistance(\"a\",\"ab\"))"
   ]
  },
  {
   "cell_type": "code",
   "execution_count": 70,
   "metadata": {},
   "outputs": [
    {
     "name": "stdout",
     "output_type": "stream",
     "text": [
      "10\n"
     ]
    }
   ],
   "source": [
    "print(minDistance(\"zoologicoarchaeologist\",\"zoogeologist\"))"
   ]
  },
  {
   "cell_type": "code",
   "execution_count": 71,
   "metadata": {},
   "outputs": [
    {
     "name": "stdout",
     "output_type": "stream",
     "text": [
      "1\n"
     ]
    }
   ],
   "source": [
    "print(minDistance(\"\",\"a\"))"
   ]
  }
 ],
 "metadata": {
  "kernelspec": {
   "display_name": "base",
   "language": "python",
   "name": "python3"
  },
  "language_info": {
   "codemirror_mode": {
    "name": "ipython",
    "version": 3
   },
   "file_extension": ".py",
   "mimetype": "text/x-python",
   "name": "python",
   "nbconvert_exporter": "python",
   "pygments_lexer": "ipython3",
   "version": "3.12.2"
  }
 },
 "nbformat": 4,
 "nbformat_minor": 2
}
