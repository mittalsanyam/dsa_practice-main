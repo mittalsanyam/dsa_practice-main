{
 "cells": [
  {
   "cell_type": "markdown",
   "metadata": {},
   "source": [
    "# 746. Min Cost Climbing Stairs\n",
    "\n",
    "**Level: Easy**\n",
    "\n",
    "[Problem Link](https://leetcode.com/problems/min-cost-climbing-stairs/description/)\n",
    "\n",
    "You are given an integer array cost where cost[i] is the cost of ith step on a staircase. Once you pay the cost, you can either climb one or two steps.\n",
    "\n",
    "You can either start from the step with index 0, or the step with index 1.\n",
    "\n",
    "Return the minimum cost to reach the top of the floor.\n",
    "\n",
    "## Examples\n",
    "### Example 1\n",
    "Input: cost = [10,15,20]\n",
    "\n",
    "Output: 15\n",
    "\n",
    "Explanation: You will start at index 1.\n",
    "- Pay 15 and climb two steps to reach the top.\n",
    "\n",
    "The total cost is 15.\n",
    "\n",
    "### Example 2\n",
    "Input: cost = [1,100,1,1,1,100,1,1,100,1]\n",
    "\n",
    "Output: 6\n",
    "\n",
    "Explanation: You will start at index 0.\n",
    "- Pay 1 and climb two steps to reach index 2.\n",
    "- Pay 1 and climb two steps to reach index 4.\n",
    "- Pay 1 and climb two steps to reach index 6.\n",
    "- Pay 1 and climb one step to reach index 7.\n",
    "- Pay 1 and climb two steps to reach index 9.\n",
    "- Pay 1 and climb one step to reach the top.\n",
    "\n",
    "The total cost is 6.\n",
    "\n",
    "## Constraints\n",
    "- 2 <= cost.length <= 1000\n",
    "- 0 <= cost[i] <= 999"
   ]
  },
  {
   "cell_type": "code",
   "execution_count": 8,
   "metadata": {},
   "outputs": [
    {
     "name": "stdout",
     "output_type": "stream",
     "text": [
      "15\n"
     ]
    }
   ],
   "source": [
    "def minCostClimbingStairs(cost):\n",
    "    minCost = [cost[0],cost[1]]\n",
    "    n=len(cost)\n",
    "    for i in range(2,n):\n",
    "        minprevCost = min(minCost[i-1],minCost[i-2])\n",
    "        minCost.append(minprevCost+cost[i])\n",
    "    return min(minCost[n-2],minCost[n-1])\n",
    "\n",
    "print(minCostClimbingStairs([10,15,20]))"
   ]
  },
  {
   "cell_type": "code",
   "execution_count": 6,
   "metadata": {},
   "outputs": [
    {
     "name": "stdout",
     "output_type": "stream",
     "text": [
      "6\n"
     ]
    }
   ],
   "source": [
    "print(minCostClimbingStairs([1,100,1,1,1,100,1,1,100,1]))"
   ]
  }
 ],
 "metadata": {
  "kernelspec": {
   "display_name": "base",
   "language": "python",
   "name": "python3"
  },
  "language_info": {
   "codemirror_mode": {
    "name": "ipython",
    "version": 3
   },
   "file_extension": ".py",
   "mimetype": "text/x-python",
   "name": "python",
   "nbconvert_exporter": "python",
   "pygments_lexer": "ipython3",
   "version": "3.12.2"
  }
 },
 "nbformat": 4,
 "nbformat_minor": 2
}
