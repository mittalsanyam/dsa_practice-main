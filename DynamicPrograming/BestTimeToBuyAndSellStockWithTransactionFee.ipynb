{
 "cells": [
  {
   "cell_type": "markdown",
   "metadata": {},
   "source": [
    "# 714. Best Time to Buy and Sell Stock with Transaction Fee\n",
    "\n",
    "**Level: Medium**\n",
    "\n",
    "[Problem Link](https://leetcode.com/problems/best-time-to-buy-and-sell-stock-with-transaction-fee/description)\n",
    "\n",
    "You are given an array prices where prices[i] is the price of a given stock on the ith day, and an integer fee representing a transaction fee.\n",
    "\n",
    "Find the maximum profit you can achieve. You may complete as many transactions as you like, but you need to pay the transaction fee for each transaction.\n",
    "\n",
    "Note:\n",
    "- You may not engage in multiple transactions simultaneously (i.e., you must sell the stock before you buy again).\n",
    "- The transaction fee is only charged once for each stock purchase and sale.\n",
    "\n",
    "## Examples\n",
    "\n",
    "### Example 1:\n",
    "Input: prices = [1,3,2,8,4,9], fee = 2\n",
    "\n",
    "Output: 8\n",
    "\n",
    "Explanation: The maximum profit can be achieved by:\n",
    "- Buying at prices[0] = 1\n",
    "- Selling at prices[3] = 8\n",
    "- Buying at prices[4] = 4\n",
    "- Selling at prices[5] = 9\n",
    "\n",
    "The total profit is ((8 - 1) - 2) + ((9 - 4) - 2) = 8.\n",
    "\n",
    "### Example 2:\n",
    "Input: prices = [1,3,2,8,4,9], fee = 2\n",
    "\n",
    "Output: 8\n",
    "\n",
    "Explanation: The maximum profit can be achieved by:\n",
    "- Buying at prices[0] = 1\n",
    "- Selling at prices[3] = 8\n",
    "- Buying at prices[4] = 4\n",
    "- Selling at prices[5] = 9\n",
    "\n",
    "## Constraints:\n",
    "- $1 <= prices.length <= 5 * 10^4$\n",
    "- $1 <= prices[i] < 5 * 10^4$\n",
    "- $0 <= fee < 5 * 10^4$"
   ]
  },
  {
   "cell_type": "markdown",
   "metadata": {},
   "source": [
    "## Solution"
   ]
  },
  {
   "cell_type": "code",
   "execution_count": 22,
   "metadata": {},
   "outputs": [],
   "source": [
    "def maxProfit(prices,fee):\n",
    "    buy,sell=-float('inf'),0\n",
    "    for price in prices:\n",
    "        buy = max(buy,sell-price)\n",
    "        sell = max(sell,price+buy-fee)\n",
    "    return sell"
   ]
  },
  {
   "cell_type": "code",
   "execution_count": 25,
   "metadata": {},
   "outputs": [
    {
     "name": "stdout",
     "output_type": "stream",
     "text": [
      "10\n"
     ]
    }
   ],
   "source": [
    "print(maxProfit([1,3,2,8,4,9],2))"
   ]
  },
  {
   "cell_type": "code",
   "execution_count": 24,
   "metadata": {},
   "outputs": [
    {
     "name": "stdout",
     "output_type": "stream",
     "text": [
      "6\n"
     ]
    }
   ],
   "source": [
    "print(maxProfit([1,3,7,5,10,3],3))"
   ]
  }
 ],
 "metadata": {
  "kernelspec": {
   "display_name": "base",
   "language": "python",
   "name": "python3"
  },
  "language_info": {
   "codemirror_mode": {
    "name": "ipython",
    "version": 3
   },
   "file_extension": ".py",
   "mimetype": "text/x-python",
   "name": "python",
   "nbconvert_exporter": "python",
   "pygments_lexer": "ipython3",
   "version": "3.12.2"
  }
 },
 "nbformat": 4,
 "nbformat_minor": 2
}
