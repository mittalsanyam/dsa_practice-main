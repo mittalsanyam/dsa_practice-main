{
 "cells": [
  {
   "cell_type": "markdown",
   "metadata": {},
   "source": [
    "# 1137. N-th Tribonacci Number\n",
    "**Level: Easy**\n",
    "\n",
    "[Problem Link](https://leetcode.com/problems/n-th-tribonacci-number/description/)\n",
    "\n",
    "The Tribonacci sequence Tn is defined as follows: \n",
    "\n",
    "$T_0 = 0$, $T_1 = 1$, $T_2 = 1$, and $T_{n+3} = T_n + T_{n+1} + T_{n+2}$ for n >= 0.\n",
    "\n",
    "Given n, return the value of $T_n$.\n",
    "\n",
    "## Examples\n",
    "\n",
    "### Example 1:\n",
    "\n",
    "Input: n = 4\n",
    "\n",
    "Output: 4\n",
    "\n",
    "Explanation:\n",
    "\n",
    "$T_3 = 0 + 1 + 1 = 2$\n",
    "\n",
    "$T_4 = 1 + 1 + 2 = 4$\n",
    "\n",
    "### Example 2:\n",
    "Input: n = 25\n",
    "\n",
    "Output: 1389537\n",
    "\n",
    "## Constraints:\n",
    "- 0 <= n <= 37\n",
    "- The answer is guaranteed to fit within a 32-bit integer, ie. $answer <= 2^{31}$ - 1."
   ]
  },
  {
   "cell_type": "markdown",
   "metadata": {},
   "source": [
    "## Solution"
   ]
  },
  {
   "cell_type": "code",
   "execution_count": 7,
   "metadata": {},
   "outputs": [
    {
     "name": "stdout",
     "output_type": "stream",
     "text": [
      "4\n"
     ]
    }
   ],
   "source": [
    "def tribonacci(n):\n",
    "    T = {0:0,1:1,2:1}\n",
    "    if n>=3:\n",
    "        for i in range(3,n+1):\n",
    "            T[i] = T[i-1]+T[i-2]+T[i-3]\n",
    "    return T[n]\n",
    "\n",
    "print(tribonacci(4))"
   ]
  },
  {
   "cell_type": "code",
   "execution_count": 8,
   "metadata": {},
   "outputs": [
    {
     "name": "stdout",
     "output_type": "stream",
     "text": [
      "1389537\n"
     ]
    }
   ],
   "source": [
    "print(tribonacci(25))"
   ]
  }
 ],
 "metadata": {
  "kernelspec": {
   "display_name": "base",
   "language": "python",
   "name": "python3"
  },
  "language_info": {
   "codemirror_mode": {
    "name": "ipython",
    "version": 3
   },
   "file_extension": ".py",
   "mimetype": "text/x-python",
   "name": "python",
   "nbconvert_exporter": "python",
   "pygments_lexer": "ipython3",
   "version": "3.12.2"
  }
 },
 "nbformat": 4,
 "nbformat_minor": 2
}
