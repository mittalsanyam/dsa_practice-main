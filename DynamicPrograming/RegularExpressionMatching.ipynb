{
 "cells": [
  {
   "cell_type": "markdown",
   "metadata": {},
   "source": [
    "# 10. Regular Expression Matching\n",
    "**Level: Hard**\n",
    "\n",
    "[Problem Link](https://leetcode.com/problems/regular-expression-matching/description/?envType=problem-list-v2&envId=dynamic-programming)\n",
    "\n",
    "Given an input string s and a pattern p, implement regular expression matching with support for '.' and '*' where:\n",
    "\n",
    "- '.' Matches any single character.​​​​\n",
    "- '*' Matches zero or more of the preceding element.\n",
    "\n",
    "The matching should cover the entire input string (not partial).\n",
    "\n",
    "## Examples\n",
    "### Example 1\n",
    "Input: s = \"aa\", p = \"a\"\n",
    "\n",
    "Output: false\n",
    "\n",
    "Explanation: \"a\" does not match the entire string \"aa\".\n",
    "\n",
    "### Example 2\n",
    "Input: s = \"aa\", p = \"a*\"\n",
    "\n",
    "Output: true\n",
    "\n",
    "Explanation: '*' means zero or more of the preceding element, 'a'. Therefore, by repeating 'a' once, it becomes \"aa\".\n",
    "\n",
    "### Example 3\n",
    "Input: s = \"ab\", p = \".*\"\n",
    "\n",
    "Output: true\n",
    "\n",
    "Explanation: \".*\" means \"zero or more (*) of any character (.)\".\n",
    "\n",
    "## Constraints\n",
    "- 1 <= s.length <= 20\n",
    "- 1 <= p.length <= 20\n",
    "- s contains only lowercase English letters.\n",
    "- p contains only lowercase English letters, '.', and '*'.\n",
    "- It is guaranteed for each appearance of the character '*', there will be a previous valid character to match.\n",
    "\n"
   ]
  },
  {
   "cell_type": "markdown",
   "metadata": {},
   "source": [
    "## Solution"
   ]
  },
  {
   "cell_type": "code",
   "execution_count": 8,
   "metadata": {},
   "outputs": [
    {
     "name": "stdout",
     "output_type": "stream",
     "text": [
      "False\n",
      "True\n",
      "True\n",
      "True\n"
     ]
    }
   ],
   "source": [
    "def isMatch(s,p):\n",
    "    m,n=len(s),len(p)\n",
    "    dp=[[False for j in range(n+1)] for i in range(m+1)]\n",
    "    dp[0][0]=True\n",
    "    for j in range(2,n+1):\n",
    "        if p[j-1]=='*':\n",
    "            dp[0][j]=dp[0][j-2]\n",
    "    for i in range(1,m+1):\n",
    "        for j in range(1,n+1):\n",
    "            if p[j-1] == '*':\n",
    "                dp[i][j] = dp[i][j-2] or (dp[i-1][j] and (s[i-1]==p[j-2] or p[j-2]=='.'))\n",
    "            else:\n",
    "                dp[i][j] = dp[i-1][j-1] and (s[i-1]==p[j-1] or p[j-1]=='.')\n",
    "    return dp[m][n]\n",
    "\n",
    "print(isMatch('aa','a'))\n",
    "print(isMatch('aa','a*'))\n",
    "print(isMatch('ab','.*'))\n",
    "print(isMatch('aab','c*a*b*'))"
   ]
  },
  {
   "cell_type": "code",
   "execution_count": null,
   "metadata": {},
   "outputs": [],
   "source": []
  }
 ],
 "metadata": {
  "kernelspec": {
   "display_name": "base",
   "language": "python",
   "name": "python3"
  },
  "language_info": {
   "codemirror_mode": {
    "name": "ipython",
    "version": 3
   },
   "file_extension": ".py",
   "mimetype": "text/x-python",
   "name": "python",
   "nbconvert_exporter": "python",
   "pygments_lexer": "ipython3",
   "version": "3.12.2"
  }
 },
 "nbformat": 4,
 "nbformat_minor": 2
}
