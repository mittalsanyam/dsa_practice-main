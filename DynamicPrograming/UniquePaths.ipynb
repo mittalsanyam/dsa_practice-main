{
 "cells": [
  {
   "cell_type": "markdown",
   "metadata": {},
   "source": [
    "# 62. Unique Paths\n",
    "**Level: Medium**\n",
    "\n",
    "[Problem Link](https://leetcode.com/problems/unique-paths/description/)\n",
    "\n",
    "There is a robot on an m x n grid. The robot is initially located at the top-left corner (i.e., grid[0][0]). The robot tries to move to the bottom-right corner (i.e., grid[m - 1][n - 1]). The robot can only move either down or right at any point in time.\n",
    "\n",
    "Given the two integers m and n, return the number of possible unique paths that the robot can take to reach the bottom-right corner.\n",
    "\n",
    "The test cases are generated so that the answer will be less than or equal to $2 * 10^9$.\n",
    "\n",
    "## Examples\n",
    "\n",
    "### Example 1\n",
    "Input: m = 3, n = 7\n",
    "\n",
    "Output: 28\n",
    "\n",
    "### Example 2\n",
    "Input: m = 3, n = 2\n",
    "\n",
    "Output: 3\n",
    "\n",
    "Explanation: From the top-left corner, there are a total of 3 ways to reach the bottom-right corner:\n",
    "\n",
    "1. Right -> Down -> Down\n",
    "\n",
    "2. Down -> Down -> Right\n",
    "\n",
    "3. Down -> Right -> Down\n",
    "\n",
    "## Constraints\n",
    "- 1 <= m, n <= 100"
   ]
  },
  {
   "cell_type": "markdown",
   "metadata": {},
   "source": [
    "## Solution"
   ]
  },
  {
   "cell_type": "code",
   "execution_count": 7,
   "metadata": {},
   "outputs": [],
   "source": [
    "def uniquePaths(m,n):\n",
    "    paths={}\n",
    "    paths[(0,0)]=1\n",
    "    for i in range(m):\n",
    "        for j in range(n):\n",
    "            if i==0 and j!=0:\n",
    "                paths[(i,j)]=1\n",
    "            elif j==0 and i!=0:\n",
    "                paths[(i,j)]=1\n",
    "            elif i>0 and j>0:\n",
    "                paths[(i,j)]=paths[(i-1,j)]+paths[(i,j-1)]\n",
    "    return paths[(m-1,n-1)]\n"
   ]
  },
  {
   "cell_type": "code",
   "execution_count": 8,
   "metadata": {},
   "outputs": [
    {
     "name": "stdout",
     "output_type": "stream",
     "text": [
      "28\n"
     ]
    }
   ],
   "source": [
    "print(uniquePaths(3,7))"
   ]
  },
  {
   "cell_type": "code",
   "execution_count": 9,
   "metadata": {},
   "outputs": [
    {
     "name": "stdout",
     "output_type": "stream",
     "text": [
      "3\n"
     ]
    }
   ],
   "source": [
    "print(uniquePaths(3,2))"
   ]
  },
  {
   "cell_type": "code",
   "execution_count": 10,
   "metadata": {},
   "outputs": [
    {
     "name": "stdout",
     "output_type": "stream",
     "text": [
      "1\n"
     ]
    }
   ],
   "source": [
    "print(uniquePaths(1,1))"
   ]
  }
 ],
 "metadata": {
  "kernelspec": {
   "display_name": "base",
   "language": "python",
   "name": "python3"
  },
  "language_info": {
   "codemirror_mode": {
    "name": "ipython",
    "version": 3
   },
   "file_extension": ".py",
   "mimetype": "text/x-python",
   "name": "python",
   "nbconvert_exporter": "python",
   "pygments_lexer": "ipython3",
   "version": "3.12.2"
  }
 },
 "nbformat": 4,
 "nbformat_minor": 2
}
