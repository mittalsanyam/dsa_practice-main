{
 "cells": [
  {
   "cell_type": "markdown",
   "metadata": {},
   "source": [
    "# 790. Domino and Tromino Tiling\n",
    "**Level: Medium**\n",
    "[Problem Link](https://leetcode.com/problems/domino-and-tromino-tiling/description/)\n",
    "\n",
    "You have two types of tiles: a 2 x 1 domino shape and a tromino shape. You may rotate these shapes.\n",
    "\n",
    "Given an integer n, return the number of ways to tile an 2 x n board. Since the answer may be very large, return it modulo 109 + 7.\n",
    "\n",
    "In a tiling, every square must be covered by a tile. Two tilings are different if and only if there are two 4-directionally adjacent cells on the board such that exactly one of the tilings has both squares occupied by a tile.\n",
    "\n",
    "## Examples\n",
    "\n",
    "### Example 1\n",
    "\n",
    "- Input: n = 3\n",
    "- Output: 5\n",
    "- Explanation: The five different ways are show below.\n",
    "![Image Explaining different ways courtesy Leetcode](DominoandTrominoTilingExample1.jpg)\n",
    "\n",
    "\n",
    "### Example 2\n",
    "- Input: n = 1\n",
    "- Output: 1\n",
    "\n",
    "## Constraints\n",
    "- 1 <= n <= 1000"
   ]
  },
  {
   "cell_type": "markdown",
   "metadata": {},
   "source": [
    "## Solution"
   ]
  },
  {
   "cell_type": "code",
   "execution_count": 6,
   "metadata": {},
   "outputs": [
    {
     "name": "stdout",
     "output_type": "stream",
     "text": [
      "5\n",
      "1\n"
     ]
    }
   ],
   "source": [
    "def numTilings(n):\n",
    "    Full={}\n",
    "    TopMissing={}\n",
    "    BottomMissing={}\n",
    "    Full[0]=1\n",
    "    for i in range(1,n+1):\n",
    "        if i==1:\n",
    "            Full[i]=1\n",
    "            TopMissing[i]=0\n",
    "            BottomMissing[i]=0\n",
    "        else:\n",
    "            Full[i]=Full[i-1]+Full[i-2]+TopMissing[i-1]+BottomMissing[i-1]\n",
    "            TopMissing[i]=Full[i-2]+BottomMissing[i-1]\n",
    "            BottomMissing[i]=Full[i-2]+TopMissing[i-1]\n",
    "    return Full[n]%(10**9+7)\n",
    "\n",
    "print(numTilings(3))\n",
    "print(numTilings(1))"
   ]
  },
  {
   "cell_type": "code",
   "execution_count": null,
   "metadata": {},
   "outputs": [],
   "source": []
  }
 ],
 "metadata": {
  "kernelspec": {
   "display_name": "base",
   "language": "python",
   "name": "python3"
  },
  "language_info": {
   "codemirror_mode": {
    "name": "ipython",
    "version": 3
   },
   "file_extension": ".py",
   "mimetype": "text/x-python",
   "name": "python",
   "nbconvert_exporter": "python",
   "pygments_lexer": "ipython3",
   "version": "3.12.2"
  }
 },
 "nbformat": 4,
 "nbformat_minor": 2
}
