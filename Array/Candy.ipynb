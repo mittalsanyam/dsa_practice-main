{
 "cells": [
  {
   "cell_type": "markdown",
   "metadata": {},
   "source": [
    "# 135. Candy\n",
    "**Level: Hard**\n",
    "\n",
    "[Problem Link](https://leetcode.com/problems/candy/description)\n",
    "\n",
    "There are n children standing in a line. Each child is assigned a rating value given in the integer array ratings.\n",
    "\n",
    "You are giving candies to these children subjected to the following requirements:\n",
    "\n",
    "Each child must have at least one candy.\n",
    "\n",
    "Children with a higher rating get more candies than their neighbors.\n",
    "Return the minimum number of candies you need to have to distribute the candies to the children.\n",
    "\n",
    "## Examples\n",
    "\n",
    "### Example 1:\n",
    "Input: ratings = [1,0,2]\n",
    "\n",
    "Output: 5\n",
    "\n",
    "Explanation: You can allocate to the first, second and third child with 2, 1, 2 candies respectively.\n",
    "\n",
    "### Example 2:\n",
    "Input: ratings = [1,2,2]\n",
    "\n",
    "Output: 4\n",
    "\n",
    "Explanation: You can allocate to the first, second and third child with 1, 2, 1 candies respectively.\n",
    "\n",
    "The third child gets 1 candy because it satisfies the above two conditions.\n",
    " \n",
    "Constraints:\n",
    "\n",
    "- n == ratings.length\n",
    "- $1 <= n <= 2 * 10^4$\n",
    "- $0 <= ratings[i] <= 2 * 10^4$"
   ]
  },
  {
   "cell_type": "markdown",
   "metadata": {},
   "source": [
    "## Solution"
   ]
  },
  {
   "cell_type": "code",
   "execution_count": 31,
   "metadata": {},
   "outputs": [],
   "source": [
    "def candy(ratings):\n",
    "    n = len(ratings)\n",
    "    candies = [1]*n\n",
    "    for i in range(1,n):\n",
    "        if ratings[i]>ratings[i-1]:\n",
    "            candies[i]=candies[i-1]+1\n",
    "    for i in range(n-2,-1,-1):\n",
    "        if ratings[i]>ratings[i+1]:\n",
    "            candies[i]=max(candies[i],candies[i+1]+1)\n",
    "\n",
    "    return sum(candies)"
   ]
  },
  {
   "cell_type": "code",
   "execution_count": 32,
   "metadata": {},
   "outputs": [
    {
     "name": "stdout",
     "output_type": "stream",
     "text": [
      "11\n"
     ]
    }
   ],
   "source": [
    "print(candy([1,3,3,3,4,2,2,1]))"
   ]
  },
  {
   "cell_type": "code",
   "execution_count": 33,
   "metadata": {},
   "outputs": [
    {
     "name": "stdout",
     "output_type": "stream",
     "text": [
      "4\n"
     ]
    }
   ],
   "source": [
    "print(candy([1,2,2]))"
   ]
  }
 ],
 "metadata": {
  "kernelspec": {
   "display_name": "base",
   "language": "python",
   "name": "python3"
  },
  "language_info": {
   "codemirror_mode": {
    "name": "ipython",
    "version": 3
   },
   "file_extension": ".py",
   "mimetype": "text/x-python",
   "name": "python",
   "nbconvert_exporter": "python",
   "pygments_lexer": "ipython3",
   "version": "3.12.2"
  }
 },
 "nbformat": 4,
 "nbformat_minor": 2
}
