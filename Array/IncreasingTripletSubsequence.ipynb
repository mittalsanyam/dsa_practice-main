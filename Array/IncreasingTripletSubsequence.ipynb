{
 "cells": [
  {
   "cell_type": "markdown",
   "metadata": {},
   "source": [
    "# 334. Increasing Triplet Subsequence\n",
    "**Level: Medium**\n",
    "\n",
    "[Problem Link](https://leetcode.com/problems/increasing-triplet-subsequence/description/)\n",
    "\n",
    "Given an integer array `nums`, return `true` if there exists a triple of indices `(i, j, k)` such that `i < j < k` and `nums[i] < nums[j] < nums[k]`. If no such indices exists, return `false`.\n",
    "\n",
    "\n",
    "## Examples\n",
    "### Example 1:\n",
    "- Input: nums = [1,2,3,4,5]\n",
    "- Output: true\n",
    "- Explanation: Any triplet where i < j < k is valid.\n",
    "\n",
    "### Example 2:\n",
    "- Input: nums = [5,4,3,2,1]\n",
    "- Output: false\n",
    "- Explanation: No triplet exists.\n",
    "\n",
    "### Example 3:\n",
    "\n",
    "- Input: nums = [2,1,5,0,4,6]\n",
    "- Output: true\n",
    "- Explanation: The triplet (3, 4, 5) is valid because nums[3] == 0 < nums[4] == 4 < nums[5] == 6."
   ]
  },
  {
   "cell_type": "markdown",
   "metadata": {},
   "source": [
    "## Solution"
   ]
  },
  {
   "cell_type": "code",
   "execution_count": 1,
   "metadata": {},
   "outputs": [
    {
     "name": "stdout",
     "output_type": "stream",
     "text": [
      "True\n"
     ]
    }
   ],
   "source": [
    "def increasingTriplet(nums):\n",
    "    n = len(nums)\n",
    "    mx = nums[-1]\n",
    "    second_mx=None\n",
    "    for i in range(n-2,-1,-1):\n",
    "        if nums[i]<mx:\n",
    "            if second_mx==None:\n",
    "                second_mx=nums[i]\n",
    "            else:\n",
    "                if nums[i]<second_mx:\n",
    "                    return True\n",
    "                else:\n",
    "                    second_mx=nums[i]\n",
    "        else:\n",
    "            mx=nums[i]\n",
    "    return False\n",
    "\n",
    "print(increasingTriplet([1,2,3,4,5]))"
   ]
  },
  {
   "cell_type": "code",
   "execution_count": 2,
   "metadata": {},
   "outputs": [
    {
     "name": "stdout",
     "output_type": "stream",
     "text": [
      "False\n"
     ]
    }
   ],
   "source": [
    "print(increasingTriplet([5,4,3,2,1]))"
   ]
  },
  {
   "cell_type": "code",
   "execution_count": 3,
   "metadata": {},
   "outputs": [
    {
     "name": "stdout",
     "output_type": "stream",
     "text": [
      "True\n"
     ]
    }
   ],
   "source": [
    "print(increasingTriplet([2,1,5,0,4,6]))"
   ]
  },
  {
   "cell_type": "code",
   "execution_count": 4,
   "metadata": {},
   "outputs": [
    {
     "name": "stdout",
     "output_type": "stream",
     "text": [
      "True\n"
     ]
    }
   ],
   "source": [
    "print(increasingTriplet([1,5,0,4,1, 3]))"
   ]
  }
 ],
 "metadata": {
  "kernelspec": {
   "display_name": "base",
   "language": "python",
   "name": "python3"
  },
  "language_info": {
   "codemirror_mode": {
    "name": "ipython",
    "version": 3
   },
   "file_extension": ".py",
   "mimetype": "text/x-python",
   "name": "python",
   "nbconvert_exporter": "python",
   "pygments_lexer": "ipython3",
   "version": "3.12.2"
  }
 },
 "nbformat": 4,
 "nbformat_minor": 2
}
