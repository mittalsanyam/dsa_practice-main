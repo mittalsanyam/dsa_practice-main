{
 "cells": [
  {
   "cell_type": "markdown",
   "metadata": {},
   "source": [
    "# 42. Trapping Rain Water\n",
    "**Level: Hard**\n",
    "\n",
    "[Problem Link](https://leetcode.com/problems/trapping-rain-water/description)\n",
    "\n",
    "Given n non-negative integers representing an elevation map where the width of each bar is 1, compute how much water it can trap after raining.\n",
    "\n",
    "## Examples\n",
    "\n",
    "### Example 1:\n",
    "Input: height = [0,1,0,2,1,0,1,3,2,1,2,1]\n",
    "\n",
    "Output: 6\n",
    "\n",
    "Explanation: The above elevation map (black section) is represented by array [0,1,0,2,1,0,1,3,2,1,2,1]. In this case, 6 units of rain water (blue section) are being trapped.\n",
    "\n",
    "### Example 2\n",
    "Input: height = [4,2,0,3,2,5]\n",
    "\n",
    "Output: 9\n",
    "\n",
    "## Constraints:\n",
    "\n",
    "- n == height.length\n",
    "- $1 <= n <= 2 * 10^4$\n",
    "- $0 <= height[i] <= 10^5$"
   ]
  },
  {
   "cell_type": "markdown",
   "metadata": {},
   "source": [
    "## Solution"
   ]
  },
  {
   "cell_type": "code",
   "execution_count": 24,
   "metadata": {},
   "outputs": [],
   "source": [
    "def trap(height):\n",
    "    n=len(height)\n",
    "    left,right = 0,n-1\n",
    "    leftmax,rightmax = height[left],height[right]\n",
    "    water=0\n",
    "    while left<right:\n",
    "        if leftmax<rightmax:\n",
    "            left+=1\n",
    "            leftmax = max(leftmax,height[left])\n",
    "            if height[left]<leftmax:\n",
    "                water+=(leftmax-height[left])\n",
    "        else:\n",
    "            right-=1\n",
    "            rightmax = max(rightmax,height[right])\n",
    "            if height[right]<rightmax:\n",
    "                water+=(rightmax-height[right])\n",
    "            \n",
    "    return water    "
   ]
  },
  {
   "cell_type": "code",
   "execution_count": 25,
   "metadata": {},
   "outputs": [
    {
     "name": "stdout",
     "output_type": "stream",
     "text": [
      "6\n"
     ]
    }
   ],
   "source": [
    "print(trap([0,1,0,2,1,0,1,3,2,1,2,1]))"
   ]
  },
  {
   "cell_type": "code",
   "execution_count": 26,
   "metadata": {},
   "outputs": [
    {
     "name": "stdout",
     "output_type": "stream",
     "text": [
      "9\n"
     ]
    }
   ],
   "source": [
    "print(trap([4,2,0,3,2,5]))"
   ]
  }
 ],
 "metadata": {
  "kernelspec": {
   "display_name": "base",
   "language": "python",
   "name": "python3"
  },
  "language_info": {
   "codemirror_mode": {
    "name": "ipython",
    "version": 3
   },
   "file_extension": ".py",
   "mimetype": "text/x-python",
   "name": "python",
   "nbconvert_exporter": "python",
   "pygments_lexer": "ipython3",
   "version": "3.12.2"
  }
 },
 "nbformat": 4,
 "nbformat_minor": 2
}
