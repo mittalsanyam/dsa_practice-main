{
 "cells": [
  {
   "cell_type": "markdown",
   "metadata": {},
   "source": [
    "# 1732. Find the Highest Altitude\n",
    "**Level: Easy**\n",
    "\n",
    "[Problem Link](https://leetcode.com/problems/find-the-highest-altitude/description/)\n",
    "\n",
    "There is a biker going on a road trip. The road trip consists of n + 1 points at different altitudes. The biker starts his trip on point 0 with altitude equal 0.\n",
    "\n",
    "You are given an integer array gain of length n where gain[i] is the net gain in altitude between points i​​​​​​ and i + 1 for all (0 <= i < n). Return the highest altitude of a point.\n",
    "\n",
    "## Examples\n",
    "\n",
    "### Example 1:\n",
    "\n",
    "Input: gain = [-5,1,5,0,-7]\n",
    "\n",
    "Output: 1\n",
    "\n",
    "Explanation: The altitudes are [0,-5,-4,1,1,-6]. The highest is 1.\n",
    "\n",
    "### Example 2:\n",
    "\n",
    "Input: gain = [-4,-3,-2,-1,4,3,2]\n",
    "\n",
    "Output: 0\n",
    "\n",
    "Explanation: The altitudes are [0,-4,-7,-9,-10,-6,-3,-1]. The highest is 0.\n",
    " \n",
    "## Constraints:\n",
    "- n == gain.length\n",
    "- 1 <= n <= 100\n",
    "- -100 <= gain[i] <= 100"
   ]
  },
  {
   "cell_type": "markdown",
   "metadata": {},
   "source": [
    "## Solution"
   ]
  },
  {
   "cell_type": "code",
   "execution_count": 4,
   "metadata": {},
   "outputs": [
    {
     "name": "stdout",
     "output_type": "stream",
     "text": [
      "1\n"
     ]
    }
   ],
   "source": [
    "def largestAltitude(gain):\n",
    "    curr_height=0\n",
    "    maxHeight=curr_height\n",
    "    for g in gain:\n",
    "        curr_height = g + curr_height\n",
    "        if curr_height>maxHeight:\n",
    "            maxHeight=curr_height\n",
    "    return maxHeight\n",
    "\n",
    "print(largestAltitude([-5,1,5,0,-7]))"
   ]
  },
  {
   "cell_type": "code",
   "execution_count": 5,
   "metadata": {},
   "outputs": [
    {
     "name": "stdout",
     "output_type": "stream",
     "text": [
      "0\n"
     ]
    }
   ],
   "source": [
    "print(largestAltitude([-4,-3,-2,-1,4,3,2]))"
   ]
  }
 ],
 "metadata": {
  "kernelspec": {
   "display_name": "base",
   "language": "python",
   "name": "python3"
  },
  "language_info": {
   "codemirror_mode": {
    "name": "ipython",
    "version": 3
   },
   "file_extension": ".py",
   "mimetype": "text/x-python",
   "name": "python",
   "nbconvert_exporter": "python",
   "pygments_lexer": "ipython3",
   "version": "3.12.2"
  }
 },
 "nbformat": 4,
 "nbformat_minor": 2
}
