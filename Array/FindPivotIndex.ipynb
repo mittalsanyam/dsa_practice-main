{
 "cells": [
  {
   "cell_type": "markdown",
   "metadata": {},
   "source": [
    "# 724. Find Pivot Index\n",
    "\n",
    "**Level: Easy**\n",
    "\n",
    "[Problem Link](https://leetcode.com/problems/find-pivot-index/description/)\n",
    "\n",
    "Given an array of integers nums, calculate the pivot index of this array.\n",
    "\n",
    "The pivot index is the index where the sum of all the numbers strictly to the left of the index is equal to the sum of all the numbers strictly to the index's right.\n",
    "\n",
    "If the index is on the left edge of the array, then the left sum is 0 because there are no elements to the left. This also applies to the right edge of the array.\n",
    "\n",
    "Return the leftmost pivot index. If no such index exists, return -1.\n",
    "\n",
    "## Examples\n",
    "\n",
    "### Example 1\n",
    "Input: nums = [1,7,3,6,5,6]\n",
    "\n",
    "Output: 3\n",
    "\n",
    "Explanation:\n",
    "\n",
    "The pivot index is 3.\n",
    "\n",
    "Left sum = nums[0] + nums[1] + nums[2] = 1 + 7 + 3 = 11\n",
    "\n",
    "Right sum = nums[4] + nums[5] = 5 + 6 = 11\n",
    "\n",
    "### Example 2:\n",
    "\n",
    "Input: nums = [1,2,3]\n",
    "\n",
    "Output: -1\n",
    "\n",
    "Explanation:\n",
    "\n",
    "There is no index that satisfies the conditions in the problem statement.\n",
    "\n",
    "### Example 3:\n",
    "\n",
    "Input: nums = [2,1,-1]\n",
    "\n",
    "Output: 0\n",
    "\n",
    "Explanation:\n",
    "\n",
    "The pivot index is 0.\n",
    "\n",
    "Left sum = 0 (no elements to the left of index 0)\n",
    "\n",
    "Right sum = nums[1] + nums[2] = 1 + -1 = 0\n",
    " \n",
    "## Constraints:\n",
    "\n",
    "- $1 <= nums.length <= 10^4$\n",
    "- $-1000 <= nums[i] <= 1000$"
   ]
  },
  {
   "cell_type": "markdown",
   "metadata": {},
   "source": [
    "## Solution"
   ]
  },
  {
   "cell_type": "code",
   "execution_count": 1,
   "metadata": {},
   "outputs": [
    {
     "name": "stdout",
     "output_type": "stream",
     "text": [
      "3\n"
     ]
    }
   ],
   "source": [
    "def pivotIndex(nums):\n",
    "    n = len(nums)\n",
    "    prefix = [0]*n\n",
    "    suffix = [0]*n\n",
    "    for i in range(1,n):\n",
    "        prefix[i]=prefix[i-1]+nums[i-1]\n",
    "    for i in range(n-2,-1,-1):\n",
    "        suffix[i] = suffix[i+1]+nums[i+1]\n",
    "    ind=-1\n",
    "    for i in range(n):\n",
    "        if suffix[i]==prefix[i]:\n",
    "            ind=i\n",
    "            break\n",
    "    return ind\n",
    "\n",
    "print(pivotIndex([1,7,3,6,5,6]))"
   ]
  },
  {
   "cell_type": "code",
   "execution_count": 2,
   "metadata": {},
   "outputs": [
    {
     "name": "stdout",
     "output_type": "stream",
     "text": [
      "-1\n"
     ]
    }
   ],
   "source": [
    "print(pivotIndex([1,2,3]))"
   ]
  },
  {
   "cell_type": "code",
   "execution_count": 3,
   "metadata": {},
   "outputs": [
    {
     "name": "stdout",
     "output_type": "stream",
     "text": [
      "0\n"
     ]
    }
   ],
   "source": [
    "print(pivotIndex([2,1,-1]))"
   ]
  }
 ],
 "metadata": {
  "kernelspec": {
   "display_name": "base",
   "language": "python",
   "name": "python3"
  },
  "language_info": {
   "codemirror_mode": {
    "name": "ipython",
    "version": 3
   },
   "file_extension": ".py",
   "mimetype": "text/x-python",
   "name": "python",
   "nbconvert_exporter": "python",
   "pygments_lexer": "ipython3",
   "version": "3.12.2"
  }
 },
 "nbformat": 4,
 "nbformat_minor": 2
}
