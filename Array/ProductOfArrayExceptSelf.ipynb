{
 "cells": [
  {
   "cell_type": "markdown",
   "metadata": {},
   "source": [
    "# 238. Product of Array Except Self\n",
    "\n",
    "**Level: Medium**\n",
    "\n",
    "[Problem Link](https://leetcode.com/problems/product-of-array-except-self/description/)\n",
    "\n",
    "Given an integer array `nums`, return an array answer such that `answer[i]` is equal to the product of all the elements of `nums` except `nums[i]`.\n",
    "\n",
    "The product of any prefix or suffix of `nums` is guaranteed to fit in a 32-bit integer.\n",
    "\n",
    "You must write an algorithm that runs in `O(n)` time and without using the division operation.\n",
    "\n",
    "## Examples\n",
    "\n",
    "### Example 1:\n",
    "\n",
    "Input: nums = [1,2,3,4]\n",
    "\n",
    "Output: [24,12,8,6]\n",
    "\n",
    "### Example 2:\n",
    "\n",
    "Input: nums = [-1,1,0,-3,3]\n",
    "\n",
    "Output: [0,0,9,0,0]\n",
    "\n",
    "## Constraints\n",
    "\n",
    "- $2 <= nums.length <= 10^5$\n",
    "- $-30 <= nums[i] <= 30$\n",
    "- The product of any prefix or suffix of nums is guaranteed to fit in a 32-bit integer."
   ]
  },
  {
   "cell_type": "markdown",
   "metadata": {},
   "source": [
    "## Solution"
   ]
  },
  {
   "cell_type": "code",
   "execution_count": 4,
   "metadata": {},
   "outputs": [
    {
     "name": "stdout",
     "output_type": "stream",
     "text": [
      "[24, 12, 8, 6]\n"
     ]
    }
   ],
   "source": [
    "def productExceptSelf(nums):\n",
    "    n=len(nums)\n",
    "    prefix_prod = [1]*n\n",
    "    suffix_prod = [1]*n\n",
    "    for i in range(1,n):\n",
    "        prefix_prod[i]=nums[i-1]*prefix_prod[i-1]\n",
    "    for i in range(n-2,-1,-1):\n",
    "        suffix_prod[i]=nums[i+1]*suffix_prod[i+1]\n",
    "    ans=[]\n",
    "    for i in range(n):\n",
    "        ans.append(prefix_prod[i]*suffix_prod[i])\n",
    "    return ans\n",
    "\n",
    "nums1 = [1,2,3,4]\n",
    "print(productExceptSelf(nums1))"
   ]
  },
  {
   "cell_type": "code",
   "execution_count": 5,
   "metadata": {},
   "outputs": [
    {
     "name": "stdout",
     "output_type": "stream",
     "text": [
      "[0, 0, 9, 0, 0]\n"
     ]
    }
   ],
   "source": [
    "nums2=[-1,1,0,-3,3]\n",
    "print(productExceptSelf(nums2))"
   ]
  },
  {
   "cell_type": "code",
   "execution_count": 10,
   "metadata": {},
   "outputs": [
    {
     "name": "stdout",
     "output_type": "stream",
     "text": [
      "[24, 12, 8, 6]\n"
     ]
    }
   ],
   "source": [
    "def productExceptSelf(nums):\n",
    "    n=len(nums)\n",
    "    ans = [1]*n\n",
    "    curr=1\n",
    "    for i in range(n):\n",
    "        ans[i]=curr\n",
    "        curr=curr*nums[i]\n",
    "    curr=1\n",
    "    for i in range(n-1,-1,-1):\n",
    "        ans[i]=ans[i]*curr\n",
    "        curr=curr*nums[i]\n",
    "    return ans\n",
    "\n",
    "nums1 = [1,2,3,4]\n",
    "print(productExceptSelf(nums1))"
   ]
  },
  {
   "cell_type": "code",
   "execution_count": 11,
   "metadata": {},
   "outputs": [
    {
     "name": "stdout",
     "output_type": "stream",
     "text": [
      "[0, 0, 9, 0, 0]\n"
     ]
    }
   ],
   "source": [
    "nums2=[-1,1,0,-3,3]\n",
    "print(productExceptSelf(nums2))"
   ]
  }
 ],
 "metadata": {
  "kernelspec": {
   "display_name": "base",
   "language": "python",
   "name": "python3"
  },
  "language_info": {
   "codemirror_mode": {
    "name": "ipython",
    "version": 3
   },
   "file_extension": ".py",
   "mimetype": "text/x-python",
   "name": "python",
   "nbconvert_exporter": "python",
   "pygments_lexer": "ipython3",
   "version": "3.12.2"
  }
 },
 "nbformat": 4,
 "nbformat_minor": 2
}
