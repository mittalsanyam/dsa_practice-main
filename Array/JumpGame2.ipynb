{
 "cells": [
  {
   "cell_type": "markdown",
   "metadata": {},
   "source": [
    "# 45. Jump Game II\n",
    "\n",
    "**Level: Medium**\n",
    "\n",
    "[Problem Link](https://leetcode.com/problems/jump-game-ii/description/)\n",
    "\n",
    "You are given a 0-indexed array of integers nums of length n. You are initially positioned at nums[0].\n",
    "\n",
    "Each element nums[i] represents the maximum length of a forward jump from index i. In other words, if you are at nums[i], you can jump to any nums[i + j] where:\n",
    "- 0 <= j <= nums[i] and\n",
    "- i + j < n\n",
    "\n",
    "Return the minimum number of jumps to reach nums[n - 1]. The test cases are generated such that you can reach nums[n - 1].\n",
    "\n",
    "## Examples \n",
    "\n",
    "### Example 1:\n",
    "\n",
    "Input: nums = [2,3,1,1,4]\n",
    "\n",
    "Output: 2\n",
    "\n",
    "Explanation: The minimum number of jumps to reach the last index is 2. Jump 1 step from index 0 to 1, then 3 steps to the last index.\n",
    "\n",
    "### Example 2:\n",
    "\n",
    "Input: nums = [2,3,0,1,4]\n",
    "\n",
    "Output: 2\n",
    " \n",
    "## Constraints:\n",
    "\n",
    "- $1 <= nums.length <= 10^4$\n",
    "- $0 <= nums[i] <= 1000$\n",
    "- It's guaranteed that you can reach nums[n - 1]."
   ]
  },
  {
   "cell_type": "markdown",
   "metadata": {},
   "source": [
    "## Solution"
   ]
  },
  {
   "cell_type": "code",
   "execution_count": 65,
   "metadata": {},
   "outputs": [],
   "source": [
    "def jump(nums):\n",
    "    dist = []\n",
    "    n=len(nums)\n",
    "    for i in range(n):\n",
    "        dist.append(nums[i]+i)\n",
    "    i=0\n",
    "    count=0\n",
    "    distance=0\n",
    "    while distance<n-1:\n",
    "        max_dist = 0\n",
    "        max_index=-1\n",
    "        if distance+nums[i]>=n-1:\n",
    "            count+=1\n",
    "            break\n",
    "        for j in range(i+1,dist[i]+1):\n",
    "            if dist[j]>max_dist:\n",
    "                max_dist=dist[j]\n",
    "                max_index=j\n",
    "        distance+=max_index-i\n",
    "        i = max_index\n",
    "        count+=1\n",
    "    return count"
   ]
  },
  {
   "cell_type": "code",
   "execution_count": 66,
   "metadata": {},
   "outputs": [
    {
     "name": "stdout",
     "output_type": "stream",
     "text": [
      "2\n"
     ]
    }
   ],
   "source": [
    "print(jump([2,3,1,1,4]))"
   ]
  },
  {
   "cell_type": "code",
   "execution_count": 67,
   "metadata": {},
   "outputs": [
    {
     "name": "stdout",
     "output_type": "stream",
     "text": [
      "3\n"
     ]
    }
   ],
   "source": [
    "print(jump([2,1,1,3,4]))"
   ]
  }
 ],
 "metadata": {
  "kernelspec": {
   "display_name": "base",
   "language": "python",
   "name": "python3"
  },
  "language_info": {
   "codemirror_mode": {
    "name": "ipython",
    "version": 3
   },
   "file_extension": ".py",
   "mimetype": "text/x-python",
   "name": "python",
   "nbconvert_exporter": "python",
   "pygments_lexer": "ipython3",
   "version": "3.12.2"
  }
 },
 "nbformat": 4,
 "nbformat_minor": 2
}
