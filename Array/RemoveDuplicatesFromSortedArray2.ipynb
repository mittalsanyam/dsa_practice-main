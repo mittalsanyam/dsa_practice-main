{
 "cells": [
  {
   "cell_type": "markdown",
   "metadata": {},
   "source": [
    "# 80. Remove Duplicates from Sorted Array II\n",
    "\n",
    "**Level: Medium**\n",
    "\n",
    "[Problem Link](https://leetcode.com/problems/remove-duplicates-from-sorted-array-ii/description/)\n",
    "\n",
    "Given an integer array nums sorted in non-decreasing order, remove some duplicates in-place such that each unique element appears at most twice. The relative order of the elements should be kept the same.\n",
    "\n",
    "Since it is impossible to change the length of the array in some languages, you must instead have the result be placed in the first part of the array nums. More formally, if there are k elements after removing the duplicates, then the first k elements of nums should hold the final result. It does not matter what you leave beyond the first k elements.\n",
    "\n",
    "Return k after placing the final result in the first k slots of nums.\n",
    "\n",
    "Do not allocate extra space for another array. You must do this by modifying the input array in-place with O(1) extra memory."
   ]
  },
  {
   "cell_type": "markdown",
   "metadata": {},
   "source": [
    "## Examples\n",
    "\n",
    "### Example 1:\n",
    "\n",
    "Input: nums = [1,1,1,2,2,3]\n",
    "\n",
    "Output: 5, nums = [1,1,2,2,3,\\_]\n",
    "\n",
    "Explanation: Your function should return k = 5, with the first five elements of nums being 1, 1, 2, 2 and 3 respectively.\n",
    "\n",
    "It does not matter what you leave beyond the returned k (hence they are underscores).\n",
    "\n",
    "### Example 2:\n",
    "\n",
    "Input: nums = [0,0,1,1,1,1,2,3,3]\n",
    "\n",
    "Output: 7, nums = [0,0,1,1,2,3,3,\\_,\\_]\n",
    "\n",
    "Explanation: Your function should return k = 7, with the first seven elements of nums being 0, 0, 1, 1, 2, 3 and 3 respectively.\n",
    "\n",
    "It does not matter what you leave beyond the returned k (hence they are underscores)."
   ]
  },
  {
   "cell_type": "markdown",
   "metadata": {},
   "source": [
    "Constraints:\n",
    "\n",
    "- $1 <= nums.length <= 3 * 10^4$\n",
    "- $-10^4 <= nums[i] <= 10^4$\n",
    "- nums is sorted in non-decreasing order."
   ]
  },
  {
   "cell_type": "markdown",
   "metadata": {},
   "source": [
    "## Solution"
   ]
  },
  {
   "cell_type": "code",
   "execution_count": 20,
   "metadata": {},
   "outputs": [
    {
     "name": "stdout",
     "output_type": "stream",
     "text": [
      "5 [1, 1, 2, 2, 3, 10001]\n",
      "7 [0, 0, 1, 1, 2, 3, 3, 10001, 10001]\n"
     ]
    }
   ],
   "source": [
    "def removeDuplicates(nums):\n",
    "    n = len(nums)\n",
    "    i=0\n",
    "    while i<n:\n",
    "        j=i+1\n",
    "        count=1\n",
    "        while j<n and nums[i]==nums[j]:\n",
    "            count+=1\n",
    "            if count>2:\n",
    "                nums[j]=10001\n",
    "            j+=1\n",
    "        i=j\n",
    "        count=0\n",
    "    nums.sort()\n",
    "    i=0\n",
    "    while i<n and nums[i]<10001:\n",
    "        i+=1\n",
    "    return i\n",
    "nums1=[1,1,1,2,2,3]\n",
    "print(removeDuplicates(nums1),nums1)\n",
    "nums2=[0,0,1,1,1,1,2,3,3]\n",
    "print(removeDuplicates(nums2),nums2)"
   ]
  },
  {
   "cell_type": "code",
   "execution_count": 21,
   "metadata": {},
   "outputs": [
    {
     "name": "stdout",
     "output_type": "stream",
     "text": [
      "5 [1, 1, 2, 2, 3, 3]\n",
      "7 [0, 0, 1, 1, 2, 3, 3, 3, 3]\n"
     ]
    }
   ],
   "source": [
    "def removeDuplicates(nums):\n",
    "    n = len(nums)\n",
    "    i=2\n",
    "    k=2\n",
    "    while i<n:\n",
    "        if nums[k-2]!=nums[i]:\n",
    "            nums[k]=nums[i]\n",
    "            k+=1\n",
    "        i+=1\n",
    "    return k\n",
    "\n",
    "nums1=[1,1,1,2,2,3]\n",
    "print(removeDuplicates(nums1),nums1)\n",
    "nums2=[0,0,1,1,1,1,2,3,3]\n",
    "print(removeDuplicates(nums2),nums2)"
   ]
  }
 ],
 "metadata": {
  "kernelspec": {
   "display_name": "base",
   "language": "python",
   "name": "python3"
  },
  "language_info": {
   "codemirror_mode": {
    "name": "ipython",
    "version": 3
   },
   "file_extension": ".py",
   "mimetype": "text/x-python",
   "name": "python",
   "nbconvert_exporter": "python",
   "pygments_lexer": "ipython3",
   "version": "3.12.2"
  }
 },
 "nbformat": 4,
 "nbformat_minor": 2
}
