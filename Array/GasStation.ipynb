{
 "cells": [
  {
   "cell_type": "markdown",
   "metadata": {},
   "source": [
    "# 134. Gas Station\n",
    "\n",
    "**Level: Medium**\n",
    "\n",
    "[Problem Link](https://leetcode.com/problems/gas-station/description/)\n",
    "\n",
    "There are n gas stations along a circular route, where the amount of gas at the ith station is gas[i].\n",
    "\n",
    "You have a car with an unlimited gas tank and it costs cost[i] of gas to travel from the ith station to its next (i + 1)th station. You begin the journey with an empty tank at one of the gas stations.\n",
    "\n",
    "Given two integer arrays gas and cost, return the starting gas station's index if you can travel around the circuit once in the clockwise direction, otherwise return -1. If there exists a solution, it is guaranteed to be unique.\n",
    "\n",
    "## Examples\n",
    "### Example 1:\n",
    "Input: gas = [1,2,3,4,5], cost = [3,4,5,1,2]\n",
    "\n",
    "Output: 3\n",
    "\n",
    "Explanation:\n",
    "\n",
    "Start at station 3 (index 3) and fill up with 4 unit of gas. Your tank = 0 + 4 = 4\n",
    "\n",
    "Travel to station 4. Your tank = 4 - 1 + 5 = 8\n",
    "\n",
    "Travel to station 0. Your tank = 8 - 2 + 1 = 7\n",
    "\n",
    "Travel to station 1. Your tank = 7 - 3 + 2 = 6\n",
    "\n",
    "Travel to station 2. Your tank = 6 - 4 + 3 = 5\n",
    "\n",
    "Travel to station 3. The cost is 5. Your gas is just enough to travel back to station 3.\n",
    "\n",
    "Therefore, return 3 as the starting index.\n",
    "\n",
    "### Example 2:\n",
    "\n",
    "Input: gas = [2,3,4], cost = [3,4,3]\n",
    "\n",
    "Output: -1\n",
    "\n",
    "Explanation:\n",
    "\n",
    "You can't start at station 0 or 1, as there is not enough gas to travel to the next station.\n",
    "\n",
    "Let's start at station 2 and fill up with 4 unit of gas. Your tank = 0 + 4 = 4\n",
    "\n",
    "Travel to station 0. Your tank = 4 - 3 + 2 = 3\n",
    "\n",
    "Travel to station 1. Your tank = 3 - 3 + 3 = 3\n",
    "\n",
    "You cannot travel back to station 2, as it requires 4 unit of gas but you only have 3.\n",
    "\n",
    "Therefore, you can't travel around the circuit once no matter where you start.\n",
    "\n",
    "## Constraints:\n",
    "- n == gas.length == cost.length\n",
    "- $1 <= n <= 10^5$\n",
    "- $0 <= gas[i], cost[i] <= 10^4$"
   ]
  },
  {
   "cell_type": "markdown",
   "metadata": {},
   "source": [
    "## Solution"
   ]
  },
  {
   "cell_type": "code",
   "execution_count": 19,
   "metadata": {},
   "outputs": [],
   "source": [
    "def canCompleteCircuit(gas,cost):\n",
    "    if sum(cost)>sum(gas):\n",
    "        return -1\n",
    "    n=len(gas)\n",
    "    start=0\n",
    "    current_gas=0\n",
    "    for i in range(n):\n",
    "        current_gas += gas[i]-cost[i]\n",
    "        if current_gas<0:\n",
    "            current_gas=0\n",
    "            start=i+1\n",
    "    return start"
   ]
  },
  {
   "cell_type": "code",
   "execution_count": 20,
   "metadata": {},
   "outputs": [
    {
     "name": "stdout",
     "output_type": "stream",
     "text": [
      "4\n"
     ]
    }
   ],
   "source": [
    "print(canCompleteCircuit([5,1,2,3,4],[4,4,1,5,1]))"
   ]
  },
  {
   "cell_type": "code",
   "execution_count": 21,
   "metadata": {},
   "outputs": [
    {
     "name": "stdout",
     "output_type": "stream",
     "text": [
      "3\n"
     ]
    }
   ],
   "source": [
    "print(canCompleteCircuit([1,2,3,4,5],[3,4,5,1,2]))"
   ]
  },
  {
   "cell_type": "code",
   "execution_count": null,
   "metadata": {},
   "outputs": [],
   "source": []
  }
 ],
 "metadata": {
  "kernelspec": {
   "display_name": "base",
   "language": "python",
   "name": "python3"
  },
  "language_info": {
   "codemirror_mode": {
    "name": "ipython",
    "version": 3
   },
   "file_extension": ".py",
   "mimetype": "text/x-python",
   "name": "python",
   "nbconvert_exporter": "python",
   "pygments_lexer": "ipython3",
   "version": "3.12.2"
  }
 },
 "nbformat": 4,
 "nbformat_minor": 2
}
