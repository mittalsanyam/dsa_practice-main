{
 "cells": [
  {
   "cell_type": "markdown",
   "metadata": {},
   "source": [
    "# 605. Can Place Flowers\n",
    "**Level: Easy**\n",
    "[Problem Link](https://leetcode.com/problems/can-place-flowers/description/)\n",
    "\n",
    "You have a long flowerbed in which some of the plots are planted, and some are not. However, flowers cannot be planted in adjacent plots.\n",
    "\n",
    "Given an integer array flowerbed containing 0's and 1's, where 0 means empty and 1 means not empty, and an integer n, return true if n new flowers can be planted in the flowerbed without violating the no-adjacent-flowers rule and false otherwise.\n",
    "\n",
    "## Example\n",
    "### Example 1:\n",
    "Input: flowerbed = [1,0,0,0,1], n = 1\n",
    "\n",
    "Output: true\n",
    "\n",
    "### Example 2:\n",
    "Input: flowerbed = [1,0,0,0,1], n = 2\n",
    "\n",
    "Output: false\n",
    "\n",
    "## Constraints:\n",
    "\n",
    "- $1 <= flowerbed.length <= 2 * 10^4$\n",
    "- $flowerbed[i] is 0 or 1.$\n",
    "- There are no two adjacent flowers in flowerbed.\n",
    "- $0 <= n <= flowerbed.length$\n"
   ]
  },
  {
   "cell_type": "markdown",
   "metadata": {},
   "source": [
    "## Solution"
   ]
  },
  {
   "cell_type": "code",
   "execution_count": 4,
   "metadata": {},
   "outputs": [
    {
     "name": "stdout",
     "output_type": "stream",
     "text": [
      "True\n"
     ]
    }
   ],
   "source": [
    "def canPlaceFlowers(flowerbed,n):\n",
    "    m=len(flowerbed)\n",
    "    for i in range(m):\n",
    "        count=0\n",
    "        if n>0 and flowerbed[i]==0:\n",
    "            if (i-1>-1 and flowerbed[i-1]==0) or i==0:\n",
    "               count+=1\n",
    "            if (i+1<m and flowerbed[i+1]==0) or i==m-1:\n",
    "                count+=1\n",
    "            if count==2:\n",
    "                flowerbed[i]+=1\n",
    "                n=n-1\n",
    "    if n>0:\n",
    "        return False\n",
    "    else:\n",
    "        return True\n",
    "\n",
    "print(canPlaceFlowers([1,0,0,0,1],1))"
   ]
  },
  {
   "cell_type": "code",
   "execution_count": 5,
   "metadata": {},
   "outputs": [
    {
     "name": "stdout",
     "output_type": "stream",
     "text": [
      "False\n"
     ]
    }
   ],
   "source": [
    "print(canPlaceFlowers([1,0,0,0,1],2))"
   ]
  }
 ],
 "metadata": {
  "kernelspec": {
   "display_name": "base",
   "language": "python",
   "name": "python3"
  },
  "language_info": {
   "codemirror_mode": {
    "name": "ipython",
    "version": 3
   },
   "file_extension": ".py",
   "mimetype": "text/x-python",
   "name": "python",
   "nbconvert_exporter": "python",
   "pygments_lexer": "ipython3",
   "version": "3.12.2"
  }
 },
 "nbformat": 4,
 "nbformat_minor": 2
}
