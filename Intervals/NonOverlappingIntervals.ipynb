{
 "cells": [
  {
   "cell_type": "markdown",
   "metadata": {},
   "source": [
    "# 435. Non-overlapping Intervals\n",
    "**Level: Medium**\n",
    "\n",
    "[Problem Link](https://leetcode.com/problems/non-overlapping-intervals/description/)\n",
    "\n",
    "Given an array of intervals intervals where intervals[i] = [starti, endi], return the minimum number of intervals you need to remove to make the rest of the intervals non-overlapping.\n",
    "\n",
    "Note that intervals which only touch at a point are non-overlapping. For example, [1, 2] and [2, 3] are non-overlapping.\n",
    "\n",
    "## Examples\n",
    "\n",
    "### Example 1\n",
    "\n",
    "Input: intervals = [[1,2],[2,3],[3,4],[1,3]]\n",
    "\n",
    "Output: 1\n",
    "\n",
    "Explanation: [1,3] can be removed and the rest of the intervals are non-overlapping.\n",
    "\n",
    "### Example 2\n",
    "\n",
    "Input: intervals = [[1,2],[1,2],[1,2]]\n",
    "\n",
    "Output: 2\n",
    "\n",
    "Explanation: You need to remove two [1,2] to make the rest of the intervals non-overlapping.\n",
    "\n",
    "### Example 3\n",
    "\n",
    "Input: intervals = [[1,2],[2,3]]\n",
    "\n",
    "Output: 0\n",
    "\n",
    "Explanation: You don't need to remove any of the intervals since they're already non-overlapping.\n",
    "\n",
    "## Constraints\n",
    "- $1 <= intervals.length <= 10^5$\n",
    "- intervals[i].length == 2\n",
    "- $-5 * 10^4 <= start_i < end_i <= 5 * 10^4$"
   ]
  },
  {
   "cell_type": "markdown",
   "metadata": {},
   "source": [
    "## Solution"
   ]
  },
  {
   "cell_type": "code",
   "execution_count": 82,
   "metadata": {},
   "outputs": [],
   "source": [
    "def eraseOverlapIntervals(intervals):\n",
    "    def returnKey(e):\n",
    "        return e[1]\n",
    "    sorted_intervals = sorted(intervals,key=returnKey)\n",
    "    toBeErased=0\n",
    "    n=len(intervals)\n",
    "    prev_end = sorted_intervals[0][1]\n",
    "    for i in range(1,n):\n",
    "        if sorted_intervals[i][0]>=prev_end:\n",
    "            prev_end=sorted_intervals[i][1]\n",
    "        else:\n",
    "            toBeErased+=1\n",
    "    return toBeErased"
   ]
  },
  {
   "cell_type": "code",
   "execution_count": 83,
   "metadata": {},
   "outputs": [
    {
     "name": "stdout",
     "output_type": "stream",
     "text": [
      "1\n"
     ]
    }
   ],
   "source": [
    "print(eraseOverlapIntervals([[1,2],[2,3],[3,4],[1,3]]))"
   ]
  },
  {
   "cell_type": "code",
   "execution_count": 84,
   "metadata": {},
   "outputs": [
    {
     "name": "stdout",
     "output_type": "stream",
     "text": [
      "2\n"
     ]
    }
   ],
   "source": [
    "print(eraseOverlapIntervals([[1,2],[1,2],[1,2]]))"
   ]
  },
  {
   "cell_type": "code",
   "execution_count": 85,
   "metadata": {},
   "outputs": [
    {
     "name": "stdout",
     "output_type": "stream",
     "text": [
      "0\n"
     ]
    }
   ],
   "source": [
    "print(eraseOverlapIntervals([[1,2],[2,3]]))"
   ]
  },
  {
   "cell_type": "code",
   "execution_count": 86,
   "metadata": {},
   "outputs": [
    {
     "name": "stdout",
     "output_type": "stream",
     "text": [
      "2\n"
     ]
    }
   ],
   "source": [
    "print(eraseOverlapIntervals([[1,2],[1,3],[1,4]]))"
   ]
  },
  {
   "cell_type": "code",
   "execution_count": 87,
   "metadata": {},
   "outputs": [
    {
     "name": "stdout",
     "output_type": "stream",
     "text": [
      "2\n"
     ]
    }
   ],
   "source": [
    "print(eraseOverlapIntervals([[1,100],[11,22],[1,11],[2,12]]))"
   ]
  }
 ],
 "metadata": {
  "kernelspec": {
   "display_name": "base",
   "language": "python",
   "name": "python3"
  },
  "language_info": {
   "codemirror_mode": {
    "name": "ipython",
    "version": 3
   },
   "file_extension": ".py",
   "mimetype": "text/x-python",
   "name": "python",
   "nbconvert_exporter": "python",
   "pygments_lexer": "ipython3",
   "version": "3.12.2"
  }
 },
 "nbformat": 4,
 "nbformat_minor": 2
}
