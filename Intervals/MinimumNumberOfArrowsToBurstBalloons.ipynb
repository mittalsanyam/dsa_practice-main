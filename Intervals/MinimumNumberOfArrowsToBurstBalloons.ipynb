{
 "cells": [
  {
   "cell_type": "markdown",
   "metadata": {},
   "source": [
    "# 452. Minimum Number of Arrows to Burst Balloons\n",
    "\n",
    "**Level: Medium**\n",
    "\n",
    "[Problem Link](https://leetcode.com/problems/minimum-number-of-arrows-to-burst-balloons/description/)\n",
    "\n",
    "There are some spherical balloons taped onto a flat wall that represents the XY-plane. The balloons are represented as a 2D integer array points where points[i] = $[x_{start}, x_{end}]$ denotes a balloon whose horizontal diameter stretches between $x_{start}$ and $x_{end}$. You do not know the exact y-coordinates of the balloons.\n",
    "\n",
    "Arrows can be shot up directly vertically (in the positive y-direction) from different points along the x-axis. A balloon with $x_{start}$ and $x_{end}$ is burst by an arrow shot at x if $x_{start} <= x <= x_{end}$. There is no limit to the number of arrows that can be shot. A shot arrow keeps traveling up infinitely, bursting any balloons in its path.\n",
    "\n",
    "Given the array points, return the minimum number of arrows that must be shot to burst all balloons.\n",
    "\n",
    "## Examples\n",
    "### Example 1:\n",
    "Input: points = [[10,16],[2,8],[1,6],[7,12]]\n",
    "\n",
    "Output: 2\n",
    "\n",
    "Explanation: The balloons can be burst by 2 arrows:\n",
    "- Shoot an arrow at x = 6, bursting the balloons [2,8] and [1,6].\n",
    "- Shoot an arrow at x = 11, bursting the balloons [10,16] and [7,12].\n",
    "\n",
    "### Example 2:\n",
    "Input: points = [[1,2],[3,4],[5,6],[7,8]]\n",
    "\n",
    "Output: 4\n",
    "\n",
    "Explanation: One arrow needs to be shot for each balloon for a total of 4 arrows.\n",
    "\n",
    "### Example 3:\n",
    "Input: points = [[1,2],[2,3],[3,4],[4,5]]\n",
    "\n",
    "Output: 2\n",
    "\n",
    "Explanation: The balloons can be burst by 2 arrows:\n",
    "\n",
    "- Shoot an arrow at x = 2, bursting the balloons [1,2] and [2,3].\n",
    "\n",
    "- Shoot an arrow at x = 4, bursting the balloons [3,4] and [4,5].\n",
    "\n",
    "## Constraints:\n",
    "- $1 <= points.length <= 10^5$\n",
    "- points[i].length == 2\n",
    "- $2^{31} <= x_{start} < x_{end} <= 2^{31} - 1$\n"
   ]
  },
  {
   "cell_type": "markdown",
   "metadata": {},
   "source": [
    "## Solution"
   ]
  },
  {
   "cell_type": "code",
   "execution_count": 1,
   "metadata": {},
   "outputs": [],
   "source": [
    "def findMinArrowShots(points):\n",
    "    def returnKey(e):\n",
    "        return e[1]\n",
    "    points.sort(key=returnKey)\n",
    "    n=len(points)\n",
    "    prev_end=points[0][1]\n",
    "    numArrows=1\n",
    "    for i in range(1,n):\n",
    "        if points[i][0]>prev_end:\n",
    "            numArrows+=1\n",
    "            prev_end=points[i][1]\n",
    "    return numArrows"
   ]
  },
  {
   "cell_type": "code",
   "execution_count": 2,
   "metadata": {},
   "outputs": [
    {
     "name": "stdout",
     "output_type": "stream",
     "text": [
      "2\n"
     ]
    }
   ],
   "source": [
    "print(findMinArrowShots([[10,16],[2,8],[1,6],[7,12]]))"
   ]
  },
  {
   "cell_type": "code",
   "execution_count": 3,
   "metadata": {},
   "outputs": [
    {
     "name": "stdout",
     "output_type": "stream",
     "text": [
      "4\n"
     ]
    }
   ],
   "source": [
    "print(findMinArrowShots([[1,2],[3,4],[5,6],[7,8]]))"
   ]
  },
  {
   "cell_type": "code",
   "execution_count": 4,
   "metadata": {},
   "outputs": [
    {
     "name": "stdout",
     "output_type": "stream",
     "text": [
      "2\n"
     ]
    }
   ],
   "source": [
    "print(findMinArrowShots([[1,2],[2,3],[3,4],[4,5]]))"
   ]
  }
 ],
 "metadata": {
  "kernelspec": {
   "display_name": "base",
   "language": "python",
   "name": "python3"
  },
  "language_info": {
   "codemirror_mode": {
    "name": "ipython",
    "version": 3
   },
   "file_extension": ".py",
   "mimetype": "text/x-python",
   "name": "python",
   "nbconvert_exporter": "python",
   "pygments_lexer": "ipython3",
   "version": "3.12.2"
  }
 },
 "nbformat": 4,
 "nbformat_minor": 2
}
