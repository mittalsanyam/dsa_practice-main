{
 "cells": [
  {
   "cell_type": "markdown",
   "metadata": {},
   "source": [
    "# 2300. Successful Pairs of Spells and Potions\n",
    "**Level: Medium**\n",
    "\n",
    "[Problem Link](https://leetcode.com/problems/successful-pairs-of-spells-and-potions/description/)\n",
    "\n",
    "You are given two positive integer arrays spells and potions, of length n and m respectively, where spells[i] represents the strength of the ith spell and potions[j] represents the strength of the $j^{th}$ potion.\n",
    "\n",
    "You are also given an integer success. A spell and potion pair is considered successful if the product of their strengths is at least success.\n",
    "\n",
    "Return an integer array pairs of length n where $pairs[i]$ is the number of potions that will form a successful pair with the $i^{th}$ spell.\n",
    "\n",
    "### Examples\n",
    "## Example 1:\n",
    "Input: spells = [5,1,3], potions = [1,2,3,4,5], success = 7\n",
    "\n",
    "Output: [4,0,3]\n",
    "\n",
    "Explanation:\n",
    "- 0th spell: 5 * [1,2,3,4,5] = [5,10,15,20,25]. 4 pairs are successful.\n",
    "- 1st spell: 1 * [1,2,3,4,5] = [1,2,3,4,5]. 0 pairs are successful.\n",
    "- 2nd spell: 3 * [1,2,3,4,5] = [3,6,9,12,15]. 3 pairs are successful.\n",
    "\n",
    "Thus, [4,0,3] is returned.\n",
    "\n",
    "## Example 2\n",
    "Input: spells = [3,1,2], potions = [8,5,8], success = 16\n",
    "\n",
    "Output: [2,0,2]\n",
    "\n",
    "Explanation:\n",
    "- 0th spell: 3 * [8,5,8] = [24,15,24]. 2 pairs are successful.\n",
    "- 1st spell: 1 * [8,5,8] = [8,5,8]. 0 pairs are successful. \n",
    "- 2nd spell: 2 * [8,5,8] = [16,10,16]. 2 pairs are successful.\n",
    " \n",
    "Thus, [2,0,2] is returned.\n",
    "\n",
    "## Constraints\n",
    "- n == spells.length\n",
    "- m == potions.length\n",
    "- $1 <= n, m <= 10^5$\n",
    "- $1 <= spells[i], potions[i] <= 10^5$\n",
    "- $1 <= success <= 10^{10}$"
   ]
  },
  {
   "cell_type": "markdown",
   "metadata": {},
   "source": [
    "## Solution"
   ]
  },
  {
   "cell_type": "code",
   "execution_count": 30,
   "metadata": {},
   "outputs": [
    {
     "name": "stdout",
     "output_type": "stream",
     "text": [
      "[4, 0, 3]\n"
     ]
    }
   ],
   "source": [
    "def binarySearch(potions,spell,success):\n",
    "    l,r = 0,len(potions)\n",
    "    while l<r:\n",
    "        mid =(l+r)//2\n",
    "        if potions[mid]*spell>=success:\n",
    "            if mid==0:\n",
    "                return mid\n",
    "            elif potions[mid-1]*spell>=success:\n",
    "                r=mid\n",
    "            else:\n",
    "                return mid\n",
    "        if potions[mid]*spell<success:\n",
    "            l=mid+1\n",
    "    return -1\n",
    "\n",
    "def successfulPairs(spells,potions,success):\n",
    "    potions = sorted(potions)\n",
    "    m=len(potions)\n",
    "    res=[]\n",
    "    for spell in spells:\n",
    "        idx = binarySearch(potions,spell,success)\n",
    "        if idx!=-1:\n",
    "            res.append(m-idx)\n",
    "        else:\n",
    "            res.append(0)\n",
    "    return res\n",
    "\n",
    "print(successfulPairs([5,1,3],[1,2,3,4,5],7))        "
   ]
  },
  {
   "cell_type": "code",
   "execution_count": 31,
   "metadata": {},
   "outputs": [
    {
     "name": "stdout",
     "output_type": "stream",
     "text": [
      "[2, 0, 2]\n"
     ]
    }
   ],
   "source": [
    "print(successfulPairs([3,1,2],[8,5,8],16))"
   ]
  },
  {
   "cell_type": "code",
   "execution_count": 32,
   "metadata": {},
   "outputs": [
    {
     "name": "stdout",
     "output_type": "stream",
     "text": [
      "[3, 0, 3]\n"
     ]
    }
   ],
   "source": [
    "print(successfulPairs([15,8,19],[38,36,23],328))"
   ]
  }
 ],
 "metadata": {
  "kernelspec": {
   "display_name": "base",
   "language": "python",
   "name": "python3"
  },
  "language_info": {
   "codemirror_mode": {
    "name": "ipython",
    "version": 3
   },
   "file_extension": ".py",
   "mimetype": "text/x-python",
   "name": "python",
   "nbconvert_exporter": "python",
   "pygments_lexer": "ipython3",
   "version": "3.12.2"
  }
 },
 "nbformat": 4,
 "nbformat_minor": 2
}
