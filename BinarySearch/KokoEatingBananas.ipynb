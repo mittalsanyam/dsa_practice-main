{
 "cells": [
  {
   "cell_type": "markdown",
   "metadata": {},
   "source": [
    "# 875. Koko Eating Bananas\n",
    "**Level: Medium**\n",
    "\n",
    "[Problem Link](https://leetcode.com/problems/koko-eating-bananas/description/)\n",
    "\n",
    "Koko loves to eat bananas. There are n piles of bananas, the ith pile has piles[i] bananas. The guards have gone and will come back in h hours.\n",
    "\n",
    "Koko can decide her bananas-per-hour eating speed of k. Each hour, she chooses some pile of bananas and eats k bananas from that pile. If the pile has less than k bananas, she eats all of them instead and will not eat any more bananas during this hour.\n",
    "\n",
    "Koko likes to eat slowly but still wants to finish eating all the bananas before the guards return.\n",
    "\n",
    "Return the minimum integer k such that she can eat all the bananas within h hours.\n",
    "\n",
    "## Examples\n",
    "### Example 1:\n",
    "Input: piles = [3,6,7,11], h = 8\n",
    "\n",
    "Output: 4\n",
    "\n",
    "### Example 2:\n",
    "Input: piles = [30,11,23,4,20], h = 5\n",
    "\n",
    "Output: 30\n",
    "\n",
    "### Example 3:\n",
    "\n",
    "Input: piles = [30,11,23,4,20], h = 6\n",
    "\n",
    "Output: 23\n",
    " \n",
    "### Constraints:\n",
    "\n",
    "- $1 <= piles.length <= 10^4$\n",
    "- $piles.length <= h <= 10^9$\n",
    "- $1 <= piles[i] <= 10^9$"
   ]
  },
  {
   "cell_type": "markdown",
   "metadata": {},
   "source": [
    "## Solution"
   ]
  },
  {
   "cell_type": "code",
   "execution_count": 48,
   "metadata": {},
   "outputs": [
    {
     "name": "stdout",
     "output_type": "stream",
     "text": [
      "4\n"
     ]
    }
   ],
   "source": [
    "import math\n",
    "def minEatingSpeed(piles,h):\n",
    "    if h==len(piles):\n",
    "        return max(piles)\n",
    "    l,r=1,max(piles)\n",
    "    while l<r:\n",
    "        mid = (l+r)//2\n",
    "        total,total_1=0,0\n",
    "        for p in piles:\n",
    "            total+=math.ceil(p/mid)\n",
    "        if total<=h:\n",
    "            r=mid\n",
    "        else:\n",
    "            l=mid+1\n",
    "    return l\n",
    "print(minEatingSpeed([3,6,7,11],8))"
   ]
  },
  {
   "cell_type": "code",
   "execution_count": 49,
   "metadata": {},
   "outputs": [
    {
     "name": "stdout",
     "output_type": "stream",
     "text": [
      "23\n"
     ]
    }
   ],
   "source": [
    "print(minEatingSpeed([30,11,23,4,20],6))"
   ]
  }
 ],
 "metadata": {
  "kernelspec": {
   "display_name": "base",
   "language": "python",
   "name": "python3"
  },
  "language_info": {
   "codemirror_mode": {
    "name": "ipython",
    "version": 3
   },
   "file_extension": ".py",
   "mimetype": "text/x-python",
   "name": "python",
   "nbconvert_exporter": "python",
   "pygments_lexer": "ipython3",
   "version": "3.12.2"
  }
 },
 "nbformat": 4,
 "nbformat_minor": 2
}
