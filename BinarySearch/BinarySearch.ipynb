{
 "cells": [
  {
   "cell_type": "markdown",
   "id": "f257e244",
   "metadata": {},
   "source": [
    "# 704. Binary Search\n",
    "\n",
    "**Level: Easy**\n",
    "\n",
    "[Problem Statement](https://leetcode.com/problems/binary-search/description/)\n",
    "\n",
    "Given an array of integers nums which is sorted in ascending order, and an integer target, write a function to search target in nums. If target exists, then return its index. Otherwise, return -1.\n",
    "\n",
    "You must write an algorithm with O(log n) runtime complexity.\n",
    "\n",
    "## Examples\n",
    "\n",
    "### Example 1:\n",
    "Input: nums = [-1,0,3,5,9,12], target = 9\n",
    "\n",
    "Output: 4\n",
    "\n",
    "Explanation: 9 exists in nums and its index is 4\n",
    "\n",
    "### Example 2:\n",
    "Input: nums = [-1,0,3,5,9,12], target = 2\n",
    "\n",
    "Output: -1\n",
    "\n",
    "Explanation: 2 does not exist in nums so return -1\n",
    " \n",
    "\n",
    "## Constraints:\n",
    "- $1 <= nums.length <= 10^4$\n",
    "- $10^4 < nums[i], target < 10^4$\n",
    "- All the integers in nums are unique.\n",
    "- nums is sorted in ascending order."
   ]
  },
  {
   "cell_type": "markdown",
   "id": "f9a5b483",
   "metadata": {},
   "source": [
    "## Solution"
   ]
  },
  {
   "cell_type": "code",
   "execution_count": 4,
   "id": "71bde962",
   "metadata": {},
   "outputs": [],
   "source": [
    "def search(nums,target):\n",
    "    l,r=0,len(nums)-1\n",
    "    while l<=r:\n",
    "        mid = ((r-l)//2)+l\n",
    "        if nums[mid]==target:\n",
    "            return mid\n",
    "        elif nums[mid]<target:\n",
    "            l=mid+1\n",
    "        else:\n",
    "            r=mid-1\n",
    "    return -1"
   ]
  },
  {
   "cell_type": "code",
   "execution_count": 5,
   "id": "a6277a7e",
   "metadata": {},
   "outputs": [
    {
     "name": "stdout",
     "output_type": "stream",
     "text": [
      "4\n"
     ]
    }
   ],
   "source": [
    "print(search([-1,0,3,5,9,12],9))"
   ]
  },
  {
   "cell_type": "code",
   "execution_count": 6,
   "id": "bf942e90",
   "metadata": {},
   "outputs": [
    {
     "name": "stdout",
     "output_type": "stream",
     "text": [
      "-1\n"
     ]
    }
   ],
   "source": [
    "print(search([-1,0,3,5,9,12],2))"
   ]
  },
  {
   "cell_type": "code",
   "execution_count": 7,
   "id": "672078d6",
   "metadata": {},
   "outputs": [
    {
     "name": "stdout",
     "output_type": "stream",
     "text": [
      "1\n"
     ]
    }
   ],
   "source": [
    "print(search([-1,0,3,5,9,12],0))"
   ]
  },
  {
   "cell_type": "code",
   "execution_count": null,
   "id": "5269bebc",
   "metadata": {},
   "outputs": [],
   "source": []
  }
 ],
 "metadata": {
  "kernelspec": {
   "display_name": "base",
   "language": "python",
   "name": "python3"
  },
  "language_info": {
   "codemirror_mode": {
    "name": "ipython",
    "version": 3
   },
   "file_extension": ".py",
   "mimetype": "text/x-python",
   "name": "python",
   "nbconvert_exporter": "python",
   "pygments_lexer": "ipython3",
   "version": "3.12.2"
  }
 },
 "nbformat": 4,
 "nbformat_minor": 5
}
