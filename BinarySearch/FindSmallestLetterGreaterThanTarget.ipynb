{
 "cells": [
  {
   "cell_type": "markdown",
   "id": "f540cabf",
   "metadata": {},
   "source": [
    "# 744. Find Smallest Letter Greater Than Target\n",
    "**Level: Easy**\n",
    "\n",
    "[Problem Statement](https://leetcode.com/problems/find-smallest-letter-greater-than-target/description/)\n",
    "\n",
    "You are given an array of characters letters that is sorted in non-decreasing order, and a character target. There are at least two different characters in letters.\n",
    "\n",
    "Return the smallest character in letters that is lexicographically greater than target. If such a character does not exist, return the first character in letters.\n",
    "\n",
    "## Examples \n",
    "### Example 1:\n",
    "\n",
    "Input: letters = [\"c\",\"f\",\"j\"], target = \"a\"\n",
    "\n",
    "Output: \"c\"\n",
    "\n",
    "Explanation: The smallest character that is lexicographically greater than 'a' in letters is 'c'.\n",
    "\n",
    "### Example 2:\n",
    "Input: letters = [\"c\",\"f\",\"j\"], target = \"c\"\n",
    "\n",
    "Output: \"f\"\n",
    "\n",
    "Explanation: The smallest character that is lexicographically greater than 'c' in letters is 'f'.\n",
    "\n",
    "### Example 3:\n",
    "Input: letters = [\"x\",\"x\",\"y\",\"y\"], target = \"z\"\n",
    "\n",
    "Output: \"x\"\n",
    "\n",
    "Explanation: There are no characters in letters that is lexicographically greater than 'z' so we return letters[0].\n",
    " \n",
    "## Constraints:\n",
    "- $2 <= letters.length <= 10^4$\n",
    "- letters[i] is a lowercase English letter.\n",
    "- letters is sorted in non-decreasing order.\n",
    "- letters contains at least two different characters.\n",
    "- target is a lowercase English letter."
   ]
  },
  {
   "cell_type": "markdown",
   "id": "700fc142",
   "metadata": {},
   "source": [
    "## Solution"
   ]
  },
  {
   "cell_type": "code",
   "execution_count": 18,
   "id": "290ce724",
   "metadata": {},
   "outputs": [],
   "source": [
    "def binSearch(letters,target):\n",
    "    l,r=0,len(letters)-1\n",
    "    while l<=r:\n",
    "        mid = ((r-l)//2)+l\n",
    "        if target==letters[mid]:\n",
    "            return mid\n",
    "        elif target>letters[mid]:\n",
    "            l = mid+1\n",
    "        else:\n",
    "            r=mid-1\n",
    "    return -1\n",
    "\n",
    "def nextGreatestLetter(letters,target):\n",
    "    alpha = \"abcdefghijklmnopqrstuvwxyz\"\n",
    "    n=len(alpha)\n",
    "    idx = binSearch(alpha,target)\n",
    "    res=-1\n",
    "    for i in range(idx+1,n):\n",
    "        res = binSearch(letters,alpha[i])\n",
    "        if res!=-1:\n",
    "            return letters[res]\n",
    "    return letters[0]"
   ]
  },
  {
   "cell_type": "code",
   "execution_count": 19,
   "id": "ae3f7fb6",
   "metadata": {},
   "outputs": [
    {
     "name": "stdout",
     "output_type": "stream",
     "text": [
      "c\n"
     ]
    }
   ],
   "source": [
    "print(nextGreatestLetter([\"c\",\"f\",\"j\"],\"a\"))"
   ]
  },
  {
   "cell_type": "code",
   "execution_count": 20,
   "id": "12f26d85",
   "metadata": {},
   "outputs": [
    {
     "name": "stdout",
     "output_type": "stream",
     "text": [
      "f\n"
     ]
    }
   ],
   "source": [
    "print(nextGreatestLetter([\"c\",\"f\",\"j\"],\"c\"))"
   ]
  },
  {
   "cell_type": "code",
   "execution_count": 21,
   "id": "31c62aea",
   "metadata": {},
   "outputs": [
    {
     "name": "stdout",
     "output_type": "stream",
     "text": [
      "x\n"
     ]
    }
   ],
   "source": [
    "print(nextGreatestLetter([\"x\",\"x\",\"y\",\"y\"],\"z\"))"
   ]
  },
  {
   "cell_type": "code",
   "execution_count": null,
   "id": "82a42d03",
   "metadata": {},
   "outputs": [],
   "source": []
  }
 ],
 "metadata": {
  "kernelspec": {
   "display_name": "base",
   "language": "python",
   "name": "python3"
  },
  "language_info": {
   "codemirror_mode": {
    "name": "ipython",
    "version": 3
   },
   "file_extension": ".py",
   "mimetype": "text/x-python",
   "name": "python",
   "nbconvert_exporter": "python",
   "pygments_lexer": "ipython3",
   "version": "3.12.2"
  }
 },
 "nbformat": 4,
 "nbformat_minor": 5
}
