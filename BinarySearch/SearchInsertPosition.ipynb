{
 "cells": [
  {
   "cell_type": "markdown",
   "id": "6a313630",
   "metadata": {},
   "source": [
    "# 35. Search Insert Position\n",
    "**Level: Easy**\n",
    "\n",
    "[Problem Statement](https://leetcode.com/problems/search-insert-position/description/)\n",
    "\n",
    "Given a sorted array of distinct integers and a target value, return the index if the target is found. If not, return the index where it would be if it were inserted in order.\n",
    "\n",
    "You must write an algorithm with O(log n) runtime complexity.\n",
    "\n",
    "## Examples\n",
    "\n",
    "### Example 1:\n",
    "\n",
    "Input: nums = [1,3,5,6], target = 5\n",
    "\n",
    "Output: 2\n",
    "\n",
    "### Example 2:\n",
    "\n",
    "Input: nums = [1,3,5,6], target = 2\n",
    "\n",
    "Output: 1\n",
    "\n",
    "### Example 3:\n",
    "\n",
    "Input: nums = [1,3,5,6], target = 7\n",
    "\n",
    "Output: 4\n",
    "\n",
    "## Constraints:\n",
    "- $1 <= nums.length <= 10^4$\n",
    "- $-10^4 <= nums[i] <= 10^4$\n",
    "- nums contains distinct values sorted in ascending order.\n",
    "- $-10^4 <= target <= 10^4$ "
   ]
  },
  {
   "cell_type": "markdown",
   "id": "c98a4142",
   "metadata": {},
   "source": [
    "## Solution"
   ]
  },
  {
   "cell_type": "code",
   "execution_count": 1,
   "id": "b1a01efb",
   "metadata": {},
   "outputs": [],
   "source": [
    "def searchInsert(nums,target):\n",
    "    l,r=0,len(nums)-1\n",
    "    if target>nums[-1]:\n",
    "        return len(nums)\n",
    "    if target<nums[0]:\n",
    "        return 0\n",
    "    while l<=r:\n",
    "        mid=((r-l)//2)+l\n",
    "        if nums[mid]==target:\n",
    "            return mid\n",
    "        elif nums[mid]<target:\n",
    "            l=mid+1\n",
    "        else:\n",
    "            if nums[mid-1]<target:\n",
    "                return mid\n",
    "            else:\n",
    "                r=mid\n",
    "        "
   ]
  },
  {
   "cell_type": "code",
   "execution_count": 2,
   "id": "90324095",
   "metadata": {},
   "outputs": [
    {
     "name": "stdout",
     "output_type": "stream",
     "text": [
      "2\n"
     ]
    }
   ],
   "source": [
    "print(searchInsert([1,3,5,6],5))"
   ]
  },
  {
   "cell_type": "code",
   "execution_count": 3,
   "id": "fcb9a199",
   "metadata": {},
   "outputs": [
    {
     "name": "stdout",
     "output_type": "stream",
     "text": [
      "1\n"
     ]
    }
   ],
   "source": [
    "print(searchInsert([1,3,5,6],2))"
   ]
  },
  {
   "cell_type": "code",
   "execution_count": 4,
   "id": "b3b533b1",
   "metadata": {},
   "outputs": [
    {
     "name": "stdout",
     "output_type": "stream",
     "text": [
      "4\n"
     ]
    }
   ],
   "source": [
    "print(searchInsert([1,3,5,6],7))"
   ]
  },
  {
   "cell_type": "code",
   "execution_count": null,
   "id": "45f10a88",
   "metadata": {},
   "outputs": [],
   "source": []
  }
 ],
 "metadata": {
  "kernelspec": {
   "display_name": "base",
   "language": "python",
   "name": "python3"
  },
  "language_info": {
   "codemirror_mode": {
    "name": "ipython",
    "version": 3
   },
   "file_extension": ".py",
   "mimetype": "text/x-python",
   "name": "python",
   "nbconvert_exporter": "python",
   "pygments_lexer": "ipython3",
   "version": "3.12.2"
  }
 },
 "nbformat": 4,
 "nbformat_minor": 5
}
