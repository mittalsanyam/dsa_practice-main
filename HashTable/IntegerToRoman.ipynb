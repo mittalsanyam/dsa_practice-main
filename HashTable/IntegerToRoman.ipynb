{
 "cells": [
  {
   "cell_type": "markdown",
   "metadata": {},
   "source": [
    "# 12. Integer to Roman\n",
    "**Level: Medium**\n",
    "\n",
    "[Problem Link](https://leetcode.com/problems/integer-to-roman/description/?envType=problem-list-v2&envId=hash-table)\n",
    "\n",
    "Seven different symbols represent Roman numerals with the following values:\n",
    "\n",
    "| Symbol | Value |\n",
    "| ------ | ----- |\n",
    "| I | 1 |\n",
    "| V\t| 5 |\n",
    "| X\t| 10 |\n",
    "| L\t| 50 |\n",
    "| C\t| 100 |\n",
    "| D\t| 500 |\n",
    "| M\t| 1000 |\n",
    "\n",
    "Roman numerals are formed by appending the conversions of decimal place values from highest to lowest. Converting a decimal place value into a Roman numeral has the following rules:\n",
    "\n",
    "- If the value does not start with 4 or 9, select the symbol of the maximal value that can be subtracted from the input, append that symbol to the result, subtract its value, and convert the remainder to a Roman numeral.\n",
    "- If the value starts with 4 or 9 use the subtractive form representing one symbol subtracted from the following symbol, for example, 4 is 1 (I) less than 5 (V): IV and 9 is 1 (I) less than 10 (X): IX. Only the following subtractive forms are used: 4 (IV), 9 (IX), 40 (XL), 90 (XC), 400 (CD) and 900 (CM).\n",
    "- Only powers of 10 (I, X, C, M) can be appended consecutively at most 3 times to represent multiples of 10. You cannot append 5 (V), 50 (L), or 500 (D) multiple times. If you need to append a symbol 4 times use the subtractive form.\n",
    "\n",
    "Given an integer, convert it to a Roman numeral.\n",
    "\n",
    "## Examples\n",
    "### Example 1:\n",
    "Input: num = 3749\n",
    "\n",
    "Output: \"MMMDCCXLIX\"\n",
    "\n",
    "Explanation:\n",
    "\n",
    "3000 = MMM as 1000 (M) + 1000 (M) + 1000 (M)\n",
    "\n",
    "700 = DCC as 500 (D) + 100 (C) + 100 (C)\n",
    "\n",
    "40 = XL as 10 (X) less of 50 (L)\n",
    "\n",
    "9 = IX as 1 (I) less of 10 (X)\n",
    "\n",
    "Note: 49 is not 1 (I) less of 50 (L) because the conversion is based on decimal places.\n",
    "\n",
    "### Example 2:\n",
    "\n",
    "Input: num = 58\n",
    "\n",
    "Output: \"LVIII\"\n",
    "\n",
    "Explanation:\n",
    "\n",
    "50 = L\n",
    "\n",
    "8 = VIII\n",
    "\n",
    "### Example 3:\n",
    "\n",
    "Input: num = 1994\n",
    "\n",
    "Output: \"MCMXCIV\"\n",
    "\n",
    "Explanation:\n",
    "\n",
    "1000 = M\n",
    "900 = CM\n",
    "90 = XC\n",
    "4 = IV"
   ]
  },
  {
   "cell_type": "markdown",
   "metadata": {},
   "source": [
    "## Solution"
   ]
  },
  {
   "cell_type": "code",
   "execution_count": 14,
   "metadata": {},
   "outputs": [
    {
     "name": "stdout",
     "output_type": "stream",
     "text": [
      "MMMDCCXLIX\n",
      "LVIII\n",
      "MCMXCIV\n",
      "DCLXXX\n",
      "CDXC\n"
     ]
    }
   ],
   "source": [
    "def intToRoman(num):\n",
    "    intRoman = {1000:'M',900:'CM',500:'D',400:'CD',\n",
    "                100:'C',90:'XC',50:'L',40:'XL',\n",
    "                10:'X',9:'IX',5:'V',4:'IV',1:'I'}\n",
    "    roman=\"\"\n",
    "    nums=[1000,900,500,400,100,90,50,40,10,9,5,4,1]\n",
    "    for n in nums:\n",
    "        while num>=n:\n",
    "            roman+=intRoman[n]\n",
    "            num-=n\n",
    "    return roman\n",
    "    \n",
    "\n",
    "print(intToRoman(3749))\n",
    "print(intToRoman(58))\n",
    "print(intToRoman(1994))\n",
    "print(intToRoman(680))   \n",
    "print(intToRoman(490))"
   ]
  },
  {
   "cell_type": "code",
   "execution_count": null,
   "metadata": {},
   "outputs": [],
   "source": []
  }
 ],
 "metadata": {
  "kernelspec": {
   "display_name": "base",
   "language": "python",
   "name": "python3"
  },
  "language_info": {
   "codemirror_mode": {
    "name": "ipython",
    "version": 3
   },
   "file_extension": ".py",
   "mimetype": "text/x-python",
   "name": "python",
   "nbconvert_exporter": "python",
   "pygments_lexer": "ipython3",
   "version": "3.12.2"
  }
 },
 "nbformat": 4,
 "nbformat_minor": 2
}
