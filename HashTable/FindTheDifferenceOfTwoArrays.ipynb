{
 "cells": [
  {
   "cell_type": "markdown",
   "metadata": {},
   "source": [
    "# 2215. Find the Difference of Two Arrays\n",
    "\n",
    "**Level: Easy**\n",
    "\n",
    "[Problem Link](https://leetcode.com/problems/find-the-difference-of-two-arrays/description/)\n",
    "\n",
    "Given two 0-indexed integer arrays `nums1` and `nums2`, return a list answer of size 2 where:\n",
    "\n",
    "`answer[0]` is a list of all distinct integers in nums1 which are not present in nums2.\n",
    "`answer[1]` is a list of all distinct integers in nums2 which are not present in nums1.\n",
    "\n",
    "Note that the integers in the lists may be returned in any order.\n",
    "\n",
    "## Examples \n",
    "\n",
    "### Example 1:\n",
    "\n",
    "- Input: nums1 = [1,2,3], nums2 = [2,4,6]\n",
    "- Output: [[1,3],[4,6]]\n",
    "\n",
    "Explanation:\n",
    "\n",
    "For nums1, nums1[1] = 2 is present at index 0 of nums2, whereas nums1[0] = 1 and nums1[2] = 3 are not present in nums2. Therefore, answer[0] = [1,3].\n",
    "\n",
    "For nums2, nums2[0] = 2 is present at index 1 of nums1, whereas nums2[1] = 4 and nums2[2] = 6 are not present in nums2. Therefore, answer[1] = [4,6].\n",
    "\n",
    "### Example 2:\n",
    "\n",
    "Input: nums1 = [1,2,3,3], nums2 = [1,1,2,2]\n",
    "\n",
    "Output: [[3],[]]\n",
    "\n",
    "Explanation:\n",
    "\n",
    "For nums1, nums1[2] and nums1[3] are not present in nums2. Since nums1[2] == nums1[3], their value is only included once and answer[0] = [3].\n",
    "\n",
    "Every integer in nums2 is present in nums1. Therefore, answer[1] = [].\n",
    " \n",
    "\n",
    "## Constraints:\n",
    "\n",
    "- 1 <= nums1.length, nums2.length <= 1000\n",
    "- -1000 <= nums1[i], nums2[i] <= 1000"
   ]
  },
  {
   "cell_type": "markdown",
   "metadata": {},
   "source": [
    "## Solution"
   ]
  },
  {
   "cell_type": "code",
   "execution_count": 1,
   "metadata": {},
   "outputs": [
    {
     "name": "stdout",
     "output_type": "stream",
     "text": [
      "[[1, 3], [4, 6]]\n"
     ]
    }
   ],
   "source": [
    "def findDifference(nums1,nums2):\n",
    "    n,m=len(nums1),len(nums2)\n",
    "    isNums2,isNums1={},{}\n",
    "    ml = max(n,m)\n",
    "    for i in range(ml):\n",
    "        if i<n:\n",
    "            isNums2[nums1[i]]=False\n",
    "        if i<m:\n",
    "            isNums1[nums2[i]]=False\n",
    "    for i in range(ml):\n",
    "        if i<m:\n",
    "            if nums2[i] in isNums2.keys():\n",
    "                isNums2[nums2[i]]=True\n",
    "        if i<n:\n",
    "            if nums1[i] in isNums1.keys():\n",
    "                isNums1[nums1[i]]=True\n",
    "    list1,list2=[],[]\n",
    "    for key in isNums2.keys():\n",
    "        if not isNums2[key]:\n",
    "            list1.append(key)\n",
    "    for key in isNums1.keys():\n",
    "        if not isNums1[key]:\n",
    "            list2.append(key)\n",
    "    return [list1,list2]\n",
    "\n",
    "print(findDifference([1,2,3],[2,4,6]))   "
   ]
  },
  {
   "cell_type": "code",
   "execution_count": 2,
   "metadata": {},
   "outputs": [
    {
     "name": "stdout",
     "output_type": "stream",
     "text": [
      "[[3], []]\n"
     ]
    }
   ],
   "source": [
    "print(findDifference([1,2,3,3],[1,1,2,2]))"
   ]
  }
 ],
 "metadata": {
  "kernelspec": {
   "display_name": "base",
   "language": "python",
   "name": "python3"
  },
  "language_info": {
   "codemirror_mode": {
    "name": "ipython",
    "version": 3
   },
   "file_extension": ".py",
   "mimetype": "text/x-python",
   "name": "python",
   "nbconvert_exporter": "python",
   "pygments_lexer": "ipython3",
   "version": "3.12.2"
  }
 },
 "nbformat": 4,
 "nbformat_minor": 2
}
