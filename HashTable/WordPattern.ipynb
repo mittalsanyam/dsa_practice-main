{
 "cells": [
  {
   "cell_type": "markdown",
   "metadata": {},
   "source": [
    "# 290. Word Pattern\n",
    "\n",
    "**Level: Easy**\n",
    "\n",
    "[Problem Link](https://leetcode.com/problems/word-pattern/description/)\n",
    "\n",
    "Given a pattern and a string s, find if s follows the same pattern.\n",
    "\n",
    "Here follow means a full match, such that there is a bijection between a letter in pattern and a non-empty word in s. Specifically:\n",
    "\n",
    "Each letter in pattern maps to exactly one unique word in s.\n",
    "\n",
    "Each unique word in s maps to exactly one letter in pattern.\n",
    "\n",
    "No two letters map to the same word, and no two words map to the same letter.\n",
    "\n",
    "## Examples\n",
    "\n",
    "### Example 1:\n",
    "\n",
    "Input: pattern = \"abba\", s = \"dog cat cat dog\"\n",
    "\n",
    "Output: true\n",
    "\n",
    "Explanation:\n",
    "\n",
    "The bijection can be established as:\n",
    "\n",
    "'a' maps to \"dog\".\n",
    "\n",
    "'b' maps to \"cat\".\n",
    "\n",
    "### Example 2:\n",
    "\n",
    "Input: pattern = \"abba\", s = \"dog cat cat fish\"\n",
    "\n",
    "Output: false\n",
    "\n",
    "### Example 3:\n",
    "\n",
    "Input: pattern = \"aaaa\", s = \"dog cat cat dog\"\n",
    "\n",
    "Output: false\n",
    "\n",
    "## Constraints:\n",
    "\n",
    "- 1 <= pattern.length <= 300\n",
    "- pattern contains only lower-case English letters.\n",
    "- 1 <= s.length <= 3000\n",
    "- s contains only lowercase English letters and spaces ' '.\n",
    "- s does not contain any leading or trailing spaces.\n",
    "- All the words in s are separated by a single space."
   ]
  },
  {
   "cell_type": "markdown",
   "metadata": {},
   "source": [
    "## Solution"
   ]
  },
  {
   "cell_type": "code",
   "execution_count": 9,
   "metadata": {},
   "outputs": [],
   "source": [
    "def wordPattern(pattern:str,s:str)->bool:\n",
    "    words = s.split()\n",
    "    chMap = {}\n",
    "    wordMap={}\n",
    "    m,n = len(words),len(pattern)\n",
    "    if m!=n:\n",
    "        return False\n",
    "    else:\n",
    "        for i in range(n):\n",
    "            if pattern[i] not in chMap.keys():\n",
    "                chMap[pattern[i]]=set()\n",
    "            if words[i] not in wordMap.keys():\n",
    "                wordMap[words[i]]=set()\n",
    "            chMap[pattern[i]].add(words[i])\n",
    "            wordMap[words[i]].add(pattern[i])\n",
    "            if len(chMap[pattern[i]])>1 or len(wordMap[words[i]])>1:\n",
    "                return False\n",
    "    return True"
   ]
  },
  {
   "cell_type": "code",
   "execution_count": 12,
   "metadata": {},
   "outputs": [
    {
     "name": "stdout",
     "output_type": "stream",
     "text": [
      "True\n"
     ]
    }
   ],
   "source": [
    "print(wordPattern(\"abba\",\"dog cat cat dog\"))"
   ]
  },
  {
   "cell_type": "code",
   "execution_count": 10,
   "metadata": {},
   "outputs": [
    {
     "name": "stdout",
     "output_type": "stream",
     "text": [
      "False\n"
     ]
    }
   ],
   "source": [
    "print(wordPattern(\"abba\",\"dog cat cat fish\"))"
   ]
  },
  {
   "cell_type": "code",
   "execution_count": 11,
   "metadata": {},
   "outputs": [
    {
     "name": "stdout",
     "output_type": "stream",
     "text": [
      "False\n"
     ]
    }
   ],
   "source": [
    "print(wordPattern(\"aaaa\",\"dog cat cat dog\"))"
   ]
  }
 ],
 "metadata": {
  "kernelspec": {
   "display_name": "base",
   "language": "python",
   "name": "python3"
  },
  "language_info": {
   "codemirror_mode": {
    "name": "ipython",
    "version": 3
   },
   "file_extension": ".py",
   "mimetype": "text/x-python",
   "name": "python",
   "nbconvert_exporter": "python",
   "pygments_lexer": "ipython3",
   "version": "3.12.2"
  }
 },
 "nbformat": 4,
 "nbformat_minor": 2
}
