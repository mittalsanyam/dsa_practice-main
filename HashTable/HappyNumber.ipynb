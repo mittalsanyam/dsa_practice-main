{
 "cells": [
  {
   "cell_type": "markdown",
   "id": "107aa1e3",
   "metadata": {},
   "source": [
    "# 202. Happy Number\n",
    "\n",
    "**Level: Easy**\n",
    "\n",
    "[Problem Link](https://leetcode.com/problems/happy-number/description)\n",
    "\n",
    "Write an algorithm to determine if a number n is happy.\n",
    "\n",
    "A happy number is a number defined by the following process:\n",
    "\n",
    "Starting with any positive integer, replace the number by the sum of the squares of its digits.\n",
    "\n",
    "Repeat the process until the number equals 1 (where it will stay), or it loops endlessly in a cycle which does not include 1.\n",
    "\n",
    "Those numbers for which this process ends in 1 are happy.\n",
    "\n",
    "Return true if n is a happy number, and false if not.\n",
    "\n",
    "## Examples\n",
    "### Example 1:\n",
    "Input: n = 19\n",
    "\n",
    "Output: true\n",
    "\n",
    "Explanation:\n",
    "\n",
    "$1^2 + 9^2 = 82$\n",
    "\n",
    "$8^2 + 2^2 = 68$\n",
    "\n",
    "$6^2 + 8^2 = 100$\n",
    "\n",
    "$1^2 + 0^2 + 0^2 = 1$\n",
    "\n",
    "### Example 2:\n",
    "\n",
    "Input: n = 2\n",
    "\n",
    "Output: false\n",
    "\n",
    "## Constraints:\n",
    "$1 <= n <= 2^{31} - 1$"
   ]
  },
  {
   "cell_type": "markdown",
   "id": "769abe41",
   "metadata": {},
   "source": [
    "## Solution"
   ]
  },
  {
   "cell_type": "code",
   "execution_count": 1,
   "id": "952206e3",
   "metadata": {},
   "outputs": [],
   "source": [
    "def isHappy(n:int)->bool:\n",
    "    def genNext(n:int)->int:\n",
    "        output:int=0\n",
    "        while n>0:\n",
    "            rem = n%10\n",
    "            output+=rem**2\n",
    "            n=n//10\n",
    "        return output\n",
    "    visited:set[int] = set()\n",
    "    while n not in visited:\n",
    "        visited.add(n)\n",
    "        n = genNext(n)\n",
    "        if n==1:\n",
    "            return True\n",
    "    return False"
   ]
  },
  {
   "cell_type": "code",
   "execution_count": 2,
   "id": "fd900931",
   "metadata": {},
   "outputs": [
    {
     "name": "stdout",
     "output_type": "stream",
     "text": [
      "False\n"
     ]
    }
   ],
   "source": [
    "print(isHappy(2))"
   ]
  },
  {
   "cell_type": "code",
   "execution_count": 3,
   "id": "71dce3f6",
   "metadata": {},
   "outputs": [
    {
     "name": "stdout",
     "output_type": "stream",
     "text": [
      "True\n"
     ]
    }
   ],
   "source": [
    "print(isHappy(19))"
   ]
  },
  {
   "cell_type": "code",
   "execution_count": null,
   "id": "fa714f66",
   "metadata": {},
   "outputs": [],
   "source": []
  }
 ],
 "metadata": {
  "kernelspec": {
   "display_name": "base",
   "language": "python",
   "name": "python3"
  },
  "language_info": {
   "codemirror_mode": {
    "name": "ipython",
    "version": 3
   },
   "file_extension": ".py",
   "mimetype": "text/x-python",
   "name": "python",
   "nbconvert_exporter": "python",
   "pygments_lexer": "ipython3",
   "version": "3.12.2"
  }
 },
 "nbformat": 4,
 "nbformat_minor": 5
}
