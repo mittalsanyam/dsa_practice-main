{
 "cells": [
  {
   "cell_type": "markdown",
   "id": "7529206a",
   "metadata": {},
   "source": [
    "# 1282. Group the People Given the Group Size They Belong To\n",
    "**Level: Medium**\n",
    "\n",
    "[Problem Link](https://leetcode.com/problems/group-the-people-given-the-group-size-they-belong-to/description/)\n",
    "\n",
    "There are n people that are split into some unknown number of groups. Each person is labeled with a unique ID from 0 to n - 1.\n",
    "\n",
    "You are given an integer array groupSizes, where groupSizes[i] is the size of the group that person i is in. For example, if groupSizes[1] = 3, then person 1 must be in a group of size 3.\n",
    "\n",
    "Return a list of groups such that each person i is in a group of size groupSizes[i].\n",
    "\n",
    "Each person should appear in exactly one group, and every person must be in a group. If there are multiple answers, return any of them. It is guaranteed that there will be at least one valid solution for the given input.\n",
    "\n",
    "## Examples\n",
    "### Example 1:\n",
    "Input: groupSizes = [3,3,3,3,3,1,3]\n",
    "\n",
    "Output: [[5],[0,1,2],[3,4,6]]\n",
    "\n",
    "Explanation: \n",
    "\n",
    "The first group is [5]. The size is 1, and groupSizes[5] = 1.\n",
    "\n",
    "The second group is [0,1,2]. The size is 3, and groupSizes[0] = groupSizes[1] = groupSizes[2] = 3.\n",
    "\n",
    "The third group is [3,4,6]. The size is 3, and groupSizes[3] = groupSizes[4] = groupSizes[6] = 3.\n",
    "\n",
    "Other possible solutions are [[2,1,6],[5],[0,4,3]] and [[5],[0,6,2],[4,3,1]].\n",
    "\n",
    "### Example 2:\n",
    "Input: groupSizes = [2,1,3,3,3,2]\n",
    "\n",
    "Output: [[1],[0,5],[2,3,4]]\n",
    " \n",
    "## Constraints:\n",
    "- groupSizes.length == n\n",
    "- 1 <= n <= 500\n",
    "- 1 <= groupSizes[i] <= n"
   ]
  },
  {
   "cell_type": "markdown",
   "id": "65efea26",
   "metadata": {},
   "source": [
    "## Solution"
   ]
  },
  {
   "cell_type": "code",
   "execution_count": 19,
   "id": "4a0d221a",
   "metadata": {},
   "outputs": [],
   "source": [
    "def groupThePeople(groupSizes):\n",
    "    index_map = dict()\n",
    "    n = len(groupSizes)\n",
    "    for i in range(n):\n",
    "        if groupSizes[i] not in index_map.keys():\n",
    "            index_map[groupSizes[i]]=[]\n",
    "        index_map[groupSizes[i]].append(i)\n",
    "    res = []\n",
    "    for key in index_map:\n",
    "        num = 0\n",
    "        curr=[]\n",
    "        while len(index_map[key])>0:\n",
    "            idx = index_map[key].pop()\n",
    "            curr.append(idx)\n",
    "            num+=1\n",
    "            if num==key:\n",
    "                num=0\n",
    "                res.append(curr.copy())\n",
    "                curr.clear()    \n",
    "    return res"
   ]
  },
  {
   "cell_type": "code",
   "execution_count": 20,
   "id": "f870635e",
   "metadata": {},
   "outputs": [
    {
     "name": "stdout",
     "output_type": "stream",
     "text": [
      "[[6, 4, 3], [2, 1, 0], [5]]\n"
     ]
    }
   ],
   "source": [
    "print(groupThePeople([3,3,3,3,3,1,3]))"
   ]
  },
  {
   "cell_type": "code",
   "execution_count": 21,
   "id": "0e926d54",
   "metadata": {},
   "outputs": [
    {
     "name": "stdout",
     "output_type": "stream",
     "text": [
      "[[5, 0], [1], [4, 3, 2]]\n"
     ]
    }
   ],
   "source": [
    "print(groupThePeople([2,1,3,3,3,2]))"
   ]
  }
 ],
 "metadata": {
  "kernelspec": {
   "display_name": "base",
   "language": "python",
   "name": "python3"
  },
  "language_info": {
   "codemirror_mode": {
    "name": "ipython",
    "version": 3
   },
   "file_extension": ".py",
   "mimetype": "text/x-python",
   "name": "python",
   "nbconvert_exporter": "python",
   "pygments_lexer": "ipython3",
   "version": "3.12.2"
  }
 },
 "nbformat": 4,
 "nbformat_minor": 5
}
