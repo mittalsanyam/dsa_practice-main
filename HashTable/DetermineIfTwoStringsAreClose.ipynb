{
 "cells": [
  {
   "cell_type": "markdown",
   "metadata": {},
   "source": [
    "# 1657. Determine if Two Strings Are Close\n",
    "\n",
    "**Level: Medium**\n",
    "\n",
    "[Problem Link](https://leetcode.com/problems/determine-if-two-strings-are-close/description/)\n",
    "\n",
    "Two strings are considered close if you can attain one from the other using the following operations:\n",
    "\n",
    "Operation 1: Swap any two existing characters.\n",
    "\n",
    "For example, abcde -> aecdb\n",
    "\n",
    "Operation 2: Transform every occurrence of one existing character into another existing character, and do the same with the other character.\n",
    "\n",
    "For example, aacabb -> bbcbaa (all a's turn into b's, and all b's turn into a's)\n",
    "You can use the operations on either string as many times as necessary.\n",
    "\n",
    "Given two strings, word1 and word2, return true if word1 and word2 are close, and false otherwise.\n",
    "\n",
    "## Examples  \n",
    "\n",
    "### Example 1:\n",
    "\n",
    "Input: word1 = \"abc\", word2 = \"bca\"\n",
    "\n",
    "Output: true\n",
    "\n",
    "Explanation: You can attain word2 from word1 in 2 operations.\n",
    "\n",
    "Apply Operation 1: \"abc\" -> \"acb\"\n",
    "\n",
    "Apply Operation 1: \"acb\" -> \"bca\"\n",
    "\n",
    "### Example 2:\n",
    "\n",
    "Input: word1 = \"a\", word2 = \"aa\"\n",
    "\n",
    "Output: false\n",
    "\n",
    "Explanation: It is impossible to attain word2 from word1, or vice versa, in any number of operations.\n",
    "\n",
    "### Example 3:\n",
    "\n",
    "Input: word1 = \"cabbba\", word2 = \"abbccc\"\n",
    "\n",
    "Output: true\n",
    "\n",
    "Explanation: You can attain word2 from word1 in 3 operations.\n",
    "\n",
    "Apply Operation 1: \"cabbba\" -> \"caabbb\"\n",
    "\n",
    "Apply Operation 2: \"caabbb\" -> \"baaccc\"\n",
    "\n",
    "Apply Operation 2: \"baaccc\" -> \"abbccc\"\n",
    " \n",
    "\n",
    "## Constraints:\n",
    "\n",
    "- $1 <= word1.length, word2.length <= 10^5$\n",
    "- word1 and word2 contain only lowercase English letters."
   ]
  },
  {
   "cell_type": "markdown",
   "metadata": {},
   "source": [
    "## Solution"
   ]
  },
  {
   "cell_type": "code",
   "execution_count": 36,
   "metadata": {},
   "outputs": [
    {
     "name": "stdout",
     "output_type": "stream",
     "text": [
      "True\n"
     ]
    }
   ],
   "source": [
    "def closeStrings(str1,str2):\n",
    "    freq1,freq2=[0]*26,[0]*26\n",
    "    if len(str1)!=len(str2):\n",
    "        return False\n",
    "    for s in str1:\n",
    "        freq1[ord(s)-ord('a')]+=1\n",
    "    for s in str2:\n",
    "        freq2[ord(s)-ord('a')]+=1\n",
    "    for i in range(26):\n",
    "        if freq1[i]==0 and freq2[i]!=0:\n",
    "            return False\n",
    "        if freq2[i]==0 and freq1[i]!=0:\n",
    "            return False\n",
    "    freq1.sort()\n",
    "    freq2.sort()\n",
    "    for i in range(26):\n",
    "        if freq1[i]!=freq2[i]:\n",
    "            return False      \n",
    "    return True\n",
    "\n",
    "\n",
    "print(closeStrings('abc','bca'))"
   ]
  },
  {
   "cell_type": "code",
   "execution_count": 37,
   "metadata": {},
   "outputs": [
    {
     "name": "stdout",
     "output_type": "stream",
     "text": [
      "False\n"
     ]
    }
   ],
   "source": [
    "print(closeStrings('a','aa'))"
   ]
  },
  {
   "cell_type": "code",
   "execution_count": 38,
   "metadata": {},
   "outputs": [
    {
     "name": "stdout",
     "output_type": "stream",
     "text": [
      "True\n"
     ]
    }
   ],
   "source": [
    "print(closeStrings('cabbba','abbccc'))"
   ]
  },
  {
   "cell_type": "code",
   "execution_count": 39,
   "metadata": {},
   "outputs": [
    {
     "name": "stdout",
     "output_type": "stream",
     "text": [
      "False\n"
     ]
    }
   ],
   "source": [
    "print(closeStrings(\"abbzzca\",\"babzzcz\"))"
   ]
  },
  {
   "cell_type": "code",
   "execution_count": 40,
   "metadata": {},
   "outputs": [
    {
     "name": "stdout",
     "output_type": "stream",
     "text": [
      "False\n"
     ]
    }
   ],
   "source": [
    "print(closeStrings(\"aabbbccccdddddddddddd\",\"abbbbbbccccccdddddddd\"))"
   ]
  }
 ],
 "metadata": {
  "kernelspec": {
   "display_name": "base",
   "language": "python",
   "name": "python3"
  },
  "language_info": {
   "codemirror_mode": {
    "name": "ipython",
    "version": 3
   },
   "file_extension": ".py",
   "mimetype": "text/x-python",
   "name": "python",
   "nbconvert_exporter": "python",
   "pygments_lexer": "ipython3",
   "version": "3.12.2"
  }
 },
 "nbformat": 4,
 "nbformat_minor": 2
}
