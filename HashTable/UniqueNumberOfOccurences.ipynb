{
 "cells": [
  {
   "cell_type": "markdown",
   "metadata": {},
   "source": [
    "# 1207. Unique Number of Occurrences\n",
    "\n",
    "**Level: Easy**\n",
    "\n",
    "[Problem Link](https://leetcode.com/problems/unique-number-of-occurrences/description/)\n",
    "\n",
    "Given an array of integers arr, return true if the number of occurrences of each value in the array is unique or false otherwise.\n",
    "\n",
    "## Examples\n",
    "### Example 1:\n",
    "\n",
    "Input: arr = [1,2,2,1,1,3]\n",
    "\n",
    "Output: true\n",
    "\n",
    "Explanation: The value 1 has 3 occurrences, 2 has 2 and 3 has 1. No two values have the same number of occurrences.\n",
    "\n",
    "### Example 2:\n",
    "\n",
    "Input: arr = [1,2]\n",
    "\n",
    "Output: false\n",
    "\n",
    "### Example 3:\n",
    "\n",
    "Input: arr = [-3,0,1,-3,1,1,1,-3,10,0]\n",
    "\n",
    "Output: true\n",
    " \n",
    "Constraints:\n",
    "\n",
    "- $1 <= arr.length <= 1000$\n",
    "- $-1000 <= arr[i] <= 1000$"
   ]
  },
  {
   "cell_type": "markdown",
   "metadata": {},
   "source": [
    "## Solution"
   ]
  },
  {
   "cell_type": "code",
   "execution_count": 6,
   "metadata": {},
   "outputs": [
    {
     "name": "stdout",
     "output_type": "stream",
     "text": [
      "True\n"
     ]
    }
   ],
   "source": [
    "def uniqueOccurrences(arr):\n",
    "    freq={}\n",
    "    n=len(arr)\n",
    "    for i in range(n):\n",
    "        if arr[i] not in freq.keys():\n",
    "            freq[arr[i]]=0\n",
    "        freq[arr[i]]+=1\n",
    "    values_set=set()\n",
    "    key_set=set()\n",
    "    for key in freq.keys():\n",
    "        values_set.add(freq[key])\n",
    "        key_set.add(key)\n",
    "    return len(values_set)==len(key_set)\n",
    "\n",
    "print(uniqueOccurrences([1,2,2,1,1,3]))"
   ]
  },
  {
   "cell_type": "code",
   "execution_count": 7,
   "metadata": {},
   "outputs": [
    {
     "name": "stdout",
     "output_type": "stream",
     "text": [
      "False\n"
     ]
    }
   ],
   "source": [
    "print(uniqueOccurrences([1,2]))"
   ]
  },
  {
   "cell_type": "code",
   "execution_count": 8,
   "metadata": {},
   "outputs": [
    {
     "name": "stdout",
     "output_type": "stream",
     "text": [
      "True\n"
     ]
    }
   ],
   "source": [
    "print(uniqueOccurrences([-3,0,1,-3,1,1,1,-3,10,0]))"
   ]
  },
  {
   "cell_type": "code",
   "execution_count": null,
   "metadata": {},
   "outputs": [],
   "source": []
  }
 ],
 "metadata": {
  "kernelspec": {
   "display_name": "base",
   "language": "python",
   "name": "python3"
  },
  "language_info": {
   "codemirror_mode": {
    "name": "ipython",
    "version": 3
   },
   "file_extension": ".py",
   "mimetype": "text/x-python",
   "name": "python",
   "nbconvert_exporter": "python",
   "pygments_lexer": "ipython3",
   "version": "3.12.2"
  }
 },
 "nbformat": 4,
 "nbformat_minor": 2
}
