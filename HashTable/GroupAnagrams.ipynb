{
 "cells": [
  {
   "cell_type": "markdown",
   "id": "f1820aac",
   "metadata": {},
   "source": [
    "# 49. Group Anagrams\n",
    "**Level: Medium**\n",
    "\n",
    "[Problem Link](https://leetcode.com/problems/group-anagrams/description/)\n",
    "\n",
    "Given an array of strings strs, group the anagrams together. You can return the answer in any order.\n",
    "\n",
    "## Examples \n",
    "\n",
    "### Example 1:\n",
    "\n",
    "Input: strs = [\"eat\",\"tea\",\"tan\",\"ate\",\"nat\",\"bat\"]\n",
    "\n",
    "Output: [[\"bat\"],[\"nat\",\"tan\"],[\"ate\",\"eat\",\"tea\"]]\n",
    "\n",
    "Explanation:\n",
    "\n",
    "There is no string in strs that can be rearranged to form \"bat\".\n",
    "The strings \"nat\" and \"tan\" are anagrams as they can be rearranged to form each other.\n",
    "The strings \"ate\", \"eat\", and \"tea\" are anagrams as they can be rearranged to form each other.\n",
    "\n",
    "### Example 2:\n",
    "\n",
    "Input: strs = [\"\"]\n",
    "\n",
    "Output: [[\"\"]]\n",
    "\n",
    "### Example 3:\n",
    "\n",
    "Input: strs = [\"a\"]\n",
    "\n",
    "Output: [[\"a\"]]\n",
    "\n",
    "## Constraints:\n",
    "- $1 <= strs.length <= 10^4$\n",
    "- $0 <= strs[i].length <= 100$\n",
    "- strs[i] consists of lowercase English letters."
   ]
  },
  {
   "cell_type": "markdown",
   "id": "cf9be992",
   "metadata": {},
   "source": [
    "## Solution"
   ]
  },
  {
   "cell_type": "code",
   "execution_count": 9,
   "id": "8f639cac",
   "metadata": {},
   "outputs": [],
   "source": [
    "def groupAnagrams(strs:list[int])->list[list[str]]:\n",
    "    n = len(strs)\n",
    "    sorted_strs=[]\n",
    "    for i in range(n):\n",
    "        sorted_strs.append(\"\".join(sorted(strs[i])))\n",
    "    sorted_map = {}\n",
    "    for i in range(n):\n",
    "        if sorted_strs[i] not in sorted_map.keys():\n",
    "            sorted_map[sorted_strs[i]]=[]\n",
    "        sorted_map[sorted_strs[i]].append(strs[i])\n",
    "    groups = []\n",
    "    for key in sorted_map.keys():\n",
    "        groups.append(sorted_map[key])\n",
    "    return groups"
   ]
  },
  {
   "cell_type": "code",
   "execution_count": 10,
   "id": "83d6ded1",
   "metadata": {},
   "outputs": [
    {
     "name": "stdout",
     "output_type": "stream",
     "text": [
      "[['eat', 'tea', 'ate'], ['tan', 'nat'], ['bat']]\n"
     ]
    }
   ],
   "source": [
    "print(groupAnagrams([\"eat\",\"tea\",\"tan\",\"ate\",\"nat\",\"bat\"]))"
   ]
  },
  {
   "cell_type": "code",
   "execution_count": 11,
   "id": "71581e2c",
   "metadata": {},
   "outputs": [
    {
     "name": "stdout",
     "output_type": "stream",
     "text": [
      "[['']]\n"
     ]
    }
   ],
   "source": [
    "print(groupAnagrams([\"\"]))"
   ]
  },
  {
   "cell_type": "code",
   "execution_count": 12,
   "id": "2779f31b",
   "metadata": {},
   "outputs": [
    {
     "name": "stdout",
     "output_type": "stream",
     "text": [
      "[['a']]\n"
     ]
    }
   ],
   "source": [
    "print(groupAnagrams([\"a\"]))"
   ]
  }
 ],
 "metadata": {
  "kernelspec": {
   "display_name": "base",
   "language": "python",
   "name": "python3"
  },
  "language_info": {
   "codemirror_mode": {
    "name": "ipython",
    "version": 3
   },
   "file_extension": ".py",
   "mimetype": "text/x-python",
   "name": "python",
   "nbconvert_exporter": "python",
   "pygments_lexer": "ipython3",
   "version": "3.12.2"
  }
 },
 "nbformat": 4,
 "nbformat_minor": 5
}
