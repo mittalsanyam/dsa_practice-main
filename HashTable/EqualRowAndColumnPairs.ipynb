{
 "cells": [
  {
   "cell_type": "markdown",
   "metadata": {},
   "source": [
    "# 2352. Equal Row and Column Pairs\n",
    "\n",
    "**Level: Medium**\n",
    "\n",
    "[Problem Link](https://leetcode.com/problems/equal-row-and-column-pairs/description/)\n",
    "\n",
    "Given a 0-indexed n x n integer matrix grid, return the number of pairs (ri, cj) such that row ri and column cj are equal.\n",
    "\n",
    "A row and column pair is considered equal if they contain the same elements in the same order (i.e., an equal array).\n",
    "\n",
    "## Examples\n",
    "\n",
    "## Example 1\n",
    "Input: grid = [[3,2,1],[1,7,6],[2,7,7]]\n",
    "\n",
    "Output: 1\n",
    "\n",
    "Explanation: There is 1 equal row and column pair:\n",
    "- (Row 2, Column 1): [2,7,7]\n",
    "\n",
    "## Example 2\n",
    "\n",
    "Input: grid = [[3,1,2,2],[1,4,4,5],[2,4,2,2],[2,4,2,2]]\n",
    "\n",
    "Output: 3\n",
    "\n",
    "Explanation: There are 3 equal row and column pairs:\n",
    "- (Row 0, Column 0): [3,1,2,2]\n",
    "- (Row 2, Column 2): [2,4,2,2]\n",
    "- (Row 3, Column 2): [2,4,2,2]\n",
    "\n",
    "Constraints:\n",
    "\n",
    "- n == grid.length == grid[i].length\n",
    "- 1 <= n <= 200\n",
    "- $1 <= grid[i][j] <= 10^5$"
   ]
  },
  {
   "cell_type": "markdown",
   "metadata": {},
   "source": [
    "## Solution"
   ]
  },
  {
   "cell_type": "code",
   "execution_count": 12,
   "metadata": {},
   "outputs": [
    {
     "name": "stdout",
     "output_type": "stream",
     "text": [
      "3\n"
     ]
    }
   ],
   "source": [
    "def equalPairs(grid):\n",
    "    n = len(grid)\n",
    "    transpose = []\n",
    "    for i in range(n):\n",
    "        row = []\n",
    "        for j in range(n):\n",
    "            row.append(grid[j][i])\n",
    "        transpose.append(row)\n",
    "    freq1,freq2={},{}\n",
    "    for i in range(n):\n",
    "        grid[i] = tuple(grid[i])\n",
    "        transpose[i]=tuple(transpose[i])\n",
    "        if grid[i] not in freq1.keys():\n",
    "            freq1[grid[i]]=0\n",
    "        freq1[grid[i]]+=1\n",
    "        if transpose[i] not in freq2.keys():\n",
    "            freq2[transpose[i]]=0\n",
    "        freq2[transpose[i]]+=1\n",
    "    numpairs=0\n",
    "    for i in freq1.keys():\n",
    "        if i in freq2.keys():\n",
    "            numpairs+=(freq1[i]*freq2[i])\n",
    "    return numpairs\n",
    "\n",
    "print(equalPairs([[3,1,2,2],[1,4,4,5],[2,4,2,2],[2,4,2,2]]))"
   ]
  },
  {
   "cell_type": "code",
   "execution_count": 13,
   "metadata": {},
   "outputs": [
    {
     "name": "stdout",
     "output_type": "stream",
     "text": [
      "1\n"
     ]
    }
   ],
   "source": [
    "print(equalPairs([[3,2,1],[1,7,6],[2,7,7]]))"
   ]
  }
 ],
 "metadata": {
  "kernelspec": {
   "display_name": "base",
   "language": "python",
   "name": "python3"
  },
  "language_info": {
   "codemirror_mode": {
    "name": "ipython",
    "version": 3
   },
   "file_extension": ".py",
   "mimetype": "text/x-python",
   "name": "python",
   "nbconvert_exporter": "python",
   "pygments_lexer": "ipython3",
   "version": "3.12.2"
  }
 },
 "nbformat": 4,
 "nbformat_minor": 2
}
