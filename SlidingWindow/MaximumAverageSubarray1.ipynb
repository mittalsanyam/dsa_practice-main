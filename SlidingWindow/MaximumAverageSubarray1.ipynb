{
 "cells": [
  {
   "cell_type": "markdown",
   "metadata": {},
   "source": [
    "# 643. Maximum Average Subarray I\n",
    "\n",
    "**Level: Medium**\n",
    "\n",
    "[Problem Link](https://leetcode.com/problems/maximum-average-subarray-i/description/)\n",
    "\n",
    "You are given an integer array nums consisting of n elements, and an integer k.\n",
    "\n",
    "Find a contiguous subarray whose length is equal to k that has the maximum average value and return this value. Any answer with a calculation error less than 10-5 will be accepted.\n",
    "\n",
    "## Examples\n",
    "\n",
    "### Example 1:\n",
    "\n",
    "Input: nums = [1,12,-5,-6,50,3], k = 4\n",
    "\n",
    "Output: 12.75000\n",
    "\n",
    "Explanation: Maximum average is (12 - 5 - 6 + 50) / 4 = 51 / 4 = 12.75\n",
    "\n",
    "### Example 2:\n",
    "\n",
    "Input: nums = [5], k = 1\n",
    "\n",
    "Output: 5.00000\n",
    " \n",
    "## Constraints:\n",
    "\n",
    "- $n == nums.length$\n",
    "- $1 <= k <= n <= 10^5$\n",
    "- $10^4 <= nums[i] <= 10^4$\n"
   ]
  },
  {
   "cell_type": "markdown",
   "metadata": {},
   "source": [
    "## Solution"
   ]
  },
  {
   "cell_type": "code",
   "execution_count": 18,
   "metadata": {},
   "outputs": [],
   "source": [
    "def findMaxAverage(nums,k):\n",
    "    total=0\n",
    "    n=len(nums)\n",
    "    for i in range(k):\n",
    "        total+=nums[i]\n",
    "    maxAverage=total/k\n",
    "    i=1\n",
    "    while i+k<=n:\n",
    "        total = total+nums[i+k-1]-nums[i-1]\n",
    "        i+=1\n",
    "        average = total/k\n",
    "        if average>maxAverage:\n",
    "            maxAverage=average\n",
    "    return round(maxAverage,5)"
   ]
  },
  {
   "cell_type": "code",
   "execution_count": 19,
   "metadata": {},
   "outputs": [
    {
     "name": "stdout",
     "output_type": "stream",
     "text": [
      "12.75\n"
     ]
    }
   ],
   "source": [
    "print(findMaxAverage([1,12,-5,-6,50,3],4))"
   ]
  },
  {
   "cell_type": "code",
   "execution_count": 20,
   "metadata": {},
   "outputs": [
    {
     "name": "stdout",
     "output_type": "stream",
     "text": [
      "5.0\n"
     ]
    }
   ],
   "source": [
    "print(findMaxAverage([5],1))"
   ]
  }
 ],
 "metadata": {
  "kernelspec": {
   "display_name": "base",
   "language": "python",
   "name": "python3"
  },
  "language_info": {
   "codemirror_mode": {
    "name": "ipython",
    "version": 3
   },
   "file_extension": ".py",
   "mimetype": "text/x-python",
   "name": "python",
   "nbconvert_exporter": "python",
   "pygments_lexer": "ipython3",
   "version": "3.12.2"
  }
 },
 "nbformat": 4,
 "nbformat_minor": 2
}
