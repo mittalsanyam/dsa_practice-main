{
 "cells": [
  {
   "cell_type": "markdown",
   "metadata": {},
   "source": [
    "# 1493. Longest Subarray of 1's After Deleting One Element\n",
    "\n",
    "**Level: Medium**\n",
    "\n",
    "[Problem Link](https://leetcode.com/problems/longest-subarray-of-1s-after-deleting-one-element/description/)\n",
    "\n",
    "Given a binary array `nums`, you should delete one element from it.\n",
    "\n",
    "Return the size of the longest non-empty subarray containing only 1's in the resulting array. Return 0 if there is no such subarray.\n",
    "\n",
    "## Examples\n",
    "\n",
    "### Example 1:\n",
    "\n",
    "Input: nums = [1,1,0,1]\n",
    "\n",
    "Output: 3\n",
    "\n",
    "Explanation: After deleting the number in position 2, [1,1,1] contains 3 numbers with value of 1's.\n",
    "\n",
    "### Example 2:\n",
    "\n",
    "Input: nums = [0,1,1,1,0,1,1,0,1]\n",
    "\n",
    "Output: 5\n",
    "\n",
    "Explanation: After deleting the number in position 4, [0,1,1,1,1,1,0,1] longest subarray with value of 1's is [1,1,1,1,1].\n",
    "\n",
    "### Example 3:\n",
    "\n",
    "Input: nums = [1,1,1]\n",
    "\n",
    "Output: 2\n",
    "\n",
    "Explanation: You must delete one element.\n",
    " \n",
    "\n",
    "## Constraints:\n",
    "\n",
    "- $ 1 <= nums.length <= 10^5 $\n",
    "- nums[i] is either 0 or 1."
   ]
  },
  {
   "cell_type": "markdown",
   "metadata": {},
   "source": [
    "## Solution"
   ]
  },
  {
   "cell_type": "code",
   "execution_count": 5,
   "metadata": {},
   "outputs": [
    {
     "name": "stdout",
     "output_type": "stream",
     "text": [
      "3\n"
     ]
    }
   ],
   "source": [
    "def longestSubarray(nums):\n",
    "    n = len(nums)\n",
    "    z_pos = []\n",
    "    maxLength,length=0,0\n",
    "    zeroseen=False\n",
    "    for i in range(n):\n",
    "        if nums[i]==0:\n",
    "            zeroseen=True\n",
    "            if len(z_pos)>0:\n",
    "                last_0 = z_pos.pop()\n",
    "                length = i - last_0 -1\n",
    "            z_pos.append(i)\n",
    "        else:\n",
    "            length+=1\n",
    "        if maxLength<length:\n",
    "            maxLength=length\n",
    "    if not zeroseen:\n",
    "        maxLength-=1\n",
    "    return maxLength\n",
    "\n",
    "print(longestSubarray([1,1,0,1]))            "
   ]
  },
  {
   "cell_type": "code",
   "execution_count": 6,
   "metadata": {},
   "outputs": [
    {
     "name": "stdout",
     "output_type": "stream",
     "text": [
      "5\n"
     ]
    }
   ],
   "source": [
    "print(longestSubarray([0,1,1,1,0,1,1,0,1]))"
   ]
  },
  {
   "cell_type": "code",
   "execution_count": 7,
   "metadata": {},
   "outputs": [
    {
     "name": "stdout",
     "output_type": "stream",
     "text": [
      "2\n"
     ]
    }
   ],
   "source": [
    "print(longestSubarray([1,1,1]))"
   ]
  }
 ],
 "metadata": {
  "kernelspec": {
   "display_name": "base",
   "language": "python",
   "name": "python3"
  },
  "language_info": {
   "codemirror_mode": {
    "name": "ipython",
    "version": 3
   },
   "file_extension": ".py",
   "mimetype": "text/x-python",
   "name": "python",
   "nbconvert_exporter": "python",
   "pygments_lexer": "ipython3",
   "version": "3.12.2"
  }
 },
 "nbformat": 4,
 "nbformat_minor": 2
}
