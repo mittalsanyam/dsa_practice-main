{
 "cells": [
  {
   "cell_type": "markdown",
   "metadata": {},
   "source": [
    "# 209. Minimum Size Subarray Sum\n",
    "\n",
    "**Level: Medium**\n",
    "\n",
    "[Problem Link](https://leetcode.com/problems/minimum-size-subarray-sum/description/)\n",
    "\n",
    "Given an array of positive integers nums and a positive integer target, return the minimal length of a subarray whose sum is greater than or equal to target. If there is no such subarray, return 0 instead.\n",
    "\n",
    "## Examples\n",
    "### Example 1:\n",
    "Input: target = 7, nums = [2,3,1,2,4,3]\n",
    "\n",
    "Output: 2\n",
    "\n",
    "Explanation: The subarray [4,3] has the minimal length under the problem \n",
    "constraint.\n",
    "\n",
    "### Example 2:\n",
    "\n",
    "Input: target = 4, nums = [1,4,4]\n",
    "\n",
    "Output: 1\n",
    "\n",
    "### Example 3:\n",
    "\n",
    "Input: target = 11, nums = [1,1,1,1,1,1,1,1]\n",
    "\n",
    "Output: 0\n",
    " \n",
    "\n",
    "## Constraints:\n",
    "- $1 <= target <= 10^9$\n",
    "- $1 <= nums.length <= 10^5$\n",
    "- $1 <= nums[i] <= 10^4$"
   ]
  },
  {
   "cell_type": "markdown",
   "metadata": {},
   "source": [
    "## Solution"
   ]
  },
  {
   "cell_type": "code",
   "execution_count": 22,
   "metadata": {},
   "outputs": [],
   "source": [
    "def minSubArrayLen(target,nums):\n",
    "    if sum(nums)<target:\n",
    "        return 0\n",
    "    n=len(nums)\n",
    "    if n==1:\n",
    "        return n\n",
    "    minLength=float('inf')\n",
    "    left=0\n",
    "    right=0\n",
    "    total=0\n",
    "    while right<n:\n",
    "        total+=nums[right]\n",
    "        while left<=right and total>=target:\n",
    "            length = right-left+1\n",
    "            if length<minLength:\n",
    "                minLength=length\n",
    "            total-=nums[left]\n",
    "            left+=1\n",
    "        right+=1\n",
    "    return minLength\n",
    "         "
   ]
  },
  {
   "cell_type": "code",
   "execution_count": 23,
   "metadata": {},
   "outputs": [
    {
     "name": "stdout",
     "output_type": "stream",
     "text": [
      "2\n"
     ]
    }
   ],
   "source": [
    "print(minSubArrayLen(7,[2,3,1,2,4,3]))"
   ]
  },
  {
   "cell_type": "code",
   "execution_count": 24,
   "metadata": {},
   "outputs": [
    {
     "name": "stdout",
     "output_type": "stream",
     "text": [
      "1\n"
     ]
    }
   ],
   "source": [
    "print(minSubArrayLen(4,[1,4,4]))"
   ]
  },
  {
   "cell_type": "code",
   "execution_count": 25,
   "metadata": {},
   "outputs": [
    {
     "name": "stdout",
     "output_type": "stream",
     "text": [
      "0\n"
     ]
    }
   ],
   "source": [
    "print(minSubArrayLen(11,[1,1,1,1,1,1,1,1]))"
   ]
  },
  {
   "cell_type": "code",
   "execution_count": 27,
   "metadata": {},
   "outputs": [
    {
     "name": "stdout",
     "output_type": "stream",
     "text": [
      "1\n"
     ]
    }
   ],
   "source": [
    "print(minSubArrayLen(6,[10,2,3]))"
   ]
  },
  {
   "cell_type": "code",
   "execution_count": null,
   "metadata": {},
   "outputs": [],
   "source": []
  }
 ],
 "metadata": {
  "kernelspec": {
   "display_name": "base",
   "language": "python",
   "name": "python3"
  },
  "language_info": {
   "codemirror_mode": {
    "name": "ipython",
    "version": 3
   },
   "file_extension": ".py",
   "mimetype": "text/x-python",
   "name": "python",
   "nbconvert_exporter": "python",
   "pygments_lexer": "ipython3",
   "version": "3.12.2"
  }
 },
 "nbformat": 4,
 "nbformat_minor": 2
}
