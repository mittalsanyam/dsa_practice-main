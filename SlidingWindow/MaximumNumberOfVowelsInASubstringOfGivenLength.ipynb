{
 "cells": [
  {
   "cell_type": "markdown",
   "metadata": {},
   "source": [
    "# 1456. Maximum Number of Vowels in a Substring of Given Length\n",
    "\n",
    "**Level: Medium**\n",
    "\n",
    "[Problem Link](https://leetcode.com/problems/maximum-number-of-vowels-in-a-substring-of-given-length/description/)\n",
    "\n",
    "Given a string s and an integer k, return the maximum number of vowel letters in any substring of s with length k.\n",
    "\n",
    "Vowel letters in English are 'a', 'e', 'i', 'o', and 'u'.\n",
    "\n",
    "## Example\n",
    "\n",
    "### Example 1:\n",
    "\n",
    "Input: s = \"abciiidef\", k = 3\n",
    "\n",
    "Output: 3\n",
    "\n",
    "Explanation: The substring \"iii\" contains 3 vowel letters.\n",
    "\n",
    "### Example 2:\n",
    "\n",
    "Input: s = \"aeiou\", k = 2\n",
    "\n",
    "Output: 2\n",
    "\n",
    "Explanation: Any substring of length 2 contains 2 vowels.\n",
    "\n",
    "### Example 3:\n",
    "\n",
    "Input: s = \"leetcode\", k = 3\n",
    "\n",
    "Output: 2\n",
    "\n",
    "Explanation: \"lee\", \"eet\" and \"ode\" contain 2 vowels.\n",
    " \n",
    "\n",
    "### Constraints:\n",
    "\n",
    "- $1 <= s.length <= 10^5$\n",
    "- s consists of lowercase English letters.\n",
    "- 1 <= k <= s.length"
   ]
  },
  {
   "cell_type": "markdown",
   "metadata": {},
   "source": [
    "## Solution"
   ]
  },
  {
   "cell_type": "code",
   "execution_count": 1,
   "metadata": {},
   "outputs": [
    {
     "name": "stdout",
     "output_type": "stream",
     "text": [
      "3\n"
     ]
    }
   ],
   "source": [
    "def maxVowels(s,k):\n",
    "    n=len(s)\n",
    "    vowels = set('aeiou')\n",
    "    count=0\n",
    "    for i in range(k):\n",
    "        if s[i] in vowels:\n",
    "            count+=1\n",
    "    maxCount = count\n",
    "    i=1\n",
    "    while i+k<=n:\n",
    "        if s[i-1] in vowels:\n",
    "            count-=1\n",
    "        if s[i+k-1] in vowels:\n",
    "            count+=1\n",
    "        i+=1\n",
    "        if count>maxCount:\n",
    "            maxCount=count\n",
    "    return maxCount\n",
    "\n",
    "print(maxVowels(\"abciiidef\",3))"
   ]
  },
  {
   "cell_type": "code",
   "execution_count": 3,
   "metadata": {},
   "outputs": [
    {
     "name": "stdout",
     "output_type": "stream",
     "text": [
      "2\n"
     ]
    }
   ],
   "source": [
    "print(maxVowels(\"aeiou\",2))"
   ]
  },
  {
   "cell_type": "code",
   "execution_count": 7,
   "metadata": {},
   "outputs": [
    {
     "name": "stdout",
     "output_type": "stream",
     "text": [
      "2\n"
     ]
    }
   ],
   "source": [
    "print(maxVowels(\"leetcode\",3))"
   ]
  }
 ],
 "metadata": {
  "kernelspec": {
   "display_name": "base",
   "language": "python",
   "name": "python3"
  },
  "language_info": {
   "codemirror_mode": {
    "name": "ipython",
    "version": 3
   },
   "file_extension": ".py",
   "mimetype": "text/x-python",
   "name": "python",
   "nbconvert_exporter": "python",
   "pygments_lexer": "ipython3",
   "version": "3.12.2"
  }
 },
 "nbformat": 4,
 "nbformat_minor": 2
}
