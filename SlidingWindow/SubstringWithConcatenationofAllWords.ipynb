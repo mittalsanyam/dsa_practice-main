{
 "cells": [
  {
   "cell_type": "markdown",
   "metadata": {},
   "source": [
    "# 30. Substring with Concatenation of All Words\n",
    "**Level: Hard**\n",
    "\n",
    "[Problem Link](https://leetcode.com/problems/substring-with-concatenation-of-all-words/description/)\n",
    "\n",
    "You are given a string s and an array of strings words. All the strings of words are of the same length.\n",
    "\n",
    "A concatenated string is a string that exactly contains all the strings of any permutation of words concatenated.\n",
    "\n",
    "For example, if words = [\"ab\",\"cd\",\"ef\"], then \"abcdef\", \"abefcd\", \"cdabef\", \"cdefab\", \"efabcd\", and \"efcdab\" are all concatenated strings. \"acdbef\" is not a concatenated string because it is not the concatenation of any permutation of words.\n",
    "\n",
    "Return an array of the starting indices of all the concatenated substrings in s. You can return the answer in any order.\n",
    "\n",
    "## Examples\n",
    "\n",
    "### Example 1:\n",
    "\n",
    "Input: s = \"barfoothefoobarman\", words = [\"foo\",\"bar\"]\n",
    "\n",
    "Output: [0,9]\n",
    "\n",
    "Explanation:\n",
    "\n",
    "The substring starting at 0 is \"barfoo\". It is the concatenation of [\"bar\",\"foo\"] which is a permutation of words.\n",
    "\n",
    "The substring starting at 9 is \"foobar\". It is the concatenation of [\"foo\",\"bar\"] which is a permutation of words.\n",
    "\n",
    "### Example 2:\n",
    "\n",
    "Input: s = \"wordgoodgoodgoodbestword\", words = [\"word\",\"good\",\"best\",\"word\"]\n",
    "\n",
    "Output: []\n",
    "\n",
    "Explanation:\n",
    "\n",
    "There is no concatenated substring.\n",
    "\n",
    "### Example 3:\n",
    "\n",
    "Input: s = \"barfoofoobarthefoobarman\", words = [\"bar\",\"foo\",\"the\"]\n",
    "\n",
    "Output: [6,9,12]\n",
    "\n",
    "Explanation:\n",
    "\n",
    "The substring starting at 6 is \"foobarthe\". It is the concatenation of [\"foo\",\"bar\",\"the\"].\n",
    "\n",
    "The substring starting at 9 is \"barthefoo\". It is the concatenation of [\"bar\",\"the\",\"foo\"].\n",
    "\n",
    "The substring starting at 12 is \"thefoobar\". It is the concatenation of [\"the\",\"foo\",\"bar\"].\n",
    "\n",
    "## Constraints:\n",
    "\n",
    "- $1 <= s.length <= 10^4$\n",
    "- $1 <= words.length <= 5000$\n",
    "- $1 <= words[i].length <= 30$\n",
    "- s and words[i] consist of lowercase English letters."
   ]
  },
  {
   "cell_type": "markdown",
   "metadata": {},
   "source": [
    "## Solution"
   ]
  },
  {
   "cell_type": "code",
   "execution_count": 1,
   "metadata": {},
   "outputs": [],
   "source": [
    "from collections import deque\n",
    "def findSubString(s,words):\n",
    "    map = {}\n",
    "    for word in words:\n",
    "        if word not in map.keys():\n",
    "            map[word]=0\n",
    "        map[word]+=1\n",
    "    n = len(words[0])\n",
    "    indexes=[]\n",
    "    for i in range(n):\n",
    "        start = i\n",
    "        window = {}\n",
    "        words_used = 0\n",
    "        for j in range(i,len(s)-n+1,n):\n",
    "            word = s[j:j+n]\n",
    "            if word not in map.keys():\n",
    "                start = j+n\n",
    "                window={}\n",
    "                words_used=0\n",
    "                continue\n",
    "            words_used+=1\n",
    "            if word not in window.keys():\n",
    "                window[word]=0\n",
    "            window[word]+=1\n",
    "            if word in window.keys():\n",
    "                while window[word]>map[word]:\n",
    "                    window[s[start:start+n]]-=1\n",
    "                    start+=n\n",
    "                    words_used-=1\n",
    "            if words_used==len(words):\n",
    "                indexes.append(start)\n",
    "    return indexes"
   ]
  },
  {
   "cell_type": "code",
   "execution_count": 2,
   "metadata": {},
   "outputs": [
    {
     "name": "stdout",
     "output_type": "stream",
     "text": [
      "[0, 9]\n"
     ]
    }
   ],
   "source": [
    "print(findSubString(\"barfoothefoobarman\",[\"foo\",\"bar\"]))"
   ]
  },
  {
   "cell_type": "code",
   "execution_count": 3,
   "metadata": {},
   "outputs": [
    {
     "name": "stdout",
     "output_type": "stream",
     "text": [
      "[6, 9, 12]\n"
     ]
    }
   ],
   "source": [
    "print(findSubString(\"barfoofoobarthefoobarman\",[\"bar\",\"foo\",\"the\"]))"
   ]
  }
 ],
 "metadata": {
  "kernelspec": {
   "display_name": "base",
   "language": "python",
   "name": "python3"
  },
  "language_info": {
   "codemirror_mode": {
    "name": "ipython",
    "version": 3
   },
   "file_extension": ".py",
   "mimetype": "text/x-python",
   "name": "python",
   "nbconvert_exporter": "python",
   "pygments_lexer": "ipython3",
   "version": "3.12.2"
  }
 },
 "nbformat": 4,
 "nbformat_minor": 2
}
