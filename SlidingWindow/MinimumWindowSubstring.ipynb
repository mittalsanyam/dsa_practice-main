{
 "cells": [
  {
   "cell_type": "markdown",
   "metadata": {},
   "source": [
    "# 76. Minimum Window Substring\n",
    "\n",
    "**Level: Hard**\n",
    "\n",
    "[Problem Link](https://leetcode.com/problems/minimum-window-substring/description/)\n",
    "\n",
    "Given two strings s and t of lengths m and n respectively, return the minimum window \n",
    "substring\n",
    " of s such that every character in t (including duplicates) is included in the window. If there is no such substring, return the empty string \"\".\n",
    "\n",
    "The testcases will be generated such that the answer is unique.\n",
    "\n",
    "### Examples\n",
    "\n",
    "## Example 1:\n",
    "\n",
    "Input: s = \"ADOBECODEBANC\", t = \"ABC\"\n",
    "\n",
    "Output: \"BANC\"\n",
    "\n",
    "Explanation: The minimum window substring \"BANC\" includes 'A', 'B', and 'C' from string t.\n",
    "\n",
    "## Example 2:\n",
    "\n",
    "Input: s = \"a\", t = \"a\"\n",
    "Output: \"a\"\n",
    "Explanation: The entire string s is the minimum window.\n",
    "\n",
    "## Example 3:\n",
    "\n",
    "Input: s = \"a\", t = \"aa\"\n",
    "Output: \"\"\n",
    "Explanation: Both 'a's from t must be included in the window.\n",
    "Since the largest window of s only has one 'a', return empty string.\n",
    " \n",
    "\n",
    "## Constraints:\n",
    "- m == s.length\n",
    "- n == t.length\n",
    "- $1 <= m, n <= 10*5$\n",
    "- s and t consist of uppercase and lowercase English letters."
   ]
  },
  {
   "cell_type": "markdown",
   "metadata": {},
   "source": [
    "## Solution"
   ]
  },
  {
   "cell_type": "code",
   "execution_count": 84,
   "metadata": {},
   "outputs": [],
   "source": [
    "from collections import deque\n",
    "def minWindow(s,t):\n",
    "    m,n = len(s),len(t)\n",
    "    if m<n:\n",
    "        return \"\"\n",
    "    if s==t:\n",
    "        return s\n",
    "    freq = {}\n",
    "    idx = {}\n",
    "    for ch in t:\n",
    "        if ch not in freq.keys():\n",
    "            freq[ch]=0\n",
    "            idx[ch]=deque()\n",
    "        freq[ch]+=1\n",
    "    i=0\n",
    "    count={}\n",
    "    ch_used=0\n",
    "    seen=0\n",
    "    minlength = m+1\n",
    "    res=\"\"\n",
    "    while i<m:\n",
    "        if s[i] in freq.keys():\n",
    "            if s[i] not in count.keys():\n",
    "                count[s[i]]=0\n",
    "            ch_used+=1\n",
    "            seen+=1\n",
    "            idx[s[i]].append(i)\n",
    "            count[s[i]]+=1\n",
    "            while count[s[i]]>freq[s[i]]:\n",
    "                count[s[i]]-=1\n",
    "                seen-=1\n",
    "                idx[s[i]].popleft()\n",
    "        if seen==n:\n",
    "            min_index=m\n",
    "            max_index=0\n",
    "            for key in idx.keys():\n",
    "                if min_index>idx[key][0]:\n",
    "                    min_index=idx[key][0]\n",
    "                if max_index<idx[key][-1]:\n",
    "                    max_index=idx[key][-1]\n",
    "            length = max_index-min_index+1\n",
    "            if length<minlength:\n",
    "                minlength=length\n",
    "                res=s[min_index:max_index+1]\n",
    "        i+=1\n",
    "    return res"
   ]
  },
  {
   "cell_type": "code",
   "execution_count": 85,
   "metadata": {},
   "outputs": [
    {
     "name": "stdout",
     "output_type": "stream",
     "text": [
      "BANC\n"
     ]
    }
   ],
   "source": [
    "print(minWindow(\"ADOBECODEBANC\",\"ABC\"))"
   ]
  },
  {
   "cell_type": "code",
   "execution_count": 86,
   "metadata": {},
   "outputs": [
    {
     "name": "stdout",
     "output_type": "stream",
     "text": [
      "abc\n"
     ]
    }
   ],
   "source": [
    "print(minWindow(\"abc\",\"ac\"))"
   ]
  }
 ],
 "metadata": {
  "kernelspec": {
   "display_name": "base",
   "language": "python",
   "name": "python3"
  },
  "language_info": {
   "codemirror_mode": {
    "name": "ipython",
    "version": 3
   },
   "file_extension": ".py",
   "mimetype": "text/x-python",
   "name": "python",
   "nbconvert_exporter": "python",
   "pygments_lexer": "ipython3",
   "version": "3.12.2"
  }
 },
 "nbformat": 4,
 "nbformat_minor": 2
}
