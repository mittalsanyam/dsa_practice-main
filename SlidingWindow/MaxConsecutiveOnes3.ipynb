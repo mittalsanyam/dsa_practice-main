{
 "cells": [
  {
   "cell_type": "markdown",
   "metadata": {},
   "source": [
    "# 1004. Max Consecutive Ones III\n",
    "\n",
    "**Level: Medium**\n",
    "\n",
    "Given a binary array nums and an integer k, return the maximum number of consecutive 1's in the array if you can flip at most k 0's.\n",
    "\n",
    "## Examples\n",
    "\n",
    "### Example 1:\n",
    "\n",
    "Input: nums = [1,1,1,0,0,0,1,1,1,1,0], k = 2\n",
    "\n",
    "Output: 6\n",
    "\n",
    "Explanation: [1,1,1,0,0,**1**,1,1,1,1,**1**]\n",
    "\n",
    "Bolded numbers were flipped from 0 to 1. The longest subarray is underlined.\n",
    "\n",
    "Example 2:\n",
    "\n",
    "Input: nums = [0,0,1,1,0,0,1,1,1,0,1,1,0,0,0,1,1,1,1], k = 3\n",
    "\n",
    "Output: 10\n",
    "\n",
    "Explanation: [0,0,1,1,**1**,**1**,1,1,1,**1**,1,1,0,0,0,1,1,1,1]\n",
    "\n",
    "Bolded numbers were flipped from 0 to 1. The longest subarray is underlined.\n",
    " \n",
    "\n",
    "Constraints:\n",
    "\n",
    "- 1 <= nums.length <= 10**5\n",
    "- nums[i] is either 0 or 1.\n",
    "- 0 <= k <= nums.length"
   ]
  },
  {
   "cell_type": "markdown",
   "metadata": {},
   "source": [
    "## Solution"
   ]
  },
  {
   "cell_type": "code",
   "execution_count": 59,
   "metadata": {},
   "outputs": [
    {
     "name": "stdout",
     "output_type": "stream",
     "text": [
      "10\n"
     ]
    }
   ],
   "source": [
    "from collections import deque\n",
    "\n",
    "def longestOnes(nums,k):\n",
    "    left,maxLength,zeroCount=0,0,0\n",
    "    n=len(nums)\n",
    "    for right in range(n):\n",
    "        if nums[right]==0:\n",
    "            zeroCount+=1\n",
    "        while zeroCount>k:\n",
    "            if nums[left]==0:\n",
    "                zeroCount-=1\n",
    "            left+=1\n",
    "        maxLength=max(maxLength,right-left+1)\n",
    "    return maxLength\n",
    "    \n",
    "print(longestOnes([0,0,1,1,0,0,1,1,1,0,1,1,0,0,0,1,1,1,1],3))   "
   ]
  },
  {
   "cell_type": "code",
   "execution_count": 60,
   "metadata": {},
   "outputs": [
    {
     "name": "stdout",
     "output_type": "stream",
     "text": [
      "6\n"
     ]
    }
   ],
   "source": [
    "print(longestOnes([1,1,1,0,0,0,1,1,1,1,0],2))"
   ]
  },
  {
   "cell_type": "code",
   "execution_count": 61,
   "metadata": {},
   "outputs": [
    {
     "name": "stdout",
     "output_type": "stream",
     "text": [
      "3\n"
     ]
    }
   ],
   "source": [
    "print(longestOnes([0,0,1,1,1,0,0],0))"
   ]
  }
 ],
 "metadata": {
  "kernelspec": {
   "display_name": "base",
   "language": "python",
   "name": "python3"
  },
  "language_info": {
   "codemirror_mode": {
    "name": "ipython",
    "version": 3
   },
   "file_extension": ".py",
   "mimetype": "text/x-python",
   "name": "python",
   "nbconvert_exporter": "python",
   "pygments_lexer": "ipython3",
   "version": "3.12.2"
  }
 },
 "nbformat": 4,
 "nbformat_minor": 2
}
